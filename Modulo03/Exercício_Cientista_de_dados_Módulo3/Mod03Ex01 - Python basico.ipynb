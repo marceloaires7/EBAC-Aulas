{
 "cells": [
  {
   "cell_type": "markdown",
   "metadata": {},
   "source": [
    "### 01 - Teste de gravidez\n",
    "Escreva uma célula com controle de fluxos que tem como premissa a existência das seguintes variáveis:\n",
    "\n",
    "- ```sexo``` como ```str``` indicando os valores '**M**' para masculino e '**F**' para feminino  \n",
    "- ```beta_hcg``` que indica a quantidade do beta-HCG no sangue em mUI/mL.\n",
    "\n",
    "A sua tarefa é escrever um código que imprima como resultado \"indivíduo do sexo masculino\" quando sexo = 'M', caso sexo = 'F', se o valor de beta-HCG for maior que 5, retorne \"Positivo\" indicando que a paciente está grávida, e retorne \"Negativo\" caso contrário.\n",
    "\n",
    "Não mexa nos valores da variável ```sexo``` nem em ```beta_hcg```, e escreva um código que funcione para quaisquer valores possíveis de ambos: ```sexo``` = '**M**' ou '**F**' e ```beta_hcg``` assumindo valores inteiros positivos."
   ]
  },
  {
   "cell_type": "code",
   "execution_count": 1,
   "metadata": {},
   "outputs": [
    {
     "name": "stdout",
     "output_type": "stream",
     "text": [
      "Qual é o seu sexo? (M ou F)\n",
      "F\n",
      "Quantidade de beta HCG:\n",
      "5.1\n",
      "Parabéns(ou não), você está grávida!\n"
     ]
    }
   ],
   "source": [
    "sexo = input('Qual é o seu sexo? (M ou F)\\n')\n",
    "beta_hcg = float(input('Quantidade de beta HCG:\\n'))\n",
    "\n",
    "# seu código vem abaixo desta linha\n",
    "\n",
    "if (sexo == 'M'):\n",
    "    print('Você é homem, impossível engravidar!')\n",
    "elif (beta_hcg>5):\n",
    "    print('Parabéns(ou não), você está grávida!')\n",
    "else:\n",
    "    print('Infelizmente(ou felizmente), você não está grávida!')"
   ]
  },
  {
   "cell_type": "markdown",
   "metadata": {},
   "source": [
    "### 02 - Renomeando variáveis\n",
    "\n",
    "Vamos ver adiante que uma forma de renomear variáveis de um conjunto de dados é através de dicionários - o dicionário deve conter como chave o nome original, associando a cada chave um único valor (tipo *str*) que contenha o nome novo.\n",
    "\n",
    "A sua tarefa é escrever um dicionário que possa ser utilizado para traduzir as variáveis ```name``` (nome), ```age``` (idade) e ```income``` (renda). Ou seja, esse dicionário deve relacionar as chaves *name, age* e *income* às suas respectivas traduções."
   ]
  },
  {
   "cell_type": "code",
   "execution_count": 2,
   "metadata": {},
   "outputs": [
    {
     "data": {
      "text/plain": [
       "{'name': 'nome', 'age': 'idade', 'income': 'renda'}"
      ]
     },
     "execution_count": 2,
     "metadata": {},
     "output_type": "execute_result"
    }
   ],
   "source": [
    "dic_renomeacao = {'name': 'nome', 'age': 'idade', 'income': 'renda'}\n",
    "dic_renomeacao"
   ]
  },
  {
   "cell_type": "markdown",
   "metadata": {},
   "source": [
    "### 03 - É divisível?\n",
    "A sua tarefa é escrever um código que indique se um número ```N``` é divisível por um número P. Escreva um programa que faça essa verificação para quaisquer combinações de ```N``` e ```M``` e devolva uma mensagem indicativa no output."
   ]
  },
  {
   "cell_type": "code",
   "execution_count": 3,
   "metadata": {},
   "outputs": [
    {
     "name": "stdout",
     "output_type": "stream",
     "text": [
      "Digite um número \"N\":\n",
      "56\n",
      "Digite um número \"M\":\n",
      "6\n",
      "O número \"N\" não é divisível por \"M\".\n",
      "Resultado: 9.33\n"
     ]
    }
   ],
   "source": [
    "N = int(input('Digite um número \"N\":\\n'))\n",
    "M = int(input('Digite um número \"M\":\\n'))\n",
    "Resultado = N/M\n",
    "#Seu código\n",
    "\n",
    "if N % M == 0:\n",
    "    print('O número \"N\" é divisível por \"M\".\\nResultado: {:.2f}'.format(Resultado))\n",
    "else:\n",
    "    print('O número \"N\" não é divisível por \"M\".\\nResultado: {:.2f}'.format(Resultado))"
   ]
  },
  {
   "cell_type": "markdown",
   "metadata": {},
   "source": [
    "### 04 - Números primos\n",
    "> Um número **N** é primo se e somente se é divisível por 1, -1, por **N** e por -**N**.  \n",
    "\n",
    "Escreva um script que verifica se ```N``` é um número primo, verificando se ```N``` é divisível por todos os números de ```1``` a ```N-1```. Você vai precisar usar alguma ferramenta de *loop* que você aprendeu para isto. No final, devolva uma mensagem no output indicando se o número é primo ou não."
   ]
  },
  {
   "cell_type": "code",
   "execution_count": 4,
   "metadata": {},
   "outputs": [
    {
     "name": "stdout",
     "output_type": "stream",
     "text": [
      "Digite um número inteiro positivo:\n",
      "37\n",
      "(é divisível): 37 / 1 = 37.00\n",
      "(não é divisível): 37 / 2 = 18.50\n",
      "(não é divisível): 37 / 3 = 12.33\n",
      "(não é divisível): 37 / 4 = 9.25\n",
      "(não é divisível): 37 / 5 = 7.40\n",
      "(não é divisível): 37 / 6 = 6.17\n",
      "(não é divisível): 37 / 7 = 5.29\n",
      "(não é divisível): 37 / 8 = 4.62\n",
      "(não é divisível): 37 / 9 = 4.11\n",
      "(não é divisível): 37 / 10 = 3.70\n",
      "(não é divisível): 37 / 11 = 3.36\n",
      "(não é divisível): 37 / 12 = 3.08\n",
      "(não é divisível): 37 / 13 = 2.85\n",
      "(não é divisível): 37 / 14 = 2.64\n",
      "(não é divisível): 37 / 15 = 2.47\n",
      "(não é divisível): 37 / 16 = 2.31\n",
      "(não é divisível): 37 / 17 = 2.18\n",
      "(não é divisível): 37 / 18 = 2.06\n",
      "(não é divisível): 37 / 19 = 1.95\n",
      "(não é divisível): 37 / 20 = 1.85\n",
      "(não é divisível): 37 / 21 = 1.76\n",
      "(não é divisível): 37 / 22 = 1.68\n",
      "(não é divisível): 37 / 23 = 1.61\n",
      "(não é divisível): 37 / 24 = 1.54\n",
      "(não é divisível): 37 / 25 = 1.48\n",
      "(não é divisível): 37 / 26 = 1.42\n",
      "(não é divisível): 37 / 27 = 1.37\n",
      "(não é divisível): 37 / 28 = 1.32\n",
      "(não é divisível): 37 / 29 = 1.28\n",
      "(não é divisível): 37 / 30 = 1.23\n",
      "(não é divisível): 37 / 31 = 1.19\n",
      "(não é divisível): 37 / 32 = 1.16\n",
      "(não é divisível): 37 / 33 = 1.12\n",
      "(não é divisível): 37 / 34 = 1.09\n",
      "(não é divisível): 37 / 35 = 1.06\n",
      "(não é divisível): 37 / 36 = 1.03\n",
      "O número 37 é primo!\n"
     ]
    }
   ],
   "source": [
    "N = int(input('Digite um número inteiro positivo:\\n'))\n",
    "\n",
    "# seu código abaixo\n",
    "i = 1\n",
    "primo = 0\n",
    "while (i < N):\n",
    "    if N%i==0:\n",
    "        print('(é divisível): {} / {} = {:.2f}'.format(N,i,(N/i)))\n",
    "        primo += 1\n",
    "    else:\n",
    "        print('(não é divisível): {} / {} = {:.2f}'.format(N,i,(N/i)))\n",
    "    i += 1\n",
    "if primo == 1:\n",
    "    print('O número {} é primo!'.format(N))\n",
    "else:\n",
    "    print('O número {} não é primo!'.format(N))"
   ]
  },
  {
   "cell_type": "markdown",
   "metadata": {},
   "source": [
    "### 05 - Desafio\n",
    "O algorítmo do exercício anterior não é o mais eficiente. O que você pode fazer para deixá-lo mais eficiente? Ou seja, executar menos comparações, portanto consumir menos tempo.\n",
    "1. Será que precisamos correr o loop até o final sempre?\n",
    "2. Será que precisamos mesmo verificar **todos** os números?\n",
    "3. Será que precisamos ir até N-1?\n",
    "\n",
    "Essas perguntas levam ao tipo de pensamento voltado a deixar um algoritmo mais eficiente. Veja se você consegue melhorar o seu."
   ]
  },
  {
   "cell_type": "code",
   "execution_count": 5,
   "metadata": {},
   "outputs": [
    {
     "name": "stdout",
     "output_type": "stream",
     "text": [
      "Digite um número inteiro positivo:\n",
      "12\n",
      "O número 12 não é primo!\n"
     ]
    }
   ],
   "source": [
    "N = int(input('Digite um número inteiro positivo:\\n'))\n",
    "\n",
    "# seu código aqui\n",
    "if N > 0:\n",
    "    i=2\n",
    "    while (N%i != 0 or N < i):\n",
    "        i += 1\n",
    "    if (N>1 and N==i):\n",
    "        print('O número {} é primo!'.format(N))\n",
    "    else:\n",
    "        print('O número {} não é primo!'.format(N))\n",
    "else:\n",
    "    print('Valor inválido!')"
   ]
  },
  {
   "cell_type": "markdown",
   "metadata": {},
   "source": [
    "### 06 - Peso ideal 1\n",
    "O IMC (índice de massa corpórea) é um indicador de saúde mais bem aceito que o peso. Ele é calculado como:\n",
    "\n",
    "$$ IMC = \\dfrac{peso}{altura^2}$$\n",
    "\n",
    "Segundo a OMS, valores *normais* são entre 18.5 e 24.9.\n",
    "\n",
    "Sua tarefa é encontrar o ponto médio dessa faixa."
   ]
  },
  {
   "cell_type": "code",
   "execution_count": 6,
   "metadata": {},
   "outputs": [
    {
     "data": {
      "text/plain": [
       "21.7"
      ]
     },
     "execution_count": 6,
     "metadata": {},
     "output_type": "execute_result"
    }
   ],
   "source": [
    "imc_ideal = (18.5 + 24.9)/2\n",
    "imc_ideal"
   ]
  },
  {
   "cell_type": "markdown",
   "metadata": {},
   "source": [
    "### 07 - Peso ideal 2\n",
    "Recebendo um valor de altura, encontre o peso '*ideal*' dessa pessoa, que fornece o IMC encontrado acima"
   ]
  },
  {
   "cell_type": "code",
   "execution_count": 7,
   "metadata": {},
   "outputs": [
    {
     "name": "stdout",
     "output_type": "stream",
     "text": [
      "Digite sua altura em metros(Ex.: 1.69):\n",
      "1.69\n",
      "Seu peso ideal é de 61.98 Kg\n"
     ]
    }
   ],
   "source": [
    "altura = float(input('Digite sua altura em metros(Ex.: 1.69):\\n'))\n",
    "\n",
    "# Seu código\n",
    "peso_ideal = imc_ideal * altura ** 2\n",
    "print('Seu peso ideal é de {:.2f} Kg'.format(peso_ideal))"
   ]
  },
  {
   "cell_type": "markdown",
   "metadata": {},
   "source": [
    "### 08 - Peso ideal 3\n",
    "Dada uma lista contendo as alturas de pacientes, crie uma nova lista que contenha o peso '*ideal*' (que fornece o IMC calculado em **Peso ideal 1**) desses pacientes."
   ]
  },
  {
   "cell_type": "code",
   "execution_count": 8,
   "metadata": {},
   "outputs": [
    {
     "data": {
      "text/plain": [
       "[82.51, 91.19, 62.71, 59.08]"
      ]
     },
     "execution_count": 8,
     "metadata": {},
     "output_type": "execute_result"
    }
   ],
   "source": [
    "lista_alturas = [1.95, 2.05, 1.70, 1.65]\n",
    "\n",
    "lista_peso_ideal = []\n",
    "\n",
    "# seu código\n",
    "\n",
    "for altura in lista_alturas:\n",
    "    peso_ideal = imc_ideal * altura ** 2\n",
    "    lista_peso_ideal.append(round(peso_ideal,2))\n",
    "\n",
    "lista_peso_ideal"
   ]
  },
  {
   "cell_type": "markdown",
   "metadata": {},
   "source": [
    "### 09 - Peso ideal 4\n",
    "Dada uma lista de tuplas - cada elemento da lista é uma tupla contendo altura e peso de um paciente - crie uma nova lista com o IMC desses pacientes."
   ]
  },
  {
   "cell_type": "code",
   "execution_count": 9,
   "metadata": {},
   "outputs": [
    {
     "data": {
      "text/plain": [
       "[27.78, 27.55, 19.19]"
      ]
     },
     "execution_count": 9,
     "metadata": {},
     "output_type": "execute_result"
    }
   ],
   "source": [
    "altura_peso = [(1.80, 90), (1.65, 75), (1.91, 70)]\n",
    "\n",
    "imc = []\n",
    "\n",
    "# seu código\n",
    "\n",
    "for altura, peso in altura_peso:\n",
    "    imc_temp = peso / altura ** 2\n",
    "    imc.append(round(imc_temp,2))\n",
    "\n",
    "imc"
   ]
  },
  {
   "cell_type": "markdown",
   "metadata": {},
   "source": [
    "### 10 - Peso ideal 5\n",
    "Dada uma lista de **listas** - cada elemento da lista é uma **lista** contendo altura e peso de um paciente, adicione mais um elemento à lista de cada paciente contendo o IMC do paciente. Verifique também se é 'baixo', 'normal' ou 'alto' segundo os padrões da OMS em que normal é entre 18.5 e 24.9.\n",
    "\n",
    "Reflexão: por que no problema anterior temos que criar uma nova lista, e não podemos adicionar os dados de cada indivíduo à tupla?"
   ]
  },
  {
   "cell_type": "code",
   "execution_count": 10,
   "metadata": {},
   "outputs": [
    {
     "data": {
      "text/plain": [
       "[[1.8, 90, 27.78, 'alto'],\n",
       " [1.65, 75, 27.55, 'alto'],\n",
       " [1.91, 70, 19.19, 'normal']]"
      ]
     },
     "execution_count": 10,
     "metadata": {},
     "output_type": "execute_result"
    }
   ],
   "source": [
    "altura_peso = [[1.80, 90], [1.65, 75], [1.91, 70]]\n",
    "\n",
    "# seu código\n",
    "i = 0\n",
    "for altura, peso in altura_peso:\n",
    "    imc = peso / altura ** 2\n",
    "    altura_peso[i].append(round(imc,2))\n",
    "    i += 1\n",
    "\n",
    "n = 0\n",
    "while n != len(altura_peso):\n",
    "    if altura_peso[n][2] < 18.5:\n",
    "        altura_peso[n].append('baixo')\n",
    "    elif (altura_peso[n][2] >= 18.5 and altura_peso[n][2] <= 24.9):\n",
    "        altura_peso[n].append('normal')\n",
    "    else:\n",
    "        altura_peso[n].append('alto')\n",
    "    n += 1\n",
    "altura_peso"
   ]
  }
 ],
 "metadata": {
  "kernelspec": {
   "display_name": "Python 3 (ipykernel)",
   "language": "python",
   "name": "python3"
  },
  "language_info": {
   "codemirror_mode": {
    "name": "ipython",
    "version": 3
   },
   "file_extension": ".py",
   "mimetype": "text/x-python",
   "name": "python",
   "nbconvert_exporter": "python",
   "pygments_lexer": "ipython3",
   "version": "3.10.11"
  }
 },
 "nbformat": 4,
 "nbformat_minor": 4
}
