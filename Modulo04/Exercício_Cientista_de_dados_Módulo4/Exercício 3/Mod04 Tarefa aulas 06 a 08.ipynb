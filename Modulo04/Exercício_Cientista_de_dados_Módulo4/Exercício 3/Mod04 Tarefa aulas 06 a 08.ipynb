{
 "cells": [
  {
   "cell_type": "markdown",
   "metadata": {},
   "source": [
    "# Tarefa 03\n",
    "\n",
    "- Leia os enunciados com atenção\n",
    "- Saiba que pode haver mais de uma resposta correta\n",
    "- Insira novas células de código sempre que achar necessário\n",
    "- Em caso de dúvidas, procure os Tutores\n",
    "- Divirta-se :)"
   ]
  },
  {
   "cell_type": "code",
   "execution_count": 1,
   "metadata": {},
   "outputs": [],
   "source": [
    "import pandas as pd\n",
    "import requests"
   ]
  },
  {
   "cell_type": "markdown",
   "metadata": {},
   "source": [
    "####  1) Lendo de APIs\n",
    "Vimos em aula como carregar dados públicos do governo através de um API (*Application Programming Interface*). No exemplo de aula, baixamos os dados de pedidos de verificação de limites (PVL) realizados por estados, e selecionamos apenas aqueles referentes ao estado de São Paulo.\n",
    "\n",
    "1. Repita os mesmos passos feitos em aula, mas selecione os PVLs realizados por municípios no estado do Rio de Janeiro.\n",
    "2. Quais são os três *status* das solicitações mais frequentes na base? Quais são suas frequências?\n",
    "3. Construa uma nova variável que contenha o ano do **status**. Observe que ```data_status``` vem como tipo *object* no **DataFrame**. Dica: você pode usar o método ```.str``` para transformar o tipo da variável em string, em seguida um método como [**slice()**](https://pandas.pydata.org/docs/reference/api/pandas.Series.str.slice.html) ou [**split()**](https://pandas.pydata.org/pandas-docs/stable/reference/api/pandas.Series.str.split.html).\n",
    "4. Indique a frequência de cada ano do campo construído no item (3)."
   ]
  },
  {
   "cell_type": "code",
   "execution_count": 2,
   "metadata": {},
   "outputs": [
    {
     "data": {
      "text/html": [
       "<div>\n",
       "<style scoped>\n",
       "    .dataframe tbody tr th:only-of-type {\n",
       "        vertical-align: middle;\n",
       "    }\n",
       "\n",
       "    .dataframe tbody tr th {\n",
       "        vertical-align: top;\n",
       "    }\n",
       "\n",
       "    .dataframe thead th {\n",
       "        text-align: right;\n",
       "    }\n",
       "</style>\n",
       "<table border=\"1\" class=\"dataframe\">\n",
       "  <thead>\n",
       "    <tr style=\"text-align: right;\">\n",
       "      <th></th>\n",
       "      <th>id_pleito</th>\n",
       "      <th>tipo_interessado</th>\n",
       "      <th>interessado</th>\n",
       "      <th>cod_ibge</th>\n",
       "      <th>uf</th>\n",
       "      <th>num_pvl</th>\n",
       "      <th>status</th>\n",
       "      <th>num_processo</th>\n",
       "      <th>data_protocolo</th>\n",
       "      <th>tipo_operacao</th>\n",
       "      <th>finalidade</th>\n",
       "      <th>tipo_credor</th>\n",
       "      <th>credor</th>\n",
       "      <th>moeda</th>\n",
       "      <th>valor</th>\n",
       "      <th>pvl_assoc_divida</th>\n",
       "      <th>pvl_contradado_credor</th>\n",
       "      <th>data_status</th>\n",
       "    </tr>\n",
       "  </thead>\n",
       "  <tbody>\n",
       "    <tr>\n",
       "      <th>0</th>\n",
       "      <td>13364</td>\n",
       "      <td>Estado</td>\n",
       "      <td>Rio de Janeiro</td>\n",
       "      <td>33</td>\n",
       "      <td>RJ</td>\n",
       "      <td>None</td>\n",
       "      <td>Encaminhado à PGFN com manifestação técnica fa...</td>\n",
       "      <td>17944.002059/2008-41</td>\n",
       "      <td>2009-05-14T03:00:00Z</td>\n",
       "      <td>Operação contratual externa (com garantia da U...</td>\n",
       "      <td>Infraestrutura</td>\n",
       "      <td>Instituição Financeira Internacional</td>\n",
       "      <td>Banco Internacional para Reconstrução e Desenv...</td>\n",
       "      <td>Dólar dos EUA</td>\n",
       "      <td>2.117000e+08</td>\n",
       "      <td>1</td>\n",
       "      <td>0</td>\n",
       "      <td>22/05/2009</td>\n",
       "    </tr>\n",
       "    <tr>\n",
       "      <th>1</th>\n",
       "      <td>13560</td>\n",
       "      <td>Estado</td>\n",
       "      <td>Rio de Janeiro</td>\n",
       "      <td>33</td>\n",
       "      <td>RJ</td>\n",
       "      <td>None</td>\n",
       "      <td>Deferido</td>\n",
       "      <td>19405.000026/2002-01</td>\n",
       "      <td>2002-06-25T03:00:00Z</td>\n",
       "      <td>Operação contratual interna</td>\n",
       "      <td>Infraestrutura</td>\n",
       "      <td>Instituição Financeira Nacional</td>\n",
       "      <td>Banco Nacional de Desenvolvimento Econômico e ...</td>\n",
       "      <td>Real</td>\n",
       "      <td>4.994200e+04</td>\n",
       "      <td>1</td>\n",
       "      <td>0</td>\n",
       "      <td>27/06/2002</td>\n",
       "    </tr>\n",
       "    <tr>\n",
       "      <th>2</th>\n",
       "      <td>10561</td>\n",
       "      <td>Estado</td>\n",
       "      <td>Rio de Janeiro</td>\n",
       "      <td>33</td>\n",
       "      <td>RJ</td>\n",
       "      <td>None</td>\n",
       "      <td>Encaminhado à PGFN com manifestação técnica fa...</td>\n",
       "      <td>17944.001228/2011-21</td>\n",
       "      <td>2012-04-18T03:00:00Z</td>\n",
       "      <td>Operação contratual interna (com garantia da U...</td>\n",
       "      <td>PAC 2 - Saneamento</td>\n",
       "      <td>Instituição Financeira Nacional</td>\n",
       "      <td>Caixa Econômica Federal</td>\n",
       "      <td>Real</td>\n",
       "      <td>4.153722e+08</td>\n",
       "      <td>1</td>\n",
       "      <td>0</td>\n",
       "      <td>02/07/2012</td>\n",
       "    </tr>\n",
       "    <tr>\n",
       "      <th>3</th>\n",
       "      <td>13634</td>\n",
       "      <td>Estado</td>\n",
       "      <td>Rio de Janeiro</td>\n",
       "      <td>33</td>\n",
       "      <td>RJ</td>\n",
       "      <td>None</td>\n",
       "      <td>Deferido</td>\n",
       "      <td>19405.000041/2002-41</td>\n",
       "      <td>2002-06-20T03:00:00Z</td>\n",
       "      <td>Operação contratual interna</td>\n",
       "      <td>Aquisição de máquinas, equipamentos e veículos</td>\n",
       "      <td>Instituição Financeira Nacional</td>\n",
       "      <td>Banco Nacional de Desenvolvimento Econômico e ...</td>\n",
       "      <td>Real</td>\n",
       "      <td>6.015955e+07</td>\n",
       "      <td>0</td>\n",
       "      <td>0</td>\n",
       "      <td>27/06/2002</td>\n",
       "    </tr>\n",
       "    <tr>\n",
       "      <th>4</th>\n",
       "      <td>7150</td>\n",
       "      <td>Estado</td>\n",
       "      <td>Rio de Janeiro</td>\n",
       "      <td>33</td>\n",
       "      <td>RJ</td>\n",
       "      <td>None</td>\n",
       "      <td>Encaminhado à PGFN com manifestação técnica fa...</td>\n",
       "      <td>17944.000508/2012-01</td>\n",
       "      <td>2013-03-04T03:00:00Z</td>\n",
       "      <td>Operação contratual externa (com garantia da U...</td>\n",
       "      <td>Desenvolvimento rural</td>\n",
       "      <td>Instituição Financeira Internacional</td>\n",
       "      <td>Banco Internacional para Reconstrução e Desenv...</td>\n",
       "      <td>Dólar dos EUA</td>\n",
       "      <td>1.000000e+08</td>\n",
       "      <td>1</td>\n",
       "      <td>0</td>\n",
       "      <td>28/03/2013</td>\n",
       "    </tr>\n",
       "  </tbody>\n",
       "</table>\n",
       "</div>"
      ],
      "text/plain": [
       "   id_pleito tipo_interessado     interessado  cod_ibge  uf num_pvl  \\\n",
       "0      13364           Estado  Rio de Janeiro        33  RJ    None   \n",
       "1      13560           Estado  Rio de Janeiro        33  RJ    None   \n",
       "2      10561           Estado  Rio de Janeiro        33  RJ    None   \n",
       "3      13634           Estado  Rio de Janeiro        33  RJ    None   \n",
       "4       7150           Estado  Rio de Janeiro        33  RJ    None   \n",
       "\n",
       "                                              status          num_processo  \\\n",
       "0  Encaminhado à PGFN com manifestação técnica fa...  17944.002059/2008-41   \n",
       "1                                           Deferido  19405.000026/2002-01   \n",
       "2  Encaminhado à PGFN com manifestação técnica fa...  17944.001228/2011-21   \n",
       "3                                           Deferido  19405.000041/2002-41   \n",
       "4  Encaminhado à PGFN com manifestação técnica fa...  17944.000508/2012-01   \n",
       "\n",
       "         data_protocolo                                      tipo_operacao  \\\n",
       "0  2009-05-14T03:00:00Z  Operação contratual externa (com garantia da U...   \n",
       "1  2002-06-25T03:00:00Z                        Operação contratual interna   \n",
       "2  2012-04-18T03:00:00Z  Operação contratual interna (com garantia da U...   \n",
       "3  2002-06-20T03:00:00Z                        Operação contratual interna   \n",
       "4  2013-03-04T03:00:00Z  Operação contratual externa (com garantia da U...   \n",
       "\n",
       "                                       finalidade  \\\n",
       "0                                  Infraestrutura   \n",
       "1                                  Infraestrutura   \n",
       "2                              PAC 2 - Saneamento   \n",
       "3  Aquisição de máquinas, equipamentos e veículos   \n",
       "4                           Desenvolvimento rural   \n",
       "\n",
       "                            tipo_credor  \\\n",
       "0  Instituição Financeira Internacional   \n",
       "1       Instituição Financeira Nacional   \n",
       "2       Instituição Financeira Nacional   \n",
       "3       Instituição Financeira Nacional   \n",
       "4  Instituição Financeira Internacional   \n",
       "\n",
       "                                              credor          moeda  \\\n",
       "0  Banco Internacional para Reconstrução e Desenv...  Dólar dos EUA   \n",
       "1  Banco Nacional de Desenvolvimento Econômico e ...           Real   \n",
       "2                            Caixa Econômica Federal           Real   \n",
       "3  Banco Nacional de Desenvolvimento Econômico e ...           Real   \n",
       "4  Banco Internacional para Reconstrução e Desenv...  Dólar dos EUA   \n",
       "\n",
       "          valor  pvl_assoc_divida  pvl_contradado_credor data_status  \n",
       "0  2.117000e+08                 1                      0  22/05/2009  \n",
       "1  4.994200e+04                 1                      0  27/06/2002  \n",
       "2  4.153722e+08                 1                      0  02/07/2012  \n",
       "3  6.015955e+07                 0                      0  27/06/2002  \n",
       "4  1.000000e+08                 1                      0  28/03/2013  "
      ]
     },
     "execution_count": 2,
     "metadata": {},
     "output_type": "execute_result"
    }
   ],
   "source": [
    "# 1) Rio de Janeiro\n",
    "url = 'https://apidatalake.tesouro.gov.br/ords/sadipem/tt/pvl?uf=RJ&tipo_interessado=Estado'\n",
    "r = requests.get(url)\n",
    "data = r.json()\n",
    "df = pd.DataFrame(data['items'])\n",
    "df.head()"
   ]
  },
  {
   "cell_type": "code",
   "execution_count": 3,
   "metadata": {},
   "outputs": [
    {
     "data": {
      "text/plain": [
       "Encaminhado à PGFN com manifestação técnica favorável    34\n",
       "Deferido                                                 14\n",
       "Arquivado a pedido                                        3\n",
       "Name: status, dtype: int64"
      ]
     },
     "execution_count": 3,
     "metadata": {},
     "output_type": "execute_result"
    }
   ],
   "source": [
    "# 2) Quais são os três status das solicitações mais frequentes na base? Quais são suas frequências?\n",
    "df['status'].value_counts().head(3)"
   ]
  },
  {
   "cell_type": "code",
   "execution_count": 4,
   "metadata": {
    "scrolled": true
   },
   "outputs": [
    {
     "name": "stdout",
     "output_type": "stream",
     "text": [
      "Index(['id_pleito', 'tipo_interessado', 'interessado', 'cod_ibge', 'uf',\n",
      "       'num_pvl', 'status', 'num_processo', 'data_protocolo', 'tipo_operacao',\n",
      "       'finalidade', 'tipo_credor', 'credor', 'moeda', 'valor',\n",
      "       'pvl_assoc_divida', 'pvl_contradado_credor', 'data_status',\n",
      "       'ano_status'],\n",
      "      dtype='object')\n",
      "\n",
      "2012    11\n",
      "2009     9\n",
      "2013     7\n",
      "2011     6\n",
      "2002     4\n",
      "2016     4\n",
      "2014     4\n",
      "2010     3\n",
      "2006     2\n",
      "2008     2\n",
      "Name: ano_status, dtype: int64\n"
     ]
    }
   ],
   "source": [
    "# 3) Construa uma nova variável que contenha o ano do status.\n",
    "df['data_status'] = pd.to_datetime(df['data_status'], format='%d/%m/%Y')\n",
    "df['ano_status'] = df['data_status'].dt.year\n",
    "print(df.columns)\n",
    "\n",
    "# 4) Indique a frequência de cada ano do campo construído no item (3).\n",
    "print(f\"\\n{df['ano_status'].value_counts()}\")"
   ]
  },
  {
   "cell_type": "markdown",
   "metadata": {},
   "source": [
    "####  2) Melhorando a interação com o API\n",
    "Observe dois URLs de consultas diferentes, por exemplo o URL utilizado em aula, e o URL feito no exercício anterior. Compare-os e observe as diferenças.\n",
    "\n",
    "1. Faça uma função em Python que recebe como argumento o UF da consulta e o tipo de interessado (```'Estado'```ou ```Município```), e que devolve os dados da consulta no formato *DataFrame*.\n",
    "2. Quantas solicitações para o Estado podem ser consultadas para Minas Gerais com *status* em 'Arquivado por decurso de prazo' estão registradas?\n",
    "3. Qual é o município da Bahia com mais solicitações deferidas?\n",
    "4. Salve um arquivo .csv com os dados de solicitações da Bahia, com interessado = 'Estado'"
   ]
  },
  {
   "cell_type": "code",
   "execution_count": 5,
   "metadata": {},
   "outputs": [],
   "source": [
    "#1) Faça uma função em Python que recebe como argumento o UF da consulta e o tipo de interessado ('Estado'ou Município),\n",
    "#   e que devolve os dados da consulta no formato DataFrame.\n",
    "\n",
    "def consulta_UF (nome_UF,estado_ou_municipio):\n",
    "    url = f'https://apidatalake.tesouro.gov.br/ords/sadipem/tt/pvl?uf={nome_UF}&tipo_interessado={estado_ou_municipio}'\n",
    "    r = requests.get(url)\n",
    "    data = r.json()['items']\n",
    "    df = pd.DataFrame(data)\n",
    "    return df"
   ]
  },
  {
   "cell_type": "code",
   "execution_count": 6,
   "metadata": {
    "scrolled": true
   },
   "outputs": [
    {
     "name": "stdout",
     "output_type": "stream",
     "text": [
      "Consulta SP Município:\n",
      "interessado            status  \n",
      "Mogi das Cruzes        Deferido    31\n",
      "São José do Rio Preto  Deferido    30\n",
      "Guarulhos              Deferido    24\n",
      "São Bernardo do Campo  Deferido    22\n",
      "Atibaia                Deferido    21\n",
      "dtype: int64\n",
      "\n",
      "Consulta RJ Estado:\n",
      "interessado     status                                               \n",
      "Rio de Janeiro  Encaminhado à PGFN com manifestação técnica favorável    34\n",
      "                Deferido                                                 14\n",
      "                Arquivado a pedido                                        3\n",
      "                Arquivado por decurso de prazo                            1\n",
      "dtype: int64\n",
      "\n",
      "Consulta DF:\n",
      "interessado       status                                               \n",
      "Distrito Federal  Deferido                                                 30\n",
      "                  Encaminhado à PGFN com manifestação técnica favorável    11\n",
      "                  Arquivado a pedido                                        5\n",
      "                  Arquivado por decurso de prazo                            2\n",
      "                  Indeferido                                                2\n",
      "dtype: int64\n",
      "\n"
     ]
    }
   ],
   "source": [
    "# 1)\n",
    "\n",
    "consulta_SP_municipio = consulta_UF('SP','Município')\n",
    "consulta_RJ = consulta_UF('RJ','Estado')\n",
    "consulta_DF = consulta_UF('DF','Estado')\n",
    "\n",
    "print(f\"Consulta SP Município:\\n{consulta_SP_municipio[['interessado','status']].value_counts().head()}\\n\")\n",
    "print(f\"Consulta RJ Estado:\\n{consulta_RJ[['interessado','status']].value_counts().head()}\\n\")\n",
    "print(f\"Consulta DF:\\n{consulta_DF[['interessado','status']].value_counts().head()}\\n\")"
   ]
  },
  {
   "cell_type": "code",
   "execution_count": 7,
   "metadata": {},
   "outputs": [
    {
     "data": {
      "text/plain": [
       "Encaminhado à PGFN com manifestação técnica favorável    20\n",
       "Deferido                                                  7\n",
       "Arquivado a pedido                                        5\n",
       "Arquivado                                                 3\n",
       "Arquivado pela STN                                        3\n",
       "Indeferido                                                1\n",
       "Arquivado por decurso de prazo                            1\n",
       "Name: status, dtype: int64"
      ]
     },
     "execution_count": 7,
     "metadata": {},
     "output_type": "execute_result"
    }
   ],
   "source": [
    "# 2) Quantas solicitações para o Estado podem ser consultadas para Minas Gerais com status em\n",
    "#    'Arquivado por decurso de prazo' estão registradas?\n",
    "\n",
    "consulta_MG = consulta_UF('MG','Estado')\n",
    "consulta_MG['status'].value_counts()"
   ]
  },
  {
   "cell_type": "code",
   "execution_count": 8,
   "metadata": {},
   "outputs": [
    {
     "name": "stdout",
     "output_type": "stream",
     "text": [
      "interessado             status  \n",
      "Luís Eduardo Magalhães  Deferido    15\n",
      "Vitória da Conquista    Deferido    11\n",
      "Camaçari                Deferido    10\n",
      "Barreiras               Deferido    10\n",
      "Lauro de Freitas        Deferido    10\n",
      "dtype: int64\n",
      "\n",
      "Municípico com mais solicitações deferidas: *Luís Eduardo Magalhães*\n"
     ]
    }
   ],
   "source": [
    "# 3) Qual é o município da Bahia com mais solicitações deferidas?\n",
    "\n",
    "consulta_BA_municipio = consulta_UF('BA','Município')\n",
    "a = consulta_BA_municipio[consulta_BA_municipio['status'] == 'Deferido'][['interessado','status']]\n",
    "print(f\"{a.value_counts().head()}\\n\\nMunicípico com mais solicitações deferidas: *{a['interessado'].value_counts().index[0]}*\")"
   ]
  },
  {
   "cell_type": "code",
   "execution_count": 9,
   "metadata": {},
   "outputs": [],
   "source": [
    "# 4) Salve um arquivo .csv com os dados de solicitações da Bahia, com interessado = 'Estado'\n",
    "\n",
    "consulta_BA = consulta_UF('BA', 'Estado')\n",
    "consulta_BA.to_csv('consulta_BA.csv', index=False)"
   ]
  }
 ],
 "metadata": {
  "kernelspec": {
   "display_name": "Python 3 (ipykernel)",
   "language": "python",
   "name": "python3"
  },
  "language_info": {
   "codemirror_mode": {
    "name": "ipython",
    "version": 3
   },
   "file_extension": ".py",
   "mimetype": "text/x-python",
   "name": "python",
   "nbconvert_exporter": "python",
   "pygments_lexer": "ipython3",
   "version": "3.10.11"
  }
 },
 "nbformat": 4,
 "nbformat_minor": 4
}
