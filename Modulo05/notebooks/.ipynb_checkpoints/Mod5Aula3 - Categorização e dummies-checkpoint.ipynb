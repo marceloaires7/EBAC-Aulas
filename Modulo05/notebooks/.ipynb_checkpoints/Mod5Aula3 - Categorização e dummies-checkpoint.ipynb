{
 "cells": [
  {
   "cell_type": "markdown",
   "metadata": {},
   "source": [
    "# Índice <a name=\"Contents\"></a>\n",
    "1. [Importando bibliotecas](#import)\n",
    "2. [Construindo o dataframe](#read)\n",
    "3. [Categorização](#categorizacao)\n",
    "3. [Construindo dummies](#dummies)\n"
   ]
  },
  {
   "cell_type": "markdown",
   "metadata": {},
   "source": [
    "# 1. Importando bibliotecas <a name=\"import\"></a>\n",
    "\n",
    "<div style=\"text-align: right\"\n",
    "     \n",
    "[Voltar ao índice](#Contents)"
   ]
  },
  {
   "cell_type": "code",
   "execution_count": 1,
   "metadata": {
    "ExecuteTime": {
     "end_time": "2021-06-07T01:54:37.138419Z",
     "start_time": "2021-06-07T01:54:36.750907Z"
    }
   },
   "outputs": [],
   "source": [
    "import pandas as pd\n",
    "import numpy  as np"
   ]
  },
  {
   "cell_type": "markdown",
   "metadata": {},
   "source": [
    "# 2. Construindo o dataframe <a name=\"read\"></a>\n",
    "<div style=\"text-align: right\"\n",
    "     \n",
    "[Voltar ao índice](#Contents)"
   ]
  },
  {
   "cell_type": "code",
   "execution_count": 2,
   "metadata": {
    "ExecuteTime": {
     "end_time": "2021-06-07T01:42:33.201428Z",
     "start_time": "2021-06-07T01:42:33.006538Z"
    }
   },
   "outputs": [
    {
     "data": {
      "text/html": [
       "<div>\n",
       "<style scoped>\n",
       "    .dataframe tbody tr th:only-of-type {\n",
       "        vertical-align: middle;\n",
       "    }\n",
       "\n",
       "    .dataframe tbody tr th {\n",
       "        vertical-align: top;\n",
       "    }\n",
       "\n",
       "    .dataframe thead th {\n",
       "        text-align: right;\n",
       "    }\n",
       "</style>\n",
       "<table border=\"1\" class=\"dataframe\">\n",
       "  <thead>\n",
       "    <tr style=\"text-align: right;\">\n",
       "      <th></th>\n",
       "      <th>nome</th>\n",
       "      <th>imc</th>\n",
       "    </tr>\n",
       "  </thead>\n",
       "  <tbody>\n",
       "    <tr>\n",
       "      <th>0</th>\n",
       "      <td>Fernando</td>\n",
       "      <td>27.0</td>\n",
       "    </tr>\n",
       "    <tr>\n",
       "      <th>1</th>\n",
       "      <td>Maria</td>\n",
       "      <td>26.0</td>\n",
       "    </tr>\n",
       "    <tr>\n",
       "      <th>2</th>\n",
       "      <td>Felipe</td>\n",
       "      <td>25.0</td>\n",
       "    </tr>\n",
       "    <tr>\n",
       "      <th>3</th>\n",
       "      <td>Pedro</td>\n",
       "      <td>16.0</td>\n",
       "    </tr>\n",
       "    <tr>\n",
       "      <th>4</th>\n",
       "      <td>Bianca</td>\n",
       "      <td>16.7</td>\n",
       "    </tr>\n",
       "    <tr>\n",
       "      <th>5</th>\n",
       "      <td>Beatriz</td>\n",
       "      <td>17.5</td>\n",
       "    </tr>\n",
       "    <tr>\n",
       "      <th>6</th>\n",
       "      <td>Patricia</td>\n",
       "      <td>18.6</td>\n",
       "    </tr>\n",
       "    <tr>\n",
       "      <th>7</th>\n",
       "      <td>Lucia</td>\n",
       "      <td>24.0</td>\n",
       "    </tr>\n",
       "  </tbody>\n",
       "</table>\n",
       "</div>"
      ],
      "text/plain": [
       "       nome   imc\n",
       "0  Fernando  27.0\n",
       "1     Maria  26.0\n",
       "2    Felipe  25.0\n",
       "3     Pedro  16.0\n",
       "4    Bianca  16.7\n",
       "5   Beatriz  17.5\n",
       "6  Patricia  18.6\n",
       "7     Lucia  24.0"
      ]
     },
     "execution_count": 2,
     "metadata": {},
     "output_type": "execute_result"
    }
   ],
   "source": [
    "df_imc = pd.DataFrame({\n",
    "    'nome': [\n",
    "        'Fernando', 'Maria', 'Felipe', 'Pedro', 'Bianca',\n",
    "        'Beatriz', 'Patricia', 'Lucia'\n",
    "    ],\n",
    "    'imc': [27, 26, 25, 16, 16.7, 17.5, 18.6, 24]\n",
    "})\n",
    "df_imc"
   ]
  },
  {
   "cell_type": "markdown",
   "metadata": {},
   "source": [
    "# 3. Categorização <a name=\"categorizacao\"></a>\n",
    "<div style=\"text-align: right\"\n",
    "     \n",
    "[Voltar ao índice](#Contents)"
   ]
  },
  {
   "cell_type": "markdown",
   "metadata": {},
   "source": [
    "É transformar os dados numéricos em categorias, exemplo:\n",
    "- Clientes de bancos categorizados a partir do valor investido no banco: Diamante, Platina, Ouro\n",
    "- Classe social baseada na renda familiar: A, B, C, D e E\n",
    "- Empresas categorizadas a partir do seu valor de mercado: Micro caps, small caps, mid caps e large caps\n",
    "- Pessoas categorizadas a partir do seu IMC: Abaixo do peso, normal, acima, obesidade e etc."
   ]
  },
  {
   "cell_type": "code",
   "execution_count": null,
   "metadata": {},
   "outputs": [],
   "source": []
  },
  {
   "cell_type": "code",
   "execution_count": 3,
   "metadata": {
    "ExecuteTime": {
     "end_time": "2021-06-07T01:31:51.902858Z",
     "start_time": "2021-06-07T01:31:51.884855Z"
    }
   },
   "outputs": [
    {
     "data": {
      "text/html": [
       "<div>\n",
       "<style scoped>\n",
       "    .dataframe tbody tr th:only-of-type {\n",
       "        vertical-align: middle;\n",
       "    }\n",
       "\n",
       "    .dataframe tbody tr th {\n",
       "        vertical-align: top;\n",
       "    }\n",
       "\n",
       "    .dataframe thead th {\n",
       "        text-align: right;\n",
       "    }\n",
       "</style>\n",
       "<table border=\"1\" class=\"dataframe\">\n",
       "  <thead>\n",
       "    <tr style=\"text-align: right;\">\n",
       "      <th></th>\n",
       "      <th>nome</th>\n",
       "      <th>imc</th>\n",
       "    </tr>\n",
       "  </thead>\n",
       "  <tbody>\n",
       "    <tr>\n",
       "      <th>0</th>\n",
       "      <td>Fernando</td>\n",
       "      <td>27.0</td>\n",
       "    </tr>\n",
       "    <tr>\n",
       "      <th>1</th>\n",
       "      <td>Maria</td>\n",
       "      <td>26.0</td>\n",
       "    </tr>\n",
       "    <tr>\n",
       "      <th>2</th>\n",
       "      <td>Felipe</td>\n",
       "      <td>25.0</td>\n",
       "    </tr>\n",
       "    <tr>\n",
       "      <th>3</th>\n",
       "      <td>Pedro</td>\n",
       "      <td>16.0</td>\n",
       "    </tr>\n",
       "    <tr>\n",
       "      <th>4</th>\n",
       "      <td>Bianca</td>\n",
       "      <td>16.7</td>\n",
       "    </tr>\n",
       "    <tr>\n",
       "      <th>5</th>\n",
       "      <td>Beatriz</td>\n",
       "      <td>17.5</td>\n",
       "    </tr>\n",
       "    <tr>\n",
       "      <th>6</th>\n",
       "      <td>Patricia</td>\n",
       "      <td>18.6</td>\n",
       "    </tr>\n",
       "    <tr>\n",
       "      <th>7</th>\n",
       "      <td>Lucia</td>\n",
       "      <td>24.0</td>\n",
       "    </tr>\n",
       "  </tbody>\n",
       "</table>\n",
       "</div>"
      ],
      "text/plain": [
       "       nome   imc\n",
       "0  Fernando  27.0\n",
       "1     Maria  26.0\n",
       "2    Felipe  25.0\n",
       "3     Pedro  16.0\n",
       "4    Bianca  16.7\n",
       "5   Beatriz  17.5\n",
       "6  Patricia  18.6\n",
       "7     Lucia  24.0"
      ]
     },
     "execution_count": 3,
     "metadata": {},
     "output_type": "execute_result"
    }
   ],
   "source": [
    "df_imc"
   ]
  },
  {
   "cell_type": "markdown",
   "metadata": {},
   "source": [
    "## Nas faixas da OMS"
   ]
  },
  {
   "cell_type": "markdown",
   "metadata": {},
   "source": [
    "- Muito abaixo do peso: 16 a 16,9 kg/m2\n",
    "- Abaixo do peso: 17 a 18,4 kg/m2\n",
    "- Peso normal: 18,5 a 24,9 kg/m2\n",
    "- Acima do peso: 25 a 29,9 kg/m2"
   ]
  },
  {
   "cell_type": "code",
   "execution_count": 4,
   "metadata": {
    "ExecuteTime": {
     "end_time": "2021-06-07T01:31:51.949819Z",
     "start_time": "2021-06-07T01:31:51.936827Z"
    }
   },
   "outputs": [],
   "source": [
    "df_imc.loc[df_imc['imc'] <= 16.9, 'imc_cat'] = 'muito_abaixo'\n",
    "df_imc.loc[(df_imc['imc'] > 16.9) & (df_imc['imc'] <= 18.4),\n",
    "           'imc_cat'] = 'abaixo'\n",
    "df_imc.loc[(df_imc['imc'] > 18.4) & (df_imc['imc'] <= 24.9),\n",
    "           'imc_cat'] = 'normal'\n",
    "df_imc.loc[(df_imc['imc'] > 24.9), 'imc_cat'] = 'acima'"
   ]
  },
  {
   "cell_type": "code",
   "execution_count": 5,
   "metadata": {
    "ExecuteTime": {
     "end_time": "2021-06-07T01:31:51.981800Z",
     "start_time": "2021-06-07T01:31:51.960813Z"
    }
   },
   "outputs": [
    {
     "data": {
      "text/html": [
       "<div>\n",
       "<style scoped>\n",
       "    .dataframe tbody tr th:only-of-type {\n",
       "        vertical-align: middle;\n",
       "    }\n",
       "\n",
       "    .dataframe tbody tr th {\n",
       "        vertical-align: top;\n",
       "    }\n",
       "\n",
       "    .dataframe thead th {\n",
       "        text-align: right;\n",
       "    }\n",
       "</style>\n",
       "<table border=\"1\" class=\"dataframe\">\n",
       "  <thead>\n",
       "    <tr style=\"text-align: right;\">\n",
       "      <th></th>\n",
       "      <th>nome</th>\n",
       "      <th>imc</th>\n",
       "      <th>imc_cat</th>\n",
       "    </tr>\n",
       "  </thead>\n",
       "  <tbody>\n",
       "    <tr>\n",
       "      <th>0</th>\n",
       "      <td>Fernando</td>\n",
       "      <td>27.0</td>\n",
       "      <td>acima</td>\n",
       "    </tr>\n",
       "    <tr>\n",
       "      <th>1</th>\n",
       "      <td>Maria</td>\n",
       "      <td>26.0</td>\n",
       "      <td>acima</td>\n",
       "    </tr>\n",
       "    <tr>\n",
       "      <th>2</th>\n",
       "      <td>Felipe</td>\n",
       "      <td>25.0</td>\n",
       "      <td>acima</td>\n",
       "    </tr>\n",
       "    <tr>\n",
       "      <th>3</th>\n",
       "      <td>Pedro</td>\n",
       "      <td>16.0</td>\n",
       "      <td>muito_abaixo</td>\n",
       "    </tr>\n",
       "    <tr>\n",
       "      <th>4</th>\n",
       "      <td>Bianca</td>\n",
       "      <td>16.7</td>\n",
       "      <td>muito_abaixo</td>\n",
       "    </tr>\n",
       "    <tr>\n",
       "      <th>5</th>\n",
       "      <td>Beatriz</td>\n",
       "      <td>17.5</td>\n",
       "      <td>abaixo</td>\n",
       "    </tr>\n",
       "    <tr>\n",
       "      <th>6</th>\n",
       "      <td>Patricia</td>\n",
       "      <td>18.6</td>\n",
       "      <td>normal</td>\n",
       "    </tr>\n",
       "    <tr>\n",
       "      <th>7</th>\n",
       "      <td>Lucia</td>\n",
       "      <td>24.0</td>\n",
       "      <td>normal</td>\n",
       "    </tr>\n",
       "  </tbody>\n",
       "</table>\n",
       "</div>"
      ],
      "text/plain": [
       "       nome   imc       imc_cat\n",
       "0  Fernando  27.0         acima\n",
       "1     Maria  26.0         acima\n",
       "2    Felipe  25.0         acima\n",
       "3     Pedro  16.0  muito_abaixo\n",
       "4    Bianca  16.7  muito_abaixo\n",
       "5   Beatriz  17.5        abaixo\n",
       "6  Patricia  18.6        normal\n",
       "7     Lucia  24.0        normal"
      ]
     },
     "execution_count": 5,
     "metadata": {},
     "output_type": "execute_result"
    }
   ],
   "source": [
    "df_imc"
   ]
  },
  {
   "cell_type": "markdown",
   "metadata": {},
   "source": [
    "## Em saudável e não saudável"
   ]
  },
  {
   "cell_type": "markdown",
   "metadata": {},
   "source": [
    "- Não saudável: < 18,5 kg/m2\n",
    "- Saudável: 18,5 a 24,9 kg/m2\n",
    "- Não saudável: > 25 kg/m2"
   ]
  },
  {
   "cell_type": "code",
   "execution_count": 6,
   "metadata": {
    "ExecuteTime": {
     "end_time": "2021-06-07T01:31:52.029771Z",
     "start_time": "2021-06-07T01:31:52.001789Z"
    }
   },
   "outputs": [
    {
     "data": {
      "text/html": [
       "<div>\n",
       "<style scoped>\n",
       "    .dataframe tbody tr th:only-of-type {\n",
       "        vertical-align: middle;\n",
       "    }\n",
       "\n",
       "    .dataframe tbody tr th {\n",
       "        vertical-align: top;\n",
       "    }\n",
       "\n",
       "    .dataframe thead th {\n",
       "        text-align: right;\n",
       "    }\n",
       "</style>\n",
       "<table border=\"1\" class=\"dataframe\">\n",
       "  <thead>\n",
       "    <tr style=\"text-align: right;\">\n",
       "      <th></th>\n",
       "      <th>nome</th>\n",
       "      <th>imc</th>\n",
       "      <th>imc_cat</th>\n",
       "      <th>imc_cat_2</th>\n",
       "    </tr>\n",
       "  </thead>\n",
       "  <tbody>\n",
       "    <tr>\n",
       "      <th>0</th>\n",
       "      <td>Fernando</td>\n",
       "      <td>27.0</td>\n",
       "      <td>acima</td>\n",
       "      <td>nao_saudavel</td>\n",
       "    </tr>\n",
       "    <tr>\n",
       "      <th>1</th>\n",
       "      <td>Maria</td>\n",
       "      <td>26.0</td>\n",
       "      <td>acima</td>\n",
       "      <td>nao_saudavel</td>\n",
       "    </tr>\n",
       "    <tr>\n",
       "      <th>2</th>\n",
       "      <td>Felipe</td>\n",
       "      <td>25.0</td>\n",
       "      <td>acima</td>\n",
       "      <td>nao_saudavel</td>\n",
       "    </tr>\n",
       "    <tr>\n",
       "      <th>3</th>\n",
       "      <td>Pedro</td>\n",
       "      <td>16.0</td>\n",
       "      <td>muito_abaixo</td>\n",
       "      <td>nao_saudavel</td>\n",
       "    </tr>\n",
       "    <tr>\n",
       "      <th>4</th>\n",
       "      <td>Bianca</td>\n",
       "      <td>16.7</td>\n",
       "      <td>muito_abaixo</td>\n",
       "      <td>nao_saudavel</td>\n",
       "    </tr>\n",
       "    <tr>\n",
       "      <th>5</th>\n",
       "      <td>Beatriz</td>\n",
       "      <td>17.5</td>\n",
       "      <td>abaixo</td>\n",
       "      <td>nao_saudavel</td>\n",
       "    </tr>\n",
       "    <tr>\n",
       "      <th>6</th>\n",
       "      <td>Patricia</td>\n",
       "      <td>18.6</td>\n",
       "      <td>normal</td>\n",
       "      <td>saudavel</td>\n",
       "    </tr>\n",
       "    <tr>\n",
       "      <th>7</th>\n",
       "      <td>Lucia</td>\n",
       "      <td>24.0</td>\n",
       "      <td>normal</td>\n",
       "      <td>saudavel</td>\n",
       "    </tr>\n",
       "  </tbody>\n",
       "</table>\n",
       "</div>"
      ],
      "text/plain": [
       "       nome   imc       imc_cat     imc_cat_2\n",
       "0  Fernando  27.0         acima  nao_saudavel\n",
       "1     Maria  26.0         acima  nao_saudavel\n",
       "2    Felipe  25.0         acima  nao_saudavel\n",
       "3     Pedro  16.0  muito_abaixo  nao_saudavel\n",
       "4    Bianca  16.7  muito_abaixo  nao_saudavel\n",
       "5   Beatriz  17.5        abaixo  nao_saudavel\n",
       "6  Patricia  18.6        normal      saudavel\n",
       "7     Lucia  24.0        normal      saudavel"
      ]
     },
     "execution_count": 6,
     "metadata": {},
     "output_type": "execute_result"
    }
   ],
   "source": [
    "df_imc.loc[:,'imc_cat_2'] = 'nao_saudavel'\n",
    "df_imc.loc[(df_imc['imc']>18.4) & (df_imc['imc']<=24.9),'imc_cat_2'] = 'saudavel'\n",
    "df_imc"
   ]
  },
  {
   "cell_type": "markdown",
   "metadata": {},
   "source": [
    "## Em quartis"
   ]
  },
  {
   "cell_type": "markdown",
   "metadata": {},
   "source": [
    "- 1o_quartil : 0%  a 25%  primeiros valores\n",
    "- 2o_quartil : 25% a 50%  primeiros valores\n",
    "- 3o_quartil : 50% a 75%  primeiros valores\n",
    "- 4o_quartil : 75% a 100% primeiros valores"
   ]
  },
  {
   "attachments": {
    "image.png": {
     "image/png": "[encoded data removed]"
    }
   },
   "cell_type": "markdown",
   "metadata": {},
   "source": [
    "![quartis.png](attachment:image.png)\n",
    "<div style=\"text-align: right\"\n",
    "     \n",
    "https://bit.ly/3cndKkh"
   ]
  },
  {
   "cell_type": "code",
   "execution_count": 7,
   "metadata": {
    "ExecuteTime": {
     "end_time": "2021-06-07T01:31:52.093748Z",
     "start_time": "2021-06-07T01:31:52.072746Z"
    }
   },
   "outputs": [
    {
     "data": {
      "text/plain": [
       "3    16.0\n",
       "4    16.7\n",
       "5    17.5\n",
       "6    18.6\n",
       "7    24.0\n",
       "2    25.0\n",
       "1    26.0\n",
       "0    27.0\n",
       "Name: imc, dtype: float64"
      ]
     },
     "execution_count": 7,
     "metadata": {},
     "output_type": "execute_result"
    }
   ],
   "source": [
    "df_imc['imc'].sort_values()"
   ]
  },
  {
   "cell_type": "code",
   "execution_count": 8,
   "metadata": {
    "ExecuteTime": {
     "end_time": "2021-06-07T01:31:52.109727Z",
     "start_time": "2021-06-07T01:31:52.095748Z"
    }
   },
   "outputs": [
    {
     "data": {
      "text/plain": [
       "0.25    17.30\n",
       "0.50    21.30\n",
       "0.75    25.25\n",
       "Name: imc, dtype: float64"
      ]
     },
     "execution_count": 8,
     "metadata": {},
     "output_type": "execute_result"
    }
   ],
   "source": [
    "df_imc['imc'].quantile([0.25,0.5,0.75])"
   ]
  },
  {
   "cell_type": "code",
   "execution_count": 9,
   "metadata": {
    "ExecuteTime": {
     "end_time": "2021-06-07T01:31:52.141717Z",
     "start_time": "2021-06-07T01:31:52.122718Z"
    }
   },
   "outputs": [],
   "source": [
    "quartil_1, quartil_2, quartil_3 = df_imc['imc'].quantile([0.25,0.5,0.75])"
   ]
  },
  {
   "cell_type": "code",
   "execution_count": 10,
   "metadata": {
    "ExecuteTime": {
     "end_time": "2021-06-07T01:31:52.157698Z",
     "start_time": "2021-06-07T01:31:52.150707Z"
    }
   },
   "outputs": [],
   "source": [
    "df_imc['imc_cat_3'] = np.where(\n",
    "    df_imc['imc'] < 17.3, '1o_quartil',\n",
    "    np.where(df_imc['imc'] < 21.3, '2o_quartil',\n",
    "             np.where(df_imc['imc'] < 25.25, '3o_quartil', '4o_quartil')))"
   ]
  },
  {
   "cell_type": "code",
   "execution_count": 11,
   "metadata": {
    "ExecuteTime": {
     "end_time": "2021-06-07T01:31:52.570111Z",
     "start_time": "2021-06-07T01:31:52.174702Z"
    }
   },
   "outputs": [
    {
     "data": {
      "text/html": [
       "<div>\n",
       "<style scoped>\n",
       "    .dataframe tbody tr th:only-of-type {\n",
       "        vertical-align: middle;\n",
       "    }\n",
       "\n",
       "    .dataframe tbody tr th {\n",
       "        vertical-align: top;\n",
       "    }\n",
       "\n",
       "    .dataframe thead th {\n",
       "        text-align: right;\n",
       "    }\n",
       "</style>\n",
       "<table border=\"1\" class=\"dataframe\">\n",
       "  <thead>\n",
       "    <tr style=\"text-align: right;\">\n",
       "      <th></th>\n",
       "      <th>nome</th>\n",
       "      <th>imc</th>\n",
       "      <th>imc_cat</th>\n",
       "      <th>imc_cat_2</th>\n",
       "      <th>imc_cat_3</th>\n",
       "    </tr>\n",
       "  </thead>\n",
       "  <tbody>\n",
       "    <tr>\n",
       "      <th>3</th>\n",
       "      <td>Pedro</td>\n",
       "      <td>16.0</td>\n",
       "      <td>muito_abaixo</td>\n",
       "      <td>nao_saudavel</td>\n",
       "      <td>1o_quartil</td>\n",
       "    </tr>\n",
       "    <tr>\n",
       "      <th>4</th>\n",
       "      <td>Bianca</td>\n",
       "      <td>16.7</td>\n",
       "      <td>muito_abaixo</td>\n",
       "      <td>nao_saudavel</td>\n",
       "      <td>1o_quartil</td>\n",
       "    </tr>\n",
       "    <tr>\n",
       "      <th>5</th>\n",
       "      <td>Beatriz</td>\n",
       "      <td>17.5</td>\n",
       "      <td>abaixo</td>\n",
       "      <td>nao_saudavel</td>\n",
       "      <td>2o_quartil</td>\n",
       "    </tr>\n",
       "    <tr>\n",
       "      <th>6</th>\n",
       "      <td>Patricia</td>\n",
       "      <td>18.6</td>\n",
       "      <td>normal</td>\n",
       "      <td>saudavel</td>\n",
       "      <td>2o_quartil</td>\n",
       "    </tr>\n",
       "    <tr>\n",
       "      <th>7</th>\n",
       "      <td>Lucia</td>\n",
       "      <td>24.0</td>\n",
       "      <td>normal</td>\n",
       "      <td>saudavel</td>\n",
       "      <td>3o_quartil</td>\n",
       "    </tr>\n",
       "    <tr>\n",
       "      <th>2</th>\n",
       "      <td>Felipe</td>\n",
       "      <td>25.0</td>\n",
       "      <td>acima</td>\n",
       "      <td>nao_saudavel</td>\n",
       "      <td>3o_quartil</td>\n",
       "    </tr>\n",
       "    <tr>\n",
       "      <th>1</th>\n",
       "      <td>Maria</td>\n",
       "      <td>26.0</td>\n",
       "      <td>acima</td>\n",
       "      <td>nao_saudavel</td>\n",
       "      <td>4o_quartil</td>\n",
       "    </tr>\n",
       "    <tr>\n",
       "      <th>0</th>\n",
       "      <td>Fernando</td>\n",
       "      <td>27.0</td>\n",
       "      <td>acima</td>\n",
       "      <td>nao_saudavel</td>\n",
       "      <td>4o_quartil</td>\n",
       "    </tr>\n",
       "  </tbody>\n",
       "</table>\n",
       "</div>"
      ],
      "text/plain": [
       "       nome   imc       imc_cat     imc_cat_2   imc_cat_3\n",
       "3     Pedro  16.0  muito_abaixo  nao_saudavel  1o_quartil\n",
       "4    Bianca  16.7  muito_abaixo  nao_saudavel  1o_quartil\n",
       "5   Beatriz  17.5        abaixo  nao_saudavel  2o_quartil\n",
       "6  Patricia  18.6        normal      saudavel  2o_quartil\n",
       "7     Lucia  24.0        normal      saudavel  3o_quartil\n",
       "2    Felipe  25.0         acima  nao_saudavel  3o_quartil\n",
       "1     Maria  26.0         acima  nao_saudavel  4o_quartil\n",
       "0  Fernando  27.0         acima  nao_saudavel  4o_quartil"
      ]
     },
     "execution_count": 11,
     "metadata": {},
     "output_type": "execute_result"
    }
   ],
   "source": [
    "df_imc.sort_values('imc')"
   ]
  },
  {
   "cell_type": "markdown",
   "metadata": {},
   "source": [
    "# 4. Construindo dummies <a name=\"dummies\"></a>\n",
    "<div style=\"text-align: right\"\n",
    "     \n",
    "[Voltar ao índice](#Contents)"
   ]
  },
  {
   "cell_type": "markdown",
   "metadata": {},
   "source": [
    "``pd.get_dummies()`` é usado para transformar uma variável categórica em variáveis flag"
   ]
  },
  {
   "cell_type": "code",
   "execution_count": 12,
   "metadata": {
    "ExecuteTime": {
     "end_time": "2021-06-07T01:31:52.586117Z",
     "start_time": "2021-06-07T01:31:52.573109Z"
    }
   },
   "outputs": [
    {
     "data": {
      "text/plain": [
       "0           acima\n",
       "1           acima\n",
       "2           acima\n",
       "3    muito_abaixo\n",
       "4    muito_abaixo\n",
       "5          abaixo\n",
       "6          normal\n",
       "7          normal\n",
       "Name: imc_cat, dtype: object"
      ]
     },
     "execution_count": 12,
     "metadata": {},
     "output_type": "execute_result"
    }
   ],
   "source": [
    "df_imc['imc_cat']"
   ]
  },
  {
   "cell_type": "code",
   "execution_count": 13,
   "metadata": {
    "ExecuteTime": {
     "end_time": "2021-06-07T01:31:52.602107Z",
     "start_time": "2021-06-07T01:31:52.589115Z"
    }
   },
   "outputs": [
    {
     "data": {
      "text/html": [
       "<div>\n",
       "<style scoped>\n",
       "    .dataframe tbody tr th:only-of-type {\n",
       "        vertical-align: middle;\n",
       "    }\n",
       "\n",
       "    .dataframe tbody tr th {\n",
       "        vertical-align: top;\n",
       "    }\n",
       "\n",
       "    .dataframe thead th {\n",
       "        text-align: right;\n",
       "    }\n",
       "</style>\n",
       "<table border=\"1\" class=\"dataframe\">\n",
       "  <thead>\n",
       "    <tr style=\"text-align: right;\">\n",
       "      <th></th>\n",
       "      <th>abaixo</th>\n",
       "      <th>acima</th>\n",
       "      <th>muito_abaixo</th>\n",
       "      <th>normal</th>\n",
       "    </tr>\n",
       "  </thead>\n",
       "  <tbody>\n",
       "    <tr>\n",
       "      <th>0</th>\n",
       "      <td>0</td>\n",
       "      <td>1</td>\n",
       "      <td>0</td>\n",
       "      <td>0</td>\n",
       "    </tr>\n",
       "    <tr>\n",
       "      <th>1</th>\n",
       "      <td>0</td>\n",
       "      <td>1</td>\n",
       "      <td>0</td>\n",
       "      <td>0</td>\n",
       "    </tr>\n",
       "    <tr>\n",
       "      <th>2</th>\n",
       "      <td>0</td>\n",
       "      <td>1</td>\n",
       "      <td>0</td>\n",
       "      <td>0</td>\n",
       "    </tr>\n",
       "    <tr>\n",
       "      <th>3</th>\n",
       "      <td>0</td>\n",
       "      <td>0</td>\n",
       "      <td>1</td>\n",
       "      <td>0</td>\n",
       "    </tr>\n",
       "    <tr>\n",
       "      <th>4</th>\n",
       "      <td>0</td>\n",
       "      <td>0</td>\n",
       "      <td>1</td>\n",
       "      <td>0</td>\n",
       "    </tr>\n",
       "    <tr>\n",
       "      <th>5</th>\n",
       "      <td>1</td>\n",
       "      <td>0</td>\n",
       "      <td>0</td>\n",
       "      <td>0</td>\n",
       "    </tr>\n",
       "    <tr>\n",
       "      <th>6</th>\n",
       "      <td>0</td>\n",
       "      <td>0</td>\n",
       "      <td>0</td>\n",
       "      <td>1</td>\n",
       "    </tr>\n",
       "    <tr>\n",
       "      <th>7</th>\n",
       "      <td>0</td>\n",
       "      <td>0</td>\n",
       "      <td>0</td>\n",
       "      <td>1</td>\n",
       "    </tr>\n",
       "  </tbody>\n",
       "</table>\n",
       "</div>"
      ],
      "text/plain": [
       "   abaixo  acima  muito_abaixo  normal\n",
       "0       0      1             0       0\n",
       "1       0      1             0       0\n",
       "2       0      1             0       0\n",
       "3       0      0             1       0\n",
       "4       0      0             1       0\n",
       "5       1      0             0       0\n",
       "6       0      0             0       1\n",
       "7       0      0             0       1"
      ]
     },
     "execution_count": 13,
     "metadata": {},
     "output_type": "execute_result"
    }
   ],
   "source": [
    "pd.get_dummies(df_imc['imc_cat'])"
   ]
  },
  {
   "cell_type": "code",
   "execution_count": 14,
   "metadata": {
    "ExecuteTime": {
     "end_time": "2021-06-07T01:31:52.634081Z",
     "start_time": "2021-06-07T01:31:52.606092Z"
    }
   },
   "outputs": [
    {
     "data": {
      "text/html": [
       "<div>\n",
       "<style scoped>\n",
       "    .dataframe tbody tr th:only-of-type {\n",
       "        vertical-align: middle;\n",
       "    }\n",
       "\n",
       "    .dataframe tbody tr th {\n",
       "        vertical-align: top;\n",
       "    }\n",
       "\n",
       "    .dataframe thead th {\n",
       "        text-align: right;\n",
       "    }\n",
       "</style>\n",
       "<table border=\"1\" class=\"dataframe\">\n",
       "  <thead>\n",
       "    <tr style=\"text-align: right;\">\n",
       "      <th></th>\n",
       "      <th>acima</th>\n",
       "      <th>muito_abaixo</th>\n",
       "      <th>normal</th>\n",
       "    </tr>\n",
       "  </thead>\n",
       "  <tbody>\n",
       "    <tr>\n",
       "      <th>0</th>\n",
       "      <td>1</td>\n",
       "      <td>0</td>\n",
       "      <td>0</td>\n",
       "    </tr>\n",
       "    <tr>\n",
       "      <th>1</th>\n",
       "      <td>1</td>\n",
       "      <td>0</td>\n",
       "      <td>0</td>\n",
       "    </tr>\n",
       "    <tr>\n",
       "      <th>2</th>\n",
       "      <td>1</td>\n",
       "      <td>0</td>\n",
       "      <td>0</td>\n",
       "    </tr>\n",
       "    <tr>\n",
       "      <th>3</th>\n",
       "      <td>0</td>\n",
       "      <td>1</td>\n",
       "      <td>0</td>\n",
       "    </tr>\n",
       "    <tr>\n",
       "      <th>4</th>\n",
       "      <td>0</td>\n",
       "      <td>1</td>\n",
       "      <td>0</td>\n",
       "    </tr>\n",
       "    <tr>\n",
       "      <th>5</th>\n",
       "      <td>0</td>\n",
       "      <td>0</td>\n",
       "      <td>0</td>\n",
       "    </tr>\n",
       "    <tr>\n",
       "      <th>6</th>\n",
       "      <td>0</td>\n",
       "      <td>0</td>\n",
       "      <td>1</td>\n",
       "    </tr>\n",
       "    <tr>\n",
       "      <th>7</th>\n",
       "      <td>0</td>\n",
       "      <td>0</td>\n",
       "      <td>1</td>\n",
       "    </tr>\n",
       "  </tbody>\n",
       "</table>\n",
       "</div>"
      ],
      "text/plain": [
       "   acima  muito_abaixo  normal\n",
       "0      1             0       0\n",
       "1      1             0       0\n",
       "2      1             0       0\n",
       "3      0             1       0\n",
       "4      0             1       0\n",
       "5      0             0       0\n",
       "6      0             0       1\n",
       "7      0             0       1"
      ]
     },
     "execution_count": 14,
     "metadata": {},
     "output_type": "execute_result"
    }
   ],
   "source": [
    "pd.get_dummies(df_imc['imc_cat'],drop_first=True)"
   ]
  },
  {
   "cell_type": "markdown",
   "metadata": {},
   "source": [
    "## Dummie OMS"
   ]
  },
  {
   "cell_type": "code",
   "execution_count": 15,
   "metadata": {
    "ExecuteTime": {
     "end_time": "2021-06-07T01:31:52.650065Z",
     "start_time": "2021-06-07T01:31:52.638077Z"
    }
   },
   "outputs": [],
   "source": [
    "dummies = pd.get_dummies(df_imc['imc_cat'])"
   ]
  },
  {
   "cell_type": "code",
   "execution_count": 16,
   "metadata": {
    "ExecuteTime": {
     "end_time": "2021-06-07T01:31:52.900936Z",
     "start_time": "2021-06-07T01:31:52.888946Z"
    }
   },
   "outputs": [
    {
     "data": {
      "text/html": [
       "<div>\n",
       "<style scoped>\n",
       "    .dataframe tbody tr th:only-of-type {\n",
       "        vertical-align: middle;\n",
       "    }\n",
       "\n",
       "    .dataframe tbody tr th {\n",
       "        vertical-align: top;\n",
       "    }\n",
       "\n",
       "    .dataframe thead th {\n",
       "        text-align: right;\n",
       "    }\n",
       "</style>\n",
       "<table border=\"1\" class=\"dataframe\">\n",
       "  <thead>\n",
       "    <tr style=\"text-align: right;\">\n",
       "      <th></th>\n",
       "      <th>nome</th>\n",
       "      <th>imc</th>\n",
       "      <th>imc_cat</th>\n",
       "      <th>imc_cat_2</th>\n",
       "      <th>imc_cat_3</th>\n",
       "      <th>abaixo</th>\n",
       "      <th>acima</th>\n",
       "      <th>muito_abaixo</th>\n",
       "      <th>normal</th>\n",
       "    </tr>\n",
       "  </thead>\n",
       "  <tbody>\n",
       "    <tr>\n",
       "      <th>0</th>\n",
       "      <td>Fernando</td>\n",
       "      <td>27.0</td>\n",
       "      <td>acima</td>\n",
       "      <td>nao_saudavel</td>\n",
       "      <td>4o_quartil</td>\n",
       "      <td>0</td>\n",
       "      <td>1</td>\n",
       "      <td>0</td>\n",
       "      <td>0</td>\n",
       "    </tr>\n",
       "    <tr>\n",
       "      <th>1</th>\n",
       "      <td>Maria</td>\n",
       "      <td>26.0</td>\n",
       "      <td>acima</td>\n",
       "      <td>nao_saudavel</td>\n",
       "      <td>4o_quartil</td>\n",
       "      <td>0</td>\n",
       "      <td>1</td>\n",
       "      <td>0</td>\n",
       "      <td>0</td>\n",
       "    </tr>\n",
       "    <tr>\n",
       "      <th>2</th>\n",
       "      <td>Felipe</td>\n",
       "      <td>25.0</td>\n",
       "      <td>acima</td>\n",
       "      <td>nao_saudavel</td>\n",
       "      <td>3o_quartil</td>\n",
       "      <td>0</td>\n",
       "      <td>1</td>\n",
       "      <td>0</td>\n",
       "      <td>0</td>\n",
       "    </tr>\n",
       "    <tr>\n",
       "      <th>3</th>\n",
       "      <td>Pedro</td>\n",
       "      <td>16.0</td>\n",
       "      <td>muito_abaixo</td>\n",
       "      <td>nao_saudavel</td>\n",
       "      <td>1o_quartil</td>\n",
       "      <td>0</td>\n",
       "      <td>0</td>\n",
       "      <td>1</td>\n",
       "      <td>0</td>\n",
       "    </tr>\n",
       "    <tr>\n",
       "      <th>4</th>\n",
       "      <td>Bianca</td>\n",
       "      <td>16.7</td>\n",
       "      <td>muito_abaixo</td>\n",
       "      <td>nao_saudavel</td>\n",
       "      <td>1o_quartil</td>\n",
       "      <td>0</td>\n",
       "      <td>0</td>\n",
       "      <td>1</td>\n",
       "      <td>0</td>\n",
       "    </tr>\n",
       "    <tr>\n",
       "      <th>5</th>\n",
       "      <td>Beatriz</td>\n",
       "      <td>17.5</td>\n",
       "      <td>abaixo</td>\n",
       "      <td>nao_saudavel</td>\n",
       "      <td>2o_quartil</td>\n",
       "      <td>1</td>\n",
       "      <td>0</td>\n",
       "      <td>0</td>\n",
       "      <td>0</td>\n",
       "    </tr>\n",
       "    <tr>\n",
       "      <th>6</th>\n",
       "      <td>Patricia</td>\n",
       "      <td>18.6</td>\n",
       "      <td>normal</td>\n",
       "      <td>saudavel</td>\n",
       "      <td>2o_quartil</td>\n",
       "      <td>0</td>\n",
       "      <td>0</td>\n",
       "      <td>0</td>\n",
       "      <td>1</td>\n",
       "    </tr>\n",
       "    <tr>\n",
       "      <th>7</th>\n",
       "      <td>Lucia</td>\n",
       "      <td>24.0</td>\n",
       "      <td>normal</td>\n",
       "      <td>saudavel</td>\n",
       "      <td>3o_quartil</td>\n",
       "      <td>0</td>\n",
       "      <td>0</td>\n",
       "      <td>0</td>\n",
       "      <td>1</td>\n",
       "    </tr>\n",
       "  </tbody>\n",
       "</table>\n",
       "</div>"
      ],
      "text/plain": [
       "       nome   imc       imc_cat     imc_cat_2   imc_cat_3  abaixo  acima  \\\n",
       "0  Fernando  27.0         acima  nao_saudavel  4o_quartil       0      1   \n",
       "1     Maria  26.0         acima  nao_saudavel  4o_quartil       0      1   \n",
       "2    Felipe  25.0         acima  nao_saudavel  3o_quartil       0      1   \n",
       "3     Pedro  16.0  muito_abaixo  nao_saudavel  1o_quartil       0      0   \n",
       "4    Bianca  16.7  muito_abaixo  nao_saudavel  1o_quartil       0      0   \n",
       "5   Beatriz  17.5        abaixo  nao_saudavel  2o_quartil       1      0   \n",
       "6  Patricia  18.6        normal      saudavel  2o_quartil       0      0   \n",
       "7     Lucia  24.0        normal      saudavel  3o_quartil       0      0   \n",
       "\n",
       "   muito_abaixo  normal  \n",
       "0             0       0  \n",
       "1             0       0  \n",
       "2             0       0  \n",
       "3             1       0  \n",
       "4             1       0  \n",
       "5             0       0  \n",
       "6             0       1  \n",
       "7             0       1  "
      ]
     },
     "execution_count": 16,
     "metadata": {},
     "output_type": "execute_result"
    }
   ],
   "source": [
    "pd.concat([df_imc, dummies], axis=1)"
   ]
  },
  {
   "cell_type": "markdown",
   "metadata": {},
   "source": [
    "## Dummie saudavel"
   ]
  },
  {
   "cell_type": "code",
   "execution_count": 17,
   "metadata": {
    "ExecuteTime": {
     "end_time": "2021-06-07T01:31:52.948894Z",
     "start_time": "2021-06-07T01:31:52.918911Z"
    }
   },
   "outputs": [
    {
     "data": {
      "text/html": [
       "<div>\n",
       "<style scoped>\n",
       "    .dataframe tbody tr th:only-of-type {\n",
       "        vertical-align: middle;\n",
       "    }\n",
       "\n",
       "    .dataframe tbody tr th {\n",
       "        vertical-align: top;\n",
       "    }\n",
       "\n",
       "    .dataframe thead th {\n",
       "        text-align: right;\n",
       "    }\n",
       "</style>\n",
       "<table border=\"1\" class=\"dataframe\">\n",
       "  <thead>\n",
       "    <tr style=\"text-align: right;\">\n",
       "      <th></th>\n",
       "      <th>nome</th>\n",
       "      <th>imc</th>\n",
       "      <th>imc_cat</th>\n",
       "      <th>imc_cat_2</th>\n",
       "      <th>imc_cat_3</th>\n",
       "      <th>nao_saudavel</th>\n",
       "      <th>saudavel</th>\n",
       "    </tr>\n",
       "  </thead>\n",
       "  <tbody>\n",
       "    <tr>\n",
       "      <th>0</th>\n",
       "      <td>Fernando</td>\n",
       "      <td>27.0</td>\n",
       "      <td>acima</td>\n",
       "      <td>nao_saudavel</td>\n",
       "      <td>4o_quartil</td>\n",
       "      <td>1</td>\n",
       "      <td>0</td>\n",
       "    </tr>\n",
       "    <tr>\n",
       "      <th>1</th>\n",
       "      <td>Maria</td>\n",
       "      <td>26.0</td>\n",
       "      <td>acima</td>\n",
       "      <td>nao_saudavel</td>\n",
       "      <td>4o_quartil</td>\n",
       "      <td>1</td>\n",
       "      <td>0</td>\n",
       "    </tr>\n",
       "    <tr>\n",
       "      <th>2</th>\n",
       "      <td>Felipe</td>\n",
       "      <td>25.0</td>\n",
       "      <td>acima</td>\n",
       "      <td>nao_saudavel</td>\n",
       "      <td>3o_quartil</td>\n",
       "      <td>1</td>\n",
       "      <td>0</td>\n",
       "    </tr>\n",
       "    <tr>\n",
       "      <th>3</th>\n",
       "      <td>Pedro</td>\n",
       "      <td>16.0</td>\n",
       "      <td>muito_abaixo</td>\n",
       "      <td>nao_saudavel</td>\n",
       "      <td>1o_quartil</td>\n",
       "      <td>1</td>\n",
       "      <td>0</td>\n",
       "    </tr>\n",
       "    <tr>\n",
       "      <th>4</th>\n",
       "      <td>Bianca</td>\n",
       "      <td>16.7</td>\n",
       "      <td>muito_abaixo</td>\n",
       "      <td>nao_saudavel</td>\n",
       "      <td>1o_quartil</td>\n",
       "      <td>1</td>\n",
       "      <td>0</td>\n",
       "    </tr>\n",
       "    <tr>\n",
       "      <th>5</th>\n",
       "      <td>Beatriz</td>\n",
       "      <td>17.5</td>\n",
       "      <td>abaixo</td>\n",
       "      <td>nao_saudavel</td>\n",
       "      <td>2o_quartil</td>\n",
       "      <td>1</td>\n",
       "      <td>0</td>\n",
       "    </tr>\n",
       "    <tr>\n",
       "      <th>6</th>\n",
       "      <td>Patricia</td>\n",
       "      <td>18.6</td>\n",
       "      <td>normal</td>\n",
       "      <td>saudavel</td>\n",
       "      <td>2o_quartil</td>\n",
       "      <td>0</td>\n",
       "      <td>1</td>\n",
       "    </tr>\n",
       "    <tr>\n",
       "      <th>7</th>\n",
       "      <td>Lucia</td>\n",
       "      <td>24.0</td>\n",
       "      <td>normal</td>\n",
       "      <td>saudavel</td>\n",
       "      <td>3o_quartil</td>\n",
       "      <td>0</td>\n",
       "      <td>1</td>\n",
       "    </tr>\n",
       "  </tbody>\n",
       "</table>\n",
       "</div>"
      ],
      "text/plain": [
       "       nome   imc       imc_cat     imc_cat_2   imc_cat_3  nao_saudavel  \\\n",
       "0  Fernando  27.0         acima  nao_saudavel  4o_quartil             1   \n",
       "1     Maria  26.0         acima  nao_saudavel  4o_quartil             1   \n",
       "2    Felipe  25.0         acima  nao_saudavel  3o_quartil             1   \n",
       "3     Pedro  16.0  muito_abaixo  nao_saudavel  1o_quartil             1   \n",
       "4    Bianca  16.7  muito_abaixo  nao_saudavel  1o_quartil             1   \n",
       "5   Beatriz  17.5        abaixo  nao_saudavel  2o_quartil             1   \n",
       "6  Patricia  18.6        normal      saudavel  2o_quartil             0   \n",
       "7     Lucia  24.0        normal      saudavel  3o_quartil             0   \n",
       "\n",
       "   saudavel  \n",
       "0         0  \n",
       "1         0  \n",
       "2         0  \n",
       "3         0  \n",
       "4         0  \n",
       "5         0  \n",
       "6         1  \n",
       "7         1  "
      ]
     },
     "execution_count": 17,
     "metadata": {},
     "output_type": "execute_result"
    }
   ],
   "source": [
    "dummies_2 = pd.get_dummies(df_imc['imc_cat_2'])\n",
    "pd.concat([df_imc, dummies_2], axis=1)"
   ]
  },
  {
   "cell_type": "markdown",
   "metadata": {},
   "source": [
    "## Dummie quartil"
   ]
  },
  {
   "cell_type": "code",
   "execution_count": 18,
   "metadata": {
    "ExecuteTime": {
     "end_time": "2021-06-07T01:33:10.417929Z",
     "start_time": "2021-06-07T01:33:10.390930Z"
    }
   },
   "outputs": [
    {
     "data": {
      "text/html": [
       "<div>\n",
       "<style scoped>\n",
       "    .dataframe tbody tr th:only-of-type {\n",
       "        vertical-align: middle;\n",
       "    }\n",
       "\n",
       "    .dataframe tbody tr th {\n",
       "        vertical-align: top;\n",
       "    }\n",
       "\n",
       "    .dataframe thead th {\n",
       "        text-align: right;\n",
       "    }\n",
       "</style>\n",
       "<table border=\"1\" class=\"dataframe\">\n",
       "  <thead>\n",
       "    <tr style=\"text-align: right;\">\n",
       "      <th></th>\n",
       "      <th>nome</th>\n",
       "      <th>imc</th>\n",
       "      <th>imc_cat</th>\n",
       "      <th>imc_cat_2</th>\n",
       "      <th>imc_cat_3</th>\n",
       "      <th>1o_quartil</th>\n",
       "      <th>2o_quartil</th>\n",
       "      <th>3o_quartil</th>\n",
       "      <th>4o_quartil</th>\n",
       "    </tr>\n",
       "  </thead>\n",
       "  <tbody>\n",
       "    <tr>\n",
       "      <th>0</th>\n",
       "      <td>Fernando</td>\n",
       "      <td>27.0</td>\n",
       "      <td>acima</td>\n",
       "      <td>nao_saudavel</td>\n",
       "      <td>4o_quartil</td>\n",
       "      <td>0</td>\n",
       "      <td>0</td>\n",
       "      <td>0</td>\n",
       "      <td>1</td>\n",
       "    </tr>\n",
       "    <tr>\n",
       "      <th>1</th>\n",
       "      <td>Maria</td>\n",
       "      <td>26.0</td>\n",
       "      <td>acima</td>\n",
       "      <td>nao_saudavel</td>\n",
       "      <td>4o_quartil</td>\n",
       "      <td>0</td>\n",
       "      <td>0</td>\n",
       "      <td>0</td>\n",
       "      <td>1</td>\n",
       "    </tr>\n",
       "    <tr>\n",
       "      <th>2</th>\n",
       "      <td>Felipe</td>\n",
       "      <td>25.0</td>\n",
       "      <td>acima</td>\n",
       "      <td>nao_saudavel</td>\n",
       "      <td>3o_quartil</td>\n",
       "      <td>0</td>\n",
       "      <td>0</td>\n",
       "      <td>1</td>\n",
       "      <td>0</td>\n",
       "    </tr>\n",
       "    <tr>\n",
       "      <th>3</th>\n",
       "      <td>Pedro</td>\n",
       "      <td>16.0</td>\n",
       "      <td>muito_abaixo</td>\n",
       "      <td>nao_saudavel</td>\n",
       "      <td>1o_quartil</td>\n",
       "      <td>1</td>\n",
       "      <td>0</td>\n",
       "      <td>0</td>\n",
       "      <td>0</td>\n",
       "    </tr>\n",
       "    <tr>\n",
       "      <th>4</th>\n",
       "      <td>Bianca</td>\n",
       "      <td>16.7</td>\n",
       "      <td>muito_abaixo</td>\n",
       "      <td>nao_saudavel</td>\n",
       "      <td>1o_quartil</td>\n",
       "      <td>1</td>\n",
       "      <td>0</td>\n",
       "      <td>0</td>\n",
       "      <td>0</td>\n",
       "    </tr>\n",
       "    <tr>\n",
       "      <th>5</th>\n",
       "      <td>Beatriz</td>\n",
       "      <td>17.5</td>\n",
       "      <td>abaixo</td>\n",
       "      <td>nao_saudavel</td>\n",
       "      <td>2o_quartil</td>\n",
       "      <td>0</td>\n",
       "      <td>1</td>\n",
       "      <td>0</td>\n",
       "      <td>0</td>\n",
       "    </tr>\n",
       "    <tr>\n",
       "      <th>6</th>\n",
       "      <td>Patricia</td>\n",
       "      <td>18.6</td>\n",
       "      <td>normal</td>\n",
       "      <td>saudavel</td>\n",
       "      <td>2o_quartil</td>\n",
       "      <td>0</td>\n",
       "      <td>1</td>\n",
       "      <td>0</td>\n",
       "      <td>0</td>\n",
       "    </tr>\n",
       "    <tr>\n",
       "      <th>7</th>\n",
       "      <td>Lucia</td>\n",
       "      <td>24.0</td>\n",
       "      <td>normal</td>\n",
       "      <td>saudavel</td>\n",
       "      <td>3o_quartil</td>\n",
       "      <td>0</td>\n",
       "      <td>0</td>\n",
       "      <td>1</td>\n",
       "      <td>0</td>\n",
       "    </tr>\n",
       "  </tbody>\n",
       "</table>\n",
       "</div>"
      ],
      "text/plain": [
       "       nome   imc       imc_cat     imc_cat_2   imc_cat_3  1o_quartil  \\\n",
       "0  Fernando  27.0         acima  nao_saudavel  4o_quartil           0   \n",
       "1     Maria  26.0         acima  nao_saudavel  4o_quartil           0   \n",
       "2    Felipe  25.0         acima  nao_saudavel  3o_quartil           0   \n",
       "3     Pedro  16.0  muito_abaixo  nao_saudavel  1o_quartil           1   \n",
       "4    Bianca  16.7  muito_abaixo  nao_saudavel  1o_quartil           1   \n",
       "5   Beatriz  17.5        abaixo  nao_saudavel  2o_quartil           0   \n",
       "6  Patricia  18.6        normal      saudavel  2o_quartil           0   \n",
       "7     Lucia  24.0        normal      saudavel  3o_quartil           0   \n",
       "\n",
       "   2o_quartil  3o_quartil  4o_quartil  \n",
       "0           0           0           1  \n",
       "1           0           0           1  \n",
       "2           0           1           0  \n",
       "3           0           0           0  \n",
       "4           0           0           0  \n",
       "5           1           0           0  \n",
       "6           1           0           0  \n",
       "7           0           1           0  "
      ]
     },
     "execution_count": 18,
     "metadata": {},
     "output_type": "execute_result"
    }
   ],
   "source": [
    "dummies_3 = pd.get_dummies(df_imc['imc_cat_3'])\n",
    "pd.concat([df_imc, dummies_3], axis=1)"
   ]
  },
  {
   "cell_type": "code",
   "execution_count": null,
   "metadata": {},
   "outputs": [],
   "source": []
  },
  {
   "cell_type": "code",
   "execution_count": null,
   "metadata": {},
   "outputs": [],
   "source": []
  }
 ],
 "metadata": {
  "kernelspec": {
   "display_name": "Python 3 (ipykernel)",
   "language": "python",
   "name": "python3"
  },
  "language_info": {
   "codemirror_mode": {
    "name": "ipython",
    "version": 3
   },
   "file_extension": ".py",
   "mimetype": "text/x-python",
   "name": "python",
   "nbconvert_exporter": "python",
   "pygments_lexer": "ipython3",
   "version": "3.10.11"
  },
  "varInspector": {
   "cols": {
    "lenName": 16,
    "lenType": 16,
    "lenVar": 40
   },
   "kernels_config": {
    "python": {
     "delete_cmd_postfix": "",
     "delete_cmd_prefix": "del ",
     "library": "var_list.py",
     "varRefreshCmd": "print(var_dic_list())"
    },
    "r": {
     "delete_cmd_postfix": ") ",
     "delete_cmd_prefix": "rm(",
     "library": "var_list.r",
     "varRefreshCmd": "cat(var_dic_list()) "
    }
   },
   "types_to_exclude": [
    "module",
    "function",
    "builtin_function_or_method",
    "instance",
    "_Feature"
   ],
   "window_display": false
  }
 },
 "nbformat": 4,
 "nbformat_minor": 4
}
