{
 "cells": [
  {
   "cell_type": "markdown",
   "metadata": {},
   "source": [
    "# Índice <a name=\"Contents\"></a>\n",
    "1. [Importando bibliotecas](#import)\n",
    "2. [Construindo um dataframe ](#read)\n",
    "3. [Amostragem (sample)](#amostragem)\n",
    "3. [Intro sobre métodos de string](#strings)\n",
    "\n"
   ]
  },
  {
   "cell_type": "markdown",
   "metadata": {},
   "source": [
    "# 1. Importando bibliotecas <a name=\"import\"></a>\n",
    "\n",
    "<div style=\"text-align: right\"\n",
    "     \n",
    "[Voltar ao índice](#Contents)"
   ]
  },
  {
   "cell_type": "code",
   "execution_count": 2,
   "metadata": {
    "ExecuteTime": {
     "end_time": "2021-05-31T09:48:00.524786Z",
     "start_time": "2021-05-31T09:47:57.714385Z"
    }
   },
   "outputs": [],
   "source": [
    "import numpy  as np\n",
    "import pandas as pd"
   ]
  },
  {
   "cell_type": "markdown",
   "metadata": {},
   "source": [
    "# 2. Construindo um dataframe  <a name=\"read\"></a>\n",
    "<div style=\"text-align: right\"\n",
    "     \n",
    "[Voltar ao índice](#Contents)"
   ]
  },
  {
   "cell_type": "code",
   "execution_count": 3,
   "metadata": {
    "ExecuteTime": {
     "end_time": "2021-05-31T09:50:48.945129Z",
     "start_time": "2021-05-31T09:50:48.840662Z"
    }
   },
   "outputs": [],
   "source": [
    "df = pd.DataFrame(np.random.randint(100000, size=(1000000, 10)),\n",
    "             columns=['A', 'B', 'C', 'D', 'E', 'F', 'G', 'H', 'I', 'J'])"
   ]
  },
  {
   "cell_type": "markdown",
   "metadata": {},
   "source": [
    "# 3. Amostragem <a name=\"amostragem\"></a>\n",
    "<div style=\"text-align: right\"\n",
    "     \n",
    "[Voltar ao índice](#Contents)"
   ]
  },
  {
   "cell_type": "code",
   "execution_count": 4,
   "metadata": {
    "ExecuteTime": {
     "end_time": "2021-05-31T09:53:30.287377Z",
     "start_time": "2021-05-31T09:53:30.273391Z"
    }
   },
   "outputs": [
    {
     "data": {
      "text/plain": [
       "(1000000, 10)"
      ]
     },
     "execution_count": 4,
     "metadata": {},
     "output_type": "execute_result"
    }
   ],
   "source": [
    "df.shape"
   ]
  },
  {
   "cell_type": "code",
   "execution_count": 16,
   "metadata": {
    "ExecuteTime": {
     "end_time": "2021-05-31T09:52:47.422509Z",
     "start_time": "2021-05-31T09:52:47.363477Z"
    }
   },
   "outputs": [
    {
     "data": {
      "text/html": [
       "<div>\n",
       "<style scoped>\n",
       "    .dataframe tbody tr th:only-of-type {\n",
       "        vertical-align: middle;\n",
       "    }\n",
       "\n",
       "    .dataframe tbody tr th {\n",
       "        vertical-align: top;\n",
       "    }\n",
       "\n",
       "    .dataframe thead th {\n",
       "        text-align: right;\n",
       "    }\n",
       "</style>\n",
       "<table border=\"1\" class=\"dataframe\">\n",
       "  <thead>\n",
       "    <tr style=\"text-align: right;\">\n",
       "      <th></th>\n",
       "      <th>A</th>\n",
       "      <th>B</th>\n",
       "      <th>C</th>\n",
       "      <th>D</th>\n",
       "      <th>E</th>\n",
       "      <th>F</th>\n",
       "      <th>G</th>\n",
       "      <th>H</th>\n",
       "      <th>I</th>\n",
       "      <th>J</th>\n",
       "    </tr>\n",
       "  </thead>\n",
       "  <tbody>\n",
       "    <tr>\n",
       "      <th>618969</th>\n",
       "      <td>84119</td>\n",
       "      <td>65227</td>\n",
       "      <td>35373</td>\n",
       "      <td>39319</td>\n",
       "      <td>43430</td>\n",
       "      <td>85307</td>\n",
       "      <td>82659</td>\n",
       "      <td>92980</td>\n",
       "      <td>49360</td>\n",
       "      <td>94699</td>\n",
       "    </tr>\n",
       "    <tr>\n",
       "      <th>362581</th>\n",
       "      <td>2848</td>\n",
       "      <td>22879</td>\n",
       "      <td>133</td>\n",
       "      <td>25264</td>\n",
       "      <td>22922</td>\n",
       "      <td>64508</td>\n",
       "      <td>15729</td>\n",
       "      <td>63116</td>\n",
       "      <td>2260</td>\n",
       "      <td>99614</td>\n",
       "    </tr>\n",
       "    <tr>\n",
       "      <th>964102</th>\n",
       "      <td>98765</td>\n",
       "      <td>89066</td>\n",
       "      <td>24624</td>\n",
       "      <td>994</td>\n",
       "      <td>7244</td>\n",
       "      <td>31098</td>\n",
       "      <td>78586</td>\n",
       "      <td>93613</td>\n",
       "      <td>52693</td>\n",
       "      <td>64331</td>\n",
       "    </tr>\n",
       "    <tr>\n",
       "      <th>366787</th>\n",
       "      <td>8587</td>\n",
       "      <td>1976</td>\n",
       "      <td>77494</td>\n",
       "      <td>13756</td>\n",
       "      <td>71298</td>\n",
       "      <td>70040</td>\n",
       "      <td>44763</td>\n",
       "      <td>22181</td>\n",
       "      <td>58167</td>\n",
       "      <td>13783</td>\n",
       "    </tr>\n",
       "    <tr>\n",
       "      <th>468047</th>\n",
       "      <td>32869</td>\n",
       "      <td>89680</td>\n",
       "      <td>73565</td>\n",
       "      <td>95503</td>\n",
       "      <td>39983</td>\n",
       "      <td>81150</td>\n",
       "      <td>32055</td>\n",
       "      <td>21600</td>\n",
       "      <td>57031</td>\n",
       "      <td>91493</td>\n",
       "    </tr>\n",
       "    <tr>\n",
       "      <th>659433</th>\n",
       "      <td>73950</td>\n",
       "      <td>40162</td>\n",
       "      <td>7509</td>\n",
       "      <td>37891</td>\n",
       "      <td>30776</td>\n",
       "      <td>23029</td>\n",
       "      <td>75090</td>\n",
       "      <td>4198</td>\n",
       "      <td>8679</td>\n",
       "      <td>52411</td>\n",
       "    </tr>\n",
       "    <tr>\n",
       "      <th>117520</th>\n",
       "      <td>52806</td>\n",
       "      <td>21814</td>\n",
       "      <td>13400</td>\n",
       "      <td>268</td>\n",
       "      <td>78509</td>\n",
       "      <td>33711</td>\n",
       "      <td>4851</td>\n",
       "      <td>61820</td>\n",
       "      <td>57556</td>\n",
       "      <td>82661</td>\n",
       "    </tr>\n",
       "    <tr>\n",
       "      <th>112159</th>\n",
       "      <td>90351</td>\n",
       "      <td>54433</td>\n",
       "      <td>47752</td>\n",
       "      <td>1063</td>\n",
       "      <td>21120</td>\n",
       "      <td>75995</td>\n",
       "      <td>21542</td>\n",
       "      <td>56950</td>\n",
       "      <td>453</td>\n",
       "      <td>76302</td>\n",
       "    </tr>\n",
       "    <tr>\n",
       "      <th>881741</th>\n",
       "      <td>72382</td>\n",
       "      <td>62700</td>\n",
       "      <td>16175</td>\n",
       "      <td>42358</td>\n",
       "      <td>3711</td>\n",
       "      <td>42193</td>\n",
       "      <td>71069</td>\n",
       "      <td>5277</td>\n",
       "      <td>68865</td>\n",
       "      <td>60262</td>\n",
       "    </tr>\n",
       "    <tr>\n",
       "      <th>685343</th>\n",
       "      <td>23043</td>\n",
       "      <td>15419</td>\n",
       "      <td>89612</td>\n",
       "      <td>43300</td>\n",
       "      <td>77727</td>\n",
       "      <td>70739</td>\n",
       "      <td>75431</td>\n",
       "      <td>45850</td>\n",
       "      <td>22286</td>\n",
       "      <td>49467</td>\n",
       "    </tr>\n",
       "  </tbody>\n",
       "</table>\n",
       "</div>"
      ],
      "text/plain": [
       "            A      B      C      D      E      F      G      H      I      J\n",
       "618969  84119  65227  35373  39319  43430  85307  82659  92980  49360  94699\n",
       "362581   2848  22879    133  25264  22922  64508  15729  63116   2260  99614\n",
       "964102  98765  89066  24624    994   7244  31098  78586  93613  52693  64331\n",
       "366787   8587   1976  77494  13756  71298  70040  44763  22181  58167  13783\n",
       "468047  32869  89680  73565  95503  39983  81150  32055  21600  57031  91493\n",
       "659433  73950  40162   7509  37891  30776  23029  75090   4198   8679  52411\n",
       "117520  52806  21814  13400    268  78509  33711   4851  61820  57556  82661\n",
       "112159  90351  54433  47752   1063  21120  75995  21542  56950    453  76302\n",
       "881741  72382  62700  16175  42358   3711  42193  71069   5277  68865  60262\n",
       "685343  23043  15419  89612  43300  77727  70739  75431  45850  22286  49467"
      ]
     },
     "execution_count": 16,
     "metadata": {},
     "output_type": "execute_result"
    }
   ],
   "source": [
    "df.sample(10)"
   ]
  },
  {
   "cell_type": "code",
   "execution_count": 26,
   "metadata": {
    "ExecuteTime": {
     "end_time": "2021-05-31T09:52:50.016696Z",
     "start_time": "2021-05-31T09:52:49.955731Z"
    },
    "scrolled": true
   },
   "outputs": [
    {
     "data": {
      "text/html": [
       "<div>\n",
       "<style scoped>\n",
       "    .dataframe tbody tr th:only-of-type {\n",
       "        vertical-align: middle;\n",
       "    }\n",
       "\n",
       "    .dataframe tbody tr th {\n",
       "        vertical-align: top;\n",
       "    }\n",
       "\n",
       "    .dataframe thead th {\n",
       "        text-align: right;\n",
       "    }\n",
       "</style>\n",
       "<table border=\"1\" class=\"dataframe\">\n",
       "  <thead>\n",
       "    <tr style=\"text-align: right;\">\n",
       "      <th></th>\n",
       "      <th>A</th>\n",
       "      <th>B</th>\n",
       "      <th>C</th>\n",
       "      <th>D</th>\n",
       "      <th>E</th>\n",
       "      <th>F</th>\n",
       "      <th>G</th>\n",
       "      <th>H</th>\n",
       "      <th>I</th>\n",
       "      <th>J</th>\n",
       "    </tr>\n",
       "  </thead>\n",
       "  <tbody>\n",
       "    <tr>\n",
       "      <th>617759</th>\n",
       "      <td>16421</td>\n",
       "      <td>3256</td>\n",
       "      <td>31560</td>\n",
       "      <td>37672</td>\n",
       "      <td>50311</td>\n",
       "      <td>14057</td>\n",
       "      <td>78649</td>\n",
       "      <td>28616</td>\n",
       "      <td>80281</td>\n",
       "      <td>82249</td>\n",
       "    </tr>\n",
       "    <tr>\n",
       "      <th>693227</th>\n",
       "      <td>36536</td>\n",
       "      <td>84150</td>\n",
       "      <td>70530</td>\n",
       "      <td>93875</td>\n",
       "      <td>20204</td>\n",
       "      <td>60722</td>\n",
       "      <td>76840</td>\n",
       "      <td>23720</td>\n",
       "      <td>61177</td>\n",
       "      <td>5413</td>\n",
       "    </tr>\n",
       "    <tr>\n",
       "      <th>906065</th>\n",
       "      <td>35486</td>\n",
       "      <td>10824</td>\n",
       "      <td>50412</td>\n",
       "      <td>8545</td>\n",
       "      <td>14550</td>\n",
       "      <td>35648</td>\n",
       "      <td>46434</td>\n",
       "      <td>77145</td>\n",
       "      <td>27618</td>\n",
       "      <td>85110</td>\n",
       "    </tr>\n",
       "    <tr>\n",
       "      <th>828507</th>\n",
       "      <td>52859</td>\n",
       "      <td>39391</td>\n",
       "      <td>30449</td>\n",
       "      <td>69739</td>\n",
       "      <td>8939</td>\n",
       "      <td>67696</td>\n",
       "      <td>59151</td>\n",
       "      <td>17833</td>\n",
       "      <td>69391</td>\n",
       "      <td>53393</td>\n",
       "    </tr>\n",
       "    <tr>\n",
       "      <th>869730</th>\n",
       "      <td>60838</td>\n",
       "      <td>73505</td>\n",
       "      <td>1446</td>\n",
       "      <td>72399</td>\n",
       "      <td>57888</td>\n",
       "      <td>5732</td>\n",
       "      <td>18771</td>\n",
       "      <td>92133</td>\n",
       "      <td>5659</td>\n",
       "      <td>72791</td>\n",
       "    </tr>\n",
       "    <tr>\n",
       "      <th>147081</th>\n",
       "      <td>3563</td>\n",
       "      <td>57038</td>\n",
       "      <td>66850</td>\n",
       "      <td>3696</td>\n",
       "      <td>21676</td>\n",
       "      <td>9863</td>\n",
       "      <td>92684</td>\n",
       "      <td>27451</td>\n",
       "      <td>25358</td>\n",
       "      <td>30775</td>\n",
       "    </tr>\n",
       "    <tr>\n",
       "      <th>779428</th>\n",
       "      <td>33557</td>\n",
       "      <td>8016</td>\n",
       "      <td>34072</td>\n",
       "      <td>34270</td>\n",
       "      <td>28377</td>\n",
       "      <td>87484</td>\n",
       "      <td>63168</td>\n",
       "      <td>15352</td>\n",
       "      <td>63846</td>\n",
       "      <td>7861</td>\n",
       "    </tr>\n",
       "    <tr>\n",
       "      <th>485973</th>\n",
       "      <td>8411</td>\n",
       "      <td>69158</td>\n",
       "      <td>51229</td>\n",
       "      <td>52660</td>\n",
       "      <td>1219</td>\n",
       "      <td>75011</td>\n",
       "      <td>10931</td>\n",
       "      <td>50747</td>\n",
       "      <td>52198</td>\n",
       "      <td>30185</td>\n",
       "    </tr>\n",
       "    <tr>\n",
       "      <th>30697</th>\n",
       "      <td>1423</td>\n",
       "      <td>48682</td>\n",
       "      <td>50817</td>\n",
       "      <td>57325</td>\n",
       "      <td>5350</td>\n",
       "      <td>1623</td>\n",
       "      <td>79845</td>\n",
       "      <td>39597</td>\n",
       "      <td>87626</td>\n",
       "      <td>97905</td>\n",
       "    </tr>\n",
       "    <tr>\n",
       "      <th>306669</th>\n",
       "      <td>34381</td>\n",
       "      <td>8320</td>\n",
       "      <td>50475</td>\n",
       "      <td>62573</td>\n",
       "      <td>17946</td>\n",
       "      <td>16395</td>\n",
       "      <td>18804</td>\n",
       "      <td>87234</td>\n",
       "      <td>46229</td>\n",
       "      <td>37744</td>\n",
       "    </tr>\n",
       "  </tbody>\n",
       "</table>\n",
       "</div>"
      ],
      "text/plain": [
       "            A      B      C      D      E      F      G      H      I      J\n",
       "617759  16421   3256  31560  37672  50311  14057  78649  28616  80281  82249\n",
       "693227  36536  84150  70530  93875  20204  60722  76840  23720  61177   5413\n",
       "906065  35486  10824  50412   8545  14550  35648  46434  77145  27618  85110\n",
       "828507  52859  39391  30449  69739   8939  67696  59151  17833  69391  53393\n",
       "869730  60838  73505   1446  72399  57888   5732  18771  92133   5659  72791\n",
       "147081   3563  57038  66850   3696  21676   9863  92684  27451  25358  30775\n",
       "779428  33557   8016  34072  34270  28377  87484  63168  15352  63846   7861\n",
       "485973   8411  69158  51229  52660   1219  75011  10931  50747  52198  30185\n",
       "30697    1423  48682  50817  57325   5350   1623  79845  39597  87626  97905\n",
       "306669  34381   8320  50475  62573  17946  16395  18804  87234  46229  37744"
      ]
     },
     "execution_count": 26,
     "metadata": {},
     "output_type": "execute_result"
    }
   ],
   "source": [
    "df.sample(10, random_state=100)"
   ]
  },
  {
   "cell_type": "code",
   "execution_count": 32,
   "metadata": {
    "ExecuteTime": {
     "end_time": "2021-05-31T09:53:12.039004Z",
     "start_time": "2021-05-31T09:53:11.970040Z"
    },
    "scrolled": false
   },
   "outputs": [
    {
     "data": {
      "text/html": [
       "<div>\n",
       "<style scoped>\n",
       "    .dataframe tbody tr th:only-of-type {\n",
       "        vertical-align: middle;\n",
       "    }\n",
       "\n",
       "    .dataframe tbody tr th {\n",
       "        vertical-align: top;\n",
       "    }\n",
       "\n",
       "    .dataframe thead th {\n",
       "        text-align: right;\n",
       "    }\n",
       "</style>\n",
       "<table border=\"1\" class=\"dataframe\">\n",
       "  <thead>\n",
       "    <tr style=\"text-align: right;\">\n",
       "      <th></th>\n",
       "      <th>A</th>\n",
       "      <th>B</th>\n",
       "      <th>C</th>\n",
       "      <th>D</th>\n",
       "      <th>E</th>\n",
       "      <th>F</th>\n",
       "      <th>G</th>\n",
       "      <th>H</th>\n",
       "      <th>I</th>\n",
       "      <th>J</th>\n",
       "    </tr>\n",
       "  </thead>\n",
       "  <tbody>\n",
       "    <tr>\n",
       "      <th>617759</th>\n",
       "      <td>16421</td>\n",
       "      <td>3256</td>\n",
       "      <td>31560</td>\n",
       "      <td>37672</td>\n",
       "      <td>50311</td>\n",
       "      <td>14057</td>\n",
       "      <td>78649</td>\n",
       "      <td>28616</td>\n",
       "      <td>80281</td>\n",
       "      <td>82249</td>\n",
       "    </tr>\n",
       "    <tr>\n",
       "      <th>693227</th>\n",
       "      <td>36536</td>\n",
       "      <td>84150</td>\n",
       "      <td>70530</td>\n",
       "      <td>93875</td>\n",
       "      <td>20204</td>\n",
       "      <td>60722</td>\n",
       "      <td>76840</td>\n",
       "      <td>23720</td>\n",
       "      <td>61177</td>\n",
       "      <td>5413</td>\n",
       "    </tr>\n",
       "    <tr>\n",
       "      <th>906065</th>\n",
       "      <td>35486</td>\n",
       "      <td>10824</td>\n",
       "      <td>50412</td>\n",
       "      <td>8545</td>\n",
       "      <td>14550</td>\n",
       "      <td>35648</td>\n",
       "      <td>46434</td>\n",
       "      <td>77145</td>\n",
       "      <td>27618</td>\n",
       "      <td>85110</td>\n",
       "    </tr>\n",
       "    <tr>\n",
       "      <th>828507</th>\n",
       "      <td>52859</td>\n",
       "      <td>39391</td>\n",
       "      <td>30449</td>\n",
       "      <td>69739</td>\n",
       "      <td>8939</td>\n",
       "      <td>67696</td>\n",
       "      <td>59151</td>\n",
       "      <td>17833</td>\n",
       "      <td>69391</td>\n",
       "      <td>53393</td>\n",
       "    </tr>\n",
       "    <tr>\n",
       "      <th>869730</th>\n",
       "      <td>60838</td>\n",
       "      <td>73505</td>\n",
       "      <td>1446</td>\n",
       "      <td>72399</td>\n",
       "      <td>57888</td>\n",
       "      <td>5732</td>\n",
       "      <td>18771</td>\n",
       "      <td>92133</td>\n",
       "      <td>5659</td>\n",
       "      <td>72791</td>\n",
       "    </tr>\n",
       "    <tr>\n",
       "      <th>...</th>\n",
       "      <td>...</td>\n",
       "      <td>...</td>\n",
       "      <td>...</td>\n",
       "      <td>...</td>\n",
       "      <td>...</td>\n",
       "      <td>...</td>\n",
       "      <td>...</td>\n",
       "      <td>...</td>\n",
       "      <td>...</td>\n",
       "      <td>...</td>\n",
       "    </tr>\n",
       "    <tr>\n",
       "      <th>599633</th>\n",
       "      <td>51929</td>\n",
       "      <td>45027</td>\n",
       "      <td>21838</td>\n",
       "      <td>56692</td>\n",
       "      <td>1073</td>\n",
       "      <td>45060</td>\n",
       "      <td>89834</td>\n",
       "      <td>25664</td>\n",
       "      <td>77608</td>\n",
       "      <td>16729</td>\n",
       "    </tr>\n",
       "    <tr>\n",
       "      <th>103907</th>\n",
       "      <td>74829</td>\n",
       "      <td>51058</td>\n",
       "      <td>75963</td>\n",
       "      <td>17402</td>\n",
       "      <td>42467</td>\n",
       "      <td>74734</td>\n",
       "      <td>64579</td>\n",
       "      <td>1999</td>\n",
       "      <td>83888</td>\n",
       "      <td>30873</td>\n",
       "    </tr>\n",
       "    <tr>\n",
       "      <th>536846</th>\n",
       "      <td>38788</td>\n",
       "      <td>26088</td>\n",
       "      <td>17268</td>\n",
       "      <td>63286</td>\n",
       "      <td>70736</td>\n",
       "      <td>24191</td>\n",
       "      <td>68282</td>\n",
       "      <td>70831</td>\n",
       "      <td>47385</td>\n",
       "      <td>74049</td>\n",
       "    </tr>\n",
       "    <tr>\n",
       "      <th>68354</th>\n",
       "      <td>51571</td>\n",
       "      <td>60078</td>\n",
       "      <td>71292</td>\n",
       "      <td>26930</td>\n",
       "      <td>38089</td>\n",
       "      <td>41173</td>\n",
       "      <td>98117</td>\n",
       "      <td>31348</td>\n",
       "      <td>81187</td>\n",
       "      <td>84834</td>\n",
       "    </tr>\n",
       "    <tr>\n",
       "      <th>762302</th>\n",
       "      <td>38543</td>\n",
       "      <td>31685</td>\n",
       "      <td>42866</td>\n",
       "      <td>31940</td>\n",
       "      <td>72442</td>\n",
       "      <td>35433</td>\n",
       "      <td>99951</td>\n",
       "      <td>53213</td>\n",
       "      <td>25896</td>\n",
       "      <td>39130</td>\n",
       "    </tr>\n",
       "  </tbody>\n",
       "</table>\n",
       "<p>100000 rows × 10 columns</p>\n",
       "</div>"
      ],
      "text/plain": [
       "            A      B      C      D      E      F      G      H      I      J\n",
       "617759  16421   3256  31560  37672  50311  14057  78649  28616  80281  82249\n",
       "693227  36536  84150  70530  93875  20204  60722  76840  23720  61177   5413\n",
       "906065  35486  10824  50412   8545  14550  35648  46434  77145  27618  85110\n",
       "828507  52859  39391  30449  69739   8939  67696  59151  17833  69391  53393\n",
       "869730  60838  73505   1446  72399  57888   5732  18771  92133   5659  72791\n",
       "...       ...    ...    ...    ...    ...    ...    ...    ...    ...    ...\n",
       "599633  51929  45027  21838  56692   1073  45060  89834  25664  77608  16729\n",
       "103907  74829  51058  75963  17402  42467  74734  64579   1999  83888  30873\n",
       "536846  38788  26088  17268  63286  70736  24191  68282  70831  47385  74049\n",
       "68354   51571  60078  71292  26930  38089  41173  98117  31348  81187  84834\n",
       "762302  38543  31685  42866  31940  72442  35433  99951  53213  25896  39130\n",
       "\n",
       "[100000 rows x 10 columns]"
      ]
     },
     "execution_count": 32,
     "metadata": {},
     "output_type": "execute_result"
    }
   ],
   "source": [
    "df.sample(frac=0.1, random_state=100)"
   ]
  },
  {
   "cell_type": "markdown",
   "metadata": {},
   "source": [
    "# 4. Manipulação de strings - métodos <a name=\"strings\"></a>\n",
    "<div style=\"text-align: right\"\n",
    "     \n",
    "[Voltar ao índice](#Contents)"
   ]
  },
  {
   "cell_type": "code",
   "execution_count": 58,
   "metadata": {
    "ExecuteTime": {
     "end_time": "2021-05-31T10:15:36.733921Z",
     "start_time": "2021-05-31T10:15:36.725926Z"
    }
   },
   "outputs": [],
   "source": [
    "texto = 'texto'"
   ]
  },
  {
   "cell_type": "code",
   "execution_count": 59,
   "metadata": {
    "ExecuteTime": {
     "end_time": "2021-05-31T10:15:41.550985Z",
     "start_time": "2021-05-31T10:15:41.536019Z"
    }
   },
   "outputs": [
    {
     "data": {
      "text/plain": [
       "'otxet'"
      ]
     },
     "execution_count": 59,
     "metadata": {},
     "output_type": "execute_result"
    }
   ],
   "source": [
    "texto[::-1]"
   ]
  },
  {
   "cell_type": "code",
   "execution_count": 64,
   "metadata": {
    "ExecuteTime": {
     "end_time": "2021-05-31T10:19:25.536743Z",
     "start_time": "2021-05-31T10:19:25.522752Z"
    }
   },
   "outputs": [],
   "source": [
    "palindromo = 'apos a sopa'"
   ]
  },
  {
   "cell_type": "code",
   "execution_count": 65,
   "metadata": {
    "ExecuteTime": {
     "end_time": "2021-05-31T10:19:26.240953Z",
     "start_time": "2021-05-31T10:19:26.225962Z"
    }
   },
   "outputs": [
    {
     "data": {
      "text/plain": [
       "'apos a sopa'"
      ]
     },
     "execution_count": 65,
     "metadata": {},
     "output_type": "execute_result"
    }
   ],
   "source": [
    "palindromo[::-1]"
   ]
  },
  {
   "cell_type": "code",
   "execution_count": 67,
   "metadata": {
    "ExecuteTime": {
     "end_time": "2021-06-01T09:56:36.677981Z",
     "start_time": "2021-06-01T09:56:36.662980Z"
    }
   },
   "outputs": [
    {
     "data": {
      "text/plain": [
       "'Texto'"
      ]
     },
     "execution_count": 67,
     "metadata": {},
     "output_type": "execute_result"
    }
   ],
   "source": [
    "texto = 'teXTO'\n",
    "texto.capitalize()"
   ]
  },
  {
   "cell_type": "code",
   "execution_count": 68,
   "metadata": {
    "ExecuteTime": {
     "end_time": "2021-06-01T09:56:49.873292Z",
     "start_time": "2021-06-01T09:56:49.864296Z"
    }
   },
   "outputs": [
    {
     "data": {
      "text/plain": [
       "'texto'"
      ]
     },
     "execution_count": 68,
     "metadata": {},
     "output_type": "execute_result"
    }
   ],
   "source": [
    "texto.lower()"
   ]
  },
  {
   "cell_type": "code",
   "execution_count": 70,
   "metadata": {
    "ExecuteTime": {
     "end_time": "2021-06-01T09:59:28.909681Z",
     "start_time": "2021-06-01T09:59:28.895687Z"
    }
   },
   "outputs": [
    {
     "data": {
      "text/plain": [
       "'TEXTO'"
      ]
     },
     "execution_count": 70,
     "metadata": {},
     "output_type": "execute_result"
    }
   ],
   "source": [
    "texto.upper()"
   ]
  },
  {
   "cell_type": "code",
   "execution_count": 75,
   "metadata": {
    "ExecuteTime": {
     "end_time": "2021-06-01T10:02:02.244478Z",
     "start_time": "2021-06-01T10:02:02.231486Z"
    }
   },
   "outputs": [
    {
     "data": {
      "text/plain": [
       "2"
      ]
     },
     "execution_count": 75,
     "metadata": {},
     "output_type": "execute_result"
    }
   ],
   "source": [
    "# S.find(sub[, start[, end]]) -> int\n",
    "texto.find('X')"
   ]
  },
  {
   "cell_type": "code",
   "execution_count": 78,
   "metadata": {
    "ExecuteTime": {
     "end_time": "2021-06-01T10:16:22.092756Z",
     "start_time": "2021-06-01T10:16:22.076776Z"
    }
   },
   "outputs": [
    {
     "data": {
      "text/plain": [
       "'X'"
      ]
     },
     "execution_count": 78,
     "metadata": {},
     "output_type": "execute_result"
    }
   ],
   "source": [
    "texto[2]"
   ]
  },
  {
   "cell_type": "code",
   "execution_count": 76,
   "metadata": {
    "ExecuteTime": {
     "end_time": "2021-06-01T10:02:03.055975Z",
     "start_time": "2021-06-01T10:02:03.038984Z"
    }
   },
   "outputs": [
    {
     "data": {
      "text/plain": [
       "-1"
      ]
     },
     "execution_count": 76,
     "metadata": {},
     "output_type": "execute_result"
    }
   ],
   "source": [
    "#S.find(sub[, start[, end]]) -> int\n",
    "texto.find('x')"
   ]
  },
  {
   "cell_type": "code",
   "execution_count": 77,
   "metadata": {
    "ExecuteTime": {
     "end_time": "2021-06-01T10:07:22.993769Z",
     "start_time": "2021-06-01T10:07:22.976796Z"
    }
   },
   "outputs": [
    {
     "data": {
      "text/plain": [
       "'testa'"
      ]
     },
     "execution_count": 77,
     "metadata": {},
     "output_type": "execute_result"
    }
   ],
   "source": [
    "#texto.replace(antigo, novo)\n",
    "texto.replace('XTO','sta')"
   ]
  },
  {
   "cell_type": "code",
   "execution_count": null,
   "metadata": {},
   "outputs": [],
   "source": []
  },
  {
   "cell_type": "code",
   "execution_count": null,
   "metadata": {},
   "outputs": [],
   "source": []
  }
 ],
 "metadata": {
  "kernelspec": {
   "display_name": "Python 3 (ipykernel)",
   "language": "python",
   "name": "python3"
  },
  "language_info": {
   "codemirror_mode": {
    "name": "ipython",
    "version": 3
   },
   "file_extension": ".py",
   "mimetype": "text/x-python",
   "name": "python",
   "nbconvert_exporter": "python",
   "pygments_lexer": "ipython3",
   "version": "3.10.11"
  },
  "varInspector": {
   "cols": {
    "lenName": 16,
    "lenType": 16,
    "lenVar": 40
   },
   "kernels_config": {
    "python": {
     "delete_cmd_postfix": "",
     "delete_cmd_prefix": "del ",
     "library": "var_list.py",
     "varRefreshCmd": "print(var_dic_list())"
    },
    "r": {
     "delete_cmd_postfix": ") ",
     "delete_cmd_prefix": "rm(",
     "library": "var_list.r",
     "varRefreshCmd": "cat(var_dic_list()) "
    }
   },
   "types_to_exclude": [
    "module",
    "function",
    "builtin_function_or_method",
    "instance",
    "_Feature"
   ],
   "window_display": false
  }
 },
 "nbformat": 4,
 "nbformat_minor": 4
}
