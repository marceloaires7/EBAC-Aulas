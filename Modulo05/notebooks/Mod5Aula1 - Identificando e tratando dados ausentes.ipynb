{
 "cells": [
  {
   "cell_type": "markdown",
   "metadata": {},
   "source": [
    "# 0. Índice <a name=\"Contents\"></a>\n",
    "1. [Importando bibliotecas](#import)\n",
    "2. [Construindo um dataframe](#read)\n",
    "3. [Identificando dados ausentes/missing](#identificando)\n",
    "4. [Tratando dados ausentes/missing](#tratando)\n",
    "5. [Dados duplicados](#duplicados)\n",
    "6. [Mapeamento](#map)\n",
    "\n"
   ]
  },
  {
   "cell_type": "markdown",
   "metadata": {},
   "source": [
    "# 1. Importando bibliotecas <a name=\"import\"></a>\n",
    "\n",
    "<div style=\"text-align: right\"\n",
    "     \n",
    "[Voltar ao índice](#Contents)"
   ]
  },
  {
   "cell_type": "code",
   "execution_count": 1,
   "metadata": {
    "ExecuteTime": {
     "end_time": "2021-06-06T21:12:37.298706Z",
     "start_time": "2021-06-06T21:12:36.656481Z"
    }
   },
   "outputs": [],
   "source": [
    "import pandas as pd\n",
    "import numpy as np"
   ]
  },
  {
   "cell_type": "markdown",
   "metadata": {},
   "source": [
    "# 2. Construindo um dataframe <a name=\"read\"></a>\n",
    "<div style=\"text-align: right\"\n",
    "     \n",
    "[Voltar ao índice](#Contents)"
   ]
  },
  {
   "cell_type": "code",
   "execution_count": 2,
   "metadata": {
    "ExecuteTime": {
     "end_time": "2021-06-06T21:12:37.762376Z",
     "start_time": "2021-06-06T21:12:37.728383Z"
    },
    "scrolled": true
   },
   "outputs": [
    {
     "data": {
      "text/html": [
       "<div>\n",
       "<style scoped>\n",
       "    .dataframe tbody tr th:only-of-type {\n",
       "        vertical-align: middle;\n",
       "    }\n",
       "\n",
       "    .dataframe tbody tr th {\n",
       "        vertical-align: top;\n",
       "    }\n",
       "\n",
       "    .dataframe thead th {\n",
       "        text-align: right;\n",
       "    }\n",
       "</style>\n",
       "<table border=\"1\" class=\"dataframe\">\n",
       "  <thead>\n",
       "    <tr style=\"text-align: right;\">\n",
       "      <th></th>\n",
       "      <th>coluna1</th>\n",
       "      <th>coluna2</th>\n",
       "      <th>coluna3</th>\n",
       "      <th>coluna4</th>\n",
       "    </tr>\n",
       "  </thead>\n",
       "  <tbody>\n",
       "    <tr>\n",
       "      <th>A</th>\n",
       "      <td>37.953582</td>\n",
       "      <td>-67.442977</td>\n",
       "      <td>-73.769612</td>\n",
       "      <td>-10.159269</td>\n",
       "    </tr>\n",
       "    <tr>\n",
       "      <th>B</th>\n",
       "      <td>139.949900</td>\n",
       "      <td>-50.458165</td>\n",
       "      <td>37.011801</td>\n",
       "      <td>-37.728630</td>\n",
       "    </tr>\n",
       "    <tr>\n",
       "      <th>C</th>\n",
       "      <td>-27.217205</td>\n",
       "      <td>-101.427183</td>\n",
       "      <td>-26.773712</td>\n",
       "      <td>175.222603</td>\n",
       "    </tr>\n",
       "    <tr>\n",
       "      <th>D</th>\n",
       "      <td>-159.484467</td>\n",
       "      <td>-187.087899</td>\n",
       "      <td>-38.484682</td>\n",
       "      <td>-34.360479</td>\n",
       "    </tr>\n",
       "    <tr>\n",
       "      <th>E</th>\n",
       "      <td>162.159503</td>\n",
       "      <td>191.139872</td>\n",
       "      <td>-61.321718</td>\n",
       "      <td>153.668198</td>\n",
       "    </tr>\n",
       "    <tr>\n",
       "      <th>F</th>\n",
       "      <td>78.543959</td>\n",
       "      <td>17.981604</td>\n",
       "      <td>69.406900</td>\n",
       "      <td>122.530173</td>\n",
       "    </tr>\n",
       "    <tr>\n",
       "      <th>G</th>\n",
       "      <td>-68.448540</td>\n",
       "      <td>29.012610</td>\n",
       "      <td>27.689917</td>\n",
       "      <td>105.278341</td>\n",
       "    </tr>\n",
       "    <tr>\n",
       "      <th>H</th>\n",
       "      <td>117.208783</td>\n",
       "      <td>141.097471</td>\n",
       "      <td>-165.066589</td>\n",
       "      <td>-52.618897</td>\n",
       "    </tr>\n",
       "    <tr>\n",
       "      <th>I</th>\n",
       "      <td>-130.318826</td>\n",
       "      <td>-47.955866</td>\n",
       "      <td>-44.402117</td>\n",
       "      <td>-79.955325</td>\n",
       "    </tr>\n",
       "  </tbody>\n",
       "</table>\n",
       "</div>"
      ],
      "text/plain": [
       "      coluna1     coluna2     coluna3     coluna4\n",
       "A   37.953582  -67.442977  -73.769612  -10.159269\n",
       "B  139.949900  -50.458165   37.011801  -37.728630\n",
       "C  -27.217205 -101.427183  -26.773712  175.222603\n",
       "D -159.484467 -187.087899  -38.484682  -34.360479\n",
       "E  162.159503  191.139872  -61.321718  153.668198\n",
       "F   78.543959   17.981604   69.406900  122.530173\n",
       "G  -68.448540   29.012610   27.689917  105.278341\n",
       "H  117.208783  141.097471 -165.066589  -52.618897\n",
       "I -130.318826  -47.955866  -44.402117  -79.955325"
      ]
     },
     "execution_count": 2,
     "metadata": {},
     "output_type": "execute_result"
    }
   ],
   "source": [
    "df = pd.DataFrame(\n",
    "    np.random.randn(9, 4)*100,\n",
    "    index=[\"A\", \"B\", \"C\", \"D\", \"E\", \"F\", \"G\", \"H\", \"I\"],\n",
    "    columns=[\"coluna1\", \"coluna2\", \"coluna3\",\"coluna4\"],\n",
    ")\n",
    "df"
   ]
  },
  {
   "cell_type": "code",
   "execution_count": 3,
   "metadata": {
    "ExecuteTime": {
     "end_time": "2021-06-06T21:12:37.905357Z",
     "start_time": "2021-06-06T21:12:37.898346Z"
    }
   },
   "outputs": [
    {
     "name": "stdout",
     "output_type": "stream",
     "text": [
      "<class 'pandas.core.frame.DataFrame'>\n",
      "Index: 9 entries, A to I\n",
      "Data columns (total 4 columns):\n",
      " #   Column   Non-Null Count  Dtype  \n",
      "---  ------   --------------  -----  \n",
      " 0   coluna1  9 non-null      float64\n",
      " 1   coluna2  9 non-null      float64\n",
      " 2   coluna3  9 non-null      float64\n",
      " 3   coluna4  9 non-null      float64\n",
      "dtypes: float64(4)\n",
      "memory usage: 360.0+ bytes\n"
     ]
    }
   ],
   "source": [
    "df.info()"
   ]
  },
  {
   "cell_type": "markdown",
   "metadata": {},
   "source": [
    "## Alterando os tipos de dados"
   ]
  },
  {
   "cell_type": "code",
   "execution_count": 4,
   "metadata": {
    "ExecuteTime": {
     "end_time": "2021-06-06T21:12:38.347455Z",
     "start_time": "2021-06-06T21:12:38.328485Z"
    }
   },
   "outputs": [],
   "source": [
    "df['coluna1'] = df['coluna1'].astype(int)"
   ]
  },
  {
   "cell_type": "code",
   "execution_count": 5,
   "metadata": {
    "ExecuteTime": {
     "end_time": "2021-06-06T21:12:38.691540Z",
     "start_time": "2021-06-06T21:12:38.682542Z"
    }
   },
   "outputs": [
    {
     "data": {
      "text/plain": [
       "coluna1      int32\n",
       "coluna2    float64\n",
       "coluna3    float64\n",
       "coluna4    float64\n",
       "dtype: object"
      ]
     },
     "execution_count": 5,
     "metadata": {},
     "output_type": "execute_result"
    }
   ],
   "source": [
    "df.dtypes"
   ]
  },
  {
   "cell_type": "code",
   "execution_count": 6,
   "metadata": {
    "ExecuteTime": {
     "end_time": "2021-06-06T21:12:38.880255Z",
     "start_time": "2021-06-06T21:12:38.862253Z"
    }
   },
   "outputs": [],
   "source": [
    "df['coluna3'] = df['coluna3'].astype(str)"
   ]
  },
  {
   "cell_type": "code",
   "execution_count": 7,
   "metadata": {
    "ExecuteTime": {
     "end_time": "2021-06-06T21:12:39.053345Z",
     "start_time": "2021-06-06T21:12:39.040378Z"
    }
   },
   "outputs": [
    {
     "data": {
      "text/plain": [
       "coluna1      int32\n",
       "coluna2    float64\n",
       "coluna3     object\n",
       "coluna4    float64\n",
       "dtype: object"
      ]
     },
     "execution_count": 7,
     "metadata": {},
     "output_type": "execute_result"
    }
   ],
   "source": [
    "df.dtypes"
   ]
  },
  {
   "cell_type": "code",
   "execution_count": 8,
   "metadata": {
    "ExecuteTime": {
     "end_time": "2021-06-06T21:12:39.242790Z",
     "start_time": "2021-06-06T21:12:39.218792Z"
    },
    "scrolled": true
   },
   "outputs": [
    {
     "data": {
      "text/html": [
       "<div>\n",
       "<style scoped>\n",
       "    .dataframe tbody tr th:only-of-type {\n",
       "        vertical-align: middle;\n",
       "    }\n",
       "\n",
       "    .dataframe tbody tr th {\n",
       "        vertical-align: top;\n",
       "    }\n",
       "\n",
       "    .dataframe thead th {\n",
       "        text-align: right;\n",
       "    }\n",
       "</style>\n",
       "<table border=\"1\" class=\"dataframe\">\n",
       "  <thead>\n",
       "    <tr style=\"text-align: right;\">\n",
       "      <th></th>\n",
       "      <th>coluna1</th>\n",
       "      <th>coluna2</th>\n",
       "      <th>coluna3</th>\n",
       "      <th>coluna4</th>\n",
       "    </tr>\n",
       "  </thead>\n",
       "  <tbody>\n",
       "    <tr>\n",
       "      <th>A</th>\n",
       "      <td>37</td>\n",
       "      <td>-67.442977</td>\n",
       "      <td>-73.76961185869824</td>\n",
       "      <td>-10.159269</td>\n",
       "    </tr>\n",
       "    <tr>\n",
       "      <th>B</th>\n",
       "      <td>139</td>\n",
       "      <td>-50.458165</td>\n",
       "      <td>37.01180093049798</td>\n",
       "      <td>-37.728630</td>\n",
       "    </tr>\n",
       "    <tr>\n",
       "      <th>C</th>\n",
       "      <td>-27</td>\n",
       "      <td>-101.427183</td>\n",
       "      <td>-26.77371217954196</td>\n",
       "      <td>175.222603</td>\n",
       "    </tr>\n",
       "    <tr>\n",
       "      <th>D</th>\n",
       "      <td>-159</td>\n",
       "      <td>-187.087899</td>\n",
       "      <td>-38.48468160945872</td>\n",
       "      <td>-34.360479</td>\n",
       "    </tr>\n",
       "    <tr>\n",
       "      <th>E</th>\n",
       "      <td>162</td>\n",
       "      <td>191.139872</td>\n",
       "      <td>-61.32171791422029</td>\n",
       "      <td>153.668198</td>\n",
       "    </tr>\n",
       "    <tr>\n",
       "      <th>F</th>\n",
       "      <td>78</td>\n",
       "      <td>17.981604</td>\n",
       "      <td>69.40689951570812</td>\n",
       "      <td>122.530173</td>\n",
       "    </tr>\n",
       "    <tr>\n",
       "      <th>G</th>\n",
       "      <td>-68</td>\n",
       "      <td>29.012610</td>\n",
       "      <td>27.689916965797458</td>\n",
       "      <td>105.278341</td>\n",
       "    </tr>\n",
       "    <tr>\n",
       "      <th>H</th>\n",
       "      <td>117</td>\n",
       "      <td>141.097471</td>\n",
       "      <td>-165.06658947606712</td>\n",
       "      <td>-52.618897</td>\n",
       "    </tr>\n",
       "    <tr>\n",
       "      <th>I</th>\n",
       "      <td>-130</td>\n",
       "      <td>-47.955866</td>\n",
       "      <td>-44.40211703807853</td>\n",
       "      <td>-79.955325</td>\n",
       "    </tr>\n",
       "  </tbody>\n",
       "</table>\n",
       "</div>"
      ],
      "text/plain": [
       "   coluna1     coluna2              coluna3     coluna4\n",
       "A       37  -67.442977   -73.76961185869824  -10.159269\n",
       "B      139  -50.458165    37.01180093049798  -37.728630\n",
       "C      -27 -101.427183   -26.77371217954196  175.222603\n",
       "D     -159 -187.087899   -38.48468160945872  -34.360479\n",
       "E      162  191.139872   -61.32171791422029  153.668198\n",
       "F       78   17.981604    69.40689951570812  122.530173\n",
       "G      -68   29.012610   27.689916965797458  105.278341\n",
       "H      117  141.097471  -165.06658947606712  -52.618897\n",
       "I     -130  -47.955866   -44.40211703807853  -79.955325"
      ]
     },
     "execution_count": 8,
     "metadata": {},
     "output_type": "execute_result"
    }
   ],
   "source": [
    "df"
   ]
  },
  {
   "cell_type": "markdown",
   "metadata": {},
   "source": [
    "## Acrescentando dados faltantes na tabela"
   ]
  },
  {
   "cell_type": "code",
   "execution_count": 9,
   "metadata": {
    "ExecuteTime": {
     "end_time": "2021-06-06T21:12:39.573279Z",
     "start_time": "2021-06-06T21:12:39.564267Z"
    },
    "scrolled": true
   },
   "outputs": [
    {
     "data": {
      "text/plain": [
       "'-61.32171791422029'"
      ]
     },
     "execution_count": 9,
     "metadata": {},
     "output_type": "execute_result"
    }
   ],
   "source": [
    "df.iloc[4,2]"
   ]
  },
  {
   "cell_type": "code",
   "execution_count": 10,
   "metadata": {
    "ExecuteTime": {
     "end_time": "2021-06-06T21:12:39.746161Z",
     "start_time": "2021-06-06T21:12:39.738166Z"
    }
   },
   "outputs": [],
   "source": [
    "df.iloc[4,2] = np.nan"
   ]
  },
  {
   "cell_type": "code",
   "execution_count": 11,
   "metadata": {
    "ExecuteTime": {
     "end_time": "2021-06-06T21:12:39.934151Z",
     "start_time": "2021-06-06T21:12:39.917147Z"
    },
    "scrolled": true
   },
   "outputs": [
    {
     "data": {
      "text/html": [
       "<div>\n",
       "<style scoped>\n",
       "    .dataframe tbody tr th:only-of-type {\n",
       "        vertical-align: middle;\n",
       "    }\n",
       "\n",
       "    .dataframe tbody tr th {\n",
       "        vertical-align: top;\n",
       "    }\n",
       "\n",
       "    .dataframe thead th {\n",
       "        text-align: right;\n",
       "    }\n",
       "</style>\n",
       "<table border=\"1\" class=\"dataframe\">\n",
       "  <thead>\n",
       "    <tr style=\"text-align: right;\">\n",
       "      <th></th>\n",
       "      <th>coluna1</th>\n",
       "      <th>coluna2</th>\n",
       "      <th>coluna3</th>\n",
       "      <th>coluna4</th>\n",
       "    </tr>\n",
       "  </thead>\n",
       "  <tbody>\n",
       "    <tr>\n",
       "      <th>A</th>\n",
       "      <td>37</td>\n",
       "      <td>-67.442977</td>\n",
       "      <td>-73.76961185869824</td>\n",
       "      <td>-10.159269</td>\n",
       "    </tr>\n",
       "    <tr>\n",
       "      <th>B</th>\n",
       "      <td>139</td>\n",
       "      <td>-50.458165</td>\n",
       "      <td>37.01180093049798</td>\n",
       "      <td>-37.728630</td>\n",
       "    </tr>\n",
       "    <tr>\n",
       "      <th>C</th>\n",
       "      <td>-27</td>\n",
       "      <td>-101.427183</td>\n",
       "      <td>-26.77371217954196</td>\n",
       "      <td>175.222603</td>\n",
       "    </tr>\n",
       "    <tr>\n",
       "      <th>D</th>\n",
       "      <td>-159</td>\n",
       "      <td>-187.087899</td>\n",
       "      <td>-38.48468160945872</td>\n",
       "      <td>-34.360479</td>\n",
       "    </tr>\n",
       "    <tr>\n",
       "      <th>E</th>\n",
       "      <td>162</td>\n",
       "      <td>191.139872</td>\n",
       "      <td>NaN</td>\n",
       "      <td>153.668198</td>\n",
       "    </tr>\n",
       "    <tr>\n",
       "      <th>F</th>\n",
       "      <td>78</td>\n",
       "      <td>17.981604</td>\n",
       "      <td>69.40689951570812</td>\n",
       "      <td>122.530173</td>\n",
       "    </tr>\n",
       "    <tr>\n",
       "      <th>G</th>\n",
       "      <td>-68</td>\n",
       "      <td>29.012610</td>\n",
       "      <td>27.689916965797458</td>\n",
       "      <td>105.278341</td>\n",
       "    </tr>\n",
       "    <tr>\n",
       "      <th>H</th>\n",
       "      <td>117</td>\n",
       "      <td>141.097471</td>\n",
       "      <td>-165.06658947606712</td>\n",
       "      <td>-52.618897</td>\n",
       "    </tr>\n",
       "    <tr>\n",
       "      <th>I</th>\n",
       "      <td>-130</td>\n",
       "      <td>-47.955866</td>\n",
       "      <td>-44.40211703807853</td>\n",
       "      <td>-79.955325</td>\n",
       "    </tr>\n",
       "  </tbody>\n",
       "</table>\n",
       "</div>"
      ],
      "text/plain": [
       "   coluna1     coluna2              coluna3     coluna4\n",
       "A       37  -67.442977   -73.76961185869824  -10.159269\n",
       "B      139  -50.458165    37.01180093049798  -37.728630\n",
       "C      -27 -101.427183   -26.77371217954196  175.222603\n",
       "D     -159 -187.087899   -38.48468160945872  -34.360479\n",
       "E      162  191.139872                  NaN  153.668198\n",
       "F       78   17.981604    69.40689951570812  122.530173\n",
       "G      -68   29.012610   27.689916965797458  105.278341\n",
       "H      117  141.097471  -165.06658947606712  -52.618897\n",
       "I     -130  -47.955866   -44.40211703807853  -79.955325"
      ]
     },
     "execution_count": 11,
     "metadata": {},
     "output_type": "execute_result"
    }
   ],
   "source": [
    "df"
   ]
  },
  {
   "cell_type": "code",
   "execution_count": 12,
   "metadata": {
    "ExecuteTime": {
     "end_time": "2021-06-06T21:12:40.123274Z",
     "start_time": "2021-06-06T21:12:40.103273Z"
    }
   },
   "outputs": [],
   "source": [
    "df.iloc[1,0] = np.nan\n",
    "df.iloc[4,0] = np.nan\n",
    "df.iloc[3,0] = np.nan\n",
    "df.iloc[8,0] = np.nan\n",
    "df.iloc[6,0] = np.nan\n",
    "df.iloc[4,3] = np.nan\n",
    "df.iloc[4,3] = np.nan\n",
    "df.iloc[8,3] = np.nan"
   ]
  },
  {
   "cell_type": "code",
   "execution_count": 13,
   "metadata": {
    "ExecuteTime": {
     "end_time": "2021-06-06T21:12:40.313753Z",
     "start_time": "2021-06-06T21:12:40.295768Z"
    }
   },
   "outputs": [
    {
     "data": {
      "text/html": [
       "<div>\n",
       "<style scoped>\n",
       "    .dataframe tbody tr th:only-of-type {\n",
       "        vertical-align: middle;\n",
       "    }\n",
       "\n",
       "    .dataframe tbody tr th {\n",
       "        vertical-align: top;\n",
       "    }\n",
       "\n",
       "    .dataframe thead th {\n",
       "        text-align: right;\n",
       "    }\n",
       "</style>\n",
       "<table border=\"1\" class=\"dataframe\">\n",
       "  <thead>\n",
       "    <tr style=\"text-align: right;\">\n",
       "      <th></th>\n",
       "      <th>coluna1</th>\n",
       "      <th>coluna2</th>\n",
       "      <th>coluna3</th>\n",
       "      <th>coluna4</th>\n",
       "    </tr>\n",
       "  </thead>\n",
       "  <tbody>\n",
       "    <tr>\n",
       "      <th>A</th>\n",
       "      <td>37.0</td>\n",
       "      <td>-67.442977</td>\n",
       "      <td>-73.76961185869824</td>\n",
       "      <td>-10.159269</td>\n",
       "    </tr>\n",
       "    <tr>\n",
       "      <th>B</th>\n",
       "      <td>NaN</td>\n",
       "      <td>-50.458165</td>\n",
       "      <td>37.01180093049798</td>\n",
       "      <td>-37.728630</td>\n",
       "    </tr>\n",
       "    <tr>\n",
       "      <th>C</th>\n",
       "      <td>-27.0</td>\n",
       "      <td>-101.427183</td>\n",
       "      <td>-26.77371217954196</td>\n",
       "      <td>175.222603</td>\n",
       "    </tr>\n",
       "    <tr>\n",
       "      <th>D</th>\n",
       "      <td>NaN</td>\n",
       "      <td>-187.087899</td>\n",
       "      <td>-38.48468160945872</td>\n",
       "      <td>-34.360479</td>\n",
       "    </tr>\n",
       "    <tr>\n",
       "      <th>E</th>\n",
       "      <td>NaN</td>\n",
       "      <td>191.139872</td>\n",
       "      <td>NaN</td>\n",
       "      <td>NaN</td>\n",
       "    </tr>\n",
       "    <tr>\n",
       "      <th>F</th>\n",
       "      <td>78.0</td>\n",
       "      <td>17.981604</td>\n",
       "      <td>69.40689951570812</td>\n",
       "      <td>122.530173</td>\n",
       "    </tr>\n",
       "    <tr>\n",
       "      <th>G</th>\n",
       "      <td>NaN</td>\n",
       "      <td>29.012610</td>\n",
       "      <td>27.689916965797458</td>\n",
       "      <td>105.278341</td>\n",
       "    </tr>\n",
       "    <tr>\n",
       "      <th>H</th>\n",
       "      <td>117.0</td>\n",
       "      <td>141.097471</td>\n",
       "      <td>-165.06658947606712</td>\n",
       "      <td>-52.618897</td>\n",
       "    </tr>\n",
       "    <tr>\n",
       "      <th>I</th>\n",
       "      <td>NaN</td>\n",
       "      <td>-47.955866</td>\n",
       "      <td>-44.40211703807853</td>\n",
       "      <td>NaN</td>\n",
       "    </tr>\n",
       "  </tbody>\n",
       "</table>\n",
       "</div>"
      ],
      "text/plain": [
       "   coluna1     coluna2              coluna3     coluna4\n",
       "A     37.0  -67.442977   -73.76961185869824  -10.159269\n",
       "B      NaN  -50.458165    37.01180093049798  -37.728630\n",
       "C    -27.0 -101.427183   -26.77371217954196  175.222603\n",
       "D      NaN -187.087899   -38.48468160945872  -34.360479\n",
       "E      NaN  191.139872                  NaN         NaN\n",
       "F     78.0   17.981604    69.40689951570812  122.530173\n",
       "G      NaN   29.012610   27.689916965797458  105.278341\n",
       "H    117.0  141.097471  -165.06658947606712  -52.618897\n",
       "I      NaN  -47.955866   -44.40211703807853         NaN"
      ]
     },
     "execution_count": 13,
     "metadata": {},
     "output_type": "execute_result"
    }
   ],
   "source": [
    "df"
   ]
  },
  {
   "cell_type": "code",
   "execution_count": 14,
   "metadata": {
    "ExecuteTime": {
     "end_time": "2021-06-06T21:12:40.830082Z",
     "start_time": "2021-06-06T21:12:40.811093Z"
    }
   },
   "outputs": [
    {
     "data": {
      "text/plain": [
       "coluna1    float64\n",
       "coluna2    float64\n",
       "coluna3     object\n",
       "coluna4    float64\n",
       "dtype: object"
      ]
     },
     "execution_count": 14,
     "metadata": {},
     "output_type": "execute_result"
    }
   ],
   "source": [
    "# Os tipos de dados podem mudar após acrescentar um dado faltante\n",
    "df.dtypes"
   ]
  },
  {
   "cell_type": "code",
   "execution_count": null,
   "metadata": {},
   "outputs": [],
   "source": []
  },
  {
   "cell_type": "code",
   "execution_count": null,
   "metadata": {},
   "outputs": [],
   "source": []
  },
  {
   "cell_type": "markdown",
   "metadata": {},
   "source": [
    "# 3. Identificando dados ausentes <a name=\"identificando\"></a>\n",
    "<div style=\"text-align: right\"\n",
    "     \n",
    "[Voltar ao índice](#Contents)"
   ]
  },
  {
   "cell_type": "code",
   "execution_count": 15,
   "metadata": {
    "ExecuteTime": {
     "end_time": "2021-06-06T21:12:42.301727Z",
     "start_time": "2021-06-06T21:12:42.292736Z"
    }
   },
   "outputs": [
    {
     "data": {
      "text/html": [
       "<div>\n",
       "<style scoped>\n",
       "    .dataframe tbody tr th:only-of-type {\n",
       "        vertical-align: middle;\n",
       "    }\n",
       "\n",
       "    .dataframe tbody tr th {\n",
       "        vertical-align: top;\n",
       "    }\n",
       "\n",
       "    .dataframe thead th {\n",
       "        text-align: right;\n",
       "    }\n",
       "</style>\n",
       "<table border=\"1\" class=\"dataframe\">\n",
       "  <thead>\n",
       "    <tr style=\"text-align: right;\">\n",
       "      <th></th>\n",
       "      <th>coluna1</th>\n",
       "      <th>coluna2</th>\n",
       "      <th>coluna3</th>\n",
       "      <th>coluna4</th>\n",
       "    </tr>\n",
       "  </thead>\n",
       "  <tbody>\n",
       "    <tr>\n",
       "      <th>A</th>\n",
       "      <td>False</td>\n",
       "      <td>False</td>\n",
       "      <td>False</td>\n",
       "      <td>False</td>\n",
       "    </tr>\n",
       "    <tr>\n",
       "      <th>B</th>\n",
       "      <td>True</td>\n",
       "      <td>False</td>\n",
       "      <td>False</td>\n",
       "      <td>False</td>\n",
       "    </tr>\n",
       "    <tr>\n",
       "      <th>C</th>\n",
       "      <td>False</td>\n",
       "      <td>False</td>\n",
       "      <td>False</td>\n",
       "      <td>False</td>\n",
       "    </tr>\n",
       "    <tr>\n",
       "      <th>D</th>\n",
       "      <td>True</td>\n",
       "      <td>False</td>\n",
       "      <td>False</td>\n",
       "      <td>False</td>\n",
       "    </tr>\n",
       "    <tr>\n",
       "      <th>E</th>\n",
       "      <td>True</td>\n",
       "      <td>False</td>\n",
       "      <td>True</td>\n",
       "      <td>True</td>\n",
       "    </tr>\n",
       "    <tr>\n",
       "      <th>F</th>\n",
       "      <td>False</td>\n",
       "      <td>False</td>\n",
       "      <td>False</td>\n",
       "      <td>False</td>\n",
       "    </tr>\n",
       "    <tr>\n",
       "      <th>G</th>\n",
       "      <td>True</td>\n",
       "      <td>False</td>\n",
       "      <td>False</td>\n",
       "      <td>False</td>\n",
       "    </tr>\n",
       "    <tr>\n",
       "      <th>H</th>\n",
       "      <td>False</td>\n",
       "      <td>False</td>\n",
       "      <td>False</td>\n",
       "      <td>False</td>\n",
       "    </tr>\n",
       "    <tr>\n",
       "      <th>I</th>\n",
       "      <td>True</td>\n",
       "      <td>False</td>\n",
       "      <td>False</td>\n",
       "      <td>True</td>\n",
       "    </tr>\n",
       "  </tbody>\n",
       "</table>\n",
       "</div>"
      ],
      "text/plain": [
       "   coluna1  coluna2  coluna3  coluna4\n",
       "A    False    False    False    False\n",
       "B     True    False    False    False\n",
       "C    False    False    False    False\n",
       "D     True    False    False    False\n",
       "E     True    False     True     True\n",
       "F    False    False    False    False\n",
       "G     True    False    False    False\n",
       "H    False    False    False    False\n",
       "I     True    False    False     True"
      ]
     },
     "execution_count": 15,
     "metadata": {},
     "output_type": "execute_result"
    }
   ],
   "source": [
    "df.isna()"
   ]
  },
  {
   "cell_type": "code",
   "execution_count": 16,
   "metadata": {
    "ExecuteTime": {
     "end_time": "2021-06-06T21:13:06.490476Z",
     "start_time": "2021-06-06T21:13:06.475491Z"
    }
   },
   "outputs": [
    {
     "data": {
      "text/html": [
       "<div>\n",
       "<style scoped>\n",
       "    .dataframe tbody tr th:only-of-type {\n",
       "        vertical-align: middle;\n",
       "    }\n",
       "\n",
       "    .dataframe tbody tr th {\n",
       "        vertical-align: top;\n",
       "    }\n",
       "\n",
       "    .dataframe thead th {\n",
       "        text-align: right;\n",
       "    }\n",
       "</style>\n",
       "<table border=\"1\" class=\"dataframe\">\n",
       "  <thead>\n",
       "    <tr style=\"text-align: right;\">\n",
       "      <th></th>\n",
       "      <th>coluna1</th>\n",
       "      <th>coluna2</th>\n",
       "      <th>coluna3</th>\n",
       "      <th>coluna4</th>\n",
       "    </tr>\n",
       "  </thead>\n",
       "  <tbody>\n",
       "    <tr>\n",
       "      <th>A</th>\n",
       "      <td>False</td>\n",
       "      <td>False</td>\n",
       "      <td>False</td>\n",
       "      <td>False</td>\n",
       "    </tr>\n",
       "    <tr>\n",
       "      <th>B</th>\n",
       "      <td>True</td>\n",
       "      <td>False</td>\n",
       "      <td>False</td>\n",
       "      <td>False</td>\n",
       "    </tr>\n",
       "    <tr>\n",
       "      <th>C</th>\n",
       "      <td>False</td>\n",
       "      <td>False</td>\n",
       "      <td>False</td>\n",
       "      <td>False</td>\n",
       "    </tr>\n",
       "    <tr>\n",
       "      <th>D</th>\n",
       "      <td>True</td>\n",
       "      <td>False</td>\n",
       "      <td>False</td>\n",
       "      <td>False</td>\n",
       "    </tr>\n",
       "    <tr>\n",
       "      <th>E</th>\n",
       "      <td>True</td>\n",
       "      <td>False</td>\n",
       "      <td>True</td>\n",
       "      <td>True</td>\n",
       "    </tr>\n",
       "    <tr>\n",
       "      <th>F</th>\n",
       "      <td>False</td>\n",
       "      <td>False</td>\n",
       "      <td>False</td>\n",
       "      <td>False</td>\n",
       "    </tr>\n",
       "    <tr>\n",
       "      <th>G</th>\n",
       "      <td>True</td>\n",
       "      <td>False</td>\n",
       "      <td>False</td>\n",
       "      <td>False</td>\n",
       "    </tr>\n",
       "    <tr>\n",
       "      <th>H</th>\n",
       "      <td>False</td>\n",
       "      <td>False</td>\n",
       "      <td>False</td>\n",
       "      <td>False</td>\n",
       "    </tr>\n",
       "    <tr>\n",
       "      <th>I</th>\n",
       "      <td>True</td>\n",
       "      <td>False</td>\n",
       "      <td>False</td>\n",
       "      <td>True</td>\n",
       "    </tr>\n",
       "  </tbody>\n",
       "</table>\n",
       "</div>"
      ],
      "text/plain": [
       "   coluna1  coluna2  coluna3  coluna4\n",
       "A    False    False    False    False\n",
       "B     True    False    False    False\n",
       "C    False    False    False    False\n",
       "D     True    False    False    False\n",
       "E     True    False     True     True\n",
       "F    False    False    False    False\n",
       "G     True    False    False    False\n",
       "H    False    False    False    False\n",
       "I     True    False    False     True"
      ]
     },
     "execution_count": 16,
     "metadata": {},
     "output_type": "execute_result"
    }
   ],
   "source": [
    "# Alias do isna\n",
    "df.isnull()"
   ]
  },
  {
   "cell_type": "code",
   "execution_count": 17,
   "metadata": {
    "ExecuteTime": {
     "end_time": "2021-05-29T10:33:31.745593Z",
     "start_time": "2021-05-29T10:33:31.736599Z"
    }
   },
   "outputs": [
    {
     "data": {
      "text/plain": [
       "A    False\n",
       "B     True\n",
       "C    False\n",
       "D     True\n",
       "E     True\n",
       "F    False\n",
       "G     True\n",
       "H    False\n",
       "I     True\n",
       "Name: coluna1, dtype: bool"
      ]
     },
     "execution_count": 17,
     "metadata": {},
     "output_type": "execute_result"
    }
   ],
   "source": [
    "df['coluna1'].isna()"
   ]
  },
  {
   "cell_type": "code",
   "execution_count": 18,
   "metadata": {
    "ExecuteTime": {
     "end_time": "2021-05-29T10:33:38.890443Z",
     "start_time": "2021-05-29T10:33:38.880435Z"
    }
   },
   "outputs": [
    {
     "data": {
      "text/html": [
       "<div>\n",
       "<style scoped>\n",
       "    .dataframe tbody tr th:only-of-type {\n",
       "        vertical-align: middle;\n",
       "    }\n",
       "\n",
       "    .dataframe tbody tr th {\n",
       "        vertical-align: top;\n",
       "    }\n",
       "\n",
       "    .dataframe thead th {\n",
       "        text-align: right;\n",
       "    }\n",
       "</style>\n",
       "<table border=\"1\" class=\"dataframe\">\n",
       "  <thead>\n",
       "    <tr style=\"text-align: right;\">\n",
       "      <th></th>\n",
       "      <th>coluna1</th>\n",
       "      <th>coluna2</th>\n",
       "      <th>coluna3</th>\n",
       "      <th>coluna4</th>\n",
       "    </tr>\n",
       "  </thead>\n",
       "  <tbody>\n",
       "    <tr>\n",
       "      <th>B</th>\n",
       "      <td>NaN</td>\n",
       "      <td>-50.458165</td>\n",
       "      <td>37.01180093049798</td>\n",
       "      <td>-37.728630</td>\n",
       "    </tr>\n",
       "    <tr>\n",
       "      <th>D</th>\n",
       "      <td>NaN</td>\n",
       "      <td>-187.087899</td>\n",
       "      <td>-38.48468160945872</td>\n",
       "      <td>-34.360479</td>\n",
       "    </tr>\n",
       "    <tr>\n",
       "      <th>E</th>\n",
       "      <td>NaN</td>\n",
       "      <td>191.139872</td>\n",
       "      <td>NaN</td>\n",
       "      <td>NaN</td>\n",
       "    </tr>\n",
       "    <tr>\n",
       "      <th>G</th>\n",
       "      <td>NaN</td>\n",
       "      <td>29.012610</td>\n",
       "      <td>27.689916965797458</td>\n",
       "      <td>105.278341</td>\n",
       "    </tr>\n",
       "    <tr>\n",
       "      <th>I</th>\n",
       "      <td>NaN</td>\n",
       "      <td>-47.955866</td>\n",
       "      <td>-44.40211703807853</td>\n",
       "      <td>NaN</td>\n",
       "    </tr>\n",
       "  </tbody>\n",
       "</table>\n",
       "</div>"
      ],
      "text/plain": [
       "   coluna1     coluna2             coluna3     coluna4\n",
       "B      NaN  -50.458165   37.01180093049798  -37.728630\n",
       "D      NaN -187.087899  -38.48468160945872  -34.360479\n",
       "E      NaN  191.139872                 NaN         NaN\n",
       "G      NaN   29.012610  27.689916965797458  105.278341\n",
       "I      NaN  -47.955866  -44.40211703807853         NaN"
      ]
     },
     "execution_count": 18,
     "metadata": {},
     "output_type": "execute_result"
    }
   ],
   "source": [
    "df[df['coluna1'].isna()]"
   ]
  },
  {
   "cell_type": "code",
   "execution_count": 19,
   "metadata": {
    "ExecuteTime": {
     "end_time": "2021-05-29T10:33:49.406523Z",
     "start_time": "2021-05-29T10:33:49.398526Z"
    }
   },
   "outputs": [
    {
     "data": {
      "text/html": [
       "<div>\n",
       "<style scoped>\n",
       "    .dataframe tbody tr th:only-of-type {\n",
       "        vertical-align: middle;\n",
       "    }\n",
       "\n",
       "    .dataframe tbody tr th {\n",
       "        vertical-align: top;\n",
       "    }\n",
       "\n",
       "    .dataframe thead th {\n",
       "        text-align: right;\n",
       "    }\n",
       "</style>\n",
       "<table border=\"1\" class=\"dataframe\">\n",
       "  <thead>\n",
       "    <tr style=\"text-align: right;\">\n",
       "      <th></th>\n",
       "      <th>coluna1</th>\n",
       "      <th>coluna2</th>\n",
       "      <th>coluna3</th>\n",
       "      <th>coluna4</th>\n",
       "    </tr>\n",
       "  </thead>\n",
       "  <tbody>\n",
       "    <tr>\n",
       "      <th>A</th>\n",
       "      <td>37.0</td>\n",
       "      <td>-67.442977</td>\n",
       "      <td>-73.76961185869824</td>\n",
       "      <td>-10.159269</td>\n",
       "    </tr>\n",
       "    <tr>\n",
       "      <th>C</th>\n",
       "      <td>-27.0</td>\n",
       "      <td>-101.427183</td>\n",
       "      <td>-26.77371217954196</td>\n",
       "      <td>175.222603</td>\n",
       "    </tr>\n",
       "    <tr>\n",
       "      <th>F</th>\n",
       "      <td>78.0</td>\n",
       "      <td>17.981604</td>\n",
       "      <td>69.40689951570812</td>\n",
       "      <td>122.530173</td>\n",
       "    </tr>\n",
       "    <tr>\n",
       "      <th>H</th>\n",
       "      <td>117.0</td>\n",
       "      <td>141.097471</td>\n",
       "      <td>-165.06658947606712</td>\n",
       "      <td>-52.618897</td>\n",
       "    </tr>\n",
       "  </tbody>\n",
       "</table>\n",
       "</div>"
      ],
      "text/plain": [
       "   coluna1     coluna2              coluna3     coluna4\n",
       "A     37.0  -67.442977   -73.76961185869824  -10.159269\n",
       "C    -27.0 -101.427183   -26.77371217954196  175.222603\n",
       "F     78.0   17.981604    69.40689951570812  122.530173\n",
       "H    117.0  141.097471  -165.06658947606712  -52.618897"
      ]
     },
     "execution_count": 19,
     "metadata": {},
     "output_type": "execute_result"
    }
   ],
   "source": [
    "df[~df['coluna1'].isna()]"
   ]
  },
  {
   "cell_type": "code",
   "execution_count": 20,
   "metadata": {
    "ExecuteTime": {
     "end_time": "2021-05-29T10:35:24.547767Z",
     "start_time": "2021-05-29T10:35:24.535761Z"
    }
   },
   "outputs": [
    {
     "data": {
      "text/plain": [
       "A     37.0\n",
       "B      NaN\n",
       "C    -27.0\n",
       "D      NaN\n",
       "E      NaN\n",
       "F     78.0\n",
       "G      NaN\n",
       "H    117.0\n",
       "I      NaN\n",
       "Name: coluna1, dtype: float64"
      ]
     },
     "execution_count": 20,
     "metadata": {},
     "output_type": "execute_result"
    }
   ],
   "source": [
    "df['coluna1']"
   ]
  },
  {
   "cell_type": "code",
   "execution_count": 21,
   "metadata": {
    "ExecuteTime": {
     "end_time": "2021-05-29T10:35:44.961583Z",
     "start_time": "2021-05-29T10:35:44.951574Z"
    }
   },
   "outputs": [
    {
     "data": {
      "text/plain": [
       "A    False\n",
       "B     True\n",
       "C    False\n",
       "D     True\n",
       "E     True\n",
       "F    False\n",
       "G     True\n",
       "H    False\n",
       "I     True\n",
       "Name: coluna1, dtype: bool"
      ]
     },
     "execution_count": 21,
     "metadata": {},
     "output_type": "execute_result"
    }
   ],
   "source": [
    "df['coluna1'].isna()"
   ]
  },
  {
   "cell_type": "code",
   "execution_count": 22,
   "metadata": {
    "ExecuteTime": {
     "end_time": "2021-05-29T10:35:18.466672Z",
     "start_time": "2021-05-29T10:35:18.455674Z"
    }
   },
   "outputs": [
    {
     "data": {
      "text/plain": [
       "5"
      ]
     },
     "execution_count": 22,
     "metadata": {},
     "output_type": "execute_result"
    }
   ],
   "source": [
    "df['coluna1'].isna().sum()"
   ]
  },
  {
   "cell_type": "code",
   "execution_count": 23,
   "metadata": {
    "ExecuteTime": {
     "end_time": "2021-05-29T13:38:36.366884Z",
     "start_time": "2021-05-29T13:38:36.345898Z"
    }
   },
   "outputs": [
    {
     "data": {
      "text/plain": [
       "coluna1    5\n",
       "coluna2    0\n",
       "coluna3    1\n",
       "coluna4    2\n",
       "dtype: int64"
      ]
     },
     "execution_count": 23,
     "metadata": {},
     "output_type": "execute_result"
    }
   ],
   "source": [
    "df.isna().sum()"
   ]
  },
  {
   "cell_type": "code",
   "execution_count": 24,
   "metadata": {
    "ExecuteTime": {
     "end_time": "2021-05-29T10:36:46.574041Z",
     "start_time": "2021-05-29T10:36:46.567015Z"
    }
   },
   "outputs": [
    {
     "data": {
      "text/plain": [
       "A    -67.442977\n",
       "B    -50.458165\n",
       "C   -101.427183\n",
       "D   -187.087899\n",
       "E    191.139872\n",
       "F     17.981604\n",
       "G     29.012610\n",
       "H    141.097471\n",
       "I    -47.955866\n",
       "Name: coluna2, dtype: float64"
      ]
     },
     "execution_count": 24,
     "metadata": {},
     "output_type": "execute_result"
    }
   ],
   "source": [
    "df['coluna2']"
   ]
  },
  {
   "cell_type": "code",
   "execution_count": 25,
   "metadata": {
    "ExecuteTime": {
     "end_time": "2021-05-29T10:36:42.849653Z",
     "start_time": "2021-05-29T10:36:42.839658Z"
    }
   },
   "outputs": [
    {
     "data": {
      "text/plain": [
       "0"
      ]
     },
     "execution_count": 25,
     "metadata": {},
     "output_type": "execute_result"
    }
   ],
   "source": [
    "df['coluna2'].isna().sum()"
   ]
  },
  {
   "cell_type": "code",
   "execution_count": 32,
   "metadata": {
    "ExecuteTime": {
     "end_time": "2021-05-29T14:12:47.717668Z",
     "start_time": "2021-05-29T14:12:47.710684Z"
    }
   },
   "outputs": [
    {
     "data": {
      "text/plain": [
       "coluna1    55.56\n",
       "coluna2     0.00\n",
       "coluna3    11.11\n",
       "coluna4    22.22\n",
       "dtype: float64"
      ]
     },
     "execution_count": 32,
     "metadata": {},
     "output_type": "execute_result"
    }
   ],
   "source": [
    "percentage = (df.isnull().sum() / len(df)) * 100\n",
    "percentage.round(2)"
   ]
  },
  {
   "cell_type": "code",
   "execution_count": null,
   "metadata": {},
   "outputs": [],
   "source": []
  },
  {
   "cell_type": "markdown",
   "metadata": {},
   "source": [
    "# 4. Tratando dados ausentes <a name=\"tratando\"></a>\n",
    "<div style=\"text-align: right\"\n",
    "     \n",
    "[Voltar ao índice](#Contents)"
   ]
  },
  {
   "cell_type": "code",
   "execution_count": 33,
   "metadata": {
    "ExecuteTime": {
     "end_time": "2021-05-29T10:41:56.025867Z",
     "start_time": "2021-05-29T10:41:56.013875Z"
    }
   },
   "outputs": [
    {
     "data": {
      "text/plain": [
       "A     37.0\n",
       "B      NaN\n",
       "C    -27.0\n",
       "D      NaN\n",
       "E      NaN\n",
       "F     78.0\n",
       "G      NaN\n",
       "H    117.0\n",
       "I      NaN\n",
       "Name: coluna1, dtype: float64"
      ]
     },
     "execution_count": 33,
     "metadata": {},
     "output_type": "execute_result"
    }
   ],
   "source": [
    "df['coluna1']"
   ]
  },
  {
   "cell_type": "markdown",
   "metadata": {},
   "source": [
    "## Substituindo por 0"
   ]
  },
  {
   "cell_type": "code",
   "execution_count": 53,
   "metadata": {
    "ExecuteTime": {
     "end_time": "2021-05-29T13:12:06.190474Z",
     "start_time": "2021-05-29T13:12:06.172486Z"
    },
    "scrolled": false
   },
   "outputs": [
    {
     "data": {
      "text/plain": [
       "A     37.0\n",
       "B      0.0\n",
       "C    -27.0\n",
       "D      0.0\n",
       "E      0.0\n",
       "F     78.0\n",
       "G      0.0\n",
       "H    117.0\n",
       "I      0.0\n",
       "Name: coluna1, dtype: float64"
      ]
     },
     "execution_count": 53,
     "metadata": {},
     "output_type": "execute_result"
    }
   ],
   "source": [
    "df['coluna1'].fillna(0)"
   ]
  },
  {
   "cell_type": "markdown",
   "metadata": {},
   "source": [
    "## Substituindo pela média"
   ]
  },
  {
   "cell_type": "code",
   "execution_count": 57,
   "metadata": {},
   "outputs": [
    {
     "data": {
      "text/plain": [
       "A     37.0\n",
       "B      NaN\n",
       "C    -27.0\n",
       "D      NaN\n",
       "E      NaN\n",
       "F     78.0\n",
       "G      NaN\n",
       "H    117.0\n",
       "I      NaN\n",
       "Name: coluna1, dtype: float64"
      ]
     },
     "execution_count": 57,
     "metadata": {},
     "output_type": "execute_result"
    }
   ],
   "source": [
    "df['coluna1']"
   ]
  },
  {
   "cell_type": "code",
   "execution_count": 59,
   "metadata": {
    "ExecuteTime": {
     "end_time": "2021-05-29T13:14:24.140037Z",
     "start_time": "2021-05-29T13:14:24.127037Z"
    }
   },
   "outputs": [
    {
     "data": {
      "text/plain": [
       "51.25"
      ]
     },
     "execution_count": 59,
     "metadata": {},
     "output_type": "execute_result"
    }
   ],
   "source": [
    "(37-27+78+117)/4"
   ]
  },
  {
   "cell_type": "code",
   "execution_count": 60,
   "metadata": {
    "ExecuteTime": {
     "end_time": "2021-05-29T13:14:25.215007Z",
     "start_time": "2021-05-29T13:14:25.210009Z"
    }
   },
   "outputs": [
    {
     "data": {
      "text/plain": [
       "51.25"
      ]
     },
     "execution_count": 60,
     "metadata": {},
     "output_type": "execute_result"
    }
   ],
   "source": [
    "df['coluna1'].mean()"
   ]
  },
  {
   "cell_type": "code",
   "execution_count": 62,
   "metadata": {
    "ExecuteTime": {
     "end_time": "2021-05-29T13:19:57.945165Z",
     "start_time": "2021-05-29T13:19:57.932160Z"
    }
   },
   "outputs": [],
   "source": [
    "med_col1 = df['coluna1'].mean()"
   ]
  },
  {
   "cell_type": "code",
   "execution_count": 63,
   "metadata": {
    "ExecuteTime": {
     "end_time": "2021-05-29T13:20:00.068882Z",
     "start_time": "2021-05-29T13:20:00.058887Z"
    }
   },
   "outputs": [
    {
     "data": {
      "text/plain": [
       "A     37.00\n",
       "B     51.25\n",
       "C    -27.00\n",
       "D     51.25\n",
       "E     51.25\n",
       "F     78.00\n",
       "G     51.25\n",
       "H    117.00\n",
       "I     51.25\n",
       "Name: coluna1, dtype: float64"
      ]
     },
     "execution_count": 63,
     "metadata": {},
     "output_type": "execute_result"
    }
   ],
   "source": [
    "df['coluna1'].fillna(med_col1)"
   ]
  },
  {
   "cell_type": "markdown",
   "metadata": {},
   "source": [
    "## Substituindo pela mediana"
   ]
  },
  {
   "cell_type": "code",
   "execution_count": 64,
   "metadata": {
    "ExecuteTime": {
     "end_time": "2021-06-06T21:14:45.257459Z",
     "start_time": "2021-06-06T21:14:45.243466Z"
    }
   },
   "outputs": [
    {
     "data": {
      "text/plain": [
       "A     37.0\n",
       "B      NaN\n",
       "C    -27.0\n",
       "D      NaN\n",
       "E      NaN\n",
       "F     78.0\n",
       "G      NaN\n",
       "H    117.0\n",
       "I      NaN\n",
       "Name: coluna1, dtype: float64"
      ]
     },
     "execution_count": 64,
     "metadata": {},
     "output_type": "execute_result"
    }
   ],
   "source": [
    "df['coluna1']"
   ]
  },
  {
   "cell_type": "code",
   "execution_count": 65,
   "metadata": {
    "ExecuteTime": {
     "end_time": "2021-06-06T21:14:56.142307Z",
     "start_time": "2021-06-06T21:14:56.121324Z"
    }
   },
   "outputs": [
    {
     "data": {
      "text/plain": [
       "C    -27.0\n",
       "A     37.0\n",
       "F     78.0\n",
       "H    117.0\n",
       "B      NaN\n",
       "D      NaN\n",
       "E      NaN\n",
       "G      NaN\n",
       "I      NaN\n",
       "Name: coluna1, dtype: float64"
      ]
     },
     "execution_count": 65,
     "metadata": {},
     "output_type": "execute_result"
    }
   ],
   "source": [
    "df['coluna1'].sort_values()"
   ]
  },
  {
   "cell_type": "code",
   "execution_count": 66,
   "metadata": {
    "ExecuteTime": {
     "end_time": "2021-06-06T21:15:32.069094Z",
     "start_time": "2021-06-06T21:15:32.056102Z"
    }
   },
   "outputs": [
    {
     "data": {
      "text/plain": [
       "57.5"
      ]
     },
     "execution_count": 66,
     "metadata": {},
     "output_type": "execute_result"
    }
   ],
   "source": [
    "(37+78)/2"
   ]
  },
  {
   "cell_type": "code",
   "execution_count": 67,
   "metadata": {
    "ExecuteTime": {
     "end_time": "2021-06-06T21:15:07.810981Z",
     "start_time": "2021-06-06T21:15:07.801973Z"
    }
   },
   "outputs": [
    {
     "data": {
      "text/plain": [
       "57.5"
      ]
     },
     "execution_count": 67,
     "metadata": {},
     "output_type": "execute_result"
    }
   ],
   "source": [
    "df['coluna1'].median()"
   ]
  },
  {
   "cell_type": "code",
   "execution_count": 68,
   "metadata": {
    "ExecuteTime": {
     "end_time": "2021-06-06T21:15:51.332736Z",
     "start_time": "2021-06-06T21:15:51.324736Z"
    }
   },
   "outputs": [],
   "source": [
    "mediana_col1 = df['coluna1'].median()"
   ]
  },
  {
   "cell_type": "code",
   "execution_count": 69,
   "metadata": {
    "ExecuteTime": {
     "end_time": "2021-06-06T21:15:51.490564Z",
     "start_time": "2021-06-06T21:15:51.483570Z"
    }
   },
   "outputs": [
    {
     "data": {
      "text/plain": [
       "A     37.0\n",
       "B     57.5\n",
       "C    -27.0\n",
       "D     57.5\n",
       "E     57.5\n",
       "F     78.0\n",
       "G     57.5\n",
       "H    117.0\n",
       "I     57.5\n",
       "Name: coluna1, dtype: float64"
      ]
     },
     "execution_count": 69,
     "metadata": {},
     "output_type": "execute_result"
    }
   ],
   "source": [
    "df['coluna1'].fillna(mediana_col1)"
   ]
  },
  {
   "cell_type": "code",
   "execution_count": 81,
   "metadata": {},
   "outputs": [
    {
     "data": {
      "text/plain": [
       "A     37.0\n",
       "B      NaN\n",
       "C    -27.0\n",
       "D      NaN\n",
       "E      NaN\n",
       "F     78.0\n",
       "G      NaN\n",
       "H    117.0\n",
       "I      NaN\n",
       "Name: coluna1, dtype: float64"
      ]
     },
     "execution_count": 81,
     "metadata": {},
     "output_type": "execute_result"
    }
   ],
   "source": [
    "df['coluna1']"
   ]
  },
  {
   "cell_type": "code",
   "execution_count": 78,
   "metadata": {
    "ExecuteTime": {
     "end_time": "2021-05-29T13:20:11.766007Z",
     "start_time": "2021-05-29T13:20:11.745019Z"
    },
    "scrolled": false
   },
   "outputs": [
    {
     "data": {
      "text/plain": [
       "A     37.0\n",
       "B     37.0\n",
       "C    -27.0\n",
       "D    -27.0\n",
       "E    -27.0\n",
       "F     78.0\n",
       "G     78.0\n",
       "H    117.0\n",
       "I    117.0\n",
       "Name: coluna1, dtype: float64"
      ]
     },
     "execution_count": 78,
     "metadata": {},
     "output_type": "execute_result"
    }
   ],
   "source": [
    "df['coluna1'].fillna(method='ffill')"
   ]
  },
  {
   "cell_type": "code",
   "execution_count": 80,
   "metadata": {
    "ExecuteTime": {
     "end_time": "2021-05-29T13:21:02.649710Z",
     "start_time": "2021-05-29T13:21:02.633720Z"
    }
   },
   "outputs": [
    {
     "data": {
      "text/plain": [
       "A     37.0\n",
       "C    -27.0\n",
       "F     78.0\n",
       "H    117.0\n",
       "Name: coluna1, dtype: float64"
      ]
     },
     "execution_count": 80,
     "metadata": {},
     "output_type": "execute_result"
    }
   ],
   "source": [
    "df['coluna1'].dropna()"
   ]
  },
  {
   "cell_type": "code",
   "execution_count": 82,
   "metadata": {
    "ExecuteTime": {
     "end_time": "2021-05-29T13:24:21.334336Z",
     "start_time": "2021-05-29T13:24:21.322344Z"
    }
   },
   "outputs": [
    {
     "data": {
      "text/html": [
       "<div>\n",
       "<style scoped>\n",
       "    .dataframe tbody tr th:only-of-type {\n",
       "        vertical-align: middle;\n",
       "    }\n",
       "\n",
       "    .dataframe tbody tr th {\n",
       "        vertical-align: top;\n",
       "    }\n",
       "\n",
       "    .dataframe thead th {\n",
       "        text-align: right;\n",
       "    }\n",
       "</style>\n",
       "<table border=\"1\" class=\"dataframe\">\n",
       "  <thead>\n",
       "    <tr style=\"text-align: right;\">\n",
       "      <th></th>\n",
       "      <th>coluna1</th>\n",
       "      <th>coluna2</th>\n",
       "      <th>coluna3</th>\n",
       "      <th>coluna4</th>\n",
       "    </tr>\n",
       "  </thead>\n",
       "  <tbody>\n",
       "    <tr>\n",
       "      <th>A</th>\n",
       "      <td>37.0</td>\n",
       "      <td>-67.442977</td>\n",
       "      <td>-73.76961185869824</td>\n",
       "      <td>-10.159269</td>\n",
       "    </tr>\n",
       "    <tr>\n",
       "      <th>C</th>\n",
       "      <td>-27.0</td>\n",
       "      <td>-101.427183</td>\n",
       "      <td>-26.77371217954196</td>\n",
       "      <td>175.222603</td>\n",
       "    </tr>\n",
       "    <tr>\n",
       "      <th>F</th>\n",
       "      <td>78.0</td>\n",
       "      <td>17.981604</td>\n",
       "      <td>69.40689951570812</td>\n",
       "      <td>122.530173</td>\n",
       "    </tr>\n",
       "    <tr>\n",
       "      <th>H</th>\n",
       "      <td>117.0</td>\n",
       "      <td>141.097471</td>\n",
       "      <td>-165.06658947606712</td>\n",
       "      <td>-52.618897</td>\n",
       "    </tr>\n",
       "  </tbody>\n",
       "</table>\n",
       "</div>"
      ],
      "text/plain": [
       "   coluna1     coluna2              coluna3     coluna4\n",
       "A     37.0  -67.442977   -73.76961185869824  -10.159269\n",
       "C    -27.0 -101.427183   -26.77371217954196  175.222603\n",
       "F     78.0   17.981604    69.40689951570812  122.530173\n",
       "H    117.0  141.097471  -165.06658947606712  -52.618897"
      ]
     },
     "execution_count": 82,
     "metadata": {},
     "output_type": "execute_result"
    }
   ],
   "source": [
    "# dropar todas as linhas que tenha pelo menos 1 NA\n",
    "df.dropna()"
   ]
  },
  {
   "cell_type": "markdown",
   "metadata": {},
   "source": [
    "# 5. Dados duplicados <a name=\"duplicados\"></a>\n",
    "<div style=\"text-align: right\"\n",
    "     \n",
    "[Voltar ao índice](#Contents)"
   ]
  },
  {
   "cell_type": "code",
   "execution_count": 91,
   "metadata": {
    "ExecuteTime": {
     "end_time": "2021-05-29T13:27:46.263931Z",
     "start_time": "2021-05-29T13:27:46.244941Z"
    }
   },
   "outputs": [
    {
     "name": "stderr",
     "output_type": "stream",
     "text": [
      "C:\\Users\\mary-\\AppData\\Local\\Temp\\ipykernel_20504\\1746637091.py:1: FutureWarning: The frame.append method is deprecated and will be removed from pandas in a future version. Use pandas.concat instead.\n",
      "  df_dup = df.append(df.loc['D':'H',:]).sort_index()\n"
     ]
    },
    {
     "data": {
      "text/html": [
       "<div>\n",
       "<style scoped>\n",
       "    .dataframe tbody tr th:only-of-type {\n",
       "        vertical-align: middle;\n",
       "    }\n",
       "\n",
       "    .dataframe tbody tr th {\n",
       "        vertical-align: top;\n",
       "    }\n",
       "\n",
       "    .dataframe thead th {\n",
       "        text-align: right;\n",
       "    }\n",
       "</style>\n",
       "<table border=\"1\" class=\"dataframe\">\n",
       "  <thead>\n",
       "    <tr style=\"text-align: right;\">\n",
       "      <th></th>\n",
       "      <th>coluna1</th>\n",
       "      <th>coluna2</th>\n",
       "      <th>coluna3</th>\n",
       "      <th>coluna4</th>\n",
       "    </tr>\n",
       "  </thead>\n",
       "  <tbody>\n",
       "    <tr>\n",
       "      <th>A</th>\n",
       "      <td>37.0</td>\n",
       "      <td>-67.442977</td>\n",
       "      <td>-73.76961185869824</td>\n",
       "      <td>-10.159269</td>\n",
       "    </tr>\n",
       "    <tr>\n",
       "      <th>B</th>\n",
       "      <td>NaN</td>\n",
       "      <td>-50.458165</td>\n",
       "      <td>37.01180093049798</td>\n",
       "      <td>-37.728630</td>\n",
       "    </tr>\n",
       "    <tr>\n",
       "      <th>C</th>\n",
       "      <td>-27.0</td>\n",
       "      <td>-101.427183</td>\n",
       "      <td>-26.77371217954196</td>\n",
       "      <td>175.222603</td>\n",
       "    </tr>\n",
       "    <tr>\n",
       "      <th>D</th>\n",
       "      <td>NaN</td>\n",
       "      <td>-187.087899</td>\n",
       "      <td>-38.48468160945872</td>\n",
       "      <td>-34.360479</td>\n",
       "    </tr>\n",
       "    <tr>\n",
       "      <th>D</th>\n",
       "      <td>NaN</td>\n",
       "      <td>-187.087899</td>\n",
       "      <td>-38.48468160945872</td>\n",
       "      <td>-34.360479</td>\n",
       "    </tr>\n",
       "    <tr>\n",
       "      <th>E</th>\n",
       "      <td>NaN</td>\n",
       "      <td>191.139872</td>\n",
       "      <td>NaN</td>\n",
       "      <td>NaN</td>\n",
       "    </tr>\n",
       "    <tr>\n",
       "      <th>E</th>\n",
       "      <td>NaN</td>\n",
       "      <td>191.139872</td>\n",
       "      <td>NaN</td>\n",
       "      <td>NaN</td>\n",
       "    </tr>\n",
       "    <tr>\n",
       "      <th>F</th>\n",
       "      <td>78.0</td>\n",
       "      <td>17.981604</td>\n",
       "      <td>69.40689951570812</td>\n",
       "      <td>122.530173</td>\n",
       "    </tr>\n",
       "    <tr>\n",
       "      <th>F</th>\n",
       "      <td>78.0</td>\n",
       "      <td>17.981604</td>\n",
       "      <td>69.40689951570812</td>\n",
       "      <td>122.530173</td>\n",
       "    </tr>\n",
       "    <tr>\n",
       "      <th>G</th>\n",
       "      <td>NaN</td>\n",
       "      <td>29.012610</td>\n",
       "      <td>27.689916965797458</td>\n",
       "      <td>105.278341</td>\n",
       "    </tr>\n",
       "    <tr>\n",
       "      <th>G</th>\n",
       "      <td>NaN</td>\n",
       "      <td>29.012610</td>\n",
       "      <td>27.689916965797458</td>\n",
       "      <td>105.278341</td>\n",
       "    </tr>\n",
       "    <tr>\n",
       "      <th>H</th>\n",
       "      <td>117.0</td>\n",
       "      <td>141.097471</td>\n",
       "      <td>-165.06658947606712</td>\n",
       "      <td>-52.618897</td>\n",
       "    </tr>\n",
       "    <tr>\n",
       "      <th>H</th>\n",
       "      <td>117.0</td>\n",
       "      <td>141.097471</td>\n",
       "      <td>-165.06658947606712</td>\n",
       "      <td>-52.618897</td>\n",
       "    </tr>\n",
       "    <tr>\n",
       "      <th>I</th>\n",
       "      <td>NaN</td>\n",
       "      <td>-47.955866</td>\n",
       "      <td>-44.40211703807853</td>\n",
       "      <td>NaN</td>\n",
       "    </tr>\n",
       "  </tbody>\n",
       "</table>\n",
       "</div>"
      ],
      "text/plain": [
       "   coluna1     coluna2              coluna3     coluna4\n",
       "A     37.0  -67.442977   -73.76961185869824  -10.159269\n",
       "B      NaN  -50.458165    37.01180093049798  -37.728630\n",
       "C    -27.0 -101.427183   -26.77371217954196  175.222603\n",
       "D      NaN -187.087899   -38.48468160945872  -34.360479\n",
       "D      NaN -187.087899   -38.48468160945872  -34.360479\n",
       "E      NaN  191.139872                  NaN         NaN\n",
       "E      NaN  191.139872                  NaN         NaN\n",
       "F     78.0   17.981604    69.40689951570812  122.530173\n",
       "F     78.0   17.981604    69.40689951570812  122.530173\n",
       "G      NaN   29.012610   27.689916965797458  105.278341\n",
       "G      NaN   29.012610   27.689916965797458  105.278341\n",
       "H    117.0  141.097471  -165.06658947606712  -52.618897\n",
       "H    117.0  141.097471  -165.06658947606712  -52.618897\n",
       "I      NaN  -47.955866   -44.40211703807853         NaN"
      ]
     },
     "execution_count": 91,
     "metadata": {},
     "output_type": "execute_result"
    }
   ],
   "source": [
    "df_dup = df.append(df.loc['D':'H',:]).sort_index()\n",
    "df_dup"
   ]
  },
  {
   "cell_type": "code",
   "execution_count": 94,
   "metadata": {
    "ExecuteTime": {
     "end_time": "2021-05-29T13:30:40.658624Z",
     "start_time": "2021-05-29T13:30:40.642623Z"
    }
   },
   "outputs": [
    {
     "data": {
      "text/html": [
       "<div>\n",
       "<style scoped>\n",
       "    .dataframe tbody tr th:only-of-type {\n",
       "        vertical-align: middle;\n",
       "    }\n",
       "\n",
       "    .dataframe tbody tr th {\n",
       "        vertical-align: top;\n",
       "    }\n",
       "\n",
       "    .dataframe thead th {\n",
       "        text-align: right;\n",
       "    }\n",
       "</style>\n",
       "<table border=\"1\" class=\"dataframe\">\n",
       "  <thead>\n",
       "    <tr style=\"text-align: right;\">\n",
       "      <th></th>\n",
       "      <th>coluna1</th>\n",
       "      <th>coluna2</th>\n",
       "      <th>coluna3</th>\n",
       "      <th>coluna4</th>\n",
       "    </tr>\n",
       "  </thead>\n",
       "  <tbody>\n",
       "    <tr>\n",
       "      <th>A</th>\n",
       "      <td>37.0</td>\n",
       "      <td>-67.442977</td>\n",
       "      <td>-73.76961185869824</td>\n",
       "      <td>-10.159269</td>\n",
       "    </tr>\n",
       "    <tr>\n",
       "      <th>B</th>\n",
       "      <td>NaN</td>\n",
       "      <td>-50.458165</td>\n",
       "      <td>37.01180093049798</td>\n",
       "      <td>-37.728630</td>\n",
       "    </tr>\n",
       "    <tr>\n",
       "      <th>C</th>\n",
       "      <td>-27.0</td>\n",
       "      <td>-101.427183</td>\n",
       "      <td>-26.77371217954196</td>\n",
       "      <td>175.222603</td>\n",
       "    </tr>\n",
       "    <tr>\n",
       "      <th>D</th>\n",
       "      <td>NaN</td>\n",
       "      <td>-187.087899</td>\n",
       "      <td>-38.48468160945872</td>\n",
       "      <td>-34.360479</td>\n",
       "    </tr>\n",
       "    <tr>\n",
       "      <th>E</th>\n",
       "      <td>NaN</td>\n",
       "      <td>191.139872</td>\n",
       "      <td>NaN</td>\n",
       "      <td>NaN</td>\n",
       "    </tr>\n",
       "    <tr>\n",
       "      <th>F</th>\n",
       "      <td>78.0</td>\n",
       "      <td>17.981604</td>\n",
       "      <td>69.40689951570812</td>\n",
       "      <td>122.530173</td>\n",
       "    </tr>\n",
       "    <tr>\n",
       "      <th>G</th>\n",
       "      <td>NaN</td>\n",
       "      <td>29.012610</td>\n",
       "      <td>27.689916965797458</td>\n",
       "      <td>105.278341</td>\n",
       "    </tr>\n",
       "    <tr>\n",
       "      <th>H</th>\n",
       "      <td>117.0</td>\n",
       "      <td>141.097471</td>\n",
       "      <td>-165.06658947606712</td>\n",
       "      <td>-52.618897</td>\n",
       "    </tr>\n",
       "    <tr>\n",
       "      <th>I</th>\n",
       "      <td>NaN</td>\n",
       "      <td>-47.955866</td>\n",
       "      <td>-44.40211703807853</td>\n",
       "      <td>NaN</td>\n",
       "    </tr>\n",
       "  </tbody>\n",
       "</table>\n",
       "</div>"
      ],
      "text/plain": [
       "   coluna1     coluna2              coluna3     coluna4\n",
       "A     37.0  -67.442977   -73.76961185869824  -10.159269\n",
       "B      NaN  -50.458165    37.01180093049798  -37.728630\n",
       "C    -27.0 -101.427183   -26.77371217954196  175.222603\n",
       "D      NaN -187.087899   -38.48468160945872  -34.360479\n",
       "E      NaN  191.139872                  NaN         NaN\n",
       "F     78.0   17.981604    69.40689951570812  122.530173\n",
       "G      NaN   29.012610   27.689916965797458  105.278341\n",
       "H    117.0  141.097471  -165.06658947606712  -52.618897\n",
       "I      NaN  -47.955866   -44.40211703807853         NaN"
      ]
     },
     "execution_count": 94,
     "metadata": {},
     "output_type": "execute_result"
    }
   ],
   "source": [
    "df_dup.drop_duplicates()"
   ]
  },
  {
   "cell_type": "code",
   "execution_count": 96,
   "metadata": {
    "ExecuteTime": {
     "end_time": "2021-05-29T13:30:33.567549Z",
     "start_time": "2021-05-29T13:30:33.544582Z"
    }
   },
   "outputs": [
    {
     "data": {
      "text/html": [
       "<div>\n",
       "<style scoped>\n",
       "    .dataframe tbody tr th:only-of-type {\n",
       "        vertical-align: middle;\n",
       "    }\n",
       "\n",
       "    .dataframe tbody tr th {\n",
       "        vertical-align: top;\n",
       "    }\n",
       "\n",
       "    .dataframe thead th {\n",
       "        text-align: right;\n",
       "    }\n",
       "</style>\n",
       "<table border=\"1\" class=\"dataframe\">\n",
       "  <thead>\n",
       "    <tr style=\"text-align: right;\">\n",
       "      <th></th>\n",
       "      <th>coluna1</th>\n",
       "      <th>coluna2</th>\n",
       "      <th>coluna3</th>\n",
       "      <th>coluna4</th>\n",
       "    </tr>\n",
       "  </thead>\n",
       "  <tbody>\n",
       "    <tr>\n",
       "      <th>A</th>\n",
       "      <td>37.0</td>\n",
       "      <td>-67.442977</td>\n",
       "      <td>-73.76961185869824</td>\n",
       "      <td>-10.159269</td>\n",
       "    </tr>\n",
       "    <tr>\n",
       "      <th>B</th>\n",
       "      <td>NaN</td>\n",
       "      <td>-50.458165</td>\n",
       "      <td>37.01180093049798</td>\n",
       "      <td>-37.728630</td>\n",
       "    </tr>\n",
       "    <tr>\n",
       "      <th>C</th>\n",
       "      <td>-27.0</td>\n",
       "      <td>-101.427183</td>\n",
       "      <td>-26.77371217954196</td>\n",
       "      <td>175.222603</td>\n",
       "    </tr>\n",
       "    <tr>\n",
       "      <th>F</th>\n",
       "      <td>78.0</td>\n",
       "      <td>17.981604</td>\n",
       "      <td>69.40689951570812</td>\n",
       "      <td>122.530173</td>\n",
       "    </tr>\n",
       "    <tr>\n",
       "      <th>H</th>\n",
       "      <td>117.0</td>\n",
       "      <td>141.097471</td>\n",
       "      <td>-165.06658947606712</td>\n",
       "      <td>-52.618897</td>\n",
       "    </tr>\n",
       "  </tbody>\n",
       "</table>\n",
       "</div>"
      ],
      "text/plain": [
       "   coluna1     coluna2              coluna3     coluna4\n",
       "A     37.0  -67.442977   -73.76961185869824  -10.159269\n",
       "B      NaN  -50.458165    37.01180093049798  -37.728630\n",
       "C    -27.0 -101.427183   -26.77371217954196  175.222603\n",
       "F     78.0   17.981604    69.40689951570812  122.530173\n",
       "H    117.0  141.097471  -165.06658947606712  -52.618897"
      ]
     },
     "execution_count": 96,
     "metadata": {},
     "output_type": "execute_result"
    }
   ],
   "source": [
    "df_dup.drop_duplicates(subset=['coluna1'])"
   ]
  },
  {
   "cell_type": "code",
   "execution_count": 97,
   "metadata": {
    "ExecuteTime": {
     "end_time": "2021-05-29T13:32:13.123617Z",
     "start_time": "2021-05-29T13:32:13.105619Z"
    }
   },
   "outputs": [
    {
     "data": {
      "text/plain": [
       "A    False\n",
       "B    False\n",
       "C    False\n",
       "D    False\n",
       "D     True\n",
       "E    False\n",
       "E     True\n",
       "F    False\n",
       "F     True\n",
       "G    False\n",
       "G     True\n",
       "H    False\n",
       "H     True\n",
       "I    False\n",
       "dtype: bool"
      ]
     },
     "execution_count": 97,
     "metadata": {},
     "output_type": "execute_result"
    }
   ],
   "source": [
    "df_dup.duplicated()"
   ]
  },
  {
   "cell_type": "code",
   "execution_count": 47,
   "metadata": {
    "ExecuteTime": {
     "end_time": "2021-05-29T13:31:30.812257Z",
     "start_time": "2021-05-29T13:31:30.799265Z"
    }
   },
   "outputs": [
    {
     "data": {
      "text/html": [
       "<div>\n",
       "<style scoped>\n",
       "    .dataframe tbody tr th:only-of-type {\n",
       "        vertical-align: middle;\n",
       "    }\n",
       "\n",
       "    .dataframe tbody tr th {\n",
       "        vertical-align: top;\n",
       "    }\n",
       "\n",
       "    .dataframe thead th {\n",
       "        text-align: right;\n",
       "    }\n",
       "</style>\n",
       "<table border=\"1\" class=\"dataframe\">\n",
       "  <thead>\n",
       "    <tr style=\"text-align: right;\">\n",
       "      <th></th>\n",
       "      <th>coluna1</th>\n",
       "      <th>coluna2</th>\n",
       "      <th>coluna3</th>\n",
       "      <th>coluna4</th>\n",
       "    </tr>\n",
       "  </thead>\n",
       "  <tbody>\n",
       "    <tr>\n",
       "      <th>D</th>\n",
       "      <td>NaN</td>\n",
       "      <td>-64.290138</td>\n",
       "      <td>-50.891017163242445</td>\n",
       "      <td>180.396043</td>\n",
       "    </tr>\n",
       "    <tr>\n",
       "      <th>E</th>\n",
       "      <td>NaN</td>\n",
       "      <td>46.159592</td>\n",
       "      <td>NaN</td>\n",
       "      <td>NaN</td>\n",
       "    </tr>\n",
       "    <tr>\n",
       "      <th>F</th>\n",
       "      <td>86.0</td>\n",
       "      <td>115.974030</td>\n",
       "      <td>99.22420792191552</td>\n",
       "      <td>-16.118702</td>\n",
       "    </tr>\n",
       "    <tr>\n",
       "      <th>G</th>\n",
       "      <td>NaN</td>\n",
       "      <td>117.717310</td>\n",
       "      <td>-249.37440300775089</td>\n",
       "      <td>-79.436463</td>\n",
       "    </tr>\n",
       "    <tr>\n",
       "      <th>H</th>\n",
       "      <td>2.0</td>\n",
       "      <td>78.292079</td>\n",
       "      <td>-150.65952036118293</td>\n",
       "      <td>-99.009263</td>\n",
       "    </tr>\n",
       "  </tbody>\n",
       "</table>\n",
       "</div>"
      ],
      "text/plain": [
       "   coluna1     coluna2              coluna3     coluna4\n",
       "D      NaN  -64.290138  -50.891017163242445  180.396043\n",
       "E      NaN   46.159592                  NaN         NaN\n",
       "F     86.0  115.974030    99.22420792191552  -16.118702\n",
       "G      NaN  117.717310  -249.37440300775089  -79.436463\n",
       "H      2.0   78.292079  -150.65952036118293  -99.009263"
      ]
     },
     "execution_count": 47,
     "metadata": {},
     "output_type": "execute_result"
    }
   ],
   "source": [
    "df_dup[df_dup.duplicated()]"
   ]
  },
  {
   "cell_type": "markdown",
   "metadata": {},
   "source": [
    "# 6. Mapeamentos <a name=\"map\"></a>\n",
    "<div style=\"text-align: right\"\n",
    "     \n",
    "[Voltar ao índice](#Contents)"
   ]
  },
  {
   "cell_type": "code",
   "execution_count": 102,
   "metadata": {
    "ExecuteTime": {
     "end_time": "2021-05-29T13:42:45.956899Z",
     "start_time": "2021-05-29T13:42:45.942908Z"
    }
   },
   "outputs": [
    {
     "data": {
      "text/plain": [
       "0     1\n",
       "1     0\n",
       "2     1\n",
       "3     1\n",
       "4     1\n",
       "5     1\n",
       "6     0\n",
       "7     0\n",
       "8     0\n",
       "9     1\n",
       "10    1\n",
       "11    0\n",
       "dtype: int64"
      ]
     },
     "execution_count": 102,
     "metadata": {},
     "output_type": "execute_result"
    }
   ],
   "source": [
    "# 1 feminino, 0 masculino\n",
    "genero = pd.Series([1,0,1,1,1,1,0,0,0,1,1,0])\n",
    "genero"
   ]
  },
  {
   "cell_type": "code",
   "execution_count": 103,
   "metadata": {
    "ExecuteTime": {
     "end_time": "2021-05-29T14:05:13.576793Z",
     "start_time": "2021-05-29T14:05:13.554796Z"
    }
   },
   "outputs": [
    {
     "data": {
      "text/plain": [
       "0      Feminino\n",
       "1     Masculino\n",
       "2      Feminino\n",
       "3      Feminino\n",
       "4      Feminino\n",
       "5      Feminino\n",
       "6     Masculino\n",
       "7     Masculino\n",
       "8     Masculino\n",
       "9      Feminino\n",
       "10     Feminino\n",
       "11    Masculino\n",
       "dtype: object"
      ]
     },
     "execution_count": 103,
     "metadata": {},
     "output_type": "execute_result"
    }
   ],
   "source": [
    "genero.map({1:'Feminino', 0:'Masculino'})"
   ]
  },
  {
   "cell_type": "code",
   "execution_count": 50,
   "metadata": {
    "ExecuteTime": {
     "end_time": "2021-05-29T14:08:05.814253Z",
     "start_time": "2021-05-29T14:08:05.801261Z"
    }
   },
   "outputs": [],
   "source": [
    "genero_2 = genero.map({1:'Feminino', 0:'Masculino'})"
   ]
  },
  {
   "cell_type": "code",
   "execution_count": 51,
   "metadata": {
    "ExecuteTime": {
     "end_time": "2021-05-29T14:05:34.230006Z",
     "start_time": "2021-05-29T14:05:34.210016Z"
    }
   },
   "outputs": [
    {
     "data": {
      "text/plain": [
       "0     Feminino\n",
       "1          NaN\n",
       "2     Feminino\n",
       "3     Feminino\n",
       "4     Feminino\n",
       "5     Feminino\n",
       "6          NaN\n",
       "7          NaN\n",
       "8          NaN\n",
       "9     Feminino\n",
       "10    Feminino\n",
       "11         NaN\n",
       "dtype: object"
      ]
     },
     "execution_count": 51,
     "metadata": {},
     "output_type": "execute_result"
    }
   ],
   "source": [
    "genero.map({1:'Feminino', 2:'Masculino'})"
   ]
  },
  {
   "cell_type": "code",
   "execution_count": 52,
   "metadata": {
    "ExecuteTime": {
     "end_time": "2021-05-29T14:08:11.654002Z",
     "start_time": "2021-05-29T14:08:11.637012Z"
    }
   },
   "outputs": [
    {
     "data": {
      "text/plain": [
       "0      Genero: Feminino\n",
       "1     Genero: Masculino\n",
       "2      Genero: Feminino\n",
       "3      Genero: Feminino\n",
       "4      Genero: Feminino\n",
       "5      Genero: Feminino\n",
       "6     Genero: Masculino\n",
       "7     Genero: Masculino\n",
       "8     Genero: Masculino\n",
       "9      Genero: Feminino\n",
       "10     Genero: Feminino\n",
       "11    Genero: Masculino\n",
       "dtype: object"
      ]
     },
     "execution_count": 52,
     "metadata": {},
     "output_type": "execute_result"
    }
   ],
   "source": [
    "genero_2.map('Genero: {}'.format)"
   ]
  },
  {
   "cell_type": "code",
   "execution_count": null,
   "metadata": {},
   "outputs": [],
   "source": []
  },
  {
   "cell_type": "code",
   "execution_count": null,
   "metadata": {},
   "outputs": [],
   "source": []
  },
  {
   "cell_type": "code",
   "execution_count": null,
   "metadata": {},
   "outputs": [],
   "source": []
  },
  {
   "cell_type": "code",
   "execution_count": null,
   "metadata": {},
   "outputs": [],
   "source": []
  },
  {
   "cell_type": "code",
   "execution_count": null,
   "metadata": {},
   "outputs": [],
   "source": []
  },
  {
   "cell_type": "code",
   "execution_count": null,
   "metadata": {},
   "outputs": [],
   "source": []
  }
 ],
 "metadata": {
  "kernelspec": {
   "display_name": "Python 3 (ipykernel)",
   "language": "python",
   "name": "python3"
  },
  "language_info": {
   "codemirror_mode": {
    "name": "ipython",
    "version": 3
   },
   "file_extension": ".py",
   "mimetype": "text/x-python",
   "name": "python",
   "nbconvert_exporter": "python",
   "pygments_lexer": "ipython3",
   "version": "3.10.11"
  },
  "varInspector": {
   "cols": {
    "lenName": 16,
    "lenType": 16,
    "lenVar": 40
   },
   "kernels_config": {
    "python": {
     "delete_cmd_postfix": "",
     "delete_cmd_prefix": "del ",
     "library": "var_list.py",
     "varRefreshCmd": "print(var_dic_list())"
    },
    "r": {
     "delete_cmd_postfix": ") ",
     "delete_cmd_prefix": "rm(",
     "library": "var_list.r",
     "varRefreshCmd": "cat(var_dic_list()) "
    }
   },
   "types_to_exclude": [
    "module",
    "function",
    "builtin_function_or_method",
    "instance",
    "_Feature"
   ],
   "window_display": false
  }
 },
 "nbformat": 4,
 "nbformat_minor": 4
}
