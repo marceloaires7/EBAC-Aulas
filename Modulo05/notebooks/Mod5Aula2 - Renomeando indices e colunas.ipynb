{
 "cells": [
  {
   "cell_type": "markdown",
   "metadata": {},
   "source": [
    "# Índice <a name=\"Contents\"></a>\n",
    "1. [Importando bibliotecas](#import)\n",
    "2. [Construindo um dataframe](#read)\n",
    "3. [Renomeando colunas](#colunas)\n",
    "4. [Renomeando índices](#indices)\n"
   ]
  },
  {
   "cell_type": "markdown",
   "metadata": {},
   "source": [
    "# 1. Importando bibliotecas <a name=\"import\"></a>\n",
    "\n",
    "<div style=\"text-align: right\"\n",
    "     \n",
    "[Voltar ao índice](#Contents)"
   ]
  },
  {
   "cell_type": "code",
   "execution_count": 1,
   "metadata": {
    "ExecuteTime": {
     "end_time": "2021-05-29T14:18:04.136132Z",
     "start_time": "2021-05-29T14:18:03.798217Z"
    }
   },
   "outputs": [],
   "source": [
    "import pandas as pd\n",
    "import numpy  as np"
   ]
  },
  {
   "cell_type": "markdown",
   "metadata": {},
   "source": [
    "# 2. Construindo um dataframe <a name=\"read\"></a>\n",
    "<div style=\"text-align: right\"\n",
    "     \n",
    "[Voltar ao índice](#Contents)"
   ]
  },
  {
   "cell_type": "code",
   "execution_count": 2,
   "metadata": {
    "ExecuteTime": {
     "end_time": "2021-05-29T14:23:40.062246Z",
     "start_time": "2021-05-29T14:23:40.048255Z"
    }
   },
   "outputs": [
    {
     "data": {
      "text/html": [
       "<div>\n",
       "<style scoped>\n",
       "    .dataframe tbody tr th:only-of-type {\n",
       "        vertical-align: middle;\n",
       "    }\n",
       "\n",
       "    .dataframe tbody tr th {\n",
       "        vertical-align: top;\n",
       "    }\n",
       "\n",
       "    .dataframe thead th {\n",
       "        text-align: right;\n",
       "    }\n",
       "</style>\n",
       "<table border=\"1\" class=\"dataframe\">\n",
       "  <thead>\n",
       "    <tr style=\"text-align: right;\">\n",
       "      <th></th>\n",
       "      <th>coluna1</th>\n",
       "      <th>coluna2</th>\n",
       "      <th>coluna3</th>\n",
       "      <th>coluna4</th>\n",
       "    </tr>\n",
       "  </thead>\n",
       "  <tbody>\n",
       "    <tr>\n",
       "      <th>A</th>\n",
       "      <td>-5.246791</td>\n",
       "      <td>-59.818862</td>\n",
       "      <td>72.089872</td>\n",
       "      <td>-97.971357</td>\n",
       "    </tr>\n",
       "    <tr>\n",
       "      <th>B</th>\n",
       "      <td>-159.799586</td>\n",
       "      <td>78.488307</td>\n",
       "      <td>-102.455616</td>\n",
       "      <td>-189.027206</td>\n",
       "    </tr>\n",
       "    <tr>\n",
       "      <th>C</th>\n",
       "      <td>-41.234567</td>\n",
       "      <td>-123.425139</td>\n",
       "      <td>-55.626813</td>\n",
       "      <td>1.849032</td>\n",
       "    </tr>\n",
       "    <tr>\n",
       "      <th>D</th>\n",
       "      <td>130.646404</td>\n",
       "      <td>5.669037</td>\n",
       "      <td>-24.562078</td>\n",
       "      <td>-42.961498</td>\n",
       "    </tr>\n",
       "    <tr>\n",
       "      <th>E</th>\n",
       "      <td>-55.402580</td>\n",
       "      <td>-85.159296</td>\n",
       "      <td>24.396384</td>\n",
       "      <td>-131.664489</td>\n",
       "    </tr>\n",
       "    <tr>\n",
       "      <th>F</th>\n",
       "      <td>60.318084</td>\n",
       "      <td>-78.258235</td>\n",
       "      <td>134.679513</td>\n",
       "      <td>-185.986488</td>\n",
       "    </tr>\n",
       "    <tr>\n",
       "      <th>G</th>\n",
       "      <td>-98.663994</td>\n",
       "      <td>64.289361</td>\n",
       "      <td>61.928901</td>\n",
       "      <td>-204.545004</td>\n",
       "    </tr>\n",
       "    <tr>\n",
       "      <th>H</th>\n",
       "      <td>-4.038162</td>\n",
       "      <td>51.103090</td>\n",
       "      <td>34.712628</td>\n",
       "      <td>-6.792411</td>\n",
       "    </tr>\n",
       "    <tr>\n",
       "      <th>I</th>\n",
       "      <td>-57.462649</td>\n",
       "      <td>-282.572348</td>\n",
       "      <td>-133.700463</td>\n",
       "      <td>274.313958</td>\n",
       "    </tr>\n",
       "  </tbody>\n",
       "</table>\n",
       "</div>"
      ],
      "text/plain": [
       "      coluna1     coluna2     coluna3     coluna4\n",
       "A   -5.246791  -59.818862   72.089872  -97.971357\n",
       "B -159.799586   78.488307 -102.455616 -189.027206\n",
       "C  -41.234567 -123.425139  -55.626813    1.849032\n",
       "D  130.646404    5.669037  -24.562078  -42.961498\n",
       "E  -55.402580  -85.159296   24.396384 -131.664489\n",
       "F   60.318084  -78.258235  134.679513 -185.986488\n",
       "G  -98.663994   64.289361   61.928901 -204.545004\n",
       "H   -4.038162   51.103090   34.712628   -6.792411\n",
       "I  -57.462649 -282.572348 -133.700463  274.313958"
      ]
     },
     "execution_count": 2,
     "metadata": {},
     "output_type": "execute_result"
    }
   ],
   "source": [
    "df = pd.DataFrame(\n",
    "    np.random.randn(9, 4)*100,\n",
    "    index=[\"A\", \"B\", \"C\", \"D\", \"E\", \"F\", \"G\", \"H\", \"I\"],\n",
    "    columns=[\"coluna1\", \"coluna2\", \"coluna3\",\"coluna4\"],\n",
    ")\n",
    "df"
   ]
  },
  {
   "cell_type": "markdown",
   "metadata": {},
   "source": [
    "# 3. Renomeando colunas <a name=\"colunas\"></a>\n",
    "<div style=\"text-align: right\"\n",
    "     \n",
    "[Voltar ao índice](#Contents)"
   ]
  },
  {
   "cell_type": "code",
   "execution_count": 3,
   "metadata": {
    "ExecuteTime": {
     "end_time": "2021-05-29T14:23:54.029190Z",
     "start_time": "2021-05-29T14:23:54.019195Z"
    }
   },
   "outputs": [
    {
     "data": {
      "text/plain": [
       "Index(['coluna1', 'coluna2', 'coluna3', 'coluna4'], dtype='object')"
      ]
     },
     "execution_count": 3,
     "metadata": {},
     "output_type": "execute_result"
    }
   ],
   "source": [
    "df.columns"
   ]
  },
  {
   "cell_type": "code",
   "execution_count": 4,
   "metadata": {
    "ExecuteTime": {
     "end_time": "2021-05-29T14:25:02.422780Z",
     "start_time": "2021-05-29T14:25:02.404790Z"
    }
   },
   "outputs": [],
   "source": [
    "df.columns = ['segunda', 'terça', 'quarta', 'quinta']"
   ]
  },
  {
   "cell_type": "code",
   "execution_count": 5,
   "metadata": {
    "ExecuteTime": {
     "end_time": "2021-05-29T14:25:07.787193Z",
     "start_time": "2021-05-29T14:25:07.777200Z"
    }
   },
   "outputs": [
    {
     "data": {
      "text/plain": [
       "Index(['segunda', 'terça', 'quarta', 'quinta'], dtype='object')"
      ]
     },
     "execution_count": 5,
     "metadata": {},
     "output_type": "execute_result"
    }
   ],
   "source": [
    "df.columns"
   ]
  },
  {
   "cell_type": "code",
   "execution_count": 6,
   "metadata": {
    "ExecuteTime": {
     "end_time": "2021-05-29T14:25:10.544938Z",
     "start_time": "2021-05-29T14:25:10.535941Z"
    }
   },
   "outputs": [
    {
     "data": {
      "text/html": [
       "<div>\n",
       "<style scoped>\n",
       "    .dataframe tbody tr th:only-of-type {\n",
       "        vertical-align: middle;\n",
       "    }\n",
       "\n",
       "    .dataframe tbody tr th {\n",
       "        vertical-align: top;\n",
       "    }\n",
       "\n",
       "    .dataframe thead th {\n",
       "        text-align: right;\n",
       "    }\n",
       "</style>\n",
       "<table border=\"1\" class=\"dataframe\">\n",
       "  <thead>\n",
       "    <tr style=\"text-align: right;\">\n",
       "      <th></th>\n",
       "      <th>segunda</th>\n",
       "      <th>terça</th>\n",
       "      <th>quarta</th>\n",
       "      <th>quinta</th>\n",
       "    </tr>\n",
       "  </thead>\n",
       "  <tbody>\n",
       "    <tr>\n",
       "      <th>A</th>\n",
       "      <td>-5.246791</td>\n",
       "      <td>-59.818862</td>\n",
       "      <td>72.089872</td>\n",
       "      <td>-97.971357</td>\n",
       "    </tr>\n",
       "    <tr>\n",
       "      <th>B</th>\n",
       "      <td>-159.799586</td>\n",
       "      <td>78.488307</td>\n",
       "      <td>-102.455616</td>\n",
       "      <td>-189.027206</td>\n",
       "    </tr>\n",
       "    <tr>\n",
       "      <th>C</th>\n",
       "      <td>-41.234567</td>\n",
       "      <td>-123.425139</td>\n",
       "      <td>-55.626813</td>\n",
       "      <td>1.849032</td>\n",
       "    </tr>\n",
       "    <tr>\n",
       "      <th>D</th>\n",
       "      <td>130.646404</td>\n",
       "      <td>5.669037</td>\n",
       "      <td>-24.562078</td>\n",
       "      <td>-42.961498</td>\n",
       "    </tr>\n",
       "    <tr>\n",
       "      <th>E</th>\n",
       "      <td>-55.402580</td>\n",
       "      <td>-85.159296</td>\n",
       "      <td>24.396384</td>\n",
       "      <td>-131.664489</td>\n",
       "    </tr>\n",
       "    <tr>\n",
       "      <th>F</th>\n",
       "      <td>60.318084</td>\n",
       "      <td>-78.258235</td>\n",
       "      <td>134.679513</td>\n",
       "      <td>-185.986488</td>\n",
       "    </tr>\n",
       "    <tr>\n",
       "      <th>G</th>\n",
       "      <td>-98.663994</td>\n",
       "      <td>64.289361</td>\n",
       "      <td>61.928901</td>\n",
       "      <td>-204.545004</td>\n",
       "    </tr>\n",
       "    <tr>\n",
       "      <th>H</th>\n",
       "      <td>-4.038162</td>\n",
       "      <td>51.103090</td>\n",
       "      <td>34.712628</td>\n",
       "      <td>-6.792411</td>\n",
       "    </tr>\n",
       "    <tr>\n",
       "      <th>I</th>\n",
       "      <td>-57.462649</td>\n",
       "      <td>-282.572348</td>\n",
       "      <td>-133.700463</td>\n",
       "      <td>274.313958</td>\n",
       "    </tr>\n",
       "  </tbody>\n",
       "</table>\n",
       "</div>"
      ],
      "text/plain": [
       "      segunda       terça      quarta      quinta\n",
       "A   -5.246791  -59.818862   72.089872  -97.971357\n",
       "B -159.799586   78.488307 -102.455616 -189.027206\n",
       "C  -41.234567 -123.425139  -55.626813    1.849032\n",
       "D  130.646404    5.669037  -24.562078  -42.961498\n",
       "E  -55.402580  -85.159296   24.396384 -131.664489\n",
       "F   60.318084  -78.258235  134.679513 -185.986488\n",
       "G  -98.663994   64.289361   61.928901 -204.545004\n",
       "H   -4.038162   51.103090   34.712628   -6.792411\n",
       "I  -57.462649 -282.572348 -133.700463  274.313958"
      ]
     },
     "execution_count": 6,
     "metadata": {},
     "output_type": "execute_result"
    }
   ],
   "source": [
    "df"
   ]
  },
  {
   "cell_type": "markdown",
   "metadata": {},
   "source": [
    "# 4. Renomeando índices <a name=\"indices\"></a>\n",
    "<div style=\"text-align: right\"\n",
    "     \n",
    "[Voltar ao índice](#Contents)"
   ]
  },
  {
   "cell_type": "code",
   "execution_count": 7,
   "metadata": {},
   "outputs": [],
   "source": [
    "df['coluna5'] = ['letraA','letraB','letraC','letraD','letraE','letraF','letraG','letraH','letraI']"
   ]
  },
  {
   "cell_type": "code",
   "execution_count": 8,
   "metadata": {
    "ExecuteTime": {
     "end_time": "2021-05-29T14:21:17.731165Z",
     "start_time": "2021-05-29T14:21:17.716176Z"
    }
   },
   "outputs": [
    {
     "data": {
      "text/html": [
       "<div>\n",
       "<style scoped>\n",
       "    .dataframe tbody tr th:only-of-type {\n",
       "        vertical-align: middle;\n",
       "    }\n",
       "\n",
       "    .dataframe tbody tr th {\n",
       "        vertical-align: top;\n",
       "    }\n",
       "\n",
       "    .dataframe thead th {\n",
       "        text-align: right;\n",
       "    }\n",
       "</style>\n",
       "<table border=\"1\" class=\"dataframe\">\n",
       "  <thead>\n",
       "    <tr style=\"text-align: right;\">\n",
       "      <th></th>\n",
       "      <th>segunda</th>\n",
       "      <th>terça</th>\n",
       "      <th>quarta</th>\n",
       "      <th>quinta</th>\n",
       "      <th>coluna5</th>\n",
       "    </tr>\n",
       "  </thead>\n",
       "  <tbody>\n",
       "    <tr>\n",
       "      <th>A</th>\n",
       "      <td>-5.246791</td>\n",
       "      <td>-59.818862</td>\n",
       "      <td>72.089872</td>\n",
       "      <td>-97.971357</td>\n",
       "      <td>letraA</td>\n",
       "    </tr>\n",
       "    <tr>\n",
       "      <th>B</th>\n",
       "      <td>-159.799586</td>\n",
       "      <td>78.488307</td>\n",
       "      <td>-102.455616</td>\n",
       "      <td>-189.027206</td>\n",
       "      <td>letraB</td>\n",
       "    </tr>\n",
       "    <tr>\n",
       "      <th>C</th>\n",
       "      <td>-41.234567</td>\n",
       "      <td>-123.425139</td>\n",
       "      <td>-55.626813</td>\n",
       "      <td>1.849032</td>\n",
       "      <td>letraC</td>\n",
       "    </tr>\n",
       "    <tr>\n",
       "      <th>D</th>\n",
       "      <td>130.646404</td>\n",
       "      <td>5.669037</td>\n",
       "      <td>-24.562078</td>\n",
       "      <td>-42.961498</td>\n",
       "      <td>letraD</td>\n",
       "    </tr>\n",
       "    <tr>\n",
       "      <th>E</th>\n",
       "      <td>-55.402580</td>\n",
       "      <td>-85.159296</td>\n",
       "      <td>24.396384</td>\n",
       "      <td>-131.664489</td>\n",
       "      <td>letraE</td>\n",
       "    </tr>\n",
       "    <tr>\n",
       "      <th>F</th>\n",
       "      <td>60.318084</td>\n",
       "      <td>-78.258235</td>\n",
       "      <td>134.679513</td>\n",
       "      <td>-185.986488</td>\n",
       "      <td>letraF</td>\n",
       "    </tr>\n",
       "    <tr>\n",
       "      <th>G</th>\n",
       "      <td>-98.663994</td>\n",
       "      <td>64.289361</td>\n",
       "      <td>61.928901</td>\n",
       "      <td>-204.545004</td>\n",
       "      <td>letraG</td>\n",
       "    </tr>\n",
       "    <tr>\n",
       "      <th>H</th>\n",
       "      <td>-4.038162</td>\n",
       "      <td>51.103090</td>\n",
       "      <td>34.712628</td>\n",
       "      <td>-6.792411</td>\n",
       "      <td>letraH</td>\n",
       "    </tr>\n",
       "    <tr>\n",
       "      <th>I</th>\n",
       "      <td>-57.462649</td>\n",
       "      <td>-282.572348</td>\n",
       "      <td>-133.700463</td>\n",
       "      <td>274.313958</td>\n",
       "      <td>letraI</td>\n",
       "    </tr>\n",
       "  </tbody>\n",
       "</table>\n",
       "</div>"
      ],
      "text/plain": [
       "      segunda       terça      quarta      quinta coluna5\n",
       "A   -5.246791  -59.818862   72.089872  -97.971357  letraA\n",
       "B -159.799586   78.488307 -102.455616 -189.027206  letraB\n",
       "C  -41.234567 -123.425139  -55.626813    1.849032  letraC\n",
       "D  130.646404    5.669037  -24.562078  -42.961498  letraD\n",
       "E  -55.402580  -85.159296   24.396384 -131.664489  letraE\n",
       "F   60.318084  -78.258235  134.679513 -185.986488  letraF\n",
       "G  -98.663994   64.289361   61.928901 -204.545004  letraG\n",
       "H   -4.038162   51.103090   34.712628   -6.792411  letraH\n",
       "I  -57.462649 -282.572348 -133.700463  274.313958  letraI"
      ]
     },
     "execution_count": 8,
     "metadata": {},
     "output_type": "execute_result"
    }
   ],
   "source": [
    "df"
   ]
  },
  {
   "cell_type": "code",
   "execution_count": 12,
   "metadata": {
    "ExecuteTime": {
     "end_time": "2021-05-29T14:21:32.095960Z",
     "start_time": "2021-05-29T14:21:32.080969Z"
    }
   },
   "outputs": [],
   "source": [
    "df = df.set_index('coluna5')"
   ]
  },
  {
   "cell_type": "code",
   "execution_count": 20,
   "metadata": {
    "ExecuteTime": {
     "end_time": "2021-05-29T14:22:36.756818Z",
     "start_time": "2021-05-29T14:22:36.739827Z"
    }
   },
   "outputs": [
    {
     "data": {
      "text/html": [
       "<div>\n",
       "<style scoped>\n",
       "    .dataframe tbody tr th:only-of-type {\n",
       "        vertical-align: middle;\n",
       "    }\n",
       "\n",
       "    .dataframe tbody tr th {\n",
       "        vertical-align: top;\n",
       "    }\n",
       "\n",
       "    .dataframe thead th {\n",
       "        text-align: right;\n",
       "    }\n",
       "</style>\n",
       "<table border=\"1\" class=\"dataframe\">\n",
       "  <thead>\n",
       "    <tr style=\"text-align: right;\">\n",
       "      <th></th>\n",
       "      <th>segunda</th>\n",
       "      <th>terça</th>\n",
       "      <th>quarta</th>\n",
       "      <th>quinta</th>\n",
       "    </tr>\n",
       "    <tr>\n",
       "      <th>coluna5</th>\n",
       "      <th></th>\n",
       "      <th></th>\n",
       "      <th></th>\n",
       "      <th></th>\n",
       "    </tr>\n",
       "  </thead>\n",
       "  <tbody>\n",
       "    <tr>\n",
       "      <th>letraA</th>\n",
       "      <td>-5.246791</td>\n",
       "      <td>-59.818862</td>\n",
       "      <td>72.089872</td>\n",
       "      <td>-97.971357</td>\n",
       "    </tr>\n",
       "    <tr>\n",
       "      <th>letraB</th>\n",
       "      <td>-159.799586</td>\n",
       "      <td>78.488307</td>\n",
       "      <td>-102.455616</td>\n",
       "      <td>-189.027206</td>\n",
       "    </tr>\n",
       "    <tr>\n",
       "      <th>letraC</th>\n",
       "      <td>-41.234567</td>\n",
       "      <td>-123.425139</td>\n",
       "      <td>-55.626813</td>\n",
       "      <td>1.849032</td>\n",
       "    </tr>\n",
       "    <tr>\n",
       "      <th>letraD</th>\n",
       "      <td>130.646404</td>\n",
       "      <td>5.669037</td>\n",
       "      <td>-24.562078</td>\n",
       "      <td>-42.961498</td>\n",
       "    </tr>\n",
       "    <tr>\n",
       "      <th>letraE</th>\n",
       "      <td>-55.402580</td>\n",
       "      <td>-85.159296</td>\n",
       "      <td>24.396384</td>\n",
       "      <td>-131.664489</td>\n",
       "    </tr>\n",
       "    <tr>\n",
       "      <th>letraF</th>\n",
       "      <td>60.318084</td>\n",
       "      <td>-78.258235</td>\n",
       "      <td>134.679513</td>\n",
       "      <td>-185.986488</td>\n",
       "    </tr>\n",
       "    <tr>\n",
       "      <th>letraG</th>\n",
       "      <td>-98.663994</td>\n",
       "      <td>64.289361</td>\n",
       "      <td>61.928901</td>\n",
       "      <td>-204.545004</td>\n",
       "    </tr>\n",
       "    <tr>\n",
       "      <th>letraH</th>\n",
       "      <td>-4.038162</td>\n",
       "      <td>51.103090</td>\n",
       "      <td>34.712628</td>\n",
       "      <td>-6.792411</td>\n",
       "    </tr>\n",
       "    <tr>\n",
       "      <th>letraI</th>\n",
       "      <td>-57.462649</td>\n",
       "      <td>-282.572348</td>\n",
       "      <td>-133.700463</td>\n",
       "      <td>274.313958</td>\n",
       "    </tr>\n",
       "  </tbody>\n",
       "</table>\n",
       "</div>"
      ],
      "text/plain": [
       "            segunda       terça      quarta      quinta\n",
       "coluna5                                                \n",
       "letraA    -5.246791  -59.818862   72.089872  -97.971357\n",
       "letraB  -159.799586   78.488307 -102.455616 -189.027206\n",
       "letraC   -41.234567 -123.425139  -55.626813    1.849032\n",
       "letraD   130.646404    5.669037  -24.562078  -42.961498\n",
       "letraE   -55.402580  -85.159296   24.396384 -131.664489\n",
       "letraF    60.318084  -78.258235  134.679513 -185.986488\n",
       "letraG   -98.663994   64.289361   61.928901 -204.545004\n",
       "letraH    -4.038162   51.103090   34.712628   -6.792411\n",
       "letraI   -57.462649 -282.572348 -133.700463  274.313958"
      ]
     },
     "execution_count": 20,
     "metadata": {},
     "output_type": "execute_result"
    }
   ],
   "source": [
    "df"
   ]
  },
  {
   "cell_type": "code",
   "execution_count": 21,
   "metadata": {
    "ExecuteTime": {
     "end_time": "2021-05-29T14:22:45.637595Z",
     "start_time": "2021-05-29T14:22:45.613607Z"
    }
   },
   "outputs": [
    {
     "data": {
      "text/html": [
       "<div>\n",
       "<style scoped>\n",
       "    .dataframe tbody tr th:only-of-type {\n",
       "        vertical-align: middle;\n",
       "    }\n",
       "\n",
       "    .dataframe tbody tr th {\n",
       "        vertical-align: top;\n",
       "    }\n",
       "\n",
       "    .dataframe thead th {\n",
       "        text-align: right;\n",
       "    }\n",
       "</style>\n",
       "<table border=\"1\" class=\"dataframe\">\n",
       "  <thead>\n",
       "    <tr style=\"text-align: right;\">\n",
       "      <th></th>\n",
       "      <th>coluna5</th>\n",
       "      <th>segunda</th>\n",
       "      <th>terça</th>\n",
       "      <th>quarta</th>\n",
       "      <th>quinta</th>\n",
       "    </tr>\n",
       "  </thead>\n",
       "  <tbody>\n",
       "    <tr>\n",
       "      <th>0</th>\n",
       "      <td>letraA</td>\n",
       "      <td>-5.246791</td>\n",
       "      <td>-59.818862</td>\n",
       "      <td>72.089872</td>\n",
       "      <td>-97.971357</td>\n",
       "    </tr>\n",
       "    <tr>\n",
       "      <th>1</th>\n",
       "      <td>letraB</td>\n",
       "      <td>-159.799586</td>\n",
       "      <td>78.488307</td>\n",
       "      <td>-102.455616</td>\n",
       "      <td>-189.027206</td>\n",
       "    </tr>\n",
       "    <tr>\n",
       "      <th>2</th>\n",
       "      <td>letraC</td>\n",
       "      <td>-41.234567</td>\n",
       "      <td>-123.425139</td>\n",
       "      <td>-55.626813</td>\n",
       "      <td>1.849032</td>\n",
       "    </tr>\n",
       "    <tr>\n",
       "      <th>3</th>\n",
       "      <td>letraD</td>\n",
       "      <td>130.646404</td>\n",
       "      <td>5.669037</td>\n",
       "      <td>-24.562078</td>\n",
       "      <td>-42.961498</td>\n",
       "    </tr>\n",
       "    <tr>\n",
       "      <th>4</th>\n",
       "      <td>letraE</td>\n",
       "      <td>-55.402580</td>\n",
       "      <td>-85.159296</td>\n",
       "      <td>24.396384</td>\n",
       "      <td>-131.664489</td>\n",
       "    </tr>\n",
       "    <tr>\n",
       "      <th>5</th>\n",
       "      <td>letraF</td>\n",
       "      <td>60.318084</td>\n",
       "      <td>-78.258235</td>\n",
       "      <td>134.679513</td>\n",
       "      <td>-185.986488</td>\n",
       "    </tr>\n",
       "    <tr>\n",
       "      <th>6</th>\n",
       "      <td>letraG</td>\n",
       "      <td>-98.663994</td>\n",
       "      <td>64.289361</td>\n",
       "      <td>61.928901</td>\n",
       "      <td>-204.545004</td>\n",
       "    </tr>\n",
       "    <tr>\n",
       "      <th>7</th>\n",
       "      <td>letraH</td>\n",
       "      <td>-4.038162</td>\n",
       "      <td>51.103090</td>\n",
       "      <td>34.712628</td>\n",
       "      <td>-6.792411</td>\n",
       "    </tr>\n",
       "    <tr>\n",
       "      <th>8</th>\n",
       "      <td>letraI</td>\n",
       "      <td>-57.462649</td>\n",
       "      <td>-282.572348</td>\n",
       "      <td>-133.700463</td>\n",
       "      <td>274.313958</td>\n",
       "    </tr>\n",
       "  </tbody>\n",
       "</table>\n",
       "</div>"
      ],
      "text/plain": [
       "  coluna5     segunda       terça      quarta      quinta\n",
       "0  letraA   -5.246791  -59.818862   72.089872  -97.971357\n",
       "1  letraB -159.799586   78.488307 -102.455616 -189.027206\n",
       "2  letraC  -41.234567 -123.425139  -55.626813    1.849032\n",
       "3  letraD  130.646404    5.669037  -24.562078  -42.961498\n",
       "4  letraE  -55.402580  -85.159296   24.396384 -131.664489\n",
       "5  letraF   60.318084  -78.258235  134.679513 -185.986488\n",
       "6  letraG  -98.663994   64.289361   61.928901 -204.545004\n",
       "7  letraH   -4.038162   51.103090   34.712628   -6.792411\n",
       "8  letraI  -57.462649 -282.572348 -133.700463  274.313958"
      ]
     },
     "execution_count": 21,
     "metadata": {},
     "output_type": "execute_result"
    }
   ],
   "source": [
    "df.reset_index()"
   ]
  },
  {
   "cell_type": "code",
   "execution_count": 28,
   "metadata": {
    "ExecuteTime": {
     "end_time": "2021-05-29T14:23:10.986877Z",
     "start_time": "2021-05-29T14:23:10.978896Z"
    }
   },
   "outputs": [],
   "source": [
    "df.reset_index(drop=True, inplace=True)"
   ]
  },
  {
   "cell_type": "code",
   "execution_count": 41,
   "metadata": {},
   "outputs": [],
   "source": [
    "df = df.set_index([['letraA','letraB','letraC','letraD','letraE','letraF','letraG','letraH','letraI']])"
   ]
  },
  {
   "cell_type": "code",
   "execution_count": 42,
   "metadata": {},
   "outputs": [
    {
     "data": {
      "text/html": [
       "<div>\n",
       "<style scoped>\n",
       "    .dataframe tbody tr th:only-of-type {\n",
       "        vertical-align: middle;\n",
       "    }\n",
       "\n",
       "    .dataframe tbody tr th {\n",
       "        vertical-align: top;\n",
       "    }\n",
       "\n",
       "    .dataframe thead th {\n",
       "        text-align: right;\n",
       "    }\n",
       "</style>\n",
       "<table border=\"1\" class=\"dataframe\">\n",
       "  <thead>\n",
       "    <tr style=\"text-align: right;\">\n",
       "      <th></th>\n",
       "      <th>segunda</th>\n",
       "      <th>terça</th>\n",
       "      <th>quarta</th>\n",
       "      <th>quinta</th>\n",
       "    </tr>\n",
       "  </thead>\n",
       "  <tbody>\n",
       "    <tr>\n",
       "      <th>letraA</th>\n",
       "      <td>-5.246791</td>\n",
       "      <td>-59.818862</td>\n",
       "      <td>72.089872</td>\n",
       "      <td>-97.971357</td>\n",
       "    </tr>\n",
       "    <tr>\n",
       "      <th>letraB</th>\n",
       "      <td>-159.799586</td>\n",
       "      <td>78.488307</td>\n",
       "      <td>-102.455616</td>\n",
       "      <td>-189.027206</td>\n",
       "    </tr>\n",
       "    <tr>\n",
       "      <th>letraC</th>\n",
       "      <td>-41.234567</td>\n",
       "      <td>-123.425139</td>\n",
       "      <td>-55.626813</td>\n",
       "      <td>1.849032</td>\n",
       "    </tr>\n",
       "    <tr>\n",
       "      <th>letraD</th>\n",
       "      <td>130.646404</td>\n",
       "      <td>5.669037</td>\n",
       "      <td>-24.562078</td>\n",
       "      <td>-42.961498</td>\n",
       "    </tr>\n",
       "    <tr>\n",
       "      <th>letraE</th>\n",
       "      <td>-55.402580</td>\n",
       "      <td>-85.159296</td>\n",
       "      <td>24.396384</td>\n",
       "      <td>-131.664489</td>\n",
       "    </tr>\n",
       "    <tr>\n",
       "      <th>letraF</th>\n",
       "      <td>60.318084</td>\n",
       "      <td>-78.258235</td>\n",
       "      <td>134.679513</td>\n",
       "      <td>-185.986488</td>\n",
       "    </tr>\n",
       "    <tr>\n",
       "      <th>letraG</th>\n",
       "      <td>-98.663994</td>\n",
       "      <td>64.289361</td>\n",
       "      <td>61.928901</td>\n",
       "      <td>-204.545004</td>\n",
       "    </tr>\n",
       "    <tr>\n",
       "      <th>letraH</th>\n",
       "      <td>-4.038162</td>\n",
       "      <td>51.103090</td>\n",
       "      <td>34.712628</td>\n",
       "      <td>-6.792411</td>\n",
       "    </tr>\n",
       "    <tr>\n",
       "      <th>letraI</th>\n",
       "      <td>-57.462649</td>\n",
       "      <td>-282.572348</td>\n",
       "      <td>-133.700463</td>\n",
       "      <td>274.313958</td>\n",
       "    </tr>\n",
       "  </tbody>\n",
       "</table>\n",
       "</div>"
      ],
      "text/plain": [
       "           segunda       terça      quarta      quinta\n",
       "letraA   -5.246791  -59.818862   72.089872  -97.971357\n",
       "letraB -159.799586   78.488307 -102.455616 -189.027206\n",
       "letraC  -41.234567 -123.425139  -55.626813    1.849032\n",
       "letraD  130.646404    5.669037  -24.562078  -42.961498\n",
       "letraE  -55.402580  -85.159296   24.396384 -131.664489\n",
       "letraF   60.318084  -78.258235  134.679513 -185.986488\n",
       "letraG  -98.663994   64.289361   61.928901 -204.545004\n",
       "letraH   -4.038162   51.103090   34.712628   -6.792411\n",
       "letraI  -57.462649 -282.572348 -133.700463  274.313958"
      ]
     },
     "execution_count": 42,
     "metadata": {},
     "output_type": "execute_result"
    }
   ],
   "source": [
    "df"
   ]
  },
  {
   "cell_type": "code",
   "execution_count": null,
   "metadata": {},
   "outputs": [],
   "source": []
  },
  {
   "cell_type": "code",
   "execution_count": null,
   "metadata": {},
   "outputs": [],
   "source": []
  }
 ],
 "metadata": {
  "kernelspec": {
   "display_name": "Python 3 (ipykernel)",
   "language": "python",
   "name": "python3"
  },
  "language_info": {
   "codemirror_mode": {
    "name": "ipython",
    "version": 3
   },
   "file_extension": ".py",
   "mimetype": "text/x-python",
   "name": "python",
   "nbconvert_exporter": "python",
   "pygments_lexer": "ipython3",
   "version": "3.10.11"
  },
  "varInspector": {
   "cols": {
    "lenName": 16,
    "lenType": 16,
    "lenVar": 40
   },
   "kernels_config": {
    "python": {
     "delete_cmd_postfix": "",
     "delete_cmd_prefix": "del ",
     "library": "var_list.py",
     "varRefreshCmd": "print(var_dic_list())"
    },
    "r": {
     "delete_cmd_postfix": ") ",
     "delete_cmd_prefix": "rm(",
     "library": "var_list.r",
     "varRefreshCmd": "cat(var_dic_list()) "
    }
   },
   "types_to_exclude": [
    "module",
    "function",
    "builtin_function_or_method",
    "instance",
    "_Feature"
   ],
   "window_display": false
  }
 },
 "nbformat": 4,
 "nbformat_minor": 4
}
