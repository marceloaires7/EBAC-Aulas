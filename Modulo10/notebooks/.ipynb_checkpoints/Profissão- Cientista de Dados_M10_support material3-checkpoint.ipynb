{
 "cells": [
  {
   "cell_type": "markdown",
   "metadata": {},
   "source": [
    "# Estabilidade\n",
    "\n",
    "Quando fazemos um modelo, é muito importante avaliar se as variáveis que estamos utilizando são estáveis. Se tivermos uma base com medidas no tempo, podemos avaliar:\n",
    "\n",
    "1. se as distribuições das variáveis explicativas são estáveis no tempo e\n",
    "2. se as médias da variável resposta são estáveis no tempo por grupos de explicativas."
   ]
  },
  {
   "cell_type": "code",
   "execution_count": 1,
   "metadata": {},
   "outputs": [],
   "source": [
    "import numpy as np\n",
    "import pandas as pd\n",
    "import matplotlib.pyplot as plt\n",
    "import seaborn as sns\n",
    "# Fixing random state for reproducibility\n",
    "np.random.seed(2360873)"
   ]
  },
  {
   "cell_type": "code",
   "execution_count": 2,
   "metadata": {},
   "outputs": [
    {
     "data": {
      "text/html": [
       "<div>\n",
       "<style scoped>\n",
       "    .dataframe tbody tr th:only-of-type {\n",
       "        vertical-align: middle;\n",
       "    }\n",
       "\n",
       "    .dataframe tbody tr th {\n",
       "        vertical-align: top;\n",
       "    }\n",
       "\n",
       "    .dataframe thead th {\n",
       "        text-align: right;\n",
       "    }\n",
       "</style>\n",
       "<table border=\"1\" class=\"dataframe\">\n",
       "  <thead>\n",
       "    <tr style=\"text-align: right;\">\n",
       "      <th></th>\n",
       "      <th>total_bill</th>\n",
       "      <th>tip</th>\n",
       "      <th>sex</th>\n",
       "      <th>smoker</th>\n",
       "      <th>day</th>\n",
       "      <th>time</th>\n",
       "      <th>size</th>\n",
       "      <th>tip_pct</th>\n",
       "    </tr>\n",
       "  </thead>\n",
       "  <tbody>\n",
       "    <tr>\n",
       "      <th>0</th>\n",
       "      <td>16.99</td>\n",
       "      <td>1.01</td>\n",
       "      <td>Female</td>\n",
       "      <td>No</td>\n",
       "      <td>Sun</td>\n",
       "      <td>Dinner</td>\n",
       "      <td>2</td>\n",
       "      <td>0.063204</td>\n",
       "    </tr>\n",
       "    <tr>\n",
       "      <th>1</th>\n",
       "      <td>10.34</td>\n",
       "      <td>1.66</td>\n",
       "      <td>Male</td>\n",
       "      <td>No</td>\n",
       "      <td>Sun</td>\n",
       "      <td>Dinner</td>\n",
       "      <td>3</td>\n",
       "      <td>0.191244</td>\n",
       "    </tr>\n",
       "    <tr>\n",
       "      <th>2</th>\n",
       "      <td>21.01</td>\n",
       "      <td>3.50</td>\n",
       "      <td>Male</td>\n",
       "      <td>No</td>\n",
       "      <td>Sun</td>\n",
       "      <td>Dinner</td>\n",
       "      <td>3</td>\n",
       "      <td>0.199886</td>\n",
       "    </tr>\n",
       "    <tr>\n",
       "      <th>3</th>\n",
       "      <td>23.68</td>\n",
       "      <td>3.31</td>\n",
       "      <td>Male</td>\n",
       "      <td>No</td>\n",
       "      <td>Sun</td>\n",
       "      <td>Dinner</td>\n",
       "      <td>2</td>\n",
       "      <td>0.162494</td>\n",
       "    </tr>\n",
       "    <tr>\n",
       "      <th>4</th>\n",
       "      <td>24.59</td>\n",
       "      <td>3.61</td>\n",
       "      <td>Female</td>\n",
       "      <td>No</td>\n",
       "      <td>Sun</td>\n",
       "      <td>Dinner</td>\n",
       "      <td>4</td>\n",
       "      <td>0.172069</td>\n",
       "    </tr>\n",
       "  </tbody>\n",
       "</table>\n",
       "</div>"
      ],
      "text/plain": [
       "   total_bill   tip     sex smoker  day    time  size   tip_pct\n",
       "0       16.99  1.01  Female     No  Sun  Dinner     2  0.063204\n",
       "1       10.34  1.66    Male     No  Sun  Dinner     3  0.191244\n",
       "2       21.01  3.50    Male     No  Sun  Dinner     3  0.199886\n",
       "3       23.68  3.31    Male     No  Sun  Dinner     2  0.162494\n",
       "4       24.59  3.61  Female     No  Sun  Dinner     4  0.172069"
      ]
     },
     "execution_count": 2,
     "metadata": {},
     "output_type": "execute_result"
    }
   ],
   "source": [
    "tips = sns.load_dataset(\"tips\")\n",
    "tips['tip_pct'] = tips['tip'] / (tips['total_bill'] - tips['tip'])\n",
    "tips.head()"
   ]
  },
  {
   "cell_type": "code",
   "execution_count": 3,
   "metadata": {},
   "outputs": [
    {
     "data": {
      "text/plain": [
       "(244, 8)"
      ]
     },
     "execution_count": 3,
     "metadata": {},
     "output_type": "execute_result"
    }
   ],
   "source": [
    "tips.shape"
   ]
  },
  {
   "cell_type": "markdown",
   "metadata": {},
   "source": [
    "####  Preparação da base de dados\n",
    "\n",
    "Vamos fazer uma reamostragem da base de gorjetas para simular que essa base tenha medidas em três meses distintos, para podermos comparar as distribuições das variáveis no tempo."
   ]
  },
  {
   "cell_type": "code",
   "execution_count": 4,
   "metadata": {},
   "outputs": [
    {
     "data": {
      "text/html": [
       "<div>\n",
       "<style scoped>\n",
       "    .dataframe tbody tr th:only-of-type {\n",
       "        vertical-align: middle;\n",
       "    }\n",
       "\n",
       "    .dataframe tbody tr th {\n",
       "        vertical-align: top;\n",
       "    }\n",
       "\n",
       "    .dataframe thead th {\n",
       "        text-align: right;\n",
       "    }\n",
       "</style>\n",
       "<table border=\"1\" class=\"dataframe\">\n",
       "  <thead>\n",
       "    <tr style=\"text-align: right;\">\n",
       "      <th></th>\n",
       "      <th>data_ref</th>\n",
       "      <th>index</th>\n",
       "      <th>total_bill</th>\n",
       "      <th>tip</th>\n",
       "      <th>sex</th>\n",
       "      <th>smoker</th>\n",
       "      <th>day</th>\n",
       "      <th>time</th>\n",
       "      <th>size</th>\n",
       "      <th>tip_pct</th>\n",
       "    </tr>\n",
       "  </thead>\n",
       "  <tbody>\n",
       "    <tr>\n",
       "      <th>0</th>\n",
       "      <td>2019-01-01</td>\n",
       "      <td>23</td>\n",
       "      <td>39.42</td>\n",
       "      <td>7.58</td>\n",
       "      <td>Male</td>\n",
       "      <td>No</td>\n",
       "      <td>Sat</td>\n",
       "      <td>Dinner</td>\n",
       "      <td>4</td>\n",
       "      <td>0.238065</td>\n",
       "    </tr>\n",
       "    <tr>\n",
       "      <th>1</th>\n",
       "      <td>2019-01-01</td>\n",
       "      <td>228</td>\n",
       "      <td>13.28</td>\n",
       "      <td>2.72</td>\n",
       "      <td>Male</td>\n",
       "      <td>No</td>\n",
       "      <td>Sat</td>\n",
       "      <td>Dinner</td>\n",
       "      <td>2</td>\n",
       "      <td>0.257576</td>\n",
       "    </tr>\n",
       "    <tr>\n",
       "      <th>2</th>\n",
       "      <td>2019-01-01</td>\n",
       "      <td>239</td>\n",
       "      <td>29.03</td>\n",
       "      <td>5.92</td>\n",
       "      <td>Male</td>\n",
       "      <td>No</td>\n",
       "      <td>Sat</td>\n",
       "      <td>Dinner</td>\n",
       "      <td>3</td>\n",
       "      <td>0.256166</td>\n",
       "    </tr>\n",
       "    <tr>\n",
       "      <th>3</th>\n",
       "      <td>2019-01-01</td>\n",
       "      <td>190</td>\n",
       "      <td>15.69</td>\n",
       "      <td>1.50</td>\n",
       "      <td>Male</td>\n",
       "      <td>Yes</td>\n",
       "      <td>Sun</td>\n",
       "      <td>Dinner</td>\n",
       "      <td>2</td>\n",
       "      <td>0.105708</td>\n",
       "    </tr>\n",
       "    <tr>\n",
       "      <th>4</th>\n",
       "      <td>2019-01-01</td>\n",
       "      <td>157</td>\n",
       "      <td>25.00</td>\n",
       "      <td>3.75</td>\n",
       "      <td>Female</td>\n",
       "      <td>No</td>\n",
       "      <td>Sun</td>\n",
       "      <td>Dinner</td>\n",
       "      <td>4</td>\n",
       "      <td>0.176471</td>\n",
       "    </tr>\n",
       "    <tr>\n",
       "      <th>...</th>\n",
       "      <td>...</td>\n",
       "      <td>...</td>\n",
       "      <td>...</td>\n",
       "      <td>...</td>\n",
       "      <td>...</td>\n",
       "      <td>...</td>\n",
       "      <td>...</td>\n",
       "      <td>...</td>\n",
       "      <td>...</td>\n",
       "      <td>...</td>\n",
       "    </tr>\n",
       "    <tr>\n",
       "      <th>625</th>\n",
       "      <td>2019-03-01</td>\n",
       "      <td>65</td>\n",
       "      <td>20.08</td>\n",
       "      <td>3.15</td>\n",
       "      <td>Male</td>\n",
       "      <td>No</td>\n",
       "      <td>Sat</td>\n",
       "      <td>Dinner</td>\n",
       "      <td>3</td>\n",
       "      <td>0.186060</td>\n",
       "    </tr>\n",
       "    <tr>\n",
       "      <th>626</th>\n",
       "      <td>2019-03-01</td>\n",
       "      <td>18</td>\n",
       "      <td>16.97</td>\n",
       "      <td>3.50</td>\n",
       "      <td>Female</td>\n",
       "      <td>No</td>\n",
       "      <td>Sun</td>\n",
       "      <td>Dinner</td>\n",
       "      <td>3</td>\n",
       "      <td>0.259837</td>\n",
       "    </tr>\n",
       "    <tr>\n",
       "      <th>627</th>\n",
       "      <td>2019-03-01</td>\n",
       "      <td>35</td>\n",
       "      <td>24.06</td>\n",
       "      <td>3.60</td>\n",
       "      <td>Male</td>\n",
       "      <td>No</td>\n",
       "      <td>Sat</td>\n",
       "      <td>Dinner</td>\n",
       "      <td>3</td>\n",
       "      <td>0.175953</td>\n",
       "    </tr>\n",
       "    <tr>\n",
       "      <th>628</th>\n",
       "      <td>2019-03-01</td>\n",
       "      <td>133</td>\n",
       "      <td>12.26</td>\n",
       "      <td>2.00</td>\n",
       "      <td>Female</td>\n",
       "      <td>No</td>\n",
       "      <td>Thur</td>\n",
       "      <td>Lunch</td>\n",
       "      <td>2</td>\n",
       "      <td>0.194932</td>\n",
       "    </tr>\n",
       "    <tr>\n",
       "      <th>629</th>\n",
       "      <td>2019-03-01</td>\n",
       "      <td>138</td>\n",
       "      <td>16.00</td>\n",
       "      <td>2.00</td>\n",
       "      <td>Male</td>\n",
       "      <td>Yes</td>\n",
       "      <td>Thur</td>\n",
       "      <td>Lunch</td>\n",
       "      <td>2</td>\n",
       "      <td>0.142857</td>\n",
       "    </tr>\n",
       "  </tbody>\n",
       "</table>\n",
       "<p>630 rows × 10 columns</p>\n",
       "</div>"
      ],
      "text/plain": [
       "      data_ref  index  total_bill   tip     sex smoker   day    time  size  \\\n",
       "0   2019-01-01     23       39.42  7.58    Male     No   Sat  Dinner     4   \n",
       "1   2019-01-01    228       13.28  2.72    Male     No   Sat  Dinner     2   \n",
       "2   2019-01-01    239       29.03  5.92    Male     No   Sat  Dinner     3   \n",
       "3   2019-01-01    190       15.69  1.50    Male    Yes   Sun  Dinner     2   \n",
       "4   2019-01-01    157       25.00  3.75  Female     No   Sun  Dinner     4   \n",
       "..         ...    ...         ...   ...     ...    ...   ...     ...   ...   \n",
       "625 2019-03-01     65       20.08  3.15    Male     No   Sat  Dinner     3   \n",
       "626 2019-03-01     18       16.97  3.50  Female     No   Sun  Dinner     3   \n",
       "627 2019-03-01     35       24.06  3.60    Male     No   Sat  Dinner     3   \n",
       "628 2019-03-01    133       12.26  2.00  Female     No  Thur   Lunch     2   \n",
       "629 2019-03-01    138       16.00  2.00    Male    Yes  Thur   Lunch     2   \n",
       "\n",
       "      tip_pct  \n",
       "0    0.238065  \n",
       "1    0.257576  \n",
       "2    0.256166  \n",
       "3    0.105708  \n",
       "4    0.176471  \n",
       "..        ...  \n",
       "625  0.186060  \n",
       "626  0.259837  \n",
       "627  0.175953  \n",
       "628  0.194932  \n",
       "629  0.142857  \n",
       "\n",
       "[630 rows x 10 columns]"
      ]
     },
     "execution_count": 4,
     "metadata": {},
     "output_type": "execute_result"
    }
   ],
   "source": [
    "n_meses = 3\n",
    "n_clientes = 210\n",
    "\n",
    "datas = pd.Series(pd.date_range('1/1/2019', periods = n_meses, freq = 'MS').repeat(n_clientes))\n",
    "\n",
    "dados = tips.sample(n = n_meses * n_clientes, replace=True).reset_index()\n",
    "\n",
    "tips2 = pd.concat([datas, dados], axis = 1)\n",
    "tips2.rename({0:'data_ref'}, inplace = True, axis = 'columns')\n",
    "tips2"
   ]
  },
  {
   "cell_type": "markdown",
   "metadata": {},
   "source": [
    "#### Avaliação da distribuição\n",
    "\n",
    "A distribuição das variáveis explicativas pode ser avaliada via gráfico de barras. Se uma variável tem sua distribuição alterada subitamente, é importante entender o fenômeno. Uma pandemia por exemplo pode alterar significativamente a distribuição de diversas variáveis, nesse caso, deve-se estudar tais variáveis para avaliar se o modelo continua funcionando."
   ]
  },
  {
   "cell_type": "code",
   "execution_count": 6,
   "metadata": {},
   "outputs": [
    {
     "data": {
      "text/plain": [
       "<matplotlib.legend.Legend at 0x7f8be4bbee50>"
      ]
     },
     "execution_count": 6,
     "metadata": {},
     "output_type": "execute_result"
    },
    {
     "data": {
      "image/png": "[encoded data removed]",
      "text/plain": [
       "<Figure size 432x288 with 1 Axes>"
      ]
     },
     "metadata": {
      "needs_background": "light"
     },
     "output_type": "display_data"
    }
   ],
   "source": [
    "ax = sns.countplot(x='data_ref',  hue = 'sex', data=tips2)\n",
    "\n",
    "tick_labs = tips2['data_ref'].map(lambda ts: ts.strftime(\"%m-%Y\")).unique()\n",
    "\n",
    "# tick_labs.tolist()\n",
    "\n",
    "ticks = ax.set_xticks(list(range(tips2['data_ref'].nunique())))\n",
    "labels = ax.set_xticklabels(tick_labs, rotation=0)\n",
    "\n",
    "plt.legend(bbox_to_anchor=(1.05, 1), loc=2, borderaxespad=0.)"
   ]
  },
  {
   "cell_type": "markdown",
   "metadata": {},
   "source": [
    "#### Barras empilhadas\n",
    "\n",
    "Especialistas sugerem que barras não empilhadas sejam melhores para comparar distribuições, mas barras empilhadas podem ser uma opção estética para um painel."
   ]
  },
  {
   "cell_type": "code",
   "execution_count": 7,
   "metadata": {},
   "outputs": [
    {
     "data": {
      "text/html": [
       "<div>\n",
       "<style scoped>\n",
       "    .dataframe tbody tr th:only-of-type {\n",
       "        vertical-align: middle;\n",
       "    }\n",
       "\n",
       "    .dataframe tbody tr th {\n",
       "        vertical-align: top;\n",
       "    }\n",
       "\n",
       "    .dataframe thead th {\n",
       "        text-align: right;\n",
       "    }\n",
       "</style>\n",
       "<table border=\"1\" class=\"dataframe\">\n",
       "  <thead>\n",
       "    <tr style=\"text-align: right;\">\n",
       "      <th>sex</th>\n",
       "      <th>Male</th>\n",
       "      <th>Female</th>\n",
       "    </tr>\n",
       "    <tr>\n",
       "      <th>data_ref</th>\n",
       "      <th></th>\n",
       "      <th></th>\n",
       "    </tr>\n",
       "  </thead>\n",
       "  <tbody>\n",
       "    <tr>\n",
       "      <th>2019-01-01</th>\n",
       "      <td>0.719048</td>\n",
       "      <td>0.280952</td>\n",
       "    </tr>\n",
       "    <tr>\n",
       "      <th>2019-02-01</th>\n",
       "      <td>0.652381</td>\n",
       "      <td>0.347619</td>\n",
       "    </tr>\n",
       "    <tr>\n",
       "      <th>2019-03-01</th>\n",
       "      <td>0.666667</td>\n",
       "      <td>0.333333</td>\n",
       "    </tr>\n",
       "  </tbody>\n",
       "</table>\n",
       "</div>"
      ],
      "text/plain": [
       "sex             Male    Female\n",
       "data_ref                      \n",
       "2019-01-01  0.719048  0.280952\n",
       "2019-02-01  0.652381  0.347619\n",
       "2019-03-01  0.666667  0.333333"
      ]
     },
     "execution_count": 7,
     "metadata": {},
     "output_type": "execute_result"
    }
   ],
   "source": [
    "tab = pd.crosstab(tips2['data_ref'],tips2['sex'])\n",
    "tab.div(tab.sum(axis = 1), axis = 0)"
   ]
  },
  {
   "cell_type": "code",
   "execution_count": 9,
   "metadata": {},
   "outputs": [
    {
     "data": {
      "text/plain": [
       "<matplotlib.legend.Legend at 0x7f8be1b995e0>"
      ]
     },
     "execution_count": 9,
     "metadata": {},
     "output_type": "execute_result"
    },
    {
     "data": {
      "image/png": "[encoded data removed]",
      "text/plain": [
       "<Figure size 432x288 with 1 Axes>"
      ]
     },
     "metadata": {
      "needs_background": "light"
     },
     "output_type": "display_data"
    }
   ],
   "source": [
    "tab_freq = pd.crosstab(tips2['data_ref'],tips2['sex'])\n",
    "tab = tab_freq.div(tab.sum(axis = 1), axis = 0)\n",
    "\n",
    "ax = tab.plot.bar(stacked = True)\n",
    "\n",
    "tick_labs = tips2['data_ref'].map(lambda ts: ts.strftime(\"%m-%Y\")).unique()\n",
    "\n",
    "ticks = ax.set_xticks(list(range(tips2['data_ref'].nunique())))\n",
    "labels = ax.set_xticklabels(tick_labs, rotation=0)\n",
    "\n",
    "plt.legend(loc = 'lower center', bbox_to_anchor=(0.5, -.50),ncol = 3)"
   ]
  },
  {
   "cell_type": "markdown",
   "metadata": {},
   "source": [
    "#### Perfis médios no tempo\n",
    "\n",
    "Essa informação é crucial para avaliar a qualidade de um modelo e sua estabilidade. Instabilidade nas médias da variável resposta para perfís específicos é um sinal crítico de alerta para a qualidade de um modelo que considere tais perfís."
   ]
  },
  {
   "cell_type": "code",
   "execution_count": 10,
   "metadata": {},
   "outputs": [
    {
     "data": {
      "text/plain": [
       "<matplotlib.legend.Legend at 0x7f8be4e64fd0>"
      ]
     },
     "execution_count": 10,
     "metadata": {},
     "output_type": "execute_result"
    },
    {
     "data": {
      "image/png": "[encoded data removed]",
      "text/plain": [
       "<Figure size 432x288 with 1 Axes>"
      ]
     },
     "metadata": {
      "needs_background": "light"
     },
     "output_type": "display_data"
    }
   ],
   "source": [
    "ax = sns.pointplot(x=\"data_ref\", y=\"tip_pct\", hue = 'sex',\n",
    "                   data=tips2, dodge=True, ci = 95)\n",
    "\n",
    "plt.legend(loc = 'lower center', bbox_to_anchor=(0.5, -.30),ncol = 3)\n",
    "\n",
    "tick_labs = tips2['data_ref'].map(lambda ts: ts.strftime(\"%m-%Y\")).unique()\n",
    "\n",
    "ticks = ax.set_xticks(list(range(tips2['data_ref'].nunique())))\n",
    "labels = ax.set_xticklabels(tick_labs, rotation=0)\n",
    "\n",
    "plt.legend(loc = 'lower center', bbox_to_anchor=(0.5, -.50),ncol = 3)"
   ]
  },
  {
   "cell_type": "code",
   "execution_count": null,
   "metadata": {},
   "outputs": [],
   "source": []
  }
 ],
 "metadata": {
  "kernelspec": {
   "display_name": "Python 3 (ipykernel)",
   "language": "python",
   "name": "python3"
  },
  "language_info": {
   "codemirror_mode": {
    "name": "ipython",
    "version": 3
   },
   "file_extension": ".py",
   "mimetype": "text/x-python",
   "name": "python",
   "nbconvert_exporter": "python",
   "pygments_lexer": "ipython3",
   "version": "3.10.9"
  }
 },
 "nbformat": 4,
 "nbformat_minor": 4
}
