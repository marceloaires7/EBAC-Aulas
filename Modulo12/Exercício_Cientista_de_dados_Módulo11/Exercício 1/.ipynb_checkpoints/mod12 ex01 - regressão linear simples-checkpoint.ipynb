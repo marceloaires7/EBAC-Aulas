{
 "cells": [
  {
   "cell_type": "code",
   "execution_count": 1,
   "metadata": {},
   "outputs": [],
   "source": [
    "# Importando as Bibliotecas\n",
    "import pandas as pd\n",
    "import matplotlib.pyplot as plt\n",
    "\n",
    "import seaborn as sns\n",
    "from seaborn import load_dataset\n",
    "\n",
    "import numpy as np\n",
    "\n",
    "import statsmodels.formula.api as smf"
   ]
  },
  {
   "cell_type": "code",
   "execution_count": 2,
   "metadata": {
    "scrolled": false
   },
   "outputs": [
    {
     "name": "stdout",
     "output_type": "stream",
     "text": [
      "Python implementation: CPython\n",
      "Python version       : 3.10.11\n",
      "IPython version      : 8.12.0\n",
      "\n",
      "statsmodels: 0.14.0\n",
      "pandas     : 2.0.3\n",
      "matplotlib : 3.7.1\n",
      "seaborn    : 0.12.2\n",
      "numpy      : 1.25.0\n",
      "\n"
     ]
    }
   ],
   "source": [
    "# Versão dos pacotes e do python.\n",
    "%reload_ext watermark\n",
    "%watermark --iversions --python"
   ]
  },
  {
   "cell_type": "markdown",
   "metadata": {},
   "source": [
    "# Regressão 01 - tarefa 01"
   ]
  },
  {
   "cell_type": "markdown",
   "metadata": {},
   "source": [
    "### 1. Explorando a base de gorjetas\n",
    "\n",
    "a. Na aula fizemos uma regressão de ```tip``` explicada por ```net_bill```. Carregue os pacotes e a base, crie as variáveis necessárias como na aula, e reproduza esta regressão.\n",
    "\n",
    "b. Reproduza também o gráfico de dispersão dessas duas variáveis."
   ]
  },
  {
   "cell_type": "code",
   "execution_count": 3,
   "metadata": {
    "scrolled": true
   },
   "outputs": [
    {
     "data": {
      "text/html": [
       "<div>\n",
       "<style scoped>\n",
       "    .dataframe tbody tr th:only-of-type {\n",
       "        vertical-align: middle;\n",
       "    }\n",
       "\n",
       "    .dataframe tbody tr th {\n",
       "        vertical-align: top;\n",
       "    }\n",
       "\n",
       "    .dataframe thead th {\n",
       "        text-align: right;\n",
       "    }\n",
       "</style>\n",
       "<table border=\"1\" class=\"dataframe\">\n",
       "  <thead>\n",
       "    <tr style=\"text-align: right;\">\n",
       "      <th></th>\n",
       "      <th>tip</th>\n",
       "      <th>net_bill</th>\n",
       "      <th>tip_pct</th>\n",
       "    </tr>\n",
       "  </thead>\n",
       "  <tbody>\n",
       "    <tr>\n",
       "      <th>0</th>\n",
       "      <td>1.01</td>\n",
       "      <td>15.98</td>\n",
       "      <td>0.063204</td>\n",
       "    </tr>\n",
       "    <tr>\n",
       "      <th>1</th>\n",
       "      <td>1.66</td>\n",
       "      <td>8.68</td>\n",
       "      <td>0.191244</td>\n",
       "    </tr>\n",
       "    <tr>\n",
       "      <th>2</th>\n",
       "      <td>3.50</td>\n",
       "      <td>17.51</td>\n",
       "      <td>0.199886</td>\n",
       "    </tr>\n",
       "    <tr>\n",
       "      <th>3</th>\n",
       "      <td>3.31</td>\n",
       "      <td>20.37</td>\n",
       "      <td>0.162494</td>\n",
       "    </tr>\n",
       "    <tr>\n",
       "      <th>4</th>\n",
       "      <td>3.61</td>\n",
       "      <td>20.98</td>\n",
       "      <td>0.172069</td>\n",
       "    </tr>\n",
       "  </tbody>\n",
       "</table>\n",
       "</div>"
      ],
      "text/plain": [
       "    tip  net_bill   tip_pct\n",
       "0  1.01     15.98  0.063204\n",
       "1  1.66      8.68  0.191244\n",
       "2  3.50     17.51  0.199886\n",
       "3  3.31     20.37  0.162494\n",
       "4  3.61     20.98  0.172069"
      ]
     },
     "execution_count": 3,
     "metadata": {},
     "output_type": "execute_result"
    }
   ],
   "source": [
    "# Tratamento dos Dados e Amostragem.\n",
    "tips = sns.load_dataset(\"tips\")\n",
    "tips['net_bill'] = tips['total_bill'] - tips['tip']\n",
    "tips['tip_pct'] = tips['tip'] / tips['net_bill']\n",
    "tips.drop(['total_bill', 'sex', 'smoker', 'day', 'time', 'size'], axis=1, inplace=True)\n",
    "tips.head()"
   ]
  },
  {
   "cell_type": "code",
   "execution_count": 4,
   "metadata": {},
   "outputs": [
    {
     "data": {
      "text/html": [
       "<table class=\"simpletable\">\n",
       "<caption>OLS Regression Results</caption>\n",
       "<tr>\n",
       "  <th>Dep. Variable:</th>           <td>tip</td>       <th>  R-squared:         </th> <td>   0.333</td>\n",
       "</tr>\n",
       "<tr>\n",
       "  <th>Model:</th>                   <td>OLS</td>       <th>  Adj. R-squared:    </th> <td>   0.330</td>\n",
       "</tr>\n",
       "<tr>\n",
       "  <th>Method:</th>             <td>Least Squares</td>  <th>  F-statistic:       </th> <td>   120.6</td>\n",
       "</tr>\n",
       "<tr>\n",
       "  <th>Date:</th>             <td>Mon, 03 Jul 2023</td> <th>  Prob (F-statistic):</th> <td>5.02e-23</td>\n",
       "</tr>\n",
       "<tr>\n",
       "  <th>Time:</th>                 <td>23:36:59</td>     <th>  Log-Likelihood:    </th> <td> -375.63</td>\n",
       "</tr>\n",
       "<tr>\n",
       "  <th>No. Observations:</th>      <td>   244</td>      <th>  AIC:               </th> <td>   755.3</td>\n",
       "</tr>\n",
       "<tr>\n",
       "  <th>Df Residuals:</th>          <td>   242</td>      <th>  BIC:               </th> <td>   762.3</td>\n",
       "</tr>\n",
       "<tr>\n",
       "  <th>Df Model:</th>              <td>     1</td>      <th>                     </th>     <td> </td>   \n",
       "</tr>\n",
       "<tr>\n",
       "  <th>Covariance Type:</th>      <td>nonrobust</td>    <th>                     </th>     <td> </td>   \n",
       "</tr>\n",
       "</table>\n",
       "<table class=\"simpletable\">\n",
       "<tr>\n",
       "      <td></td>         <th>coef</th>     <th>std err</th>      <th>t</th>      <th>P>|t|</th>  <th>[0.025</th>    <th>0.975]</th>  \n",
       "</tr>\n",
       "<tr>\n",
       "  <th>Intercept</th> <td>    1.3307</td> <td>    0.168</td> <td>    7.907</td> <td> 0.000</td> <td>    0.999</td> <td>    1.662</td>\n",
       "</tr>\n",
       "<tr>\n",
       "  <th>net_bill</th>  <td>    0.0993</td> <td>    0.009</td> <td>   10.980</td> <td> 0.000</td> <td>    0.082</td> <td>    0.117</td>\n",
       "</tr>\n",
       "</table>\n",
       "<table class=\"simpletable\">\n",
       "<tr>\n",
       "  <th>Omnibus:</th>       <td>33.873</td> <th>  Durbin-Watson:     </th> <td>   2.123</td>\n",
       "</tr>\n",
       "<tr>\n",
       "  <th>Prob(Omnibus):</th> <td> 0.000</td> <th>  Jarque-Bera (JB):  </th> <td>  59.942</td>\n",
       "</tr>\n",
       "<tr>\n",
       "  <th>Skew:</th>          <td> 0.754</td> <th>  Prob(JB):          </th> <td>9.63e-14</td>\n",
       "</tr>\n",
       "<tr>\n",
       "  <th>Kurtosis:</th>      <td> 4.903</td> <th>  Cond. No.          </th> <td>    43.3</td>\n",
       "</tr>\n",
       "</table><br/><br/>Notes:<br/>[1] Standard Errors assume that the covariance matrix of the errors is correctly specified."
      ],
      "text/latex": [
       "\\begin{center}\n",
       "\\begin{tabular}{lclc}\n",
       "\\toprule\n",
       "\\textbf{Dep. Variable:}    &       tip        & \\textbf{  R-squared:         } &     0.333   \\\\\n",
       "\\textbf{Model:}            &       OLS        & \\textbf{  Adj. R-squared:    } &     0.330   \\\\\n",
       "\\textbf{Method:}           &  Least Squares   & \\textbf{  F-statistic:       } &     120.6   \\\\\n",
       "\\textbf{Date:}             & Mon, 03 Jul 2023 & \\textbf{  Prob (F-statistic):} &  5.02e-23   \\\\\n",
       "\\textbf{Time:}             &     23:36:59     & \\textbf{  Log-Likelihood:    } &   -375.63   \\\\\n",
       "\\textbf{No. Observations:} &         244      & \\textbf{  AIC:               } &     755.3   \\\\\n",
       "\\textbf{Df Residuals:}     &         242      & \\textbf{  BIC:               } &     762.3   \\\\\n",
       "\\textbf{Df Model:}         &           1      & \\textbf{                     } &             \\\\\n",
       "\\textbf{Covariance Type:}  &    nonrobust     & \\textbf{                     } &             \\\\\n",
       "\\bottomrule\n",
       "\\end{tabular}\n",
       "\\begin{tabular}{lcccccc}\n",
       "                   & \\textbf{coef} & \\textbf{std err} & \\textbf{t} & \\textbf{P$> |$t$|$} & \\textbf{[0.025} & \\textbf{0.975]}  \\\\\n",
       "\\midrule\n",
       "\\textbf{Intercept} &       1.3307  &        0.168     &     7.907  &         0.000        &        0.999    &        1.662     \\\\\n",
       "\\textbf{net\\_bill} &       0.0993  &        0.009     &    10.980  &         0.000        &        0.082    &        0.117     \\\\\n",
       "\\bottomrule\n",
       "\\end{tabular}\n",
       "\\begin{tabular}{lclc}\n",
       "\\textbf{Omnibus:}       & 33.873 & \\textbf{  Durbin-Watson:     } &    2.123  \\\\\n",
       "\\textbf{Prob(Omnibus):} &  0.000 & \\textbf{  Jarque-Bera (JB):  } &   59.942  \\\\\n",
       "\\textbf{Skew:}          &  0.754 & \\textbf{  Prob(JB):          } & 9.63e-14  \\\\\n",
       "\\textbf{Kurtosis:}      &  4.903 & \\textbf{  Cond. No.          } &     43.3  \\\\\n",
       "\\bottomrule\n",
       "\\end{tabular}\n",
       "%\\caption{OLS Regression Results}\n",
       "\\end{center}\n",
       "\n",
       "Notes: \\newline\n",
       " [1] Standard Errors assume that the covariance matrix of the errors is correctly specified."
      ],
      "text/plain": [
       "<class 'statsmodels.iolib.summary.Summary'>\n",
       "\"\"\"\n",
       "                            OLS Regression Results                            \n",
       "==============================================================================\n",
       "Dep. Variable:                    tip   R-squared:                       0.333\n",
       "Model:                            OLS   Adj. R-squared:                  0.330\n",
       "Method:                 Least Squares   F-statistic:                     120.6\n",
       "Date:                Mon, 03 Jul 2023   Prob (F-statistic):           5.02e-23\n",
       "Time:                        23:36:59   Log-Likelihood:                -375.63\n",
       "No. Observations:                 244   AIC:                             755.3\n",
       "Df Residuals:                     242   BIC:                             762.3\n",
       "Df Model:                           1                                         \n",
       "Covariance Type:            nonrobust                                         \n",
       "==============================================================================\n",
       "                 coef    std err          t      P>|t|      [0.025      0.975]\n",
       "------------------------------------------------------------------------------\n",
       "Intercept      1.3307      0.168      7.907      0.000       0.999       1.662\n",
       "net_bill       0.0993      0.009     10.980      0.000       0.082       0.117\n",
       "==============================================================================\n",
       "Omnibus:                       33.873   Durbin-Watson:                   2.123\n",
       "Prob(Omnibus):                  0.000   Jarque-Bera (JB):               59.942\n",
       "Skew:                           0.754   Prob(JB):                     9.63e-14\n",
       "Kurtosis:                       4.903   Cond. No.                         43.3\n",
       "==============================================================================\n",
       "\n",
       "Notes:\n",
       "[1] Standard Errors assume that the covariance matrix of the errors is correctly specified.\n",
       "\"\"\""
      ]
     },
     "execution_count": 4,
     "metadata": {},
     "output_type": "execute_result"
    }
   ],
   "source": [
    "# Regressão reg1 ('tip ~ net_bill').\n",
    "reg1 = smf.ols('tip ~ net_bill',\n",
    "              data= tips).fit()\n",
    "\n",
    "# Sumário reg1.\n",
    "reg1.summary()"
   ]
  },
  {
   "cell_type": "code",
   "execution_count": 5,
   "metadata": {},
   "outputs": [
    {
     "data": {
      "text/plain": [
       "(0.0, 10.48965)"
      ]
     },
     "execution_count": 5,
     "metadata": {},
     "output_type": "execute_result"
    },
    {
     "data": {
      "image/png": "[encoded data removed]",
      "text/plain": [
       "<Figure size 640x480 with 1 Axes>"
      ]
     },
     "metadata": {},
     "output_type": "display_data"
    }
   ],
   "source": [
    "# Gráfico de dispersão 'tip x net_bill'.\n",
    "sns.regplot(y= 'tip',\n",
    "            x= 'net_bill',\n",
    "            data= tips[tips['tip_pct']<.5])\n",
    "\n",
    "# Gerando dados para a linha dos 10%.\n",
    "x = np.linspace(tips['net_bill'].min(),\n",
    "                tips['net_bill'].max(),\n",
    "                num=100)\n",
    "y = .1*x\n",
    "\n",
    "# Plotando a linha dos 10%.\n",
    "plt.plot(x, y, '-r', label='linha dos 10%')\n",
    "\n",
    "# Opções estéticas para explicitar o (0,0) no gráfico.\n",
    "plt.xlim(left = 0)\n",
    "plt.ylim(bottom = 0)"
   ]
  },
  {
   "cell_type": "markdown",
   "metadata": {},
   "source": [
    "### 2. Mudança de perspectiva\n",
    "\n",
    "Agora ajuste um modelo de regressão de ```tip_pct``` por ```net_bill```. Construa o gráfico de dispersão correspondente."
   ]
  },
  {
   "cell_type": "code",
   "execution_count": 6,
   "metadata": {},
   "outputs": [
    {
     "data": {
      "text/html": [
       "<table class=\"simpletable\">\n",
       "<caption>OLS Regression Results</caption>\n",
       "<tr>\n",
       "  <th>Dep. Variable:</th>         <td>tip_pct</td>     <th>  R-squared:         </th> <td>   0.091</td>\n",
       "</tr>\n",
       "<tr>\n",
       "  <th>Model:</th>                   <td>OLS</td>       <th>  Adj. R-squared:    </th> <td>   0.088</td>\n",
       "</tr>\n",
       "<tr>\n",
       "  <th>Method:</th>             <td>Least Squares</td>  <th>  F-statistic:       </th> <td>   24.31</td>\n",
       "</tr>\n",
       "<tr>\n",
       "  <th>Date:</th>             <td>Mon, 03 Jul 2023</td> <th>  Prob (F-statistic):</th> <td>1.52e-06</td>\n",
       "</tr>\n",
       "<tr>\n",
       "  <th>Time:</th>                 <td>23:36:59</td>     <th>  Log-Likelihood:    </th> <td>  108.00</td>\n",
       "</tr>\n",
       "<tr>\n",
       "  <th>No. Observations:</th>      <td>   244</td>      <th>  AIC:               </th> <td>  -212.0</td>\n",
       "</tr>\n",
       "<tr>\n",
       "  <th>Df Residuals:</th>          <td>   242</td>      <th>  BIC:               </th> <td>  -205.0</td>\n",
       "</tr>\n",
       "<tr>\n",
       "  <th>Df Model:</th>              <td>     1</td>      <th>                     </th>     <td> </td>   \n",
       "</tr>\n",
       "<tr>\n",
       "  <th>Covariance Type:</th>      <td>nonrobust</td>    <th>                     </th>     <td> </td>   \n",
       "</tr>\n",
       "</table>\n",
       "<table class=\"simpletable\">\n",
       "<tr>\n",
       "      <td></td>         <th>coef</th>     <th>std err</th>      <th>t</th>      <th>P>|t|</th>  <th>[0.025</th>    <th>0.975]</th>  \n",
       "</tr>\n",
       "<tr>\n",
       "  <th>Intercept</th> <td>    0.3053</td> <td>    0.023</td> <td>   13.166</td> <td> 0.000</td> <td>    0.260</td> <td>    0.351</td>\n",
       "</tr>\n",
       "<tr>\n",
       "  <th>net_bill</th>  <td>   -0.0061</td> <td>    0.001</td> <td>   -4.931</td> <td> 0.000</td> <td>   -0.009</td> <td>   -0.004</td>\n",
       "</tr>\n",
       "</table>\n",
       "<table class=\"simpletable\">\n",
       "<tr>\n",
       "  <th>Omnibus:</th>       <td>468.674</td> <th>  Durbin-Watson:     </th>  <td>   1.987</td> \n",
       "</tr>\n",
       "<tr>\n",
       "  <th>Prob(Omnibus):</th> <td> 0.000</td>  <th>  Jarque-Bera (JB):  </th> <td>234437.604</td>\n",
       "</tr>\n",
       "<tr>\n",
       "  <th>Skew:</th>          <td>11.104</td>  <th>  Prob(JB):          </th>  <td>    0.00</td> \n",
       "</tr>\n",
       "<tr>\n",
       "  <th>Kurtosis:</th>      <td>153.221</td> <th>  Cond. No.          </th>  <td>    43.3</td> \n",
       "</tr>\n",
       "</table><br/><br/>Notes:<br/>[1] Standard Errors assume that the covariance matrix of the errors is correctly specified."
      ],
      "text/latex": [
       "\\begin{center}\n",
       "\\begin{tabular}{lclc}\n",
       "\\toprule\n",
       "\\textbf{Dep. Variable:}    &     tip\\_pct     & \\textbf{  R-squared:         } &     0.091   \\\\\n",
       "\\textbf{Model:}            &       OLS        & \\textbf{  Adj. R-squared:    } &     0.088   \\\\\n",
       "\\textbf{Method:}           &  Least Squares   & \\textbf{  F-statistic:       } &     24.31   \\\\\n",
       "\\textbf{Date:}             & Mon, 03 Jul 2023 & \\textbf{  Prob (F-statistic):} &  1.52e-06   \\\\\n",
       "\\textbf{Time:}             &     23:36:59     & \\textbf{  Log-Likelihood:    } &    108.00   \\\\\n",
       "\\textbf{No. Observations:} &         244      & \\textbf{  AIC:               } &    -212.0   \\\\\n",
       "\\textbf{Df Residuals:}     &         242      & \\textbf{  BIC:               } &    -205.0   \\\\\n",
       "\\textbf{Df Model:}         &           1      & \\textbf{                     } &             \\\\\n",
       "\\textbf{Covariance Type:}  &    nonrobust     & \\textbf{                     } &             \\\\\n",
       "\\bottomrule\n",
       "\\end{tabular}\n",
       "\\begin{tabular}{lcccccc}\n",
       "                   & \\textbf{coef} & \\textbf{std err} & \\textbf{t} & \\textbf{P$> |$t$|$} & \\textbf{[0.025} & \\textbf{0.975]}  \\\\\n",
       "\\midrule\n",
       "\\textbf{Intercept} &       0.3053  &        0.023     &    13.166  &         0.000        &        0.260    &        0.351     \\\\\n",
       "\\textbf{net\\_bill} &      -0.0061  &        0.001     &    -4.931  &         0.000        &       -0.009    &       -0.004     \\\\\n",
       "\\bottomrule\n",
       "\\end{tabular}\n",
       "\\begin{tabular}{lclc}\n",
       "\\textbf{Omnibus:}       & 468.674 & \\textbf{  Durbin-Watson:     } &     1.987   \\\\\n",
       "\\textbf{Prob(Omnibus):} &   0.000 & \\textbf{  Jarque-Bera (JB):  } & 234437.604  \\\\\n",
       "\\textbf{Skew:}          &  11.104 & \\textbf{  Prob(JB):          } &      0.00   \\\\\n",
       "\\textbf{Kurtosis:}      & 153.221 & \\textbf{  Cond. No.          } &      43.3   \\\\\n",
       "\\bottomrule\n",
       "\\end{tabular}\n",
       "%\\caption{OLS Regression Results}\n",
       "\\end{center}\n",
       "\n",
       "Notes: \\newline\n",
       " [1] Standard Errors assume that the covariance matrix of the errors is correctly specified."
      ],
      "text/plain": [
       "<class 'statsmodels.iolib.summary.Summary'>\n",
       "\"\"\"\n",
       "                            OLS Regression Results                            \n",
       "==============================================================================\n",
       "Dep. Variable:                tip_pct   R-squared:                       0.091\n",
       "Model:                            OLS   Adj. R-squared:                  0.088\n",
       "Method:                 Least Squares   F-statistic:                     24.31\n",
       "Date:                Mon, 03 Jul 2023   Prob (F-statistic):           1.52e-06\n",
       "Time:                        23:36:59   Log-Likelihood:                 108.00\n",
       "No. Observations:                 244   AIC:                            -212.0\n",
       "Df Residuals:                     242   BIC:                            -205.0\n",
       "Df Model:                           1                                         \n",
       "Covariance Type:            nonrobust                                         \n",
       "==============================================================================\n",
       "                 coef    std err          t      P>|t|      [0.025      0.975]\n",
       "------------------------------------------------------------------------------\n",
       "Intercept      0.3053      0.023     13.166      0.000       0.260       0.351\n",
       "net_bill      -0.0061      0.001     -4.931      0.000      -0.009      -0.004\n",
       "==============================================================================\n",
       "Omnibus:                      468.674   Durbin-Watson:                   1.987\n",
       "Prob(Omnibus):                  0.000   Jarque-Bera (JB):           234437.604\n",
       "Skew:                          11.104   Prob(JB):                         0.00\n",
       "Kurtosis:                     153.221   Cond. No.                         43.3\n",
       "==============================================================================\n",
       "\n",
       "Notes:\n",
       "[1] Standard Errors assume that the covariance matrix of the errors is correctly specified.\n",
       "\"\"\""
      ]
     },
     "execution_count": 6,
     "metadata": {},
     "output_type": "execute_result"
    }
   ],
   "source": [
    "# Regressão reg2 ('tip_pct ~ net_bill').\n",
    "reg2 = smf.ols('tip_pct ~ net_bill',\n",
    "              data= tips).fit()\n",
    "\n",
    "# Sumário reg2.\n",
    "reg2.summary()"
   ]
  },
  {
   "cell_type": "code",
   "execution_count": 7,
   "metadata": {},
   "outputs": [
    {
     "data": {
      "text/plain": [
       "(0.0, 1.0)"
      ]
     },
     "execution_count": 7,
     "metadata": {},
     "output_type": "execute_result"
    },
    {
     "data": {
      "image/png": "[encoded data removed]",
      "text/plain": [
       "<Figure size 640x480 with 1 Axes>"
      ]
     },
     "metadata": {},
     "output_type": "display_data"
    }
   ],
   "source": [
    "# Gráfico de dispersão 'tip_pct x net_bill'.\n",
    "sns.regplot(y= 'tip_pct', x= 'net_bill', data= tips[tips['tip_pct']<.5])\n",
    "\n",
    "# Gerando dados para a linha dos 10%.\n",
    "x = np.linspace(tips['net_bill'].min(),\n",
    "                tips['net_bill'].max(),\n",
    "                num=100)\n",
    "y = .1*x\n",
    "\n",
    "# Plotando a linha dos 10%.\n",
    "plt.plot(x, y, '-r', label='linha dos 10%')\n",
    "\n",
    "# Opções estéticas para explicitar o (0,0) no gráfico.\n",
    "plt.xlim(left = 0)\n",
    "plt.ylim(bottom = 0, top = 1)"
   ]
  },
  {
   "cell_type": "markdown",
   "metadata": {},
   "source": [
    "### 3. Comente\n",
    "\n",
    "Compare os dois gráficos e comente (de forma objetiva e suscinta) a relação entre eles e a diferença do ajuste. Podemos comparar diretamente os $R^2$s?"
   ]
  },
  {
   "cell_type": "markdown",
   "metadata": {},
   "source": [
    "### Resposta:\n",
    "\n",
    "Como podemos ver nos **gráficos acima** e no **código abaixo**. Ocorre uma grande discrepância entre os dois modelos criados.\n",
    "* No Modelo **'tip ~ net_bill'** é melhor para análise, mostrando uma relação entre a linha dos 10% (Beta) e um R-quadrado maior **(0.33)**.\n",
    "<br><br>\n",
    "* Já no Modelo **'tip_pct ~ net_bill'** ocorre uma inconsistência entre a linha dos 10% (Beta), devido ao Beta valer **quase 0** neste Modelo **(-0.006)** e um R-quadrado menor **(0.09)**.\n",
    "<br><br>\n",
    "* Para finalizar, entende-se que não é adequado analisarmos o Modelo em relação a **Porcentagem**, verificamos que a correlação entre **'tip_pct'** e **'net_bill'** não são boas."
   ]
  },
  {
   "cell_type": "code",
   "execution_count": 8,
   "metadata": {},
   "outputs": [
    {
     "name": "stdout",
     "output_type": "stream",
     "text": [
      "Alpha, Beta e R-quadrado do Modelo de Regressão 'tip ~ net_bill':\n",
      "Intercept    1.330698\n",
      "net_bill     0.099334\n",
      "dtype: float64\n",
      "R-quadrado   0.332541\n",
      "\n",
      "Alpha, Beta e R-quadrado do Modelo de Regressão 'tip_pct ~ net_bill':\n",
      "Intercept    0.305297\n",
      "net_bill    -0.006146\n",
      "dtype: float64\n",
      "R-quadrado   0.091291\n"
     ]
    }
   ],
   "source": [
    "# Template para Printar Alpha, Beta e R-quadrado.\n",
    "\n",
    "template = \"Alpha, Beta e R-quadrado do Modelo de Regressão '{0}':\\n{1}\\nR-quadrado   {2:.6f}\"\n",
    "\n",
    "# Print do Template.\n",
    "print(template.format('tip ~ net_bill',reg1.params,reg1.rsquared))\n",
    "print()\n",
    "print(template.format('tip_pct ~ net_bill',reg2.params,reg2.rsquared))"
   ]
  },
  {
   "cell_type": "markdown",
   "metadata": {},
   "source": [
    "### 4. Ajuste do modelo em outra escala\n",
    "\n",
    "Com o modelo no item 3, obtenha a preditiva do valor da gorjeta:\n",
    "  1. obtenha o valor predito ```pred``` para ```tip_pct``` (dica, veja o atributo ```reg.fittedvalues```)\n",
    "  2. obtenha o valor predito para ```tip``` como ```tip_pct * net_bill```\n",
    "  3. calcule o $R^2$ do modelo para ```tip```\n",
    "  4. compare esse $R^2$ com o do item 1"
   ]
  },
  {
   "cell_type": "code",
   "execution_count": 9,
   "metadata": {},
   "outputs": [
    {
     "data": {
      "text/html": [
       "<div>\n",
       "<style scoped>\n",
       "    .dataframe tbody tr th:only-of-type {\n",
       "        vertical-align: middle;\n",
       "    }\n",
       "\n",
       "    .dataframe tbody tr th {\n",
       "        vertical-align: top;\n",
       "    }\n",
       "\n",
       "    .dataframe thead th {\n",
       "        text-align: right;\n",
       "    }\n",
       "</style>\n",
       "<table border=\"1\" class=\"dataframe\">\n",
       "  <thead>\n",
       "    <tr style=\"text-align: right;\">\n",
       "      <th></th>\n",
       "      <th>tip</th>\n",
       "      <th>net_bill</th>\n",
       "      <th>tip_pct</th>\n",
       "      <th>pred_tip_pct</th>\n",
       "      <th>pred_tip</th>\n",
       "    </tr>\n",
       "  </thead>\n",
       "  <tbody>\n",
       "    <tr>\n",
       "      <th>0</th>\n",
       "      <td>1.01</td>\n",
       "      <td>15.98</td>\n",
       "      <td>0.063204</td>\n",
       "      <td>0.207087</td>\n",
       "      <td>3.309254</td>\n",
       "    </tr>\n",
       "    <tr>\n",
       "      <th>1</th>\n",
       "      <td>1.66</td>\n",
       "      <td>8.68</td>\n",
       "      <td>0.191244</td>\n",
       "      <td>0.251951</td>\n",
       "      <td>2.186938</td>\n",
       "    </tr>\n",
       "    <tr>\n",
       "      <th>2</th>\n",
       "      <td>3.50</td>\n",
       "      <td>17.51</td>\n",
       "      <td>0.199886</td>\n",
       "      <td>0.197684</td>\n",
       "      <td>3.461450</td>\n",
       "    </tr>\n",
       "    <tr>\n",
       "      <th>3</th>\n",
       "      <td>3.31</td>\n",
       "      <td>20.37</td>\n",
       "      <td>0.162494</td>\n",
       "      <td>0.180107</td>\n",
       "      <td>3.668785</td>\n",
       "    </tr>\n",
       "    <tr>\n",
       "      <th>4</th>\n",
       "      <td>3.61</td>\n",
       "      <td>20.98</td>\n",
       "      <td>0.172069</td>\n",
       "      <td>0.176358</td>\n",
       "      <td>3.699998</td>\n",
       "    </tr>\n",
       "  </tbody>\n",
       "</table>\n",
       "</div>"
      ],
      "text/plain": [
       "    tip  net_bill   tip_pct  pred_tip_pct  pred_tip\n",
       "0  1.01     15.98  0.063204      0.207087  3.309254\n",
       "1  1.66      8.68  0.191244      0.251951  2.186938\n",
       "2  3.50     17.51  0.199886      0.197684  3.461450\n",
       "3  3.31     20.37  0.162494      0.180107  3.668785\n",
       "4  3.61     20.98  0.172069      0.176358  3.699998"
      ]
     },
     "execution_count": 9,
     "metadata": {},
     "output_type": "execute_result"
    }
   ],
   "source": [
    "# valor predito pred para tip_pct ('.fittedvalues').\n",
    "tips['pred_tip_pct'] = reg2.fittedvalues\n",
    "\n",
    "# valor predito para tip como tip_pct * net_bill\n",
    "tips['pred_tip'] = tips['pred_tip_pct'] * tips['net_bill']\n",
    "\n",
    "# Amostragem de Dados.\n",
    "tips.head()"
   ]
  },
  {
   "cell_type": "code",
   "execution_count": 10,
   "metadata": {},
   "outputs": [
    {
     "data": {
      "text/html": [
       "<table class=\"simpletable\">\n",
       "<caption>OLS Regression Results</caption>\n",
       "<tr>\n",
       "  <th>Dep. Variable:</th>        <td>pred_tip</td>     <th>  R-squared:         </th> <td>   0.292</td>\n",
       "</tr>\n",
       "<tr>\n",
       "  <th>Model:</th>                   <td>OLS</td>       <th>  Adj. R-squared:    </th> <td>   0.289</td>\n",
       "</tr>\n",
       "<tr>\n",
       "  <th>Method:</th>             <td>Least Squares</td>  <th>  F-statistic:       </th> <td>   99.74</td>\n",
       "</tr>\n",
       "<tr>\n",
       "  <th>Date:</th>             <td>Mon, 03 Jul 2023</td> <th>  Prob (F-statistic):</th> <td>6.88e-20</td>\n",
       "</tr>\n",
       "<tr>\n",
       "  <th>Time:</th>                 <td>23:37:00</td>     <th>  Log-Likelihood:    </th> <td> -192.63</td>\n",
       "</tr>\n",
       "<tr>\n",
       "  <th>No. Observations:</th>      <td>   244</td>      <th>  AIC:               </th> <td>   389.3</td>\n",
       "</tr>\n",
       "<tr>\n",
       "  <th>Df Residuals:</th>          <td>   242</td>      <th>  BIC:               </th> <td>   396.2</td>\n",
       "</tr>\n",
       "<tr>\n",
       "  <th>Df Model:</th>              <td>     1</td>      <th>                     </th>     <td> </td>   \n",
       "</tr>\n",
       "<tr>\n",
       "  <th>Covariance Type:</th>      <td>nonrobust</td>    <th>                     </th>     <td> </td>   \n",
       "</tr>\n",
       "</table>\n",
       "<table class=\"simpletable\">\n",
       "<tr>\n",
       "      <td></td>         <th>coef</th>     <th>std err</th>      <th>t</th>      <th>P>|t|</th>  <th>[0.025</th>    <th>0.975]</th>  \n",
       "</tr>\n",
       "<tr>\n",
       "  <th>Intercept</th> <td>    2.2819</td> <td>    0.079</td> <td>   28.704</td> <td> 0.000</td> <td>    2.125</td> <td>    2.438</td>\n",
       "</tr>\n",
       "<tr>\n",
       "  <th>net_bill</th>  <td>    0.0427</td> <td>    0.004</td> <td>    9.987</td> <td> 0.000</td> <td>    0.034</td> <td>    0.051</td>\n",
       "</tr>\n",
       "</table>\n",
       "<table class=\"simpletable\">\n",
       "<tr>\n",
       "  <th>Omnibus:</th>       <td>97.034</td> <th>  Durbin-Watson:     </th> <td>   2.122</td>\n",
       "</tr>\n",
       "<tr>\n",
       "  <th>Prob(Omnibus):</th> <td> 0.000</td> <th>  Jarque-Bera (JB):  </th> <td> 282.025</td>\n",
       "</tr>\n",
       "<tr>\n",
       "  <th>Skew:</th>          <td>-1.782</td> <th>  Prob(JB):          </th> <td>5.74e-62</td>\n",
       "</tr>\n",
       "<tr>\n",
       "  <th>Kurtosis:</th>      <td> 6.878</td> <th>  Cond. No.          </th> <td>    43.3</td>\n",
       "</tr>\n",
       "</table><br/><br/>Notes:<br/>[1] Standard Errors assume that the covariance matrix of the errors is correctly specified."
      ],
      "text/latex": [
       "\\begin{center}\n",
       "\\begin{tabular}{lclc}\n",
       "\\toprule\n",
       "\\textbf{Dep. Variable:}    &    pred\\_tip     & \\textbf{  R-squared:         } &     0.292   \\\\\n",
       "\\textbf{Model:}            &       OLS        & \\textbf{  Adj. R-squared:    } &     0.289   \\\\\n",
       "\\textbf{Method:}           &  Least Squares   & \\textbf{  F-statistic:       } &     99.74   \\\\\n",
       "\\textbf{Date:}             & Mon, 03 Jul 2023 & \\textbf{  Prob (F-statistic):} &  6.88e-20   \\\\\n",
       "\\textbf{Time:}             &     23:37:00     & \\textbf{  Log-Likelihood:    } &   -192.63   \\\\\n",
       "\\textbf{No. Observations:} &         244      & \\textbf{  AIC:               } &     389.3   \\\\\n",
       "\\textbf{Df Residuals:}     &         242      & \\textbf{  BIC:               } &     396.2   \\\\\n",
       "\\textbf{Df Model:}         &           1      & \\textbf{                     } &             \\\\\n",
       "\\textbf{Covariance Type:}  &    nonrobust     & \\textbf{                     } &             \\\\\n",
       "\\bottomrule\n",
       "\\end{tabular}\n",
       "\\begin{tabular}{lcccccc}\n",
       "                   & \\textbf{coef} & \\textbf{std err} & \\textbf{t} & \\textbf{P$> |$t$|$} & \\textbf{[0.025} & \\textbf{0.975]}  \\\\\n",
       "\\midrule\n",
       "\\textbf{Intercept} &       2.2819  &        0.079     &    28.704  &         0.000        &        2.125    &        2.438     \\\\\n",
       "\\textbf{net\\_bill} &       0.0427  &        0.004     &     9.987  &         0.000        &        0.034    &        0.051     \\\\\n",
       "\\bottomrule\n",
       "\\end{tabular}\n",
       "\\begin{tabular}{lclc}\n",
       "\\textbf{Omnibus:}       & 97.034 & \\textbf{  Durbin-Watson:     } &    2.122  \\\\\n",
       "\\textbf{Prob(Omnibus):} &  0.000 & \\textbf{  Jarque-Bera (JB):  } &  282.025  \\\\\n",
       "\\textbf{Skew:}          & -1.782 & \\textbf{  Prob(JB):          } & 5.74e-62  \\\\\n",
       "\\textbf{Kurtosis:}      &  6.878 & \\textbf{  Cond. No.          } &     43.3  \\\\\n",
       "\\bottomrule\n",
       "\\end{tabular}\n",
       "%\\caption{OLS Regression Results}\n",
       "\\end{center}\n",
       "\n",
       "Notes: \\newline\n",
       " [1] Standard Errors assume that the covariance matrix of the errors is correctly specified."
      ],
      "text/plain": [
       "<class 'statsmodels.iolib.summary.Summary'>\n",
       "\"\"\"\n",
       "                            OLS Regression Results                            \n",
       "==============================================================================\n",
       "Dep. Variable:               pred_tip   R-squared:                       0.292\n",
       "Model:                            OLS   Adj. R-squared:                  0.289\n",
       "Method:                 Least Squares   F-statistic:                     99.74\n",
       "Date:                Mon, 03 Jul 2023   Prob (F-statistic):           6.88e-20\n",
       "Time:                        23:37:00   Log-Likelihood:                -192.63\n",
       "No. Observations:                 244   AIC:                             389.3\n",
       "Df Residuals:                     242   BIC:                             396.2\n",
       "Df Model:                           1                                         \n",
       "Covariance Type:            nonrobust                                         \n",
       "==============================================================================\n",
       "                 coef    std err          t      P>|t|      [0.025      0.975]\n",
       "------------------------------------------------------------------------------\n",
       "Intercept      2.2819      0.079     28.704      0.000       2.125       2.438\n",
       "net_bill       0.0427      0.004      9.987      0.000       0.034       0.051\n",
       "==============================================================================\n",
       "Omnibus:                       97.034   Durbin-Watson:                   2.122\n",
       "Prob(Omnibus):                  0.000   Jarque-Bera (JB):              282.025\n",
       "Skew:                          -1.782   Prob(JB):                     5.74e-62\n",
       "Kurtosis:                       6.878   Cond. No.                         43.3\n",
       "==============================================================================\n",
       "\n",
       "Notes:\n",
       "[1] Standard Errors assume that the covariance matrix of the errors is correctly specified.\n",
       "\"\"\""
      ]
     },
     "execution_count": 10,
     "metadata": {},
     "output_type": "execute_result"
    }
   ],
   "source": [
    "# Regressão reg3 ('pred_tip ~ net_bill').\n",
    "reg3 = smf.ols('pred_tip ~ net_bill', data= tips).fit()\n",
    "\n",
    "# Sumário reg3.\n",
    "reg3.summary()"
   ]
  },
  {
   "cell_type": "code",
   "execution_count": 11,
   "metadata": {
    "scrolled": false
   },
   "outputs": [
    {
     "data": {
      "text/plain": [
       "(0.0, 4.84854218405547)"
      ]
     },
     "execution_count": 11,
     "metadata": {},
     "output_type": "execute_result"
    },
    {
     "data": {
      "image/png": "[encoded data removed]",
      "text/plain": [
       "<Figure size 640x480 with 1 Axes>"
      ]
     },
     "metadata": {},
     "output_type": "display_data"
    }
   ],
   "source": [
    "# Gráfico de dispersão 'pred_tip x net_bill'.\n",
    "sns.regplot(y= 'pred_tip',\n",
    "            x= 'net_bill',\n",
    "            data= tips[tips['tip_pct']<.5])\n",
    "\n",
    "# Gerando dados para a linha dos 10%.\n",
    "x = np.linspace(tips['net_bill'].min(),\n",
    "                tips['net_bill'].max(),\n",
    "                num=100)\n",
    "y = .1*x\n",
    "\n",
    "# Plotando a linha dos 10%.\n",
    "plt.plot(x, y, '-r', label='linha dos 10%')\n",
    "\n",
    "# Opções estéticas para explicitar o (0,0) no gráfico.\n",
    "plt.xlim(left = 0)\n",
    "plt.ylim(bottom = 0)"
   ]
  },
  {
   "cell_type": "code",
   "execution_count": 12,
   "metadata": {},
   "outputs": [
    {
     "name": "stdout",
     "output_type": "stream",
     "text": [
      "Alpha, Beta e R-quadrado do Modelo de Regressão 'tip ~ net_bill':\n",
      "Intercept    1.330698\n",
      "net_bill     0.099334\n",
      "dtype: float64\n",
      "R-quadrado   0.332541\n",
      "\n",
      "Alpha, Beta e R-quadrado do Modelo de Regressão 'pred_tip ~ net_bill':\n",
      "Intercept    2.281852\n",
      "net_bill     0.042676\n",
      "dtype: float64\n",
      "R-quadrado   0.291852\n"
     ]
    }
   ],
   "source": [
    "# Resposta: Vemos que o R² do pred_tip é um pouco menor do que do item 1, ou seja, o R² do item 1 é melhor.\n",
    "# O Alpha(2.28) aumentou em relação ao item 1 e o Beta do pred_tip (0.04) não segue a linha dos 10%.\n",
    "\n",
    "print(template.format('tip ~ net_bill',reg1.params,reg1.rsquared))\n",
    "print()\n",
    "print(template.format('pred_tip ~ net_bill',reg3.params,reg3.rsquared))"
   ]
  }
 ],
 "metadata": {
  "kernelspec": {
   "display_name": "Python 3 (ipykernel)",
   "language": "python",
   "name": "python3"
  },
  "language_info": {
   "codemirror_mode": {
    "name": "ipython",
    "version": 3
   },
   "file_extension": ".py",
   "mimetype": "text/x-python",
   "name": "python",
   "nbconvert_exporter": "python",
   "pygments_lexer": "ipython3",
   "version": "3.10.11"
  }
 },
 "nbformat": 4,
 "nbformat_minor": 4
}
