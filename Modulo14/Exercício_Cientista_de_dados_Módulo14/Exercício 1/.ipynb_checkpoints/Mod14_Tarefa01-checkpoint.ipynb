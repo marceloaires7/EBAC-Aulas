{
 "cells": [
  {
   "cell_type": "code",
   "execution_count": 3,
   "metadata": {},
   "outputs": [],
   "source": [
    "df = pd.read_csv('./input/SINASC_RO_2019.csv')\n",
    "\n",
    "df[df['DTNASC'] < '2019-02-01'].to_csv('./input/SINASC_RO_2019_JAN.csv')\n",
    "df[df['DTNASC'] < '2019-03-01'].to_csv('./input/SINASC_RO_2019_FEV.csv')\n",
    "df[df['DTNASC'] < '2019-04-01'].to_csv('./input/SINASC_RO_2019_MAR.csv')\n",
    "df[df['DTNASC'] < '2019-05-01'].to_csv('./input/SINASC_RO_2019_ABR.csv')\n",
    "df[df['DTNASC'] < '2019-06-01'].to_csv('./input/SINASC_RO_2019_MAI.csv')\n",
    "df[df['DTNASC'] < '2019-07-01'].to_csv('./input/SINASC_RO_2019_JUN.csv')\n",
    "df[df['DTNASC'] < '2019-08-01'].to_csv('./input/SINASC_RO_2019_JUL.csv')\n",
    "df[df['DTNASC'] < '2019-09-01'].to_csv('./input/SINASC_RO_2019_AGO.csv')\n",
    "df[df['DTNASC'] < '2019-10-01'].to_csv('./input/SINASC_RO_2019_SET.csv')\n",
    "df[df['DTNASC'] < '2019-11-01'].to_csv('./input/SINASC_RO_2019_OUT.csv')\n",
    "df[df['DTNASC'] < '2019-12-01'].to_csv('./input/SINASC_RO_2019_NOV.csv')\n",
    "df[df['DTNASC'] < '2020-01-01'].to_csv('./input/SINASC_RO_2019_DEZ.csv')"
   ]
  },
  {
   "cell_type": "code",
   "execution_count": 4,
   "metadata": {},
   "outputs": [],
   "source": [
    "JAN = pd.read_csv('./input/SINASC_RO_2019_JAN.csv')\n",
    "FEV = pd.read_csv('./input/SINASC_RO_2019_FEV.csv')\n",
    "MAR = pd.read_csv('./input/SINASC_RO_2019_MAR.csv')\n",
    "ABR = pd.read_csv('./input/SINASC_RO_2019_ABR.csv')\n",
    "MAI = pd.read_csv('./input/SINASC_RO_2019_MAI.csv')\n",
    "JUN = pd.read_csv('./input/SINASC_RO_2019_JUN.csv')\n",
    "JUL = pd.read_csv('./input/SINASC_RO_2019_JUL.csv')\n",
    "AGO = pd.read_csv('./input/SINASC_RO_2019_AGO.csv')\n",
    "SET = pd.read_csv('./input/SINASC_RO_2019_SET.csv')\n",
    "OUT = pd.read_csv('./input/SINASC_RO_2019_OUT.csv')\n",
    "NOV = pd.read_csv('./input/SINASC_RO_2019_NOV.csv')\n",
    "DEZ = pd.read_csv('./input/SINASC_RO_2019_DEZ.csv')\n",
    "\n",
    "meses = [JAN, FEV, MAR, ABR, MAI, JUN, JUL, AGO, SET, OUT, NOV, DEZ]"
   ]
  },
  {
   "cell_type": "markdown",
   "metadata": {},
   "source": [
    "# Módulo 14 – Tarefa 1\n",
    "- ### Crie um jupyter notebook com os imports necessários e um código para gerar os gráficos referentes a base de dados de março, abril, maio, junho e dezembro (numa célula só ou em várias)."
   ]
  },
  {
   "cell_type": "code",
   "execution_count": 6,
   "metadata": {
    "ExecuteTime": {
     "end_time": "2021-06-06T21:12:37.298706Z",
     "start_time": "2021-06-06T21:12:36.656481Z"
    },
    "scrolled": false
   },
   "outputs": [
    {
     "name": "stdout",
     "output_type": "stream",
     "text": [
      "2019-01-01 2019-01-31\n",
      "2019-01\n",
      "2019-01-01 2019-02-28\n",
      "2019-02\n",
      "2019-01-01 2019-03-31\n",
      "2019-03\n",
      "2019-01-01 2019-04-30\n",
      "2019-04\n",
      "2019-01-01 2019-05-31\n",
      "2019-05\n",
      "2019-01-01 2019-06-30\n",
      "2019-06\n",
      "2019-01-01 2019-07-31\n",
      "2019-07\n",
      "2019-01-01 2019-08-31\n",
      "2019-08\n",
      "2019-01-01 2019-09-30\n",
      "2019-09\n",
      "2019-01-01 2019-10-31\n",
      "2019-10\n",
      "2019-01-01 2019-11-30\n",
      "2019-11\n",
      "2019-01-01 2019-12-31\n",
      "2019-12\n"
     ]
    }
   ],
   "source": [
    "import numpy as np\n",
    "import pandas as pd\n",
    "import seaborn as sns\n",
    "import matplotlib.pyplot as plt\n",
    "import os\n",
    "\n",
    "%matplotlib agg\n",
    "\n",
    "def plota_pivot_table(df, value, index, func, ylabel, xlabel, opcao='nada'):\n",
    "    if opcao == 'nada':\n",
    "        pd.pivot_table(df, values=value, index=index,\n",
    "                       aggfunc=func).plot(figsize=[15, 5])\n",
    "    elif opcao == 'sort':\n",
    "        pd.pivot_table(df, values=value, index=index,\n",
    "                       aggfunc=func).sort_values(value).plot(figsize=[15, 5])\n",
    "    elif opcao == 'unstack':\n",
    "        pd.pivot_table(df, values=value, index=index,\n",
    "                       aggfunc=func).unstack().plot(figsize=[15, 5])\n",
    "    plt.ylabel(ylabel)\n",
    "    plt.xlabel(xlabel)\n",
    "    return None\n",
    "\n",
    "for mes in meses:\n",
    "\n",
    "    sinasc = mes\n",
    "    print(sinasc.DTNASC.min(), sinasc.DTNASC.max())\n",
    "\n",
    "    max_data = sinasc.DTNASC.max()[:7]\n",
    "    print(max_data)\n",
    "    os.makedirs('./output/figs/'+max_data, exist_ok=True)\n",
    "\n",
    "\n",
    "    plota_pivot_table(sinasc, 'IDADEMAE', 'DTNASC', 'count', 'quantidade de nascimento','data de nascimento')\n",
    "    plt.savefig('./output/figs/'+max_data+'/quantidade de nascimento.png')\n",
    "\n",
    "    plota_pivot_table(sinasc, 'IDADEMAE', ['DTNASC', 'SEXO'], 'mean', 'media idade mae','data de nascimento','unstack')\n",
    "    plt.savefig('./output/figs/'+max_data+'/media idade mae por sexo.png')\n",
    "\n",
    "    plota_pivot_table(sinasc, 'PESO', ['DTNASC', 'SEXO'], 'mean', 'media peso bebe','data de nascimento','unstack')\n",
    "    plt.savefig('./output/figs/'+max_data+'/media peso bebe por sexo.png')\n",
    "\n",
    "    plota_pivot_table(sinasc, 'PESO', 'ESCMAE', 'median', 'apgar1 medio','gestacao','sort')\n",
    "    plt.savefig('./output/figs/'+max_data+'/media apgar1 por escolaridade mae.png')\n",
    "\n",
    "    plota_pivot_table(sinasc, 'APGAR1', 'GESTACAO', 'mean', 'apgar1 medio','gestacao','sort')\n",
    "    plt.savefig('./output/figs/'+max_data+'/media apgar1 por gestacao.png')\n",
    "\n",
    "    plota_pivot_table(sinasc, 'APGAR5', 'GESTACAO', 'mean', 'apgar5 medio','gestacao','sort')\n",
    "    plt.savefig('./output/figs/'+max_data+'/media apgar5 por gestacao.png')\n",
    "    \n",
    "    plt.close()"
   ]
  },
  {
   "cell_type": "markdown",
   "metadata": {},
   "source": [
    "- ### Como que você poderia fazer para deixar isso mais automatizado? Descreva na última célula do jupyter notebook o que ajudaria na hora de gerar novos gráficos pros meses/anos seguintes.<br>\n",
    "**Resposta:** Como vimos na primeira célula deste notebook, eu peguei o DataFrame padrão **'SINASC_RO_2019.csv'** e separei pelos meses a serem analisados, em seguida armazenei em uma lista (**'meses'**). Depois na fórmula abaixo fiz um **'for mes in meses:'**. Com isso gerei o relatório do ano inteiro."
   ]
  }
 ],
 "metadata": {
  "kernelspec": {
   "display_name": "Python 3 (ipykernel)",
   "language": "python",
   "name": "python3"
  },
  "language_info": {
   "codemirror_mode": {
    "name": "ipython",
    "version": 3
   },
   "file_extension": ".py",
   "mimetype": "text/x-python",
   "name": "python",
   "nbconvert_exporter": "python",
   "pygments_lexer": "ipython3",
   "version": "3.10.11"
  },
  "varInspector": {
   "cols": {
    "lenName": 16,
    "lenType": 16,
    "lenVar": 40
   },
   "kernels_config": {
    "python": {
     "delete_cmd_postfix": "",
     "delete_cmd_prefix": "del ",
     "library": "var_list.py",
     "varRefreshCmd": "print(var_dic_list())"
    },
    "r": {
     "delete_cmd_postfix": ") ",
     "delete_cmd_prefix": "rm(",
     "library": "var_list.r",
     "varRefreshCmd": "cat(var_dic_list()) "
    }
   },
   "types_to_exclude": [
    "module",
    "function",
    "builtin_function_or_method",
    "instance",
    "_Feature"
   ],
   "window_display": false
  }
 },
 "nbformat": 4,
 "nbformat_minor": 4
}
