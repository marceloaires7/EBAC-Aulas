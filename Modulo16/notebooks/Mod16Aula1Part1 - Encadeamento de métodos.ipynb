{
 "cells": [
  {
   "cell_type": "markdown",
   "metadata": {},
   "source": [
    "- __*Method chaining* (encadeamento de métodos)__\n",
    "\t- __`.assign()`__\n",
    "\t- __`.pipe()`__\n",
    "- `for` vs *List comprehension*\n",
    "- Usando `.apply()`\n",
    "- `.apply(axis = 0)` \n",
    "- Barra de progresso usando `tqdm`\n",
    "- Pandas Profiling para exploração dos dados e para garantir a qualidade dos dados\n",
    "- Mostrar o dataframe usando o `style`\n",
    "- Copiar e colar no Excel `.to_clipboard()`\n",
    "- Funções de janela móvel (*window functions*)\n",
    "- Fechamento 2o projeto"
   ]
  },
  {
   "cell_type": "code",
   "execution_count": 5,
   "metadata": {},
   "outputs": [],
   "source": [
    "import pandas as pd\n",
    "import os"
   ]
  },
  {
   "cell_type": "markdown",
   "metadata": {},
   "source": [
    "# Tabela NBA janeiro 2021\n"
   ]
  },
  {
   "cell_type": "code",
   "execution_count": 6,
   "metadata": {},
   "outputs": [
    {
     "data": {
      "text/html": [
       "<div>\n",
       "<style scoped>\n",
       "    .dataframe tbody tr th:only-of-type {\n",
       "        vertical-align: middle;\n",
       "    }\n",
       "\n",
       "    .dataframe tbody tr th {\n",
       "        vertical-align: top;\n",
       "    }\n",
       "\n",
       "    .dataframe thead th {\n",
       "        text-align: right;\n",
       "    }\n",
       "</style>\n",
       "<table border=\"1\" class=\"dataframe\">\n",
       "  <thead>\n",
       "    <tr style=\"text-align: right;\">\n",
       "      <th></th>\n",
       "      <th>Date</th>\n",
       "      <th>Start (ET)</th>\n",
       "      <th>Visitor/Neutral</th>\n",
       "      <th>PTS</th>\n",
       "      <th>Home/Neutral</th>\n",
       "      <th>PTS.1</th>\n",
       "      <th>Unnamed: 6</th>\n",
       "      <th>Unnamed: 7</th>\n",
       "      <th>Attend.</th>\n",
       "      <th>Arena</th>\n",
       "      <th>Notes</th>\n",
       "    </tr>\n",
       "  </thead>\n",
       "  <tbody>\n",
       "    <tr>\n",
       "      <th>0</th>\n",
       "      <td>Fri, Jan 1, 2021</td>\n",
       "      <td>7:00p</td>\n",
       "      <td>Memphis Grizzlies</td>\n",
       "      <td>108</td>\n",
       "      <td>Charlotte Hornets</td>\n",
       "      <td>93</td>\n",
       "      <td>Box Score</td>\n",
       "      <td>NaN</td>\n",
       "      <td>0</td>\n",
       "      <td>Spectrum Center</td>\n",
       "      <td>NaN</td>\n",
       "    </tr>\n",
       "    <tr>\n",
       "      <th>1</th>\n",
       "      <td>Fri, Jan 1, 2021</td>\n",
       "      <td>7:00p</td>\n",
       "      <td>Miami Heat</td>\n",
       "      <td>83</td>\n",
       "      <td>Dallas Mavericks</td>\n",
       "      <td>93</td>\n",
       "      <td>Box Score</td>\n",
       "      <td>NaN</td>\n",
       "      <td>0</td>\n",
       "      <td>American Airlines Center</td>\n",
       "      <td>NaN</td>\n",
       "    </tr>\n",
       "    <tr>\n",
       "      <th>2</th>\n",
       "      <td>Fri, Jan 1, 2021</td>\n",
       "      <td>7:00p</td>\n",
       "      <td>Boston Celtics</td>\n",
       "      <td>93</td>\n",
       "      <td>Detroit Pistons</td>\n",
       "      <td>96</td>\n",
       "      <td>Box Score</td>\n",
       "      <td>NaN</td>\n",
       "      <td>0</td>\n",
       "      <td>Little Caesars Arena</td>\n",
       "      <td>NaN</td>\n",
       "    </tr>\n",
       "    <tr>\n",
       "      <th>3</th>\n",
       "      <td>Fri, Jan 1, 2021</td>\n",
       "      <td>7:30p</td>\n",
       "      <td>Atlanta Hawks</td>\n",
       "      <td>114</td>\n",
       "      <td>Brooklyn Nets</td>\n",
       "      <td>96</td>\n",
       "      <td>Box Score</td>\n",
       "      <td>NaN</td>\n",
       "      <td>0</td>\n",
       "      <td>Barclays Center</td>\n",
       "      <td>NaN</td>\n",
       "    </tr>\n",
       "    <tr>\n",
       "      <th>4</th>\n",
       "      <td>Fri, Jan 1, 2021</td>\n",
       "      <td>8:00p</td>\n",
       "      <td>Chicago Bulls</td>\n",
       "      <td>96</td>\n",
       "      <td>Milwaukee Bucks</td>\n",
       "      <td>126</td>\n",
       "      <td>Box Score</td>\n",
       "      <td>NaN</td>\n",
       "      <td>0</td>\n",
       "      <td>Fiserv Forum</td>\n",
       "      <td>NaN</td>\n",
       "    </tr>\n",
       "  </tbody>\n",
       "</table>\n",
       "</div>"
      ],
      "text/plain": [
       "               Date Start (ET)    Visitor/Neutral  PTS       Home/Neutral  \\\n",
       "0  Fri, Jan 1, 2021      7:00p  Memphis Grizzlies  108  Charlotte Hornets   \n",
       "1  Fri, Jan 1, 2021      7:00p         Miami Heat   83   Dallas Mavericks   \n",
       "2  Fri, Jan 1, 2021      7:00p     Boston Celtics   93    Detroit Pistons   \n",
       "3  Fri, Jan 1, 2021      7:30p      Atlanta Hawks  114      Brooklyn Nets   \n",
       "4  Fri, Jan 1, 2021      8:00p      Chicago Bulls   96    Milwaukee Bucks   \n",
       "\n",
       "   PTS.1 Unnamed: 6 Unnamed: 7  Attend.                     Arena  Notes  \n",
       "0     93  Box Score        NaN        0           Spectrum Center    NaN  \n",
       "1     93  Box Score        NaN        0  American Airlines Center    NaN  \n",
       "2     96  Box Score        NaN        0      Little Caesars Arena    NaN  \n",
       "3     96  Box Score        NaN        0           Barclays Center    NaN  \n",
       "4    126  Box Score        NaN        0              Fiserv Forum    NaN  "
      ]
     },
     "execution_count": 6,
     "metadata": {},
     "output_type": "execute_result"
    }
   ],
   "source": [
    "path = 'input/nba_2021.csv'\n",
    "os.makedirs('./input', exist_ok=True)\n",
    "\n",
    "resultados = pd.read_html(\"https://www.basketball-reference.com/leagues/NBA_2021_games-january.html\")[0]\n",
    "resultados.to_csv(path)\n",
    "df = resultados.copy()\n",
    "resultados.head()"
   ]
  },
  {
   "cell_type": "code",
   "execution_count": 7,
   "metadata": {},
   "outputs": [],
   "source": [
    "colunas = {\n",
    "    'Date': 'data',\n",
    "    'Start (ET)': 'horario',\n",
    "    'Visitor/Neutral': 'time_visitante',\n",
    "    'PTS': 'pts_visit',\n",
    "    'Home/Neutral': 'time_casa',\n",
    "    'PTS.1': 'pts_casa',\n",
    "    'Unnamed: 6': 'a',\n",
    "    'Unnamed: 7': 'b',\n",
    "    'Attend.': 'publico',\n",
    "    'Notes': 'anot'\n",
    "}\n",
    "result_renomeado = resultados.rename(columns=colunas)"
   ]
  },
  {
   "cell_type": "code",
   "execution_count": 8,
   "metadata": {},
   "outputs": [],
   "source": [
    "result_renomeado['data'] = pd.to_datetime(result_renomeado.data)"
   ]
  },
  {
   "cell_type": "code",
   "execution_count": 9,
   "metadata": {},
   "outputs": [],
   "source": [
    "result_renomeado_data = result_renomeado.set_index('data')"
   ]
  },
  {
   "cell_type": "code",
   "execution_count": 10,
   "metadata": {},
   "outputs": [],
   "source": [
    "result_renomeado_data_cols = result_renomeado_data.drop(['horario','a','b','publico','anot'], axis=1)"
   ]
  },
  {
   "cell_type": "code",
   "execution_count": 11,
   "metadata": {},
   "outputs": [],
   "source": [
    "result_renomeado_data_cols['total'] = (result_renomeado_data_cols['pts_visit']\n",
    "                                       + result_renomeado_data_cols['pts_casa'])"
   ]
  },
  {
   "cell_type": "code",
   "execution_count": 12,
   "metadata": {},
   "outputs": [],
   "source": [
    "def det_vencedor(df):\n",
    "    if df['pts_visit'] < df['pts_casa']:\n",
    "        df['ganhador'] = 'casa'\n",
    "    else:\n",
    "        df['ganhador'] = 'visitante'\n",
    "    return df"
   ]
  },
  {
   "cell_type": "code",
   "execution_count": 13,
   "metadata": {
    "scrolled": true
   },
   "outputs": [],
   "source": [
    "result_renomeado_data_cols = result_renomeado_data_cols.apply(det_vencedor, axis=1)"
   ]
  },
  {
   "cell_type": "code",
   "execution_count": 14,
   "metadata": {
    "scrolled": true
   },
   "outputs": [
    {
     "data": {
      "text/plain": [
       "ganhador\n",
       "casa         0.531532\n",
       "visitante    0.468468\n",
       "Name: proportion, dtype: float64"
      ]
     },
     "execution_count": 14,
     "metadata": {},
     "output_type": "execute_result"
    }
   ],
   "source": [
    "result_renomeado_data_cols.ganhador.value_counts(normalize=True)"
   ]
  },
  {
   "cell_type": "code",
   "execution_count": null,
   "metadata": {},
   "outputs": [],
   "source": []
  }
 ],
 "metadata": {
  "kernelspec": {
   "display_name": "Python 3",
   "language": "python",
   "name": "python3"
  },
  "language_info": {
   "codemirror_mode": {
    "name": "ipython",
    "version": 3
   },
   "file_extension": ".py",
   "mimetype": "text/x-python",
   "name": "python",
   "nbconvert_exporter": "python",
   "pygments_lexer": "ipython3",
   "version": "3.10.11"
  },
  "varInspector": {
   "cols": {
    "lenName": 16,
    "lenType": 16,
    "lenVar": 40
   },
   "kernels_config": {
    "python": {
     "delete_cmd_postfix": "",
     "delete_cmd_prefix": "del ",
     "library": "var_list.py",
     "varRefreshCmd": "print(var_dic_list())"
    },
    "r": {
     "delete_cmd_postfix": ") ",
     "delete_cmd_prefix": "rm(",
     "library": "var_list.r",
     "varRefreshCmd": "cat(var_dic_list()) "
    }
   },
   "types_to_exclude": [
    "module",
    "function",
    "builtin_function_or_method",
    "instance",
    "_Feature"
   ],
   "window_display": false
  }
 },
 "nbformat": 4,
 "nbformat_minor": 4
}
