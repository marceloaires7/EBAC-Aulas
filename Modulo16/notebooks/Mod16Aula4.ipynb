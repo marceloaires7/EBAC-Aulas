{
 "cells": [
  {
   "cell_type": "markdown",
   "metadata": {},
   "source": [
    "- *Method chaining* (encadeamento de métodos)\n",
    "\t- `.assign()`\n",
    "\t- `.pipe()`\n",
    "- `for` vs *List comprehension*\n",
    "- Usando `.apply()`\n",
    "- __`.apply(axis = 0)`__ \n",
    "- Barra de progresso usando `tqdm`\n",
    "- Pandas Profiling para exploração dos dados e para garantir a qualidade dos dados\n",
    "- Mostrar o dataframe usando o `style`\n",
    "- Copiar e colar no Excel `.to_clipboard()`\n",
    "- Funções de janela móvel (*window functions*)\n",
    "- Fechamento 2o projeto"
   ]
  },
  {
   "cell_type": "code",
   "execution_count": 1,
   "metadata": {},
   "outputs": [],
   "source": [
    "import pandas as pd"
   ]
  },
  {
   "cell_type": "markdown",
   "metadata": {},
   "source": [
    "# `.apply(axis = 0)`"
   ]
  },
  {
   "cell_type": "code",
   "execution_count": 2,
   "metadata": {},
   "outputs": [],
   "source": [
    "resultados = pd.read_html(\"https://www.basketball-reference.com/leagues/NBA_2021_games-january.html\")[0]\n",
    "\n",
    "colunas = {\n",
    "    'Date': 'data',\n",
    "    'Start (ET)': 'horario',\n",
    "    'Visitor/Neutral': 'time_visitante',\n",
    "    'PTS': 'pts_visit',\n",
    "    'Home/Neutral': 'time_casa',\n",
    "    'PTS.1': 'pts_casa',\n",
    "    'Unnamed: 6': 'a',\n",
    "    'Unnamed: 7': 'b',\n",
    "    'Attend.': 'publico',\n",
    "    'Notes': 'anot'\n",
    "}\n",
    "resultados = resultados.rename(columns=colunas)\n",
    "\n",
    "resultados['data_1'] = resultados['data']\n",
    "resultados['data_2'] = resultados['data']\n",
    "resultados['data_3'] = resultados['data']\n",
    "resultados['data_4'] = resultados['data']\n",
    "resultados['data_5'] = resultados['data']\n",
    "resultados['data_6'] = resultados['data']\n",
    "\n",
    "df_datas = resultados[['data','data_1','data_2','data_3','data_4','data_5','data_6']]"
   ]
  },
  {
   "cell_type": "code",
   "execution_count": 3,
   "metadata": {},
   "outputs": [
    {
     "data": {
      "text/html": [
       "<div>\n",
       "<style scoped>\n",
       "    .dataframe tbody tr th:only-of-type {\n",
       "        vertical-align: middle;\n",
       "    }\n",
       "\n",
       "    .dataframe tbody tr th {\n",
       "        vertical-align: top;\n",
       "    }\n",
       "\n",
       "    .dataframe thead th {\n",
       "        text-align: right;\n",
       "    }\n",
       "</style>\n",
       "<table border=\"1\" class=\"dataframe\">\n",
       "  <thead>\n",
       "    <tr style=\"text-align: right;\">\n",
       "      <th></th>\n",
       "      <th>data</th>\n",
       "      <th>data_1</th>\n",
       "      <th>data_2</th>\n",
       "      <th>data_3</th>\n",
       "      <th>data_4</th>\n",
       "      <th>data_5</th>\n",
       "      <th>data_6</th>\n",
       "    </tr>\n",
       "  </thead>\n",
       "  <tbody>\n",
       "    <tr>\n",
       "      <th>0</th>\n",
       "      <td>Fri, Jan 1, 2021</td>\n",
       "      <td>Fri, Jan 1, 2021</td>\n",
       "      <td>Fri, Jan 1, 2021</td>\n",
       "      <td>Fri, Jan 1, 2021</td>\n",
       "      <td>Fri, Jan 1, 2021</td>\n",
       "      <td>Fri, Jan 1, 2021</td>\n",
       "      <td>Fri, Jan 1, 2021</td>\n",
       "    </tr>\n",
       "    <tr>\n",
       "      <th>1</th>\n",
       "      <td>Fri, Jan 1, 2021</td>\n",
       "      <td>Fri, Jan 1, 2021</td>\n",
       "      <td>Fri, Jan 1, 2021</td>\n",
       "      <td>Fri, Jan 1, 2021</td>\n",
       "      <td>Fri, Jan 1, 2021</td>\n",
       "      <td>Fri, Jan 1, 2021</td>\n",
       "      <td>Fri, Jan 1, 2021</td>\n",
       "    </tr>\n",
       "    <tr>\n",
       "      <th>2</th>\n",
       "      <td>Fri, Jan 1, 2021</td>\n",
       "      <td>Fri, Jan 1, 2021</td>\n",
       "      <td>Fri, Jan 1, 2021</td>\n",
       "      <td>Fri, Jan 1, 2021</td>\n",
       "      <td>Fri, Jan 1, 2021</td>\n",
       "      <td>Fri, Jan 1, 2021</td>\n",
       "      <td>Fri, Jan 1, 2021</td>\n",
       "    </tr>\n",
       "    <tr>\n",
       "      <th>3</th>\n",
       "      <td>Fri, Jan 1, 2021</td>\n",
       "      <td>Fri, Jan 1, 2021</td>\n",
       "      <td>Fri, Jan 1, 2021</td>\n",
       "      <td>Fri, Jan 1, 2021</td>\n",
       "      <td>Fri, Jan 1, 2021</td>\n",
       "      <td>Fri, Jan 1, 2021</td>\n",
       "      <td>Fri, Jan 1, 2021</td>\n",
       "    </tr>\n",
       "    <tr>\n",
       "      <th>4</th>\n",
       "      <td>Fri, Jan 1, 2021</td>\n",
       "      <td>Fri, Jan 1, 2021</td>\n",
       "      <td>Fri, Jan 1, 2021</td>\n",
       "      <td>Fri, Jan 1, 2021</td>\n",
       "      <td>Fri, Jan 1, 2021</td>\n",
       "      <td>Fri, Jan 1, 2021</td>\n",
       "      <td>Fri, Jan 1, 2021</td>\n",
       "    </tr>\n",
       "    <tr>\n",
       "      <th>...</th>\n",
       "      <td>...</td>\n",
       "      <td>...</td>\n",
       "      <td>...</td>\n",
       "      <td>...</td>\n",
       "      <td>...</td>\n",
       "      <td>...</td>\n",
       "      <td>...</td>\n",
       "    </tr>\n",
       "    <tr>\n",
       "      <th>217</th>\n",
       "      <td>Sun, Jan 31, 2021</td>\n",
       "      <td>Sun, Jan 31, 2021</td>\n",
       "      <td>Sun, Jan 31, 2021</td>\n",
       "      <td>Sun, Jan 31, 2021</td>\n",
       "      <td>Sun, Jan 31, 2021</td>\n",
       "      <td>Sun, Jan 31, 2021</td>\n",
       "      <td>Sun, Jan 31, 2021</td>\n",
       "    </tr>\n",
       "    <tr>\n",
       "      <th>218</th>\n",
       "      <td>Sun, Jan 31, 2021</td>\n",
       "      <td>Sun, Jan 31, 2021</td>\n",
       "      <td>Sun, Jan 31, 2021</td>\n",
       "      <td>Sun, Jan 31, 2021</td>\n",
       "      <td>Sun, Jan 31, 2021</td>\n",
       "      <td>Sun, Jan 31, 2021</td>\n",
       "      <td>Sun, Jan 31, 2021</td>\n",
       "    </tr>\n",
       "    <tr>\n",
       "      <th>219</th>\n",
       "      <td>Sun, Jan 31, 2021</td>\n",
       "      <td>Sun, Jan 31, 2021</td>\n",
       "      <td>Sun, Jan 31, 2021</td>\n",
       "      <td>Sun, Jan 31, 2021</td>\n",
       "      <td>Sun, Jan 31, 2021</td>\n",
       "      <td>Sun, Jan 31, 2021</td>\n",
       "      <td>Sun, Jan 31, 2021</td>\n",
       "    </tr>\n",
       "    <tr>\n",
       "      <th>220</th>\n",
       "      <td>Sun, Jan 31, 2021</td>\n",
       "      <td>Sun, Jan 31, 2021</td>\n",
       "      <td>Sun, Jan 31, 2021</td>\n",
       "      <td>Sun, Jan 31, 2021</td>\n",
       "      <td>Sun, Jan 31, 2021</td>\n",
       "      <td>Sun, Jan 31, 2021</td>\n",
       "      <td>Sun, Jan 31, 2021</td>\n",
       "    </tr>\n",
       "    <tr>\n",
       "      <th>221</th>\n",
       "      <td>Sun, Jan 31, 2021</td>\n",
       "      <td>Sun, Jan 31, 2021</td>\n",
       "      <td>Sun, Jan 31, 2021</td>\n",
       "      <td>Sun, Jan 31, 2021</td>\n",
       "      <td>Sun, Jan 31, 2021</td>\n",
       "      <td>Sun, Jan 31, 2021</td>\n",
       "      <td>Sun, Jan 31, 2021</td>\n",
       "    </tr>\n",
       "  </tbody>\n",
       "</table>\n",
       "<p>222 rows × 7 columns</p>\n",
       "</div>"
      ],
      "text/plain": [
       "                  data             data_1             data_2  \\\n",
       "0     Fri, Jan 1, 2021   Fri, Jan 1, 2021   Fri, Jan 1, 2021   \n",
       "1     Fri, Jan 1, 2021   Fri, Jan 1, 2021   Fri, Jan 1, 2021   \n",
       "2     Fri, Jan 1, 2021   Fri, Jan 1, 2021   Fri, Jan 1, 2021   \n",
       "3     Fri, Jan 1, 2021   Fri, Jan 1, 2021   Fri, Jan 1, 2021   \n",
       "4     Fri, Jan 1, 2021   Fri, Jan 1, 2021   Fri, Jan 1, 2021   \n",
       "..                 ...                ...                ...   \n",
       "217  Sun, Jan 31, 2021  Sun, Jan 31, 2021  Sun, Jan 31, 2021   \n",
       "218  Sun, Jan 31, 2021  Sun, Jan 31, 2021  Sun, Jan 31, 2021   \n",
       "219  Sun, Jan 31, 2021  Sun, Jan 31, 2021  Sun, Jan 31, 2021   \n",
       "220  Sun, Jan 31, 2021  Sun, Jan 31, 2021  Sun, Jan 31, 2021   \n",
       "221  Sun, Jan 31, 2021  Sun, Jan 31, 2021  Sun, Jan 31, 2021   \n",
       "\n",
       "                data_3             data_4             data_5  \\\n",
       "0     Fri, Jan 1, 2021   Fri, Jan 1, 2021   Fri, Jan 1, 2021   \n",
       "1     Fri, Jan 1, 2021   Fri, Jan 1, 2021   Fri, Jan 1, 2021   \n",
       "2     Fri, Jan 1, 2021   Fri, Jan 1, 2021   Fri, Jan 1, 2021   \n",
       "3     Fri, Jan 1, 2021   Fri, Jan 1, 2021   Fri, Jan 1, 2021   \n",
       "4     Fri, Jan 1, 2021   Fri, Jan 1, 2021   Fri, Jan 1, 2021   \n",
       "..                 ...                ...                ...   \n",
       "217  Sun, Jan 31, 2021  Sun, Jan 31, 2021  Sun, Jan 31, 2021   \n",
       "218  Sun, Jan 31, 2021  Sun, Jan 31, 2021  Sun, Jan 31, 2021   \n",
       "219  Sun, Jan 31, 2021  Sun, Jan 31, 2021  Sun, Jan 31, 2021   \n",
       "220  Sun, Jan 31, 2021  Sun, Jan 31, 2021  Sun, Jan 31, 2021   \n",
       "221  Sun, Jan 31, 2021  Sun, Jan 31, 2021  Sun, Jan 31, 2021   \n",
       "\n",
       "                data_6  \n",
       "0     Fri, Jan 1, 2021  \n",
       "1     Fri, Jan 1, 2021  \n",
       "2     Fri, Jan 1, 2021  \n",
       "3     Fri, Jan 1, 2021  \n",
       "4     Fri, Jan 1, 2021  \n",
       "..                 ...  \n",
       "217  Sun, Jan 31, 2021  \n",
       "218  Sun, Jan 31, 2021  \n",
       "219  Sun, Jan 31, 2021  \n",
       "220  Sun, Jan 31, 2021  \n",
       "221  Sun, Jan 31, 2021  \n",
       "\n",
       "[222 rows x 7 columns]"
      ]
     },
     "execution_count": 3,
     "metadata": {},
     "output_type": "execute_result"
    }
   ],
   "source": [
    "df_datas"
   ]
  },
  {
   "cell_type": "code",
   "execution_count": 4,
   "metadata": {},
   "outputs": [
    {
     "data": {
      "text/plain": [
       "data      object\n",
       "data_1    object\n",
       "data_2    object\n",
       "data_3    object\n",
       "data_4    object\n",
       "data_5    object\n",
       "data_6    object\n",
       "dtype: object"
      ]
     },
     "execution_count": 4,
     "metadata": {},
     "output_type": "execute_result"
    }
   ],
   "source": [
    "df_datas.dtypes"
   ]
  },
  {
   "cell_type": "code",
   "execution_count": 5,
   "metadata": {},
   "outputs": [],
   "source": [
    "df_datas = df_datas.reset_index(drop=True)\n",
    "for col in df_datas.columns:\n",
    "    df_datas[col] = pd.to_datetime(df_datas[col])\n"
   ]
  },
  {
   "cell_type": "code",
   "execution_count": 6,
   "metadata": {},
   "outputs": [
    {
     "data": {
      "text/html": [
       "<div>\n",
       "<style scoped>\n",
       "    .dataframe tbody tr th:only-of-type {\n",
       "        vertical-align: middle;\n",
       "    }\n",
       "\n",
       "    .dataframe tbody tr th {\n",
       "        vertical-align: top;\n",
       "    }\n",
       "\n",
       "    .dataframe thead th {\n",
       "        text-align: right;\n",
       "    }\n",
       "</style>\n",
       "<table border=\"1\" class=\"dataframe\">\n",
       "  <thead>\n",
       "    <tr style=\"text-align: right;\">\n",
       "      <th></th>\n",
       "      <th>data</th>\n",
       "      <th>data_1</th>\n",
       "      <th>data_2</th>\n",
       "      <th>data_3</th>\n",
       "      <th>data_4</th>\n",
       "      <th>data_5</th>\n",
       "      <th>data_6</th>\n",
       "    </tr>\n",
       "  </thead>\n",
       "  <tbody>\n",
       "    <tr>\n",
       "      <th>0</th>\n",
       "      <td>2021-01-01</td>\n",
       "      <td>2021-01-01</td>\n",
       "      <td>2021-01-01</td>\n",
       "      <td>2021-01-01</td>\n",
       "      <td>2021-01-01</td>\n",
       "      <td>2021-01-01</td>\n",
       "      <td>2021-01-01</td>\n",
       "    </tr>\n",
       "    <tr>\n",
       "      <th>1</th>\n",
       "      <td>2021-01-01</td>\n",
       "      <td>2021-01-01</td>\n",
       "      <td>2021-01-01</td>\n",
       "      <td>2021-01-01</td>\n",
       "      <td>2021-01-01</td>\n",
       "      <td>2021-01-01</td>\n",
       "      <td>2021-01-01</td>\n",
       "    </tr>\n",
       "    <tr>\n",
       "      <th>2</th>\n",
       "      <td>2021-01-01</td>\n",
       "      <td>2021-01-01</td>\n",
       "      <td>2021-01-01</td>\n",
       "      <td>2021-01-01</td>\n",
       "      <td>2021-01-01</td>\n",
       "      <td>2021-01-01</td>\n",
       "      <td>2021-01-01</td>\n",
       "    </tr>\n",
       "    <tr>\n",
       "      <th>3</th>\n",
       "      <td>2021-01-01</td>\n",
       "      <td>2021-01-01</td>\n",
       "      <td>2021-01-01</td>\n",
       "      <td>2021-01-01</td>\n",
       "      <td>2021-01-01</td>\n",
       "      <td>2021-01-01</td>\n",
       "      <td>2021-01-01</td>\n",
       "    </tr>\n",
       "    <tr>\n",
       "      <th>4</th>\n",
       "      <td>2021-01-01</td>\n",
       "      <td>2021-01-01</td>\n",
       "      <td>2021-01-01</td>\n",
       "      <td>2021-01-01</td>\n",
       "      <td>2021-01-01</td>\n",
       "      <td>2021-01-01</td>\n",
       "      <td>2021-01-01</td>\n",
       "    </tr>\n",
       "    <tr>\n",
       "      <th>...</th>\n",
       "      <td>...</td>\n",
       "      <td>...</td>\n",
       "      <td>...</td>\n",
       "      <td>...</td>\n",
       "      <td>...</td>\n",
       "      <td>...</td>\n",
       "      <td>...</td>\n",
       "    </tr>\n",
       "    <tr>\n",
       "      <th>217</th>\n",
       "      <td>2021-01-31</td>\n",
       "      <td>2021-01-31</td>\n",
       "      <td>2021-01-31</td>\n",
       "      <td>2021-01-31</td>\n",
       "      <td>2021-01-31</td>\n",
       "      <td>2021-01-31</td>\n",
       "      <td>2021-01-31</td>\n",
       "    </tr>\n",
       "    <tr>\n",
       "      <th>218</th>\n",
       "      <td>2021-01-31</td>\n",
       "      <td>2021-01-31</td>\n",
       "      <td>2021-01-31</td>\n",
       "      <td>2021-01-31</td>\n",
       "      <td>2021-01-31</td>\n",
       "      <td>2021-01-31</td>\n",
       "      <td>2021-01-31</td>\n",
       "    </tr>\n",
       "    <tr>\n",
       "      <th>219</th>\n",
       "      <td>2021-01-31</td>\n",
       "      <td>2021-01-31</td>\n",
       "      <td>2021-01-31</td>\n",
       "      <td>2021-01-31</td>\n",
       "      <td>2021-01-31</td>\n",
       "      <td>2021-01-31</td>\n",
       "      <td>2021-01-31</td>\n",
       "    </tr>\n",
       "    <tr>\n",
       "      <th>220</th>\n",
       "      <td>2021-01-31</td>\n",
       "      <td>2021-01-31</td>\n",
       "      <td>2021-01-31</td>\n",
       "      <td>2021-01-31</td>\n",
       "      <td>2021-01-31</td>\n",
       "      <td>2021-01-31</td>\n",
       "      <td>2021-01-31</td>\n",
       "    </tr>\n",
       "    <tr>\n",
       "      <th>221</th>\n",
       "      <td>2021-01-31</td>\n",
       "      <td>2021-01-31</td>\n",
       "      <td>2021-01-31</td>\n",
       "      <td>2021-01-31</td>\n",
       "      <td>2021-01-31</td>\n",
       "      <td>2021-01-31</td>\n",
       "      <td>2021-01-31</td>\n",
       "    </tr>\n",
       "  </tbody>\n",
       "</table>\n",
       "<p>222 rows × 7 columns</p>\n",
       "</div>"
      ],
      "text/plain": [
       "          data     data_1     data_2     data_3     data_4     data_5  \\\n",
       "0   2021-01-01 2021-01-01 2021-01-01 2021-01-01 2021-01-01 2021-01-01   \n",
       "1   2021-01-01 2021-01-01 2021-01-01 2021-01-01 2021-01-01 2021-01-01   \n",
       "2   2021-01-01 2021-01-01 2021-01-01 2021-01-01 2021-01-01 2021-01-01   \n",
       "3   2021-01-01 2021-01-01 2021-01-01 2021-01-01 2021-01-01 2021-01-01   \n",
       "4   2021-01-01 2021-01-01 2021-01-01 2021-01-01 2021-01-01 2021-01-01   \n",
       "..         ...        ...        ...        ...        ...        ...   \n",
       "217 2021-01-31 2021-01-31 2021-01-31 2021-01-31 2021-01-31 2021-01-31   \n",
       "218 2021-01-31 2021-01-31 2021-01-31 2021-01-31 2021-01-31 2021-01-31   \n",
       "219 2021-01-31 2021-01-31 2021-01-31 2021-01-31 2021-01-31 2021-01-31   \n",
       "220 2021-01-31 2021-01-31 2021-01-31 2021-01-31 2021-01-31 2021-01-31   \n",
       "221 2021-01-31 2021-01-31 2021-01-31 2021-01-31 2021-01-31 2021-01-31   \n",
       "\n",
       "        data_6  \n",
       "0   2021-01-01  \n",
       "1   2021-01-01  \n",
       "2   2021-01-01  \n",
       "3   2021-01-01  \n",
       "4   2021-01-01  \n",
       "..         ...  \n",
       "217 2021-01-31  \n",
       "218 2021-01-31  \n",
       "219 2021-01-31  \n",
       "220 2021-01-31  \n",
       "221 2021-01-31  \n",
       "\n",
       "[222 rows x 7 columns]"
      ]
     },
     "execution_count": 6,
     "metadata": {},
     "output_type": "execute_result"
    }
   ],
   "source": [
    "df_datas"
   ]
  },
  {
   "cell_type": "code",
   "execution_count": 7,
   "metadata": {},
   "outputs": [
    {
     "data": {
      "text/plain": [
       "data      datetime64[ns]\n",
       "data_1    datetime64[ns]\n",
       "data_2    datetime64[ns]\n",
       "data_3    datetime64[ns]\n",
       "data_4    datetime64[ns]\n",
       "data_5    datetime64[ns]\n",
       "data_6    datetime64[ns]\n",
       "dtype: object"
      ]
     },
     "execution_count": 7,
     "metadata": {},
     "output_type": "execute_result"
    }
   ],
   "source": [
    "df_datas.dtypes"
   ]
  },
  {
   "cell_type": "code",
   "execution_count": 8,
   "metadata": {},
   "outputs": [],
   "source": [
    "df_datas = resultados[['data','data_1','data_2','data_3','data_4','data_5','data_6']]"
   ]
  },
  {
   "cell_type": "code",
   "execution_count": 9,
   "metadata": {},
   "outputs": [
    {
     "data": {
      "text/plain": [
       "data      object\n",
       "data_1    object\n",
       "data_2    object\n",
       "data_3    object\n",
       "data_4    object\n",
       "data_5    object\n",
       "data_6    object\n",
       "dtype: object"
      ]
     },
     "execution_count": 9,
     "metadata": {},
     "output_type": "execute_result"
    }
   ],
   "source": [
    "df_datas.dtypes"
   ]
  },
  {
   "cell_type": "code",
   "execution_count": 10,
   "metadata": {},
   "outputs": [],
   "source": [
    "df_datas = (df_datas.assign(data = lambda x: pd.to_datetime(x.data))\n",
    "    .assign(data_1 = lambda x: pd.to_datetime(x.data_1))\n",
    "    .assign(data_2 = lambda x: pd.to_datetime(x.data_2))\n",
    "    .assign(data_3 = lambda x: pd.to_datetime(x.data_3))\n",
    "    .assign(data_4 = lambda x: pd.to_datetime(x.data_4))\n",
    "    .assign(data_5 = lambda x: pd.to_datetime(x.data_5))\n",
    "    .assign(data_6 = lambda x: pd.to_datetime(x.data_6)))"
   ]
  },
  {
   "cell_type": "code",
   "execution_count": 11,
   "metadata": {},
   "outputs": [
    {
     "data": {
      "text/plain": [
       "data      datetime64[ns]\n",
       "data_1    datetime64[ns]\n",
       "data_2    datetime64[ns]\n",
       "data_3    datetime64[ns]\n",
       "data_4    datetime64[ns]\n",
       "data_5    datetime64[ns]\n",
       "data_6    datetime64[ns]\n",
       "dtype: object"
      ]
     },
     "execution_count": 11,
     "metadata": {},
     "output_type": "execute_result"
    }
   ],
   "source": [
    "df_datas.dtypes"
   ]
  },
  {
   "cell_type": "code",
   "execution_count": null,
   "metadata": {},
   "outputs": [],
   "source": []
  },
  {
   "cell_type": "code",
   "execution_count": 12,
   "metadata": {},
   "outputs": [],
   "source": [
    "df_datas = resultados[['data','data_1','data_2','data_3','data_4','data_5','data_6']]"
   ]
  },
  {
   "cell_type": "code",
   "execution_count": 13,
   "metadata": {},
   "outputs": [
    {
     "data": {
      "text/plain": [
       "data      object\n",
       "data_1    object\n",
       "data_2    object\n",
       "data_3    object\n",
       "data_4    object\n",
       "data_5    object\n",
       "data_6    object\n",
       "dtype: object"
      ]
     },
     "execution_count": 13,
     "metadata": {},
     "output_type": "execute_result"
    }
   ],
   "source": [
    "df_datas.dtypes"
   ]
  },
  {
   "cell_type": "code",
   "execution_count": 14,
   "metadata": {},
   "outputs": [
    {
     "data": {
      "text/html": [
       "<div>\n",
       "<style scoped>\n",
       "    .dataframe tbody tr th:only-of-type {\n",
       "        vertical-align: middle;\n",
       "    }\n",
       "\n",
       "    .dataframe tbody tr th {\n",
       "        vertical-align: top;\n",
       "    }\n",
       "\n",
       "    .dataframe thead th {\n",
       "        text-align: right;\n",
       "    }\n",
       "</style>\n",
       "<table border=\"1\" class=\"dataframe\">\n",
       "  <thead>\n",
       "    <tr style=\"text-align: right;\">\n",
       "      <th></th>\n",
       "      <th>data</th>\n",
       "      <th>data_1</th>\n",
       "      <th>data_2</th>\n",
       "      <th>data_3</th>\n",
       "      <th>data_4</th>\n",
       "      <th>data_5</th>\n",
       "      <th>data_6</th>\n",
       "    </tr>\n",
       "  </thead>\n",
       "  <tbody>\n",
       "    <tr>\n",
       "      <th>0</th>\n",
       "      <td>2021-01-01</td>\n",
       "      <td>2021-01-01</td>\n",
       "      <td>2021-01-01</td>\n",
       "      <td>2021-01-01</td>\n",
       "      <td>2021-01-01</td>\n",
       "      <td>2021-01-01</td>\n",
       "      <td>2021-01-01</td>\n",
       "    </tr>\n",
       "    <tr>\n",
       "      <th>1</th>\n",
       "      <td>2021-01-01</td>\n",
       "      <td>2021-01-01</td>\n",
       "      <td>2021-01-01</td>\n",
       "      <td>2021-01-01</td>\n",
       "      <td>2021-01-01</td>\n",
       "      <td>2021-01-01</td>\n",
       "      <td>2021-01-01</td>\n",
       "    </tr>\n",
       "    <tr>\n",
       "      <th>2</th>\n",
       "      <td>2021-01-01</td>\n",
       "      <td>2021-01-01</td>\n",
       "      <td>2021-01-01</td>\n",
       "      <td>2021-01-01</td>\n",
       "      <td>2021-01-01</td>\n",
       "      <td>2021-01-01</td>\n",
       "      <td>2021-01-01</td>\n",
       "    </tr>\n",
       "    <tr>\n",
       "      <th>3</th>\n",
       "      <td>2021-01-01</td>\n",
       "      <td>2021-01-01</td>\n",
       "      <td>2021-01-01</td>\n",
       "      <td>2021-01-01</td>\n",
       "      <td>2021-01-01</td>\n",
       "      <td>2021-01-01</td>\n",
       "      <td>2021-01-01</td>\n",
       "    </tr>\n",
       "    <tr>\n",
       "      <th>4</th>\n",
       "      <td>2021-01-01</td>\n",
       "      <td>2021-01-01</td>\n",
       "      <td>2021-01-01</td>\n",
       "      <td>2021-01-01</td>\n",
       "      <td>2021-01-01</td>\n",
       "      <td>2021-01-01</td>\n",
       "      <td>2021-01-01</td>\n",
       "    </tr>\n",
       "    <tr>\n",
       "      <th>...</th>\n",
       "      <td>...</td>\n",
       "      <td>...</td>\n",
       "      <td>...</td>\n",
       "      <td>...</td>\n",
       "      <td>...</td>\n",
       "      <td>...</td>\n",
       "      <td>...</td>\n",
       "    </tr>\n",
       "    <tr>\n",
       "      <th>217</th>\n",
       "      <td>2021-01-31</td>\n",
       "      <td>2021-01-31</td>\n",
       "      <td>2021-01-31</td>\n",
       "      <td>2021-01-31</td>\n",
       "      <td>2021-01-31</td>\n",
       "      <td>2021-01-31</td>\n",
       "      <td>2021-01-31</td>\n",
       "    </tr>\n",
       "    <tr>\n",
       "      <th>218</th>\n",
       "      <td>2021-01-31</td>\n",
       "      <td>2021-01-31</td>\n",
       "      <td>2021-01-31</td>\n",
       "      <td>2021-01-31</td>\n",
       "      <td>2021-01-31</td>\n",
       "      <td>2021-01-31</td>\n",
       "      <td>2021-01-31</td>\n",
       "    </tr>\n",
       "    <tr>\n",
       "      <th>219</th>\n",
       "      <td>2021-01-31</td>\n",
       "      <td>2021-01-31</td>\n",
       "      <td>2021-01-31</td>\n",
       "      <td>2021-01-31</td>\n",
       "      <td>2021-01-31</td>\n",
       "      <td>2021-01-31</td>\n",
       "      <td>2021-01-31</td>\n",
       "    </tr>\n",
       "    <tr>\n",
       "      <th>220</th>\n",
       "      <td>2021-01-31</td>\n",
       "      <td>2021-01-31</td>\n",
       "      <td>2021-01-31</td>\n",
       "      <td>2021-01-31</td>\n",
       "      <td>2021-01-31</td>\n",
       "      <td>2021-01-31</td>\n",
       "      <td>2021-01-31</td>\n",
       "    </tr>\n",
       "    <tr>\n",
       "      <th>221</th>\n",
       "      <td>2021-01-31</td>\n",
       "      <td>2021-01-31</td>\n",
       "      <td>2021-01-31</td>\n",
       "      <td>2021-01-31</td>\n",
       "      <td>2021-01-31</td>\n",
       "      <td>2021-01-31</td>\n",
       "      <td>2021-01-31</td>\n",
       "    </tr>\n",
       "  </tbody>\n",
       "</table>\n",
       "<p>222 rows × 7 columns</p>\n",
       "</div>"
      ],
      "text/plain": [
       "          data     data_1     data_2     data_3     data_4     data_5  \\\n",
       "0   2021-01-01 2021-01-01 2021-01-01 2021-01-01 2021-01-01 2021-01-01   \n",
       "1   2021-01-01 2021-01-01 2021-01-01 2021-01-01 2021-01-01 2021-01-01   \n",
       "2   2021-01-01 2021-01-01 2021-01-01 2021-01-01 2021-01-01 2021-01-01   \n",
       "3   2021-01-01 2021-01-01 2021-01-01 2021-01-01 2021-01-01 2021-01-01   \n",
       "4   2021-01-01 2021-01-01 2021-01-01 2021-01-01 2021-01-01 2021-01-01   \n",
       "..         ...        ...        ...        ...        ...        ...   \n",
       "217 2021-01-31 2021-01-31 2021-01-31 2021-01-31 2021-01-31 2021-01-31   \n",
       "218 2021-01-31 2021-01-31 2021-01-31 2021-01-31 2021-01-31 2021-01-31   \n",
       "219 2021-01-31 2021-01-31 2021-01-31 2021-01-31 2021-01-31 2021-01-31   \n",
       "220 2021-01-31 2021-01-31 2021-01-31 2021-01-31 2021-01-31 2021-01-31   \n",
       "221 2021-01-31 2021-01-31 2021-01-31 2021-01-31 2021-01-31 2021-01-31   \n",
       "\n",
       "        data_6  \n",
       "0   2021-01-01  \n",
       "1   2021-01-01  \n",
       "2   2021-01-01  \n",
       "3   2021-01-01  \n",
       "4   2021-01-01  \n",
       "..         ...  \n",
       "217 2021-01-31  \n",
       "218 2021-01-31  \n",
       "219 2021-01-31  \n",
       "220 2021-01-31  \n",
       "221 2021-01-31  \n",
       "\n",
       "[222 rows x 7 columns]"
      ]
     },
     "execution_count": 14,
     "metadata": {},
     "output_type": "execute_result"
    }
   ],
   "source": [
    "df_datas.apply(lambda x: pd.to_datetime(x), axis=0)"
   ]
  },
  {
   "cell_type": "code",
   "execution_count": null,
   "metadata": {},
   "outputs": [],
   "source": []
  },
  {
   "cell_type": "code",
   "execution_count": null,
   "metadata": {},
   "outputs": [],
   "source": []
  },
  {
   "cell_type": "code",
   "execution_count": 15,
   "metadata": {},
   "outputs": [
    {
     "name": "stdout",
     "output_type": "stream",
     "text": [
      "190 ms ± 21.3 ms per loop (mean ± std. dev. of 7 runs, 1 loop each)\n",
      "11.2 ms ± 1.09 ms per loop (mean ± std. dev. of 7 runs, 100 loops each)\n"
     ]
    }
   ],
   "source": [
    "%timeit df_datas.apply(lambda x: pd.to_datetime(x), axis=1)\n",
    "%timeit df_datas.apply(lambda x: pd.to_datetime(x), axis=0)"
   ]
  },
  {
   "cell_type": "code",
   "execution_count": 19,
   "metadata": {},
   "outputs": [
    {
     "data": {
      "text/plain": [
       "16.964285714285715"
      ]
     },
     "execution_count": 19,
     "metadata": {},
     "output_type": "execute_result"
    }
   ],
   "source": [
    "190  / 11.2"
   ]
  },
  {
   "cell_type": "code",
   "execution_count": 17,
   "metadata": {},
   "outputs": [
    {
     "data": {
      "text/html": [
       "<div>\n",
       "<style scoped>\n",
       "    .dataframe tbody tr th:only-of-type {\n",
       "        vertical-align: middle;\n",
       "    }\n",
       "\n",
       "    .dataframe tbody tr th {\n",
       "        vertical-align: top;\n",
       "    }\n",
       "\n",
       "    .dataframe thead th {\n",
       "        text-align: right;\n",
       "    }\n",
       "</style>\n",
       "<table border=\"1\" class=\"dataframe\">\n",
       "  <thead>\n",
       "    <tr style=\"text-align: right;\">\n",
       "      <th></th>\n",
       "      <th>data</th>\n",
       "      <th>data_1</th>\n",
       "      <th>data_2</th>\n",
       "      <th>data_3</th>\n",
       "      <th>data_4</th>\n",
       "      <th>data_5</th>\n",
       "      <th>data_6</th>\n",
       "    </tr>\n",
       "  </thead>\n",
       "  <tbody>\n",
       "    <tr>\n",
       "      <th>0</th>\n",
       "      <td>Fri, Jan 1, 2021</td>\n",
       "      <td>Fri, Jan 1, 2021</td>\n",
       "      <td>Fri, Jan 1, 2021</td>\n",
       "      <td>Fri, Jan 1, 2021</td>\n",
       "      <td>Fri, Jan 1, 2021</td>\n",
       "      <td>Fri, Jan 1, 2021</td>\n",
       "      <td>Fri, Jan 1, 2021</td>\n",
       "    </tr>\n",
       "    <tr>\n",
       "      <th>1</th>\n",
       "      <td>Fri, Jan 1, 2021</td>\n",
       "      <td>Fri, Jan 1, 2021</td>\n",
       "      <td>Fri, Jan 1, 2021</td>\n",
       "      <td>Fri, Jan 1, 2021</td>\n",
       "      <td>Fri, Jan 1, 2021</td>\n",
       "      <td>Fri, Jan 1, 2021</td>\n",
       "      <td>Fri, Jan 1, 2021</td>\n",
       "    </tr>\n",
       "  </tbody>\n",
       "</table>\n",
       "</div>"
      ],
      "text/plain": [
       "               data            data_1            data_2            data_3  \\\n",
       "0  Fri, Jan 1, 2021  Fri, Jan 1, 2021  Fri, Jan 1, 2021  Fri, Jan 1, 2021   \n",
       "1  Fri, Jan 1, 2021  Fri, Jan 1, 2021  Fri, Jan 1, 2021  Fri, Jan 1, 2021   \n",
       "\n",
       "             data_4            data_5            data_6  \n",
       "0  Fri, Jan 1, 2021  Fri, Jan 1, 2021  Fri, Jan 1, 2021  \n",
       "1  Fri, Jan 1, 2021  Fri, Jan 1, 2021  Fri, Jan 1, 2021  "
      ]
     },
     "execution_count": 17,
     "metadata": {},
     "output_type": "execute_result"
    }
   ],
   "source": [
    "df_datas.head(2)"
   ]
  },
  {
   "cell_type": "code",
   "execution_count": 18,
   "metadata": {},
   "outputs": [
    {
     "name": "stdout",
     "output_type": "stream",
     "text": [
      "2.34 ms ± 207 µs per loop (mean ± std. dev. of 7 runs, 100 loops each)\n",
      "5.55 ms ± 238 µs per loop (mean ± std. dev. of 7 runs, 100 loops each)\n"
     ]
    }
   ],
   "source": [
    "%timeit df_datas.head(2).apply(lambda x: pd.to_datetime(x), axis=1)\n",
    "%timeit df_datas.head(2).apply(lambda x: pd.to_datetime(x), axis=0)"
   ]
  },
  {
   "cell_type": "code",
   "execution_count": null,
   "metadata": {},
   "outputs": [],
   "source": []
  },
  {
   "cell_type": "code",
   "execution_count": null,
   "metadata": {},
   "outputs": [],
   "source": []
  }
 ],
 "metadata": {
  "kernelspec": {
   "display_name": "Python 3",
   "language": "python",
   "name": "python3"
  },
  "language_info": {
   "codemirror_mode": {
    "name": "ipython",
    "version": 3
   },
   "file_extension": ".py",
   "mimetype": "text/x-python",
   "name": "python",
   "nbconvert_exporter": "python",
   "pygments_lexer": "ipython3",
   "version": "3.10.11"
  },
  "varInspector": {
   "cols": {
    "lenName": 16,
    "lenType": 16,
    "lenVar": 40
   },
   "kernels_config": {
    "python": {
     "delete_cmd_postfix": "",
     "delete_cmd_prefix": "del ",
     "library": "var_list.py",
     "varRefreshCmd": "print(var_dic_list())"
    },
    "r": {
     "delete_cmd_postfix": ") ",
     "delete_cmd_prefix": "rm(",
     "library": "var_list.r",
     "varRefreshCmd": "cat(var_dic_list()) "
    }
   },
   "types_to_exclude": [
    "module",
    "function",
    "builtin_function_or_method",
    "instance",
    "_Feature"
   ],
   "window_display": false
  }
 },
 "nbformat": 4,
 "nbformat_minor": 4
}
