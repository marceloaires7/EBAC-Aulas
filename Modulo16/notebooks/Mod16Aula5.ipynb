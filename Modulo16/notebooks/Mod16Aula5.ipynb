{
 "cells": [
  {
   "cell_type": "markdown",
   "metadata": {},
   "source": [
    "- *Method chaining* (encadeamento de métodos)\n",
    "\t- `.assign()`\n",
    "\t- `.pipe()`\n",
    "- `for` vs *List comprehension*\n",
    "- Usando `.apply()`\n",
    "- `.apply(axis = 0)`\n",
    "- __Barra de progresso usando `tqdm`__ \n",
    "- Pandas Profiling para exploração dos dados e para garantir a qualidade dos dados\n",
    "- Mostrar o dataframe usando o `style`\n",
    "- Copiar e colar no Excel `.to_clipboard()`\n",
    "- Funções de janela móvel (*window functions*)\n",
    "- Fechamento 2o projeto"
   ]
  },
  {
   "cell_type": "code",
   "execution_count": 1,
   "metadata": {},
   "outputs": [],
   "source": [
    "import pandas as pd"
   ]
  },
  {
   "cell_type": "markdown",
   "metadata": {},
   "source": [
    "## Barra de progresso usando tqdm"
   ]
  },
  {
   "cell_type": "code",
   "execution_count": 2,
   "metadata": {},
   "outputs": [],
   "source": [
    "resultados = pd.read_html(\"https://www.basketball-reference.com/leagues/NBA_2021_games-january.html\")[0]\n",
    "\n",
    "colunas = {\n",
    "    'Date': 'data',\n",
    "    'Start (ET)': 'horario',\n",
    "    'Visitor/Neutral': 'time_visitante',\n",
    "    'PTS': 'pts_visit',\n",
    "    'Home/Neutral': 'time_casa',\n",
    "    'PTS.1': 'pts_casa',\n",
    "    'Unnamed: 6': 'a',\n",
    "    'Unnamed: 7': 'b',\n",
    "    'Attend.': 'publico',\n",
    "    'Notes': 'anot'\n",
    "}\n",
    "resultados = resultados.rename(columns=colunas)\n",
    "\n",
    "resultados['data_1'] = resultados['data']\n",
    "resultados['data_2'] = resultados['data']\n",
    "resultados['data_3'] = resultados['data']\n",
    "resultados['data_4'] = resultados['data']\n",
    "resultados['data_5'] = resultados['data']\n",
    "resultados['data_6'] = resultados['data']\n",
    "\n",
    "df_datas = resultados[['data','data_1','data_2','data_3','data_4','data_5','data_6']]"
   ]
  },
  {
   "cell_type": "code",
   "execution_count": 9,
   "metadata": {},
   "outputs": [
    {
     "name": "stderr",
     "output_type": "stream",
     "text": [
      "  0%|          | 0/7 [00:00<?, ?it/s]"
     ]
    },
    {
     "name": "stderr",
     "output_type": "stream",
     "text": [
      "100%|██████████| 7/7 [00:00<00:00, 239.42it/s]\n"
     ]
    },
    {
     "data": {
      "text/html": [
       "<div>\n",
       "<style scoped>\n",
       "    .dataframe tbody tr th:only-of-type {\n",
       "        vertical-align: middle;\n",
       "    }\n",
       "\n",
       "    .dataframe tbody tr th {\n",
       "        vertical-align: top;\n",
       "    }\n",
       "\n",
       "    .dataframe thead th {\n",
       "        text-align: right;\n",
       "    }\n",
       "</style>\n",
       "<table border=\"1\" class=\"dataframe\">\n",
       "  <thead>\n",
       "    <tr style=\"text-align: right;\">\n",
       "      <th></th>\n",
       "      <th>data</th>\n",
       "      <th>data_1</th>\n",
       "      <th>data_2</th>\n",
       "      <th>data_3</th>\n",
       "      <th>data_4</th>\n",
       "      <th>data_5</th>\n",
       "      <th>data_6</th>\n",
       "    </tr>\n",
       "  </thead>\n",
       "  <tbody>\n",
       "    <tr>\n",
       "      <th>0</th>\n",
       "      <td>2021-01-01</td>\n",
       "      <td>2021-01-01</td>\n",
       "      <td>2021-01-01</td>\n",
       "      <td>2021-01-01</td>\n",
       "      <td>2021-01-01</td>\n",
       "      <td>2021-01-01</td>\n",
       "      <td>2021-01-01</td>\n",
       "    </tr>\n",
       "    <tr>\n",
       "      <th>1</th>\n",
       "      <td>2021-01-01</td>\n",
       "      <td>2021-01-01</td>\n",
       "      <td>2021-01-01</td>\n",
       "      <td>2021-01-01</td>\n",
       "      <td>2021-01-01</td>\n",
       "      <td>2021-01-01</td>\n",
       "      <td>2021-01-01</td>\n",
       "    </tr>\n",
       "    <tr>\n",
       "      <th>2</th>\n",
       "      <td>2021-01-01</td>\n",
       "      <td>2021-01-01</td>\n",
       "      <td>2021-01-01</td>\n",
       "      <td>2021-01-01</td>\n",
       "      <td>2021-01-01</td>\n",
       "      <td>2021-01-01</td>\n",
       "      <td>2021-01-01</td>\n",
       "    </tr>\n",
       "    <tr>\n",
       "      <th>3</th>\n",
       "      <td>2021-01-01</td>\n",
       "      <td>2021-01-01</td>\n",
       "      <td>2021-01-01</td>\n",
       "      <td>2021-01-01</td>\n",
       "      <td>2021-01-01</td>\n",
       "      <td>2021-01-01</td>\n",
       "      <td>2021-01-01</td>\n",
       "    </tr>\n",
       "    <tr>\n",
       "      <th>4</th>\n",
       "      <td>2021-01-01</td>\n",
       "      <td>2021-01-01</td>\n",
       "      <td>2021-01-01</td>\n",
       "      <td>2021-01-01</td>\n",
       "      <td>2021-01-01</td>\n",
       "      <td>2021-01-01</td>\n",
       "      <td>2021-01-01</td>\n",
       "    </tr>\n",
       "    <tr>\n",
       "      <th>...</th>\n",
       "      <td>...</td>\n",
       "      <td>...</td>\n",
       "      <td>...</td>\n",
       "      <td>...</td>\n",
       "      <td>...</td>\n",
       "      <td>...</td>\n",
       "      <td>...</td>\n",
       "    </tr>\n",
       "    <tr>\n",
       "      <th>22195</th>\n",
       "      <td>2021-01-31</td>\n",
       "      <td>2021-01-31</td>\n",
       "      <td>2021-01-31</td>\n",
       "      <td>2021-01-31</td>\n",
       "      <td>2021-01-31</td>\n",
       "      <td>2021-01-31</td>\n",
       "      <td>2021-01-31</td>\n",
       "    </tr>\n",
       "    <tr>\n",
       "      <th>22196</th>\n",
       "      <td>2021-01-31</td>\n",
       "      <td>2021-01-31</td>\n",
       "      <td>2021-01-31</td>\n",
       "      <td>2021-01-31</td>\n",
       "      <td>2021-01-31</td>\n",
       "      <td>2021-01-31</td>\n",
       "      <td>2021-01-31</td>\n",
       "    </tr>\n",
       "    <tr>\n",
       "      <th>22197</th>\n",
       "      <td>2021-01-31</td>\n",
       "      <td>2021-01-31</td>\n",
       "      <td>2021-01-31</td>\n",
       "      <td>2021-01-31</td>\n",
       "      <td>2021-01-31</td>\n",
       "      <td>2021-01-31</td>\n",
       "      <td>2021-01-31</td>\n",
       "    </tr>\n",
       "    <tr>\n",
       "      <th>22198</th>\n",
       "      <td>2021-01-31</td>\n",
       "      <td>2021-01-31</td>\n",
       "      <td>2021-01-31</td>\n",
       "      <td>2021-01-31</td>\n",
       "      <td>2021-01-31</td>\n",
       "      <td>2021-01-31</td>\n",
       "      <td>2021-01-31</td>\n",
       "    </tr>\n",
       "    <tr>\n",
       "      <th>22199</th>\n",
       "      <td>2021-01-31</td>\n",
       "      <td>2021-01-31</td>\n",
       "      <td>2021-01-31</td>\n",
       "      <td>2021-01-31</td>\n",
       "      <td>2021-01-31</td>\n",
       "      <td>2021-01-31</td>\n",
       "      <td>2021-01-31</td>\n",
       "    </tr>\n",
       "  </tbody>\n",
       "</table>\n",
       "<p>22200 rows × 7 columns</p>\n",
       "</div>"
      ],
      "text/plain": [
       "            data     data_1     data_2     data_3     data_4     data_5  \\\n",
       "0     2021-01-01 2021-01-01 2021-01-01 2021-01-01 2021-01-01 2021-01-01   \n",
       "1     2021-01-01 2021-01-01 2021-01-01 2021-01-01 2021-01-01 2021-01-01   \n",
       "2     2021-01-01 2021-01-01 2021-01-01 2021-01-01 2021-01-01 2021-01-01   \n",
       "3     2021-01-01 2021-01-01 2021-01-01 2021-01-01 2021-01-01 2021-01-01   \n",
       "4     2021-01-01 2021-01-01 2021-01-01 2021-01-01 2021-01-01 2021-01-01   \n",
       "...          ...        ...        ...        ...        ...        ...   \n",
       "22195 2021-01-31 2021-01-31 2021-01-31 2021-01-31 2021-01-31 2021-01-31   \n",
       "22196 2021-01-31 2021-01-31 2021-01-31 2021-01-31 2021-01-31 2021-01-31   \n",
       "22197 2021-01-31 2021-01-31 2021-01-31 2021-01-31 2021-01-31 2021-01-31   \n",
       "22198 2021-01-31 2021-01-31 2021-01-31 2021-01-31 2021-01-31 2021-01-31   \n",
       "22199 2021-01-31 2021-01-31 2021-01-31 2021-01-31 2021-01-31 2021-01-31   \n",
       "\n",
       "          data_6  \n",
       "0     2021-01-01  \n",
       "1     2021-01-01  \n",
       "2     2021-01-01  \n",
       "3     2021-01-01  \n",
       "4     2021-01-01  \n",
       "...          ...  \n",
       "22195 2021-01-31  \n",
       "22196 2021-01-31  \n",
       "22197 2021-01-31  \n",
       "22198 2021-01-31  \n",
       "22199 2021-01-31  \n",
       "\n",
       "[22200 rows x 7 columns]"
      ]
     },
     "execution_count": 9,
     "metadata": {},
     "output_type": "execute_result"
    }
   ],
   "source": [
    "from tqdm import tqdm\n",
    "tqdm.pandas()\n",
    "\n",
    "df_datas_maior = pd.concat([df_datas]*100, ignore_index=True)\n",
    "\n",
    "df_datas_maior.progress_apply(lambda x: pd.to_datetime(x), axis=0)"
   ]
  },
  {
   "cell_type": "code",
   "execution_count": null,
   "metadata": {},
   "outputs": [],
   "source": []
  },
  {
   "cell_type": "code",
   "execution_count": null,
   "metadata": {},
   "outputs": [],
   "source": []
  },
  {
   "cell_type": "code",
   "execution_count": null,
   "metadata": {},
   "outputs": [],
   "source": []
  },
  {
   "cell_type": "code",
   "execution_count": null,
   "metadata": {},
   "outputs": [],
   "source": []
  },
  {
   "cell_type": "code",
   "execution_count": null,
   "metadata": {},
   "outputs": [],
   "source": []
  }
 ],
 "metadata": {
  "kernelspec": {
   "display_name": "Python 3",
   "language": "python",
   "name": "python3"
  },
  "language_info": {
   "codemirror_mode": {
    "name": "ipython",
    "version": 3
   },
   "file_extension": ".py",
   "mimetype": "text/x-python",
   "name": "python",
   "nbconvert_exporter": "python",
   "pygments_lexer": "ipython3",
   "version": "3.10.11"
  },
  "varInspector": {
   "cols": {
    "lenName": 16,
    "lenType": 16,
    "lenVar": 40
   },
   "kernels_config": {
    "python": {
     "delete_cmd_postfix": "",
     "delete_cmd_prefix": "del ",
     "library": "var_list.py",
     "varRefreshCmd": "print(var_dic_list())"
    },
    "r": {
     "delete_cmd_postfix": ") ",
     "delete_cmd_prefix": "rm(",
     "library": "var_list.r",
     "varRefreshCmd": "cat(var_dic_list()) "
    }
   },
   "types_to_exclude": [
    "module",
    "function",
    "builtin_function_or_method",
    "instance",
    "_Feature"
   ],
   "window_display": false
  }
 },
 "nbformat": 4,
 "nbformat_minor": 4
}
