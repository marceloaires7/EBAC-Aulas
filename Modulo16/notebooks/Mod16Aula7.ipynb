{
 "cells": [
  {
   "cell_type": "markdown",
   "metadata": {},
   "source": [
    "- *Method chaining* (encadeamento de métodos)\n",
    "\t- `.assign()`\n",
    "\t- `.pipe()`\n",
    "- `for` vs *List comprehension*\n",
    "- Usando `.apply()`\n",
    "- `.apply(axis = 0)`\n",
    "- Barra de progresso usando `tqdm` \n",
    "- Pandas Profiling para exploração dos dados e para garantir a qualidade dos dados\n",
    "- __Mostrar o dataframe usando o `style`__\n",
    "- Copiar e colar no Excel `.to_clipboard()`\n",
    "- Funções de janela móvel (*window functions*)\n",
    "- Fechamento 2o projeto"
   ]
  },
  {
   "cell_type": "markdown",
   "metadata": {},
   "source": [
    "# Mostrar o dataframe usando o `style`"
   ]
  },
  {
   "cell_type": "code",
   "execution_count": 15,
   "metadata": {},
   "outputs": [],
   "source": [
    "# df.head()"
   ]
  },
  {
   "cell_type": "code",
   "execution_count": 16,
   "metadata": {},
   "outputs": [],
   "source": [
    "# rf.feature_importances_"
   ]
  },
  {
   "cell_type": "code",
   "execution_count": 17,
   "metadata": {},
   "outputs": [
    {
     "name": "stdout",
     "output_type": "stream",
     "text": [
      "Optimization terminated successfully.\n",
      "         Current function value: 0.112400\n",
      "         Iterations 8\n"
     ]
    }
   ],
   "source": [
    "import statsmodels.api as sm\n",
    "import pandas as pd\n",
    " \n",
    "# loading the training dataset\n",
    "df = pd.read_csv('./input/dados.csv')\n",
    "\n",
    "cols = [\n",
    "    'qtd_filhos', 'idade', 'tempo_emprego', 'qt_pessoas_residencia',\n",
    "    'possui_email'\n",
    "]\n",
    "# defining the dependent and independent variables\n",
    "Xtrain = df[cols]\n",
    "ytrain = df[['mau']]\n",
    "  \n",
    "# building the model and fitting the data\n",
    "log_reg = sm.Logit(ytrain, Xtrain).fit()"
   ]
  },
  {
   "cell_type": "code",
   "execution_count": 18,
   "metadata": {},
   "outputs": [
    {
     "data": {
      "text/html": [
       "<table class=\"simpletable\">\n",
       "<caption>Logit Regression Results</caption>\n",
       "<tr>\n",
       "  <th>Dep. Variable:</th>          <td>mau</td>       <th>  No. Observations:  </th>  <td> 16650</td> \n",
       "</tr>\n",
       "<tr>\n",
       "  <th>Model:</th>                 <td>Logit</td>      <th>  Df Residuals:      </th>  <td> 16645</td> \n",
       "</tr>\n",
       "<tr>\n",
       "  <th>Method:</th>                 <td>MLE</td>       <th>  Df Model:          </th>  <td>     4</td> \n",
       "</tr>\n",
       "<tr>\n",
       "  <th>Date:</th>            <td>Fri, 21 Jul 2023</td> <th>  Pseudo R-squ.:     </th> <td>-0.01189</td>\n",
       "</tr>\n",
       "<tr>\n",
       "  <th>Time:</th>                <td>20:19:12</td>     <th>  Log-Likelihood:    </th> <td> -1871.5</td>\n",
       "</tr>\n",
       "<tr>\n",
       "  <th>converged:</th>             <td>True</td>       <th>  LL-Null:           </th> <td> -1849.5</td>\n",
       "</tr>\n",
       "<tr>\n",
       "  <th>Covariance Type:</th>     <td>nonrobust</td>    <th>  LLR p-value:       </th>  <td> 1.000</td> \n",
       "</tr>\n",
       "</table>\n",
       "<table class=\"simpletable\">\n",
       "<tr>\n",
       "            <td></td>               <th>coef</th>     <th>std err</th>      <th>z</th>      <th>P>|z|</th>  <th>[0.025</th>    <th>0.975]</th>  \n",
       "</tr>\n",
       "<tr>\n",
       "  <th>qtd_filhos</th>            <td>    0.8266</td> <td>    0.131</td> <td>    6.290</td> <td> 0.000</td> <td>    0.569</td> <td>    1.084</td>\n",
       "</tr>\n",
       "<tr>\n",
       "  <th>idade</th>                 <td>   -0.0530</td> <td>    0.004</td> <td>  -14.598</td> <td> 0.000</td> <td>   -0.060</td> <td>   -0.046</td>\n",
       "</tr>\n",
       "<tr>\n",
       "  <th>tempo_emprego</th>         <td>   -0.0010</td> <td>    0.000</td> <td>   -5.846</td> <td> 0.000</td> <td>   -0.001</td> <td>   -0.001</td>\n",
       "</tr>\n",
       "<tr>\n",
       "  <th>qt_pessoas_residencia</th> <td>   -0.8893</td> <td>    0.087</td> <td>  -10.271</td> <td> 0.000</td> <td>   -1.059</td> <td>   -0.720</td>\n",
       "</tr>\n",
       "<tr>\n",
       "  <th>possui_email</th>          <td>   -0.3263</td> <td>    0.192</td> <td>   -1.696</td> <td> 0.090</td> <td>   -0.703</td> <td>    0.051</td>\n",
       "</tr>\n",
       "</table>"
      ],
      "text/latex": [
       "\\begin{center}\n",
       "\\begin{tabular}{lclc}\n",
       "\\toprule\n",
       "\\textbf{Dep. Variable:}          &       mau        & \\textbf{  No. Observations:  } &    16650    \\\\\n",
       "\\textbf{Model:}                  &      Logit       & \\textbf{  Df Residuals:      } &    16645    \\\\\n",
       "\\textbf{Method:}                 &       MLE        & \\textbf{  Df Model:          } &        4    \\\\\n",
       "\\textbf{Date:}                   & Fri, 21 Jul 2023 & \\textbf{  Pseudo R-squ.:     } &  -0.01189   \\\\\n",
       "\\textbf{Time:}                   &     20:19:12     & \\textbf{  Log-Likelihood:    } &   -1871.5   \\\\\n",
       "\\textbf{converged:}              &       True       & \\textbf{  LL-Null:           } &   -1849.5   \\\\\n",
       "\\textbf{Covariance Type:}        &    nonrobust     & \\textbf{  LLR p-value:       } &    1.000    \\\\\n",
       "\\bottomrule\n",
       "\\end{tabular}\n",
       "\\begin{tabular}{lcccccc}\n",
       "                                 & \\textbf{coef} & \\textbf{std err} & \\textbf{z} & \\textbf{P$> |$z$|$} & \\textbf{[0.025} & \\textbf{0.975]}  \\\\\n",
       "\\midrule\n",
       "\\textbf{qtd\\_filhos}             &       0.8266  &        0.131     &     6.290  &         0.000        &        0.569    &        1.084     \\\\\n",
       "\\textbf{idade}                   &      -0.0530  &        0.004     &   -14.598  &         0.000        &       -0.060    &       -0.046     \\\\\n",
       "\\textbf{tempo\\_emprego}          &      -0.0010  &        0.000     &    -5.846  &         0.000        &       -0.001    &       -0.001     \\\\\n",
       "\\textbf{qt\\_pessoas\\_residencia} &      -0.8893  &        0.087     &   -10.271  &         0.000        &       -1.059    &       -0.720     \\\\\n",
       "\\textbf{possui\\_email}           &      -0.3263  &        0.192     &    -1.696  &         0.090        &       -0.703    &        0.051     \\\\\n",
       "\\bottomrule\n",
       "\\end{tabular}\n",
       "%\\caption{Logit Regression Results}\n",
       "\\end{center}"
      ],
      "text/plain": [
       "<class 'statsmodels.iolib.summary.Summary'>\n",
       "\"\"\"\n",
       "                           Logit Regression Results                           \n",
       "==============================================================================\n",
       "Dep. Variable:                    mau   No. Observations:                16650\n",
       "Model:                          Logit   Df Residuals:                    16645\n",
       "Method:                           MLE   Df Model:                            4\n",
       "Date:                Fri, 21 Jul 2023   Pseudo R-squ.:                -0.01189\n",
       "Time:                        20:19:12   Log-Likelihood:                -1871.5\n",
       "converged:                       True   LL-Null:                       -1849.5\n",
       "Covariance Type:            nonrobust   LLR p-value:                     1.000\n",
       "=========================================================================================\n",
       "                            coef    std err          z      P>|z|      [0.025      0.975]\n",
       "-----------------------------------------------------------------------------------------\n",
       "qtd_filhos                0.8266      0.131      6.290      0.000       0.569       1.084\n",
       "idade                    -0.0530      0.004    -14.598      0.000      -0.060      -0.046\n",
       "tempo_emprego            -0.0010      0.000     -5.846      0.000      -0.001      -0.001\n",
       "qt_pessoas_residencia    -0.8893      0.087    -10.271      0.000      -1.059      -0.720\n",
       "possui_email             -0.3263      0.192     -1.696      0.090      -0.703       0.051\n",
       "=========================================================================================\n",
       "\"\"\""
      ]
     },
     "execution_count": 18,
     "metadata": {},
     "output_type": "execute_result"
    }
   ],
   "source": [
    "log_reg.summary()"
   ]
  },
  {
   "cell_type": "code",
   "execution_count": 25,
   "metadata": {},
   "outputs": [
    {
     "data": {
      "text/html": [
       "<div>\n",
       "<style scoped>\n",
       "    .dataframe tbody tr th:only-of-type {\n",
       "        vertical-align: middle;\n",
       "    }\n",
       "\n",
       "    .dataframe tbody tr th {\n",
       "        vertical-align: top;\n",
       "    }\n",
       "\n",
       "    .dataframe thead th {\n",
       "        text-align: right;\n",
       "    }\n",
       "</style>\n",
       "<table border=\"1\" class=\"dataframe\">\n",
       "  <thead>\n",
       "    <tr style=\"text-align: right;\">\n",
       "      <th></th>\n",
       "      <th>0</th>\n",
       "    </tr>\n",
       "  </thead>\n",
       "  <tbody>\n",
       "    <tr>\n",
       "      <th>qtd_filhos</th>\n",
       "      <td>0.826553</td>\n",
       "    </tr>\n",
       "    <tr>\n",
       "      <th>idade</th>\n",
       "      <td>-0.052973</td>\n",
       "    </tr>\n",
       "    <tr>\n",
       "      <th>tempo_emprego</th>\n",
       "      <td>-0.000953</td>\n",
       "    </tr>\n",
       "    <tr>\n",
       "      <th>qt_pessoas_residencia</th>\n",
       "      <td>-0.889271</td>\n",
       "    </tr>\n",
       "    <tr>\n",
       "      <th>possui_email</th>\n",
       "      <td>-0.326308</td>\n",
       "    </tr>\n",
       "  </tbody>\n",
       "</table>\n",
       "</div>"
      ],
      "text/plain": [
       "                              0\n",
       "qtd_filhos             0.826553\n",
       "idade                 -0.052973\n",
       "tempo_emprego         -0.000953\n",
       "qt_pessoas_residencia -0.889271\n",
       "possui_email          -0.326308"
      ]
     },
     "execution_count": 25,
     "metadata": {},
     "output_type": "execute_result"
    }
   ],
   "source": [
    "log_reg.params.to_frame()"
   ]
  },
  {
   "cell_type": "code",
   "execution_count": 20,
   "metadata": {},
   "outputs": [
    {
     "data": {
      "text/html": [
       "<style type=\"text/css\">\n",
       "#T_45d67_row0_col1 {\n",
       "  width: 10em;\n",
       "  background: linear-gradient(90deg, transparent 50.0%, darkgreen 50.0%, darkgreen 96.6%, transparent 96.6%);\n",
       "}\n",
       "#T_45d67_row1_col1 {\n",
       "  width: 10em;\n",
       "}\n",
       "#T_45d67_row2_col1 {\n",
       "  width: 10em;\n",
       "  background: linear-gradient(90deg, transparent 47.2%, grey 47.2%, grey 50.0%, transparent 50.0%);\n",
       "}\n",
       "#T_45d67_row3_col1 {\n",
       "  width: 10em;\n",
       "  background: linear-gradient(90deg, transparent 31.5%, grey 31.5%, grey 50.0%, transparent 50.0%);\n",
       "}\n",
       "#T_45d67_row4_col1 {\n",
       "  width: 10em;\n",
       "  background: linear-gradient(90deg, grey 50.0%, transparent 50.0%);\n",
       "}\n",
       "</style>\n",
       "<table id=\"T_45d67\">\n",
       "  <thead>\n",
       "    <tr>\n",
       "      <th class=\"blank level0\" >&nbsp;</th>\n",
       "      <th id=\"T_45d67_level0_col0\" class=\"col_heading level0 col0\" >Variavel</th>\n",
       "      <th id=\"T_45d67_level0_col1\" class=\"col_heading level0 col1\" >Coef</th>\n",
       "    </tr>\n",
       "  </thead>\n",
       "  <tbody>\n",
       "    <tr>\n",
       "      <th id=\"T_45d67_level0_row0\" class=\"row_heading level0 row0\" >0</th>\n",
       "      <td id=\"T_45d67_row0_col0\" class=\"data row0 col0\" >qtd_filhos</td>\n",
       "      <td id=\"T_45d67_row0_col1\" class=\"data row0 col1\" >0.830000</td>\n",
       "    </tr>\n",
       "    <tr>\n",
       "      <th id=\"T_45d67_level0_row1\" class=\"row_heading level0 row1\" >2</th>\n",
       "      <td id=\"T_45d67_row1_col0\" class=\"data row1 col0\" >tempo_emprego</td>\n",
       "      <td id=\"T_45d67_row1_col1\" class=\"data row1 col1\" >-0.000000</td>\n",
       "    </tr>\n",
       "    <tr>\n",
       "      <th id=\"T_45d67_level0_row2\" class=\"row_heading level0 row2\" >1</th>\n",
       "      <td id=\"T_45d67_row2_col0\" class=\"data row2 col0\" >idade</td>\n",
       "      <td id=\"T_45d67_row2_col1\" class=\"data row2 col1\" >-0.050000</td>\n",
       "    </tr>\n",
       "    <tr>\n",
       "      <th id=\"T_45d67_level0_row3\" class=\"row_heading level0 row3\" >4</th>\n",
       "      <td id=\"T_45d67_row3_col0\" class=\"data row3 col0\" >possui_email</td>\n",
       "      <td id=\"T_45d67_row3_col1\" class=\"data row3 col1\" >-0.330000</td>\n",
       "    </tr>\n",
       "    <tr>\n",
       "      <th id=\"T_45d67_level0_row4\" class=\"row_heading level0 row4\" >3</th>\n",
       "      <td id=\"T_45d67_row4_col0\" class=\"data row4 col0\" >qt_pessoas_residencia</td>\n",
       "      <td id=\"T_45d67_row4_col1\" class=\"data row4 col1\" >-0.890000</td>\n",
       "    </tr>\n",
       "  </tbody>\n",
       "</table>\n"
      ],
      "text/plain": [
       "<pandas.io.formats.style.Styler at 0x24cb4517490>"
      ]
     },
     "execution_count": 20,
     "metadata": {},
     "output_type": "execute_result"
    }
   ],
   "source": [
    "(log_reg.params.to_frame()\n",
    "    .reset_index()\n",
    "    .rename(columns={'index':'Variavel', 0:'Coef'})\n",
    "    .round(decimals=2)\n",
    "    .sort_values('Coef', ascending=False)\n",
    "    .style.bar(color=['grey', 'darkgreen'], align='zero')\n",
    ")"
   ]
  },
  {
   "cell_type": "code",
   "execution_count": 21,
   "metadata": {},
   "outputs": [
    {
     "data": {
      "text/html": [
       "<style type=\"text/css\">\n",
       "#T_3f0d8_row0_col1 {\n",
       "  width: 10em;\n",
       "  background: linear-gradient(90deg, transparent 50.0%, darkgreen 50.0%, darkgreen 96.6%, transparent 96.6%);\n",
       "}\n",
       "#T_3f0d8_row1_col1 {\n",
       "  width: 10em;\n",
       "}\n",
       "#T_3f0d8_row2_col1 {\n",
       "  width: 10em;\n",
       "  background: linear-gradient(90deg, transparent 47.2%, grey 47.2%, grey 50.0%, transparent 50.0%);\n",
       "}\n",
       "#T_3f0d8_row3_col1 {\n",
       "  width: 10em;\n",
       "  background: linear-gradient(90deg, transparent 31.5%, grey 31.5%, grey 50.0%, transparent 50.0%);\n",
       "}\n",
       "#T_3f0d8_row4_col1 {\n",
       "  width: 10em;\n",
       "  background: linear-gradient(90deg, grey 50.0%, transparent 50.0%);\n",
       "}\n",
       "</style>\n",
       "<table id=\"T_3f0d8\">\n",
       "  <thead>\n",
       "    <tr>\n",
       "      <th class=\"blank level0\" >&nbsp;</th>\n",
       "      <th id=\"T_3f0d8_level0_col0\" class=\"col_heading level0 col0\" >variavel</th>\n",
       "      <th id=\"T_3f0d8_level0_col1\" class=\"col_heading level0 col1\" >coef</th>\n",
       "    </tr>\n",
       "  </thead>\n",
       "  <tbody>\n",
       "    <tr>\n",
       "      <th id=\"T_3f0d8_level0_row0\" class=\"row_heading level0 row0\" >0</th>\n",
       "      <td id=\"T_3f0d8_row0_col0\" class=\"data row0 col0\" >qtd_filhos</td>\n",
       "      <td id=\"T_3f0d8_row0_col1\" class=\"data row0 col1\" >0.830000</td>\n",
       "    </tr>\n",
       "    <tr>\n",
       "      <th id=\"T_3f0d8_level0_row1\" class=\"row_heading level0 row1\" >2</th>\n",
       "      <td id=\"T_3f0d8_row1_col0\" class=\"data row1 col0\" >tempo_emprego</td>\n",
       "      <td id=\"T_3f0d8_row1_col1\" class=\"data row1 col1\" >-0.000000</td>\n",
       "    </tr>\n",
       "    <tr>\n",
       "      <th id=\"T_3f0d8_level0_row2\" class=\"row_heading level0 row2\" >1</th>\n",
       "      <td id=\"T_3f0d8_row2_col0\" class=\"data row2 col0\" >idade</td>\n",
       "      <td id=\"T_3f0d8_row2_col1\" class=\"data row2 col1\" >-0.050000</td>\n",
       "    </tr>\n",
       "    <tr>\n",
       "      <th id=\"T_3f0d8_level0_row3\" class=\"row_heading level0 row3\" >4</th>\n",
       "      <td id=\"T_3f0d8_row3_col0\" class=\"data row3 col0\" >possui_email</td>\n",
       "      <td id=\"T_3f0d8_row3_col1\" class=\"data row3 col1\" >-0.330000</td>\n",
       "    </tr>\n",
       "    <tr>\n",
       "      <th id=\"T_3f0d8_level0_row4\" class=\"row_heading level0 row4\" >3</th>\n",
       "      <td id=\"T_3f0d8_row4_col0\" class=\"data row4 col0\" >qt_pessoas_residencia</td>\n",
       "      <td id=\"T_3f0d8_row4_col1\" class=\"data row4 col1\" >-0.890000</td>\n",
       "    </tr>\n",
       "  </tbody>\n",
       "</table>\n"
      ],
      "text/plain": [
       "<pandas.io.formats.style.Styler at 0x24cb45b5de0>"
      ]
     },
     "execution_count": 21,
     "metadata": {},
     "output_type": "execute_result"
    }
   ],
   "source": [
    "(log_reg.params.to_frame()\n",
    "    .reset_index()\n",
    "    .rename(columns={'index':'variavel',0:'coef'})\n",
    "    .round(2) \n",
    "    .sort_values('coef', ascending=False) \n",
    "    .style.bar(color=['grey', 'darkgreen'], align='zero'))"
   ]
  },
  {
   "cell_type": "code",
   "execution_count": 22,
   "metadata": {},
   "outputs": [
    {
     "name": "stdout",
     "output_type": "stream",
     "text": [
      "Feature importances:  [0.02365222 0.54820924 0.37333807 0.02514652 0.00706579 0.01139991\n",
      " 0.01118825]\n",
      "Variáveis:  ['qtd_filhos', 'idade', 'tempo_emprego', 'qt_pessoas_residencia', 'possui_email', 'possui_fone', 'possui_fone_comercial']\n"
     ]
    }
   ],
   "source": [
    "import pandas as pd\n",
    "from sklearn.ensemble import RandomForestClassifier\n",
    "\n",
    "df = pd.read_csv('./input/dados.csv')\n",
    "\n",
    "rf = RandomForestClassifier()\n",
    "cols = [\n",
    "    'qtd_filhos', 'idade', 'tempo_emprego', 'qt_pessoas_residencia',\n",
    "    'possui_email', 'possui_fone', 'possui_fone_comercial'\n",
    "]\n",
    "rf.fit(df[cols], df['mau'])\n",
    "\n",
    "print('Feature importances: ',rf.feature_importances_)\n",
    "print('Variáveis: ',cols)"
   ]
  },
  {
   "cell_type": "code",
   "execution_count": 23,
   "metadata": {},
   "outputs": [
    {
     "data": {
      "text/html": [
       "<style type=\"text/css\">\n",
       "#T_934af_row0_col1 {\n",
       "  width: 10em;\n",
       "  background: linear-gradient(90deg, transparent 50.0%, darkgreen 50.0%, darkgreen 100.0%, transparent 100.0%);\n",
       "}\n",
       "#T_934af_row1_col1 {\n",
       "  width: 10em;\n",
       "  background: linear-gradient(90deg, transparent 50.0%, darkgreen 50.0%, darkgreen 83.6%, transparent 83.6%);\n",
       "}\n",
       "#T_934af_row2_col1 {\n",
       "  width: 10em;\n",
       "  background: linear-gradient(90deg, transparent 50.0%, darkgreen 50.0%, darkgreen 52.7%, transparent 52.7%);\n",
       "}\n",
       "#T_934af_row3_col1 {\n",
       "  width: 10em;\n",
       "  background: linear-gradient(90deg, transparent 50.0%, darkgreen 50.0%, darkgreen 51.8%, transparent 51.8%);\n",
       "}\n",
       "#T_934af_row4_col1, #T_934af_row5_col1, #T_934af_row6_col1 {\n",
       "  width: 10em;\n",
       "  background: linear-gradient(90deg, transparent 50.0%, darkgreen 50.0%, darkgreen 50.9%, transparent 50.9%);\n",
       "}\n",
       "</style>\n",
       "<table id=\"T_934af\">\n",
       "  <thead>\n",
       "    <tr>\n",
       "      <th class=\"blank level0\" >&nbsp;</th>\n",
       "      <th id=\"T_934af_level0_col0\" class=\"col_heading level0 col0\" >variavel</th>\n",
       "      <th id=\"T_934af_level0_col1\" class=\"col_heading level0 col1\" >featimp</th>\n",
       "    </tr>\n",
       "  </thead>\n",
       "  <tbody>\n",
       "    <tr>\n",
       "      <th id=\"T_934af_level0_row0\" class=\"row_heading level0 row0\" >1</th>\n",
       "      <td id=\"T_934af_row0_col0\" class=\"data row0 col0\" >idade</td>\n",
       "      <td id=\"T_934af_row0_col1\" class=\"data row0 col1\" >0.550000</td>\n",
       "    </tr>\n",
       "    <tr>\n",
       "      <th id=\"T_934af_level0_row1\" class=\"row_heading level0 row1\" >2</th>\n",
       "      <td id=\"T_934af_row1_col0\" class=\"data row1 col0\" >tempo_emprego</td>\n",
       "      <td id=\"T_934af_row1_col1\" class=\"data row1 col1\" >0.370000</td>\n",
       "    </tr>\n",
       "    <tr>\n",
       "      <th id=\"T_934af_level0_row2\" class=\"row_heading level0 row2\" >3</th>\n",
       "      <td id=\"T_934af_row2_col0\" class=\"data row2 col0\" >qt_pessoas_residencia</td>\n",
       "      <td id=\"T_934af_row2_col1\" class=\"data row2 col1\" >0.030000</td>\n",
       "    </tr>\n",
       "    <tr>\n",
       "      <th id=\"T_934af_level0_row3\" class=\"row_heading level0 row3\" >0</th>\n",
       "      <td id=\"T_934af_row3_col0\" class=\"data row3 col0\" >qtd_filhos</td>\n",
       "      <td id=\"T_934af_row3_col1\" class=\"data row3 col1\" >0.020000</td>\n",
       "    </tr>\n",
       "    <tr>\n",
       "      <th id=\"T_934af_level0_row4\" class=\"row_heading level0 row4\" >4</th>\n",
       "      <td id=\"T_934af_row4_col0\" class=\"data row4 col0\" >possui_email</td>\n",
       "      <td id=\"T_934af_row4_col1\" class=\"data row4 col1\" >0.010000</td>\n",
       "    </tr>\n",
       "    <tr>\n",
       "      <th id=\"T_934af_level0_row5\" class=\"row_heading level0 row5\" >5</th>\n",
       "      <td id=\"T_934af_row5_col0\" class=\"data row5 col0\" >possui_fone</td>\n",
       "      <td id=\"T_934af_row5_col1\" class=\"data row5 col1\" >0.010000</td>\n",
       "    </tr>\n",
       "    <tr>\n",
       "      <th id=\"T_934af_level0_row6\" class=\"row_heading level0 row6\" >6</th>\n",
       "      <td id=\"T_934af_row6_col0\" class=\"data row6 col0\" >possui_fone_comercial</td>\n",
       "      <td id=\"T_934af_row6_col1\" class=\"data row6 col1\" >0.010000</td>\n",
       "    </tr>\n",
       "  </tbody>\n",
       "</table>\n"
      ],
      "text/plain": [
       "<pandas.io.formats.style.Styler at 0x24cab564fd0>"
      ]
     },
     "execution_count": 23,
     "metadata": {},
     "output_type": "execute_result"
    }
   ],
   "source": [
    "(pd.DataFrame({\n",
    "            'variavel': cols,\n",
    "            'featimp': rf.feature_importances_})\n",
    "            .round(2)\n",
    "            .sort_values('featimp', ascending=False)\n",
    "            .style.bar(color=['grey', 'darkgreen'], align='zero')\n",
    ")"
   ]
  },
  {
   "cell_type": "code",
   "execution_count": 24,
   "metadata": {},
   "outputs": [
    {
     "data": {
      "text/html": [
       "<style type=\"text/css\">\n",
       "#T_a64f9_row0_col1 {\n",
       "  width: 10em;\n",
       "  background: linear-gradient(90deg, transparent 50.0%, darkgreen 50.0%, darkgreen 100.0%, transparent 100.0%);\n",
       "}\n",
       "#T_a64f9_row1_col1 {\n",
       "  width: 10em;\n",
       "  background: linear-gradient(90deg, transparent 50.0%, darkgreen 50.0%, darkgreen 83.6%, transparent 83.6%);\n",
       "}\n",
       "#T_a64f9_row2_col1 {\n",
       "  width: 10em;\n",
       "  background: linear-gradient(90deg, transparent 50.0%, darkgreen 50.0%, darkgreen 52.7%, transparent 52.7%);\n",
       "}\n",
       "#T_a64f9_row3_col1 {\n",
       "  width: 10em;\n",
       "  background: linear-gradient(90deg, transparent 50.0%, darkgreen 50.0%, darkgreen 51.8%, transparent 51.8%);\n",
       "}\n",
       "#T_a64f9_row4_col1, #T_a64f9_row5_col1, #T_a64f9_row6_col1 {\n",
       "  width: 10em;\n",
       "  background: linear-gradient(90deg, transparent 50.0%, darkgreen 50.0%, darkgreen 50.9%, transparent 50.9%);\n",
       "}\n",
       "</style>\n",
       "<table id=\"T_a64f9\">\n",
       "  <thead>\n",
       "    <tr>\n",
       "      <th class=\"blank level0\" >&nbsp;</th>\n",
       "      <th id=\"T_a64f9_level0_col0\" class=\"col_heading level0 col0\" >variavel</th>\n",
       "      <th id=\"T_a64f9_level0_col1\" class=\"col_heading level0 col1\" >featimp</th>\n",
       "    </tr>\n",
       "  </thead>\n",
       "  <tbody>\n",
       "    <tr>\n",
       "      <th id=\"T_a64f9_level0_row0\" class=\"row_heading level0 row0\" >1</th>\n",
       "      <td id=\"T_a64f9_row0_col0\" class=\"data row0 col0\" >idade</td>\n",
       "      <td id=\"T_a64f9_row0_col1\" class=\"data row0 col1\" >0.550000</td>\n",
       "    </tr>\n",
       "    <tr>\n",
       "      <th id=\"T_a64f9_level0_row1\" class=\"row_heading level0 row1\" >2</th>\n",
       "      <td id=\"T_a64f9_row1_col0\" class=\"data row1 col0\" >tempo_emprego</td>\n",
       "      <td id=\"T_a64f9_row1_col1\" class=\"data row1 col1\" >0.370000</td>\n",
       "    </tr>\n",
       "    <tr>\n",
       "      <th id=\"T_a64f9_level0_row2\" class=\"row_heading level0 row2\" >3</th>\n",
       "      <td id=\"T_a64f9_row2_col0\" class=\"data row2 col0\" >qt_pessoas_residencia</td>\n",
       "      <td id=\"T_a64f9_row2_col1\" class=\"data row2 col1\" >0.030000</td>\n",
       "    </tr>\n",
       "    <tr>\n",
       "      <th id=\"T_a64f9_level0_row3\" class=\"row_heading level0 row3\" >0</th>\n",
       "      <td id=\"T_a64f9_row3_col0\" class=\"data row3 col0\" >qtd_filhos</td>\n",
       "      <td id=\"T_a64f9_row3_col1\" class=\"data row3 col1\" >0.020000</td>\n",
       "    </tr>\n",
       "    <tr>\n",
       "      <th id=\"T_a64f9_level0_row4\" class=\"row_heading level0 row4\" >4</th>\n",
       "      <td id=\"T_a64f9_row4_col0\" class=\"data row4 col0\" >possui_email</td>\n",
       "      <td id=\"T_a64f9_row4_col1\" class=\"data row4 col1\" >0.010000</td>\n",
       "    </tr>\n",
       "    <tr>\n",
       "      <th id=\"T_a64f9_level0_row5\" class=\"row_heading level0 row5\" >5</th>\n",
       "      <td id=\"T_a64f9_row5_col0\" class=\"data row5 col0\" >possui_fone</td>\n",
       "      <td id=\"T_a64f9_row5_col1\" class=\"data row5 col1\" >0.010000</td>\n",
       "    </tr>\n",
       "    <tr>\n",
       "      <th id=\"T_a64f9_level0_row6\" class=\"row_heading level0 row6\" >6</th>\n",
       "      <td id=\"T_a64f9_row6_col0\" class=\"data row6 col0\" >possui_fone_comercial</td>\n",
       "      <td id=\"T_a64f9_row6_col1\" class=\"data row6 col1\" >0.010000</td>\n",
       "    </tr>\n",
       "  </tbody>\n",
       "</table>\n"
      ],
      "text/plain": [
       "<pandas.io.formats.style.Styler at 0x24ca9a255a0>"
      ]
     },
     "execution_count": 24,
     "metadata": {},
     "output_type": "execute_result"
    }
   ],
   "source": [
    "(pd.DataFrame({\n",
    "            'variavel': cols,\n",
    "            'featimp': rf.feature_importances_}) \n",
    "    .round(decimals=2) \n",
    "    .sort_values('featimp', ascending=False) \n",
    "    .style.bar(color=['grey', 'darkgreen'], align='zero')\n",
    ")"
   ]
  },
  {
   "cell_type": "code",
   "execution_count": null,
   "metadata": {},
   "outputs": [],
   "source": []
  }
 ],
 "metadata": {
  "kernelspec": {
   "display_name": "Python 3",
   "language": "python",
   "name": "python3"
  },
  "language_info": {
   "codemirror_mode": {
    "name": "ipython",
    "version": 3
   },
   "file_extension": ".py",
   "mimetype": "text/x-python",
   "name": "python",
   "nbconvert_exporter": "python",
   "pygments_lexer": "ipython3",
   "version": "3.10.11"
  },
  "varInspector": {
   "cols": {
    "lenName": 16,
    "lenType": 16,
    "lenVar": 40
   },
   "kernels_config": {
    "python": {
     "delete_cmd_postfix": "",
     "delete_cmd_prefix": "del ",
     "library": "var_list.py",
     "varRefreshCmd": "print(var_dic_list())"
    },
    "r": {
     "delete_cmd_postfix": ") ",
     "delete_cmd_prefix": "rm(",
     "library": "var_list.r",
     "varRefreshCmd": "cat(var_dic_list()) "
    }
   },
   "types_to_exclude": [
    "module",
    "function",
    "builtin_function_or_method",
    "instance",
    "_Feature"
   ],
   "window_display": false
  }
 },
 "nbformat": 4,
 "nbformat_minor": 4
}
