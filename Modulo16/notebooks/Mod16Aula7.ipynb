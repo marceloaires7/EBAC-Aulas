{
 "cells": [
  {
   "cell_type": "markdown",
   "metadata": {},
   "source": [
    "- *Method chaining* (encadeamento de métodos)\n",
    "\t- `.assign()`\n",
    "\t- `.pipe()`\n",
    "- `for` vs *List comprehension*\n",
    "- Usando `.apply()`\n",
    "- `.apply(axis = 0)`\n",
    "- Barra de progresso usando `tqdm` \n",
    "- Pandas Profiling para exploração dos dados e para garantir a qualidade dos dados\n",
    "- __Mostrar o dataframe usando o `style`__\n",
    "- Copiar e colar no Excel `.to_clipboard()`\n",
    "- Funções de janela móvel (*window functions*)\n",
    "- Fechamento 2o projeto"
   ]
  },
  {
   "cell_type": "markdown",
   "metadata": {},
   "source": [
    "# Mostrar o dataframe usando o `style`"
   ]
  },
  {
   "cell_type": "code",
   "execution_count": 18,
   "metadata": {},
   "outputs": [
    {
     "data": {
      "text/html": [
       "<div>\n",
       "<style scoped>\n",
       "    .dataframe tbody tr th:only-of-type {\n",
       "        vertical-align: middle;\n",
       "    }\n",
       "\n",
       "    .dataframe tbody tr th {\n",
       "        vertical-align: top;\n",
       "    }\n",
       "\n",
       "    .dataframe thead th {\n",
       "        text-align: right;\n",
       "    }\n",
       "</style>\n",
       "<table border=\"1\" class=\"dataframe\">\n",
       "  <thead>\n",
       "    <tr style=\"text-align: right;\">\n",
       "      <th></th>\n",
       "      <th>sexo</th>\n",
       "      <th>posse_de_veiculo</th>\n",
       "      <th>posse_de_imovel</th>\n",
       "      <th>qtd_filhos</th>\n",
       "      <th>tipo_renda</th>\n",
       "      <th>educacao</th>\n",
       "      <th>estado_civil</th>\n",
       "      <th>tipo_residencia</th>\n",
       "      <th>idade</th>\n",
       "      <th>tempo_emprego</th>\n",
       "      <th>possui_celular</th>\n",
       "      <th>possui_fone_comercial</th>\n",
       "      <th>possui_fone</th>\n",
       "      <th>possui_email</th>\n",
       "      <th>qt_pessoas_residencia</th>\n",
       "      <th>mau</th>\n",
       "    </tr>\n",
       "  </thead>\n",
       "  <tbody>\n",
       "    <tr>\n",
       "      <th>0</th>\n",
       "      <td>M</td>\n",
       "      <td>Y</td>\n",
       "      <td>Y</td>\n",
       "      <td>0</td>\n",
       "      <td>Working</td>\n",
       "      <td>Secondary / secondary special</td>\n",
       "      <td>Married</td>\n",
       "      <td>House / apartment</td>\n",
       "      <td>58.832877</td>\n",
       "      <td>3.106849</td>\n",
       "      <td>1</td>\n",
       "      <td>0</td>\n",
       "      <td>0</td>\n",
       "      <td>0</td>\n",
       "      <td>2.0</td>\n",
       "      <td>False</td>\n",
       "    </tr>\n",
       "    <tr>\n",
       "      <th>1</th>\n",
       "      <td>F</td>\n",
       "      <td>N</td>\n",
       "      <td>Y</td>\n",
       "      <td>0</td>\n",
       "      <td>Commercial associate</td>\n",
       "      <td>Secondary / secondary special</td>\n",
       "      <td>Single / not married</td>\n",
       "      <td>House / apartment</td>\n",
       "      <td>52.356164</td>\n",
       "      <td>8.358904</td>\n",
       "      <td>1</td>\n",
       "      <td>0</td>\n",
       "      <td>1</td>\n",
       "      <td>1</td>\n",
       "      <td>1.0</td>\n",
       "      <td>False</td>\n",
       "    </tr>\n",
       "    <tr>\n",
       "      <th>2</th>\n",
       "      <td>F</td>\n",
       "      <td>N</td>\n",
       "      <td>Y</td>\n",
       "      <td>0</td>\n",
       "      <td>Commercial associate</td>\n",
       "      <td>Secondary / secondary special</td>\n",
       "      <td>Single / not married</td>\n",
       "      <td>House / apartment</td>\n",
       "      <td>52.356164</td>\n",
       "      <td>8.358904</td>\n",
       "      <td>1</td>\n",
       "      <td>0</td>\n",
       "      <td>1</td>\n",
       "      <td>1</td>\n",
       "      <td>1.0</td>\n",
       "      <td>False</td>\n",
       "    </tr>\n",
       "    <tr>\n",
       "      <th>3</th>\n",
       "      <td>M</td>\n",
       "      <td>Y</td>\n",
       "      <td>Y</td>\n",
       "      <td>0</td>\n",
       "      <td>Working</td>\n",
       "      <td>Higher education</td>\n",
       "      <td>Married</td>\n",
       "      <td>House / apartment</td>\n",
       "      <td>46.224658</td>\n",
       "      <td>2.106849</td>\n",
       "      <td>1</td>\n",
       "      <td>1</td>\n",
       "      <td>1</td>\n",
       "      <td>1</td>\n",
       "      <td>2.0</td>\n",
       "      <td>False</td>\n",
       "    </tr>\n",
       "    <tr>\n",
       "      <th>4</th>\n",
       "      <td>F</td>\n",
       "      <td>Y</td>\n",
       "      <td>N</td>\n",
       "      <td>0</td>\n",
       "      <td>Working</td>\n",
       "      <td>Incomplete higher</td>\n",
       "      <td>Married</td>\n",
       "      <td>House / apartment</td>\n",
       "      <td>29.230137</td>\n",
       "      <td>3.021918</td>\n",
       "      <td>1</td>\n",
       "      <td>0</td>\n",
       "      <td>0</td>\n",
       "      <td>0</td>\n",
       "      <td>2.0</td>\n",
       "      <td>False</td>\n",
       "    </tr>\n",
       "  </tbody>\n",
       "</table>\n",
       "</div>"
      ],
      "text/plain": [
       "  sexo posse_de_veiculo posse_de_imovel  qtd_filhos            tipo_renda  \\\n",
       "0    M                Y               Y           0               Working   \n",
       "1    F                N               Y           0  Commercial associate   \n",
       "2    F                N               Y           0  Commercial associate   \n",
       "3    M                Y               Y           0               Working   \n",
       "4    F                Y               N           0               Working   \n",
       "\n",
       "                        educacao          estado_civil    tipo_residencia  \\\n",
       "0  Secondary / secondary special               Married  House / apartment   \n",
       "1  Secondary / secondary special  Single / not married  House / apartment   \n",
       "2  Secondary / secondary special  Single / not married  House / apartment   \n",
       "3               Higher education               Married  House / apartment   \n",
       "4              Incomplete higher               Married  House / apartment   \n",
       "\n",
       "       idade  tempo_emprego  possui_celular  possui_fone_comercial  \\\n",
       "0  58.832877       3.106849               1                      0   \n",
       "1  52.356164       8.358904               1                      0   \n",
       "2  52.356164       8.358904               1                      0   \n",
       "3  46.224658       2.106849               1                      1   \n",
       "4  29.230137       3.021918               1                      0   \n",
       "\n",
       "   possui_fone  possui_email  qt_pessoas_residencia    mau  \n",
       "0            0             0                    2.0  False  \n",
       "1            1             1                    1.0  False  \n",
       "2            1             1                    1.0  False  \n",
       "3            1             1                    2.0  False  \n",
       "4            0             0                    2.0  False  "
      ]
     },
     "execution_count": 18,
     "metadata": {},
     "output_type": "execute_result"
    }
   ],
   "source": [
    "df.head()"
   ]
  },
  {
   "cell_type": "code",
   "execution_count": 19,
   "metadata": {},
   "outputs": [
    {
     "ename": "NameError",
     "evalue": "name 'rf' is not defined",
     "output_type": "error",
     "traceback": [
      "\u001b[1;31m---------------------------------------------------------------------------\u001b[0m",
      "\u001b[1;31mNameError\u001b[0m                                 Traceback (most recent call last)",
      "Cell \u001b[1;32mIn[19], line 1\u001b[0m\n\u001b[1;32m----> 1\u001b[0m rf\u001b[39m.\u001b[39mfeature_importances_\n",
      "\u001b[1;31mNameError\u001b[0m: name 'rf' is not defined"
     ]
    }
   ],
   "source": [
    "rf.feature_importances_"
   ]
  },
  {
   "cell_type": "code",
   "execution_count": null,
   "metadata": {},
   "outputs": [
    {
     "name": "stdout",
     "output_type": "stream",
     "text": [
      "Optimization terminated successfully.\n",
      "         Current function value: 0.112400\n",
      "         Iterations 8\n"
     ]
    }
   ],
   "source": [
    "import statsmodels.api as sm\n",
    "import pandas as pd\n",
    " \n",
    "# loading the training dataset\n",
    "df = pd.read_csv('./input/dados.csv')\n",
    "\n",
    "cols = [\n",
    "    'qtd_filhos', 'idade', 'tempo_emprego', 'qt_pessoas_residencia',\n",
    "    'possui_email'\n",
    "]\n",
    "# defining the dependent and independent variables\n",
    "Xtrain = df[cols]\n",
    "ytrain = df[['mau']]\n",
    "  \n",
    "# building the model and fitting the data\n",
    "log_reg = sm.Logit(ytrain, Xtrain).fit()"
   ]
  },
  {
   "cell_type": "code",
   "execution_count": null,
   "metadata": {},
   "outputs": [
    {
     "data": {
      "text/html": [
       "<table class=\"simpletable\">\n",
       "<caption>Logit Regression Results</caption>\n",
       "<tr>\n",
       "  <th>Dep. Variable:</th>          <td>mau</td>       <th>  No. Observations:  </th>  <td> 16650</td> \n",
       "</tr>\n",
       "<tr>\n",
       "  <th>Model:</th>                 <td>Logit</td>      <th>  Df Residuals:      </th>  <td> 16645</td> \n",
       "</tr>\n",
       "<tr>\n",
       "  <th>Method:</th>                 <td>MLE</td>       <th>  Df Model:          </th>  <td>     4</td> \n",
       "</tr>\n",
       "<tr>\n",
       "  <th>Date:</th>            <td>Wed, 19 Jul 2023</td> <th>  Pseudo R-squ.:     </th> <td>-0.01189</td>\n",
       "</tr>\n",
       "<tr>\n",
       "  <th>Time:</th>                <td>10:15:24</td>     <th>  Log-Likelihood:    </th> <td> -1871.5</td>\n",
       "</tr>\n",
       "<tr>\n",
       "  <th>converged:</th>             <td>True</td>       <th>  LL-Null:           </th> <td> -1849.5</td>\n",
       "</tr>\n",
       "<tr>\n",
       "  <th>Covariance Type:</th>     <td>nonrobust</td>    <th>  LLR p-value:       </th>  <td> 1.000</td> \n",
       "</tr>\n",
       "</table>\n",
       "<table class=\"simpletable\">\n",
       "<tr>\n",
       "            <td></td>               <th>coef</th>     <th>std err</th>      <th>z</th>      <th>P>|z|</th>  <th>[0.025</th>    <th>0.975]</th>  \n",
       "</tr>\n",
       "<tr>\n",
       "  <th>qtd_filhos</th>            <td>    0.8266</td> <td>    0.131</td> <td>    6.290</td> <td> 0.000</td> <td>    0.569</td> <td>    1.084</td>\n",
       "</tr>\n",
       "<tr>\n",
       "  <th>idade</th>                 <td>   -0.0530</td> <td>    0.004</td> <td>  -14.598</td> <td> 0.000</td> <td>   -0.060</td> <td>   -0.046</td>\n",
       "</tr>\n",
       "<tr>\n",
       "  <th>tempo_emprego</th>         <td>   -0.0010</td> <td>    0.000</td> <td>   -5.846</td> <td> 0.000</td> <td>   -0.001</td> <td>   -0.001</td>\n",
       "</tr>\n",
       "<tr>\n",
       "  <th>qt_pessoas_residencia</th> <td>   -0.8893</td> <td>    0.087</td> <td>  -10.271</td> <td> 0.000</td> <td>   -1.059</td> <td>   -0.720</td>\n",
       "</tr>\n",
       "<tr>\n",
       "  <th>possui_email</th>          <td>   -0.3263</td> <td>    0.192</td> <td>   -1.696</td> <td> 0.090</td> <td>   -0.703</td> <td>    0.051</td>\n",
       "</tr>\n",
       "</table>"
      ],
      "text/latex": [
       "\\begin{center}\n",
       "\\begin{tabular}{lclc}\n",
       "\\toprule\n",
       "\\textbf{Dep. Variable:}          &       mau        & \\textbf{  No. Observations:  } &    16650    \\\\\n",
       "\\textbf{Model:}                  &      Logit       & \\textbf{  Df Residuals:      } &    16645    \\\\\n",
       "\\textbf{Method:}                 &       MLE        & \\textbf{  Df Model:          } &        4    \\\\\n",
       "\\textbf{Date:}                   & Wed, 19 Jul 2023 & \\textbf{  Pseudo R-squ.:     } &  -0.01189   \\\\\n",
       "\\textbf{Time:}                   &     10:15:24     & \\textbf{  Log-Likelihood:    } &   -1871.5   \\\\\n",
       "\\textbf{converged:}              &       True       & \\textbf{  LL-Null:           } &   -1849.5   \\\\\n",
       "\\textbf{Covariance Type:}        &    nonrobust     & \\textbf{  LLR p-value:       } &    1.000    \\\\\n",
       "\\bottomrule\n",
       "\\end{tabular}\n",
       "\\begin{tabular}{lcccccc}\n",
       "                                 & \\textbf{coef} & \\textbf{std err} & \\textbf{z} & \\textbf{P$> |$z$|$} & \\textbf{[0.025} & \\textbf{0.975]}  \\\\\n",
       "\\midrule\n",
       "\\textbf{qtd\\_filhos}             &       0.8266  &        0.131     &     6.290  &         0.000        &        0.569    &        1.084     \\\\\n",
       "\\textbf{idade}                   &      -0.0530  &        0.004     &   -14.598  &         0.000        &       -0.060    &       -0.046     \\\\\n",
       "\\textbf{tempo\\_emprego}          &      -0.0010  &        0.000     &    -5.846  &         0.000        &       -0.001    &       -0.001     \\\\\n",
       "\\textbf{qt\\_pessoas\\_residencia} &      -0.8893  &        0.087     &   -10.271  &         0.000        &       -1.059    &       -0.720     \\\\\n",
       "\\textbf{possui\\_email}           &      -0.3263  &        0.192     &    -1.696  &         0.090        &       -0.703    &        0.051     \\\\\n",
       "\\bottomrule\n",
       "\\end{tabular}\n",
       "%\\caption{Logit Regression Results}\n",
       "\\end{center}"
      ],
      "text/plain": [
       "<class 'statsmodels.iolib.summary.Summary'>\n",
       "\"\"\"\n",
       "                           Logit Regression Results                           \n",
       "==============================================================================\n",
       "Dep. Variable:                    mau   No. Observations:                16650\n",
       "Model:                          Logit   Df Residuals:                    16645\n",
       "Method:                           MLE   Df Model:                            4\n",
       "Date:                Wed, 19 Jul 2023   Pseudo R-squ.:                -0.01189\n",
       "Time:                        10:15:24   Log-Likelihood:                -1871.5\n",
       "converged:                       True   LL-Null:                       -1849.5\n",
       "Covariance Type:            nonrobust   LLR p-value:                     1.000\n",
       "=========================================================================================\n",
       "                            coef    std err          z      P>|z|      [0.025      0.975]\n",
       "-----------------------------------------------------------------------------------------\n",
       "qtd_filhos                0.8266      0.131      6.290      0.000       0.569       1.084\n",
       "idade                    -0.0530      0.004    -14.598      0.000      -0.060      -0.046\n",
       "tempo_emprego            -0.0010      0.000     -5.846      0.000      -0.001      -0.001\n",
       "qt_pessoas_residencia    -0.8893      0.087    -10.271      0.000      -1.059      -0.720\n",
       "possui_email             -0.3263      0.192     -1.696      0.090      -0.703       0.051\n",
       "=========================================================================================\n",
       "\"\"\""
      ]
     },
     "execution_count": 6,
     "metadata": {},
     "output_type": "execute_result"
    }
   ],
   "source": [
    "log_reg.summary()"
   ]
  },
  {
   "cell_type": "code",
   "execution_count": null,
   "metadata": {},
   "outputs": [
    {
     "data": {
      "text/plain": [
       "qtd_filhos               0.826553\n",
       "idade                   -0.052973\n",
       "tempo_emprego           -0.000953\n",
       "qt_pessoas_residencia   -0.889271\n",
       "possui_email            -0.326308\n",
       "dtype: float64"
      ]
     },
     "execution_count": 7,
     "metadata": {},
     "output_type": "execute_result"
    }
   ],
   "source": [
    "log_reg.params"
   ]
  },
  {
   "cell_type": "code",
   "execution_count": 52,
   "metadata": {},
   "outputs": [
    {
     "data": {
      "text/html": [
       "<style type=\"text/css\">\n",
       "#T_ef3be_row0_col1 {\n",
       "  width: 10em;\n",
       "  background: linear-gradient(90deg, transparent 50.0%, darkgreen 50.0%, darkgreen 96.6%, transparent 96.6%);\n",
       "}\n",
       "#T_ef3be_row1_col1 {\n",
       "  width: 10em;\n",
       "}\n",
       "#T_ef3be_row2_col1 {\n",
       "  width: 10em;\n",
       "  background: linear-gradient(90deg, transparent 47.2%, grey 47.2%, grey 50.0%, transparent 50.0%);\n",
       "}\n",
       "#T_ef3be_row3_col1 {\n",
       "  width: 10em;\n",
       "  background: linear-gradient(90deg, transparent 31.5%, grey 31.5%, grey 50.0%, transparent 50.0%);\n",
       "}\n",
       "#T_ef3be_row4_col1 {\n",
       "  width: 10em;\n",
       "  background: linear-gradient(90deg, grey 50.0%, transparent 50.0%);\n",
       "}\n",
       "</style>\n",
       "<table id=\"T_ef3be\">\n",
       "  <thead>\n",
       "    <tr>\n",
       "      <th class=\"blank level0\" >&nbsp;</th>\n",
       "      <th id=\"T_ef3be_level0_col0\" class=\"col_heading level0 col0\" >Variavel</th>\n",
       "      <th id=\"T_ef3be_level0_col1\" class=\"col_heading level0 col1\" >Coef</th>\n",
       "    </tr>\n",
       "  </thead>\n",
       "  <tbody>\n",
       "    <tr>\n",
       "      <th id=\"T_ef3be_level0_row0\" class=\"row_heading level0 row0\" >0</th>\n",
       "      <td id=\"T_ef3be_row0_col0\" class=\"data row0 col0\" >qtd_filhos</td>\n",
       "      <td id=\"T_ef3be_row0_col1\" class=\"data row0 col1\" >0.830000</td>\n",
       "    </tr>\n",
       "    <tr>\n",
       "      <th id=\"T_ef3be_level0_row1\" class=\"row_heading level0 row1\" >2</th>\n",
       "      <td id=\"T_ef3be_row1_col0\" class=\"data row1 col0\" >tempo_emprego</td>\n",
       "      <td id=\"T_ef3be_row1_col1\" class=\"data row1 col1\" >-0.000000</td>\n",
       "    </tr>\n",
       "    <tr>\n",
       "      <th id=\"T_ef3be_level0_row2\" class=\"row_heading level0 row2\" >1</th>\n",
       "      <td id=\"T_ef3be_row2_col0\" class=\"data row2 col0\" >idade</td>\n",
       "      <td id=\"T_ef3be_row2_col1\" class=\"data row2 col1\" >-0.050000</td>\n",
       "    </tr>\n",
       "    <tr>\n",
       "      <th id=\"T_ef3be_level0_row3\" class=\"row_heading level0 row3\" >4</th>\n",
       "      <td id=\"T_ef3be_row3_col0\" class=\"data row3 col0\" >possui_email</td>\n",
       "      <td id=\"T_ef3be_row3_col1\" class=\"data row3 col1\" >-0.330000</td>\n",
       "    </tr>\n",
       "    <tr>\n",
       "      <th id=\"T_ef3be_level0_row4\" class=\"row_heading level0 row4\" >3</th>\n",
       "      <td id=\"T_ef3be_row4_col0\" class=\"data row4 col0\" >qt_pessoas_residencia</td>\n",
       "      <td id=\"T_ef3be_row4_col1\" class=\"data row4 col1\" >-0.890000</td>\n",
       "    </tr>\n",
       "  </tbody>\n",
       "</table>\n"
      ],
      "text/plain": [
       "<pandas.io.formats.style.Styler at 0x1d544f4c5b0>"
      ]
     },
     "execution_count": 52,
     "metadata": {},
     "output_type": "execute_result"
    }
   ],
   "source": [
    "(log_reg.params.to_frame()\n",
    "    .reset_index()\n",
    "    .rename(columns={'index':'Variavel', 0:'Coef'})\n",
    "    .round(decimals=2)\n",
    "    .sort_values('Coef', ascending=False)\n",
    "    .style.bar(color=['grey', 'darkgreen'], align='zero')\n",
    ")"
   ]
  },
  {
   "cell_type": "code",
   "execution_count": 53,
   "metadata": {},
   "outputs": [
    {
     "data": {
      "text/html": [
       "<style type=\"text/css\">\n",
       "#T_2032c_row0_col1 {\n",
       "  width: 10em;\n",
       "  background: linear-gradient(90deg, transparent 50.0%, darkgreen 50.0%, darkgreen 96.6%, transparent 96.6%);\n",
       "}\n",
       "#T_2032c_row1_col1 {\n",
       "  width: 10em;\n",
       "}\n",
       "#T_2032c_row2_col1 {\n",
       "  width: 10em;\n",
       "  background: linear-gradient(90deg, transparent 47.2%, grey 47.2%, grey 50.0%, transparent 50.0%);\n",
       "}\n",
       "#T_2032c_row3_col1 {\n",
       "  width: 10em;\n",
       "  background: linear-gradient(90deg, transparent 31.5%, grey 31.5%, grey 50.0%, transparent 50.0%);\n",
       "}\n",
       "#T_2032c_row4_col1 {\n",
       "  width: 10em;\n",
       "  background: linear-gradient(90deg, grey 50.0%, transparent 50.0%);\n",
       "}\n",
       "</style>\n",
       "<table id=\"T_2032c\">\n",
       "  <thead>\n",
       "    <tr>\n",
       "      <th class=\"blank level0\" >&nbsp;</th>\n",
       "      <th id=\"T_2032c_level0_col0\" class=\"col_heading level0 col0\" >variavel</th>\n",
       "      <th id=\"T_2032c_level0_col1\" class=\"col_heading level0 col1\" >coef</th>\n",
       "    </tr>\n",
       "  </thead>\n",
       "  <tbody>\n",
       "    <tr>\n",
       "      <th id=\"T_2032c_level0_row0\" class=\"row_heading level0 row0\" >0</th>\n",
       "      <td id=\"T_2032c_row0_col0\" class=\"data row0 col0\" >qtd_filhos</td>\n",
       "      <td id=\"T_2032c_row0_col1\" class=\"data row0 col1\" >0.830000</td>\n",
       "    </tr>\n",
       "    <tr>\n",
       "      <th id=\"T_2032c_level0_row1\" class=\"row_heading level0 row1\" >2</th>\n",
       "      <td id=\"T_2032c_row1_col0\" class=\"data row1 col0\" >tempo_emprego</td>\n",
       "      <td id=\"T_2032c_row1_col1\" class=\"data row1 col1\" >-0.000000</td>\n",
       "    </tr>\n",
       "    <tr>\n",
       "      <th id=\"T_2032c_level0_row2\" class=\"row_heading level0 row2\" >1</th>\n",
       "      <td id=\"T_2032c_row2_col0\" class=\"data row2 col0\" >idade</td>\n",
       "      <td id=\"T_2032c_row2_col1\" class=\"data row2 col1\" >-0.050000</td>\n",
       "    </tr>\n",
       "    <tr>\n",
       "      <th id=\"T_2032c_level0_row3\" class=\"row_heading level0 row3\" >4</th>\n",
       "      <td id=\"T_2032c_row3_col0\" class=\"data row3 col0\" >possui_email</td>\n",
       "      <td id=\"T_2032c_row3_col1\" class=\"data row3 col1\" >-0.330000</td>\n",
       "    </tr>\n",
       "    <tr>\n",
       "      <th id=\"T_2032c_level0_row4\" class=\"row_heading level0 row4\" >3</th>\n",
       "      <td id=\"T_2032c_row4_col0\" class=\"data row4 col0\" >qt_pessoas_residencia</td>\n",
       "      <td id=\"T_2032c_row4_col1\" class=\"data row4 col1\" >-0.890000</td>\n",
       "    </tr>\n",
       "  </tbody>\n",
       "</table>\n"
      ],
      "text/plain": [
       "<pandas.io.formats.style.Styler at 0x1d544d5c3d0>"
      ]
     },
     "execution_count": 53,
     "metadata": {},
     "output_type": "execute_result"
    }
   ],
   "source": [
    "(log_reg.params.to_frame()\n",
    "    .reset_index()\n",
    "    .rename(columns={'index':'variavel',0:'coef'})\n",
    "    .round(2) \n",
    "    .sort_values('coef', ascending=False) \n",
    "    .style.bar(color=['grey', 'darkgreen'], align='zero'))"
   ]
  },
  {
   "cell_type": "code",
   "execution_count": 32,
   "metadata": {},
   "outputs": [
    {
     "name": "stdout",
     "output_type": "stream",
     "text": [
      "Feature importances:  [0.02280684 0.54111936 0.37625932 0.02800097 0.00738834 0.01274754\n",
      " 0.01167764]\n",
      "Variáveis:  ['qtd_filhos', 'idade', 'tempo_emprego', 'qt_pessoas_residencia', 'possui_email', 'possui_fone', 'possui_fone_comercial']\n"
     ]
    }
   ],
   "source": [
    "import pandas as pd\n",
    "from sklearn.ensemble import RandomForestClassifier\n",
    "\n",
    "df = pd.read_csv('./input/dados.csv')\n",
    "\n",
    "rf = RandomForestClassifier()\n",
    "cols = [\n",
    "    'qtd_filhos', 'idade', 'tempo_emprego', 'qt_pessoas_residencia',\n",
    "    'possui_email', 'possui_fone', 'possui_fone_comercial'\n",
    "]\n",
    "rf.fit(df[cols], df['mau'])\n",
    "\n",
    "print('Feature importances: ',rf.feature_importances_)\n",
    "print('Variáveis: ',cols)"
   ]
  },
  {
   "cell_type": "code",
   "execution_count": 50,
   "metadata": {},
   "outputs": [
    {
     "data": {
      "text/html": [
       "<style type=\"text/css\">\n",
       "#T_2cbf5_row0_col1 {\n",
       "  width: 10em;\n",
       "  background: linear-gradient(90deg, transparent 50.0%, darkgreen 50.0%, darkgreen 100.0%, transparent 100.0%);\n",
       "}\n",
       "#T_2cbf5_row1_col1 {\n",
       "  width: 10em;\n",
       "  background: linear-gradient(90deg, transparent 50.0%, darkgreen 50.0%, darkgreen 85.2%, transparent 85.2%);\n",
       "}\n",
       "#T_2cbf5_row2_col1 {\n",
       "  width: 10em;\n",
       "  background: linear-gradient(90deg, transparent 50.0%, darkgreen 50.0%, darkgreen 52.8%, transparent 52.8%);\n",
       "}\n",
       "#T_2cbf5_row3_col1 {\n",
       "  width: 10em;\n",
       "  background: linear-gradient(90deg, transparent 50.0%, darkgreen 50.0%, darkgreen 51.9%, transparent 51.9%);\n",
       "}\n",
       "#T_2cbf5_row4_col1, #T_2cbf5_row5_col1, #T_2cbf5_row6_col1 {\n",
       "  width: 10em;\n",
       "  background: linear-gradient(90deg, transparent 50.0%, darkgreen 50.0%, darkgreen 50.9%, transparent 50.9%);\n",
       "}\n",
       "</style>\n",
       "<table id=\"T_2cbf5\">\n",
       "  <thead>\n",
       "    <tr>\n",
       "      <th class=\"blank level0\" >&nbsp;</th>\n",
       "      <th id=\"T_2cbf5_level0_col0\" class=\"col_heading level0 col0\" >variavel</th>\n",
       "      <th id=\"T_2cbf5_level0_col1\" class=\"col_heading level0 col1\" >featimp</th>\n",
       "    </tr>\n",
       "  </thead>\n",
       "  <tbody>\n",
       "    <tr>\n",
       "      <th id=\"T_2cbf5_level0_row0\" class=\"row_heading level0 row0\" >1</th>\n",
       "      <td id=\"T_2cbf5_row0_col0\" class=\"data row0 col0\" >idade</td>\n",
       "      <td id=\"T_2cbf5_row0_col1\" class=\"data row0 col1\" >0.540000</td>\n",
       "    </tr>\n",
       "    <tr>\n",
       "      <th id=\"T_2cbf5_level0_row1\" class=\"row_heading level0 row1\" >2</th>\n",
       "      <td id=\"T_2cbf5_row1_col0\" class=\"data row1 col0\" >tempo_emprego</td>\n",
       "      <td id=\"T_2cbf5_row1_col1\" class=\"data row1 col1\" >0.380000</td>\n",
       "    </tr>\n",
       "    <tr>\n",
       "      <th id=\"T_2cbf5_level0_row2\" class=\"row_heading level0 row2\" >3</th>\n",
       "      <td id=\"T_2cbf5_row2_col0\" class=\"data row2 col0\" >qt_pessoas_residencia</td>\n",
       "      <td id=\"T_2cbf5_row2_col1\" class=\"data row2 col1\" >0.030000</td>\n",
       "    </tr>\n",
       "    <tr>\n",
       "      <th id=\"T_2cbf5_level0_row3\" class=\"row_heading level0 row3\" >0</th>\n",
       "      <td id=\"T_2cbf5_row3_col0\" class=\"data row3 col0\" >qtd_filhos</td>\n",
       "      <td id=\"T_2cbf5_row3_col1\" class=\"data row3 col1\" >0.020000</td>\n",
       "    </tr>\n",
       "    <tr>\n",
       "      <th id=\"T_2cbf5_level0_row4\" class=\"row_heading level0 row4\" >4</th>\n",
       "      <td id=\"T_2cbf5_row4_col0\" class=\"data row4 col0\" >possui_email</td>\n",
       "      <td id=\"T_2cbf5_row4_col1\" class=\"data row4 col1\" >0.010000</td>\n",
       "    </tr>\n",
       "    <tr>\n",
       "      <th id=\"T_2cbf5_level0_row5\" class=\"row_heading level0 row5\" >5</th>\n",
       "      <td id=\"T_2cbf5_row5_col0\" class=\"data row5 col0\" >possui_fone</td>\n",
       "      <td id=\"T_2cbf5_row5_col1\" class=\"data row5 col1\" >0.010000</td>\n",
       "    </tr>\n",
       "    <tr>\n",
       "      <th id=\"T_2cbf5_level0_row6\" class=\"row_heading level0 row6\" >6</th>\n",
       "      <td id=\"T_2cbf5_row6_col0\" class=\"data row6 col0\" >possui_fone_comercial</td>\n",
       "      <td id=\"T_2cbf5_row6_col1\" class=\"data row6 col1\" >0.010000</td>\n",
       "    </tr>\n",
       "  </tbody>\n",
       "</table>\n"
      ],
      "text/plain": [
       "<pandas.io.formats.style.Styler at 0x1d544ed07f0>"
      ]
     },
     "execution_count": 50,
     "metadata": {},
     "output_type": "execute_result"
    }
   ],
   "source": [
    "(pd.DataFrame({\n",
    "            'variavel': cols,\n",
    "            'featimp': rf.feature_importances_})\n",
    "            .round(2)\n",
    "            .sort_values('featimp', ascending=False)\n",
    "            .style.bar(color=['grey', 'darkgreen'], align='zero')\n",
    ")"
   ]
  },
  {
   "cell_type": "code",
   "execution_count": 35,
   "metadata": {},
   "outputs": [
    {
     "ename": "IndexError",
     "evalue": "list index out of range",
     "output_type": "error",
     "traceback": [
      "\u001b[1;31m---------------------------------------------------------------------------\u001b[0m",
      "\u001b[1;31mIndexError\u001b[0m                                Traceback (most recent call last)",
      "File \u001b[1;32mc:\\ProgramData\\anaconda3\\lib\\site-packages\\IPython\\core\\formatters.py:344\u001b[0m, in \u001b[0;36mBaseFormatter.__call__\u001b[1;34m(self, obj)\u001b[0m\n\u001b[0;32m    342\u001b[0m     method \u001b[39m=\u001b[39m get_real_method(obj, \u001b[39mself\u001b[39m\u001b[39m.\u001b[39mprint_method)\n\u001b[0;32m    343\u001b[0m     \u001b[39mif\u001b[39;00m method \u001b[39mis\u001b[39;00m \u001b[39mnot\u001b[39;00m \u001b[39mNone\u001b[39;00m:\n\u001b[1;32m--> 344\u001b[0m         \u001b[39mreturn\u001b[39;00m method()\n\u001b[0;32m    345\u001b[0m     \u001b[39mreturn\u001b[39;00m \u001b[39mNone\u001b[39;00m\n\u001b[0;32m    346\u001b[0m \u001b[39melse\u001b[39;00m:\n",
      "File \u001b[1;32mc:\\ProgramData\\anaconda3\\lib\\site-packages\\pandas\\io\\formats\\style.py:383\u001b[0m, in \u001b[0;36mStyler._repr_html_\u001b[1;34m(self)\u001b[0m\n\u001b[0;32m    378\u001b[0m \u001b[39m\u001b[39m\u001b[39m\"\"\"\u001b[39;00m\n\u001b[0;32m    379\u001b[0m \u001b[39mHooks into Jupyter notebook rich display system, which calls _repr_html_ by\u001b[39;00m\n\u001b[0;32m    380\u001b[0m \u001b[39mdefault if an object is returned at the end of a cell.\u001b[39;00m\n\u001b[0;32m    381\u001b[0m \u001b[39m\"\"\"\u001b[39;00m\n\u001b[0;32m    382\u001b[0m \u001b[39mif\u001b[39;00m get_option(\u001b[39m\"\u001b[39m\u001b[39mstyler.render.repr\u001b[39m\u001b[39m\"\u001b[39m) \u001b[39m==\u001b[39m \u001b[39m\"\u001b[39m\u001b[39mhtml\u001b[39m\u001b[39m\"\u001b[39m:\n\u001b[1;32m--> 383\u001b[0m     \u001b[39mreturn\u001b[39;00m \u001b[39mself\u001b[39;49m\u001b[39m.\u001b[39;49mto_html()\n\u001b[0;32m    384\u001b[0m \u001b[39mreturn\u001b[39;00m \u001b[39mNone\u001b[39;00m\n",
      "File \u001b[1;32mc:\\ProgramData\\anaconda3\\lib\\site-packages\\pandas\\io\\formats\\style.py:1308\u001b[0m, in \u001b[0;36mStyler.to_html\u001b[1;34m(self, buf, table_uuid, table_attributes, sparse_index, sparse_columns, bold_headers, caption, max_rows, max_columns, encoding, doctype_html, exclude_styles, **kwargs)\u001b[0m\n\u001b[0;32m   1305\u001b[0m     obj\u001b[39m.\u001b[39mset_caption(caption)\n\u001b[0;32m   1307\u001b[0m \u001b[39m# Build HTML string..\u001b[39;00m\n\u001b[1;32m-> 1308\u001b[0m html \u001b[39m=\u001b[39m obj\u001b[39m.\u001b[39m_render_html(\n\u001b[0;32m   1309\u001b[0m     sparse_index\u001b[39m=\u001b[39msparse_index,\n\u001b[0;32m   1310\u001b[0m     sparse_columns\u001b[39m=\u001b[39msparse_columns,\n\u001b[0;32m   1311\u001b[0m     max_rows\u001b[39m=\u001b[39mmax_rows,\n\u001b[0;32m   1312\u001b[0m     max_cols\u001b[39m=\u001b[39mmax_columns,\n\u001b[0;32m   1313\u001b[0m     exclude_styles\u001b[39m=\u001b[39mexclude_styles,\n\u001b[0;32m   1314\u001b[0m     encoding\u001b[39m=\u001b[39mencoding \u001b[39mor\u001b[39;00m get_option(\u001b[39m\"\u001b[39m\u001b[39mstyler.render.encoding\u001b[39m\u001b[39m\"\u001b[39m),\n\u001b[0;32m   1315\u001b[0m     doctype_html\u001b[39m=\u001b[39mdoctype_html,\n\u001b[0;32m   1316\u001b[0m     \u001b[39m*\u001b[39m\u001b[39m*\u001b[39mkwargs,\n\u001b[0;32m   1317\u001b[0m )\n\u001b[0;32m   1319\u001b[0m \u001b[39mreturn\u001b[39;00m save_to_buffer(\n\u001b[0;32m   1320\u001b[0m     html, buf\u001b[39m=\u001b[39mbuf, encoding\u001b[39m=\u001b[39m(encoding \u001b[39mif\u001b[39;00m buf \u001b[39mis\u001b[39;00m \u001b[39mnot\u001b[39;00m \u001b[39mNone\u001b[39;00m \u001b[39melse\u001b[39;00m \u001b[39mNone\u001b[39;00m)\n\u001b[0;32m   1321\u001b[0m )\n",
      "File \u001b[1;32mc:\\ProgramData\\anaconda3\\lib\\site-packages\\pandas\\io\\formats\\style_render.py:205\u001b[0m, in \u001b[0;36mStylerRenderer._render_html\u001b[1;34m(self, sparse_index, sparse_columns, max_rows, max_cols, **kwargs)\u001b[0m\n\u001b[0;32m    193\u001b[0m \u001b[39mdef\u001b[39;00m \u001b[39m_render_html\u001b[39m(\n\u001b[0;32m    194\u001b[0m     \u001b[39mself\u001b[39m,\n\u001b[0;32m    195\u001b[0m     sparse_index: \u001b[39mbool\u001b[39m,\n\u001b[1;32m   (...)\u001b[0m\n\u001b[0;32m    199\u001b[0m     \u001b[39m*\u001b[39m\u001b[39m*\u001b[39mkwargs,\n\u001b[0;32m    200\u001b[0m ) \u001b[39m-\u001b[39m\u001b[39m>\u001b[39m \u001b[39mstr\u001b[39m:\n\u001b[0;32m    201\u001b[0m \u001b[39m    \u001b[39m\u001b[39m\"\"\"\u001b[39;00m\n\u001b[0;32m    202\u001b[0m \u001b[39m    Renders the ``Styler`` including all applied styles to HTML.\u001b[39;00m\n\u001b[0;32m    203\u001b[0m \u001b[39m    Generates a dict with necessary kwargs passed to jinja2 template.\u001b[39;00m\n\u001b[0;32m    204\u001b[0m \u001b[39m    \"\"\"\u001b[39;00m\n\u001b[1;32m--> 205\u001b[0m     d \u001b[39m=\u001b[39m \u001b[39mself\u001b[39;49m\u001b[39m.\u001b[39;49m_render(sparse_index, sparse_columns, max_rows, max_cols, \u001b[39m\"\u001b[39;49m\u001b[39m&nbsp;\u001b[39;49m\u001b[39m\"\u001b[39;49m)\n\u001b[0;32m    206\u001b[0m     d\u001b[39m.\u001b[39mupdate(kwargs)\n\u001b[0;32m    207\u001b[0m     \u001b[39mreturn\u001b[39;00m \u001b[39mself\u001b[39m\u001b[39m.\u001b[39mtemplate_html\u001b[39m.\u001b[39mrender(\n\u001b[0;32m    208\u001b[0m         \u001b[39m*\u001b[39m\u001b[39m*\u001b[39md,\n\u001b[0;32m    209\u001b[0m         html_table_tpl\u001b[39m=\u001b[39m\u001b[39mself\u001b[39m\u001b[39m.\u001b[39mtemplate_html_table,\n\u001b[0;32m    210\u001b[0m         html_style_tpl\u001b[39m=\u001b[39m\u001b[39mself\u001b[39m\u001b[39m.\u001b[39mtemplate_html_style,\n\u001b[0;32m    211\u001b[0m     )\n",
      "File \u001b[1;32mc:\\ProgramData\\anaconda3\\lib\\site-packages\\pandas\\io\\formats\\style_render.py:162\u001b[0m, in \u001b[0;36mStylerRenderer._render\u001b[1;34m(self, sparse_index, sparse_columns, max_rows, max_cols, blank)\u001b[0m\n\u001b[0;32m    148\u001b[0m \u001b[39mdef\u001b[39;00m \u001b[39m_render\u001b[39m(\n\u001b[0;32m    149\u001b[0m     \u001b[39mself\u001b[39m,\n\u001b[0;32m    150\u001b[0m     sparse_index: \u001b[39mbool\u001b[39m,\n\u001b[1;32m   (...)\u001b[0m\n\u001b[0;32m    154\u001b[0m     blank: \u001b[39mstr\u001b[39m \u001b[39m=\u001b[39m \u001b[39m\"\u001b[39m\u001b[39m\"\u001b[39m,\n\u001b[0;32m    155\u001b[0m ):\n\u001b[0;32m    156\u001b[0m \u001b[39m    \u001b[39m\u001b[39m\"\"\"\u001b[39;00m\n\u001b[0;32m    157\u001b[0m \u001b[39m    Computes and applies styles and then generates the general render dicts.\u001b[39;00m\n\u001b[0;32m    158\u001b[0m \n\u001b[0;32m    159\u001b[0m \u001b[39m    Also extends the `ctx` and `ctx_index` attributes with those of concatenated\u001b[39;00m\n\u001b[0;32m    160\u001b[0m \u001b[39m    stylers for use within `_translate_latex`\u001b[39;00m\n\u001b[0;32m    161\u001b[0m \u001b[39m    \"\"\"\u001b[39;00m\n\u001b[1;32m--> 162\u001b[0m     \u001b[39mself\u001b[39;49m\u001b[39m.\u001b[39;49m_compute()\n\u001b[0;32m    163\u001b[0m     dxs \u001b[39m=\u001b[39m []\n\u001b[0;32m    164\u001b[0m     ctx_len \u001b[39m=\u001b[39m \u001b[39mlen\u001b[39m(\u001b[39mself\u001b[39m\u001b[39m.\u001b[39mindex)\n",
      "File \u001b[1;32mc:\\ProgramData\\anaconda3\\lib\\site-packages\\pandas\\io\\formats\\style_render.py:257\u001b[0m, in \u001b[0;36mStylerRenderer._compute\u001b[1;34m(self)\u001b[0m\n\u001b[0;32m    255\u001b[0m r \u001b[39m=\u001b[39m \u001b[39mself\u001b[39m\n\u001b[0;32m    256\u001b[0m \u001b[39mfor\u001b[39;00m func, args, kwargs \u001b[39min\u001b[39;00m \u001b[39mself\u001b[39m\u001b[39m.\u001b[39m_todo:\n\u001b[1;32m--> 257\u001b[0m     r \u001b[39m=\u001b[39m func(\u001b[39mself\u001b[39m)(\u001b[39m*\u001b[39margs, \u001b[39m*\u001b[39m\u001b[39m*\u001b[39mkwargs)\n\u001b[0;32m    258\u001b[0m \u001b[39mreturn\u001b[39;00m r\n",
      "File \u001b[1;32mc:\\ProgramData\\anaconda3\\lib\\site-packages\\pandas\\io\\formats\\style.py:1667\u001b[0m, in \u001b[0;36mStyler._apply\u001b[1;34m(self, func, axis, subset, **kwargs)\u001b[0m\n\u001b[0;32m   1665\u001b[0m axis \u001b[39m=\u001b[39m \u001b[39mself\u001b[39m\u001b[39m.\u001b[39mdata\u001b[39m.\u001b[39m_get_axis_number(axis)\n\u001b[0;32m   1666\u001b[0m \u001b[39mif\u001b[39;00m axis \u001b[39m==\u001b[39m \u001b[39m0\u001b[39m:\n\u001b[1;32m-> 1667\u001b[0m     result \u001b[39m=\u001b[39m data\u001b[39m.\u001b[39mapply(func, axis\u001b[39m=\u001b[39m\u001b[39m0\u001b[39m, \u001b[39m*\u001b[39m\u001b[39m*\u001b[39mkwargs)\n\u001b[0;32m   1668\u001b[0m \u001b[39melse\u001b[39;00m:\n\u001b[0;32m   1669\u001b[0m     result \u001b[39m=\u001b[39m data\u001b[39m.\u001b[39mT\u001b[39m.\u001b[39mapply(func, axis\u001b[39m=\u001b[39m\u001b[39m0\u001b[39m, \u001b[39m*\u001b[39m\u001b[39m*\u001b[39mkwargs)\u001b[39m.\u001b[39mT  \u001b[39m# see GH 42005\u001b[39;00m\n",
      "File \u001b[1;32mc:\\ProgramData\\anaconda3\\lib\\site-packages\\pandas\\core\\frame.py:9423\u001b[0m, in \u001b[0;36mDataFrame.apply\u001b[1;34m(self, func, axis, raw, result_type, args, **kwargs)\u001b[0m\n\u001b[0;32m   9412\u001b[0m \u001b[39mfrom\u001b[39;00m \u001b[39mpandas\u001b[39;00m\u001b[39m.\u001b[39;00m\u001b[39mcore\u001b[39;00m\u001b[39m.\u001b[39;00m\u001b[39mapply\u001b[39;00m \u001b[39mimport\u001b[39;00m frame_apply\n\u001b[0;32m   9414\u001b[0m op \u001b[39m=\u001b[39m frame_apply(\n\u001b[0;32m   9415\u001b[0m     \u001b[39mself\u001b[39m,\n\u001b[0;32m   9416\u001b[0m     func\u001b[39m=\u001b[39mfunc,\n\u001b[1;32m   (...)\u001b[0m\n\u001b[0;32m   9421\u001b[0m     kwargs\u001b[39m=\u001b[39mkwargs,\n\u001b[0;32m   9422\u001b[0m )\n\u001b[1;32m-> 9423\u001b[0m \u001b[39mreturn\u001b[39;00m op\u001b[39m.\u001b[39;49mapply()\u001b[39m.\u001b[39m__finalize__(\u001b[39mself\u001b[39m, method\u001b[39m=\u001b[39m\u001b[39m\"\u001b[39m\u001b[39mapply\u001b[39m\u001b[39m\"\u001b[39m)\n",
      "File \u001b[1;32mc:\\ProgramData\\anaconda3\\lib\\site-packages\\pandas\\core\\apply.py:678\u001b[0m, in \u001b[0;36mFrameApply.apply\u001b[1;34m(self)\u001b[0m\n\u001b[0;32m    675\u001b[0m \u001b[39melif\u001b[39;00m \u001b[39mself\u001b[39m\u001b[39m.\u001b[39mraw:\n\u001b[0;32m    676\u001b[0m     \u001b[39mreturn\u001b[39;00m \u001b[39mself\u001b[39m\u001b[39m.\u001b[39mapply_raw()\n\u001b[1;32m--> 678\u001b[0m \u001b[39mreturn\u001b[39;00m \u001b[39mself\u001b[39;49m\u001b[39m.\u001b[39;49mapply_standard()\n",
      "File \u001b[1;32mc:\\ProgramData\\anaconda3\\lib\\site-packages\\pandas\\core\\apply.py:798\u001b[0m, in \u001b[0;36mFrameApply.apply_standard\u001b[1;34m(self)\u001b[0m\n\u001b[0;32m    797\u001b[0m \u001b[39mdef\u001b[39;00m \u001b[39mapply_standard\u001b[39m(\u001b[39mself\u001b[39m):\n\u001b[1;32m--> 798\u001b[0m     results, res_index \u001b[39m=\u001b[39m \u001b[39mself\u001b[39;49m\u001b[39m.\u001b[39;49mapply_series_generator()\n\u001b[0;32m    800\u001b[0m     \u001b[39m# wrap results\u001b[39;00m\n\u001b[0;32m    801\u001b[0m     \u001b[39mreturn\u001b[39;00m \u001b[39mself\u001b[39m\u001b[39m.\u001b[39mwrap_results(results, res_index)\n",
      "File \u001b[1;32mc:\\ProgramData\\anaconda3\\lib\\site-packages\\pandas\\core\\apply.py:814\u001b[0m, in \u001b[0;36mFrameApply.apply_series_generator\u001b[1;34m(self)\u001b[0m\n\u001b[0;32m    811\u001b[0m \u001b[39mwith\u001b[39;00m option_context(\u001b[39m\"\u001b[39m\u001b[39mmode.chained_assignment\u001b[39m\u001b[39m\"\u001b[39m, \u001b[39mNone\u001b[39;00m):\n\u001b[0;32m    812\u001b[0m     \u001b[39mfor\u001b[39;00m i, v \u001b[39min\u001b[39;00m \u001b[39menumerate\u001b[39m(series_gen):\n\u001b[0;32m    813\u001b[0m         \u001b[39m# ignore SettingWithCopy here in case the user mutates\u001b[39;00m\n\u001b[1;32m--> 814\u001b[0m         results[i] \u001b[39m=\u001b[39m \u001b[39mself\u001b[39;49m\u001b[39m.\u001b[39;49mf(v)\n\u001b[0;32m    815\u001b[0m         \u001b[39mif\u001b[39;00m \u001b[39misinstance\u001b[39m(results[i], ABCSeries):\n\u001b[0;32m    816\u001b[0m             \u001b[39m# If we have a view on v, we need to make a copy because\u001b[39;00m\n\u001b[0;32m    817\u001b[0m             \u001b[39m#  series_generator will swap out the underlying data\u001b[39;00m\n\u001b[0;32m    818\u001b[0m             results[i] \u001b[39m=\u001b[39m results[i]\u001b[39m.\u001b[39mcopy(deep\u001b[39m=\u001b[39m\u001b[39mFalse\u001b[39;00m)\n",
      "File \u001b[1;32mc:\\ProgramData\\anaconda3\\lib\\site-packages\\pandas\\core\\apply.py:133\u001b[0m, in \u001b[0;36mApply.__init__.<locals>.f\u001b[1;34m(x)\u001b[0m\n\u001b[0;32m    132\u001b[0m \u001b[39mdef\u001b[39;00m \u001b[39mf\u001b[39m(x):\n\u001b[1;32m--> 133\u001b[0m     \u001b[39mreturn\u001b[39;00m func(x, \u001b[39m*\u001b[39margs, \u001b[39m*\u001b[39m\u001b[39m*\u001b[39mkwargs)\n",
      "File \u001b[1;32mc:\\ProgramData\\anaconda3\\lib\\site-packages\\pandas\\io\\formats\\style.py:3925\u001b[0m, in \u001b[0;36m_bar\u001b[1;34m(data, align, colors, cmap, width, height, vmin, vmax, base_css)\u001b[0m\n\u001b[0;32m   3923\u001b[0m \u001b[39massert\u001b[39;00m \u001b[39misinstance\u001b[39m(align, \u001b[39mstr\u001b[39m)  \u001b[39m# mypy: should now be in [left, right, mid, zero]\u001b[39;00m\n\u001b[0;32m   3924\u001b[0m \u001b[39mif\u001b[39;00m data\u001b[39m.\u001b[39mndim \u001b[39m==\u001b[39m \u001b[39m1\u001b[39m:\n\u001b[1;32m-> 3925\u001b[0m     \u001b[39mreturn\u001b[39;00m [\n\u001b[0;32m   3926\u001b[0m         css_calc(\n\u001b[0;32m   3927\u001b[0m             x \u001b[39m-\u001b[39m z, left \u001b[39m-\u001b[39m z, right \u001b[39m-\u001b[39m z, align, colors \u001b[39mif\u001b[39;00m rgbas \u001b[39mis\u001b[39;00m \u001b[39mNone\u001b[39;00m \u001b[39melse\u001b[39;00m rgbas[i]\n\u001b[0;32m   3928\u001b[0m         )\n\u001b[0;32m   3929\u001b[0m         \u001b[39mfor\u001b[39;00m i, x \u001b[39min\u001b[39;00m \u001b[39menumerate\u001b[39m(values)\n\u001b[0;32m   3930\u001b[0m     ]\n\u001b[0;32m   3931\u001b[0m \u001b[39melse\u001b[39;00m:\n\u001b[0;32m   3932\u001b[0m     \u001b[39mreturn\u001b[39;00m np\u001b[39m.\u001b[39marray(\n\u001b[0;32m   3933\u001b[0m         [\n\u001b[0;32m   3934\u001b[0m             [\n\u001b[1;32m   (...)\u001b[0m\n\u001b[0;32m   3945\u001b[0m         ]\n\u001b[0;32m   3946\u001b[0m     )\n",
      "File \u001b[1;32mc:\\ProgramData\\anaconda3\\lib\\site-packages\\pandas\\io\\formats\\style.py:3926\u001b[0m, in \u001b[0;36m<listcomp>\u001b[1;34m(.0)\u001b[0m\n\u001b[0;32m   3923\u001b[0m \u001b[39massert\u001b[39;00m \u001b[39misinstance\u001b[39m(align, \u001b[39mstr\u001b[39m)  \u001b[39m# mypy: should now be in [left, right, mid, zero]\u001b[39;00m\n\u001b[0;32m   3924\u001b[0m \u001b[39mif\u001b[39;00m data\u001b[39m.\u001b[39mndim \u001b[39m==\u001b[39m \u001b[39m1\u001b[39m:\n\u001b[0;32m   3925\u001b[0m     \u001b[39mreturn\u001b[39;00m [\n\u001b[1;32m-> 3926\u001b[0m         css_calc(\n\u001b[0;32m   3927\u001b[0m             x \u001b[39m-\u001b[39;49m z, left \u001b[39m-\u001b[39;49m z, right \u001b[39m-\u001b[39;49m z, align, colors \u001b[39mif\u001b[39;49;00m rgbas \u001b[39mis\u001b[39;49;00m \u001b[39mNone\u001b[39;49;00m \u001b[39melse\u001b[39;49;00m rgbas[i]\n\u001b[0;32m   3928\u001b[0m         )\n\u001b[0;32m   3929\u001b[0m         \u001b[39mfor\u001b[39;00m i, x \u001b[39min\u001b[39;00m \u001b[39menumerate\u001b[39m(values)\n\u001b[0;32m   3930\u001b[0m     ]\n\u001b[0;32m   3931\u001b[0m \u001b[39melse\u001b[39;00m:\n\u001b[0;32m   3932\u001b[0m     \u001b[39mreturn\u001b[39;00m np\u001b[39m.\u001b[39marray(\n\u001b[0;32m   3933\u001b[0m         [\n\u001b[0;32m   3934\u001b[0m             [\n\u001b[1;32m   (...)\u001b[0m\n\u001b[0;32m   3945\u001b[0m         ]\n\u001b[0;32m   3946\u001b[0m     )\n",
      "File \u001b[1;32mc:\\ProgramData\\anaconda3\\lib\\site-packages\\pandas\\io\\formats\\style.py:3840\u001b[0m, in \u001b[0;36m_bar.<locals>.css_calc\u001b[1;34m(x, left, right, align, color)\u001b[0m\n\u001b[0;32m   3837\u001b[0m     \u001b[39mreturn\u001b[39;00m base_css\n\u001b[0;32m   3839\u001b[0m \u001b[39mif\u001b[39;00m \u001b[39misinstance\u001b[39m(color, (\u001b[39mlist\u001b[39m, \u001b[39mtuple\u001b[39m)):\n\u001b[1;32m-> 3840\u001b[0m     color \u001b[39m=\u001b[39m color[\u001b[39m0\u001b[39m] \u001b[39mif\u001b[39;00m x \u001b[39m<\u001b[39m \u001b[39m0\u001b[39m \u001b[39melse\u001b[39;00m color[\u001b[39m1\u001b[39;49m]\n\u001b[0;32m   3841\u001b[0m \u001b[39massert\u001b[39;00m \u001b[39misinstance\u001b[39m(color, \u001b[39mstr\u001b[39m)  \u001b[39m# mypy redefinition\u001b[39;00m\n\u001b[0;32m   3843\u001b[0m x \u001b[39m=\u001b[39m left \u001b[39mif\u001b[39;00m x \u001b[39m<\u001b[39m left \u001b[39melse\u001b[39;00m x\n",
      "\u001b[1;31mIndexError\u001b[0m: list index out of range"
     ]
    },
    {
     "data": {
      "text/plain": [
       "<pandas.io.formats.style.Styler at 0x1d54264cf70>"
      ]
     },
     "execution_count": 35,
     "metadata": {},
     "output_type": "execute_result"
    }
   ],
   "source": [
    "(pd.DataFrame({\n",
    "            'variavel': cols,\n",
    "            'featimp': rf.feature_importances_}) \n",
    "    .round(decimals=2) \n",
    "    .sort_values('featimp', ascending=False) \n",
    "    .style.bar(color=['lightblue'], align='zero'))"
   ]
  },
  {
   "cell_type": "code",
   "execution_count": null,
   "metadata": {},
   "outputs": [],
   "source": []
  }
 ],
 "metadata": {
  "kernelspec": {
   "display_name": "Python 3",
   "language": "python",
   "name": "python3"
  },
  "language_info": {
   "codemirror_mode": {
    "name": "ipython",
    "version": 3
   },
   "file_extension": ".py",
   "mimetype": "text/x-python",
   "name": "python",
   "nbconvert_exporter": "python",
   "pygments_lexer": "ipython3",
   "version": "3.10.11"
  },
  "varInspector": {
   "cols": {
    "lenName": 16,
    "lenType": 16,
    "lenVar": 40
   },
   "kernels_config": {
    "python": {
     "delete_cmd_postfix": "",
     "delete_cmd_prefix": "del ",
     "library": "var_list.py",
     "varRefreshCmd": "print(var_dic_list())"
    },
    "r": {
     "delete_cmd_postfix": ") ",
     "delete_cmd_prefix": "rm(",
     "library": "var_list.r",
     "varRefreshCmd": "cat(var_dic_list()) "
    }
   },
   "types_to_exclude": [
    "module",
    "function",
    "builtin_function_or_method",
    "instance",
    "_Feature"
   ],
   "window_display": false
  }
 },
 "nbformat": 4,
 "nbformat_minor": 4
}
