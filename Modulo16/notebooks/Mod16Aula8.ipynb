{
 "cells": [
  {
   "cell_type": "markdown",
   "metadata": {},
   "source": [
    "- *Method chaining* (encadeamento de métodos)\n",
    "\t- `.assign()`\n",
    "\t- `.pipe()`\n",
    "- `for` vs *List comprehension*\n",
    "- Usando `.apply()`\n",
    "- `.apply(axis = 0)`\n",
    "- Barra de progresso usando `tqdm` \n",
    "- Pandas Profiling para exploração dos dados e para garantir a qualidade dos dados\n",
    "- Mostrar o dataframe usando o `style`\n",
    "- __Copiar e colar no Excel `.to_clipboard()`__\n",
    "- Funções de janela móvel (*window functions*)\n",
    "- Fechamento 2o projeto"
   ]
  },
  {
   "cell_type": "markdown",
   "metadata": {},
   "source": [
    "# Copiar e colar no Excel `.to_clipboard()`\n"
   ]
  },
  {
   "cell_type": "code",
   "execution_count": 1,
   "metadata": {},
   "outputs": [
    {
     "name": "stdout",
     "output_type": "stream",
     "text": [
      "Feature importances:  [0.02252851 0.54401119 0.37471354 0.02899133 0.00678138 0.01223336\n",
      " 0.0107407 ]\n",
      "Variáveis:  ['qtd_filhos', 'idade', 'tempo_emprego', 'qt_pessoas_residencia', 'possui_email', 'possui_fone', 'possui_fone_comercial']\n"
     ]
    }
   ],
   "source": [
    "import pandas as pd\n",
    "from sklearn.ensemble import RandomForestClassifier\n",
    "\n",
    "df = pd.read_csv('./input/dados.csv')\n",
    "\n",
    "rf = RandomForestClassifier()\n",
    "cols = [\n",
    "    'qtd_filhos', 'idade', 'tempo_emprego', 'qt_pessoas_residencia',\n",
    "    'possui_email', 'possui_fone', 'possui_fone_comercial'\n",
    "]\n",
    "rf.fit(df[cols], df['mau'])\n",
    "\n",
    "print('Feature importances: ',rf.feature_importances_)\n",
    "print('Variáveis: ',cols)"
   ]
  },
  {
   "cell_type": "code",
   "execution_count": 2,
   "metadata": {},
   "outputs": [
    {
     "data": {
      "text/html": [
       "<div>\n",
       "<style scoped>\n",
       "    .dataframe tbody tr th:only-of-type {\n",
       "        vertical-align: middle;\n",
       "    }\n",
       "\n",
       "    .dataframe tbody tr th {\n",
       "        vertical-align: top;\n",
       "    }\n",
       "\n",
       "    .dataframe thead th {\n",
       "        text-align: right;\n",
       "    }\n",
       "</style>\n",
       "<table border=\"1\" class=\"dataframe\">\n",
       "  <thead>\n",
       "    <tr style=\"text-align: right;\">\n",
       "      <th></th>\n",
       "      <th>variavel</th>\n",
       "      <th>featimp</th>\n",
       "    </tr>\n",
       "  </thead>\n",
       "  <tbody>\n",
       "    <tr>\n",
       "      <th>1</th>\n",
       "      <td>idade</td>\n",
       "      <td>0.54</td>\n",
       "    </tr>\n",
       "    <tr>\n",
       "      <th>2</th>\n",
       "      <td>tempo_emprego</td>\n",
       "      <td>0.37</td>\n",
       "    </tr>\n",
       "    <tr>\n",
       "      <th>3</th>\n",
       "      <td>qt_pessoas_residencia</td>\n",
       "      <td>0.03</td>\n",
       "    </tr>\n",
       "    <tr>\n",
       "      <th>0</th>\n",
       "      <td>qtd_filhos</td>\n",
       "      <td>0.02</td>\n",
       "    </tr>\n",
       "    <tr>\n",
       "      <th>4</th>\n",
       "      <td>possui_email</td>\n",
       "      <td>0.01</td>\n",
       "    </tr>\n",
       "    <tr>\n",
       "      <th>5</th>\n",
       "      <td>possui_fone</td>\n",
       "      <td>0.01</td>\n",
       "    </tr>\n",
       "    <tr>\n",
       "      <th>6</th>\n",
       "      <td>possui_fone_comercial</td>\n",
       "      <td>0.01</td>\n",
       "    </tr>\n",
       "  </tbody>\n",
       "</table>\n",
       "</div>"
      ],
      "text/plain": [
       "                variavel  featimp\n",
       "1                  idade     0.54\n",
       "2          tempo_emprego     0.37\n",
       "3  qt_pessoas_residencia     0.03\n",
       "0             qtd_filhos     0.02\n",
       "4           possui_email     0.01\n",
       "5            possui_fone     0.01\n",
       "6  possui_fone_comercial     0.01"
      ]
     },
     "execution_count": 2,
     "metadata": {},
     "output_type": "execute_result"
    }
   ],
   "source": [
    "(pd.DataFrame({\n",
    "            'variavel': cols,\n",
    "            'featimp': rf.feature_importances_}) \n",
    "    .round(decimals=2) \n",
    "    .sort_values('featimp', ascending=False))"
   ]
  },
  {
   "cell_type": "code",
   "execution_count": 3,
   "metadata": {},
   "outputs": [],
   "source": [
    "(pd.DataFrame({\n",
    "            'variavel': cols,\n",
    "            'featimp': rf.feature_importances_}) \n",
    "    .round(decimals=2) \n",
    "    .sort_values('featimp', ascending=False)).to_clipboard()"
   ]
  },
  {
   "cell_type": "code",
   "execution_count": null,
   "metadata": {},
   "outputs": [],
   "source": []
  },
  {
   "cell_type": "code",
   "execution_count": null,
   "metadata": {},
   "outputs": [],
   "source": []
  },
  {
   "cell_type": "code",
   "execution_count": null,
   "metadata": {},
   "outputs": [],
   "source": []
  },
  {
   "cell_type": "code",
   "execution_count": null,
   "metadata": {},
   "outputs": [],
   "source": []
  }
 ],
 "metadata": {
  "kernelspec": {
   "display_name": "Python 3",
   "language": "python",
   "name": "python3"
  },
  "language_info": {
   "codemirror_mode": {
    "name": "ipython",
    "version": 3
   },
   "file_extension": ".py",
   "mimetype": "text/x-python",
   "name": "python",
   "nbconvert_exporter": "python",
   "pygments_lexer": "ipython3",
   "version": "3.10.11"
  },
  "varInspector": {
   "cols": {
    "lenName": 16,
    "lenType": 16,
    "lenVar": 40
   },
   "kernels_config": {
    "python": {
     "delete_cmd_postfix": "",
     "delete_cmd_prefix": "del ",
     "library": "var_list.py",
     "varRefreshCmd": "print(var_dic_list())"
    },
    "r": {
     "delete_cmd_postfix": ") ",
     "delete_cmd_prefix": "rm(",
     "library": "var_list.r",
     "varRefreshCmd": "cat(var_dic_list()) "
    }
   },
   "types_to_exclude": [
    "module",
    "function",
    "builtin_function_or_method",
    "instance",
    "_Feature"
   ],
   "window_display": false
  }
 },
 "nbformat": 4,
 "nbformat_minor": 4
}
