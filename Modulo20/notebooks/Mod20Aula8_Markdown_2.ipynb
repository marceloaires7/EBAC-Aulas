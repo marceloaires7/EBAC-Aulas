{
  "cells": [
    {
      "cell_type": "markdown",
      "metadata": {
        "id": "s1SoOR6N0PiQ"
      },
      "source": [
        "![cabecalho_notebook.png](attachment:cabecalho_notebook.png)"
      ]
    },
    {
      "cell_type": "markdown",
      "metadata": {
        "id": "qVXRohVl0PiS"
      },
      "source": [
        "Módulo 20<br>\n",
        "Professor: Lucas Serra"
      ]
    },
    {
      "cell_type": "markdown",
      "metadata": {
        "id": "xk5InT9w0PiU"
      },
      "source": [
        "# Markdown\n",
        "Link para mais detalhes e exemplos: https://www.markdownguide.org/basic-syntax/"
      ]
    },
    {
      "cell_type": "markdown",
      "metadata": {
        "id": "ywQ732lN0PiW"
      },
      "source": [
        "### Citações\n",
        "Citação usando >\n",
        "\n",
        "**Nelson Mandela:**\n",
        "> \"A educação é a arma mais poderosa que você pode usar para mudar o mundo.\"\n",
        "\n",
        "Citação usando \\<blockquote>\n",
        "\n",
        "**Nelson Mandela:**\n",
        "<blockquote>\"A educação é a arma mais poderosa que você pode usar para mudar o mundo.\"</blockquote>\n"
      ]
    },
    {
      "cell_type": "markdown",
      "metadata": {
        "id": "7M3Kpyda0PiW"
      },
      "source": [
        "### Códigos em alguma linguagem de programação\n",
        "\n",
        "Trecho escrito usando crase (\\`) no início e fim do texto\n",
        "\n",
        "`x = 5`\n",
        "\n",
        "Exemplos de trechos de códigos usando 3 crases (\\`\\`\\`) entre o texto e explicitando qual a linguagem de programação do trecho.\n",
        "\n",
        "**Python**\n",
        "```Python\n",
        "#Isso é um comentario no trecho\n",
        "frase = \"Isto é um código em python\"\n",
        "print(frase)\n",
        "```\n",
        "\n",
        "**C**\n",
        "```C\n",
        "int V[10]; // declaração de vetor V de int\n",
        "V[1]=35; // referência a um elemento\n",
        "V[2]=11;\n",
        "```\n",
        "\n",
        "**C++**\n",
        "```C++\n",
        "#include <iostream>\n",
        "\n",
        "int main()\n",
        "{\n",
        "    std::cout << \"Olá, Mundo!\" << std::endl;\n",
        "}\n",
        "```\n",
        "\n",
        "\n",
        "**Perl**\n",
        "```Perl\n",
        "# Minha primeira variavel\n",
        "my $frase;\n",
        "$frase = \"Hello world!\\n\";\n",
        "# Imprime a variavel frase\n",
        "print $frase;\n",
        "# Fim do programa\n",
        "```\n",
        "\n"
      ]
    },
    {
      "cell_type": "markdown",
      "metadata": {
        "id": "xBH5btfD0PiY"
      },
      "source": [
        "\n",
        "### Quebra de linhas\n",
        "Ao usar a tag \\<br> podemos quebrar a <br> linha ao longo do texto escrito.\n"
      ]
    },
    {
      "cell_type": "markdown",
      "metadata": {
        "id": "c6q2tauZ0PiZ"
      },
      "source": [
        "### Lista com números\n",
        "\n",
        "Podemos fazer uma lista ordenada podemos usar os números no início do texto: 1. Item_1 2. Item_2 3. Item_3\n",
        "\n",
        "1. Item_1 \n",
        "2. Item_2\n",
        "3. Item_3"
      ]
    },
    {
      "cell_type": "markdown",
      "metadata": {
        "id": "KeD21Fmx0Pif"
      },
      "source": [
        "### Bullet points\n",
        "Podemos fazer uma lista usando - na frente do texto: - Item_1 - Item_2 - Item_3\n",
        "\n",
        "- Item_1 \n",
        "- Item_2\n",
        "- Item_3\n"
      ]
    },
    {
      "cell_type": "markdown",
      "metadata": {
        "id": "0BdrLVOV0Pig"
      },
      "source": [
        "### Link de seções\n"
      ]
    },
    {
      "cell_type": "markdown",
      "metadata": {
        "id": "xXRH0nsd0Pih"
      },
      "source": [
        "```Markdown\n",
        "<a id = \"division_ID\"></a>\n",
        "```\n",
        "\n",
        "<a id = \"division_ID\"></a>\n",
        "####  Título\n"
      ]
    },
    {
      "cell_type": "code",
      "execution_count": null,
      "metadata": {
        "id": "V5ni3hPC0Pii"
      },
      "outputs": [],
      "source": []
    },
    {
      "cell_type": "code",
      "execution_count": null,
      "metadata": {
        "id": "xaxY2ZMx0Pij"
      },
      "outputs": [],
      "source": []
    },
    {
      "cell_type": "code",
      "execution_count": null,
      "metadata": {
        "id": "frickBFA0Pik"
      },
      "outputs": [],
      "source": []
    },
    {
      "cell_type": "code",
      "execution_count": null,
      "metadata": {
        "id": "BsI5y1a_0Pil"
      },
      "outputs": [],
      "source": []
    },
    {
      "cell_type": "code",
      "execution_count": null,
      "metadata": {
        "id": "fTqy5I-D0Pim"
      },
      "outputs": [],
      "source": []
    },
    {
      "cell_type": "code",
      "execution_count": null,
      "metadata": {
        "id": "vBkplODL0Pim"
      },
      "outputs": [],
      "source": []
    },
    {
      "cell_type": "code",
      "execution_count": null,
      "metadata": {
        "id": "1MjrKTRe0Pin"
      },
      "outputs": [],
      "source": []
    },
    {
      "cell_type": "code",
      "execution_count": null,
      "metadata": {
        "id": "o8uKvhKV0Pin"
      },
      "outputs": [],
      "source": []
    },
    {
      "cell_type": "markdown",
      "metadata": {
        "id": "EVGGXKVq0Pio"
      },
      "source": [
        "```Markdown\n",
        "\n",
        "[Section title](#division_ID)\n",
        "```\n",
        "\n",
        "[Section title](#division_ID)"
      ]
    },
    {
      "cell_type": "code",
      "execution_count": null,
      "metadata": {
        "id": "YzL92Xxe0Pio"
      },
      "outputs": [],
      "source": []
    },
    {
      "cell_type": "markdown",
      "metadata": {
        "id": "-K7RilVW0Pip"
      },
      "source": [
        "### Link externo\n"
      ]
    },
    {
      "cell_type": "markdown",
      "metadata": {
        "id": "O-6KQsxK0Pip"
      },
      "source": [
        "```Markdown\n",
        "\n",
        "<a href=\"https://www.google.com.br\" >Google</a>\n",
        "```\n",
        "\n",
        "<a href=\"https://www.google.com.br\" >Google</a>\n",
        "\n",
        "\n",
        "```Markdown\n",
        "\n",
        "[Google](https://www.google.com.br)\n",
        "```\n",
        "\n",
        "[Google](https://www.google.com.br)"
      ]
    },
    {
      "cell_type": "code",
      "execution_count": null,
      "metadata": {
        "id": "grCnva1E0Pip"
      },
      "outputs": [],
      "source": []
    },
    {
      "cell_type": "markdown",
      "metadata": {
        "id": "sfG6q8Fc0Pip"
      },
      "source": [
        "### URL de imagens "
      ]
    },
    {
      "cell_type": "markdown",
      "metadata": {
        "id": "WbF4BrPQ0Piq"
      },
      "source": [
        "``` Markdown\n",
        "<img src=\"https://python.org.br/theme/img/site-logo.svg\" width =\"250\" height=\"20\" >\n",
        "```\n",
        "<img src=\"https://python.org.br/theme/img/site-logo.svg\" width =\"120\">\n",
        "\n"
      ]
    },
    {
      "cell_type": "markdown",
      "metadata": {
        "id": "fMEMlrtq0Piq"
      },
      "source": [
        "### Imagens salvas localmente\n"
      ]
    },
    {
      "cell_type": "markdown",
      "metadata": {
        "id": "EwH5TSVz0Piq"
      },
      "source": []
    },
    {
      "cell_type": "code",
      "execution_count": null,
      "metadata": {
        "id": "x9QvO2kM0Piq"
      },
      "outputs": [],
      "source": []
    },
    {
      "cell_type": "markdown",
      "metadata": {
        "id": "G8-ashft0Piq"
      },
      "source": [
        "![title](../img/telmarketing_icon.png)"
      ]
    },
    {
      "cell_type": "markdown",
      "metadata": {
        "id": "xNrpq9JJ0Pir"
      },
      "source": [
        "Link para mais detalhes e exemplos: https://www.markdownguide.org/basic-syntax/"
      ]
    },
    {
      "cell_type": "code",
      "execution_count": null,
      "metadata": {
        "id": "zZz4YMc60Pir"
      },
      "outputs": [],
      "source": []
    },
    {
      "cell_type": "code",
      "execution_count": null,
      "metadata": {
        "id": "Nive7wht0Pir"
      },
      "outputs": [],
      "source": []
    },
    {
      "cell_type": "code",
      "execution_count": null,
      "metadata": {
        "id": "DWSEu1ZZ0Pir"
      },
      "outputs": [],
      "source": []
    },
    {
      "cell_type": "markdown",
      "metadata": {
        "id": "0jWDNGoO0Pis"
      },
      "source": [
        "# LaTeX"
      ]
    },
    {
      "cell_type": "markdown",
      "metadata": {
        "id": "TmRwJ7Wm0Pis"
      },
      "source": [
        "https://www.latex-project.org/ <br> https://en.wikipedia.org/wiki/LaTeX <br> https://pt.wikipedia.org/wiki/LaTeX"
      ]
    },
    {
      "cell_type": "markdown",
      "metadata": {
        "id": "ZVsGo3xs0Pis"
      },
      "source": [
        "### Escreve a fórmula na mesma linha de um texto ou a esquerda\n",
        "\n",
        "Um ``$`` é usado quando queremos escrever uma fórmula na mesma linha que um texto qualquer ou quando queremos escrever apenas a fórmula a esquerda.\n",
        "\n",
        "```Latex \n",
        "$x^2$\n",
        "```\n",
        "$x^2$\n",
        "```Latex \n",
        "Qualquer texto explicando o x quadrado: $x^2$\n",
        "```\n",
        "Qualquer texto explicando o x quadrado: $x^2$\n",
        "\n"
      ]
    },
    {
      "cell_type": "markdown",
      "metadata": {
        "id": "6ohMtVqk0Pis"
      },
      "source": [
        "### Escreve a fórmula centralizada\n",
        "\n",
        "Dois ``$$`` servem para centralizar a fórmula \n",
        "\n",
        "```Latex \n",
        "$$x^2$$\n",
        "```\n",
        "$$x^2$$\n",
        "\n",
        "\n",
        "\n",
        "```Latex \n",
        "Qualquer texto explicando o x quadrado: $$x^2$$\n",
        "```\n",
        "\n",
        "Qualquer texto explicando o x quadrado: $$x^2$$"
      ]
    },
    {
      "cell_type": "markdown",
      "metadata": {
        "id": "i-vje-cw0Pit"
      },
      "source": [
        "### Quebra de linha\n",
        "Duas barras invertidas servem para quebra de linha entre fórmulas\n",
        "\n",
        "\n",
        "\n",
        "```Latex \n",
        "\\\\\n",
        "```\n",
        "\n",
        "```Latex \n",
        "$$x^2\\\\\n",
        "x^2$$\n",
        "```\n",
        "$$x^2\\\\\n",
        "x^2$$"
      ]
    },
    {
      "cell_type": "markdown",
      "metadata": {
        "id": "DM8WVJ0e0Pit"
      },
      "source": [
        "### Fração\n",
        "Para escrever uma fração precisamos utilizar o ``\\frac`` e definir quem é o nosso numerador e quem é o denominador\n",
        "\n",
        "```Latex \n",
        "$\\frac{num}{dem}$\n",
        "```\n",
        "$\\frac{num}{dem}$\n",
        "\n",
        "```Latex \n",
        "$\\frac{2}{5}$\n",
        "```\n",
        "$\\frac{2}{5}$"
      ]
    },
    {
      "cell_type": "markdown",
      "metadata": {
        "id": "4NOc0Lwt0Pit"
      },
      "source": [
        "### Raiz quadrada\n",
        "Para escrever uma raiz quadrada de algum número precisamos utilizar o ``\\sqrt`` (square root) e passar o número\n",
        "\n",
        "```Latex \n",
        "$\\sqrt{100}$\n",
        "```\n",
        "$\\sqrt{100}$\n"
      ]
    },
    {
      "cell_type": "markdown",
      "metadata": {
        "id": "om0KF7n20Pit"
      },
      "source": [
        "### Raiz \n",
        "Para escrever uma raiz de algum número precisamos utilizar o ``\\sqrt[n]`` e passar o número\n",
        "\n",
        "```Latex \n",
        "$\\sqrt[3]{100}$\n",
        "```\n",
        "$\\sqrt[3]{100}$\n"
      ]
    },
    {
      "cell_type": "markdown",
      "metadata": {
        "id": "-CLuFUzM0Piu"
      },
      "source": [
        "### Exponencial\n",
        "Para escrever uma função exponencial deve-se usar o ``e^{número}``\n",
        "\n",
        "```Latex \n",
        "$e^{100}$\n",
        "```\n",
        "$e^{100}$\n",
        "\n"
      ]
    },
    {
      "cell_type": "markdown",
      "metadata": {
        "id": "nLXvmGWk0Piu"
      },
      "source": [
        "### Exponencial com fração\n",
        "Podemos usar um comando dentro de outro\n",
        "\n",
        "```Latex \n",
        "$e^{\\frac{17}{3}}$\n",
        "```\n",
        "$e^{\\frac{17}{3}}$\n",
        "\n"
      ]
    },
    {
      "cell_type": "markdown",
      "metadata": {
        "id": "W8qd2NQl0Piu"
      },
      "source": [
        "### Sobrescrito\n",
        "Podemos usar ^ para sobrescrever um elemento\n",
        "\n",
        "```Latex \n",
        "$i^n$\n",
        "```\n",
        "$i^n$\n",
        "\n",
        "```Latex \n",
        "$^ni$\n",
        "```\n",
        "$^ni$\n"
      ]
    },
    {
      "cell_type": "markdown",
      "metadata": {
        "id": "nh-oCTir0Piu"
      },
      "source": [
        "### Subscrito\n",
        "Podemos usar _ para subscrever um elemento\n",
        "\n",
        "```Latex \n",
        "$i_n$\n",
        "```\n",
        "$i_n$\n",
        "\n",
        "Se quisermos subscrever mais de um elemento devemos usar ``{``\n",
        "```Latex \n",
        "$n_ij$\n",
        "```\n",
        "$n_ij$\n",
        "\n",
        "```Latex \n",
        "$n_{ij}$\n",
        "```\n",
        "$n_{ij}$"
      ]
    },
    {
      "cell_type": "markdown",
      "metadata": {
        "id": "LX_mbxdg0Piv"
      },
      "source": [
        "### Letras gregas\n",
        "Para escrever uma letra grega, basta usar o  ``\\`` e o a letra\n",
        "\n",
        "```Latex \n",
        "$\\pi$\n",
        "```\n",
        "$\\pi$\n",
        "\n",
        "```Latex \n",
        "$\\alpha$\n",
        "```\n",
        "$\\alpha$\n",
        "\n",
        "```Latex \n",
        "$\\omega$\n",
        "```\n",
        "$\\omega$\n",
        "\n",
        "\n",
        "```Latex \n",
        "$\\lambda$\n",
        "```\n",
        "$\\lambda$\n",
        "\n",
        "\n",
        "```Latex \n",
        "$\\theta$\n",
        "```\n",
        "$\\theta$\n",
        "\n",
        "\n",
        "\n",
        "```Latex \n",
        "$\\delta$\n",
        "```\n",
        "$\\delta$\n",
        "\n",
        "```Latex \n",
        "$\\Delta$\n",
        "```\n",
        "$\\Delta$\n"
      ]
    },
    {
      "cell_type": "code",
      "execution_count": null,
      "metadata": {
        "id": "q9sBauwg0Piv"
      },
      "outputs": [],
      "source": []
    },
    {
      "cell_type": "markdown",
      "metadata": {
        "id": "KFEBwrCM0Piw"
      },
      "source": [
        "### Limite\n",
        "\n",
        "Limite tendendo a + infinito: $$\\lim_{x \\to +\\infty} f(x)$$\n",
        "Limite tendendo a - infinito: $$\\lim_{x \\to -\\infty} f(x)$$\t\n",
        "Limite tendendo a $\\alpha$  : $$\\lim_{x \\to \\alpha} f(x)$$\n"
      ]
    },
    {
      "cell_type": "markdown",
      "metadata": {
        "id": "_zdufRhF0Piw"
      },
      "source": [
        "https://towardsdatascience.com/write-markdown-latex-in-the-jupyter-notebook-10985edb91fd"
      ]
    },
    {
      "cell_type": "code",
      "execution_count": null,
      "metadata": {
        "id": "fqMPNz5w0Piw"
      },
      "outputs": [],
      "source": []
    },
    {
      "cell_type": "code",
      "execution_count": null,
      "metadata": {
        "id": "51AnXeMc0Piw"
      },
      "outputs": [],
      "source": []
    },
    {
      "cell_type": "code",
      "execution_count": null,
      "metadata": {
        "id": "pB4yNeKj0Pix"
      },
      "outputs": [],
      "source": []
    },
    {
      "cell_type": "code",
      "execution_count": null,
      "metadata": {
        "id": "ufNglrbF0Pix"
      },
      "outputs": [],
      "source": []
    },
    {
      "cell_type": "code",
      "execution_count": null,
      "metadata": {
        "id": "o3J7ciHk0Pix"
      },
      "outputs": [],
      "source": []
    },
    {
      "cell_type": "markdown",
      "metadata": {
        "id": "K4wVaMrB0Pix"
      },
      "source": [
        "# Tarefa 1\n",
        "\n",
        "Escreva o texto abaixo que se encontra no [link](https://www.educamaisbrasil.com.br/enem/matematica/formula-de-bhaskara) usando markdown e LaTeX"
      ]
    },
    {
      "cell_type": "markdown",
      "metadata": {
        "id": "WUVmogSf0Piy"
      },
      "source": [
        "![Tarefa2.PNG](attachment:Tarefa2.PNG)"
      ]
    },
    {
      "cell_type": "code",
      "execution_count": null,
      "metadata": {
        "id": "FJV8hwEx0Piy"
      },
      "outputs": [],
      "source": []
    },
    {
      "cell_type": "code",
      "execution_count": null,
      "metadata": {
        "id": "Y-Hp6bWO0Piy"
      },
      "outputs": [],
      "source": []
    },
    {
      "cell_type": "code",
      "execution_count": null,
      "metadata": {
        "id": "BjCCnc3j0Piy"
      },
      "outputs": [],
      "source": []
    },
    {
      "cell_type": "code",
      "execution_count": null,
      "metadata": {
        "id": "g91ljiyB0Piy"
      },
      "outputs": [],
      "source": []
    }
  ],
  "metadata": {
    "colab": {
      "provenance": []
    },
    "kernelspec": {
      "display_name": "Python 3",
      "language": "python",
      "name": "python3"
    },
    "language_info": {
      "codemirror_mode": {
        "name": "ipython",
        "version": 3
      },
      "file_extension": ".py",
      "mimetype": "text/x-python",
      "name": "python",
      "nbconvert_exporter": "python",
      "pygments_lexer": "ipython3",
      "version": "3.10.12"
    },
    "varInspector": {
      "cols": {
        "lenName": 16,
        "lenType": 16,
        "lenVar": 40
      },
      "kernels_config": {
        "python": {
          "delete_cmd_postfix": "",
          "delete_cmd_prefix": "del ",
          "library": "var_list.py",
          "varRefreshCmd": "print(var_dic_list())"
        },
        "r": {
          "delete_cmd_postfix": ") ",
          "delete_cmd_prefix": "rm(",
          "library": "var_list.r",
          "varRefreshCmd": "cat(var_dic_list()) "
        }
      },
      "types_to_exclude": [
        "module",
        "function",
        "builtin_function_or_method",
        "instance",
        "_Feature"
      ],
      "window_display": false
    }
  },
  "nbformat": 4,
  "nbformat_minor": 0
}
