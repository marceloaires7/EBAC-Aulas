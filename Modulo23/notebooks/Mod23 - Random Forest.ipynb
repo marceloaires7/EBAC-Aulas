{
 "cells": [
  {
   "cell_type": "code",
   "execution_count": 1,
   "metadata": {},
   "outputs": [],
   "source": [
    "import patsy\n",
    "import pandas as pd\n",
    "import seaborn as sns\n",
    "import matplotlib.pyplot as plt\n",
    "\n",
    "from datetime import datetime\n",
    "\n",
    "from scipy.stats import ks_2samp\n",
    "from sklearn.metrics import accuracy_score, roc_auc_score\n",
    "from sklearn.model_selection import train_test_split\n",
    "\n",
    "from sklearn.ensemble import RandomForestClassifier\n"
   ]
  },
  {
   "cell_type": "code",
   "execution_count": 2,
   "metadata": {},
   "outputs": [
    {
     "data": {
      "text/html": [
       "<div>\n",
       "<style scoped>\n",
       "    .dataframe tbody tr th:only-of-type {\n",
       "        vertical-align: middle;\n",
       "    }\n",
       "\n",
       "    .dataframe tbody tr th {\n",
       "        vertical-align: top;\n",
       "    }\n",
       "\n",
       "    .dataframe thead th {\n",
       "        text-align: right;\n",
       "    }\n",
       "</style>\n",
       "<table border=\"1\" class=\"dataframe\">\n",
       "  <thead>\n",
       "    <tr style=\"text-align: right;\">\n",
       "      <th></th>\n",
       "      <th>data_ref</th>\n",
       "      <th>id_cliente</th>\n",
       "      <th>sexo</th>\n",
       "      <th>posse_de_veiculo</th>\n",
       "      <th>posse_de_imovel</th>\n",
       "      <th>qtd_filhos</th>\n",
       "      <th>tipo_renda</th>\n",
       "      <th>educacao</th>\n",
       "      <th>estado_civil</th>\n",
       "      <th>tipo_residencia</th>\n",
       "      <th>idade</th>\n",
       "      <th>tempo_emprego</th>\n",
       "      <th>qt_pessoas_residencia</th>\n",
       "      <th>renda</th>\n",
       "      <th>mau</th>\n",
       "    </tr>\n",
       "  </thead>\n",
       "  <tbody>\n",
       "    <tr>\n",
       "      <th>0</th>\n",
       "      <td>2015-01-01</td>\n",
       "      <td>1</td>\n",
       "      <td>F</td>\n",
       "      <td>True</td>\n",
       "      <td>True</td>\n",
       "      <td>0</td>\n",
       "      <td>Assalariado</td>\n",
       "      <td>Secundário</td>\n",
       "      <td>Casado</td>\n",
       "      <td>Casa</td>\n",
       "      <td>49</td>\n",
       "      <td>8.605479</td>\n",
       "      <td>2.0</td>\n",
       "      <td>1916.54</td>\n",
       "      <td>0</td>\n",
       "    </tr>\n",
       "    <tr>\n",
       "      <th>1</th>\n",
       "      <td>2015-01-01</td>\n",
       "      <td>2</td>\n",
       "      <td>M</td>\n",
       "      <td>True</td>\n",
       "      <td>False</td>\n",
       "      <td>0</td>\n",
       "      <td>Empresário</td>\n",
       "      <td>Secundário</td>\n",
       "      <td>União</td>\n",
       "      <td>Casa</td>\n",
       "      <td>60</td>\n",
       "      <td>6.953425</td>\n",
       "      <td>2.0</td>\n",
       "      <td>2967.25</td>\n",
       "      <td>0</td>\n",
       "    </tr>\n",
       "    <tr>\n",
       "      <th>2</th>\n",
       "      <td>2015-01-01</td>\n",
       "      <td>3</td>\n",
       "      <td>F</td>\n",
       "      <td>True</td>\n",
       "      <td>False</td>\n",
       "      <td>0</td>\n",
       "      <td>Empresário</td>\n",
       "      <td>Secundário</td>\n",
       "      <td>Casado</td>\n",
       "      <td>Casa</td>\n",
       "      <td>28</td>\n",
       "      <td>0.682192</td>\n",
       "      <td>2.0</td>\n",
       "      <td>340.96</td>\n",
       "      <td>0</td>\n",
       "    </tr>\n",
       "    <tr>\n",
       "      <th>3</th>\n",
       "      <td>2015-01-01</td>\n",
       "      <td>4</td>\n",
       "      <td>F</td>\n",
       "      <td>False</td>\n",
       "      <td>True</td>\n",
       "      <td>0</td>\n",
       "      <td>Assalariado</td>\n",
       "      <td>Superior completo</td>\n",
       "      <td>Casado</td>\n",
       "      <td>Casa</td>\n",
       "      <td>60</td>\n",
       "      <td>1.879452</td>\n",
       "      <td>2.0</td>\n",
       "      <td>4903.16</td>\n",
       "      <td>0</td>\n",
       "    </tr>\n",
       "    <tr>\n",
       "      <th>4</th>\n",
       "      <td>2015-01-01</td>\n",
       "      <td>5</td>\n",
       "      <td>F</td>\n",
       "      <td>False</td>\n",
       "      <td>False</td>\n",
       "      <td>0</td>\n",
       "      <td>Empresário</td>\n",
       "      <td>Secundário</td>\n",
       "      <td>Casado</td>\n",
       "      <td>Casa</td>\n",
       "      <td>47</td>\n",
       "      <td>8.438356</td>\n",
       "      <td>2.0</td>\n",
       "      <td>3012.60</td>\n",
       "      <td>0</td>\n",
       "    </tr>\n",
       "  </tbody>\n",
       "</table>\n",
       "</div>"
      ],
      "text/plain": [
       "    data_ref  id_cliente sexo  posse_de_veiculo  posse_de_imovel  qtd_filhos  \\\n",
       "0 2015-01-01           1    F              True             True           0   \n",
       "1 2015-01-01           2    M              True            False           0   \n",
       "2 2015-01-01           3    F              True            False           0   \n",
       "3 2015-01-01           4    F             False             True           0   \n",
       "4 2015-01-01           5    F             False            False           0   \n",
       "\n",
       "    tipo_renda           educacao estado_civil tipo_residencia  idade  \\\n",
       "0  Assalariado         Secundário       Casado            Casa     49   \n",
       "1   Empresário         Secundário        União            Casa     60   \n",
       "2   Empresário         Secundário       Casado            Casa     28   \n",
       "3  Assalariado  Superior completo       Casado            Casa     60   \n",
       "4   Empresário         Secundário       Casado            Casa     47   \n",
       "\n",
       "   tempo_emprego  qt_pessoas_residencia    renda  mau  \n",
       "0       8.605479                    2.0  1916.54    0  \n",
       "1       6.953425                    2.0  2967.25    0  \n",
       "2       0.682192                    2.0   340.96    0  \n",
       "3       1.879452                    2.0  4903.16    0  \n",
       "4       8.438356                    2.0  3012.60    0  "
      ]
     },
     "execution_count": 2,
     "metadata": {},
     "output_type": "execute_result"
    }
   ],
   "source": [
    "df = pd.read_csv('credit_scoring.csv', parse_dates = ['data_ref'])\n",
    "\n",
    "df['tempo_emprego'].fillna(-1, inplace=True)\n",
    "df.head()"
   ]
  },
  {
   "cell_type": "markdown",
   "metadata": {},
   "source": [
    "#### Bases de desenvolvimento, validação e *out-of-time*\n",
    "\n",
    "Vamos separar as bases que utilizaremos para desenvolver o modelo (train), *tunar* o modelo (test) e avaliar a performance (val)."
   ]
  },
  {
   "cell_type": "code",
   "execution_count": 3,
   "metadata": {},
   "outputs": [
    {
     "name": "stdout",
     "output_type": "stream",
     "text": [
      "Quantidade de linhas no treino:     42000\n",
      "Quantidade de linhas no teste:      18000\n",
      "Quantidade de linhas na validação:  15000\n"
     ]
    }
   ],
   "source": [
    "# Selecionar meses de 2016 para validação\n",
    "df_val = df[df['data_ref'] >= datetime(2016,1,1)].copy()\n",
    "\n",
    "# Selecionar meses de 2015 para treinamento e teste\n",
    "df = df[df['data_ref'] < datetime(2016,1,1)]\n",
    "\n",
    "df_train, df_test = train_test_split(df, test_size=0.3, random_state=12)\n",
    "\n",
    "df_train = df_train.reset_index(drop=True)\n",
    "df_test = df_test.reset_index(drop=True)\n",
    "df_val = df_val.reset_index(drop=True)\n",
    "\n",
    "print('Quantidade de linhas no treino:    ',df_train.shape[0])\n",
    "print('Quantidade de linhas no teste:     ',df_test.shape[0])\n",
    "print('Quantidade de linhas na validação: ',df_val.shape[0])"
   ]
  },
  {
   "cell_type": "code",
   "execution_count": 4,
   "metadata": {},
   "outputs": [],
   "source": [
    "equacao = '''mau ~ sexo + posse_de_veiculo + posse_de_imovel + qtd_filhos + tipo_renda + educacao \n",
    "            + estado_civil + tipo_residencia + idade + qt_pessoas_residencia'''\n",
    "           \n",
    "y_train, X_train = patsy.dmatrices(equacao, data=df_train)\n",
    "y_test, X_test = patsy.dmatrices(equacao, data=df_test)\n",
    "y_val, X_val = patsy.dmatrices(equacao, data=df_val)\n"
   ]
  },
  {
   "cell_type": "markdown",
   "metadata": {},
   "source": [
    "## Métricas para problemas de classificação\n",
    "\n",
    "Vamos avaliar o desempenho do random forest nas base de treinamento, teste e validação. Vamos avaliar a partir das seguintes métricas KS, Gini, AUC e Acurácia."
   ]
  },
  {
   "cell_type": "markdown",
   "metadata": {},
   "source": [
    "#### Função para calcular o desempenho\n",
    "\n",
    "Para facilitar essas comparações, vamos construir uma função para calcular todos esses indicadores. É interessante colocar valores padrão para os parâmetros da função, assim, vamos poder indicar somente a base de dados para rodar a função com os valores padrão dela."
   ]
  },
  {
   "cell_type": "code",
   "execution_count": 5,
   "metadata": {},
   "outputs": [],
   "source": [
    "# Calcular o Gini\n",
    "def calcula_gini(RESP, PD):\n",
    "    #AUC\n",
    "    auc = roc_auc_score(RESP, PD)\n",
    "    \n",
    "    #Gini\n",
    "    gini = 2*auc -1\n",
    "    return gini\n",
    "\n",
    "\n",
    "def print_metricas(dados, \n",
    "                  PD = 'PD', \n",
    "                  CLASSE_PRED = 'classe_predita', \n",
    "                  RESP = 'mau'):\n",
    "    \n",
    "    #Acuracia\n",
    "    acc = accuracy_score(dados[RESP], dados[CLASSE_PRED])\n",
    "\n",
    "    #AUC\n",
    "    auc = roc_auc_score(dados[RESP], dados[PD])\n",
    "    \n",
    "    #Gini\n",
    "    gini = 2*auc-1\n",
    "    \n",
    "    #KS\n",
    "    ks = ks_2samp(dados.loc[dados[RESP] == 1, PD], \n",
    "                  dados.loc[dados[RESP] != 1, PD]).statistic\n",
    "\n",
    "    print('KS:       {0:.2f}%'.format(ks*100))\n",
    "    print('AUC:      {0:.2f}%'.format(auc*100))\n",
    "    print('GINI:     {0:.2f}%'.format(gini*100))\n",
    "    print('Acurácia: {0:.2f}%\\n'.format(acc*100))\n",
    "    \n",
    "    return None"
   ]
  },
  {
   "cell_type": "markdown",
   "metadata": {},
   "source": [
    "## Random Forest no scikitlearn"
   ]
  },
  {
   "cell_type": "code",
   "execution_count": 6,
   "metadata": {},
   "outputs": [
    {
     "name": "stdout",
     "output_type": "stream",
     "text": [
      "KS:       22.27%\n",
      "AUC:      65.69%\n",
      "GINI:     31.39%\n",
      "Acurácia: 93.03%\n",
      "\n",
      "KS:       16.06%\n",
      "AUC:      60.39%\n",
      "GINI:     20.77%\n",
      "Acurácia: 93.16%\n",
      "\n",
      "KS:       16.62%\n",
      "AUC:      60.38%\n",
      "GINI:     20.75%\n",
      "Acurácia: 92.88%\n",
      "\n",
      "Wall time: 25.8 s\n"
     ]
    }
   ],
   "source": [
    "%%time\n",
    "\n",
    "clf = RandomForestClassifier(n_estimators=600, \n",
    "                             max_depth=13,\n",
    "                             min_samples_leaf=41)\n",
    "\n",
    "clf.fit(X_train,y_train.ravel())\n",
    "\n",
    "df_train['classe_predita'] = clf.predict(X_train)\n",
    "df_train['PD'] = clf.predict_proba(X_train)[:,1]\n",
    "\n",
    "df_test['classe_predita'] = clf.predict(X_test)\n",
    "df_test['PD'] = clf.predict_proba(X_test)[:,1]\n",
    "\n",
    "df_val['classe_predita'] = clf.predict(X_val)\n",
    "df_val['PD'] = clf.predict_proba(X_val)[:,1]\n",
    "\n",
    "print_metricas(dados = df_train)\n",
    "print_metricas(dados = df_test)\n",
    "print_metricas(dados = df_val)"
   ]
  },
  {
   "cell_type": "code",
   "execution_count": null,
   "metadata": {},
   "outputs": [],
   "source": []
  },
  {
   "cell_type": "code",
   "execution_count": null,
   "metadata": {},
   "outputs": [],
   "source": []
  },
  {
   "cell_type": "markdown",
   "metadata": {},
   "source": [
    "# 2. Hiperparâmetros\n",
    "\n",
    "Hiperparâmetros são parâmetros que controlam como o algoritmo é otimizado. O número de árvores por exemplo é um hiperparâmetro da *random forest*.\n",
    "\n",
    "Qual é o melhor conjunto de hiperparâmetros para o *random forest*? Esta é a pergunta de ouro :) Mas felizmente há um método estruturado para se buscar esses hiperparâmetros, esse método é conhecido como *grid search* (ou busca em grade).\n",
    "\n",
    "Vamos exemplificar essa busca de modo simplificado abaixo, buscando parâmetros um a um, em seguida variando mais de um ao longo de uma *grade* como o nome do método sugere."
   ]
  },
  {
   "cell_type": "markdown",
   "metadata": {},
   "source": [
    "## Gridsearch 1 - variando o número de árvores\n",
    "\n",
    "Vamos estabelecer parâmetros fixos de ```max_depth``` e ```min_samples_leaf```, e variar o número de árvores, e avaliar a cada rodada o desempenho do modelo."
   ]
  },
  {
   "cell_type": "code",
   "execution_count": 7,
   "metadata": {},
   "outputs": [
    {
     "data": {
      "text/plain": [
       "[100, 250, 400, 550, 700, 850, 1000]"
      ]
     },
     "execution_count": 7,
     "metadata": {},
     "output_type": "execute_result"
    }
   ],
   "source": [
    "grid = list(range(100, 1001, 150))\n",
    "grid"
   ]
  },
  {
   "cell_type": "code",
   "execution_count": 8,
   "metadata": {},
   "outputs": [
    {
     "name": "stdout",
     "output_type": "stream",
     "text": [
      "100\n",
      "250\n",
      "400\n",
      "550\n",
      "700\n",
      "850\n",
      "1000\n"
     ]
    }
   ],
   "source": [
    "for num_arvores in grid:\n",
    "    print(num_arvores)"
   ]
  },
  {
   "cell_type": "code",
   "execution_count": null,
   "metadata": {},
   "outputs": [],
   "source": []
  },
  {
   "cell_type": "code",
   "execution_count": 9,
   "metadata": {},
   "outputs": [
    {
     "name": "stdout",
     "output_type": "stream",
     "text": [
      "Wall time: 1min 59s\n"
     ]
    }
   ],
   "source": [
    "%%time\n",
    "lista_gini_test=[]\n",
    "lista_gini_train=[]\n",
    "\n",
    "grid = list(range(100, 1001, 150))\n",
    "\n",
    "for num_arvores in grid:\n",
    "    clf = RandomForestClassifier(n_estimators=num_arvores,\n",
    "                                 max_depth=10,\n",
    "                                 min_samples_leaf=5)\n",
    "    \n",
    "    clf.fit(X_train,y_train.ravel())\n",
    "    \n",
    "    gini_test  = calcula_gini(y_test, clf.predict_proba(X_test)[:,1])\n",
    "    gini_train = calcula_gini(y_train, clf.predict_proba(X_train)[:,1])\n",
    "    \n",
    "    lista_gini_test.append(gini_test)\n",
    "    lista_gini_train.append(gini_train)\n"
   ]
  },
  {
   "cell_type": "code",
   "execution_count": 10,
   "metadata": {},
   "outputs": [
    {
     "data": {
      "text/plain": [
       "[100, 250, 400, 550, 700, 850, 1000]"
      ]
     },
     "execution_count": 10,
     "metadata": {},
     "output_type": "execute_result"
    }
   ],
   "source": [
    "grid = list(range(100, 1001, 150))\n",
    "grid"
   ]
  },
  {
   "cell_type": "code",
   "execution_count": null,
   "metadata": {},
   "outputs": [],
   "source": [
    "clf = RandomForestClassifier(n_estimators=100,\n",
    "                             max_depth=10,\n",
    "                             min_samples_leaf=5)\n",
    "\n",
    "clf = RandomForestClassifier(n_estimators=250,\n",
    "                             max_depth=10,\n",
    "                             min_samples_leaf=5)\n",
    "\n",
    "clf = RandomForestClassifier(n_estimators=400,\n",
    "                             max_depth=10,\n",
    "                             min_samples_leaf=5)\n",
    "\n",
    "clf = RandomForestClassifier(n_estimators=550,\n",
    "                             max_depth=10,\n",
    "                             min_samples_leaf=5)\n",
    "\n",
    "clf = RandomForestClassifier(n_estimators=700,\n",
    "                             max_depth=10,\n",
    "                             min_samples_leaf=5)\n",
    "\n",
    "clf = RandomForestClassifier(n_estimators=850,\n",
    "                             max_depth=10,\n",
    "                             min_samples_leaf=5)\n",
    "\n",
    "clf = RandomForestClassifier(n_estimators=1000,\n",
    "                             max_depth=10,\n",
    "                             min_samples_leaf=5)"
   ]
  },
  {
   "cell_type": "code",
   "execution_count": 11,
   "metadata": {},
   "outputs": [
    {
     "name": "stdout",
     "output_type": "stream",
     "text": [
      "Wall time: 1min 9s\n"
     ]
    }
   ],
   "source": [
    "%%time\n",
    "lista_gini_test=[]\n",
    "lista_gini_train=[]\n",
    "\n",
    "grid = list(range(100, 1001, 150))\n",
    "\n",
    "for num_arvores in grid:\n",
    "    clf = RandomForestClassifier(n_estimators=num_arvores,\n",
    "                                 max_depth=10,\n",
    "                                 min_samples_leaf=5,\n",
    "                                 n_jobs=-1)\n",
    "    \n",
    "    clf.fit(X_train,y_train.ravel())\n",
    "    \n",
    "    gini_test  = calcula_gini(y_test, clf.predict_proba(X_test)[:,1])\n",
    "    gini_train = calcula_gini(y_train, clf.predict_proba(X_train)[:,1])\n",
    "    \n",
    "    lista_gini_test.append(gini_test)\n",
    "    lista_gini_train.append(gini_train)\n"
   ]
  },
  {
   "cell_type": "code",
   "execution_count": null,
   "metadata": {},
   "outputs": [],
   "source": []
  },
  {
   "cell_type": "code",
   "execution_count": null,
   "metadata": {},
   "outputs": [],
   "source": []
  },
  {
   "cell_type": "code",
   "execution_count": null,
   "metadata": {},
   "outputs": [],
   "source": []
  },
  {
   "cell_type": "code",
   "execution_count": 12,
   "metadata": {},
   "outputs": [
    {
     "name": "stdout",
     "output_type": "stream",
     "text": [
      "{100: 0.35814185760465134, 250: 0.3605789749707762, 400: 0.36197886707745486, 550: 0.3604864217827939, 700: 0.3623603593393043, 850: 0.36181033895792947, 1000: 0.3605198755850818}\n",
      "100     0.358142\n",
      "250     0.360579\n",
      "400     0.361979\n",
      "550     0.360486\n",
      "700     0.362360\n",
      "850     0.361810\n",
      "1000    0.360520\n",
      "dtype: float64\n"
     ]
    }
   ],
   "source": [
    "zip_gini_train = zip(list(range(100, 1001, 150)), lista_gini_train)\n",
    "zip_gini_test = zip(list(range(100, 1001, 150)), lista_gini_test)\n",
    "\n",
    "dict_gini_train = dict(zip_gini_train)\n",
    "dict_gini_test = dict(zip_gini_test)\n",
    "print(dict_gini_train)\n",
    "\n",
    "series_gini_train = pd.Series(dict_gini_train)\n",
    "series_gini_test = pd.Series(dict_gini_test)\n",
    "print(series_gini_train)"
   ]
  },
  {
   "cell_type": "code",
   "execution_count": 13,
   "metadata": {},
   "outputs": [
    {
     "data": {
      "image/png": "[encoded data removed]",
      "text/plain": [
       "<Figure size 432x288 with 1 Axes>"
      ]
     },
     "metadata": {
      "needs_background": "light"
     },
     "output_type": "display_data"
    }
   ],
   "source": [
    "#Plot comparando o gini no treino e no teste\n",
    "fig, ax = plt.subplots()\n",
    "\n",
    "ax.plot(series_gini_train, '-b', label='Treino')\n",
    "ax.plot(series_gini_test,  '--r', label='Teste')\n",
    "\n",
    "leg = ax.legend()\n"
   ]
  },
  {
   "cell_type": "code",
   "execution_count": 14,
   "metadata": {},
   "outputs": [
    {
     "name": "stdout",
     "output_type": "stream",
     "text": [
      "[1, 21, 41, 61, 81, 101, 121, 141, 161, 181, 201, 221, 241, 261, 281, 301, 321, 341, 361, 381, 401, 421, 441, 461, 481, 501, 521, 541, 561, 581, 601, 621, 641, 661, 681, 701, 721, 741, 761, 781, 801, 821, 841, 861, 881, 901, 921, 941, 961, 981]\n"
     ]
    }
   ],
   "source": [
    "grid = list(range(1, 1000, 20))\n",
    "print(grid)"
   ]
  },
  {
   "cell_type": "code",
   "execution_count": 15,
   "metadata": {},
   "outputs": [
    {
     "data": {
      "text/plain": [
       "50"
      ]
     },
     "execution_count": 15,
     "metadata": {},
     "output_type": "execute_result"
    }
   ],
   "source": [
    "len(grid)"
   ]
  },
  {
   "cell_type": "code",
   "execution_count": 16,
   "metadata": {},
   "outputs": [
    {
     "name": "stdout",
     "output_type": "stream",
     "text": [
      "[1, 21, 41, 61, 81, 101, 121, 141, 161, 181, 201, 221, 241, 261, 281, 301, 321, 341, 361, 381, 401, 421, 441, 461, 481, 501, 521, 541, 561, 581, 601, 621, 641, 661, 681, 701, 721, 741, 761, 781, 801, 821, 841, 861, 881, 901, 921, 941, 961, 981]\n",
      "Wall time: 7min 39s\n"
     ]
    }
   ],
   "source": [
    "%%time\n",
    "\n",
    "lista_gini_test=[]\n",
    "lista_gini_train=[]\n",
    "\n",
    "grid = list(range(1, 1000, 20))\n",
    "print(grid)\n",
    "\n",
    "for num_arvores in grid:\n",
    "    clf = RandomForestClassifier(n_estimators=num_arvores,\n",
    "                                 max_depth=10,\n",
    "                                 min_samples_leaf=5,\n",
    "                                 n_jobs=-1)\n",
    "    \n",
    "    clf.fit(X_train, y_train.ravel())\n",
    "    \n",
    "    gini_test  = calcula_gini(y_test, clf.predict_proba(X_test)[:,1])\n",
    "    gini_train = calcula_gini(y_train, clf.predict_proba(X_train)[:,1])\n",
    "    \n",
    "    lista_gini_test.append(gini_test)\n",
    "    lista_gini_train.append(gini_train)"
   ]
  },
  {
   "cell_type": "code",
   "execution_count": 17,
   "metadata": {},
   "outputs": [
    {
     "data": {
      "image/png": "[encoded data removed]",
      "text/plain": [
       "<Figure size 432x288 with 1 Axes>"
      ]
     },
     "metadata": {
      "needs_background": "light"
     },
     "output_type": "display_data"
    }
   ],
   "source": [
    "fig, ax = plt.subplots()\n",
    "ax.plot(lista_gini_train, '-b', label='DES')\n",
    "ax.plot(lista_gini_test, '--r', label='OOS')\n",
    "\n",
    "leg = ax.legend()\n",
    "ticks = ax.set_xticks(range(0, len(grid), 10))\n",
    "labels = ax.set_xticklabels(labels=grid[::10], rotation=30, fontsize='small');"
   ]
  },
  {
   "cell_type": "markdown",
   "metadata": {},
   "source": [
    "## Função GridSearchCV"
   ]
  },
  {
   "cell_type": "code",
   "execution_count": 19,
   "metadata": {},
   "outputs": [
    {
     "data": {
      "text/plain": [
       "[1, 501]"
      ]
     },
     "execution_count": 19,
     "metadata": {},
     "output_type": "execute_result"
    }
   ],
   "source": [
    "list(range(1, 1001, 500))"
   ]
  },
  {
   "cell_type": "code",
   "execution_count": 20,
   "metadata": {},
   "outputs": [],
   "source": [
    "from sklearn.model_selection import GridSearchCV\n"
   ]
  },
  {
   "cell_type": "code",
   "execution_count": 21,
   "metadata": {
    "scrolled": true
   },
   "outputs": [
    {
     "name": "stderr",
     "output_type": "stream",
     "text": [
      "C:\\Users\\lucas_000\\anaconda3\\lib\\site-packages\\sklearn\\model_selection\\_validation.py:531: DataConversionWarning: A column-vector y was passed when a 1d array was expected. Please change the shape of y to (n_samples,), for example using ravel().\n",
      "  estimator.fit(X_train, y_train, **fit_params)\n",
      "C:\\Users\\lucas_000\\anaconda3\\lib\\site-packages\\sklearn\\model_selection\\_validation.py:531: DataConversionWarning: A column-vector y was passed when a 1d array was expected. Please change the shape of y to (n_samples,), for example using ravel().\n",
      "  estimator.fit(X_train, y_train, **fit_params)\n",
      "C:\\Users\\lucas_000\\anaconda3\\lib\\site-packages\\sklearn\\model_selection\\_validation.py:531: DataConversionWarning: A column-vector y was passed when a 1d array was expected. Please change the shape of y to (n_samples,), for example using ravel().\n",
      "  estimator.fit(X_train, y_train, **fit_params)\n",
      "C:\\Users\\lucas_000\\anaconda3\\lib\\site-packages\\sklearn\\model_selection\\_validation.py:531: DataConversionWarning: A column-vector y was passed when a 1d array was expected. Please change the shape of y to (n_samples,), for example using ravel().\n",
      "  estimator.fit(X_train, y_train, **fit_params)\n",
      "C:\\Users\\lucas_000\\anaconda3\\lib\\site-packages\\sklearn\\model_selection\\_validation.py:531: DataConversionWarning: A column-vector y was passed when a 1d array was expected. Please change the shape of y to (n_samples,), for example using ravel().\n",
      "  estimator.fit(X_train, y_train, **fit_params)\n",
      "C:\\Users\\lucas_000\\anaconda3\\lib\\site-packages\\sklearn\\model_selection\\_validation.py:531: DataConversionWarning: A column-vector y was passed when a 1d array was expected. Please change the shape of y to (n_samples,), for example using ravel().\n",
      "  estimator.fit(X_train, y_train, **fit_params)\n",
      "C:\\Users\\lucas_000\\anaconda3\\lib\\site-packages\\sklearn\\model_selection\\_validation.py:531: DataConversionWarning: A column-vector y was passed when a 1d array was expected. Please change the shape of y to (n_samples,), for example using ravel().\n",
      "  estimator.fit(X_train, y_train, **fit_params)\n",
      "C:\\Users\\lucas_000\\anaconda3\\lib\\site-packages\\sklearn\\model_selection\\_validation.py:531: DataConversionWarning: A column-vector y was passed when a 1d array was expected. Please change the shape of y to (n_samples,), for example using ravel().\n",
      "  estimator.fit(X_train, y_train, **fit_params)\n",
      "C:\\Users\\lucas_000\\anaconda3\\lib\\site-packages\\sklearn\\model_selection\\_validation.py:531: DataConversionWarning: A column-vector y was passed when a 1d array was expected. Please change the shape of y to (n_samples,), for example using ravel().\n",
      "  estimator.fit(X_train, y_train, **fit_params)\n",
      "C:\\Users\\lucas_000\\anaconda3\\lib\\site-packages\\sklearn\\model_selection\\_validation.py:531: DataConversionWarning: A column-vector y was passed when a 1d array was expected. Please change the shape of y to (n_samples,), for example using ravel().\n",
      "  estimator.fit(X_train, y_train, **fit_params)\n",
      "C:\\Users\\lucas_000\\anaconda3\\lib\\site-packages\\sklearn\\model_selection\\_search.py:765: DataConversionWarning: A column-vector y was passed when a 1d array was expected. Please change the shape of y to (n_samples,), for example using ravel().\n",
      "  self.best_estimator_.fit(X, y, **fit_params)\n"
     ]
    },
    {
     "name": "stdout",
     "output_type": "stream",
     "text": [
      "Wall time: 1min\n"
     ]
    },
    {
     "data": {
      "text/plain": [
       "GridSearchCV(cv=5, estimator=RandomForestClassifier(),\n",
       "             param_grid={'max_depth': [10], 'min_samples_leaf': [5],\n",
       "                         'n_estimators': [1, 501]},\n",
       "             scoring='accuracy')"
      ]
     },
     "execution_count": 21,
     "metadata": {},
     "output_type": "execute_result"
    }
   ],
   "source": [
    "%%time\n",
    "from sklearn.model_selection import GridSearchCV\n",
    "\n",
    "rf = RandomForestClassifier()\n",
    "\n",
    "params = {\n",
    "    'max_depth' : [10],\n",
    "    'min_samples_leaf': [5],\n",
    "    'n_estimators': list(range(1, 1001, 500))\n",
    "}\n",
    "\n",
    "grid_rf = GridSearchCV(estimator = rf,\n",
    "                        param_grid = params,\n",
    "                        scoring = 'accuracy', \n",
    "                        cv = 5)\n",
    "\n",
    "grid_rf.fit(X_train, y_train)"
   ]
  },
  {
   "cell_type": "code",
   "execution_count": 23,
   "metadata": {},
   "outputs": [
    {
     "data": {
      "text/plain": [
       "[{'max_depth': 10, 'min_samples_leaf': 5, 'n_estimators': 1},\n",
       " {'max_depth': 10, 'min_samples_leaf': 5, 'n_estimators': 501}]"
      ]
     },
     "execution_count": 23,
     "metadata": {},
     "output_type": "execute_result"
    }
   ],
   "source": [
    "grid_rf.cv_results_['params']"
   ]
  },
  {
   "cell_type": "code",
   "execution_count": 24,
   "metadata": {},
   "outputs": [
    {
     "name": "stdout",
     "output_type": "stream",
     "text": [
      "RandomForestClassifier(max_depth=10, min_samples_leaf=5, n_estimators=501)\n"
     ]
    }
   ],
   "source": [
    "print(grid_rf.best_estimator_)\n"
   ]
  },
  {
   "cell_type": "code",
   "execution_count": 25,
   "metadata": {},
   "outputs": [
    {
     "name": "stdout",
     "output_type": "stream",
     "text": [
      "RandomForestClassifier(max_depth=10, min_samples_leaf=5, n_estimators=501)\n",
      "0.9316111111111111\n",
      "0.9316111111111111\n"
     ]
    }
   ],
   "source": [
    "# print os melhores parametros\n",
    "print(grid_rf.best_estimator_)\n",
    "\n",
    "# \n",
    "print(grid_rf.best_estimator_.score(X_test, y_test))\n",
    "print(grid_rf.score(X_test, y_test))\n",
    "\n"
   ]
  },
  {
   "cell_type": "markdown",
   "metadata": {},
   "source": [
    "## Randomizedsearch 2 - Variando mínimo de observações por folha\n",
    "\n",
    "Agora vamos variar apenas ```min_samples_leaf```."
   ]
  },
  {
   "cell_type": "code",
   "execution_count": null,
   "metadata": {
    "scrolled": true
   },
   "outputs": [],
   "source": [
    "%%time\n",
    "from sklearn.model_selection import RandomizedSearchCV\n",
    "\n",
    "rf = RandomForestClassifier()\n",
    "\n",
    "params = {\n",
    "    'max_depth' : [10],\n",
    "    'min_samples_leaf': list(range(2,5000,100)),\n",
    "    'n_estimators': [800]\n",
    "}\n",
    "\n",
    "grid_rf = RandomizedSearchCV(n_iter = 5,\n",
    "                             estimator = rf,\n",
    "                             param_distributions = params,\n",
    "                             scoring = 'accuracy', \n",
    "                             cv = 3)\n",
    "\n",
    "grid_rf.fit(X_train, y_train)"
   ]
  },
  {
   "cell_type": "code",
   "execution_count": null,
   "metadata": {},
   "outputs": [],
   "source": [
    "grid_rf.cv_results_['params']"
   ]
  },
  {
   "cell_type": "code",
   "execution_count": null,
   "metadata": {},
   "outputs": [],
   "source": [
    "grid_rf.cv_results_['mean_test_score']"
   ]
  },
  {
   "cell_type": "code",
   "execution_count": null,
   "metadata": {},
   "outputs": [],
   "source": [
    "print(grid_rf.score(X_test, y_test))\n"
   ]
  },
  {
   "cell_type": "markdown",
   "metadata": {},
   "source": [
    "## Função RandomizedSearchCV"
   ]
  },
  {
   "cell_type": "code",
   "execution_count": 27,
   "metadata": {},
   "outputs": [
    {
     "data": {
      "text/plain": [
       "{'max_depth': [10],\n",
       " 'min_samples_leaf': [5],\n",
       " 'n_estimators': [100, 200, 300, 400, 500, 600, 700, 800, 900, 1000]}"
      ]
     },
     "execution_count": 27,
     "metadata": {},
     "output_type": "execute_result"
    }
   ],
   "source": [
    "params = {\n",
    "    'max_depth' : [10],\n",
    "    'min_samples_leaf': [5],\n",
    "    'n_estimators': list(range(100, 1001, 100))\n",
    "}\n",
    "params"
   ]
  },
  {
   "cell_type": "code",
   "execution_count": 28,
   "metadata": {
    "scrolled": true
   },
   "outputs": [
    {
     "name": "stderr",
     "output_type": "stream",
     "text": [
      "C:\\Users\\lucas_000\\anaconda3\\lib\\site-packages\\sklearn\\model_selection\\_validation.py:531: DataConversionWarning: A column-vector y was passed when a 1d array was expected. Please change the shape of y to (n_samples,), for example using ravel().\n",
      "  estimator.fit(X_train, y_train, **fit_params)\n",
      "C:\\Users\\lucas_000\\anaconda3\\lib\\site-packages\\sklearn\\model_selection\\_validation.py:531: DataConversionWarning: A column-vector y was passed when a 1d array was expected. Please change the shape of y to (n_samples,), for example using ravel().\n",
      "  estimator.fit(X_train, y_train, **fit_params)\n",
      "C:\\Users\\lucas_000\\anaconda3\\lib\\site-packages\\sklearn\\model_selection\\_validation.py:531: DataConversionWarning: A column-vector y was passed when a 1d array was expected. Please change the shape of y to (n_samples,), for example using ravel().\n",
      "  estimator.fit(X_train, y_train, **fit_params)\n",
      "C:\\Users\\lucas_000\\anaconda3\\lib\\site-packages\\sklearn\\model_selection\\_validation.py:531: DataConversionWarning: A column-vector y was passed when a 1d array was expected. Please change the shape of y to (n_samples,), for example using ravel().\n",
      "  estimator.fit(X_train, y_train, **fit_params)\n",
      "C:\\Users\\lucas_000\\anaconda3\\lib\\site-packages\\sklearn\\model_selection\\_validation.py:531: DataConversionWarning: A column-vector y was passed when a 1d array was expected. Please change the shape of y to (n_samples,), for example using ravel().\n",
      "  estimator.fit(X_train, y_train, **fit_params)\n",
      "C:\\Users\\lucas_000\\anaconda3\\lib\\site-packages\\sklearn\\model_selection\\_validation.py:531: DataConversionWarning: A column-vector y was passed when a 1d array was expected. Please change the shape of y to (n_samples,), for example using ravel().\n",
      "  estimator.fit(X_train, y_train, **fit_params)\n",
      "C:\\Users\\lucas_000\\anaconda3\\lib\\site-packages\\sklearn\\model_selection\\_validation.py:531: DataConversionWarning: A column-vector y was passed when a 1d array was expected. Please change the shape of y to (n_samples,), for example using ravel().\n",
      "  estimator.fit(X_train, y_train, **fit_params)\n",
      "C:\\Users\\lucas_000\\anaconda3\\lib\\site-packages\\sklearn\\model_selection\\_validation.py:531: DataConversionWarning: A column-vector y was passed when a 1d array was expected. Please change the shape of y to (n_samples,), for example using ravel().\n",
      "  estimator.fit(X_train, y_train, **fit_params)\n",
      "C:\\Users\\lucas_000\\anaconda3\\lib\\site-packages\\sklearn\\model_selection\\_validation.py:531: DataConversionWarning: A column-vector y was passed when a 1d array was expected. Please change the shape of y to (n_samples,), for example using ravel().\n",
      "  estimator.fit(X_train, y_train, **fit_params)\n",
      "C:\\Users\\lucas_000\\anaconda3\\lib\\site-packages\\sklearn\\model_selection\\_validation.py:531: DataConversionWarning: A column-vector y was passed when a 1d array was expected. Please change the shape of y to (n_samples,), for example using ravel().\n",
      "  estimator.fit(X_train, y_train, **fit_params)\n",
      "C:\\Users\\lucas_000\\anaconda3\\lib\\site-packages\\sklearn\\model_selection\\_validation.py:531: DataConversionWarning: A column-vector y was passed when a 1d array was expected. Please change the shape of y to (n_samples,), for example using ravel().\n",
      "  estimator.fit(X_train, y_train, **fit_params)\n",
      "C:\\Users\\lucas_000\\anaconda3\\lib\\site-packages\\sklearn\\model_selection\\_validation.py:531: DataConversionWarning: A column-vector y was passed when a 1d array was expected. Please change the shape of y to (n_samples,), for example using ravel().\n",
      "  estimator.fit(X_train, y_train, **fit_params)\n",
      "C:\\Users\\lucas_000\\anaconda3\\lib\\site-packages\\sklearn\\model_selection\\_validation.py:531: DataConversionWarning: A column-vector y was passed when a 1d array was expected. Please change the shape of y to (n_samples,), for example using ravel().\n",
      "  estimator.fit(X_train, y_train, **fit_params)\n",
      "C:\\Users\\lucas_000\\anaconda3\\lib\\site-packages\\sklearn\\model_selection\\_validation.py:531: DataConversionWarning: A column-vector y was passed when a 1d array was expected. Please change the shape of y to (n_samples,), for example using ravel().\n",
      "  estimator.fit(X_train, y_train, **fit_params)\n",
      "C:\\Users\\lucas_000\\anaconda3\\lib\\site-packages\\sklearn\\model_selection\\_validation.py:531: DataConversionWarning: A column-vector y was passed when a 1d array was expected. Please change the shape of y to (n_samples,), for example using ravel().\n",
      "  estimator.fit(X_train, y_train, **fit_params)\n",
      "C:\\Users\\lucas_000\\anaconda3\\lib\\site-packages\\sklearn\\model_selection\\_validation.py:531: DataConversionWarning: A column-vector y was passed when a 1d array was expected. Please change the shape of y to (n_samples,), for example using ravel().\n",
      "  estimator.fit(X_train, y_train, **fit_params)\n",
      "C:\\Users\\lucas_000\\anaconda3\\lib\\site-packages\\sklearn\\model_selection\\_validation.py:531: DataConversionWarning: A column-vector y was passed when a 1d array was expected. Please change the shape of y to (n_samples,), for example using ravel().\n",
      "  estimator.fit(X_train, y_train, **fit_params)\n",
      "C:\\Users\\lucas_000\\anaconda3\\lib\\site-packages\\sklearn\\model_selection\\_validation.py:531: DataConversionWarning: A column-vector y was passed when a 1d array was expected. Please change the shape of y to (n_samples,), for example using ravel().\n",
      "  estimator.fit(X_train, y_train, **fit_params)\n",
      "C:\\Users\\lucas_000\\anaconda3\\lib\\site-packages\\sklearn\\model_selection\\_validation.py:531: DataConversionWarning: A column-vector y was passed when a 1d array was expected. Please change the shape of y to (n_samples,), for example using ravel().\n",
      "  estimator.fit(X_train, y_train, **fit_params)\n",
      "C:\\Users\\lucas_000\\anaconda3\\lib\\site-packages\\sklearn\\model_selection\\_validation.py:531: DataConversionWarning: A column-vector y was passed when a 1d array was expected. Please change the shape of y to (n_samples,), for example using ravel().\n",
      "  estimator.fit(X_train, y_train, **fit_params)\n",
      "C:\\Users\\lucas_000\\anaconda3\\lib\\site-packages\\sklearn\\model_selection\\_validation.py:531: DataConversionWarning: A column-vector y was passed when a 1d array was expected. Please change the shape of y to (n_samples,), for example using ravel().\n",
      "  estimator.fit(X_train, y_train, **fit_params)\n",
      "C:\\Users\\lucas_000\\anaconda3\\lib\\site-packages\\sklearn\\model_selection\\_search.py:765: DataConversionWarning: A column-vector y was passed when a 1d array was expected. Please change the shape of y to (n_samples,), for example using ravel().\n",
      "  self.best_estimator_.fit(X, y, **fit_params)\n"
     ]
    },
    {
     "name": "stdout",
     "output_type": "stream",
     "text": [
      "Wall time: 3min 41s\n"
     ]
    },
    {
     "data": {
      "text/plain": [
       "RandomizedSearchCV(cv=3, estimator=RandomForestClassifier(), n_iter=7,\n",
       "                   param_distributions={'max_depth': [10],\n",
       "                                        'min_samples_leaf': [5],\n",
       "                                        'n_estimators': [100, 200, 300, 400,\n",
       "                                                         500, 600, 700, 800,\n",
       "                                                         900, 1000]},\n",
       "                   scoring='accuracy')"
      ]
     },
     "execution_count": 28,
     "metadata": {},
     "output_type": "execute_result"
    }
   ],
   "source": [
    "%%time\n",
    "from sklearn.model_selection import RandomizedSearchCV\n",
    "\n",
    "rf = RandomForestClassifier()\n",
    "\n",
    "params = {\n",
    "    'max_depth' : [10],\n",
    "    'min_samples_leaf': [5],\n",
    "    'n_estimators': list(range(100, 1001, 100))\n",
    "}\n",
    "\n",
    "grid_rf = RandomizedSearchCV(n_iter = 7,\n",
    "                             estimator = rf,\n",
    "                             param_distributions = params,\n",
    "                             scoring = 'accuracy', \n",
    "                             cv = 3)\n",
    "\n",
    "grid_rf.fit(X_train, y_train)"
   ]
  },
  {
   "cell_type": "code",
   "execution_count": 29,
   "metadata": {},
   "outputs": [
    {
     "name": "stdout",
     "output_type": "stream",
     "text": [
      "RandomForestClassifier(max_depth=10, min_samples_leaf=5, n_estimators=900)\n",
      "0.9316111111111111\n"
     ]
    }
   ],
   "source": [
    "# extract best estimator\n",
    "print(grid_rf.best_estimator_)\n",
    "\n",
    "# to test the bestfit\n",
    "print(grid_rf.score(X_test, y_test))\n",
    "\n"
   ]
  },
  {
   "cell_type": "code",
   "execution_count": null,
   "metadata": {},
   "outputs": [],
   "source": []
  },
  {
   "cell_type": "code",
   "execution_count": null,
   "metadata": {},
   "outputs": [],
   "source": []
  },
  {
   "cell_type": "markdown",
   "metadata": {},
   "source": [
    "## Gridsearch usando `for` para variar o número mínimo de observações na folha"
   ]
  },
  {
   "cell_type": "code",
   "execution_count": 31,
   "metadata": {},
   "outputs": [
    {
     "name": "stdout",
     "output_type": "stream",
     "text": [
      "[2, 102, 202, 302, 402, 502, 602, 702, 802, 902, 1002, 1102, 1202, 1302, 1402, 1502, 1602, 1702, 1802, 1902, 2002, 2102, 2202, 2302, 2402, 2502, 2602, 2702, 2802, 2902, 3002, 3102, 3202, 3302, 3402, 3502, 3602, 3702, 3802, 3902, 4002, 4102, 4202, 4302, 4402, 4502, 4602, 4702, 4802, 4902]\n",
      "Wall time: 21.7 s\n"
     ]
    }
   ],
   "source": [
    "%%time\n",
    "\n",
    "lista_gini_test=[]\n",
    "lista_gini_train=[]\n",
    "\n",
    "grid = list(range(2,5000,100))\n",
    "print(grid)\n",
    "\n",
    "for n_min_obs in grid:\n",
    "    clf = RandomForestClassifier(n_estimators=30,\n",
    "                                 max_depth=10,\n",
    "                                 min_samples_leaf=n_min_obs,\n",
    "                                 n_jobs=-1)\n",
    "    \n",
    "    clf.fit(X_train, y_train.ravel())\n",
    "    \n",
    "    gini_test  = calcula_gini(y_test, clf.predict_proba(X_test)[:,1])\n",
    "    gini_train = calcula_gini(y_train, clf.predict_proba(X_train)[:,1])\n",
    "    \n",
    "    lista_gini_test.append(gini_test)\n",
    "    lista_gini_train.append(gini_train)\n",
    "\n",
    "dict_gini_train = dict(zip(list(range(2,5000,100)), lista_gini_train))\n",
    "dict_gini_test = dict(zip(list(range(2,5000,100)), lista_gini_test))\n",
    "\n",
    "series_gini_train = pd.Series(dict_gini_train)\n",
    "series_gini_test = pd.Series(dict_gini_test)\n"
   ]
  },
  {
   "cell_type": "code",
   "execution_count": 32,
   "metadata": {},
   "outputs": [
    {
     "data": {
      "image/png": "[encoded data removed]",
      "text/plain": [
       "<Figure size 432x288 with 1 Axes>"
      ]
     },
     "metadata": {
      "needs_background": "light"
     },
     "output_type": "display_data"
    }
   ],
   "source": [
    "#Plot comparando o gini no treino e no teste\n",
    "fig, ax = plt.subplots()\n",
    "\n",
    "ax.plot(series_gini_train, '-b', label='Treino')\n",
    "ax.plot(series_gini_test,  '--r', label='Teste')\n",
    "\n",
    "leg = ax.legend()\n",
    "ax.set_title(\"Random Forest - Gini vs N mínimo por folha\")\n",
    "ax.set_xlabel(\"Número mínimo de observações por folha\")\n",
    "ax.set_ylabel(\"Gini\");"
   ]
  },
  {
   "cell_type": "markdown",
   "metadata": {},
   "source": [
    "## Gridsearch 3 (usando `for`)  - variando a profundidade da árvore\n",
    "\n",
    "Agora vamos fixar ```n_estimators``` e ```min_samples_leaf``` e variar ```max_depth```."
   ]
  },
  {
   "cell_type": "code",
   "execution_count": 34,
   "metadata": {},
   "outputs": [
    {
     "name": "stdout",
     "output_type": "stream",
     "text": [
      "[1, 2, 3, 4, 5, 6, 7, 8, 9, 10, 11, 12, 13, 14, 15, 16, 17, 18, 19, 20, 21, 22, 23, 24, 25, 26, 27, 28, 29, 30, 31, 32, 33, 34, 35, 36, 37, 38, 39, 40, 41, 42, 43, 44, 45, 46, 47, 48, 49]\n",
      "Wall time: 34 s\n"
     ]
    }
   ],
   "source": [
    "%%time\n",
    "\n",
    "lista_gini_test=[]\n",
    "lista_gini_train=[]\n",
    "\n",
    "grid = list(range(1,50))\n",
    "print(grid)\n",
    "\n",
    "for profundidade in grid:\n",
    "    clf = RandomForestClassifier(n_estimators=30,\n",
    "                                 max_depth=profundidade,\n",
    "                                 min_samples_leaf=1,\n",
    "                                n_jobs=-1)\n",
    "    \n",
    "    clf.fit(X_train, y_train.ravel())\n",
    "    \n",
    "    gini_test  = calcula_gini(y_test, clf.predict_proba(X_test)[:,1])\n",
    "    gini_train = calcula_gini(y_train, clf.predict_proba(X_train)[:,1])\n",
    "    \n",
    "    lista_gini_test.append(gini_test)\n",
    "    lista_gini_train.append(gini_train)\n",
    "\n",
    "dict_gini_train = dict(zip(grid, lista_gini_train))\n",
    "dict_gini_test = dict(zip(grid, lista_gini_test))\n",
    "\n",
    "series_gini_train = pd.Series(dict_gini_train)\n",
    "series_gini_test = pd.Series(dict_gini_test)\n"
   ]
  },
  {
   "cell_type": "code",
   "execution_count": 37,
   "metadata": {},
   "outputs": [
    {
     "data": {
      "text/plain": [
       "Text(0, 0.5, 'Gini')"
      ]
     },
     "execution_count": 37,
     "metadata": {},
     "output_type": "execute_result"
    },
    {
     "data": {
      "image/png": "[encoded data removed]",
      "text/plain": [
       "<Figure size 432x288 with 1 Axes>"
      ]
     },
     "metadata": {
      "needs_background": "light"
     },
     "output_type": "display_data"
    }
   ],
   "source": [
    "#Plot comparando o gini no treino e no teste\n",
    "fig, ax = plt.subplots()\n",
    "\n",
    "ax.plot(series_gini_train, '-b', label='Treino')\n",
    "ax.plot(series_gini_test,  '--r', label='Teste')\n",
    "\n",
    "leg = ax.legend()\n",
    "ax.set_title(\"Random Forest - Gini vs Profundidade máxima\")\n",
    "ax.set_xlabel(\"Profundidade máxima\")\n",
    "ax.set_ylabel(\"Gini\")"
   ]
  },
  {
   "cell_type": "markdown",
   "metadata": {},
   "source": [
    "## Gridsearch 4 - alterar profundidade e número de observações por folha"
   ]
  },
  {
   "cell_type": "code",
   "execution_count": 40,
   "metadata": {},
   "outputs": [
    {
     "name": "stdout",
     "output_type": "stream",
     "text": [
      "Wall time: 2min 16s\n"
     ]
    }
   ],
   "source": [
    "%%time\n",
    "\n",
    "lista_gini_test = []\n",
    "lista_gini_train = []\n",
    "lista_obs_folha = []\n",
    "lista_profundidade = []\n",
    "\n",
    "grid_profund = list(range(3, 20, 2))\n",
    "grid_obs_folha = list(range(1, 30, 1))\n",
    "\n",
    "for profundidade in grid_profund:\n",
    "    for obs_folha in grid_obs_folha:\n",
    "        clf = RandomForestClassifier(n_estimators=30,\n",
    "                                     max_depth=profundidade,\n",
    "                                     min_samples_leaf=obs_folha,\n",
    "                                     n_jobs=-1)\n",
    "\n",
    "        clf.fit(X_train, y_train.ravel())\n",
    "\n",
    "        gini_test = calcula_gini(y_test, clf.predict_proba(X_test)[:, 1])\n",
    "        gini_train = calcula_gini(y_train, clf.predict_proba(X_train)[:, 1])\n",
    "\n",
    "        lista_gini_test.append(gini_test)\n",
    "        lista_gini_train.append(gini_train)\n",
    "        lista_obs_folha.append(obs_folha)\n",
    "        lista_profundidade.append(profundidade)\n",
    "\n",
    "grid_dic = {'obs_folha': lista_obs_folha, \n",
    "            'profund_max': lista_profundidade,\n",
    "            'gini_dev': lista_gini_train,\n",
    "            'gini_test': lista_gini_test}\n",
    "\n",
    "grid = pd.DataFrame(grid_dic)"
   ]
  },
  {
   "cell_type": "code",
   "execution_count": null,
   "metadata": {},
   "outputs": [],
   "source": []
  },
  {
   "cell_type": "code",
   "execution_count": null,
   "metadata": {},
   "outputs": [],
   "source": []
  },
  {
   "cell_type": "code",
   "execution_count": 41,
   "metadata": {
    "scrolled": true
   },
   "outputs": [
    {
     "data": {
      "text/html": [
       "<div>\n",
       "<style scoped>\n",
       "    .dataframe tbody tr th:only-of-type {\n",
       "        vertical-align: middle;\n",
       "    }\n",
       "\n",
       "    .dataframe tbody tr th {\n",
       "        vertical-align: top;\n",
       "    }\n",
       "\n",
       "    .dataframe thead th {\n",
       "        text-align: right;\n",
       "    }\n",
       "</style>\n",
       "<table border=\"1\" class=\"dataframe\">\n",
       "  <thead>\n",
       "    <tr style=\"text-align: right;\">\n",
       "      <th></th>\n",
       "      <th>obs_folha</th>\n",
       "      <th>profund_max</th>\n",
       "      <th>gini_dev</th>\n",
       "      <th>gini_test</th>\n",
       "    </tr>\n",
       "  </thead>\n",
       "  <tbody>\n",
       "    <tr>\n",
       "      <th>0</th>\n",
       "      <td>1</td>\n",
       "      <td>3</td>\n",
       "      <td>0.198601</td>\n",
       "      <td>0.201278</td>\n",
       "    </tr>\n",
       "    <tr>\n",
       "      <th>1</th>\n",
       "      <td>2</td>\n",
       "      <td>3</td>\n",
       "      <td>0.197834</td>\n",
       "      <td>0.200869</td>\n",
       "    </tr>\n",
       "    <tr>\n",
       "      <th>2</th>\n",
       "      <td>3</td>\n",
       "      <td>3</td>\n",
       "      <td>0.205615</td>\n",
       "      <td>0.204134</td>\n",
       "    </tr>\n",
       "    <tr>\n",
       "      <th>3</th>\n",
       "      <td>4</td>\n",
       "      <td>3</td>\n",
       "      <td>0.202618</td>\n",
       "      <td>0.206590</td>\n",
       "    </tr>\n",
       "    <tr>\n",
       "      <th>4</th>\n",
       "      <td>5</td>\n",
       "      <td>3</td>\n",
       "      <td>0.193663</td>\n",
       "      <td>0.199439</td>\n",
       "    </tr>\n",
       "    <tr>\n",
       "      <th>...</th>\n",
       "      <td>...</td>\n",
       "      <td>...</td>\n",
       "      <td>...</td>\n",
       "      <td>...</td>\n",
       "    </tr>\n",
       "    <tr>\n",
       "      <th>256</th>\n",
       "      <td>25</td>\n",
       "      <td>19</td>\n",
       "      <td>0.371839</td>\n",
       "      <td>0.211800</td>\n",
       "    </tr>\n",
       "    <tr>\n",
       "      <th>257</th>\n",
       "      <td>26</td>\n",
       "      <td>19</td>\n",
       "      <td>0.361468</td>\n",
       "      <td>0.200904</td>\n",
       "    </tr>\n",
       "    <tr>\n",
       "      <th>258</th>\n",
       "      <td>27</td>\n",
       "      <td>19</td>\n",
       "      <td>0.354979</td>\n",
       "      <td>0.202727</td>\n",
       "    </tr>\n",
       "    <tr>\n",
       "      <th>259</th>\n",
       "      <td>28</td>\n",
       "      <td>19</td>\n",
       "      <td>0.356306</td>\n",
       "      <td>0.200890</td>\n",
       "    </tr>\n",
       "    <tr>\n",
       "      <th>260</th>\n",
       "      <td>29</td>\n",
       "      <td>19</td>\n",
       "      <td>0.353370</td>\n",
       "      <td>0.202646</td>\n",
       "    </tr>\n",
       "  </tbody>\n",
       "</table>\n",
       "<p>261 rows × 4 columns</p>\n",
       "</div>"
      ],
      "text/plain": [
       "     obs_folha  profund_max  gini_dev  gini_test\n",
       "0            1            3  0.198601   0.201278\n",
       "1            2            3  0.197834   0.200869\n",
       "2            3            3  0.205615   0.204134\n",
       "3            4            3  0.202618   0.206590\n",
       "4            5            3  0.193663   0.199439\n",
       "..         ...          ...       ...        ...\n",
       "256         25           19  0.371839   0.211800\n",
       "257         26           19  0.361468   0.200904\n",
       "258         27           19  0.354979   0.202727\n",
       "259         28           19  0.356306   0.200890\n",
       "260         29           19  0.353370   0.202646\n",
       "\n",
       "[261 rows x 4 columns]"
      ]
     },
     "execution_count": 41,
     "metadata": {},
     "output_type": "execute_result"
    }
   ],
   "source": [
    "grid"
   ]
  },
  {
   "cell_type": "code",
   "execution_count": 42,
   "metadata": {
    "scrolled": true
   },
   "outputs": [
    {
     "data": {
      "image/png": "[encoded data removed]",
      "text/plain": [
       "<Figure size 432x288 with 2 Axes>"
      ]
     },
     "metadata": {
      "needs_background": "light"
     },
     "output_type": "display_data"
    }
   ],
   "source": [
    "sns.heatmap(grid.pivot_table(index='profund_max',\n",
    "                             columns='obs_folha',\n",
    "                             values='gini_test',\n",
    "                             aggfunc='mean'));"
   ]
  },
  {
   "cell_type": "code",
   "execution_count": 43,
   "metadata": {},
   "outputs": [
    {
     "data": {
      "text/html": [
       "<div>\n",
       "<style scoped>\n",
       "    .dataframe tbody tr th:only-of-type {\n",
       "        vertical-align: middle;\n",
       "    }\n",
       "\n",
       "    .dataframe tbody tr th {\n",
       "        vertical-align: top;\n",
       "    }\n",
       "\n",
       "    .dataframe thead th {\n",
       "        text-align: right;\n",
       "    }\n",
       "</style>\n",
       "<table border=\"1\" class=\"dataframe\">\n",
       "  <thead>\n",
       "    <tr style=\"text-align: right;\">\n",
       "      <th></th>\n",
       "      <th>obs_folha</th>\n",
       "      <th>profund_max</th>\n",
       "      <th>gini_dev</th>\n",
       "      <th>gini_test</th>\n",
       "    </tr>\n",
       "  </thead>\n",
       "  <tbody>\n",
       "    <tr>\n",
       "      <th>171</th>\n",
       "      <td>27</td>\n",
       "      <td>13</td>\n",
       "      <td>0.327341</td>\n",
       "      <td>0.217743</td>\n",
       "    </tr>\n",
       "  </tbody>\n",
       "</table>\n",
       "</div>"
      ],
      "text/plain": [
       "     obs_folha  profund_max  gini_dev  gini_test\n",
       "171         27           13  0.327341   0.217743"
      ]
     },
     "execution_count": 43,
     "metadata": {},
     "output_type": "execute_result"
    }
   ],
   "source": [
    "grid[(grid['obs_folha'] == 27) & (grid['profund_max'] == 13)]"
   ]
  },
  {
   "cell_type": "code",
   "execution_count": 44,
   "metadata": {},
   "outputs": [
    {
     "data": {
      "text/plain": [
       "0.2177429930349506"
      ]
     },
     "execution_count": 44,
     "metadata": {},
     "output_type": "execute_result"
    }
   ],
   "source": [
    "grid['gini_test'].max()"
   ]
  },
  {
   "cell_type": "code",
   "execution_count": null,
   "metadata": {},
   "outputs": [],
   "source": []
  },
  {
   "cell_type": "code",
   "execution_count": null,
   "metadata": {},
   "outputs": [],
   "source": []
  },
  {
   "cell_type": "code",
   "execution_count": null,
   "metadata": {},
   "outputs": [],
   "source": []
  },
  {
   "cell_type": "code",
   "execution_count": null,
   "metadata": {},
   "outputs": [],
   "source": []
  },
  {
   "cell_type": "code",
   "execution_count": null,
   "metadata": {},
   "outputs": [],
   "source": []
  },
  {
   "cell_type": "code",
   "execution_count": null,
   "metadata": {},
   "outputs": [],
   "source": []
  },
  {
   "cell_type": "code",
   "execution_count": null,
   "metadata": {},
   "outputs": [],
   "source": []
  },
  {
   "cell_type": "markdown",
   "metadata": {},
   "source": [
    "# Tarefa 4"
   ]
  },
  {
   "cell_type": "markdown",
   "metadata": {},
   "source": [
    "Defina outros 3 ou 4 hyperparametros para variar e encontre uma solução de melhores hyperparametros para o mesmo dataset utilizado na aula."
   ]
  },
  {
   "cell_type": "code",
   "execution_count": null,
   "metadata": {},
   "outputs": [],
   "source": []
  },
  {
   "cell_type": "code",
   "execution_count": null,
   "metadata": {},
   "outputs": [],
   "source": []
  },
  {
   "cell_type": "code",
   "execution_count": null,
   "metadata": {},
   "outputs": [],
   "source": []
  },
  {
   "cell_type": "code",
   "execution_count": null,
   "metadata": {},
   "outputs": [],
   "source": []
  },
  {
   "cell_type": "code",
   "execution_count": null,
   "metadata": {},
   "outputs": [],
   "source": []
  },
  {
   "cell_type": "code",
   "execution_count": null,
   "metadata": {},
   "outputs": [],
   "source": []
  },
  {
   "cell_type": "code",
   "execution_count": null,
   "metadata": {},
   "outputs": [],
   "source": []
  },
  {
   "cell_type": "code",
   "execution_count": null,
   "metadata": {},
   "outputs": [],
   "source": []
  }
 ],
 "metadata": {
  "kernelspec": {
   "display_name": "Python 3",
   "language": "python",
   "name": "python3"
  },
  "language_info": {
   "codemirror_mode": {
    "name": "ipython",
    "version": 3
   },
   "file_extension": ".py",
   "mimetype": "text/x-python",
   "name": "python",
   "nbconvert_exporter": "python",
   "pygments_lexer": "ipython3",
   "version": "3.8.5"
  },
  "varInspector": {
   "cols": {
    "lenName": 16,
    "lenType": 16,
    "lenVar": 40
   },
   "kernels_config": {
    "python": {
     "delete_cmd_postfix": "",
     "delete_cmd_prefix": "del ",
     "library": "var_list.py",
     "varRefreshCmd": "print(var_dic_list())"
    },
    "r": {
     "delete_cmd_postfix": ") ",
     "delete_cmd_prefix": "rm(",
     "library": "var_list.r",
     "varRefreshCmd": "cat(var_dic_list()) "
    }
   },
   "types_to_exclude": [
    "module",
    "function",
    "builtin_function_or_method",
    "instance",
    "_Feature"
   ],
   "window_display": false
  }
 },
 "nbformat": 4,
 "nbformat_minor": 4
}
