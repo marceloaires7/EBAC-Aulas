{
 "cells": [
  {
   "cell_type": "markdown",
   "metadata": {},
   "source": [
    "![Cabec%CC%A7alho_notebook.png](cabecalho_notebook.png)"
   ]
  },
  {
   "cell_type": "markdown",
   "metadata": {},
   "source": [
    "# Análise de Componentes Principais"
   ]
  },
  {
   "cell_type": "markdown",
   "metadata": {
    "toc": true
   },
   "source": [
    "<h1>Índice<span class=\"tocSkip\"></span></h1>\n",
    "<div class=\"toc\"><ul class=\"toc-item\"><li><span><a href=\"#Como-usa?\" data-toc-modified-id=\"Como-usa?-1\"><span class=\"toc-item-num\">1&nbsp;&nbsp;</span>Como usa?</a></span><ul class=\"toc-item\"><li><span><a href=\"#Carregando-as-bases\" data-toc-modified-id=\"Carregando-as-bases-1.1\"><span class=\"toc-item-num\">1.1&nbsp;&nbsp;</span>Carregando as bases</a></span></li><li><span><a href=\"#Dividindo-a-base-em-Treino,-Validação-e-Teste\" data-toc-modified-id=\"Dividindo-a-base-em-Treino,-Validação-e-Teste-1.2\"><span class=\"toc-item-num\">1.2&nbsp;&nbsp;</span>Dividindo a base em Treino, Validação e Teste</a></span></li><li><span><a href=\"#Treinando-a-árvore\" data-toc-modified-id=\"Treinando-a-árvore-1.3\"><span class=\"toc-item-num\">1.3&nbsp;&nbsp;</span>Treinando a árvore</a></span></li><li><span><a href=\"#Construindo-o-modelo-com-PCA\" data-toc-modified-id=\"Construindo-o-modelo-com-PCA-1.4\"><span class=\"toc-item-num\">1.4&nbsp;&nbsp;</span>Construindo o modelo com PCA</a></span></li><li><span><a href=\"#Treinando-o-modelo\" data-toc-modified-id=\"Treinando-o-modelo-1.5\"><span class=\"toc-item-num\">1.5&nbsp;&nbsp;</span>Treinando o modelo</a></span></li><li><span><a href=\"#Avaliando-a-acurácia-do-modelo\" data-toc-modified-id=\"Avaliando-a-acurácia-do-modelo-1.6\"><span class=\"toc-item-num\">1.6&nbsp;&nbsp;</span>Avaliando a acurácia do modelo</a></span></li></ul></li><li><span><a href=\"#Matéria-prima\" data-toc-modified-id=\"Matéria-prima-2\"><span class=\"toc-item-num\">2&nbsp;&nbsp;</span>Matéria-prima</a></span><ul class=\"toc-item\"><li><span><a href=\"#Variância\" data-toc-modified-id=\"Variância-2.1\"><span class=\"toc-item-num\">2.1&nbsp;&nbsp;</span>Variância</a></span></li><li><span><a href=\"#Desvio-padrão\" data-toc-modified-id=\"Desvio-padrão-2.2\"><span class=\"toc-item-num\">2.2&nbsp;&nbsp;</span>Desvio padrão</a></span></li><li><span><a href=\"#Covariância\" data-toc-modified-id=\"Covariância-2.3\"><span class=\"toc-item-num\">2.3&nbsp;&nbsp;</span>Covariância</a></span></li><li><span><a href=\"#Correlação\" data-toc-modified-id=\"Correlação-2.4\"><span class=\"toc-item-num\">2.4&nbsp;&nbsp;</span>Correlação</a></span></li><li><span><a href=\"#Matriz-de-covariância\" data-toc-modified-id=\"Matriz-de-covariância-2.5\"><span class=\"toc-item-num\">2.5&nbsp;&nbsp;</span>Matriz de covariância</a></span></li><li><span><a href=\"#Matriz-de-correlação\" data-toc-modified-id=\"Matriz-de-correlação-2.6\"><span class=\"toc-item-num\">2.6&nbsp;&nbsp;</span>Matriz de correlação</a></span></li></ul></li><li><span><a href=\"#Ilustração-geométrica\" data-toc-modified-id=\"Ilustração-geométrica-3\"><span class=\"toc-item-num\">3&nbsp;&nbsp;</span>Ilustração geométrica</a></span><ul class=\"toc-item\"><li><span><a href=\"#Carregando-os-dados\" data-toc-modified-id=\"Carregando-os-dados-3.1\"><span class=\"toc-item-num\">3.1&nbsp;&nbsp;</span>Carregando os dados</a></span></li><li><span><a href=\"#Ilustração-em-2D\" data-toc-modified-id=\"Ilustração-em-2D-3.2\"><span class=\"toc-item-num\">3.2&nbsp;&nbsp;</span>Ilustração em 2D</a></span></li><li><span><a href=\"#Transoformações-lineares\" data-toc-modified-id=\"Transoformações-lineares-3.3\"><span class=\"toc-item-num\">3.3&nbsp;&nbsp;</span>Transoformações lineares</a></span></li><li><span><a href=\"#Scatterplot-2D-com-autovetores\" data-toc-modified-id=\"Scatterplot-2D-com-autovetores-3.4\"><span class=\"toc-item-num\">3.4&nbsp;&nbsp;</span>Scatterplot 2D com autovetores</a></span></li><li><span><a href=\"#Explorando-a-PCA-com-o-Scikitlearn\" data-toc-modified-id=\"Explorando-a-PCA-com-o-Scikitlearn-3.5\"><span class=\"toc-item-num\">3.5&nbsp;&nbsp;</span>Explorando a PCA com o Scikitlearn</a></span></li></ul></li><li><span><a href=\"#Autovetores-e-autovalores\" data-toc-modified-id=\"Autovetores-e-autovalores-4\"><span class=\"toc-item-num\">4&nbsp;&nbsp;</span>Autovetores e autovalores</a></span></li><li><span><a href=\"#Quantas-componentes-principais-utilizar?\" data-toc-modified-id=\"Quantas-componentes-principais-utilizar?-5\"><span class=\"toc-item-num\">5&nbsp;&nbsp;</span>Quantas componentes principais utilizar?</a></span><ul class=\"toc-item\"><li><span><a href=\"#Gráficos-básicos\" data-toc-modified-id=\"Gráficos-básicos-5.1\"><span class=\"toc-item-num\">5.1&nbsp;&nbsp;</span>Gráficos básicos</a></span></li><li><span><a href=\"#Critério-1---autovalor->-1\" data-toc-modified-id=\"Critério-1---autovalor->-1-5.2\"><span class=\"toc-item-num\">5.2&nbsp;&nbsp;</span>Critério 1 - autovalor &gt; 1</a></span></li><li><span><a href=\"#Critério-2---screeplot-ou-critério-do-cotovelo\" data-toc-modified-id=\"Critério-2---screeplot-ou-critério-do-cotovelo-5.3\"><span class=\"toc-item-num\">5.3&nbsp;&nbsp;</span>Critério 2 - <em>screeplot</em> ou critério do cotovelo</a></span></li><li><span><a href=\"#Critéiro-3:-Variância-explicada->-x\" data-toc-modified-id=\"Critéiro-3:-Variância-explicada->-x-5.4\"><span class=\"toc-item-num\">5.4&nbsp;&nbsp;</span>Critéiro 3: Variância explicada &gt; x</a></span></li></ul></li><li><span><a href=\"#Reconhecimento-de-escrita-manual\" data-toc-modified-id=\"Reconhecimento-de-escrita-manual-6\"><span class=\"toc-item-num\">6&nbsp;&nbsp;</span>Reconhecimento de escrita manual</a></span><ul class=\"toc-item\"><li><span><a href=\"#Carregando-od-dados\" data-toc-modified-id=\"Carregando-od-dados-6.1\"><span class=\"toc-item-num\">6.1&nbsp;&nbsp;</span>Carregando od dados</a></span></li><li><span><a href=\"#Análise-Exploratória\" data-toc-modified-id=\"Análise-Exploratória-6.2\"><span class=\"toc-item-num\">6.2&nbsp;&nbsp;</span>Análise Exploratória</a></span></li><li><span><a href=\"#Tratamento-dos-dados\" data-toc-modified-id=\"Tratamento-dos-dados-6.3\"><span class=\"toc-item-num\">6.3&nbsp;&nbsp;</span>Tratamento dos dados</a></span></li><li><span><a href=\"#Construindo-o-modelo\" data-toc-modified-id=\"Construindo-o-modelo-6.4\"><span class=\"toc-item-num\">6.4&nbsp;&nbsp;</span>Construindo o modelo</a></span></li><li><span><a href=\"#Acurácia-do-modelo\" data-toc-modified-id=\"Acurácia-do-modelo-6.5\"><span class=\"toc-item-num\">6.5&nbsp;&nbsp;</span>Acurácia do modelo</a></span></li><li><span><a href=\"#Mesma-estrutura,-com-PCA\" data-toc-modified-id=\"Mesma-estrutura,-com-PCA-6.6\"><span class=\"toc-item-num\">6.6&nbsp;&nbsp;</span>Mesma estrutura, com PCA</a></span></li><li><span><a href=\"#Análise-descritiva-das-componentes\" data-toc-modified-id=\"Análise-descritiva-das-componentes-6.7\"><span class=\"toc-item-num\">6.7&nbsp;&nbsp;</span>Análise descritiva das componentes</a></span></li><li><span><a href=\"#Construindo-o-modelo-(com-PCA)\" data-toc-modified-id=\"Construindo-o-modelo-(com-PCA)-6.8\"><span class=\"toc-item-num\">6.8&nbsp;&nbsp;</span>Construindo o modelo (com PCA)</a></span></li><li><span><a href=\"#Avaliando-a-acurácia-do-modelo-com-PCA\" data-toc-modified-id=\"Avaliando-a-acurácia-do-modelo-com-PCA-6.9\"><span class=\"toc-item-num\">6.9&nbsp;&nbsp;</span>Avaliando a acurácia do modelo com PCA</a></span></li><li><span><a href=\"#Avaliar-a-correlação-das-componentes-com-os-pixels\" data-toc-modified-id=\"Avaliar-a-correlação-das-componentes-com-os-pixels-6.10\"><span class=\"toc-item-num\">6.10&nbsp;&nbsp;</span>Avaliar a correlação das componentes com os pixels</a></span></li></ul></li></ul></div>"
   ]
  },
  {
   "cell_type": "markdown",
   "metadata": {},
   "source": [
    "# Componentes Principais\n",
    "\n",
    "Essta aula está organizada da seguinde forma:\n",
    "\n",
    "- Vamos ver um caso objetivo de uso de componentes principais na base HAR\n",
    "- Vamos revisitar os conceitos básicos e pré-requisitos\n",
    "- Vamos discutir a interpretação gráfica da técnica\n",
    "- Vamos fazer um caso de uso mais profundo na base MNIST (escrita manual)\n",
    "\n",
    "Primeiramente, vamos carregar as bibliotecas que vamos usar."
   ]
  },
  {
   "cell_type": "code",
   "execution_count": 28,
   "metadata": {},
   "outputs": [],
   "source": [
    "import numpy as np\n",
    "import pandas as pd\n",
    "import matplotlib.pyplot as plt\n",
    "import seaborn as sns\n",
    "\n",
    "from sklearn.tree import DecisionTreeClassifier\n",
    "\n",
    "from sklearn.decomposition import PCA\n",
    "from sklearn.tree import DecisionTreeClassifier\n",
    "from sklearn.metrics import accuracy_score\n",
    "from sklearn.ensemble import RandomForestClassifier\n",
    "from sklearn.metrics import plot_confusion_matrix\n",
    "from sklearn.model_selection import train_test_split"
   ]
  },
  {
   "cell_type": "markdown",
   "metadata": {},
   "source": [
    "## Como usa?\n",
    "\n",
    "Primeiramente, vamos ver como usa o algoritmo de componentes principais de uma forma bem pragmática, retomando o problema de classificação de atividade humana por dados de acelerômetro e giroscópio de celular na base [HAR](). Já discutimos essa base quando falamos de árvores de classificação multinomial.\n",
    "\n",
    "O contexto é o seguinte: esta base começa a ter um tamanho razoável para um hardware de computador pessoal: ela possui 7000 registros na base de treinamento e 3000 registros na base de testes, cada uma contendo 561 variáveis. Dessa forma, o processamento de um algoritmo nessa base pode levar um tempo razoável se considerarmos todas as variáveis - ainda considerando os diversos ajustes no algoritmo e uma eventual validação cruzada.\n",
    "\n",
    "Assim, se quisermos ganhar agilidade, uma boa ideia é fazer redução de dimensionalidade - ou seja, trabalhar com um número menor de variáveis, com a menor perda de informação possível. Digamos que queremos limitar o nosso algoritmo a apenas 3 variáveis - é claro que vamos perder a informação das demais, mas será que não podemos minimizar essa perda construindo 3 novas variáveis através de combinações das 561? \n",
    "\n",
    "Em poucas linhas, é esse o uso mais frequente da análise de componentes principais (PCA para *principal component analysis*): ela fornece novas variáveis chamadas de componentes principais, que são combinações lineares das 561 variáveis, e podem ser utilizadas em menor número de modo a minimizar a perda de informação. A técnica se baseia em álgebra linear, mas no momento vamos nos focar no uso, depois falamos um pouco sobre a mecânica."
   ]
  },
  {
   "cell_type": "markdown",
   "metadata": {},
   "source": [
    "### Carregando as bases\n",
    "\n",
    "Neste exemplo vamos trabalhar com a base de reconhecimento de atividade humana, disponível no UCI - já trabalhamos com ela no módulo de árvores de classificação multinomial."
   ]
  },
  {
   "cell_type": "code",
   "execution_count": 8,
   "metadata": {},
   "outputs": [],
   "source": [
    "filename_features = \"../Dados/UCI HAR Dataset/features.txt\"\n",
    "filename_labels = \"../Dados/UCI HAR Dataset/activity_labels.txt\"\n",
    "\n",
    "filename_subtrain = \"../Dados/UCI HAR Dataset/train/subject_train.txt\"\n",
    "filename_xtrain = \"../Dados/UCI HAR Dataset/train/X_train.txt\"\n",
    "filename_ytrain = \"../Dados/UCI HAR Dataset/train/y_train.txt\"\n",
    "\n",
    "filename_subtest = \"../Dados/UCI HAR Dataset/test/subject_test.txt\"\n",
    "ffilename_xtest = \"../Dados/UCI HAR Dataset/test/X_test.txt\"\n",
    "filename_ytest = \"../Dados/UCI HAR Dataset/test/y_test.txt\"\n",
    "\n",
    "features = pd.read_csv(filename_features, header=None, names=['nome_var'], squeeze=True, sep=\"#\")\n",
    "labels = pd.read_csv(filename_labels, delim_whitespace=True, header=None, names=['cod_label', 'label'])\n",
    "\n",
    "subject_train = pd.read_csv(filename_subtrain, header=None, names=['subject_id'], squeeze=True)\n",
    "X_train = pd.read_csv(filename_xtrain, delim_whitespace=True, header=None, names=features.tolist())\n",
    "y_train = pd.read_csv(filename_ytrain, header=None, names=['cod_label'])\n",
    "\n",
    "subject_test = pd.read_csv(filename_subtest, header=None, names=['subject_id'], squeeze=True)\n",
    "X_test = pd.read_csv(ffilename_xtest, delim_whitespace=True, header=None, names=features.tolist())\n",
    "y_test = pd.read_csv(filename_ytest, header=None, names=['cod_label'])"
   ]
  },
  {
   "cell_type": "markdown",
   "metadata": {},
   "source": [
    "### Dividindo a base em Treino, Validação e Teste\n",
    "\n",
    "A base original vem dividdida em treino e testes. Vamos dividir a base de treino em Treino e Validação, para podermos fazer o *post-prunning* da nossa árvore - e avaliar o modelo final em uma base de testes isenta."
   ]
  },
  {
   "cell_type": "code",
   "execution_count": 10,
   "metadata": {},
   "outputs": [],
   "source": [
    "X_train, X_valid, y_train, y_valid = train_test_split(X_train, y_train)"
   ]
  },
  {
   "cell_type": "markdown",
   "metadata": {},
   "source": [
    "### Treinando a árvore\n",
    "\n",
    "Vamos seguir o protocolo padrão da nossa árvore, fazendo o post-prunning dela na base de testes utilizando o *complexity cost path* para realizar essa poda."
   ]
  },
  {
   "cell_type": "code",
   "execution_count": 13,
   "metadata": {},
   "outputs": [
    {
     "name": "stdout",
     "output_type": "stream",
     "text": [
      "CPU times: user 2min 51s, sys: 1.01 s, total: 2min 52s\n",
      "Wall time: 2min 52s\n"
     ]
    }
   ],
   "source": [
    "%%time\n",
    "\n",
    "clf = DecisionTreeClassifier(random_state=1234).fit(X_train, y_train)\n",
    "caminho = DecisionTreeClassifier(random_state=2360873, min_samples_leaf=20).cost_complexity_pruning_path(X_train, y_train)\n",
    "ccp_alphas, impurities = caminho.ccp_alphas, caminho.impurities\n",
    "\n",
    "ccp_alphas = np.unique(ccp_alphas[ccp_alphas>=0])\n",
    "\n",
    "clfs = []\n",
    "for ccp_alpha in ccp_alphas:\n",
    "    clf = DecisionTreeClassifier(random_state=2360873, ccp_alpha=ccp_alpha).fit(X_train, y_train)\n",
    "    clfs.append(clf)"
   ]
  },
  {
   "cell_type": "code",
   "execution_count": 14,
   "metadata": {},
   "outputs": [
    {
     "data": {
      "image/png": "[encoded data removed]",
      "text/plain": [
       "<Figure size 432x288 with 1 Axes>"
      ]
     },
     "metadata": {
      "needs_background": "light"
     },
     "output_type": "display_data"
    }
   ],
   "source": [
    "train_scores = [clf.score(X_train, y_train) for clf in clfs]\n",
    "valid_scores = [clf.score(X_valid, y_valid) for clf in clfs]\n",
    "\n",
    "fig, ax = plt.subplots()\n",
    "ax.set_xlabel(\"alpha\")\n",
    "ax.set_ylabel(\"Acurácia\")\n",
    "ax.set_title(\"Acurácia x alpha do conjunto de dados de treino e validação\")\n",
    "ax.plot(ccp_alphas, train_scores, marker='o', label=\"treino\", drawstyle=\"steps-post\")\n",
    "ax.plot(ccp_alphas, valid_scores, marker='o', label=\"validação\", drawstyle=\"steps-post\")\n",
    "ax.legend()\n",
    "plt.show()"
   ]
  },
  {
   "cell_type": "code",
   "execution_count": 15,
   "metadata": {},
   "outputs": [
    {
     "name": "stdout",
     "output_type": "stream",
     "text": [
      "Acurácia da melhor árvore na base de treino:    97.8\n",
      "Acurácia da melhor árvore na base de validação: 86.7\n",
      "Acurácia da melhor árvore na base de teste:     86.7\n"
     ]
    }
   ],
   "source": [
    "ind_melhor_arvore = len(valid_scores) - valid_scores[::-1].index(max(valid_scores)) - 1\n",
    "melhor_arvore = clfs[ind_melhor_arvore]\n",
    "\n",
    "acc_train = train_scores[ind_melhor_arvore]\n",
    "acc_valid = valid_scores[ind_melhor_arvore]\n",
    "acc_teste = melhor_arvore.score(X_test, y_test)\n",
    "\n",
    "print(f'Acurácia da melhor árvore na base de treino:    {acc_train*100:.1f}')\n",
    "print(f'Acurácia da melhor árvore na base de validação: {acc_teste*100:.1f}')\n",
    "print(f'Acurácia da melhor árvore na base de teste:     {acc_teste*100:.1f}')"
   ]
  },
  {
   "cell_type": "markdown",
   "metadata": {},
   "source": [
    "### Construindo o modelo com PCA\n",
    "\n",
    "Agora, vamos utilizar as 3 primeiras componentes principais - são aquelas que mais trazem informação do nosso banco de dados. Vamos calcular essas componentes para as 3 bases: treinamento, validação e teste. Vamos então conduzir o mesmo protocolo, com apenas 3 variáveis, mas agora com as componentes principais."
   ]
  },
  {
   "cell_type": "code",
   "execution_count": 45,
   "metadata": {},
   "outputs": [
    {
     "name": "stdout",
     "output_type": "stream",
     "text": [
      "CPU times: user 1.39 s, sys: 69.6 ms, total: 1.46 s\n",
      "Wall time: 427 ms\n"
     ]
    },
    {
     "data": {
      "text/plain": [
       "(5514, 561)"
      ]
     },
     "execution_count": 45,
     "metadata": {},
     "output_type": "execute_result"
    }
   ],
   "source": [
    "%%time\n",
    "prcomp = PCA(n_components=1).fit(X_train)\n",
    "\n",
    "pc_treino = prcomp.transform(X_train)\n",
    "pc_valida = prcomp.transform(X_valid)\n",
    "pc_teste  = prcomp.transform(X_test)\n",
    "\n",
    "pc_treino.shape"
   ]
  },
  {
   "cell_type": "markdown",
   "metadata": {},
   "source": [
    "Vamos agora selecionar somente as ```n``` primeiras componentes principais. Vamos começar com ```n=3```. Vamos jogá-las em um dataframe (somente porque é uma estrutura mais familiar)."
   ]
  },
  {
   "cell_type": "code",
   "execution_count": 82,
   "metadata": {},
   "outputs": [
    {
     "data": {
      "text/html": [
       "<div><div id=15c55452-60e0-4053-96e3-a739e06606aa style=\"display:none; background-color:#9D6CFF; color:white; width:200px; height:30px; padding-left:5px; border-radius:4px; flex-direction:row; justify-content:space-around; align-items:center;\" onmouseover=\"this.style.backgroundColor='#BA9BF8'\" onmouseout=\"this.style.backgroundColor='#9D6CFF'\" onclick=\"window.commands?.execute('create-mitosheet-from-dataframe-output');\">See Full Dataframe in Mito</div> <script> if (window.commands.hasCommand('create-mitosheet-from-dataframe-output')) document.getElementById('15c55452-60e0-4053-96e3-a739e06606aa').style.display = 'flex' </script> <table border=\"1\" class=\"dataframe\">\n",
       "  <thead>\n",
       "    <tr style=\"text-align: right;\">\n",
       "      <th></th>\n",
       "      <th>cp1</th>\n",
       "      <th>cp2</th>\n",
       "      <th>cp3</th>\n",
       "      <th>cp4</th>\n",
       "      <th>cp5</th>\n",
       "      <th>cp6</th>\n",
       "      <th>cp7</th>\n",
       "      <th>cp8</th>\n",
       "      <th>cp9</th>\n",
       "      <th>cp10</th>\n",
       "      <th>...</th>\n",
       "      <th>cp51</th>\n",
       "      <th>cp52</th>\n",
       "      <th>cp53</th>\n",
       "      <th>cp54</th>\n",
       "      <th>cp55</th>\n",
       "      <th>cp56</th>\n",
       "      <th>cp57</th>\n",
       "      <th>cp58</th>\n",
       "      <th>cp59</th>\n",
       "      <th>cp60</th>\n",
       "    </tr>\n",
       "  </thead>\n",
       "  <tbody>\n",
       "    <tr>\n",
       "      <th>0</th>\n",
       "      <td>8.735788</td>\n",
       "      <td>1.311106</td>\n",
       "      <td>0.181135</td>\n",
       "      <td>-0.740611</td>\n",
       "      <td>2.950822</td>\n",
       "      <td>-1.245422</td>\n",
       "      <td>-0.067405</td>\n",
       "      <td>1.132374</td>\n",
       "      <td>-0.472847</td>\n",
       "      <td>0.600431</td>\n",
       "      <td>...</td>\n",
       "      <td>0.396198</td>\n",
       "      <td>0.103840</td>\n",
       "      <td>-0.262165</td>\n",
       "      <td>-0.586782</td>\n",
       "      <td>-0.707282</td>\n",
       "      <td>-0.017349</td>\n",
       "      <td>-0.265009</td>\n",
       "      <td>0.067397</td>\n",
       "      <td>0.030917</td>\n",
       "      <td>-0.273612</td>\n",
       "    </tr>\n",
       "    <tr>\n",
       "      <th>1</th>\n",
       "      <td>14.875265</td>\n",
       "      <td>4.823012</td>\n",
       "      <td>0.677458</td>\n",
       "      <td>1.724388</td>\n",
       "      <td>3.999474</td>\n",
       "      <td>-0.972199</td>\n",
       "      <td>-2.005132</td>\n",
       "      <td>-1.457637</td>\n",
       "      <td>2.448268</td>\n",
       "      <td>-0.119513</td>\n",
       "      <td>...</td>\n",
       "      <td>0.524229</td>\n",
       "      <td>-0.404037</td>\n",
       "      <td>0.805782</td>\n",
       "      <td>-0.086760</td>\n",
       "      <td>-0.402011</td>\n",
       "      <td>0.379262</td>\n",
       "      <td>-0.309041</td>\n",
       "      <td>0.633947</td>\n",
       "      <td>0.484898</td>\n",
       "      <td>-0.830154</td>\n",
       "    </tr>\n",
       "    <tr>\n",
       "      <th>2</th>\n",
       "      <td>5.319895</td>\n",
       "      <td>-1.038928</td>\n",
       "      <td>-0.062977</td>\n",
       "      <td>-0.745266</td>\n",
       "      <td>0.060529</td>\n",
       "      <td>-0.529557</td>\n",
       "      <td>0.602709</td>\n",
       "      <td>0.714188</td>\n",
       "      <td>0.672428</td>\n",
       "      <td>1.299040</td>\n",
       "      <td>...</td>\n",
       "      <td>0.108474</td>\n",
       "      <td>-0.375558</td>\n",
       "      <td>-0.064665</td>\n",
       "      <td>0.311535</td>\n",
       "      <td>0.039974</td>\n",
       "      <td>0.390855</td>\n",
       "      <td>0.031081</td>\n",
       "      <td>-0.194815</td>\n",
       "      <td>-0.123738</td>\n",
       "      <td>0.249985</td>\n",
       "    </tr>\n",
       "    <tr>\n",
       "      <th>3</th>\n",
       "      <td>8.562212</td>\n",
       "      <td>1.623079</td>\n",
       "      <td>-0.362927</td>\n",
       "      <td>-0.510782</td>\n",
       "      <td>0.015736</td>\n",
       "      <td>0.201882</td>\n",
       "      <td>-1.172192</td>\n",
       "      <td>-0.684692</td>\n",
       "      <td>-0.312315</td>\n",
       "      <td>0.713417</td>\n",
       "      <td>...</td>\n",
       "      <td>0.242219</td>\n",
       "      <td>0.638521</td>\n",
       "      <td>-0.188866</td>\n",
       "      <td>0.237000</td>\n",
       "      <td>0.355140</td>\n",
       "      <td>-0.099653</td>\n",
       "      <td>-0.440658</td>\n",
       "      <td>0.287290</td>\n",
       "      <td>0.269045</td>\n",
       "      <td>-0.513767</td>\n",
       "    </tr>\n",
       "    <tr>\n",
       "      <th>4</th>\n",
       "      <td>-5.904773</td>\n",
       "      <td>0.713815</td>\n",
       "      <td>2.685052</td>\n",
       "      <td>-0.170225</td>\n",
       "      <td>0.095262</td>\n",
       "      <td>-0.239230</td>\n",
       "      <td>-0.422267</td>\n",
       "      <td>-0.217111</td>\n",
       "      <td>1.476836</td>\n",
       "      <td>0.193169</td>\n",
       "      <td>...</td>\n",
       "      <td>-0.228077</td>\n",
       "      <td>0.101318</td>\n",
       "      <td>-0.076799</td>\n",
       "      <td>0.062054</td>\n",
       "      <td>0.088044</td>\n",
       "      <td>0.217746</td>\n",
       "      <td>-0.122410</td>\n",
       "      <td>-0.067817</td>\n",
       "      <td>-0.211470</td>\n",
       "      <td>-0.211492</td>\n",
       "    </tr>\n",
       "  </tbody>\n",
       "</table></div>"
      ],
      "text/plain": [
       "         cp1       cp2       cp3       cp4       cp5       cp6       cp7  \\\n",
       "0   8.735788  1.311106  0.181135 -0.740611  2.950822 -1.245422 -0.067405   \n",
       "1  14.875265  4.823012  0.677458  1.724388  3.999474 -0.972199 -2.005132   \n",
       "2   5.319895 -1.038928 -0.062977 -0.745266  0.060529 -0.529557  0.602709   \n",
       "3   8.562212  1.623079 -0.362927 -0.510782  0.015736  0.201882 -1.172192   \n",
       "4  -5.904773  0.713815  2.685052 -0.170225  0.095262 -0.239230 -0.422267   \n",
       "\n",
       "        cp8       cp9      cp10  ...      cp51      cp52      cp53      cp54  \\\n",
       "0  1.132374 -0.472847  0.600431  ...  0.396198  0.103840 -0.262165 -0.586782   \n",
       "1 -1.457637  2.448268 -0.119513  ...  0.524229 -0.404037  0.805782 -0.086760   \n",
       "2  0.714188  0.672428  1.299040  ...  0.108474 -0.375558 -0.064665  0.311535   \n",
       "3 -0.684692 -0.312315  0.713417  ...  0.242219  0.638521 -0.188866  0.237000   \n",
       "4 -0.217111  1.476836  0.193169  ... -0.228077  0.101318 -0.076799  0.062054   \n",
       "\n",
       "       cp55      cp56      cp57      cp58      cp59      cp60  \n",
       "0 -0.707282 -0.017349 -0.265009  0.067397  0.030917 -0.273612  \n",
       "1 -0.402011  0.379262 -0.309041  0.633947  0.484898 -0.830154  \n",
       "2  0.039974  0.390855  0.031081 -0.194815 -0.123738  0.249985  \n",
       "3  0.355140 -0.099653 -0.440658  0.287290  0.269045 -0.513767  \n",
       "4  0.088044  0.217746 -0.122410 -0.067817 -0.211470 -0.211492  \n",
       "\n",
       "[5 rows x 60 columns]"
      ]
     },
     "execution_count": 82,
     "metadata": {},
     "output_type": "execute_result"
    }
   ],
   "source": [
    "n=60\n",
    "\n",
    "colunas = ['cp'+str(x+1) for x in list(range(n))]\n",
    "\n",
    "pc_train = pd.DataFrame(pc_treino[:,:n], columns = colunas)\n",
    "pc_valid = pd.DataFrame(pc_valida[:,:n], columns = colunas)\n",
    "pc_test  = pd.DataFrame( pc_teste[:,:n], columns = colunas)\n",
    "\n",
    "pc_train.head()"
   ]
  },
  {
   "cell_type": "markdown",
   "metadata": {},
   "source": [
    "### Treinando o modelo\n",
    "\n",
    "Vamos treinar o modelo e fazer o *tunning* dele da mesma forma."
   ]
  },
  {
   "cell_type": "code",
   "execution_count": 83,
   "metadata": {},
   "outputs": [
    {
     "name": "stdout",
     "output_type": "stream",
     "text": [
      "CPU times: user 35.5 s, sys: 251 ms, total: 35.8 s\n",
      "Wall time: 36 s\n"
     ]
    }
   ],
   "source": [
    "%%time\n",
    "clf = DecisionTreeClassifier(random_state=1234).fit(pc_train, y_train)\n",
    "\n",
    "caminho = DecisionTreeClassifier(random_state=2360873, min_samples_leaf=20).cost_complexity_pruning_path(pc_train, y_train)\n",
    "ccp_alphas, impurities = caminho.ccp_alphas, caminho.impurities\n",
    "\n",
    "ccp_alphas = np.unique(ccp_alphas[ccp_alphas>=0])\n",
    "\n",
    "clfs = []\n",
    "for ccp_alpha in ccp_alphas:\n",
    "    clf = DecisionTreeClassifier(random_state=2360873, ccp_alpha=ccp_alpha).fit(pc_train, y_train)\n",
    "    clfs.append(clf)"
   ]
  },
  {
   "cell_type": "markdown",
   "metadata": {},
   "source": [
    "### Avaliando a acurácia do modelo\n",
    "\n",
    "Vamos agora avaliar a acurácia do modelo com o protocolo de costume."
   ]
  },
  {
   "cell_type": "code",
   "execution_count": 84,
   "metadata": {},
   "outputs": [
    {
     "data": {
      "image/png": "[encoded data removed]",
      "text/plain": [
       "<Figure size 432x288 with 1 Axes>"
      ]
     },
     "metadata": {
      "needs_background": "light"
     },
     "output_type": "display_data"
    }
   ],
   "source": [
    "train_scores = [clf.score(pc_train, y_train) for clf in clfs]\n",
    "valid_scores = [clf.score(pc_valid, y_valid) for clf in clfs]\n",
    "\n",
    "fig, ax = plt.subplots()\n",
    "ax.set_xlabel(\"alpha\")\n",
    "ax.set_ylabel(\"Acurácia\")\n",
    "ax.set_title(\"Acurácia x alpha do conjunto de dados de treino e teste\")\n",
    "nx=-10\n",
    "ax.plot(ccp_alphas[:nx], train_scores[:nx], marker='o', label=\"treino\",    drawstyle=\"steps-post\")\n",
    "ax.plot(ccp_alphas[:nx], valid_scores[:nx], marker='o', label=\"validação\", drawstyle=\"steps-post\")\n",
    "\n",
    "ax.legend()\n",
    "plt.show()"
   ]
  },
  {
   "cell_type": "code",
   "execution_count": 85,
   "metadata": {},
   "outputs": [
    {
     "name": "stdout",
     "output_type": "stream",
     "text": [
      "Acurácia da melhor árvore na base de treino:    93.3\n",
      "Acurácia da melhor árvore na base de validação: 86.3\n",
      "Acurácia da melhor árvore na base de teste:     81.9\n"
     ]
    },
    {
     "data": {
      "text/plain": [
       "DecisionTreeClassifier(ccp_alpha=0.000989001061790007, random_state=2360873)"
      ]
     },
     "execution_count": 85,
     "metadata": {},
     "output_type": "execute_result"
    }
   ],
   "source": [
    "ind_melhor_arvore = len(valid_scores) - valid_scores[::-1].index(max(valid_scores)) - 1\n",
    "melhor_arvore = clfs[ind_melhor_arvore]\n",
    "\n",
    "print(f'Acurácia da melhor árvore na base de treino:    {train_scores[ind_melhor_arvore]*100:.1f}')\n",
    "print(f'Acurácia da melhor árvore na base de validação: {valid_scores[ind_melhor_arvore]*100:.1f}')\n",
    "print(f'Acurácia da melhor árvore na base de teste:     {melhor_arvore.score(pc_test, y_test)*100:.1f}')\n",
    "\n",
    "melhor_arvore"
   ]
  },
  {
   "cell_type": "markdown",
   "metadata": {},
   "source": [
    "## Matéria-prima\n",
    "\n",
    "Podemos discutir muito o que é **informação**. Há teorias sobre isso, pontos de vista, polêmicas etc. Para nós, vamos entender que:\n",
    "\n",
    "- Os dados trazem informação e\n",
    "- Informação é variabilidade\n",
    "\n",
    "Portanto, uma variável que não tenha variabilidade, não tem informação e a informação que os dados trazem está na sua variabilidade.\n",
    "\n",
    "Dito isto, é importante que tenhamos alguns conceitos básicos muito bem entendidos:\n",
    "\n",
    "### Variância\n",
    "\n",
    "Variância é uma medida de como os dados estão dispersos em torno da média. Pode ser calculada como:\n",
    "\n",
    "$$ \\hat{\\sigma}_x^2 = \\frac{1}{n-1} \\sum_{n=1}^{N} (x_i - \\bar{x})^2 $$\n",
    "\n",
    "A variância de X tem unidade, que é a unidade de X ao quadrado.\n",
    "\n",
    "### Desvio padrão\n",
    "\n",
    "O desvio padrão é a raiz quadrada da variância. Ao se extrair a raiz quadrada, essa medida fica na mesma unidade que a variável original.\n",
    "\n",
    "$$ \\hat{\\sigma}_x = \\sqrt{\\hat{\\sigma}_x^2} $$\n",
    "\n",
    "**Medidas de associação**\n",
    "\n",
    "As medidas de dispersão indicam como os dados variam em torno de um valor. No entanto, entre duas variáveis X e Y, quando uma delas varia, isso pode dar *informação* sobre o valor da outra variável. Para estudar isto são definidas medidas de associação.\n",
    "\n",
    "### Covariância\n",
    "\n",
    "A covariância procura medir a associação linear entre duas variáveis.\n",
    "\n",
    "$$ Cov(X, Y) = \\sigma_{x,y} = \\frac{1}{N} \\sum_{i=1}^{N} (X-\\bar{X})(Y-\\bar{Y}) $$\n",
    "\n",
    "### Correlação\n",
    "\n",
    "A correlação é uma medida de associação adimensional. Ela varia entre -1 e 1, quanto maior em valor absoluto, mais as variáveis \"compartilham informação\".\n",
    "\n",
    "$$ Cor(X, Y) = \\rho_{x, y} = \\frac{Cov(X, Y)}{Var(X)Var(Y)} $$\n",
    "\n",
    "Uma transformação bem comum é deixar a variável com média = 0 e desvio padrão = 1 com a seguinte transformação:\n",
    "\n",
    "$$ x_{pad} = \\frac{x - \\hat{x}}{DesvPad(x)} $$\n",
    "\n",
    "Um resultado notável - que vale uma ponderação e uma experimentação no notebook - é que a covariância calculada sobre variáveis padronizadas é igual à correlação das variáveis originais (não transformadas). Isso tem algumas consequencias interessantes - pondere um pouco a respeito.\n",
    "\n",
    "**Notações matriciais**\n",
    "\n",
    "### Matriz de covariância\n",
    "\n",
    "Uma matriz de covariância de um conjunto de variáveis é uma matriz cujas linhas/colunas correspondem às variáveis de interesse, possui na sua diagonal principal a variância da respectiva variável, e fora dela a covariância do respectivo par linha-coluna.\n",
    "\n",
    "Por simplicidade, podemos denotar $\\sigma^2_{1}$ a variância da variável 1, e $\\sigma^2_{ij}$ a covariância entre as variáveis i e j (com i $\\neq$ j).\n",
    "\n",
    "$$ \\Sigma = \\begin{bmatrix}\n",
    "\\sigma^2_{1} & \\sigma_{12} & \\sigma_{13} \\\\\n",
    "\\sigma_{21} & \\sigma^2_{2} & \\sigma_{23} \\\\\n",
    "\\sigma_{31} & \\sigma_{32} & \\sigma^2_{3} \n",
    "\\end{bmatrix}  $$\n",
    "\n",
    "Observe que como $\\sigma_{ij} = \\sigma_{ji}$ a matriz será simétrica.\n",
    "\n",
    "### Matriz de correlação\n",
    "\n",
    "Muito similar à matriz de covariâncias, mas possui as correlações. Note que $Cov(x,x) = Var(x)$ mas $Cor(x,x) = 1$ pois a variável sempre está 100% positivamente correlacionada consigo mesma.\n",
    "\n",
    "$$ R = \\begin{bmatrix}\n",
    "1 & \\rho_{12} & \\rho_{13} \\\\\n",
    "\\rho_{21} & 1 & \\rho_{23} \\\\\n",
    "\\rho_{31} & \\rho_{32} & 1 \n",
    "\\end{bmatrix}  $$\n"
   ]
  },
  {
   "cell_type": "markdown",
   "metadata": {},
   "source": [
    "## Ilustração geométrica\n",
    "\n",
    "Interpretação geométrica\n",
    "\n",
    "- Os dados expressos nas componentes principais são uma rotação dos dados expressos na base original (por isso trazem a mesma informação).\n",
    "- As componentes principais são a projeção das variáveis originais ao longo dos autovalores.\n",
    "- A rotação consiste em \"deitar\" a núvem de pontos ao longo do eixo horizontal, de modo que a correlação linear fica zero."
   ]
  },
  {
   "cell_type": "markdown",
   "metadata": {},
   "source": [
    "### Carregando os dados\n",
    "\n",
    "Para esta ilustração, vamos utilizar os dados (fictícios) de notas de 100 alunos de ensino médio que avaliam 5 matérias através de 4 provas cada uma (p1, p2, p3 e p4) - totalizando 20 provas.\n",
    "\n",
    "Vamos carregar os dados que estão no formato *feather* - um formato criado primariamente para intercambiar dados entre R e Python, e que é bem mais conveniente de ser utilizado para persistir dados do que o CSV na maioria das aplicações."
   ]
  },
  {
   "cell_type": "code",
   "execution_count": 62,
   "metadata": {},
   "outputs": [],
   "source": [
    "df = pd.read_feather('notas.ftr')"
   ]
  },
  {
   "cell_type": "code",
   "execution_count": 63,
   "metadata": {},
   "outputs": [
    {
     "data": {
      "text/html": [
       "<div><div id=2422efae-c9e3-46e3-a912-356b357d5ffd style=\"display:none; background-color:#9D6CFF; color:white; width:200px; height:30px; padding-left:5px; border-radius:4px; flex-direction:row; justify-content:space-around; align-items:center;\" onmouseover=\"this.style.backgroundColor='#BA9BF8'\" onmouseout=\"this.style.backgroundColor='#9D6CFF'\" onclick=\"window.commands?.execute('create-mitosheet-from-dataframe-output');\">See Full Dataframe in Mito</div> <script> if (window.commands.hasCommand('create-mitosheet-from-dataframe-output')) document.getElementById('2422efae-c9e3-46e3-a912-356b357d5ffd').style.display = 'flex' </script> <table border=\"1\" class=\"dataframe\">\n",
       "  <thead>\n",
       "    <tr style=\"text-align: right;\">\n",
       "      <th></th>\n",
       "      <th>mat_p1</th>\n",
       "      <th>mat_p2</th>\n",
       "      <th>mat_p3</th>\n",
       "      <th>mat_p4</th>\n",
       "      <th>por_p1</th>\n",
       "      <th>por_p2</th>\n",
       "      <th>por_p3</th>\n",
       "      <th>por_p4</th>\n",
       "      <th>his_p1</th>\n",
       "      <th>his_p2</th>\n",
       "      <th>his_p3</th>\n",
       "      <th>his_p4</th>\n",
       "      <th>geo_p1</th>\n",
       "      <th>geo_p2</th>\n",
       "      <th>geo_p3</th>\n",
       "      <th>geo_p4</th>\n",
       "      <th>art_p1</th>\n",
       "      <th>art_p2</th>\n",
       "      <th>art_p3</th>\n",
       "      <th>art_p4</th>\n",
       "    </tr>\n",
       "  </thead>\n",
       "  <tbody>\n",
       "    <tr>\n",
       "      <th>0</th>\n",
       "      <td>4.00</td>\n",
       "      <td>3.95</td>\n",
       "      <td>5.20</td>\n",
       "      <td>5.10</td>\n",
       "      <td>2.4</td>\n",
       "      <td>5.5</td>\n",
       "      <td>4.8</td>\n",
       "      <td>6.1</td>\n",
       "      <td>4.1</td>\n",
       "      <td>4.6</td>\n",
       "      <td>5.1</td>\n",
       "      <td>4.0</td>\n",
       "      <td>2.2</td>\n",
       "      <td>1.8</td>\n",
       "      <td>2.3</td>\n",
       "      <td>5.4</td>\n",
       "      <td>7.84</td>\n",
       "      <td>8.53</td>\n",
       "      <td>9.14</td>\n",
       "      <td>9.40</td>\n",
       "    </tr>\n",
       "    <tr>\n",
       "      <th>1</th>\n",
       "      <td>1.15</td>\n",
       "      <td>1.80</td>\n",
       "      <td>3.45</td>\n",
       "      <td>2.55</td>\n",
       "      <td>3.3</td>\n",
       "      <td>4.6</td>\n",
       "      <td>4.6</td>\n",
       "      <td>4.8</td>\n",
       "      <td>5.7</td>\n",
       "      <td>4.4</td>\n",
       "      <td>6.5</td>\n",
       "      <td>6.9</td>\n",
       "      <td>3.3</td>\n",
       "      <td>3.8</td>\n",
       "      <td>6.2</td>\n",
       "      <td>3.4</td>\n",
       "      <td>8.01</td>\n",
       "      <td>8.50</td>\n",
       "      <td>9.14</td>\n",
       "      <td>9.63</td>\n",
       "    </tr>\n",
       "    <tr>\n",
       "      <th>2</th>\n",
       "      <td>6.65</td>\n",
       "      <td>8.15</td>\n",
       "      <td>7.20</td>\n",
       "      <td>8.80</td>\n",
       "      <td>2.8</td>\n",
       "      <td>5.0</td>\n",
       "      <td>3.1</td>\n",
       "      <td>7.2</td>\n",
       "      <td>5.4</td>\n",
       "      <td>7.2</td>\n",
       "      <td>8.1</td>\n",
       "      <td>8.0</td>\n",
       "      <td>10.0</td>\n",
       "      <td>8.2</td>\n",
       "      <td>10.0</td>\n",
       "      <td>10.0</td>\n",
       "      <td>9.61</td>\n",
       "      <td>9.82</td>\n",
       "      <td>10.00</td>\n",
       "      <td>10.00</td>\n",
       "    </tr>\n",
       "    <tr>\n",
       "      <th>3</th>\n",
       "      <td>5.90</td>\n",
       "      <td>6.25</td>\n",
       "      <td>7.00</td>\n",
       "      <td>7.60</td>\n",
       "      <td>4.7</td>\n",
       "      <td>3.7</td>\n",
       "      <td>6.1</td>\n",
       "      <td>4.7</td>\n",
       "      <td>5.0</td>\n",
       "      <td>5.8</td>\n",
       "      <td>6.3</td>\n",
       "      <td>5.6</td>\n",
       "      <td>6.2</td>\n",
       "      <td>7.2</td>\n",
       "      <td>8.3</td>\n",
       "      <td>7.9</td>\n",
       "      <td>9.48</td>\n",
       "      <td>10.00</td>\n",
       "      <td>10.00</td>\n",
       "      <td>10.00</td>\n",
       "    </tr>\n",
       "    <tr>\n",
       "      <th>4</th>\n",
       "      <td>7.30</td>\n",
       "      <td>7.90</td>\n",
       "      <td>7.45</td>\n",
       "      <td>10.00</td>\n",
       "      <td>7.5</td>\n",
       "      <td>7.3</td>\n",
       "      <td>7.7</td>\n",
       "      <td>10.0</td>\n",
       "      <td>5.8</td>\n",
       "      <td>7.7</td>\n",
       "      <td>8.2</td>\n",
       "      <td>8.7</td>\n",
       "      <td>10.0</td>\n",
       "      <td>10.0</td>\n",
       "      <td>10.0</td>\n",
       "      <td>10.0</td>\n",
       "      <td>9.55</td>\n",
       "      <td>9.95</td>\n",
       "      <td>10.00</td>\n",
       "      <td>10.00</td>\n",
       "    </tr>\n",
       "  </tbody>\n",
       "</table></div>"
      ],
      "text/plain": [
       "   mat_p1  mat_p2  mat_p3  mat_p4  por_p1  por_p2  por_p3  por_p4  his_p1  \\\n",
       "0    4.00    3.95    5.20    5.10     2.4     5.5     4.8     6.1     4.1   \n",
       "1    1.15    1.80    3.45    2.55     3.3     4.6     4.6     4.8     5.7   \n",
       "2    6.65    8.15    7.20    8.80     2.8     5.0     3.1     7.2     5.4   \n",
       "3    5.90    6.25    7.00    7.60     4.7     3.7     6.1     4.7     5.0   \n",
       "4    7.30    7.90    7.45   10.00     7.5     7.3     7.7    10.0     5.8   \n",
       "\n",
       "   his_p2  his_p3  his_p4  geo_p1  geo_p2  geo_p3  geo_p4  art_p1  art_p2  \\\n",
       "0     4.6     5.1     4.0     2.2     1.8     2.3     5.4    7.84    8.53   \n",
       "1     4.4     6.5     6.9     3.3     3.8     6.2     3.4    8.01    8.50   \n",
       "2     7.2     8.1     8.0    10.0     8.2    10.0    10.0    9.61    9.82   \n",
       "3     5.8     6.3     5.6     6.2     7.2     8.3     7.9    9.48   10.00   \n",
       "4     7.7     8.2     8.7    10.0    10.0    10.0    10.0    9.55    9.95   \n",
       "\n",
       "   art_p3  art_p4  \n",
       "0    9.14    9.40  \n",
       "1    9.14    9.63  \n",
       "2   10.00   10.00  \n",
       "3   10.00   10.00  \n",
       "4   10.00   10.00  "
      ]
     },
     "execution_count": 63,
     "metadata": {},
     "output_type": "execute_result"
    }
   ],
   "source": [
    "df.head()"
   ]
  },
  {
   "cell_type": "markdown",
   "metadata": {},
   "source": [
    "### Ilustração em 2D\n",
    "\n",
    "Vamos começar a ilustração da ideia por trás das componentes principais avaliando primeiramente apenas duas matérias, de modo que podemos fazer a visualização geométrica em 2D.\n",
    "\n",
    "Lembre-se que para nós variabilidade é informação, portanto, variabilidade compartilhada (correlação) é redundância de informação entre duas variáveis. Vamos então selecionar duas variáveis correlacionadas e começar a pensar um pouco sobre esses conceitos de informação e redundância."
   ]
  },
  {
   "cell_type": "code",
   "execution_count": 64,
   "metadata": {},
   "outputs": [],
   "source": [
    "variaveis = ['por_p1', 'por_p2']"
   ]
  },
  {
   "cell_type": "code",
   "execution_count": 65,
   "metadata": {},
   "outputs": [
    {
     "data": {
      "image/png": "[encoded data removed]",
      "text/plain": [
       "<Figure size 720x720 with 1 Axes>"
      ]
     },
     "metadata": {
      "needs_background": "light"
     },
     "output_type": "display_data"
    }
   ],
   "source": [
    "fig = plt.figure(figsize=(10, 10))\n",
    "ax = fig.add_subplot(1,1,1)\n",
    "\n",
    "ax.set_aspect('equal', 'box')\n",
    "ax.set(xlim=(-1, 11), ylim=(-1, 11));\n",
    "\n",
    "plt.scatter(x = df[variaveis[0]], y = df[variaveis[1]]);"
   ]
  },
  {
   "cell_type": "code",
   "execution_count": 68,
   "metadata": {},
   "outputs": [
    {
     "data": {
      "text/html": [
       "<div><div id=2c7b38cc-f11d-4201-bc57-5bb57545bb11 style=\"display:none; background-color:#9D6CFF; color:white; width:200px; height:30px; padding-left:5px; border-radius:4px; flex-direction:row; justify-content:space-around; align-items:center;\" onmouseover=\"this.style.backgroundColor='#BA9BF8'\" onmouseout=\"this.style.backgroundColor='#9D6CFF'\" onclick=\"window.commands?.execute('create-mitosheet-from-dataframe-output');\">See Full Dataframe in Mito</div> <script> if (window.commands.hasCommand('create-mitosheet-from-dataframe-output')) document.getElementById('2c7b38cc-f11d-4201-bc57-5bb57545bb11').style.display = 'flex' </script> <table border=\"1\" class=\"dataframe\">\n",
       "  <thead>\n",
       "    <tr style=\"text-align: right;\">\n",
       "      <th></th>\n",
       "      <th>por_p1</th>\n",
       "      <th>por_p2</th>\n",
       "    </tr>\n",
       "  </thead>\n",
       "  <tbody>\n",
       "    <tr>\n",
       "      <th>por_p1</th>\n",
       "      <td>7.230202</td>\n",
       "      <td>5.925505</td>\n",
       "    </tr>\n",
       "    <tr>\n",
       "      <th>por_p2</th>\n",
       "      <td>5.925505</td>\n",
       "      <td>6.660342</td>\n",
       "    </tr>\n",
       "  </tbody>\n",
       "</table></div>"
      ],
      "text/plain": [
       "          por_p1    por_p2\n",
       "por_p1  7.230202  5.925505\n",
       "por_p2  5.925505  6.660342"
      ]
     },
     "execution_count": 68,
     "metadata": {},
     "output_type": "execute_result"
    }
   ],
   "source": [
    "df[variaveis].cov()"
   ]
  },
  {
   "cell_type": "markdown",
   "metadata": {},
   "source": [
    "### Transoformações lineares\n",
    "\n",
    "Pode ser útil fazer alguma transformação linear nesses dados?\n",
    "Por exemplo, média e diferença entre as notas? Que características essa transformação possui?"
   ]
  },
  {
   "cell_type": "code",
   "execution_count": 69,
   "metadata": {
    "scrolled": false
   },
   "outputs": [
    {
     "data": {
      "text/plain": [
       "<matplotlib.collections.PathCollection at 0x7f8fbbf7eb50>"
      ]
     },
     "execution_count": 69,
     "metadata": {},
     "output_type": "execute_result"
    },
    {
     "data": {
      "image/png": "[encoded data removed]",
      "text/plain": [
       "<Figure size 720x720 with 1 Axes>"
      ]
     },
     "metadata": {
      "needs_background": "light"
     },
     "output_type": "display_data"
    }
   ],
   "source": [
    "fig = plt.figure(figsize=(10, 10))\n",
    "ax = fig.add_subplot(1,1,1)\n",
    "\n",
    "ax.set_aspect('equal', 'box')\n",
    "ax.set(xlim=(-4, 11), ylim=(-4, 11));\n",
    "\n",
    "plt.scatter(x = df[variaveis[0]], y = df[variaveis[1]]);\n",
    "\n",
    "\n",
    "m = np.array([[ .5, .5],\n",
    "              [ -1,  1]])\n",
    "\n",
    "df_rot = np.matmul(m, df[variaveis].to_numpy().transpose())\n",
    "plt.scatter(df_rot[0,:],df_rot[1,:])"
   ]
  },
  {
   "cell_type": "code",
   "execution_count": 81,
   "metadata": {},
   "outputs": [
    {
     "data": {
      "text/html": [
       "<div><div id=19442d82-4c41-485b-adc0-10edd4de9c0b style=\"display:none; background-color:#9D6CFF; color:white; width:200px; height:30px; padding-left:5px; border-radius:4px; flex-direction:row; justify-content:space-around; align-items:center;\" onmouseover=\"this.style.backgroundColor='#BA9BF8'\" onmouseout=\"this.style.backgroundColor='#9D6CFF'\" onclick=\"window.commands?.execute('create-mitosheet-from-dataframe-output');\">See Full Dataframe in Mito</div> <script> if (window.commands.hasCommand('create-mitosheet-from-dataframe-output')) document.getElementById('19442d82-4c41-485b-adc0-10edd4de9c0b').style.display = 'flex' </script> <table border=\"1\" class=\"dataframe\">\n",
       "  <thead>\n",
       "    <tr style=\"text-align: right;\">\n",
       "      <th></th>\n",
       "      <th>0</th>\n",
       "      <th>1</th>\n",
       "    </tr>\n",
       "  </thead>\n",
       "  <tbody>\n",
       "    <tr>\n",
       "      <th>0</th>\n",
       "      <td>1.000000</td>\n",
       "      <td>-0.078648</td>\n",
       "    </tr>\n",
       "    <tr>\n",
       "      <th>1</th>\n",
       "      <td>-0.078648</td>\n",
       "      <td>1.000000</td>\n",
       "    </tr>\n",
       "  </tbody>\n",
       "</table></div>"
      ],
      "text/plain": [
       "          0         1\n",
       "0  1.000000 -0.078648\n",
       "1 -0.078648  1.000000"
      ]
     },
     "execution_count": 81,
     "metadata": {},
     "output_type": "execute_result"
    }
   ],
   "source": [
    "pd.DataFrame(df_rot.transpose()).corr()"
   ]
  },
  {
   "cell_type": "code",
   "execution_count": 90,
   "metadata": {},
   "outputs": [
    {
     "data": {
      "text/plain": [
       "<matplotlib.collections.PathCollection at 0x7f8fbb70d7f0>"
      ]
     },
     "execution_count": 90,
     "metadata": {},
     "output_type": "execute_result"
    },
    {
     "data": {
      "image/png": "[encoded data removed]",
      "text/plain": [
       "<Figure size 720x720 with 1 Axes>"
      ]
     },
     "metadata": {
      "needs_background": "light"
     },
     "output_type": "display_data"
    }
   ],
   "source": [
    "fig = plt.figure(figsize=(10, 10))\n",
    "ax = fig.add_subplot(1,1,1)\n",
    "\n",
    "ax.set_aspect('equal', 'box')\n",
    "ax.set(xlim=(-4, 15), ylim=(-4, 15));\n",
    "\n",
    "m = np.array([[ 0.69245036, -0.72146552],\n",
    "              [ 0.72146552,  0.69245036]])\n",
    "\n",
    "df_rot = np.matmul(m, df[variaveis].to_numpy().transpose())\n",
    "\n",
    "plt.scatter(x = df[variaveis[0]], y = df[variaveis[1]]);\n",
    "plt.scatter(df_rot[0,:],df_rot[1,:])\n"
   ]
  },
  {
   "cell_type": "code",
   "execution_count": 94,
   "metadata": {},
   "outputs": [
    {
     "data": {
      "text/html": [
       "<div><div id=5f5f8451-838c-4056-9a39-3d621081a98f style=\"display:none; background-color:#9D6CFF; color:white; width:200px; height:30px; padding-left:5px; border-radius:4px; flex-direction:row; justify-content:space-around; align-items:center;\" onmouseover=\"this.style.backgroundColor='#BA9BF8'\" onmouseout=\"this.style.backgroundColor='#9D6CFF'\" onclick=\"window.commands?.execute('create-mitosheet-from-dataframe-output');\">See Full Dataframe in Mito</div> <script> if (window.commands.hasCommand('create-mitosheet-from-dataframe-output')) document.getElementById('5f5f8451-838c-4056-9a39-3d621081a98f').style.display = 'flex' </script> <table border=\"1\" class=\"dataframe\">\n",
       "  <thead>\n",
       "    <tr style=\"text-align: right;\">\n",
       "      <th></th>\n",
       "      <th>0</th>\n",
       "      <th>1</th>\n",
       "    </tr>\n",
       "  </thead>\n",
       "  <tbody>\n",
       "    <tr>\n",
       "      <th>0</th>\n",
       "      <td>1.000000</td>\n",
       "      <td>0.011516</td>\n",
       "    </tr>\n",
       "    <tr>\n",
       "      <th>1</th>\n",
       "      <td>0.011516</td>\n",
       "      <td>1.000000</td>\n",
       "    </tr>\n",
       "  </tbody>\n",
       "</table></div>"
      ],
      "text/plain": [
       "          0         1\n",
       "0  1.000000  0.011516\n",
       "1  0.011516  1.000000"
      ]
     },
     "execution_count": 94,
     "metadata": {},
     "output_type": "execute_result"
    }
   ],
   "source": [
    "pd.DataFrame(df_rot.transpose()).corr()"
   ]
  },
  {
   "cell_type": "markdown",
   "metadata": {},
   "source": [
    "### Scatterplot 2D com autovetores"
   ]
  },
  {
   "cell_type": "code",
   "execution_count": 95,
   "metadata": {},
   "outputs": [
    {
     "data": {
      "text/plain": [
       "<matplotlib.patches.FancyArrow at 0x7f8fba90a250>"
      ]
     },
     "execution_count": 95,
     "metadata": {},
     "output_type": "execute_result"
    },
    {
     "data": {
      "image/png": "[encoded data removed]",
      "text/plain": [
       "<Figure size 720x720 with 1 Axes>"
      ]
     },
     "metadata": {
      "needs_background": "light"
     },
     "output_type": "display_data"
    }
   ],
   "source": [
    "fig = plt.figure(figsize=(10, 10))\n",
    "ax = fig.add_subplot(1,1,1)\n",
    "\n",
    "X = df[variaveis].apply(lambda var: (var-var.mean())/ var.std(), axis=0)\n",
    "\n",
    "ax.scatter(x = X.iloc[:,0], y = X.iloc[:,1])\n",
    "\n",
    "xmin = -3\n",
    "xmax = 3\n",
    "ymin = -3\n",
    "ymax = 3\n",
    "\n",
    "# ax.axis('equal')\n",
    "ax.set_aspect('equal', 'box')\n",
    "ax.set(xlim=(xmin, xmax), ylim=(ymin, ymax));\n",
    "\n",
    "autovet=np.array([[ 0.69245036, -0.72146552],\n",
    "                  [ 0.72146552,  0.69245036]])\n",
    "\n",
    "ax.arrow(0, 0, autovet[0,0], autovet[1,0]\n",
    "         , head_width=0.25\n",
    "         , head_length=0.1\n",
    "         , fc='g', ec='g', \n",
    "         length_includes_head=True)\n",
    "ax.arrow(0, 0, autovet[0,1], autovet[1,1]\n",
    "         , head_width=0.25\n",
    "         , head_length=0.1\n",
    "         , fc='g', ec='g', \n",
    "         length_includes_head=True)"
   ]
  },
  {
   "cell_type": "markdown",
   "metadata": {},
   "source": [
    "### Explorando a PCA com o Scikitlearn\n",
    "\n",
    "Agora vamos explorar um pouco melhor a análise de componentes principais pelo scikitlearn. Vamos ver onde ficam guardados os autovetores e autovalores e explorar outros atributos interessantes."
   ]
  },
  {
   "cell_type": "code",
   "execution_count": 222,
   "metadata": {
    "scrolled": true
   },
   "outputs": [
    {
     "data": {
      "text/html": [
       "<div><div id=a905c59a-991f-43af-ae6b-b39efb6c9e6c style=\"display:none; background-color:#9D6CFF; color:white; width:200px; height:30px; padding-left:5px; border-radius:4px; flex-direction:row; justify-content:space-around; align-items:center;\" onmouseover=\"this.style.backgroundColor='#BA9BF8'\" onmouseout=\"this.style.backgroundColor='#9D6CFF'\" onclick=\"window.commands?.execute('create-mitosheet-from-dataframe-output');\">See Full Dataframe in Mito</div> <script> if (window.commands.hasCommand('create-mitosheet-from-dataframe-output')) document.getElementById('a905c59a-991f-43af-ae6b-b39efb6c9e6c').style.display = 'flex' </script> <table border=\"1\" class=\"dataframe\">\n",
       "  <thead>\n",
       "    <tr style=\"text-align: right;\">\n",
       "      <th></th>\n",
       "      <th>mat_p1</th>\n",
       "      <th>mat_p2</th>\n",
       "      <th>mat_p3</th>\n",
       "    </tr>\n",
       "  </thead>\n",
       "  <tbody>\n",
       "    <tr>\n",
       "      <th>0</th>\n",
       "      <td>4.00</td>\n",
       "      <td>3.95</td>\n",
       "      <td>5.20</td>\n",
       "    </tr>\n",
       "    <tr>\n",
       "      <th>1</th>\n",
       "      <td>1.15</td>\n",
       "      <td>1.80</td>\n",
       "      <td>3.45</td>\n",
       "    </tr>\n",
       "    <tr>\n",
       "      <th>2</th>\n",
       "      <td>6.65</td>\n",
       "      <td>8.15</td>\n",
       "      <td>7.20</td>\n",
       "    </tr>\n",
       "    <tr>\n",
       "      <th>3</th>\n",
       "      <td>5.90</td>\n",
       "      <td>6.25</td>\n",
       "      <td>7.00</td>\n",
       "    </tr>\n",
       "    <tr>\n",
       "      <th>4</th>\n",
       "      <td>7.30</td>\n",
       "      <td>7.90</td>\n",
       "      <td>7.45</td>\n",
       "    </tr>\n",
       "  </tbody>\n",
       "</table></div>"
      ],
      "text/plain": [
       "   mat_p1  mat_p2  mat_p3\n",
       "0    4.00    3.95    5.20\n",
       "1    1.15    1.80    3.45\n",
       "2    6.65    8.15    7.20\n",
       "3    5.90    6.25    7.00\n",
       "4    7.30    7.90    7.45"
      ]
     },
     "execution_count": 222,
     "metadata": {},
     "output_type": "execute_result"
    }
   ],
   "source": [
    "df[variaveis].head()"
   ]
  },
  {
   "cell_type": "code",
   "execution_count": 223,
   "metadata": {},
   "outputs": [],
   "source": [
    "pca = PCA()\n",
    "\n",
    "variaveis = ['por_p1', 'por_p2']\n",
    "princomp = pca.fit(df[variaveis])\n",
    "\n",
    "componentes =princomp.transform(df[variaveis])\n",
    "\n",
    "principalDf = pd.DataFrame(data = componentes\n",
    "             , columns = ['CP1', 'CP2'])"
   ]
  },
  {
   "cell_type": "markdown",
   "metadata": {},
   "source": [
    "Vamos explorar os seguintes elementos:\n",
    "\n",
    "- Autovetores\n",
    "- Autovalores\n",
    "- Variância e covariância das CPs\n",
    "- Variância das variáveis originais\n",
    "- Variância explicada"
   ]
  },
  {
   "cell_type": "code",
   "execution_count": 224,
   "metadata": {},
   "outputs": [
    {
     "data": {
      "text/plain": [
       "array([0.9270784, 0.0729216])"
      ]
     },
     "execution_count": 224,
     "metadata": {},
     "output_type": "execute_result"
    }
   ],
   "source": [
    "princomp.explained_variance_ / princomp.explained_variance_.sum()"
   ]
  },
  {
   "cell_type": "code",
   "execution_count": 225,
   "metadata": {},
   "outputs": [
    {
     "data": {
      "text/plain": [
       "array([12.87762379,  1.01292066])"
      ]
     },
     "execution_count": 225,
     "metadata": {},
     "output_type": "execute_result"
    }
   ],
   "source": [
    "princomp.explained_variance_"
   ]
  },
  {
   "cell_type": "code",
   "execution_count": 226,
   "metadata": {},
   "outputs": [
    {
     "data": {
      "text/plain": [
       "13.890544444444444"
      ]
     },
     "execution_count": 226,
     "metadata": {},
     "output_type": "execute_result"
    }
   ],
   "source": [
    "princomp.explained_variance_.sum()"
   ]
  },
  {
   "cell_type": "code",
   "execution_count": 227,
   "metadata": {},
   "outputs": [
    {
     "data": {
      "text/html": [
       "<div><div id=17f28eee-26e2-4bcf-aef6-b758738a7a26 style=\"display:none; background-color:#9D6CFF; color:white; width:200px; height:30px; padding-left:5px; border-radius:4px; flex-direction:row; justify-content:space-around; align-items:center;\" onmouseover=\"this.style.backgroundColor='#BA9BF8'\" onmouseout=\"this.style.backgroundColor='#9D6CFF'\" onclick=\"window.commands?.execute('create-mitosheet-from-dataframe-output');\">See Full Dataframe in Mito</div> <script> if (window.commands.hasCommand('create-mitosheet-from-dataframe-output')) document.getElementById('17f28eee-26e2-4bcf-aef6-b758738a7a26').style.display = 'flex' </script> <table border=\"1\" class=\"dataframe\">\n",
       "  <thead>\n",
       "    <tr style=\"text-align: right;\">\n",
       "      <th></th>\n",
       "      <th>por_p1</th>\n",
       "      <th>por_p2</th>\n",
       "    </tr>\n",
       "  </thead>\n",
       "  <tbody>\n",
       "    <tr>\n",
       "      <th>por_p1</th>\n",
       "      <td>7.230202</td>\n",
       "      <td>5.925505</td>\n",
       "    </tr>\n",
       "    <tr>\n",
       "      <th>por_p2</th>\n",
       "      <td>5.925505</td>\n",
       "      <td>6.660342</td>\n",
       "    </tr>\n",
       "  </tbody>\n",
       "</table></div>"
      ],
      "text/plain": [
       "          por_p1    por_p2\n",
       "por_p1  7.230202  5.925505\n",
       "por_p2  5.925505  6.660342"
      ]
     },
     "execution_count": 227,
     "metadata": {},
     "output_type": "execute_result"
    }
   ],
   "source": [
    "df[variaveis].cov()"
   ]
  },
  {
   "cell_type": "code",
   "execution_count": 228,
   "metadata": {},
   "outputs": [
    {
     "data": {
      "text/plain": [
       "13.890544"
      ]
     },
     "execution_count": 228,
     "metadata": {},
     "output_type": "execute_result"
    }
   ],
   "source": [
    "7.230202 + 6.660342"
   ]
  },
  {
   "cell_type": "code",
   "execution_count": 216,
   "metadata": {},
   "outputs": [
    {
     "data": {
      "text/html": [
       "<div><div id=01bc5319-5dba-4437-ae44-aab055b3918e style=\"display:none; background-color:#9D6CFF; color:white; width:200px; height:30px; padding-left:5px; border-radius:4px; flex-direction:row; justify-content:space-around; align-items:center;\" onmouseover=\"this.style.backgroundColor='#BA9BF8'\" onmouseout=\"this.style.backgroundColor='#9D6CFF'\" onclick=\"window.commands?.execute('create-mitosheet-from-dataframe-output');\">See Full Dataframe in Mito</div> <script> if (window.commands.hasCommand('create-mitosheet-from-dataframe-output')) document.getElementById('01bc5319-5dba-4437-ae44-aab055b3918e').style.display = 'flex' </script> <table border=\"1\" class=\"dataframe\">\n",
       "  <thead>\n",
       "    <tr style=\"text-align: right;\">\n",
       "      <th></th>\n",
       "      <th>CP1</th>\n",
       "      <th>CP2</th>\n",
       "    </tr>\n",
       "  </thead>\n",
       "  <tbody>\n",
       "    <tr>\n",
       "      <th>CP1</th>\n",
       "      <td>1.287762e+01</td>\n",
       "      <td>-2.404951e-15</td>\n",
       "    </tr>\n",
       "    <tr>\n",
       "      <th>CP2</th>\n",
       "      <td>-2.404951e-15</td>\n",
       "      <td>1.012921e+00</td>\n",
       "    </tr>\n",
       "  </tbody>\n",
       "</table></div>"
      ],
      "text/plain": [
       "              CP1           CP2\n",
       "CP1  1.287762e+01 -2.404951e-15\n",
       "CP2 -2.404951e-15  1.012921e+00"
      ]
     },
     "execution_count": 216,
     "metadata": {},
     "output_type": "execute_result"
    }
   ],
   "source": [
    "principalDf.cov()"
   ]
  },
  {
   "cell_type": "code",
   "execution_count": 229,
   "metadata": {
    "scrolled": false
   },
   "outputs": [
    {
     "data": {
      "text/plain": [
       "<matplotlib.patches.FancyArrow at 0x7f8f3a39ed90>"
      ]
     },
     "execution_count": 229,
     "metadata": {},
     "output_type": "execute_result"
    },
    {
     "data": {
      "image/png": "[encoded data removed]",
      "text/plain": [
       "<Figure size 720x720 with 1 Axes>"
      ]
     },
     "metadata": {
      "needs_background": "light"
     },
     "output_type": "display_data"
    }
   ],
   "source": [
    "%matplotlib inline\n",
    "X = df[variaveis]\n",
    "\n",
    "fig = plt.figure(figsize=(10, 10))\n",
    "ax = fig.add_subplot(1,1,1)\n",
    "\n",
    "x_med = X.iloc[:,0].mean()\n",
    "y_med = X.iloc[:,1].mean()\n",
    "\n",
    "ax.scatter(x = X.iloc[:,0], y = X.iloc[:,1])\n",
    "\n",
    "ampli_x = X.iloc[:,0].max() - X.iloc[:,0].min()\n",
    "ampli_y = X.iloc[:,1].max() - X.iloc[:,1].min()\n",
    "\n",
    "xmin = X.iloc[:,0].min() - ampli_x*.1\n",
    "xmax = X.iloc[:,0].max() + ampli_x*.1\n",
    "ymin = X.iloc[:,1].min() - ampli_y*.1\n",
    "ymax = X.iloc[:,1].max() + ampli_y*.1\n",
    "\n",
    "# ax.axis('equal')\n",
    "ax.set_aspect('equal', 'box')\n",
    "ax.set(xlim=(xmin, xmax), ylim=(ymin, ymax));\n",
    "\n",
    "autovet=princomp.components_\n",
    "\n",
    "ax.arrow(x_med, y_med, autovet[0,0], autovet[1,0]\n",
    "         , head_width=0.25\n",
    "         , head_length=0.1\n",
    "         , fc='g', ec='g', \n",
    "         length_includes_head=True)\n",
    "ax.arrow(x_med, y_med, autovet[0,1], autovet[1,1]\n",
    "         , head_width=0.25\n",
    "         , head_length=0.1\n",
    "         , fc='g', ec='g', \n",
    "         length_includes_head=True)"
   ]
  },
  {
   "cell_type": "code",
   "execution_count": 230,
   "metadata": {
    "scrolled": false
   },
   "outputs": [
    {
     "data": {
      "application/javascript": [
       "/* Put everything inside the global mpl namespace */\n",
       "/* global mpl */\n",
       "window.mpl = {};\n",
       "\n",
       "mpl.get_websocket_type = function () {\n",
       "    if (typeof WebSocket !== 'undefined') {\n",
       "        return WebSocket;\n",
       "    } else if (typeof MozWebSocket !== 'undefined') {\n",
       "        return MozWebSocket;\n",
       "    } else {\n",
       "        alert(\n",
       "            'Your browser does not have WebSocket support. ' +\n",
       "                'Please try Chrome, Safari or Firefox ≥ 6. ' +\n",
       "                'Firefox 4 and 5 are also supported but you ' +\n",
       "                'have to enable WebSockets in about:config.'\n",
       "        );\n",
       "    }\n",
       "};\n",
       "\n",
       "mpl.figure = function (figure_id, websocket, ondownload, parent_element) {\n",
       "    this.id = figure_id;\n",
       "\n",
       "    this.ws = websocket;\n",
       "\n",
       "    this.supports_binary = this.ws.binaryType !== undefined;\n",
       "\n",
       "    if (!this.supports_binary) {\n",
       "        var warnings = document.getElementById('mpl-warnings');\n",
       "        if (warnings) {\n",
       "            warnings.style.display = 'block';\n",
       "            warnings.textContent =\n",
       "                'This browser does not support binary websocket messages. ' +\n",
       "                'Performance may be slow.';\n",
       "        }\n",
       "    }\n",
       "\n",
       "    this.imageObj = new Image();\n",
       "\n",
       "    this.context = undefined;\n",
       "    this.message = undefined;\n",
       "    this.canvas = undefined;\n",
       "    this.rubberband_canvas = undefined;\n",
       "    this.rubberband_context = undefined;\n",
       "    this.format_dropdown = undefined;\n",
       "\n",
       "    this.image_mode = 'full';\n",
       "\n",
       "    this.root = document.createElement('div');\n",
       "    this.root.setAttribute('style', 'display: inline-block');\n",
       "    this._root_extra_style(this.root);\n",
       "\n",
       "    parent_element.appendChild(this.root);\n",
       "\n",
       "    this._init_header(this);\n",
       "    this._init_canvas(this);\n",
       "    this._init_toolbar(this);\n",
       "\n",
       "    var fig = this;\n",
       "\n",
       "    this.waiting = false;\n",
       "\n",
       "    this.ws.onopen = function () {\n",
       "        fig.send_message('supports_binary', { value: fig.supports_binary });\n",
       "        fig.send_message('send_image_mode', {});\n",
       "        if (fig.ratio !== 1) {\n",
       "            fig.send_message('set_dpi_ratio', { dpi_ratio: fig.ratio });\n",
       "        }\n",
       "        fig.send_message('refresh', {});\n",
       "    };\n",
       "\n",
       "    this.imageObj.onload = function () {\n",
       "        if (fig.image_mode === 'full') {\n",
       "            // Full images could contain transparency (where diff images\n",
       "            // almost always do), so we need to clear the canvas so that\n",
       "            // there is no ghosting.\n",
       "            fig.context.clearRect(0, 0, fig.canvas.width, fig.canvas.height);\n",
       "        }\n",
       "        fig.context.drawImage(fig.imageObj, 0, 0);\n",
       "    };\n",
       "\n",
       "    this.imageObj.onunload = function () {\n",
       "        fig.ws.close();\n",
       "    };\n",
       "\n",
       "    this.ws.onmessage = this._make_on_message_function(this);\n",
       "\n",
       "    this.ondownload = ondownload;\n",
       "};\n",
       "\n",
       "mpl.figure.prototype._init_header = function () {\n",
       "    var titlebar = document.createElement('div');\n",
       "    titlebar.classList =\n",
       "        'ui-dialog-titlebar ui-widget-header ui-corner-all ui-helper-clearfix';\n",
       "    var titletext = document.createElement('div');\n",
       "    titletext.classList = 'ui-dialog-title';\n",
       "    titletext.setAttribute(\n",
       "        'style',\n",
       "        'width: 100%; text-align: center; padding: 3px;'\n",
       "    );\n",
       "    titlebar.appendChild(titletext);\n",
       "    this.root.appendChild(titlebar);\n",
       "    this.header = titletext;\n",
       "};\n",
       "\n",
       "mpl.figure.prototype._canvas_extra_style = function (_canvas_div) {};\n",
       "\n",
       "mpl.figure.prototype._root_extra_style = function (_canvas_div) {};\n",
       "\n",
       "mpl.figure.prototype._init_canvas = function () {\n",
       "    var fig = this;\n",
       "\n",
       "    var canvas_div = (this.canvas_div = document.createElement('div'));\n",
       "    canvas_div.setAttribute(\n",
       "        'style',\n",
       "        'border: 1px solid #ddd;' +\n",
       "            'box-sizing: content-box;' +\n",
       "            'clear: both;' +\n",
       "            'min-height: 1px;' +\n",
       "            'min-width: 1px;' +\n",
       "            'outline: 0;' +\n",
       "            'overflow: hidden;' +\n",
       "            'position: relative;' +\n",
       "            'resize: both;'\n",
       "    );\n",
       "\n",
       "    function on_keyboard_event_closure(name) {\n",
       "        return function (event) {\n",
       "            return fig.key_event(event, name);\n",
       "        };\n",
       "    }\n",
       "\n",
       "    canvas_div.addEventListener(\n",
       "        'keydown',\n",
       "        on_keyboard_event_closure('key_press')\n",
       "    );\n",
       "    canvas_div.addEventListener(\n",
       "        'keyup',\n",
       "        on_keyboard_event_closure('key_release')\n",
       "    );\n",
       "\n",
       "    this._canvas_extra_style(canvas_div);\n",
       "    this.root.appendChild(canvas_div);\n",
       "\n",
       "    var canvas = (this.canvas = document.createElement('canvas'));\n",
       "    canvas.classList.add('mpl-canvas');\n",
       "    canvas.setAttribute('style', 'box-sizing: content-box;');\n",
       "\n",
       "    this.context = canvas.getContext('2d');\n",
       "\n",
       "    var backingStore =\n",
       "        this.context.backingStorePixelRatio ||\n",
       "        this.context.webkitBackingStorePixelRatio ||\n",
       "        this.context.mozBackingStorePixelRatio ||\n",
       "        this.context.msBackingStorePixelRatio ||\n",
       "        this.context.oBackingStorePixelRatio ||\n",
       "        this.context.backingStorePixelRatio ||\n",
       "        1;\n",
       "\n",
       "    this.ratio = (window.devicePixelRatio || 1) / backingStore;\n",
       "    if (this.ratio !== 1) {\n",
       "        fig.send_message('set_dpi_ratio', { dpi_ratio: this.ratio });\n",
       "    }\n",
       "\n",
       "    var rubberband_canvas = (this.rubberband_canvas = document.createElement(\n",
       "        'canvas'\n",
       "    ));\n",
       "    rubberband_canvas.setAttribute(\n",
       "        'style',\n",
       "        'box-sizing: content-box; position: absolute; left: 0; top: 0; z-index: 1;'\n",
       "    );\n",
       "\n",
       "    var resizeObserver = new ResizeObserver(function (entries) {\n",
       "        var nentries = entries.length;\n",
       "        for (var i = 0; i < nentries; i++) {\n",
       "            var entry = entries[i];\n",
       "            var width, height;\n",
       "            if (entry.contentBoxSize) {\n",
       "                if (entry.contentBoxSize instanceof Array) {\n",
       "                    // Chrome 84 implements new version of spec.\n",
       "                    width = entry.contentBoxSize[0].inlineSize;\n",
       "                    height = entry.contentBoxSize[0].blockSize;\n",
       "                } else {\n",
       "                    // Firefox implements old version of spec.\n",
       "                    width = entry.contentBoxSize.inlineSize;\n",
       "                    height = entry.contentBoxSize.blockSize;\n",
       "                }\n",
       "            } else {\n",
       "                // Chrome <84 implements even older version of spec.\n",
       "                width = entry.contentRect.width;\n",
       "                height = entry.contentRect.height;\n",
       "            }\n",
       "\n",
       "            // Keep the size of the canvas and rubber band canvas in sync with\n",
       "            // the canvas container.\n",
       "            if (entry.devicePixelContentBoxSize) {\n",
       "                // Chrome 84 implements new version of spec.\n",
       "                canvas.setAttribute(\n",
       "                    'width',\n",
       "                    entry.devicePixelContentBoxSize[0].inlineSize\n",
       "                );\n",
       "                canvas.setAttribute(\n",
       "                    'height',\n",
       "                    entry.devicePixelContentBoxSize[0].blockSize\n",
       "                );\n",
       "            } else {\n",
       "                canvas.setAttribute('width', width * fig.ratio);\n",
       "                canvas.setAttribute('height', height * fig.ratio);\n",
       "            }\n",
       "            canvas.setAttribute(\n",
       "                'style',\n",
       "                'width: ' + width + 'px; height: ' + height + 'px;'\n",
       "            );\n",
       "\n",
       "            rubberband_canvas.setAttribute('width', width);\n",
       "            rubberband_canvas.setAttribute('height', height);\n",
       "\n",
       "            // And update the size in Python. We ignore the initial 0/0 size\n",
       "            // that occurs as the element is placed into the DOM, which should\n",
       "            // otherwise not happen due to the minimum size styling.\n",
       "            if (width != 0 && height != 0) {\n",
       "                fig.request_resize(width, height);\n",
       "            }\n",
       "        }\n",
       "    });\n",
       "    resizeObserver.observe(canvas_div);\n",
       "\n",
       "    function on_mouse_event_closure(name) {\n",
       "        return function (event) {\n",
       "            return fig.mouse_event(event, name);\n",
       "        };\n",
       "    }\n",
       "\n",
       "    rubberband_canvas.addEventListener(\n",
       "        'mousedown',\n",
       "        on_mouse_event_closure('button_press')\n",
       "    );\n",
       "    rubberband_canvas.addEventListener(\n",
       "        'mouseup',\n",
       "        on_mouse_event_closure('button_release')\n",
       "    );\n",
       "    // Throttle sequential mouse events to 1 every 20ms.\n",
       "    rubberband_canvas.addEventListener(\n",
       "        'mousemove',\n",
       "        on_mouse_event_closure('motion_notify')\n",
       "    );\n",
       "\n",
       "    rubberband_canvas.addEventListener(\n",
       "        'mouseenter',\n",
       "        on_mouse_event_closure('figure_enter')\n",
       "    );\n",
       "    rubberband_canvas.addEventListener(\n",
       "        'mouseleave',\n",
       "        on_mouse_event_closure('figure_leave')\n",
       "    );\n",
       "\n",
       "    canvas_div.addEventListener('wheel', function (event) {\n",
       "        if (event.deltaY < 0) {\n",
       "            event.step = 1;\n",
       "        } else {\n",
       "            event.step = -1;\n",
       "        }\n",
       "        on_mouse_event_closure('scroll')(event);\n",
       "    });\n",
       "\n",
       "    canvas_div.appendChild(canvas);\n",
       "    canvas_div.appendChild(rubberband_canvas);\n",
       "\n",
       "    this.rubberband_context = rubberband_canvas.getContext('2d');\n",
       "    this.rubberband_context.strokeStyle = '#000000';\n",
       "\n",
       "    this._resize_canvas = function (width, height, forward) {\n",
       "        if (forward) {\n",
       "            canvas_div.style.width = width + 'px';\n",
       "            canvas_div.style.height = height + 'px';\n",
       "        }\n",
       "    };\n",
       "\n",
       "    // Disable right mouse context menu.\n",
       "    this.rubberband_canvas.addEventListener('contextmenu', function (_e) {\n",
       "        event.preventDefault();\n",
       "        return false;\n",
       "    });\n",
       "\n",
       "    function set_focus() {\n",
       "        canvas.focus();\n",
       "        canvas_div.focus();\n",
       "    }\n",
       "\n",
       "    window.setTimeout(set_focus, 100);\n",
       "};\n",
       "\n",
       "mpl.figure.prototype._init_toolbar = function () {\n",
       "    var fig = this;\n",
       "\n",
       "    var toolbar = document.createElement('div');\n",
       "    toolbar.classList = 'mpl-toolbar';\n",
       "    this.root.appendChild(toolbar);\n",
       "\n",
       "    function on_click_closure(name) {\n",
       "        return function (_event) {\n",
       "            return fig.toolbar_button_onclick(name);\n",
       "        };\n",
       "    }\n",
       "\n",
       "    function on_mouseover_closure(tooltip) {\n",
       "        return function (event) {\n",
       "            if (!event.currentTarget.disabled) {\n",
       "                return fig.toolbar_button_onmouseover(tooltip);\n",
       "            }\n",
       "        };\n",
       "    }\n",
       "\n",
       "    fig.buttons = {};\n",
       "    var buttonGroup = document.createElement('div');\n",
       "    buttonGroup.classList = 'mpl-button-group';\n",
       "    for (var toolbar_ind in mpl.toolbar_items) {\n",
       "        var name = mpl.toolbar_items[toolbar_ind][0];\n",
       "        var tooltip = mpl.toolbar_items[toolbar_ind][1];\n",
       "        var image = mpl.toolbar_items[toolbar_ind][2];\n",
       "        var method_name = mpl.toolbar_items[toolbar_ind][3];\n",
       "\n",
       "        if (!name) {\n",
       "            /* Instead of a spacer, we start a new button group. */\n",
       "            if (buttonGroup.hasChildNodes()) {\n",
       "                toolbar.appendChild(buttonGroup);\n",
       "            }\n",
       "            buttonGroup = document.createElement('div');\n",
       "            buttonGroup.classList = 'mpl-button-group';\n",
       "            continue;\n",
       "        }\n",
       "\n",
       "        var button = (fig.buttons[name] = document.createElement('button'));\n",
       "        button.classList = 'mpl-widget';\n",
       "        button.setAttribute('role', 'button');\n",
       "        button.setAttribute('aria-disabled', 'false');\n",
       "        button.addEventListener('click', on_click_closure(method_name));\n",
       "        button.addEventListener('mouseover', on_mouseover_closure(tooltip));\n",
       "\n",
       "        var icon_img = document.createElement('img');\n",
       "        icon_img.src = '_images/' + image + '.png';\n",
       "        icon_img.srcset = '_images/' + image + '_large.png 2x';\n",
       "        icon_img.alt = tooltip;\n",
       "        button.appendChild(icon_img);\n",
       "\n",
       "        buttonGroup.appendChild(button);\n",
       "    }\n",
       "\n",
       "    if (buttonGroup.hasChildNodes()) {\n",
       "        toolbar.appendChild(buttonGroup);\n",
       "    }\n",
       "\n",
       "    var fmt_picker = document.createElement('select');\n",
       "    fmt_picker.classList = 'mpl-widget';\n",
       "    toolbar.appendChild(fmt_picker);\n",
       "    this.format_dropdown = fmt_picker;\n",
       "\n",
       "    for (var ind in mpl.extensions) {\n",
       "        var fmt = mpl.extensions[ind];\n",
       "        var option = document.createElement('option');\n",
       "        option.selected = fmt === mpl.default_extension;\n",
       "        option.innerHTML = fmt;\n",
       "        fmt_picker.appendChild(option);\n",
       "    }\n",
       "\n",
       "    var status_bar = document.createElement('span');\n",
       "    status_bar.classList = 'mpl-message';\n",
       "    toolbar.appendChild(status_bar);\n",
       "    this.message = status_bar;\n",
       "};\n",
       "\n",
       "mpl.figure.prototype.request_resize = function (x_pixels, y_pixels) {\n",
       "    // Request matplotlib to resize the figure. Matplotlib will then trigger a resize in the client,\n",
       "    // which will in turn request a refresh of the image.\n",
       "    this.send_message('resize', { width: x_pixels, height: y_pixels });\n",
       "};\n",
       "\n",
       "mpl.figure.prototype.send_message = function (type, properties) {\n",
       "    properties['type'] = type;\n",
       "    properties['figure_id'] = this.id;\n",
       "    this.ws.send(JSON.stringify(properties));\n",
       "};\n",
       "\n",
       "mpl.figure.prototype.send_draw_message = function () {\n",
       "    if (!this.waiting) {\n",
       "        this.waiting = true;\n",
       "        this.ws.send(JSON.stringify({ type: 'draw', figure_id: this.id }));\n",
       "    }\n",
       "};\n",
       "\n",
       "mpl.figure.prototype.handle_save = function (fig, _msg) {\n",
       "    var format_dropdown = fig.format_dropdown;\n",
       "    var format = format_dropdown.options[format_dropdown.selectedIndex].value;\n",
       "    fig.ondownload(fig, format);\n",
       "};\n",
       "\n",
       "mpl.figure.prototype.handle_resize = function (fig, msg) {\n",
       "    var size = msg['size'];\n",
       "    if (size[0] !== fig.canvas.width || size[1] !== fig.canvas.height) {\n",
       "        fig._resize_canvas(size[0], size[1], msg['forward']);\n",
       "        fig.send_message('refresh', {});\n",
       "    }\n",
       "};\n",
       "\n",
       "mpl.figure.prototype.handle_rubberband = function (fig, msg) {\n",
       "    var x0 = msg['x0'] / fig.ratio;\n",
       "    var y0 = (fig.canvas.height - msg['y0']) / fig.ratio;\n",
       "    var x1 = msg['x1'] / fig.ratio;\n",
       "    var y1 = (fig.canvas.height - msg['y1']) / fig.ratio;\n",
       "    x0 = Math.floor(x0) + 0.5;\n",
       "    y0 = Math.floor(y0) + 0.5;\n",
       "    x1 = Math.floor(x1) + 0.5;\n",
       "    y1 = Math.floor(y1) + 0.5;\n",
       "    var min_x = Math.min(x0, x1);\n",
       "    var min_y = Math.min(y0, y1);\n",
       "    var width = Math.abs(x1 - x0);\n",
       "    var height = Math.abs(y1 - y0);\n",
       "\n",
       "    fig.rubberband_context.clearRect(\n",
       "        0,\n",
       "        0,\n",
       "        fig.canvas.width / fig.ratio,\n",
       "        fig.canvas.height / fig.ratio\n",
       "    );\n",
       "\n",
       "    fig.rubberband_context.strokeRect(min_x, min_y, width, height);\n",
       "};\n",
       "\n",
       "mpl.figure.prototype.handle_figure_label = function (fig, msg) {\n",
       "    // Updates the figure title.\n",
       "    fig.header.textContent = msg['label'];\n",
       "};\n",
       "\n",
       "mpl.figure.prototype.handle_cursor = function (fig, msg) {\n",
       "    var cursor = msg['cursor'];\n",
       "    switch (cursor) {\n",
       "        case 0:\n",
       "            cursor = 'pointer';\n",
       "            break;\n",
       "        case 1:\n",
       "            cursor = 'default';\n",
       "            break;\n",
       "        case 2:\n",
       "            cursor = 'crosshair';\n",
       "            break;\n",
       "        case 3:\n",
       "            cursor = 'move';\n",
       "            break;\n",
       "    }\n",
       "    fig.rubberband_canvas.style.cursor = cursor;\n",
       "};\n",
       "\n",
       "mpl.figure.prototype.handle_message = function (fig, msg) {\n",
       "    fig.message.textContent = msg['message'];\n",
       "};\n",
       "\n",
       "mpl.figure.prototype.handle_draw = function (fig, _msg) {\n",
       "    // Request the server to send over a new figure.\n",
       "    fig.send_draw_message();\n",
       "};\n",
       "\n",
       "mpl.figure.prototype.handle_image_mode = function (fig, msg) {\n",
       "    fig.image_mode = msg['mode'];\n",
       "};\n",
       "\n",
       "mpl.figure.prototype.handle_history_buttons = function (fig, msg) {\n",
       "    for (var key in msg) {\n",
       "        if (!(key in fig.buttons)) {\n",
       "            continue;\n",
       "        }\n",
       "        fig.buttons[key].disabled = !msg[key];\n",
       "        fig.buttons[key].setAttribute('aria-disabled', !msg[key]);\n",
       "    }\n",
       "};\n",
       "\n",
       "mpl.figure.prototype.handle_navigate_mode = function (fig, msg) {\n",
       "    if (msg['mode'] === 'PAN') {\n",
       "        fig.buttons['Pan'].classList.add('active');\n",
       "        fig.buttons['Zoom'].classList.remove('active');\n",
       "    } else if (msg['mode'] === 'ZOOM') {\n",
       "        fig.buttons['Pan'].classList.remove('active');\n",
       "        fig.buttons['Zoom'].classList.add('active');\n",
       "    } else {\n",
       "        fig.buttons['Pan'].classList.remove('active');\n",
       "        fig.buttons['Zoom'].classList.remove('active');\n",
       "    }\n",
       "};\n",
       "\n",
       "mpl.figure.prototype.updated_canvas_event = function () {\n",
       "    // Called whenever the canvas gets updated.\n",
       "    this.send_message('ack', {});\n",
       "};\n",
       "\n",
       "// A function to construct a web socket function for onmessage handling.\n",
       "// Called in the figure constructor.\n",
       "mpl.figure.prototype._make_on_message_function = function (fig) {\n",
       "    return function socket_on_message(evt) {\n",
       "        if (evt.data instanceof Blob) {\n",
       "            /* FIXME: We get \"Resource interpreted as Image but\n",
       "             * transferred with MIME type text/plain:\" errors on\n",
       "             * Chrome.  But how to set the MIME type?  It doesn't seem\n",
       "             * to be part of the websocket stream */\n",
       "            evt.data.type = 'image/png';\n",
       "\n",
       "            /* Free the memory for the previous frames */\n",
       "            if (fig.imageObj.src) {\n",
       "                (window.URL || window.webkitURL).revokeObjectURL(\n",
       "                    fig.imageObj.src\n",
       "                );\n",
       "            }\n",
       "\n",
       "            fig.imageObj.src = (window.URL || window.webkitURL).createObjectURL(\n",
       "                evt.data\n",
       "            );\n",
       "            fig.updated_canvas_event();\n",
       "            fig.waiting = false;\n",
       "            return;\n",
       "        } else if (\n",
       "            typeof evt.data === 'string' &&\n",
       "            evt.data.slice(0, 21) === 'data:image/png;base64'\n",
       "        ) {\n",
       "            fig.imageObj.src = evt.data;\n",
       "            fig.updated_canvas_event();\n",
       "            fig.waiting = false;\n",
       "            return;\n",
       "        }\n",
       "\n",
       "        var msg = JSON.parse(evt.data);\n",
       "        var msg_type = msg['type'];\n",
       "\n",
       "        // Call the  \"handle_{type}\" callback, which takes\n",
       "        // the figure and JSON message as its only arguments.\n",
       "        try {\n",
       "            var callback = fig['handle_' + msg_type];\n",
       "        } catch (e) {\n",
       "            console.log(\n",
       "                \"No handler for the '\" + msg_type + \"' message type: \",\n",
       "                msg\n",
       "            );\n",
       "            return;\n",
       "        }\n",
       "\n",
       "        if (callback) {\n",
       "            try {\n",
       "                // console.log(\"Handling '\" + msg_type + \"' message: \", msg);\n",
       "                callback(fig, msg);\n",
       "            } catch (e) {\n",
       "                console.log(\n",
       "                    \"Exception inside the 'handler_\" + msg_type + \"' callback:\",\n",
       "                    e,\n",
       "                    e.stack,\n",
       "                    msg\n",
       "                );\n",
       "            }\n",
       "        }\n",
       "    };\n",
       "};\n",
       "\n",
       "// from http://stackoverflow.com/questions/1114465/getting-mouse-location-in-canvas\n",
       "mpl.findpos = function (e) {\n",
       "    //this section is from http://www.quirksmode.org/js/events_properties.html\n",
       "    var targ;\n",
       "    if (!e) {\n",
       "        e = window.event;\n",
       "    }\n",
       "    if (e.target) {\n",
       "        targ = e.target;\n",
       "    } else if (e.srcElement) {\n",
       "        targ = e.srcElement;\n",
       "    }\n",
       "    if (targ.nodeType === 3) {\n",
       "        // defeat Safari bug\n",
       "        targ = targ.parentNode;\n",
       "    }\n",
       "\n",
       "    // pageX,Y are the mouse positions relative to the document\n",
       "    var boundingRect = targ.getBoundingClientRect();\n",
       "    var x = e.pageX - (boundingRect.left + document.body.scrollLeft);\n",
       "    var y = e.pageY - (boundingRect.top + document.body.scrollTop);\n",
       "\n",
       "    return { x: x, y: y };\n",
       "};\n",
       "\n",
       "/*\n",
       " * return a copy of an object with only non-object keys\n",
       " * we need this to avoid circular references\n",
       " * http://stackoverflow.com/a/24161582/3208463\n",
       " */\n",
       "function simpleKeys(original) {\n",
       "    return Object.keys(original).reduce(function (obj, key) {\n",
       "        if (typeof original[key] !== 'object') {\n",
       "            obj[key] = original[key];\n",
       "        }\n",
       "        return obj;\n",
       "    }, {});\n",
       "}\n",
       "\n",
       "mpl.figure.prototype.mouse_event = function (event, name) {\n",
       "    var canvas_pos = mpl.findpos(event);\n",
       "\n",
       "    if (name === 'button_press') {\n",
       "        this.canvas.focus();\n",
       "        this.canvas_div.focus();\n",
       "    }\n",
       "\n",
       "    var x = canvas_pos.x * this.ratio;\n",
       "    var y = canvas_pos.y * this.ratio;\n",
       "\n",
       "    this.send_message(name, {\n",
       "        x: x,\n",
       "        y: y,\n",
       "        button: event.button,\n",
       "        step: event.step,\n",
       "        guiEvent: simpleKeys(event),\n",
       "    });\n",
       "\n",
       "    /* This prevents the web browser from automatically changing to\n",
       "     * the text insertion cursor when the button is pressed.  We want\n",
       "     * to control all of the cursor setting manually through the\n",
       "     * 'cursor' event from matplotlib */\n",
       "    event.preventDefault();\n",
       "    return false;\n",
       "};\n",
       "\n",
       "mpl.figure.prototype._key_event_extra = function (_event, _name) {\n",
       "    // Handle any extra behaviour associated with a key event\n",
       "};\n",
       "\n",
       "mpl.figure.prototype.key_event = function (event, name) {\n",
       "    // Prevent repeat events\n",
       "    if (name === 'key_press') {\n",
       "        if (event.which === this._key) {\n",
       "            return;\n",
       "        } else {\n",
       "            this._key = event.which;\n",
       "        }\n",
       "    }\n",
       "    if (name === 'key_release') {\n",
       "        this._key = null;\n",
       "    }\n",
       "\n",
       "    var value = '';\n",
       "    if (event.ctrlKey && event.which !== 17) {\n",
       "        value += 'ctrl+';\n",
       "    }\n",
       "    if (event.altKey && event.which !== 18) {\n",
       "        value += 'alt+';\n",
       "    }\n",
       "    if (event.shiftKey && event.which !== 16) {\n",
       "        value += 'shift+';\n",
       "    }\n",
       "\n",
       "    value += 'k';\n",
       "    value += event.which.toString();\n",
       "\n",
       "    this._key_event_extra(event, name);\n",
       "\n",
       "    this.send_message(name, { key: value, guiEvent: simpleKeys(event) });\n",
       "    return false;\n",
       "};\n",
       "\n",
       "mpl.figure.prototype.toolbar_button_onclick = function (name) {\n",
       "    if (name === 'download') {\n",
       "        this.handle_save(this, null);\n",
       "    } else {\n",
       "        this.send_message('toolbar_button', { name: name });\n",
       "    }\n",
       "};\n",
       "\n",
       "mpl.figure.prototype.toolbar_button_onmouseover = function (tooltip) {\n",
       "    this.message.textContent = tooltip;\n",
       "};\n",
       "mpl.toolbar_items = [[\"Home\", \"Reset original view\", \"fa fa-home icon-home\", \"home\"], [\"Back\", \"Back to previous view\", \"fa fa-arrow-left icon-arrow-left\", \"back\"], [\"Forward\", \"Forward to next view\", \"fa fa-arrow-right icon-arrow-right\", \"forward\"], [\"\", \"\", \"\", \"\"], [\"Pan\", \"Left button pans, Right button zooms\\nx/y fixes axis, CTRL fixes aspect\", \"fa fa-arrows icon-move\", \"pan\"], [\"Zoom\", \"Zoom to rectangle\\nx/y fixes axis, CTRL fixes aspect\", \"fa fa-square-o icon-check-empty\", \"zoom\"], [\"\", \"\", \"\", \"\"], [\"Download\", \"Download plot\", \"fa fa-floppy-o icon-save\", \"download\"]];\n",
       "\n",
       "mpl.extensions = [\"eps\", \"jpeg\", \"pdf\", \"png\", \"ps\", \"raw\", \"svg\", \"tif\"];\n",
       "\n",
       "mpl.default_extension = \"png\";/* global mpl */\n",
       "\n",
       "var comm_websocket_adapter = function (comm) {\n",
       "    // Create a \"websocket\"-like object which calls the given IPython comm\n",
       "    // object with the appropriate methods. Currently this is a non binary\n",
       "    // socket, so there is still some room for performance tuning.\n",
       "    var ws = {};\n",
       "\n",
       "    ws.close = function () {\n",
       "        comm.close();\n",
       "    };\n",
       "    ws.send = function (m) {\n",
       "        //console.log('sending', m);\n",
       "        comm.send(m);\n",
       "    };\n",
       "    // Register the callback with on_msg.\n",
       "    comm.on_msg(function (msg) {\n",
       "        //console.log('receiving', msg['content']['data'], msg);\n",
       "        // Pass the mpl event to the overridden (by mpl) onmessage function.\n",
       "        ws.onmessage(msg['content']['data']);\n",
       "    });\n",
       "    return ws;\n",
       "};\n",
       "\n",
       "mpl.mpl_figure_comm = function (comm, msg) {\n",
       "    // This is the function which gets called when the mpl process\n",
       "    // starts-up an IPython Comm through the \"matplotlib\" channel.\n",
       "\n",
       "    var id = msg.content.data.id;\n",
       "    // Get hold of the div created by the display call when the Comm\n",
       "    // socket was opened in Python.\n",
       "    var element = document.getElementById(id);\n",
       "    var ws_proxy = comm_websocket_adapter(comm);\n",
       "\n",
       "    function ondownload(figure, _format) {\n",
       "        window.open(figure.canvas.toDataURL());\n",
       "    }\n",
       "\n",
       "    var fig = new mpl.figure(id, ws_proxy, ondownload, element);\n",
       "\n",
       "    // Call onopen now - mpl needs it, as it is assuming we've passed it a real\n",
       "    // web socket which is closed, not our websocket->open comm proxy.\n",
       "    ws_proxy.onopen();\n",
       "\n",
       "    fig.parent_element = element;\n",
       "    fig.cell_info = mpl.find_output_cell(\"<div id='\" + id + \"'></div>\");\n",
       "    if (!fig.cell_info) {\n",
       "        console.error('Failed to find cell for figure', id, fig);\n",
       "        return;\n",
       "    }\n",
       "    fig.cell_info[0].output_area.element.one(\n",
       "        'cleared',\n",
       "        { fig: fig },\n",
       "        fig._remove_fig_handler\n",
       "    );\n",
       "};\n",
       "\n",
       "mpl.figure.prototype.handle_close = function (fig, msg) {\n",
       "    var width = fig.canvas.width / fig.ratio;\n",
       "    fig.cell_info[0].output_area.element.off(\n",
       "        'cleared',\n",
       "        fig._remove_fig_handler\n",
       "    );\n",
       "\n",
       "    // Update the output cell to use the data from the current canvas.\n",
       "    fig.push_to_output();\n",
       "    var dataURL = fig.canvas.toDataURL();\n",
       "    // Re-enable the keyboard manager in IPython - without this line, in FF,\n",
       "    // the notebook keyboard shortcuts fail.\n",
       "    IPython.keyboard_manager.enable();\n",
       "    fig.parent_element.innerHTML =\n",
       "        '<img src=\"' + dataURL + '\" width=\"' + width + '\">';\n",
       "    fig.close_ws(fig, msg);\n",
       "};\n",
       "\n",
       "mpl.figure.prototype.close_ws = function (fig, msg) {\n",
       "    fig.send_message('closing', msg);\n",
       "    // fig.ws.close()\n",
       "};\n",
       "\n",
       "mpl.figure.prototype.push_to_output = function (_remove_interactive) {\n",
       "    // Turn the data on the canvas into data in the output cell.\n",
       "    var width = this.canvas.width / this.ratio;\n",
       "    var dataURL = this.canvas.toDataURL();\n",
       "    this.cell_info[1]['text/html'] =\n",
       "        '<img src=\"' + dataURL + '\" width=\"' + width + '\">';\n",
       "};\n",
       "\n",
       "mpl.figure.prototype.updated_canvas_event = function () {\n",
       "    // Tell IPython that the notebook contents must change.\n",
       "    IPython.notebook.set_dirty(true);\n",
       "    this.send_message('ack', {});\n",
       "    var fig = this;\n",
       "    // Wait a second, then push the new image to the DOM so\n",
       "    // that it is saved nicely (might be nice to debounce this).\n",
       "    setTimeout(function () {\n",
       "        fig.push_to_output();\n",
       "    }, 1000);\n",
       "};\n",
       "\n",
       "mpl.figure.prototype._init_toolbar = function () {\n",
       "    var fig = this;\n",
       "\n",
       "    var toolbar = document.createElement('div');\n",
       "    toolbar.classList = 'btn-toolbar';\n",
       "    this.root.appendChild(toolbar);\n",
       "\n",
       "    function on_click_closure(name) {\n",
       "        return function (_event) {\n",
       "            return fig.toolbar_button_onclick(name);\n",
       "        };\n",
       "    }\n",
       "\n",
       "    function on_mouseover_closure(tooltip) {\n",
       "        return function (event) {\n",
       "            if (!event.currentTarget.disabled) {\n",
       "                return fig.toolbar_button_onmouseover(tooltip);\n",
       "            }\n",
       "        };\n",
       "    }\n",
       "\n",
       "    fig.buttons = {};\n",
       "    var buttonGroup = document.createElement('div');\n",
       "    buttonGroup.classList = 'btn-group';\n",
       "    var button;\n",
       "    for (var toolbar_ind in mpl.toolbar_items) {\n",
       "        var name = mpl.toolbar_items[toolbar_ind][0];\n",
       "        var tooltip = mpl.toolbar_items[toolbar_ind][1];\n",
       "        var image = mpl.toolbar_items[toolbar_ind][2];\n",
       "        var method_name = mpl.toolbar_items[toolbar_ind][3];\n",
       "\n",
       "        if (!name) {\n",
       "            /* Instead of a spacer, we start a new button group. */\n",
       "            if (buttonGroup.hasChildNodes()) {\n",
       "                toolbar.appendChild(buttonGroup);\n",
       "            }\n",
       "            buttonGroup = document.createElement('div');\n",
       "            buttonGroup.classList = 'btn-group';\n",
       "            continue;\n",
       "        }\n",
       "\n",
       "        button = fig.buttons[name] = document.createElement('button');\n",
       "        button.classList = 'btn btn-default';\n",
       "        button.href = '#';\n",
       "        button.title = name;\n",
       "        button.innerHTML = '<i class=\"fa ' + image + ' fa-lg\"></i>';\n",
       "        button.addEventListener('click', on_click_closure(method_name));\n",
       "        button.addEventListener('mouseover', on_mouseover_closure(tooltip));\n",
       "        buttonGroup.appendChild(button);\n",
       "    }\n",
       "\n",
       "    if (buttonGroup.hasChildNodes()) {\n",
       "        toolbar.appendChild(buttonGroup);\n",
       "    }\n",
       "\n",
       "    // Add the status bar.\n",
       "    var status_bar = document.createElement('span');\n",
       "    status_bar.classList = 'mpl-message pull-right';\n",
       "    toolbar.appendChild(status_bar);\n",
       "    this.message = status_bar;\n",
       "\n",
       "    // Add the close button to the window.\n",
       "    var buttongrp = document.createElement('div');\n",
       "    buttongrp.classList = 'btn-group inline pull-right';\n",
       "    button = document.createElement('button');\n",
       "    button.classList = 'btn btn-mini btn-primary';\n",
       "    button.href = '#';\n",
       "    button.title = 'Stop Interaction';\n",
       "    button.innerHTML = '<i class=\"fa fa-power-off icon-remove icon-large\"></i>';\n",
       "    button.addEventListener('click', function (_evt) {\n",
       "        fig.handle_close(fig, {});\n",
       "    });\n",
       "    button.addEventListener(\n",
       "        'mouseover',\n",
       "        on_mouseover_closure('Stop Interaction')\n",
       "    );\n",
       "    buttongrp.appendChild(button);\n",
       "    var titlebar = this.root.querySelector('.ui-dialog-titlebar');\n",
       "    titlebar.insertBefore(buttongrp, titlebar.firstChild);\n",
       "};\n",
       "\n",
       "mpl.figure.prototype._remove_fig_handler = function (event) {\n",
       "    var fig = event.data.fig;\n",
       "    fig.close_ws(fig, {});\n",
       "};\n",
       "\n",
       "mpl.figure.prototype._root_extra_style = function (el) {\n",
       "    el.style.boxSizing = 'content-box'; // override notebook setting of border-box.\n",
       "};\n",
       "\n",
       "mpl.figure.prototype._canvas_extra_style = function (el) {\n",
       "    // this is important to make the div 'focusable\n",
       "    el.setAttribute('tabindex', 0);\n",
       "    // reach out to IPython and tell the keyboard manager to turn it's self\n",
       "    // off when our div gets focus\n",
       "\n",
       "    // location in version 3\n",
       "    if (IPython.notebook.keyboard_manager) {\n",
       "        IPython.notebook.keyboard_manager.register_events(el);\n",
       "    } else {\n",
       "        // location in version 2\n",
       "        IPython.keyboard_manager.register_events(el);\n",
       "    }\n",
       "};\n",
       "\n",
       "mpl.figure.prototype._key_event_extra = function (event, _name) {\n",
       "    var manager = IPython.notebook.keyboard_manager;\n",
       "    if (!manager) {\n",
       "        manager = IPython.keyboard_manager;\n",
       "    }\n",
       "\n",
       "    // Check for shift+enter\n",
       "    if (event.shiftKey && event.which === 13) {\n",
       "        this.canvas_div.blur();\n",
       "        // select the cell after this one\n",
       "        var index = IPython.notebook.find_cell_index(this.cell_info[0]);\n",
       "        IPython.notebook.select(index + 1);\n",
       "    }\n",
       "};\n",
       "\n",
       "mpl.figure.prototype.handle_save = function (fig, _msg) {\n",
       "    fig.ondownload(fig, null);\n",
       "};\n",
       "\n",
       "mpl.find_output_cell = function (html_output) {\n",
       "    // Return the cell and output element which can be found *uniquely* in the notebook.\n",
       "    // Note - this is a bit hacky, but it is done because the \"notebook_saving.Notebook\"\n",
       "    // IPython event is triggered only after the cells have been serialised, which for\n",
       "    // our purposes (turning an active figure into a static one), is too late.\n",
       "    var cells = IPython.notebook.get_cells();\n",
       "    var ncells = cells.length;\n",
       "    for (var i = 0; i < ncells; i++) {\n",
       "        var cell = cells[i];\n",
       "        if (cell.cell_type === 'code') {\n",
       "            for (var j = 0; j < cell.output_area.outputs.length; j++) {\n",
       "                var data = cell.output_area.outputs[j];\n",
       "                if (data.data) {\n",
       "                    // IPython >= 3 moved mimebundle to data attribute of output\n",
       "                    data = data.data;\n",
       "                }\n",
       "                if (data['text/html'] === html_output) {\n",
       "                    return [cell, data, j];\n",
       "                }\n",
       "            }\n",
       "        }\n",
       "    }\n",
       "};\n",
       "\n",
       "// Register the function which deals with the matplotlib target/channel.\n",
       "// The kernel may be null if the page has been refreshed.\n",
       "if (IPython.notebook.kernel !== null) {\n",
       "    IPython.notebook.kernel.comm_manager.register_target(\n",
       "        'matplotlib',\n",
       "        mpl.mpl_figure_comm\n",
       "    );\n",
       "}\n"
      ],
      "text/plain": [
       "<IPython.core.display.Javascript object>"
      ]
     },
     "metadata": {},
     "output_type": "display_data"
    },
    {
     "data": {
      "text/html": [
       "<img src=\"data:image/png;base64,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\" width=\"576\">"
      ],
      "text/plain": [
       "<IPython.core.display.HTML object>"
      ]
     },
     "metadata": {},
     "output_type": "display_data"
    }
   ],
   "source": [
    "%matplotlib notebook\n",
    "\n",
    "fig = plt.figure(figsize=(8, 8))\n",
    "ax = fig.add_subplot(projection='3d')\n",
    "\n",
    "variaveis = ['mat_p1', 'mat_p2', 'mat_p3']\n",
    "\n",
    "pca = PCA()\n",
    "princomp = pca.fit_transform(df[variaveis])\n",
    "autovet=pca.components_\n",
    "autoval = pca.explained_variance_\n",
    "\n",
    "ax.scatter( df[variaveis[0]], df[variaveis[1]], df[variaveis[2]] )\n",
    "\n",
    "for i, v in enumerate(autovet):\n",
    "    ax.plot([df[variaveis[0]].mean(), df[variaveis[0]].mean()+v[0]*autoval[i]**.5], \n",
    "            [df[variaveis[1]].mean(), df[variaveis[1]].mean()+v[1]*autoval[i]**.5], \n",
    "            [df[variaveis[2]].mean(), df[variaveis[2]].mean()+v[2]*autoval[i]**.5], \n",
    "            color='red', \n",
    "            alpha=0.8, \n",
    "            lw=3)\n"
   ]
  },
  {
   "cell_type": "code",
   "execution_count": 231,
   "metadata": {
    "scrolled": false
   },
   "outputs": [
    {
     "data": {
      "image/png": "[encoded data removed]",
      "text/plain": [
       "<Figure size 1080x1080 with 2 Axes>"
      ]
     },
     "metadata": {
      "needs_background": "light"
     },
     "output_type": "display_data"
    }
   ],
   "source": [
    "%matplotlib inline\n",
    "fig, ax = plt.subplots(figsize=(15, 15))\n",
    "\n",
    "# calcula a matriz de correlação\n",
    "corr = df.corr()\n",
    "\n",
    "# Generate a mask for the upper triangle\n",
    "mask = np.zeros_like(corr, dtype=np.bool)\n",
    "mask[np.triu_indices_from(mask)] = True\n",
    "\n",
    "\n",
    "# Draw the heatmap with the mask and correct aspect ratio\n",
    "vmax = np.abs(corr.values[~mask]).max()\n",
    "sns.heatmap(corr, mask=mask, cmap=plt.cm.PuOr, vmin=-vmax, vmax=vmax,\n",
    "            square=True, linecolor=\"lightgray\", linewidths=1, ax=ax)\n",
    "for i in range(len(corr)):\n",
    "    # Coloca o texto na diagonal principal\n",
    "    ax.text(i+0.5,(i+0.5), corr.columns[i], \n",
    "            ha=\"center\", va=\"center\", rotation=45)\n",
    "    for j in range(i+1, len(corr)):\n",
    "        s = \"{:.3f}\".format(corr.values[i,j]).replace(\".\",\",\")\n",
    "        ax.text(j+0.5,(i+0.5),s, \n",
    "            ha=\"center\", va=\"center\")\n",
    "        \n",
    "ax.axis(\"off\")\n",
    "plt.show()"
   ]
  },
  {
   "cell_type": "code",
   "execution_count": 232,
   "metadata": {},
   "outputs": [],
   "source": [
    "pca = PCA()\n",
    "\n",
    "n_componentes = df.shape[1]\n",
    "\n",
    "princomp = pca.fit(df)\n",
    "\n",
    "componentes = princomp.transform(df)\n",
    "\n",
    "nomes_pca = ['CP'+str(x+1) for x in list(range(n_componentes))]\n",
    "\n",
    "principalDf = pd.DataFrame(data = componentes\n",
    "             , columns = nomes_pca)"
   ]
  },
  {
   "cell_type": "code",
   "execution_count": 235,
   "metadata": {},
   "outputs": [
    {
     "data": {
      "text/html": [
       "<div><div id=dd075b48-9128-4563-a131-8e2ffa60aa07 style=\"display:none; background-color:#9D6CFF; color:white; width:200px; height:30px; padding-left:5px; border-radius:4px; flex-direction:row; justify-content:space-around; align-items:center;\" onmouseover=\"this.style.backgroundColor='#BA9BF8'\" onmouseout=\"this.style.backgroundColor='#9D6CFF'\" onclick=\"window.commands?.execute('create-mitosheet-from-dataframe-output');\">See Full Dataframe in Mito</div> <script> if (window.commands.hasCommand('create-mitosheet-from-dataframe-output')) document.getElementById('dd075b48-9128-4563-a131-8e2ffa60aa07').style.display = 'flex' </script> <table border=\"1\" class=\"dataframe\">\n",
       "  <thead>\n",
       "    <tr style=\"text-align: right;\">\n",
       "      <th></th>\n",
       "      <th>CP1</th>\n",
       "      <th>CP2</th>\n",
       "      <th>CP3</th>\n",
       "      <th>CP4</th>\n",
       "      <th>CP5</th>\n",
       "      <th>CP6</th>\n",
       "      <th>CP7</th>\n",
       "      <th>CP8</th>\n",
       "      <th>CP9</th>\n",
       "      <th>CP10</th>\n",
       "      <th>CP11</th>\n",
       "      <th>CP12</th>\n",
       "      <th>CP13</th>\n",
       "      <th>CP14</th>\n",
       "      <th>CP15</th>\n",
       "      <th>CP16</th>\n",
       "      <th>CP17</th>\n",
       "      <th>CP18</th>\n",
       "      <th>CP19</th>\n",
       "      <th>CP20</th>\n",
       "    </tr>\n",
       "  </thead>\n",
       "  <tbody>\n",
       "    <tr>\n",
       "      <th>0</th>\n",
       "      <td>4.610732</td>\n",
       "      <td>4.690160</td>\n",
       "      <td>-0.331307</td>\n",
       "      <td>-2.192519</td>\n",
       "      <td>-1.088823</td>\n",
       "      <td>1.534730</td>\n",
       "      <td>0.298403</td>\n",
       "      <td>-0.303581</td>\n",
       "      <td>-0.958679</td>\n",
       "      <td>-0.595188</td>\n",
       "      <td>0.824093</td>\n",
       "      <td>0.031911</td>\n",
       "      <td>0.445961</td>\n",
       "      <td>1.740720</td>\n",
       "      <td>0.866548</td>\n",
       "      <td>-0.714433</td>\n",
       "      <td>-0.115392</td>\n",
       "      <td>-0.112390</td>\n",
       "      <td>0.106757</td>\n",
       "      <td>0.027418</td>\n",
       "    </tr>\n",
       "    <tr>\n",
       "      <th>1</th>\n",
       "      <td>5.041637</td>\n",
       "      <td>2.196658</td>\n",
       "      <td>2.771041</td>\n",
       "      <td>2.621770</td>\n",
       "      <td>-0.431806</td>\n",
       "      <td>0.379825</td>\n",
       "      <td>0.421596</td>\n",
       "      <td>0.835760</td>\n",
       "      <td>0.900185</td>\n",
       "      <td>1.219166</td>\n",
       "      <td>-2.214314</td>\n",
       "      <td>-0.209083</td>\n",
       "      <td>-0.563257</td>\n",
       "      <td>-0.039784</td>\n",
       "      <td>0.172352</td>\n",
       "      <td>-0.631430</td>\n",
       "      <td>0.148592</td>\n",
       "      <td>-0.309210</td>\n",
       "      <td>-0.044014</td>\n",
       "      <td>-0.026102</td>\n",
       "    </tr>\n",
       "    <tr>\n",
       "      <th>2</th>\n",
       "      <td>-6.918780</td>\n",
       "      <td>-5.942832</td>\n",
       "      <td>-2.514650</td>\n",
       "      <td>-0.665987</td>\n",
       "      <td>-1.269202</td>\n",
       "      <td>1.636873</td>\n",
       "      <td>1.870399</td>\n",
       "      <td>-1.597834</td>\n",
       "      <td>0.499486</td>\n",
       "      <td>-1.053132</td>\n",
       "      <td>-0.115407</td>\n",
       "      <td>-0.305039</td>\n",
       "      <td>-0.516435</td>\n",
       "      <td>0.062983</td>\n",
       "      <td>-0.027907</td>\n",
       "      <td>1.079217</td>\n",
       "      <td>0.019474</td>\n",
       "      <td>0.076259</td>\n",
       "      <td>-0.085275</td>\n",
       "      <td>0.064387</td>\n",
       "    </tr>\n",
       "    <tr>\n",
       "      <th>3</th>\n",
       "      <td>-2.973611</td>\n",
       "      <td>-1.917624</td>\n",
       "      <td>-2.741752</td>\n",
       "      <td>-1.026047</td>\n",
       "      <td>0.376004</td>\n",
       "      <td>-0.423874</td>\n",
       "      <td>-1.516583</td>\n",
       "      <td>0.402015</td>\n",
       "      <td>-0.255381</td>\n",
       "      <td>-0.623925</td>\n",
       "      <td>-1.099386</td>\n",
       "      <td>0.452860</td>\n",
       "      <td>0.752388</td>\n",
       "      <td>-0.442430</td>\n",
       "      <td>-0.574530</td>\n",
       "      <td>-0.004740</td>\n",
       "      <td>0.299427</td>\n",
       "      <td>0.134185</td>\n",
       "      <td>0.046691</td>\n",
       "      <td>-0.003177</td>\n",
       "    </tr>\n",
       "    <tr>\n",
       "      <th>4</th>\n",
       "      <td>-12.120859</td>\n",
       "      <td>-1.581032</td>\n",
       "      <td>-3.816082</td>\n",
       "      <td>1.725571</td>\n",
       "      <td>0.495450</td>\n",
       "      <td>-0.119050</td>\n",
       "      <td>1.706732</td>\n",
       "      <td>-0.820147</td>\n",
       "      <td>0.402935</td>\n",
       "      <td>-0.899057</td>\n",
       "      <td>-0.016262</td>\n",
       "      <td>-0.873351</td>\n",
       "      <td>-0.015455</td>\n",
       "      <td>-0.234104</td>\n",
       "      <td>-1.091864</td>\n",
       "      <td>0.492440</td>\n",
       "      <td>0.101687</td>\n",
       "      <td>-0.009224</td>\n",
       "      <td>0.028129</td>\n",
       "      <td>0.039910</td>\n",
       "    </tr>\n",
       "  </tbody>\n",
       "</table></div>"
      ],
      "text/plain": [
       "         CP1       CP2       CP3       CP4       CP5       CP6       CP7  \\\n",
       "0   4.610732  4.690160 -0.331307 -2.192519 -1.088823  1.534730  0.298403   \n",
       "1   5.041637  2.196658  2.771041  2.621770 -0.431806  0.379825  0.421596   \n",
       "2  -6.918780 -5.942832 -2.514650 -0.665987 -1.269202  1.636873  1.870399   \n",
       "3  -2.973611 -1.917624 -2.741752 -1.026047  0.376004 -0.423874 -1.516583   \n",
       "4 -12.120859 -1.581032 -3.816082  1.725571  0.495450 -0.119050  1.706732   \n",
       "\n",
       "        CP8       CP9      CP10      CP11      CP12      CP13      CP14  \\\n",
       "0 -0.303581 -0.958679 -0.595188  0.824093  0.031911  0.445961  1.740720   \n",
       "1  0.835760  0.900185  1.219166 -2.214314 -0.209083 -0.563257 -0.039784   \n",
       "2 -1.597834  0.499486 -1.053132 -0.115407 -0.305039 -0.516435  0.062983   \n",
       "3  0.402015 -0.255381 -0.623925 -1.099386  0.452860  0.752388 -0.442430   \n",
       "4 -0.820147  0.402935 -0.899057 -0.016262 -0.873351 -0.015455 -0.234104   \n",
       "\n",
       "       CP15      CP16      CP17      CP18      CP19      CP20  \n",
       "0  0.866548 -0.714433 -0.115392 -0.112390  0.106757  0.027418  \n",
       "1  0.172352 -0.631430  0.148592 -0.309210 -0.044014 -0.026102  \n",
       "2 -0.027907  1.079217  0.019474  0.076259 -0.085275  0.064387  \n",
       "3 -0.574530 -0.004740  0.299427  0.134185  0.046691 -0.003177  \n",
       "4 -1.091864  0.492440  0.101687 -0.009224  0.028129  0.039910  "
      ]
     },
     "execution_count": 235,
     "metadata": {},
     "output_type": "execute_result"
    }
   ],
   "source": [
    "principalDf.head()"
   ]
  },
  {
   "cell_type": "code",
   "execution_count": 239,
   "metadata": {
    "scrolled": true
   },
   "outputs": [
    {
     "data": {
      "text/plain": [
       "array([0.51691709, 0.69202786, 0.82536975, 0.90181835, 0.91775969,\n",
       "       0.93118194, 0.94343838, 0.95374003, 0.96232249, 0.97032155,\n",
       "       0.97724081, 0.98286221, 0.9880205 , 0.99280771, 0.99564214,\n",
       "       0.99764372, 0.99939994, 0.99988417, 0.99995271, 1.        ])"
      ]
     },
     "execution_count": 239,
     "metadata": {},
     "output_type": "execute_result"
    }
   ],
   "source": [
    "princomp.explained_variance_ratio_.cumsum()"
   ]
  },
  {
   "cell_type": "markdown",
   "metadata": {},
   "source": [
    "## Autovetores e autovalores\n",
    "\n",
    "É uma técnica de Algebra Linear que fornece pares de vetores e escalares chamados de autovetores e autovalores, que possuem propriedades muito interessantes, e podem ser obtidos através de uma equação matricial.\n",
    "\n",
    "Em Componentes Principais, a matriz utilizada no algoritmo é tipicamente uma dentre duas opções:\n",
    "\n",
    "- Matriz de variância: utilizada quando é importante manter a escala original das variáveis\n",
    "- Matriz de correlação: utilizada quando as variáveis possuem escalas diferentes, e podem receber pesos (no sentido de importância) diferentes de forma arbitrária por conta dessas escalas.\n",
    "\n",
    "**Autovetores**\n",
    "Os autovetores fornecem as direções de maior variabilidade dos dados - o que pode ser visto em 2 (ou até 3) dimensões, mas funciona igualmente com uma quantidade de dimensões (isto é, com um número arbitrário de variáveis).\n",
    "\n",
    "**Autovalores**\n",
    "Os autovalores indicam a variabilidade na direção dos respectivos autovetores. Na prática, eles fornecem a variância das componentes principais.\n",
    "\n",
    "**Componentes principais**\n",
    "São as projeções dos dados originais nos autovetores. São novas variáveis, obtidas como combinações lineares das variáveis originais, e possuem propriedades muito interessantes:\n",
    "\n",
    "- Se considerarmos todas as componentes, agregam a mesma informação que os dados originais\n",
    "- Possuem correlação linear zero entre sí. Isso significa que não compartilham informação (ao menos do ponto de vista linear).\n",
    "- Podem ser ordenadas conforme a explicação da variabilidade das variáveis originais.\n",
    "- Dessa forma, se temos *p* variáveis, podemos considerar *q<p* componentes principais que vão explicar mais variabilidade (i.e. informação) que quaisquer outras *q* variáveis originais."
   ]
  },
  {
   "cell_type": "markdown",
   "metadata": {},
   "source": [
    "## Quantas componentes principais utilizar?\n",
    "\n",
    "O número de componentes que o algoritmo dá, conceitualmente, é igual ao númeor de variáveis originais. No entanto, pelas propriedades da técnica, podemos utilizar apenas um número arbitrário das componentes iniciais (aquelas que mais explicam variância) e ignorar as demais.\n",
    "\n",
    "Mas quantas componentes vamos utilizar?\n",
    "\n",
    "Claro que há uma carga de subjetividade grande nesta pergunta, e não há uma única resposta correta, mas há potencialmente uma quantidade grande de respostas úteis para cada problema. E para guiar esse tipo de decisão, vamos falar de 4 critérios bastante utilizados na literatura.\n",
    "\n",
    "\n",
    "1. Autovalor maior que 1: Este critério funciona com as variáveis padronizadas para que tenham todas variância > 1 - o autovalor é a variância da componente principal, escolhendo componentes com autovalor>1 você estará selecionando somente autovalores que explicam mais informação que uma variável original.\n",
    "2. Variância explicada > x: Somando a variância explicada você pode estabelecer um valor mínimo exigido, por exemplo 90%, e selecionar o número de componentes que explica 90% da variância total.\n",
    "3. Gráfico do cotovelo (screeplot): Ao observar o gráfico da variância explicada por cada componente, buscamos um 'cotovelo' e ignoramos as variáveis que explicam muito pouco da variância total.\n",
    "4. Utilizar um número pragmático: este critério pode ser utilizado por exemplo se temos alguma limitação - por exemplo, se você sabe que o seu hardware vai tolerar 100 variáveis, você usa pragmaticamente esse valor."
   ]
  },
  {
   "cell_type": "markdown",
   "metadata": {},
   "source": [
    "### Gráficos básicos\n",
    "\n",
    "Vamos ver abaixo os gráficos básicos que nos auxiliam na seleção do número de componentes principais. Todos eles giram no entorno da variância explicada. Vamos avaliar a variância explicada total e o percentual da variância explicada - o desenho do gráfico tem sempre a mesma cara, mudando apenas a escala. Vamos cruzar esta visão também com a visão nominal e acumulada."
   ]
  },
  {
   "cell_type": "code",
   "execution_count": 271,
   "metadata": {},
   "outputs": [
    {
     "data": {
      "image/png": "[encoded data removed]",
      "text/plain": [
       "<Figure size 1008x576 with 4 Axes>"
      ]
     },
     "metadata": {
      "needs_background": "light"
     },
     "output_type": "display_data"
    }
   ],
   "source": [
    "fig, ax = plt.subplots(2, 2, sharex=True, figsize=(14, 8))\n",
    "plt.subplots_adjust(hspace=0, wspace=.15)\n",
    "\n",
    "ampli_y1 = princomp.explained_variance_[0]\n",
    "\n",
    "num_componentes = np.arange(princomp.n_components_) + 1\n",
    "ax[0,0].plot(num_componentes, princomp.explained_variance_, 'o-', linewidth=2, color='blue', markersize=2, alpha=.2)\n",
    "ax[0,0].set_title('Scree Plot - Variância total')\n",
    "ax[0,0].set_xlabel('Número de componentes')\n",
    "ax[0,0].set_ylabel('Variancia explicada (Autovalores)')\n",
    "\n",
    "ax[1,0].plot(num_componentes, princomp.explained_variance_.cumsum(), 'o-', linewidth=2, color='blue', markersize=2, alpha=.2)\n",
    "ax[1,0].set_xlabel('Número de componentes')\n",
    "ax[1,0].set_ylabel('Variancia explicada (Acumulada)')\n",
    "\n",
    "\n",
    "ampli_y2 = princomp.explained_variance_ratio_[0]\n",
    "# ax[1].set_ylim(-ampli_y2*.05, ampli_y2*1.1)\n",
    "\n",
    "ax[0,1].plot(num_componentes, princomp.explained_variance_ratio_, 'o-', linewidth=2, color='blue', markersize=2, alpha=.2)\n",
    "ax[0,1].set_title('Scree Plot - Variância percentual')\n",
    "ax[0,1].set_xlabel('Número de componentes')\n",
    "ax[0,1].set_ylabel('Variancia explicada (percentual)')\n",
    "\n",
    "ax[1,1].plot(num_componentes, princomp.explained_variance_ratio_.cumsum(), 'o-', linewidth=2, color='blue', markersize=2, alpha=.2)\n",
    "ax[1,1].set_xlabel('Número de componentes')\n",
    "ax[1,1].set_ylabel('Variancia explicada (% Acumulado)')\n",
    "\n",
    "plt.show()"
   ]
  },
  {
   "cell_type": "markdown",
   "metadata": {},
   "source": [
    "### Critério 1 - autovalor > 1\n",
    "\n",
    "Este critério funciona melhor com as variáveis padronizadas para que tenham todas variância=1. O autovalor é a variância da componente principal, escolhendo componentes com autovalor>1 você estará selecionando somente autovalores que explicam mais informação que uma variável original. Quando as variáveis não são padronizadas, podemos utilizar a variância explicada percentual maior que 1/<número de variáveis> - mas isso não garante que as componentes expliquem mais variabilidade que qualquer outra variável."
   ]
  },
  {
   "cell_type": "code",
   "execution_count": 272,
   "metadata": {},
   "outputs": [
    {
     "data": {
      "image/png": "[encoded data removed]",
      "text/plain": [
       "<Figure size 1008x576 with 4 Axes>"
      ]
     },
     "metadata": {
      "needs_background": "light"
     },
     "output_type": "display_data"
    }
   ],
   "source": [
    "# Critério 1: autovalor padronizado > 1\n",
    "ncomp_criterio1 = (princomp.explained_variance_ratio_>1/princomp.n_components_).sum()\n",
    "\n",
    "fig, ax = plt.subplots(2, 2, sharex=True, figsize=(14, 8))\n",
    "plt.subplots_adjust(hspace=0, wspace=.15)\n",
    "\n",
    "#Gráfico da variância nominal por qtd-componentes\n",
    "num_componentes = np.arange(princomp.n_components_) + 1\n",
    "ax[0,0].plot(num_componentes, princomp.explained_variance_, 'o-', linewidth=1, color='blue', markersize=2, alpha=.2)\n",
    "ax[0,0].set_title('Scree Plot - Variância total')\n",
    "ax[0,0].set_xlabel('Número de componentes')\n",
    "ax[0,0].set_ylabel('Variancia explicada (Autovalores)')\n",
    "\n",
    "#Gráfico da variância nominal acumulada por qtd_componentes\n",
    "ax[1,0].plot(num_componentes, princomp.explained_variance_.cumsum(), 'o-', linewidth=1, color='blue', markersize=2, alpha=.2)\n",
    "ax[1,0].set_xlabel('Número de componentes')\n",
    "ax[1,0].set_ylabel('Variancia explicada (Acumulada)')\n",
    "\n",
    "# Gráfico da variância percentual por qtd_componentes\n",
    "ax[0,1].plot(num_componentes, princomp.explained_variance_ratio_, 'o-', linewidth=1, color='blue', markersize=2, alpha=.2)\n",
    "ax[0,1].set_title('Scree Plot - Variância percentual')\n",
    "ax[0,1].set_xlabel('Número de componentes')\n",
    "ax[0,1].set_ylabel('Variancia explicada (percentual)')\n",
    "\n",
    "# Gráfico da variância percentual acumulada por qtd_componentes\n",
    "ax[1,1].plot(num_componentes, princomp.explained_variance_ratio_.cumsum(), 'o-', linewidth=1, color='blue', markersize=2, alpha=.2)\n",
    "ax[1,1].set_xlabel('Número de componentes')\n",
    "ax[1,1].set_ylabel('Variancia explicada (% Acumulado)')\n",
    "\n",
    "# Linhas verticais de referência\n",
    "ax[0,0].axvline(x = ncomp_criterio1, color = 'r', linestyle = '-', linewidth=.5)\n",
    "ax[1,1].axvline(x = ncomp_criterio1, color = 'r', linestyle = '-', linewidth=.5)\n",
    "ax[1,0].axvline(x = ncomp_criterio1, color = 'r', linestyle = '-', linewidth=.5)\n",
    "ax[0,1].axvline(x = ncomp_criterio1, color = 'r', linestyle = '-', linewidth=.5)\n",
    "\n",
    "\n",
    "# linhas horizontais\n",
    "ax[0,0].axhline(y = princomp.explained_variance_[ncomp_criterio1-1], color = 'r', linestyle = '-', linewidth=.5)\n",
    "ax[1,0].axhline(y = princomp.explained_variance_.cumsum()[ncomp_criterio1-1], color = 'r', linestyle = '-', linewidth=.5)\n",
    "ax[0,1].axhline(y = princomp.explained_variance_ratio_[ncomp_criterio1-1], color = 'r', linestyle = '-', linewidth=.5)\n",
    "ax[1,1].axhline(y = princomp.explained_variance_ratio_.cumsum()[ncomp_criterio1-1], color = 'r', linestyle = '-', linewidth=.5)\n",
    "\n",
    "plt.show()"
   ]
  },
  {
   "cell_type": "markdown",
   "metadata": {},
   "source": [
    "### Critério 2 - *screeplot* ou critério do cotovelo\n",
    "\n",
    "Gráfico do cotovelo (screeplot): Ao observar o gráfico da variância explicada por cada componente, buscamos um 'cotovelo' e ignoramos as variáveis que explicam muito pouco da variância total"
   ]
  },
  {
   "cell_type": "code",
   "execution_count": 273,
   "metadata": {},
   "outputs": [
    {
     "data": {
      "image/png": "[encoded data removed]",
      "text/plain": [
       "<Figure size 1008x576 with 4 Axes>"
      ]
     },
     "metadata": {
      "needs_background": "light"
     },
     "output_type": "display_data"
    }
   ],
   "source": [
    "# Critério 2: Método do \"cotovelo\"\n",
    "ncomp_criterio2 = 4\n",
    "\n",
    "fig, ax = plt.subplots(2, 2, sharex=True, figsize=(14, 8))\n",
    "plt.subplots_adjust(hspace=0, wspace=.15)\n",
    "\n",
    "\n",
    "#Gráfico da variância nominal por qtd-componentes\n",
    "num_componentes = np.arange(princomp.n_components_) + 1\n",
    "ax[0,0].plot(num_componentes, princomp.explained_variance_, 'o-', linewidth=1, color='blue', markersize=2, alpha=.2)\n",
    "ax[0,0].set_title('Scree Plot - Variância total')\n",
    "ax[0,0].set_xlabel('Número de componentes')\n",
    "ax[0,0].set_ylabel('Variancia explicada (Autovalores)')\n",
    "\n",
    "#Gráfico da variância nominal acumulada por qtd-componentes\n",
    "ax[1,0].plot(num_componentes, princomp.explained_variance_.cumsum(), 'o-', linewidth=1, color='blue', markersize=2, alpha=.2)\n",
    "ax[1,0].set_xlabel('Número de componentes')\n",
    "ax[1,0].set_ylabel('Variancia explicada (Acumulada)')\n",
    "\n",
    "#Gráfico da variância percentual por qtd-componentes\n",
    "ax[0,1].plot(num_componentes, princomp.explained_variance_ratio_, 'o-', linewidth=1, color='blue', markersize=2, alpha=.2)\n",
    "ax[0,1].set_title('Scree Plot - Variância percentual')\n",
    "ax[0,1].set_xlabel('Número de componentes')\n",
    "ax[0,1].set_ylabel('Variancia explicada (percentual)')\n",
    "\n",
    "#Gráfico da variância percentual acumulada por qtd-componentes\n",
    "ax[1,1].plot(num_componentes, princomp.explained_variance_ratio_.cumsum(), 'o-', linewidth=1, color='blue', markersize=2, alpha=.2)\n",
    "ax[1,1].set_xlabel('Número de componentes')\n",
    "ax[1,1].set_ylabel('Variancia explicada (% Acumulado)')\n",
    "\n",
    "# Número de componentes pelo critério 2\n",
    "ax[0,0].axvline(x = ncomp_criterio2, color = 'r', linestyle = '-', linewidth=.5)\n",
    "ax[1,1].axvline(x = ncomp_criterio2, color = 'r', linestyle = '-', linewidth=.5)\n",
    "ax[1,0].axvline(x = ncomp_criterio2, color = 'r', linestyle = '-', linewidth=.5)\n",
    "ax[0,1].axvline(x = ncomp_criterio2, color = 'r', linestyle = '-', linewidth=.5)\n",
    "\n",
    "# linhas horizontais\n",
    "ax[0,0].axhline(y = princomp.explained_variance_[ncomp_criterio2-1], color = 'r', linestyle = '-', linewidth=.5)\n",
    "ax[1,0].axhline(y = princomp.explained_variance_.cumsum()[ncomp_criterio2-1], color = 'r', linestyle = '-', linewidth=.5)\n",
    "ax[0,1].axhline(y = princomp.explained_variance_ratio_[ncomp_criterio2-1], color = 'r', linestyle = '-', linewidth=.5)\n",
    "ax[1,1].axhline(y = princomp.explained_variance_ratio_.cumsum()[ncomp_criterio2-1], color = 'r', linestyle = '-', linewidth=.5)\n",
    "\n",
    "plt.show()"
   ]
  },
  {
   "cell_type": "code",
   "execution_count": 274,
   "metadata": {},
   "outputs": [
    {
     "data": {
      "text/plain": [
       "array([0.51691709, 0.69202786, 0.82536975, 0.90181835, 0.91775969,\n",
       "       0.93118194, 0.94343838, 0.95374003, 0.96232249, 0.97032155,\n",
       "       0.97724081, 0.98286221, 0.9880205 , 0.99280771, 0.99564214,\n",
       "       0.99764372, 0.99939994, 0.99988417, 0.99995271, 1.        ])"
      ]
     },
     "execution_count": 274,
     "metadata": {},
     "output_type": "execute_result"
    }
   ],
   "source": [
    "princomp.explained_variance_ratio_.cumsum()"
   ]
  },
  {
   "cell_type": "markdown",
   "metadata": {},
   "source": [
    "### Critéiro 3: Variância explicada > x\n",
    "\n",
    "Variância explicada > x: Somando a variância explicada você pode estabelecer um valor mínimo exigido, por exemplo 90%, e selecionar o número de componentes que explica 90% da variância total."
   ]
  },
  {
   "cell_type": "code",
   "execution_count": 275,
   "metadata": {
    "scrolled": false
   },
   "outputs": [
    {
     "data": {
      "image/png": "[encoded data removed]",
      "text/plain": [
       "<Figure size 1008x576 with 4 Axes>"
      ]
     },
     "metadata": {
      "needs_background": "light"
     },
     "output_type": "display_data"
    }
   ],
   "source": [
    "# Critério 3: % variância explicada\n",
    "\n",
    "fig, ax = plt.subplots(2, 2, sharex=True, figsize=(14, 8))\n",
    "plt.subplots_adjust(hspace=0, wspace=.15)\n",
    "\n",
    "# Número de componentes pelo critério 3\n",
    "varexplicada = .95\n",
    "ncomp_criterio3 = (princomp.explained_variance_ratio_.cumsum()<varexplicada).sum()+1\n",
    "\n",
    "\n",
    "#Gráfico da variância nominal por qtd-componentes\n",
    "num_componentes = np.arange(princomp.n_components_) + 1\n",
    "ax[0,0].plot(num_componentes, princomp.explained_variance_, 'o-', linewidth=1, color='blue', markersize=2, alpha=.2)\n",
    "ax[0,0].set_title('Scree Plot - Variância total')\n",
    "ax[0,0].set_xlabel('Número de componentes')\n",
    "ax[0,0].set_ylabel('Variancia explicada (Autovalores)')\n",
    "\n",
    "#Gráfico da variância nominal acumulada por qtd-componentes\n",
    "ax[1,0].plot(num_componentes, princomp.explained_variance_.cumsum(), 'o-', linewidth=1, color='blue', markersize=2, alpha=.2)\n",
    "ax[1,0].set_xlabel('Número de componentes')\n",
    "ax[1,0].set_ylabel('Variancia explicada (Acumulada)')\n",
    "\n",
    "#Gráfico da variância percentual por qtd-componentes\n",
    "ax[0,1].plot(num_componentes, princomp.explained_variance_ratio_, 'o-', linewidth=1, color='blue', markersize=2, alpha=.2)\n",
    "ax[0,1].set_title('Scree Plot - Variância percentual')\n",
    "ax[0,1].set_xlabel('Número de componentes')\n",
    "ax[0,1].set_ylabel('Variancia explicada (percentual)')\n",
    "\n",
    "#Gráfico da variância percentual acumulada por qtd-componentes\n",
    "ax[1,1].plot(num_componentes, princomp.explained_variance_ratio_.cumsum(), 'o-', linewidth=1, color='blue', markersize=2, alpha=.2)\n",
    "ax[1,1].set_xlabel('Número de componentes')\n",
    "ax[1,1].set_ylabel('Variancia explicada (% Acumulado)')\n",
    "\n",
    "# linhas verticais de referência\n",
    "ax[0,0].axvline(x = ncomp_criterio3, color = 'r', linestyle = '-', linewidth=.5)\n",
    "ax[1,1].axvline(x = ncomp_criterio3, color = 'r', linestyle = '-', linewidth=.5)\n",
    "ax[1,0].axvline(x = ncomp_criterio3, color = 'r', linestyle = '-', linewidth=.5)\n",
    "ax[0,1].axvline(x = ncomp_criterio3, color = 'r', linestyle = '-', linewidth=.5)\n",
    "\n",
    "# linhas horizontais\n",
    "ncomp_criterio2 = 50\n",
    "ax[0,0].axhline(y = princomp.explained_variance_[ncomp_criterio3-1], color = 'r', linestyle = '-', linewidth=.5)\n",
    "ax[1,0].axhline(y = princomp.explained_variance_.cumsum()[ncomp_criterio3-1], color = 'r', linestyle = '-', linewidth=.5)\n",
    "ax[0,1].axhline(y = princomp.explained_variance_ratio_[ncomp_criterio3-1], color = 'r', linestyle = '-', linewidth=.5)\n",
    "ax[1,1].axhline(y = princomp.explained_variance_ratio_.cumsum()[ncomp_criterio3-1], color = 'r', linestyle = '-', linewidth=.5)\n",
    "\n",
    "plt.show()"
   ]
  },
  {
   "cell_type": "code",
   "execution_count": null,
   "metadata": {},
   "outputs": [],
   "source": []
  },
  {
   "cell_type": "markdown",
   "metadata": {},
   "source": [
    "## Reconhecimento de escrita manual"
   ]
  },
  {
   "cell_type": "markdown",
   "metadata": {},
   "source": [
    "### Carregando od dados\n",
    "\n",
    "Há duas opções para carregar os dados: \n",
    "\n",
    "1. Carregar do pacote Keras\n",
    "2. Carregar do website\n",
    "\n",
    "Das duas formas, os dados são baixados do site do [Yann LeCun](http://yann.lecun.com/exdb/mnist/).\n",
    "\n",
    "Se você já tem o Keras, pode utilizar a primeira, caso contrário a segunda vai ser mais fácil e mais leve."
   ]
  },
  {
   "cell_type": "code",
   "execution_count": 277,
   "metadata": {},
   "outputs": [],
   "source": [
    "from keras.datasets.mnist import load_data\n",
    "\n",
    "(X_train, y_train), (X_test, y_test) = load_data()"
   ]
  },
  {
   "cell_type": "code",
   "execution_count": 278,
   "metadata": {},
   "outputs": [
    {
     "name": "stdout",
     "output_type": "stream",
     "text": [
      "CPU times: user 343 ms, sys: 84.8 ms, total: 428 ms\n",
      "Wall time: 442 ms\n"
     ]
    }
   ],
   "source": [
    "%%time\n",
    "import mnist\n",
    "\n",
    "X_train = mnist.train_images()\n",
    "y_train = mnist.train_labels()\n",
    "\n",
    "X_test = mnist.test_images()\n",
    "y_test = mnist.test_labels()"
   ]
  },
  {
   "cell_type": "markdown",
   "metadata": {},
   "source": [
    "Recomendo salvar a base para evitar tráfego de rede nas próximas."
   ]
  },
  {
   "cell_type": "code",
   "execution_count": null,
   "metadata": {},
   "outputs": [],
   "source": [
    "###################\n",
    "# Persistir os dados no formato numpy\n",
    "# np.save('X_train.npy', X_train)\n",
    "# np.save('y_train.npy', y_train)\n",
    "\n",
    "# np.save('X_test.npy', X_test)\n",
    "# np.save('y_test.npy', y_test)\n",
    "\n",
    "###################\n",
    "# Ler os dados no formato numpy\n",
    "# X_train = np.load('X_train.npy')\n",
    "# y_train = np.load('y_train.npy')\n",
    "\n",
    "# X_test = np.load('X_test.npy')\n",
    "# y_test = np.load('y_test.npy')"
   ]
  },
  {
   "cell_type": "markdown",
   "metadata": {},
   "source": [
    "### Análise Exploratória\n",
    "\n",
    "Vamos fazer uma análise exploratória básica. Vamos entender como estão os dados, e avaliar se um determinado pixel tende a estar ou não preenchido para cada número."
   ]
  },
  {
   "cell_type": "code",
   "execution_count": 280,
   "metadata": {},
   "outputs": [],
   "source": [
    "pd.set_option(\"display.max_columns\", None)"
   ]
  },
  {
   "cell_type": "code",
   "execution_count": 281,
   "metadata": {},
   "outputs": [
    {
     "data": {
      "text/html": [
       "<div><div id=f2a6116f-da1c-4bef-9fdf-9c5dd2687f6d style=\"display:none; background-color:#9D6CFF; color:white; width:200px; height:30px; padding-left:5px; border-radius:4px; flex-direction:row; justify-content:space-around; align-items:center;\" onmouseover=\"this.style.backgroundColor='#BA9BF8'\" onmouseout=\"this.style.backgroundColor='#9D6CFF'\" onclick=\"window.commands?.execute('create-mitosheet-from-dataframe-output');\">See Full Dataframe in Mito</div> <script> if (window.commands.hasCommand('create-mitosheet-from-dataframe-output')) document.getElementById('f2a6116f-da1c-4bef-9fdf-9c5dd2687f6d').style.display = 'flex' </script> <table border=\"1\" class=\"dataframe\">\n",
       "  <thead>\n",
       "    <tr style=\"text-align: right;\">\n",
       "      <th></th>\n",
       "      <th>0</th>\n",
       "      <th>1</th>\n",
       "      <th>2</th>\n",
       "      <th>3</th>\n",
       "      <th>4</th>\n",
       "      <th>5</th>\n",
       "      <th>6</th>\n",
       "      <th>7</th>\n",
       "      <th>8</th>\n",
       "      <th>9</th>\n",
       "      <th>10</th>\n",
       "      <th>11</th>\n",
       "      <th>12</th>\n",
       "      <th>13</th>\n",
       "      <th>14</th>\n",
       "      <th>15</th>\n",
       "      <th>16</th>\n",
       "      <th>17</th>\n",
       "      <th>18</th>\n",
       "      <th>19</th>\n",
       "      <th>20</th>\n",
       "      <th>21</th>\n",
       "      <th>22</th>\n",
       "      <th>23</th>\n",
       "      <th>24</th>\n",
       "      <th>25</th>\n",
       "      <th>26</th>\n",
       "      <th>27</th>\n",
       "    </tr>\n",
       "  </thead>\n",
       "  <tbody>\n",
       "    <tr>\n",
       "      <th>0</th>\n",
       "      <td>0</td>\n",
       "      <td>0</td>\n",
       "      <td>0</td>\n",
       "      <td>0</td>\n",
       "      <td>0</td>\n",
       "      <td>0</td>\n",
       "      <td>0</td>\n",
       "      <td>0</td>\n",
       "      <td>0</td>\n",
       "      <td>0</td>\n",
       "      <td>0</td>\n",
       "      <td>0</td>\n",
       "      <td>0</td>\n",
       "      <td>0</td>\n",
       "      <td>0</td>\n",
       "      <td>0</td>\n",
       "      <td>0</td>\n",
       "      <td>0</td>\n",
       "      <td>0</td>\n",
       "      <td>0</td>\n",
       "      <td>0</td>\n",
       "      <td>0</td>\n",
       "      <td>0</td>\n",
       "      <td>0</td>\n",
       "      <td>0</td>\n",
       "      <td>0</td>\n",
       "      <td>0</td>\n",
       "      <td>0</td>\n",
       "    </tr>\n",
       "    <tr>\n",
       "      <th>1</th>\n",
       "      <td>0</td>\n",
       "      <td>0</td>\n",
       "      <td>0</td>\n",
       "      <td>0</td>\n",
       "      <td>0</td>\n",
       "      <td>0</td>\n",
       "      <td>0</td>\n",
       "      <td>0</td>\n",
       "      <td>0</td>\n",
       "      <td>0</td>\n",
       "      <td>0</td>\n",
       "      <td>0</td>\n",
       "      <td>0</td>\n",
       "      <td>0</td>\n",
       "      <td>0</td>\n",
       "      <td>0</td>\n",
       "      <td>0</td>\n",
       "      <td>0</td>\n",
       "      <td>0</td>\n",
       "      <td>0</td>\n",
       "      <td>0</td>\n",
       "      <td>0</td>\n",
       "      <td>0</td>\n",
       "      <td>0</td>\n",
       "      <td>0</td>\n",
       "      <td>0</td>\n",
       "      <td>0</td>\n",
       "      <td>0</td>\n",
       "    </tr>\n",
       "    <tr>\n",
       "      <th>2</th>\n",
       "      <td>0</td>\n",
       "      <td>0</td>\n",
       "      <td>0</td>\n",
       "      <td>0</td>\n",
       "      <td>0</td>\n",
       "      <td>0</td>\n",
       "      <td>0</td>\n",
       "      <td>0</td>\n",
       "      <td>0</td>\n",
       "      <td>0</td>\n",
       "      <td>0</td>\n",
       "      <td>0</td>\n",
       "      <td>0</td>\n",
       "      <td>0</td>\n",
       "      <td>0</td>\n",
       "      <td>0</td>\n",
       "      <td>0</td>\n",
       "      <td>0</td>\n",
       "      <td>0</td>\n",
       "      <td>0</td>\n",
       "      <td>0</td>\n",
       "      <td>0</td>\n",
       "      <td>0</td>\n",
       "      <td>0</td>\n",
       "      <td>0</td>\n",
       "      <td>0</td>\n",
       "      <td>0</td>\n",
       "      <td>0</td>\n",
       "    </tr>\n",
       "    <tr>\n",
       "      <th>3</th>\n",
       "      <td>0</td>\n",
       "      <td>0</td>\n",
       "      <td>0</td>\n",
       "      <td>0</td>\n",
       "      <td>0</td>\n",
       "      <td>0</td>\n",
       "      <td>0</td>\n",
       "      <td>0</td>\n",
       "      <td>0</td>\n",
       "      <td>0</td>\n",
       "      <td>0</td>\n",
       "      <td>0</td>\n",
       "      <td>0</td>\n",
       "      <td>0</td>\n",
       "      <td>0</td>\n",
       "      <td>0</td>\n",
       "      <td>0</td>\n",
       "      <td>0</td>\n",
       "      <td>0</td>\n",
       "      <td>0</td>\n",
       "      <td>0</td>\n",
       "      <td>0</td>\n",
       "      <td>0</td>\n",
       "      <td>0</td>\n",
       "      <td>0</td>\n",
       "      <td>0</td>\n",
       "      <td>0</td>\n",
       "      <td>0</td>\n",
       "    </tr>\n",
       "    <tr>\n",
       "      <th>4</th>\n",
       "      <td>0</td>\n",
       "      <td>0</td>\n",
       "      <td>0</td>\n",
       "      <td>0</td>\n",
       "      <td>0</td>\n",
       "      <td>0</td>\n",
       "      <td>0</td>\n",
       "      <td>0</td>\n",
       "      <td>0</td>\n",
       "      <td>0</td>\n",
       "      <td>0</td>\n",
       "      <td>0</td>\n",
       "      <td>0</td>\n",
       "      <td>0</td>\n",
       "      <td>0</td>\n",
       "      <td>0</td>\n",
       "      <td>0</td>\n",
       "      <td>0</td>\n",
       "      <td>0</td>\n",
       "      <td>0</td>\n",
       "      <td>0</td>\n",
       "      <td>0</td>\n",
       "      <td>0</td>\n",
       "      <td>0</td>\n",
       "      <td>0</td>\n",
       "      <td>0</td>\n",
       "      <td>0</td>\n",
       "      <td>0</td>\n",
       "    </tr>\n",
       "    <tr>\n",
       "      <th>5</th>\n",
       "      <td>0</td>\n",
       "      <td>0</td>\n",
       "      <td>0</td>\n",
       "      <td>0</td>\n",
       "      <td>0</td>\n",
       "      <td>0</td>\n",
       "      <td>0</td>\n",
       "      <td>0</td>\n",
       "      <td>0</td>\n",
       "      <td>0</td>\n",
       "      <td>0</td>\n",
       "      <td>0</td>\n",
       "      <td>3</td>\n",
       "      <td>18</td>\n",
       "      <td>18</td>\n",
       "      <td>18</td>\n",
       "      <td>126</td>\n",
       "      <td>136</td>\n",
       "      <td>175</td>\n",
       "      <td>26</td>\n",
       "      <td>166</td>\n",
       "      <td>255</td>\n",
       "      <td>247</td>\n",
       "      <td>127</td>\n",
       "      <td>0</td>\n",
       "      <td>0</td>\n",
       "      <td>0</td>\n",
       "      <td>0</td>\n",
       "    </tr>\n",
       "    <tr>\n",
       "      <th>6</th>\n",
       "      <td>0</td>\n",
       "      <td>0</td>\n",
       "      <td>0</td>\n",
       "      <td>0</td>\n",
       "      <td>0</td>\n",
       "      <td>0</td>\n",
       "      <td>0</td>\n",
       "      <td>0</td>\n",
       "      <td>30</td>\n",
       "      <td>36</td>\n",
       "      <td>94</td>\n",
       "      <td>154</td>\n",
       "      <td>170</td>\n",
       "      <td>253</td>\n",
       "      <td>253</td>\n",
       "      <td>253</td>\n",
       "      <td>253</td>\n",
       "      <td>253</td>\n",
       "      <td>225</td>\n",
       "      <td>172</td>\n",
       "      <td>253</td>\n",
       "      <td>242</td>\n",
       "      <td>195</td>\n",
       "      <td>64</td>\n",
       "      <td>0</td>\n",
       "      <td>0</td>\n",
       "      <td>0</td>\n",
       "      <td>0</td>\n",
       "    </tr>\n",
       "    <tr>\n",
       "      <th>7</th>\n",
       "      <td>0</td>\n",
       "      <td>0</td>\n",
       "      <td>0</td>\n",
       "      <td>0</td>\n",
       "      <td>0</td>\n",
       "      <td>0</td>\n",
       "      <td>0</td>\n",
       "      <td>49</td>\n",
       "      <td>238</td>\n",
       "      <td>253</td>\n",
       "      <td>253</td>\n",
       "      <td>253</td>\n",
       "      <td>253</td>\n",
       "      <td>253</td>\n",
       "      <td>253</td>\n",
       "      <td>253</td>\n",
       "      <td>253</td>\n",
       "      <td>251</td>\n",
       "      <td>93</td>\n",
       "      <td>82</td>\n",
       "      <td>82</td>\n",
       "      <td>56</td>\n",
       "      <td>39</td>\n",
       "      <td>0</td>\n",
       "      <td>0</td>\n",
       "      <td>0</td>\n",
       "      <td>0</td>\n",
       "      <td>0</td>\n",
       "    </tr>\n",
       "    <tr>\n",
       "      <th>8</th>\n",
       "      <td>0</td>\n",
       "      <td>0</td>\n",
       "      <td>0</td>\n",
       "      <td>0</td>\n",
       "      <td>0</td>\n",
       "      <td>0</td>\n",
       "      <td>0</td>\n",
       "      <td>18</td>\n",
       "      <td>219</td>\n",
       "      <td>253</td>\n",
       "      <td>253</td>\n",
       "      <td>253</td>\n",
       "      <td>253</td>\n",
       "      <td>253</td>\n",
       "      <td>198</td>\n",
       "      <td>182</td>\n",
       "      <td>247</td>\n",
       "      <td>241</td>\n",
       "      <td>0</td>\n",
       "      <td>0</td>\n",
       "      <td>0</td>\n",
       "      <td>0</td>\n",
       "      <td>0</td>\n",
       "      <td>0</td>\n",
       "      <td>0</td>\n",
       "      <td>0</td>\n",
       "      <td>0</td>\n",
       "      <td>0</td>\n",
       "    </tr>\n",
       "    <tr>\n",
       "      <th>9</th>\n",
       "      <td>0</td>\n",
       "      <td>0</td>\n",
       "      <td>0</td>\n",
       "      <td>0</td>\n",
       "      <td>0</td>\n",
       "      <td>0</td>\n",
       "      <td>0</td>\n",
       "      <td>0</td>\n",
       "      <td>80</td>\n",
       "      <td>156</td>\n",
       "      <td>107</td>\n",
       "      <td>253</td>\n",
       "      <td>253</td>\n",
       "      <td>205</td>\n",
       "      <td>11</td>\n",
       "      <td>0</td>\n",
       "      <td>43</td>\n",
       "      <td>154</td>\n",
       "      <td>0</td>\n",
       "      <td>0</td>\n",
       "      <td>0</td>\n",
       "      <td>0</td>\n",
       "      <td>0</td>\n",
       "      <td>0</td>\n",
       "      <td>0</td>\n",
       "      <td>0</td>\n",
       "      <td>0</td>\n",
       "      <td>0</td>\n",
       "    </tr>\n",
       "    <tr>\n",
       "      <th>10</th>\n",
       "      <td>0</td>\n",
       "      <td>0</td>\n",
       "      <td>0</td>\n",
       "      <td>0</td>\n",
       "      <td>0</td>\n",
       "      <td>0</td>\n",
       "      <td>0</td>\n",
       "      <td>0</td>\n",
       "      <td>0</td>\n",
       "      <td>14</td>\n",
       "      <td>1</td>\n",
       "      <td>154</td>\n",
       "      <td>253</td>\n",
       "      <td>90</td>\n",
       "      <td>0</td>\n",
       "      <td>0</td>\n",
       "      <td>0</td>\n",
       "      <td>0</td>\n",
       "      <td>0</td>\n",
       "      <td>0</td>\n",
       "      <td>0</td>\n",
       "      <td>0</td>\n",
       "      <td>0</td>\n",
       "      <td>0</td>\n",
       "      <td>0</td>\n",
       "      <td>0</td>\n",
       "      <td>0</td>\n",
       "      <td>0</td>\n",
       "    </tr>\n",
       "    <tr>\n",
       "      <th>11</th>\n",
       "      <td>0</td>\n",
       "      <td>0</td>\n",
       "      <td>0</td>\n",
       "      <td>0</td>\n",
       "      <td>0</td>\n",
       "      <td>0</td>\n",
       "      <td>0</td>\n",
       "      <td>0</td>\n",
       "      <td>0</td>\n",
       "      <td>0</td>\n",
       "      <td>0</td>\n",
       "      <td>139</td>\n",
       "      <td>253</td>\n",
       "      <td>190</td>\n",
       "      <td>2</td>\n",
       "      <td>0</td>\n",
       "      <td>0</td>\n",
       "      <td>0</td>\n",
       "      <td>0</td>\n",
       "      <td>0</td>\n",
       "      <td>0</td>\n",
       "      <td>0</td>\n",
       "      <td>0</td>\n",
       "      <td>0</td>\n",
       "      <td>0</td>\n",
       "      <td>0</td>\n",
       "      <td>0</td>\n",
       "      <td>0</td>\n",
       "    </tr>\n",
       "    <tr>\n",
       "      <th>12</th>\n",
       "      <td>0</td>\n",
       "      <td>0</td>\n",
       "      <td>0</td>\n",
       "      <td>0</td>\n",
       "      <td>0</td>\n",
       "      <td>0</td>\n",
       "      <td>0</td>\n",
       "      <td>0</td>\n",
       "      <td>0</td>\n",
       "      <td>0</td>\n",
       "      <td>0</td>\n",
       "      <td>11</td>\n",
       "      <td>190</td>\n",
       "      <td>253</td>\n",
       "      <td>70</td>\n",
       "      <td>0</td>\n",
       "      <td>0</td>\n",
       "      <td>0</td>\n",
       "      <td>0</td>\n",
       "      <td>0</td>\n",
       "      <td>0</td>\n",
       "      <td>0</td>\n",
       "      <td>0</td>\n",
       "      <td>0</td>\n",
       "      <td>0</td>\n",
       "      <td>0</td>\n",
       "      <td>0</td>\n",
       "      <td>0</td>\n",
       "    </tr>\n",
       "    <tr>\n",
       "      <th>13</th>\n",
       "      <td>0</td>\n",
       "      <td>0</td>\n",
       "      <td>0</td>\n",
       "      <td>0</td>\n",
       "      <td>0</td>\n",
       "      <td>0</td>\n",
       "      <td>0</td>\n",
       "      <td>0</td>\n",
       "      <td>0</td>\n",
       "      <td>0</td>\n",
       "      <td>0</td>\n",
       "      <td>0</td>\n",
       "      <td>35</td>\n",
       "      <td>241</td>\n",
       "      <td>225</td>\n",
       "      <td>160</td>\n",
       "      <td>108</td>\n",
       "      <td>1</td>\n",
       "      <td>0</td>\n",
       "      <td>0</td>\n",
       "      <td>0</td>\n",
       "      <td>0</td>\n",
       "      <td>0</td>\n",
       "      <td>0</td>\n",
       "      <td>0</td>\n",
       "      <td>0</td>\n",
       "      <td>0</td>\n",
       "      <td>0</td>\n",
       "    </tr>\n",
       "    <tr>\n",
       "      <th>14</th>\n",
       "      <td>0</td>\n",
       "      <td>0</td>\n",
       "      <td>0</td>\n",
       "      <td>0</td>\n",
       "      <td>0</td>\n",
       "      <td>0</td>\n",
       "      <td>0</td>\n",
       "      <td>0</td>\n",
       "      <td>0</td>\n",
       "      <td>0</td>\n",
       "      <td>0</td>\n",
       "      <td>0</td>\n",
       "      <td>0</td>\n",
       "      <td>81</td>\n",
       "      <td>240</td>\n",
       "      <td>253</td>\n",
       "      <td>253</td>\n",
       "      <td>119</td>\n",
       "      <td>25</td>\n",
       "      <td>0</td>\n",
       "      <td>0</td>\n",
       "      <td>0</td>\n",
       "      <td>0</td>\n",
       "      <td>0</td>\n",
       "      <td>0</td>\n",
       "      <td>0</td>\n",
       "      <td>0</td>\n",
       "      <td>0</td>\n",
       "    </tr>\n",
       "    <tr>\n",
       "      <th>15</th>\n",
       "      <td>0</td>\n",
       "      <td>0</td>\n",
       "      <td>0</td>\n",
       "      <td>0</td>\n",
       "      <td>0</td>\n",
       "      <td>0</td>\n",
       "      <td>0</td>\n",
       "      <td>0</td>\n",
       "      <td>0</td>\n",
       "      <td>0</td>\n",
       "      <td>0</td>\n",
       "      <td>0</td>\n",
       "      <td>0</td>\n",
       "      <td>0</td>\n",
       "      <td>45</td>\n",
       "      <td>186</td>\n",
       "      <td>253</td>\n",
       "      <td>253</td>\n",
       "      <td>150</td>\n",
       "      <td>27</td>\n",
       "      <td>0</td>\n",
       "      <td>0</td>\n",
       "      <td>0</td>\n",
       "      <td>0</td>\n",
       "      <td>0</td>\n",
       "      <td>0</td>\n",
       "      <td>0</td>\n",
       "      <td>0</td>\n",
       "    </tr>\n",
       "    <tr>\n",
       "      <th>16</th>\n",
       "      <td>0</td>\n",
       "      <td>0</td>\n",
       "      <td>0</td>\n",
       "      <td>0</td>\n",
       "      <td>0</td>\n",
       "      <td>0</td>\n",
       "      <td>0</td>\n",
       "      <td>0</td>\n",
       "      <td>0</td>\n",
       "      <td>0</td>\n",
       "      <td>0</td>\n",
       "      <td>0</td>\n",
       "      <td>0</td>\n",
       "      <td>0</td>\n",
       "      <td>0</td>\n",
       "      <td>16</td>\n",
       "      <td>93</td>\n",
       "      <td>252</td>\n",
       "      <td>253</td>\n",
       "      <td>187</td>\n",
       "      <td>0</td>\n",
       "      <td>0</td>\n",
       "      <td>0</td>\n",
       "      <td>0</td>\n",
       "      <td>0</td>\n",
       "      <td>0</td>\n",
       "      <td>0</td>\n",
       "      <td>0</td>\n",
       "    </tr>\n",
       "    <tr>\n",
       "      <th>17</th>\n",
       "      <td>0</td>\n",
       "      <td>0</td>\n",
       "      <td>0</td>\n",
       "      <td>0</td>\n",
       "      <td>0</td>\n",
       "      <td>0</td>\n",
       "      <td>0</td>\n",
       "      <td>0</td>\n",
       "      <td>0</td>\n",
       "      <td>0</td>\n",
       "      <td>0</td>\n",
       "      <td>0</td>\n",
       "      <td>0</td>\n",
       "      <td>0</td>\n",
       "      <td>0</td>\n",
       "      <td>0</td>\n",
       "      <td>0</td>\n",
       "      <td>249</td>\n",
       "      <td>253</td>\n",
       "      <td>249</td>\n",
       "      <td>64</td>\n",
       "      <td>0</td>\n",
       "      <td>0</td>\n",
       "      <td>0</td>\n",
       "      <td>0</td>\n",
       "      <td>0</td>\n",
       "      <td>0</td>\n",
       "      <td>0</td>\n",
       "    </tr>\n",
       "    <tr>\n",
       "      <th>18</th>\n",
       "      <td>0</td>\n",
       "      <td>0</td>\n",
       "      <td>0</td>\n",
       "      <td>0</td>\n",
       "      <td>0</td>\n",
       "      <td>0</td>\n",
       "      <td>0</td>\n",
       "      <td>0</td>\n",
       "      <td>0</td>\n",
       "      <td>0</td>\n",
       "      <td>0</td>\n",
       "      <td>0</td>\n",
       "      <td>0</td>\n",
       "      <td>0</td>\n",
       "      <td>46</td>\n",
       "      <td>130</td>\n",
       "      <td>183</td>\n",
       "      <td>253</td>\n",
       "      <td>253</td>\n",
       "      <td>207</td>\n",
       "      <td>2</td>\n",
       "      <td>0</td>\n",
       "      <td>0</td>\n",
       "      <td>0</td>\n",
       "      <td>0</td>\n",
       "      <td>0</td>\n",
       "      <td>0</td>\n",
       "      <td>0</td>\n",
       "    </tr>\n",
       "    <tr>\n",
       "      <th>19</th>\n",
       "      <td>0</td>\n",
       "      <td>0</td>\n",
       "      <td>0</td>\n",
       "      <td>0</td>\n",
       "      <td>0</td>\n",
       "      <td>0</td>\n",
       "      <td>0</td>\n",
       "      <td>0</td>\n",
       "      <td>0</td>\n",
       "      <td>0</td>\n",
       "      <td>0</td>\n",
       "      <td>0</td>\n",
       "      <td>39</td>\n",
       "      <td>148</td>\n",
       "      <td>229</td>\n",
       "      <td>253</td>\n",
       "      <td>253</td>\n",
       "      <td>253</td>\n",
       "      <td>250</td>\n",
       "      <td>182</td>\n",
       "      <td>0</td>\n",
       "      <td>0</td>\n",
       "      <td>0</td>\n",
       "      <td>0</td>\n",
       "      <td>0</td>\n",
       "      <td>0</td>\n",
       "      <td>0</td>\n",
       "      <td>0</td>\n",
       "    </tr>\n",
       "    <tr>\n",
       "      <th>20</th>\n",
       "      <td>0</td>\n",
       "      <td>0</td>\n",
       "      <td>0</td>\n",
       "      <td>0</td>\n",
       "      <td>0</td>\n",
       "      <td>0</td>\n",
       "      <td>0</td>\n",
       "      <td>0</td>\n",
       "      <td>0</td>\n",
       "      <td>0</td>\n",
       "      <td>24</td>\n",
       "      <td>114</td>\n",
       "      <td>221</td>\n",
       "      <td>253</td>\n",
       "      <td>253</td>\n",
       "      <td>253</td>\n",
       "      <td>253</td>\n",
       "      <td>201</td>\n",
       "      <td>78</td>\n",
       "      <td>0</td>\n",
       "      <td>0</td>\n",
       "      <td>0</td>\n",
       "      <td>0</td>\n",
       "      <td>0</td>\n",
       "      <td>0</td>\n",
       "      <td>0</td>\n",
       "      <td>0</td>\n",
       "      <td>0</td>\n",
       "    </tr>\n",
       "    <tr>\n",
       "      <th>21</th>\n",
       "      <td>0</td>\n",
       "      <td>0</td>\n",
       "      <td>0</td>\n",
       "      <td>0</td>\n",
       "      <td>0</td>\n",
       "      <td>0</td>\n",
       "      <td>0</td>\n",
       "      <td>0</td>\n",
       "      <td>23</td>\n",
       "      <td>66</td>\n",
       "      <td>213</td>\n",
       "      <td>253</td>\n",
       "      <td>253</td>\n",
       "      <td>253</td>\n",
       "      <td>253</td>\n",
       "      <td>198</td>\n",
       "      <td>81</td>\n",
       "      <td>2</td>\n",
       "      <td>0</td>\n",
       "      <td>0</td>\n",
       "      <td>0</td>\n",
       "      <td>0</td>\n",
       "      <td>0</td>\n",
       "      <td>0</td>\n",
       "      <td>0</td>\n",
       "      <td>0</td>\n",
       "      <td>0</td>\n",
       "      <td>0</td>\n",
       "    </tr>\n",
       "    <tr>\n",
       "      <th>22</th>\n",
       "      <td>0</td>\n",
       "      <td>0</td>\n",
       "      <td>0</td>\n",
       "      <td>0</td>\n",
       "      <td>0</td>\n",
       "      <td>0</td>\n",
       "      <td>18</td>\n",
       "      <td>171</td>\n",
       "      <td>219</td>\n",
       "      <td>253</td>\n",
       "      <td>253</td>\n",
       "      <td>253</td>\n",
       "      <td>253</td>\n",
       "      <td>195</td>\n",
       "      <td>80</td>\n",
       "      <td>9</td>\n",
       "      <td>0</td>\n",
       "      <td>0</td>\n",
       "      <td>0</td>\n",
       "      <td>0</td>\n",
       "      <td>0</td>\n",
       "      <td>0</td>\n",
       "      <td>0</td>\n",
       "      <td>0</td>\n",
       "      <td>0</td>\n",
       "      <td>0</td>\n",
       "      <td>0</td>\n",
       "      <td>0</td>\n",
       "    </tr>\n",
       "    <tr>\n",
       "      <th>23</th>\n",
       "      <td>0</td>\n",
       "      <td>0</td>\n",
       "      <td>0</td>\n",
       "      <td>0</td>\n",
       "      <td>55</td>\n",
       "      <td>172</td>\n",
       "      <td>226</td>\n",
       "      <td>253</td>\n",
       "      <td>253</td>\n",
       "      <td>253</td>\n",
       "      <td>253</td>\n",
       "      <td>244</td>\n",
       "      <td>133</td>\n",
       "      <td>11</td>\n",
       "      <td>0</td>\n",
       "      <td>0</td>\n",
       "      <td>0</td>\n",
       "      <td>0</td>\n",
       "      <td>0</td>\n",
       "      <td>0</td>\n",
       "      <td>0</td>\n",
       "      <td>0</td>\n",
       "      <td>0</td>\n",
       "      <td>0</td>\n",
       "      <td>0</td>\n",
       "      <td>0</td>\n",
       "      <td>0</td>\n",
       "      <td>0</td>\n",
       "    </tr>\n",
       "    <tr>\n",
       "      <th>24</th>\n",
       "      <td>0</td>\n",
       "      <td>0</td>\n",
       "      <td>0</td>\n",
       "      <td>0</td>\n",
       "      <td>136</td>\n",
       "      <td>253</td>\n",
       "      <td>253</td>\n",
       "      <td>253</td>\n",
       "      <td>212</td>\n",
       "      <td>135</td>\n",
       "      <td>132</td>\n",
       "      <td>16</td>\n",
       "      <td>0</td>\n",
       "      <td>0</td>\n",
       "      <td>0</td>\n",
       "      <td>0</td>\n",
       "      <td>0</td>\n",
       "      <td>0</td>\n",
       "      <td>0</td>\n",
       "      <td>0</td>\n",
       "      <td>0</td>\n",
       "      <td>0</td>\n",
       "      <td>0</td>\n",
       "      <td>0</td>\n",
       "      <td>0</td>\n",
       "      <td>0</td>\n",
       "      <td>0</td>\n",
       "      <td>0</td>\n",
       "    </tr>\n",
       "    <tr>\n",
       "      <th>25</th>\n",
       "      <td>0</td>\n",
       "      <td>0</td>\n",
       "      <td>0</td>\n",
       "      <td>0</td>\n",
       "      <td>0</td>\n",
       "      <td>0</td>\n",
       "      <td>0</td>\n",
       "      <td>0</td>\n",
       "      <td>0</td>\n",
       "      <td>0</td>\n",
       "      <td>0</td>\n",
       "      <td>0</td>\n",
       "      <td>0</td>\n",
       "      <td>0</td>\n",
       "      <td>0</td>\n",
       "      <td>0</td>\n",
       "      <td>0</td>\n",
       "      <td>0</td>\n",
       "      <td>0</td>\n",
       "      <td>0</td>\n",
       "      <td>0</td>\n",
       "      <td>0</td>\n",
       "      <td>0</td>\n",
       "      <td>0</td>\n",
       "      <td>0</td>\n",
       "      <td>0</td>\n",
       "      <td>0</td>\n",
       "      <td>0</td>\n",
       "    </tr>\n",
       "    <tr>\n",
       "      <th>26</th>\n",
       "      <td>0</td>\n",
       "      <td>0</td>\n",
       "      <td>0</td>\n",
       "      <td>0</td>\n",
       "      <td>0</td>\n",
       "      <td>0</td>\n",
       "      <td>0</td>\n",
       "      <td>0</td>\n",
       "      <td>0</td>\n",
       "      <td>0</td>\n",
       "      <td>0</td>\n",
       "      <td>0</td>\n",
       "      <td>0</td>\n",
       "      <td>0</td>\n",
       "      <td>0</td>\n",
       "      <td>0</td>\n",
       "      <td>0</td>\n",
       "      <td>0</td>\n",
       "      <td>0</td>\n",
       "      <td>0</td>\n",
       "      <td>0</td>\n",
       "      <td>0</td>\n",
       "      <td>0</td>\n",
       "      <td>0</td>\n",
       "      <td>0</td>\n",
       "      <td>0</td>\n",
       "      <td>0</td>\n",
       "      <td>0</td>\n",
       "    </tr>\n",
       "    <tr>\n",
       "      <th>27</th>\n",
       "      <td>0</td>\n",
       "      <td>0</td>\n",
       "      <td>0</td>\n",
       "      <td>0</td>\n",
       "      <td>0</td>\n",
       "      <td>0</td>\n",
       "      <td>0</td>\n",
       "      <td>0</td>\n",
       "      <td>0</td>\n",
       "      <td>0</td>\n",
       "      <td>0</td>\n",
       "      <td>0</td>\n",
       "      <td>0</td>\n",
       "      <td>0</td>\n",
       "      <td>0</td>\n",
       "      <td>0</td>\n",
       "      <td>0</td>\n",
       "      <td>0</td>\n",
       "      <td>0</td>\n",
       "      <td>0</td>\n",
       "      <td>0</td>\n",
       "      <td>0</td>\n",
       "      <td>0</td>\n",
       "      <td>0</td>\n",
       "      <td>0</td>\n",
       "      <td>0</td>\n",
       "      <td>0</td>\n",
       "      <td>0</td>\n",
       "    </tr>\n",
       "  </tbody>\n",
       "</table></div>"
      ],
      "text/plain": [
       "    0   1   2   3    4    5    6    7    8    9    10   11   12   13   14  \\\n",
       "0    0   0   0   0    0    0    0    0    0    0    0    0    0    0    0   \n",
       "1    0   0   0   0    0    0    0    0    0    0    0    0    0    0    0   \n",
       "2    0   0   0   0    0    0    0    0    0    0    0    0    0    0    0   \n",
       "3    0   0   0   0    0    0    0    0    0    0    0    0    0    0    0   \n",
       "4    0   0   0   0    0    0    0    0    0    0    0    0    0    0    0   \n",
       "5    0   0   0   0    0    0    0    0    0    0    0    0    3   18   18   \n",
       "6    0   0   0   0    0    0    0    0   30   36   94  154  170  253  253   \n",
       "7    0   0   0   0    0    0    0   49  238  253  253  253  253  253  253   \n",
       "8    0   0   0   0    0    0    0   18  219  253  253  253  253  253  198   \n",
       "9    0   0   0   0    0    0    0    0   80  156  107  253  253  205   11   \n",
       "10   0   0   0   0    0    0    0    0    0   14    1  154  253   90    0   \n",
       "11   0   0   0   0    0    0    0    0    0    0    0  139  253  190    2   \n",
       "12   0   0   0   0    0    0    0    0    0    0    0   11  190  253   70   \n",
       "13   0   0   0   0    0    0    0    0    0    0    0    0   35  241  225   \n",
       "14   0   0   0   0    0    0    0    0    0    0    0    0    0   81  240   \n",
       "15   0   0   0   0    0    0    0    0    0    0    0    0    0    0   45   \n",
       "16   0   0   0   0    0    0    0    0    0    0    0    0    0    0    0   \n",
       "17   0   0   0   0    0    0    0    0    0    0    0    0    0    0    0   \n",
       "18   0   0   0   0    0    0    0    0    0    0    0    0    0    0   46   \n",
       "19   0   0   0   0    0    0    0    0    0    0    0    0   39  148  229   \n",
       "20   0   0   0   0    0    0    0    0    0    0   24  114  221  253  253   \n",
       "21   0   0   0   0    0    0    0    0   23   66  213  253  253  253  253   \n",
       "22   0   0   0   0    0    0   18  171  219  253  253  253  253  195   80   \n",
       "23   0   0   0   0   55  172  226  253  253  253  253  244  133   11    0   \n",
       "24   0   0   0   0  136  253  253  253  212  135  132   16    0    0    0   \n",
       "25   0   0   0   0    0    0    0    0    0    0    0    0    0    0    0   \n",
       "26   0   0   0   0    0    0    0    0    0    0    0    0    0    0    0   \n",
       "27   0   0   0   0    0    0    0    0    0    0    0    0    0    0    0   \n",
       "\n",
       "     15   16   17   18   19   20   21   22   23  24  25  26  27  \n",
       "0     0    0    0    0    0    0    0    0    0   0   0   0   0  \n",
       "1     0    0    0    0    0    0    0    0    0   0   0   0   0  \n",
       "2     0    0    0    0    0    0    0    0    0   0   0   0   0  \n",
       "3     0    0    0    0    0    0    0    0    0   0   0   0   0  \n",
       "4     0    0    0    0    0    0    0    0    0   0   0   0   0  \n",
       "5    18  126  136  175   26  166  255  247  127   0   0   0   0  \n",
       "6   253  253  253  225  172  253  242  195   64   0   0   0   0  \n",
       "7   253  253  251   93   82   82   56   39    0   0   0   0   0  \n",
       "8   182  247  241    0    0    0    0    0    0   0   0   0   0  \n",
       "9     0   43  154    0    0    0    0    0    0   0   0   0   0  \n",
       "10    0    0    0    0    0    0    0    0    0   0   0   0   0  \n",
       "11    0    0    0    0    0    0    0    0    0   0   0   0   0  \n",
       "12    0    0    0    0    0    0    0    0    0   0   0   0   0  \n",
       "13  160  108    1    0    0    0    0    0    0   0   0   0   0  \n",
       "14  253  253  119   25    0    0    0    0    0   0   0   0   0  \n",
       "15  186  253  253  150   27    0    0    0    0   0   0   0   0  \n",
       "16   16   93  252  253  187    0    0    0    0   0   0   0   0  \n",
       "17    0    0  249  253  249   64    0    0    0   0   0   0   0  \n",
       "18  130  183  253  253  207    2    0    0    0   0   0   0   0  \n",
       "19  253  253  253  250  182    0    0    0    0   0   0   0   0  \n",
       "20  253  253  201   78    0    0    0    0    0   0   0   0   0  \n",
       "21  198   81    2    0    0    0    0    0    0   0   0   0   0  \n",
       "22    9    0    0    0    0    0    0    0    0   0   0   0   0  \n",
       "23    0    0    0    0    0    0    0    0    0   0   0   0   0  \n",
       "24    0    0    0    0    0    0    0    0    0   0   0   0   0  \n",
       "25    0    0    0    0    0    0    0    0    0   0   0   0   0  \n",
       "26    0    0    0    0    0    0    0    0    0   0   0   0   0  \n",
       "27    0    0    0    0    0    0    0    0    0   0   0   0   0  "
      ]
     },
     "execution_count": 281,
     "metadata": {},
     "output_type": "execute_result"
    }
   ],
   "source": [
    "pd.DataFrame(X_train[0])"
   ]
  },
  {
   "cell_type": "code",
   "execution_count": 285,
   "metadata": {},
   "outputs": [
    {
     "name": "stdout",
     "output_type": "stream",
     "text": [
      "o número é o 7\n"
     ]
    },
    {
     "data": {
      "image/png": "[encoded data removed]",
      "text/plain": [
       "<Figure size 432x288 with 1 Axes>"
      ]
     },
     "metadata": {
      "needs_background": "light"
     },
     "output_type": "display_data"
    }
   ],
   "source": [
    "i=101\n",
    "plt.imshow(X_train[i], cmap=plt.get_cmap('gray'))\n",
    "print(f'o número é o {y_train[i]}')"
   ]
  },
  {
   "cell_type": "code",
   "execution_count": 286,
   "metadata": {
    "scrolled": true
   },
   "outputs": [
    {
     "data": {
      "text/plain": [
       "<AxesSubplot:>"
      ]
     },
     "execution_count": 286,
     "metadata": {},
     "output_type": "execute_result"
    },
    {
     "data": {
      "image/png": "[encoded data removed]",
      "text/plain": [
       "<Figure size 432x288 with 1 Axes>"
      ]
     },
     "metadata": {
      "needs_background": "light"
     },
     "output_type": "display_data"
    }
   ],
   "source": [
    "sns.boxplot(x=y_train, y=X_train[:,14,14])"
   ]
  },
  {
   "cell_type": "markdown",
   "metadata": {},
   "source": [
    "### Tratamento dos dados\n",
    "\n",
    "O tratamento que vamos utilizar aqui consiste em mudar o formato do array para ter apenas uma linha e 784 colunas. Vamos fazer isto através do método ```.reshape``` do numpy:\n",
    "\n",
    "- O objeto original é um *ndarray* de dimensões (60.000, 28, 28). Podemos entender como 60.000 matrizes de tamanho 28 x 28.\n",
    "- Vamos transformar em um *ndarray* de 2 dimensões com 60.000 linhas e 784 (= 28 x 28) colunas."
   ]
  },
  {
   "cell_type": "code",
   "execution_count": 287,
   "metadata": {},
   "outputs": [
    {
     "name": "stdout",
     "output_type": "stream",
     "text": [
      "CPU times: user 16 µs, sys: 3 µs, total: 19 µs\n",
      "Wall time: 23.1 µs\n"
     ]
    }
   ],
   "source": [
    "%%time\n",
    "\n",
    "X_tra = X_train.reshape(X_train.shape[0],784)\n",
    "X_tst = X_test.reshape(X_test.shape[0],784)"
   ]
  },
  {
   "cell_type": "code",
   "execution_count": 288,
   "metadata": {},
   "outputs": [
    {
     "data": {
      "text/plain": [
       "(60000, 784)"
      ]
     },
     "execution_count": 288,
     "metadata": {},
     "output_type": "execute_result"
    }
   ],
   "source": [
    "X_tra.shape"
   ]
  },
  {
   "cell_type": "code",
   "execution_count": 289,
   "metadata": {},
   "outputs": [
    {
     "data": {
      "text/plain": [
       "784"
      ]
     },
     "execution_count": 289,
     "metadata": {},
     "output_type": "execute_result"
    }
   ],
   "source": [
    "28*28"
   ]
  },
  {
   "cell_type": "markdown",
   "metadata": {},
   "source": [
    "### Construindo o modelo\n",
    "\n",
    "Já vimos que há pixels informativos e não informativos. Agora vamos treinar um modelo com todos os pixels - vamos avaliar não só a acurácia, mas quanto tempo tomamos para rodar o nosso algoritmo."
   ]
  },
  {
   "cell_type": "code",
   "execution_count": 290,
   "metadata": {},
   "outputs": [
    {
     "name": "stdout",
     "output_type": "stream",
     "text": [
      "CPU times: user 54.7 s, sys: 1.16 s, total: 55.9 s\n",
      "Wall time: 57.3 s\n"
     ]
    },
    {
     "data": {
      "text/plain": [
       "RandomForestClassifier()"
      ]
     },
     "execution_count": 290,
     "metadata": {},
     "output_type": "execute_result"
    }
   ],
   "source": [
    "%%time\n",
    "\n",
    "# Definir a Random Forest\n",
    "clf=RandomForestClassifier(n_estimators=100)\n",
    "\n",
    "# Treinar o modelo na base de testes\n",
    "clf.fit(X_tra,y_train)"
   ]
  },
  {
   "cell_type": "markdown",
   "metadata": {},
   "source": [
    "### Acurácia do modelo\n",
    "\n",
    "Vamos fazer a avaliação básica da acurácia."
   ]
  },
  {
   "cell_type": "code",
   "execution_count": 291,
   "metadata": {},
   "outputs": [
    {
     "name": "stdout",
     "output_type": "stream",
     "text": [
      "A acurácia na base de testes é: 0.969\n"
     ]
    },
    {
     "data": {
      "image/png": "[encoded data removed]",
      "text/plain": [
       "<Figure size 432x288 with 2 Axes>"
      ]
     },
     "metadata": {
      "needs_background": "light"
     },
     "output_type": "display_data"
    }
   ],
   "source": [
    "y_pred=clf.predict(X_tst)\n",
    "print(f'A acurácia na base de testes é: {accuracy_score(y_pred, y_test)}')\n",
    "plot_confusion_matrix(clf, X_tst, y_test);"
   ]
  },
  {
   "cell_type": "markdown",
   "metadata": {},
   "source": [
    "### Mesma estrutura, com PCA\n",
    "\n",
    "Vamos repetir os mesmos passos, mas agora utilizando componentes principais. Vamos utilizar inicialmente 10 componentes."
   ]
  },
  {
   "cell_type": "code",
   "execution_count": 292,
   "metadata": {},
   "outputs": [],
   "source": [
    "prcomp = PCA().fit(X_tra)"
   ]
  },
  {
   "cell_type": "code",
   "execution_count": 293,
   "metadata": {},
   "outputs": [],
   "source": [
    "def screeplot(princomp, ncomp = 0, varexplicada=0, criterio=1):\n",
    "    \n",
    "    if ncomp>0:\n",
    "        ncomp_crit=ncomp\n",
    "    elif varexplicada > 0:\n",
    "        ncomp_crit = (princomp.explained_variance_ratio_.cumsum()<varexplicada).sum()+1 \n",
    "        # Critério 1: autovalor padronizado > 1\n",
    "    elif criterio == 1:\n",
    "        ncomp_crit = (princomp.explained_variance_ratio_>1/princomp.n_components_).sum()\n",
    "    else: ncomp_crit = None\n",
    "    \n",
    "    fig, ax = plt.subplots(2, 2, sharex=True, figsize=(14, 8))\n",
    "    plt.subplots_adjust(hspace=0, wspace=.15)\n",
    "\n",
    "\n",
    "    num_componentes = np.arange(princomp.n_components_) + 1\n",
    "    ax[0,0].plot(num_componentes, princomp.explained_variance_, 'o-', linewidth=2, color='blue', markersize=2, alpha=.2)\n",
    "    ax[0,0].set_title('Scree Plot - Variância total')\n",
    "    ax[0,0].set_xlabel('Número de componentes')\n",
    "    ax[0,0].set_ylabel('Variancia explicada (Autovalores)')\n",
    "\n",
    "    ax[1,0].plot(num_componentes, princomp.explained_variance_.cumsum(), 'o-', linewidth=2, color='blue', markersize=2, alpha=.2)\n",
    "    ax[1,0].set_xlabel('Número de componentes')\n",
    "    ax[1,0].set_ylabel('Variancia explicada (Acumulada)')\n",
    "\n",
    "\n",
    "    ax[0,1].plot(num_componentes, princomp.explained_variance_ratio_, 'o-', linewidth=2, color='blue', markersize=2, alpha=.2)\n",
    "    ax[0,1].set_title('Scree Plot - Variância percentual')\n",
    "    ax[0,1].set_xlabel('Número de componentes')\n",
    "    ax[0,1].set_ylabel('Variancia explicada (percentual)')\n",
    "\n",
    "    ax[1,1].plot(num_componentes, princomp.explained_variance_ratio_.cumsum(), 'o-', linewidth=2, color='blue', markersize=2, alpha=.2)\n",
    "    ax[1,1].set_xlabel('Número de componentes')\n",
    "    ax[1,1].set_ylabel('Variancia explicada (% Acumulado)')\n",
    "    \n",
    "    if ncomp_crit != None:\n",
    "        # Linhas verticais de referência\n",
    "        ax[0,0].axvline(x = ncomp_crit, color = 'r', linestyle = '-', linewidth=.5)\n",
    "        ax[1,1].axvline(x = ncomp_crit, color = 'r', linestyle = '-', linewidth=.5)\n",
    "        ax[1,0].axvline(x = ncomp_crit, color = 'r', linestyle = '-', linewidth=.5)\n",
    "        ax[0,1].axvline(x = ncomp_crit, color = 'r', linestyle = '-', linewidth=.5)\n",
    "\n",
    "\n",
    "        # linhas horizontais\n",
    "        variancia               = princomp.explained_variance_[ncomp_crit-1]\n",
    "        variancia_acumulada     = princomp.explained_variance_.cumsum()[ncomp_crit-1]\n",
    "        pct_variancia           = princomp.explained_variance_ratio_[ncomp_crit-1]\n",
    "        pct_variancia_acumulada = princomp.explained_variance_ratio_.cumsum()[ncomp_crit-1]\n",
    "        \n",
    "        ax[0,0].axhline(y = variancia              , color = 'r', linestyle = '-', linewidth=.5)\n",
    "        ax[1,0].axhline(y = variancia_acumulada    , color = 'r', linestyle = '-', linewidth=.5)\n",
    "        ax[0,1].axhline(y = pct_variancia          , color = 'r', linestyle = '-', linewidth=.5)\n",
    "        ax[1,1].axhline(y = pct_variancia_acumulada, color = 'r', linestyle = '-', linewidth=.5)\n",
    "\n",
    "\n",
    "    print(f'Número de componentes:............... {ncomp_crit}')\n",
    "    print(f'Variância da ultima CP:.............. {variancia:.2f}' )\n",
    "    print(f'Variância total explicada:........... {variancia_acumulada:.2f}' )\n",
    "    print(f'Variância percentual da última CP:... {100*pct_variancia:.2f}%' )\n",
    "    print(f'Variância percentual total explicada: {100*pct_variancia_acumulada:.2f}%' )\n",
    "    plt.show()\n",
    "    return ncomp_crit"
   ]
  },
  {
   "cell_type": "code",
   "execution_count": 294,
   "metadata": {},
   "outputs": [
    {
     "name": "stdout",
     "output_type": "stream",
     "text": [
      "Número de componentes:............... 44\n",
      "Variância da ultima CP:.............. 13652.82\n",
      "Variância total explicada:........... 2754084.42\n",
      "Variância percentual da última CP:... 0.40%\n",
      "Variância percentual total explicada: 80.33%\n"
     ]
    },
    {
     "data": {
      "image/png": "[encoded data removed]",
      "text/plain": [
       "<Figure size 1008x576 with 4 Axes>"
      ]
     },
     "metadata": {
      "needs_background": "light"
     },
     "output_type": "display_data"
    }
   ],
   "source": [
    "# prcomp = PCA().fit(X_tra)\n",
    "ncomp = screeplot(prcomp, varexplicada=.80)"
   ]
  },
  {
   "cell_type": "code",
   "execution_count": 295,
   "metadata": {},
   "outputs": [
    {
     "name": "stdout",
     "output_type": "stream",
     "text": [
      "CPU times: user 9.55 s, sys: 887 ms, total: 10.4 s\n",
      "Wall time: 3.67 s\n"
     ]
    }
   ],
   "source": [
    "%%time\n",
    "prcomp = PCA(n_components = ncomp).fit(X_tra)\n",
    "\n",
    "cp_tr = prcomp.transform(X_tra)\n",
    "cp_ts = prcomp.transform(X_tst)"
   ]
  },
  {
   "cell_type": "markdown",
   "metadata": {},
   "source": [
    "### Análise descritiva das componentes\n",
    "\n",
    "Será que conseguimos uma boa discriminação utilizando as componentes principais? Vamos dar uma olhada na distribuição da primeira componente para cada dígito."
   ]
  },
  {
   "cell_type": "code",
   "execution_count": 296,
   "metadata": {},
   "outputs": [
    {
     "data": {
      "text/plain": [
       "<AxesSubplot:>"
      ]
     },
     "execution_count": 296,
     "metadata": {},
     "output_type": "execute_result"
    },
    {
     "data": {
      "image/png": "[encoded data removed]",
      "text/plain": [
       "<Figure size 432x288 with 1 Axes>"
      ]
     },
     "metadata": {
      "needs_background": "light"
     },
     "output_type": "display_data"
    }
   ],
   "source": [
    "sns.boxplot(x=y_train, y=cp_tr[:,0])"
   ]
  },
  {
   "cell_type": "markdown",
   "metadata": {},
   "source": [
    "### Construindo o modelo (com PCA)\n",
    "\n",
    "Vamos fazer uma árvore com estas componentes principais."
   ]
  },
  {
   "cell_type": "code",
   "execution_count": 297,
   "metadata": {},
   "outputs": [
    {
     "data": {
      "text/plain": [
       "(60000, 44)"
      ]
     },
     "execution_count": 297,
     "metadata": {},
     "output_type": "execute_result"
    }
   ],
   "source": [
    "cp_tr.shape"
   ]
  },
  {
   "cell_type": "code",
   "execution_count": 298,
   "metadata": {},
   "outputs": [
    {
     "name": "stdout",
     "output_type": "stream",
     "text": [
      "CPU times: user 54.2 s, sys: 1.11 s, total: 55.3 s\n",
      "Wall time: 58.1 s\n"
     ]
    },
    {
     "data": {
      "text/plain": [
       "RandomForestClassifier()"
      ]
     },
     "execution_count": 298,
     "metadata": {},
     "output_type": "execute_result"
    }
   ],
   "source": [
    "%%time\n",
    "\n",
    "# Definir a Random Forest\n",
    "clf=RandomForestClassifier(n_estimators=100)\n",
    "\n",
    "# Treinar o modelo na base de testes\n",
    "clf.fit(cp_tr,y_train)"
   ]
  },
  {
   "cell_type": "markdown",
   "metadata": {},
   "source": [
    "### Avaliando a acurácia do modelo com PCA\n",
    "\n",
    "Vamos avaliar a acurácia com o protocolo de sempre.\n",
    "\n",
    "Dado o ganho de velocidade, talvez fosse aceitável alguma perda de acurácia. Vamos ver..."
   ]
  },
  {
   "cell_type": "code",
   "execution_count": 299,
   "metadata": {},
   "outputs": [
    {
     "name": "stdout",
     "output_type": "stream",
     "text": [
      "A acurácia na base de testes é: 0.9519\n"
     ]
    },
    {
     "data": {
      "image/png": "[encoded data removed]",
      "text/plain": [
       "<Figure size 432x288 with 2 Axes>"
      ]
     },
     "metadata": {
      "needs_background": "light"
     },
     "output_type": "display_data"
    }
   ],
   "source": [
    "y_pred=clf.predict(cp_ts)\n",
    "print(f'A acurácia na base de testes é: {accuracy_score(y_pred, y_test)}')\n",
    "plot_confusion_matrix(clf, cp_ts, y_test);"
   ]
  },
  {
   "cell_type": "markdown",
   "metadata": {},
   "source": [
    "### Avaliar a correlação das componentes com os pixels"
   ]
  },
  {
   "cell_type": "code",
   "execution_count": 300,
   "metadata": {},
   "outputs": [
    {
     "data": {
      "text/plain": [
       "<matplotlib.image.AxesImage at 0x7fb457421310>"
      ]
     },
     "execution_count": 300,
     "metadata": {},
     "output_type": "execute_result"
    },
    {
     "data": {
      "image/png": "[encoded data removed]",
      "text/plain": [
       "<Figure size 432x288 with 1 Axes>"
      ]
     },
     "metadata": {
      "needs_background": "light"
     },
     "output_type": "display_data"
    }
   ],
   "source": [
    "plt.imshow(X_tra[0].reshape([28,28]), cmap=plt.get_cmap('gray'))"
   ]
  },
  {
   "cell_type": "code",
   "execution_count": 301,
   "metadata": {},
   "outputs": [],
   "source": [
    "X_trcp = pd.concat([pd.DataFrame(cp_tr), pd.DataFrame(X_tra)], axis=1)"
   ]
  },
  {
   "cell_type": "code",
   "execution_count": 302,
   "metadata": {},
   "outputs": [
    {
     "data": {
      "text/plain": [
       "(818, 10)"
      ]
     },
     "execution_count": 302,
     "metadata": {},
     "output_type": "execute_result"
    }
   ],
   "source": [
    "cor_cp = X_trcp.corr().iloc[10:, :10].to_numpy()\n",
    "cor_cp.shape\n"
   ]
  },
  {
   "cell_type": "code",
   "execution_count": 307,
   "metadata": {
    "scrolled": true
   },
   "outputs": [
    {
     "data": {
      "text/plain": [
       "<matplotlib.image.AxesImage at 0x7fb416c6e4f0>"
      ]
     },
     "execution_count": 307,
     "metadata": {},
     "output_type": "execute_result"
    },
    {
     "data": {
      "image/png": "[encoded data removed]",
      "text/plain": [
       "<Figure size 432x288 with 1 Axes>"
      ]
     },
     "metadata": {
      "needs_background": "light"
     },
     "output_type": "display_data"
    }
   ],
   "source": [
    "plt.imshow(cor_cp[34:,3].reshape(28,28))"
   ]
  },
  {
   "cell_type": "code",
   "execution_count": null,
   "metadata": {},
   "outputs": [],
   "source": [
    "cor_cp[34:,4].shape"
   ]
  },
  {
   "cell_type": "code",
   "execution_count": null,
   "metadata": {},
   "outputs": [],
   "source": [
    "28*28"
   ]
  },
  {
   "cell_type": "code",
   "execution_count": null,
   "metadata": {},
   "outputs": [],
   "source": [
    "X_trcp.shape"
   ]
  },
  {
   "cell_type": "code",
   "execution_count": null,
   "metadata": {},
   "outputs": [],
   "source": []
  }
 ],
 "metadata": {
  "kernelspec": {
   "display_name": "Python 3 (ipykernel)",
   "language": "python",
   "name": "python3"
  },
  "language_info": {
   "codemirror_mode": {
    "name": "ipython",
    "version": 3
   },
   "file_extension": ".py",
   "mimetype": "text/x-python",
   "name": "python",
   "nbconvert_exporter": "python",
   "pygments_lexer": "ipython3",
   "version": "3.11.5"
  },
  "toc": {
   "base_numbering": 1,
   "nav_menu": {},
   "number_sections": true,
   "sideBar": true,
   "skip_h1_title": true,
   "title_cell": "Índice",
   "title_sidebar": "Conteúdo",
   "toc_cell": true,
   "toc_position": {
    "height": "calc(100% - 180px)",
    "left": "10px",
    "top": "150px",
    "width": "320px"
   },
   "toc_section_display": true,
   "toc_window_display": false
  },
  "varInspector": {
   "cols": {
    "lenName": 16,
    "lenType": 16,
    "lenVar": 40
   },
   "kernels_config": {
    "python": {
     "delete_cmd_postfix": "",
     "delete_cmd_prefix": "del ",
     "library": "var_list.py",
     "varRefreshCmd": "print(var_dic_list())"
    },
    "r": {
     "delete_cmd_postfix": ") ",
     "delete_cmd_prefix": "rm(",
     "library": "var_list.r",
     "varRefreshCmd": "cat(var_dic_list()) "
    }
   },
   "types_to_exclude": [
    "module",
    "function",
    "builtin_function_or_method",
    "instance",
    "_Feature"
   ],
   "window_display": false
  }
 },
 "nbformat": 4,
 "nbformat_minor": 4
}
