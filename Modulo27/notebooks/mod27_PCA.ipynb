{
 "cells": [
  {
   "cell_type": "markdown",
   "metadata": {},
   "source": [
    "![Cabec%CC%A7alho_notebook.png](cabecalho_notebook.png)"
   ]
  },
  {
   "cell_type": "markdown",
   "metadata": {},
   "source": [
    "# Análise de Componentes Principais"
   ]
  },
  {
   "cell_type": "markdown",
   "metadata": {
    "toc": true
   },
   "source": [
    "<h1>Índice<span class=\"tocSkip\"></span></h1>\n",
    "<div class=\"toc\"><ul class=\"toc-item\"><li><span><a href=\"#Como-usa?\" data-toc-modified-id=\"Como-usa?-1\"><span class=\"toc-item-num\">1&nbsp;&nbsp;</span>Como usa?</a></span><ul class=\"toc-item\"><li><span><a href=\"#Carregando-as-bases\" data-toc-modified-id=\"Carregando-as-bases-1.1\"><span class=\"toc-item-num\">1.1&nbsp;&nbsp;</span>Carregando as bases</a></span></li><li><span><a href=\"#Dividindo-a-base-em-Treino,-Validação-e-Teste\" data-toc-modified-id=\"Dividindo-a-base-em-Treino,-Validação-e-Teste-1.2\"><span class=\"toc-item-num\">1.2&nbsp;&nbsp;</span>Dividindo a base em Treino, Validação e Teste</a></span></li><li><span><a href=\"#Treinando-a-árvore\" data-toc-modified-id=\"Treinando-a-árvore-1.3\"><span class=\"toc-item-num\">1.3&nbsp;&nbsp;</span>Treinando a árvore</a></span></li><li><span><a href=\"#Construindo-o-modelo-com-PCA\" data-toc-modified-id=\"Construindo-o-modelo-com-PCA-1.4\"><span class=\"toc-item-num\">1.4&nbsp;&nbsp;</span>Construindo o modelo com PCA</a></span></li><li><span><a href=\"#Treinando-o-modelo\" data-toc-modified-id=\"Treinando-o-modelo-1.5\"><span class=\"toc-item-num\">1.5&nbsp;&nbsp;</span>Treinando o modelo</a></span></li><li><span><a href=\"#Avaliando-a-acurácia-do-modelo\" data-toc-modified-id=\"Avaliando-a-acurácia-do-modelo-1.6\"><span class=\"toc-item-num\">1.6&nbsp;&nbsp;</span>Avaliando a acurácia do modelo</a></span></li></ul></li><li><span><a href=\"#Matéria-prima\" data-toc-modified-id=\"Matéria-prima-2\"><span class=\"toc-item-num\">2&nbsp;&nbsp;</span>Matéria-prima</a></span><ul class=\"toc-item\"><li><span><a href=\"#Variância\" data-toc-modified-id=\"Variância-2.1\"><span class=\"toc-item-num\">2.1&nbsp;&nbsp;</span>Variância</a></span></li><li><span><a href=\"#Desvio-padrão\" data-toc-modified-id=\"Desvio-padrão-2.2\"><span class=\"toc-item-num\">2.2&nbsp;&nbsp;</span>Desvio padrão</a></span></li><li><span><a href=\"#Covariância\" data-toc-modified-id=\"Covariância-2.3\"><span class=\"toc-item-num\">2.3&nbsp;&nbsp;</span>Covariância</a></span></li><li><span><a href=\"#Correlação\" data-toc-modified-id=\"Correlação-2.4\"><span class=\"toc-item-num\">2.4&nbsp;&nbsp;</span>Correlação</a></span></li><li><span><a href=\"#Matriz-de-covariância\" data-toc-modified-id=\"Matriz-de-covariância-2.5\"><span class=\"toc-item-num\">2.5&nbsp;&nbsp;</span>Matriz de covariância</a></span></li><li><span><a href=\"#Matriz-de-correlação\" data-toc-modified-id=\"Matriz-de-correlação-2.6\"><span class=\"toc-item-num\">2.6&nbsp;&nbsp;</span>Matriz de correlação</a></span></li></ul></li><li><span><a href=\"#Ilustração-geométrica\" data-toc-modified-id=\"Ilustração-geométrica-3\"><span class=\"toc-item-num\">3&nbsp;&nbsp;</span>Ilustração geométrica</a></span><ul class=\"toc-item\"><li><span><a href=\"#Carregando-os-dados\" data-toc-modified-id=\"Carregando-os-dados-3.1\"><span class=\"toc-item-num\">3.1&nbsp;&nbsp;</span>Carregando os dados</a></span></li><li><span><a href=\"#Ilustração-em-2D\" data-toc-modified-id=\"Ilustração-em-2D-3.2\"><span class=\"toc-item-num\">3.2&nbsp;&nbsp;</span>Ilustração em 2D</a></span></li><li><span><a href=\"#Transoformações-lineares\" data-toc-modified-id=\"Transoformações-lineares-3.3\"><span class=\"toc-item-num\">3.3&nbsp;&nbsp;</span>Transoformações lineares</a></span></li><li><span><a href=\"#Scatterplot-2D-com-autovetores\" data-toc-modified-id=\"Scatterplot-2D-com-autovetores-3.4\"><span class=\"toc-item-num\">3.4&nbsp;&nbsp;</span>Scatterplot 2D com autovetores</a></span></li><li><span><a href=\"#Explorando-a-PCA-com-o-Scikitlearn\" data-toc-modified-id=\"Explorando-a-PCA-com-o-Scikitlearn-3.5\"><span class=\"toc-item-num\">3.5&nbsp;&nbsp;</span>Explorando a PCA com o Scikitlearn</a></span></li></ul></li><li><span><a href=\"#Autovetores-e-autovalores\" data-toc-modified-id=\"Autovetores-e-autovalores-4\"><span class=\"toc-item-num\">4&nbsp;&nbsp;</span>Autovetores e autovalores</a></span></li><li><span><a href=\"#Quantas-componentes-principais-utilizar?\" data-toc-modified-id=\"Quantas-componentes-principais-utilizar?-5\"><span class=\"toc-item-num\">5&nbsp;&nbsp;</span>Quantas componentes principais utilizar?</a></span><ul class=\"toc-item\"><li><span><a href=\"#Gráficos-básicos\" data-toc-modified-id=\"Gráficos-básicos-5.1\"><span class=\"toc-item-num\">5.1&nbsp;&nbsp;</span>Gráficos básicos</a></span></li><li><span><a href=\"#Critério-1---autovalor->-1\" data-toc-modified-id=\"Critério-1---autovalor->-1-5.2\"><span class=\"toc-item-num\">5.2&nbsp;&nbsp;</span>Critério 1 - autovalor &gt; 1</a></span></li><li><span><a href=\"#Critério-2---screeplot-ou-critério-do-cotovelo\" data-toc-modified-id=\"Critério-2---screeplot-ou-critério-do-cotovelo-5.3\"><span class=\"toc-item-num\">5.3&nbsp;&nbsp;</span>Critério 2 - <em>screeplot</em> ou critério do cotovelo</a></span></li><li><span><a href=\"#Critéiro-3:-Variância-explicada->-x\" data-toc-modified-id=\"Critéiro-3:-Variância-explicada->-x-5.4\"><span class=\"toc-item-num\">5.4&nbsp;&nbsp;</span>Critéiro 3: Variância explicada &gt; x</a></span></li></ul></li><li><span><a href=\"#Reconhecimento-de-escrita-manual\" data-toc-modified-id=\"Reconhecimento-de-escrita-manual-6\"><span class=\"toc-item-num\">6&nbsp;&nbsp;</span>Reconhecimento de escrita manual</a></span><ul class=\"toc-item\"><li><span><a href=\"#Carregando-od-dados\" data-toc-modified-id=\"Carregando-od-dados-6.1\"><span class=\"toc-item-num\">6.1&nbsp;&nbsp;</span>Carregando od dados</a></span></li><li><span><a href=\"#Análise-Exploratória\" data-toc-modified-id=\"Análise-Exploratória-6.2\"><span class=\"toc-item-num\">6.2&nbsp;&nbsp;</span>Análise Exploratória</a></span></li><li><span><a href=\"#Tratamento-dos-dados\" data-toc-modified-id=\"Tratamento-dos-dados-6.3\"><span class=\"toc-item-num\">6.3&nbsp;&nbsp;</span>Tratamento dos dados</a></span></li><li><span><a href=\"#Construindo-o-modelo\" data-toc-modified-id=\"Construindo-o-modelo-6.4\"><span class=\"toc-item-num\">6.4&nbsp;&nbsp;</span>Construindo o modelo</a></span></li><li><span><a href=\"#Acurácia-do-modelo\" data-toc-modified-id=\"Acurácia-do-modelo-6.5\"><span class=\"toc-item-num\">6.5&nbsp;&nbsp;</span>Acurácia do modelo</a></span></li><li><span><a href=\"#Mesma-estrutura,-com-PCA\" data-toc-modified-id=\"Mesma-estrutura,-com-PCA-6.6\"><span class=\"toc-item-num\">6.6&nbsp;&nbsp;</span>Mesma estrutura, com PCA</a></span></li><li><span><a href=\"#Análise-descritiva-das-componentes\" data-toc-modified-id=\"Análise-descritiva-das-componentes-6.7\"><span class=\"toc-item-num\">6.7&nbsp;&nbsp;</span>Análise descritiva das componentes</a></span></li><li><span><a href=\"#Construindo-o-modelo-(com-PCA)\" data-toc-modified-id=\"Construindo-o-modelo-(com-PCA)-6.8\"><span class=\"toc-item-num\">6.8&nbsp;&nbsp;</span>Construindo o modelo (com PCA)</a></span></li><li><span><a href=\"#Avaliando-a-acurácia-do-modelo-com-PCA\" data-toc-modified-id=\"Avaliando-a-acurácia-do-modelo-com-PCA-6.9\"><span class=\"toc-item-num\">6.9&nbsp;&nbsp;</span>Avaliando a acurácia do modelo com PCA</a></span></li><li><span><a href=\"#Avaliar-a-correlação-das-componentes-com-os-pixels\" data-toc-modified-id=\"Avaliar-a-correlação-das-componentes-com-os-pixels-6.10\"><span class=\"toc-item-num\">6.10&nbsp;&nbsp;</span>Avaliar a correlação das componentes com os pixels</a></span></li></ul></li></ul></div>"
   ]
  },
  {
   "cell_type": "markdown",
   "metadata": {},
   "source": [
    "# Componentes Principais\n",
    "\n",
    "Essta aula está organizada da seguinde forma:\n",
    "\n",
    "- Vamos ver um caso objetivo de uso de componentes principais na base HAR\n",
    "- Vamos revisitar os conceitos básicos e pré-requisitos\n",
    "- Vamos discutir a interpretação gráfica da técnica\n",
    "- Vamos fazer um caso de uso mais profundo na base MNIST (escrita manual)\n",
    "\n",
    "Primeiramente, vamos carregar as bibliotecas que vamos usar."
   ]
  },
  {
   "cell_type": "code",
   "execution_count": 1,
   "metadata": {},
   "outputs": [
    {
     "name": "stdout",
     "output_type": "stream",
     "text": [
      "Python implementation: CPython\n",
      "Python version       : 3.11.5\n",
      "IPython version      : 8.15.0\n",
      "\n",
      "matplotlib: 3.7.2\n",
      "numpy     : 1.24.3\n",
      "pandas    : 2.0.3\n",
      "seaborn   : 0.12.2\n",
      "\n"
     ]
    }
   ],
   "source": [
    "import numpy as np\n",
    "import pandas as pd\n",
    "import matplotlib.pyplot as plt\n",
    "import seaborn as sns\n",
    "\n",
    "from sklearn.tree import DecisionTreeClassifier\n",
    "\n",
    "from sklearn.decomposition import PCA\n",
    "from sklearn.tree import DecisionTreeClassifier\n",
    "from sklearn.metrics import accuracy_score\n",
    "from sklearn.ensemble import RandomForestClassifier\n",
    "from sklearn.metrics import ConfusionMatrixDisplay\n",
    "from sklearn.metrics import confusion_matrix\n",
    "from sklearn.model_selection import train_test_split\n",
    "\n",
    "%reload_ext watermark\n",
    "%watermark --iversions --python"
   ]
  },
  {
   "cell_type": "markdown",
   "metadata": {},
   "source": [
    "## Como usa?\n",
    "\n",
    "Primeiramente, vamos ver como usa o algoritmo de componentes principais de uma forma bem pragmática, retomando o problema de classificação de atividade humana por dados de acelerômetro e giroscópio de celular na base [HAR](). Já discutimos essa base quando falamos de árvores de classificação multinomial.\n",
    "\n",
    "O contexto é o seguinte: esta base começa a ter um tamanho razoável para um hardware de computador pessoal: ela possui 7000 registros na base de treinamento e 3000 registros na base de testes, cada uma contendo 561 variáveis. Dessa forma, o processamento de um algoritmo nessa base pode levar um tempo razoável se considerarmos todas as variáveis - ainda considerando os diversos ajustes no algoritmo e uma eventual validação cruzada.\n",
    "\n",
    "Assim, se quisermos ganhar agilidade, uma boa ideia é fazer redução de dimensionalidade - ou seja, trabalhar com um número menor de variáveis, com a menor perda de informação possível. Digamos que queremos limitar o nosso algoritmo a apenas 3 variáveis - é claro que vamos perder a informação das demais, mas será que não podemos minimizar essa perda construindo 3 novas variáveis através de combinações das 561? \n",
    "\n",
    "Em poucas linhas, é esse o uso mais frequente da análise de componentes principais (PCA para *principal component analysis*): ela fornece novas variáveis chamadas de componentes principais, que são combinações lineares das 561 variáveis, e podem ser utilizadas em menor número de modo a minimizar a perda de informação. A técnica se baseia em álgebra linear, mas no momento vamos nos focar no uso, depois falamos um pouco sobre a mecânica."
   ]
  },
  {
   "cell_type": "markdown",
   "metadata": {},
   "source": [
    "### Carregando as bases\n",
    "\n",
    "Neste exemplo vamos trabalhar com a base de reconhecimento de atividade humana, disponível no UCI - já trabalhamos com ela no módulo de árvores de classificação multinomial."
   ]
  },
  {
   "cell_type": "code",
   "execution_count": 2,
   "metadata": {},
   "outputs": [],
   "source": [
    "filename_features = \"./Dados/UCI HAR Dataset/features.txt\"\n",
    "filename_labels = \"./Dados/UCI HAR Dataset/activity_labels.txt\"\n",
    "\n",
    "filename_subtrain = \"./Dados/UCI HAR Dataset/train/subject_train.txt\"\n",
    "filename_xtrain = \"./Dados/UCI HAR Dataset/train/X_train.txt\"\n",
    "filename_ytrain = \"./Dados/UCI HAR Dataset/train/y_train.txt\"\n",
    "\n",
    "filename_subtest = \"./Dados/UCI HAR Dataset/test/subject_test.txt\"\n",
    "ffilename_xtest = \"./Dados/UCI HAR Dataset/test/X_test.txt\"\n",
    "filename_ytest = \"./Dados/UCI HAR Dataset/test/y_test.txt\"\n",
    "\n",
    "features = pd.read_csv(filename_features, header=None, names=['nome_var'], sep=\"#\")\n",
    "labels = pd.read_csv(filename_labels, delim_whitespace=True, header=None, names=['cod_label', 'label'])\n",
    "\n",
    "subject_train = pd.read_csv(filename_subtrain, header=None, names=['subject_id'])\n",
    "X_train = pd.read_csv(filename_xtrain, delim_whitespace=True, header=None, names=features.nome_var)\n",
    "y_train = pd.read_csv(filename_ytrain, header=None, names=['cod_label'])\n",
    "\n",
    "subject_test = pd.read_csv(filename_subtest, header=None, names=['subject_id'])\n",
    "X_test = pd.read_csv(ffilename_xtest, delim_whitespace=True, header=None, names=features.nome_var)\n",
    "y_test = pd.read_csv(filename_ytest, header=None, names=['cod_label'])"
   ]
  },
  {
   "cell_type": "markdown",
   "metadata": {},
   "source": [
    "### Dividindo a base em Treino, Validação e Teste\n",
    "\n",
    "A base original vem dividdida em treino e testes. Vamos dividir a base de treino em Treino e Validação, para podermos fazer o *post-prunning* da nossa árvore - e avaliar o modelo final em uma base de testes isenta."
   ]
  },
  {
   "cell_type": "code",
   "execution_count": 3,
   "metadata": {},
   "outputs": [],
   "source": [
    "X_train, X_valid, y_train, y_valid = train_test_split(X_train, y_train)"
   ]
  },
  {
   "cell_type": "markdown",
   "metadata": {},
   "source": [
    "### Treinando a árvore\n",
    "\n",
    "Vamos seguir o protocolo padrão da nossa árvore, fazendo o post-prunning dela na base de testes utilizando o *complexity cost path* para realizar essa poda."
   ]
  },
  {
   "cell_type": "code",
   "execution_count": 4,
   "metadata": {},
   "outputs": [
    {
     "name": "stdout",
     "output_type": "stream",
     "text": [
      "CPU times: total: 2min 37s\n",
      "Wall time: 5min 57s\n"
     ]
    }
   ],
   "source": [
    "%%time\n",
    "\n",
    "clf = DecisionTreeClassifier(random_state=1234).fit(X_train, y_train)\n",
    "caminho = DecisionTreeClassifier(random_state=2360873, min_samples_leaf=20).cost_complexity_pruning_path(X_train, y_train)\n",
    "ccp_alphas, impurities = caminho.ccp_alphas, caminho.impurities\n",
    "\n",
    "ccp_alphas = np.unique(ccp_alphas[ccp_alphas>=0])\n",
    "\n",
    "clfs = []\n",
    "for ccp_alpha in ccp_alphas:\n",
    "    clf = DecisionTreeClassifier(random_state=2360873, ccp_alpha=ccp_alpha).fit(X_train, y_train)\n",
    "    clfs.append(clf)"
   ]
  },
  {
   "cell_type": "code",
   "execution_count": 5,
   "metadata": {},
   "outputs": [
    {
     "data": {
      "image/png": "[encoded data removed]",
      "text/plain": [
       "<Figure size 640x480 with 1 Axes>"
      ]
     },
     "metadata": {},
     "output_type": "display_data"
    }
   ],
   "source": [
    "train_scores = [clf.score(X_train, y_train) for clf in clfs]\n",
    "valid_scores = [clf.score(X_valid, y_valid) for clf in clfs]\n",
    "\n",
    "fig, ax = plt.subplots()\n",
    "ax.set_xlabel(\"alpha\")\n",
    "ax.set_ylabel(\"Acurácia\")\n",
    "ax.set_title(\"Acurácia x alpha do conjunto de dados de treino e validação\")\n",
    "ax.plot(ccp_alphas, train_scores, marker='o', label=\"treino\", drawstyle=\"steps-post\")\n",
    "ax.plot(ccp_alphas, valid_scores, marker='o', label=\"validação\", drawstyle=\"steps-post\")\n",
    "ax.legend()\n",
    "plt.show()"
   ]
  },
  {
   "cell_type": "code",
   "execution_count": 6,
   "metadata": {},
   "outputs": [
    {
     "name": "stdout",
     "output_type": "stream",
     "text": [
      "Acurácia da melhor árvore na base de treino:    98.9\n",
      "Acurácia da melhor árvore na base de validação: 86.8\n",
      "Acurácia da melhor árvore na base de teste:     86.8\n"
     ]
    }
   ],
   "source": [
    "ind_melhor_arvore = len(valid_scores) - valid_scores[::-1].index(max(valid_scores)) - 1\n",
    "melhor_arvore = clfs[ind_melhor_arvore]\n",
    "\n",
    "acc_train = train_scores[ind_melhor_arvore]\n",
    "acc_valid = valid_scores[ind_melhor_arvore]\n",
    "acc_teste = melhor_arvore.score(X_test, y_test)\n",
    "\n",
    "print(f'Acurácia da melhor árvore na base de treino:    {acc_train*100:.1f}')\n",
    "print(f'Acurácia da melhor árvore na base de validação: {acc_teste*100:.1f}')\n",
    "print(f'Acurácia da melhor árvore na base de teste:     {acc_teste*100:.1f}')"
   ]
  },
  {
   "cell_type": "markdown",
   "metadata": {},
   "source": [
    "### Construindo o modelo com PCA\n",
    "\n",
    "Agora, vamos utilizar as 3 primeiras componentes principais - são aquelas que mais trazem informação do nosso banco de dados. Vamos calcular essas componentes para as 3 bases: treinamento, validação e teste. Vamos então conduzir o mesmo protocolo, com apenas 3 variáveis, mas agora com as componentes principais."
   ]
  },
  {
   "cell_type": "code",
   "execution_count": 27,
   "metadata": {},
   "outputs": [
    {
     "name": "stdout",
     "output_type": "stream",
     "text": [
      "CPU times: total: 109 ms\n",
      "Wall time: 214 ms\n"
     ]
    },
    {
     "data": {
      "text/plain": [
       "(5514, 60)"
      ]
     },
     "execution_count": 27,
     "metadata": {},
     "output_type": "execute_result"
    }
   ],
   "source": [
    "%%time\n",
    "prcomp = PCA(n_components=60).fit(X_train)\n",
    "\n",
    "pc_treino = prcomp.transform(X_train)\n",
    "pc_valida = prcomp.transform(X_valid)\n",
    "pc_teste  = prcomp.transform(X_test)\n",
    "\n",
    "pc_treino.shape"
   ]
  },
  {
   "cell_type": "markdown",
   "metadata": {},
   "source": [
    "Vamos agora selecionar somente as ```n``` primeiras componentes principais. Vamos começar com ```n=3```. Vamos jogá-las em um dataframe (somente porque é uma estrutura mais familiar)."
   ]
  },
  {
   "cell_type": "code",
   "execution_count": 28,
   "metadata": {},
   "outputs": [
    {
     "data": {
      "text/html": [
       "<div>\n",
       "<style scoped>\n",
       "    .dataframe tbody tr th:only-of-type {\n",
       "        vertical-align: middle;\n",
       "    }\n",
       "\n",
       "    .dataframe tbody tr th {\n",
       "        vertical-align: top;\n",
       "    }\n",
       "\n",
       "    .dataframe thead th {\n",
       "        text-align: right;\n",
       "    }\n",
       "</style>\n",
       "<table border=\"1\" class=\"dataframe\">\n",
       "  <thead>\n",
       "    <tr style=\"text-align: right;\">\n",
       "      <th></th>\n",
       "      <th>cp1</th>\n",
       "      <th>cp2</th>\n",
       "      <th>cp3</th>\n",
       "      <th>cp4</th>\n",
       "      <th>cp5</th>\n",
       "      <th>cp6</th>\n",
       "      <th>cp7</th>\n",
       "      <th>cp8</th>\n",
       "      <th>cp9</th>\n",
       "      <th>cp10</th>\n",
       "      <th>...</th>\n",
       "      <th>cp51</th>\n",
       "      <th>cp52</th>\n",
       "      <th>cp53</th>\n",
       "      <th>cp54</th>\n",
       "      <th>cp55</th>\n",
       "      <th>cp56</th>\n",
       "      <th>cp57</th>\n",
       "      <th>cp58</th>\n",
       "      <th>cp59</th>\n",
       "      <th>cp60</th>\n",
       "    </tr>\n",
       "  </thead>\n",
       "  <tbody>\n",
       "    <tr>\n",
       "      <th>0</th>\n",
       "      <td>-5.594370</td>\n",
       "      <td>-0.098181</td>\n",
       "      <td>-1.612320</td>\n",
       "      <td>0.769324</td>\n",
       "      <td>0.241614</td>\n",
       "      <td>-0.144871</td>\n",
       "      <td>-0.563621</td>\n",
       "      <td>0.371844</td>\n",
       "      <td>-0.179646</td>\n",
       "      <td>-0.891235</td>\n",
       "      <td>...</td>\n",
       "      <td>-0.330760</td>\n",
       "      <td>-0.187349</td>\n",
       "      <td>-0.245808</td>\n",
       "      <td>0.358611</td>\n",
       "      <td>-0.189287</td>\n",
       "      <td>-0.013106</td>\n",
       "      <td>0.002116</td>\n",
       "      <td>-0.065826</td>\n",
       "      <td>0.156352</td>\n",
       "      <td>-0.064085</td>\n",
       "    </tr>\n",
       "    <tr>\n",
       "      <th>1</th>\n",
       "      <td>-1.815324</td>\n",
       "      <td>-2.381530</td>\n",
       "      <td>-0.747115</td>\n",
       "      <td>1.053912</td>\n",
       "      <td>0.163226</td>\n",
       "      <td>-0.384296</td>\n",
       "      <td>1.859621</td>\n",
       "      <td>1.297292</td>\n",
       "      <td>-0.516375</td>\n",
       "      <td>-0.325283</td>\n",
       "      <td>...</td>\n",
       "      <td>0.210715</td>\n",
       "      <td>-0.416132</td>\n",
       "      <td>0.307055</td>\n",
       "      <td>-0.527017</td>\n",
       "      <td>0.014011</td>\n",
       "      <td>0.085276</td>\n",
       "      <td>-0.276104</td>\n",
       "      <td>0.254803</td>\n",
       "      <td>0.343195</td>\n",
       "      <td>-0.213330</td>\n",
       "    </tr>\n",
       "    <tr>\n",
       "      <th>2</th>\n",
       "      <td>-6.274700</td>\n",
       "      <td>3.390886</td>\n",
       "      <td>1.888122</td>\n",
       "      <td>-0.835046</td>\n",
       "      <td>-1.034804</td>\n",
       "      <td>-0.531854</td>\n",
       "      <td>0.686732</td>\n",
       "      <td>-1.038660</td>\n",
       "      <td>-0.300398</td>\n",
       "      <td>0.645300</td>\n",
       "      <td>...</td>\n",
       "      <td>0.208734</td>\n",
       "      <td>-0.109927</td>\n",
       "      <td>-0.157900</td>\n",
       "      <td>-0.023367</td>\n",
       "      <td>0.204882</td>\n",
       "      <td>0.040915</td>\n",
       "      <td>-0.524140</td>\n",
       "      <td>-0.243783</td>\n",
       "      <td>-0.063283</td>\n",
       "      <td>-0.037632</td>\n",
       "    </tr>\n",
       "    <tr>\n",
       "      <th>3</th>\n",
       "      <td>-5.455503</td>\n",
       "      <td>1.190142</td>\n",
       "      <td>-2.298590</td>\n",
       "      <td>-0.195526</td>\n",
       "      <td>-0.282059</td>\n",
       "      <td>-0.705488</td>\n",
       "      <td>-0.233156</td>\n",
       "      <td>0.354867</td>\n",
       "      <td>0.702703</td>\n",
       "      <td>-0.180644</td>\n",
       "      <td>...</td>\n",
       "      <td>-0.260216</td>\n",
       "      <td>0.016817</td>\n",
       "      <td>-0.015645</td>\n",
       "      <td>0.036078</td>\n",
       "      <td>-0.191906</td>\n",
       "      <td>-0.058017</td>\n",
       "      <td>-0.124868</td>\n",
       "      <td>-0.132639</td>\n",
       "      <td>-0.105372</td>\n",
       "      <td>0.168681</td>\n",
       "    </tr>\n",
       "    <tr>\n",
       "      <th>4</th>\n",
       "      <td>-4.652670</td>\n",
       "      <td>0.001184</td>\n",
       "      <td>2.383387</td>\n",
       "      <td>-0.947422</td>\n",
       "      <td>-0.568732</td>\n",
       "      <td>0.388287</td>\n",
       "      <td>0.666167</td>\n",
       "      <td>-0.229971</td>\n",
       "      <td>0.858537</td>\n",
       "      <td>-0.300395</td>\n",
       "      <td>...</td>\n",
       "      <td>-0.119282</td>\n",
       "      <td>-0.312387</td>\n",
       "      <td>-0.394942</td>\n",
       "      <td>0.048878</td>\n",
       "      <td>-0.055684</td>\n",
       "      <td>-0.006348</td>\n",
       "      <td>0.432311</td>\n",
       "      <td>0.055308</td>\n",
       "      <td>0.229856</td>\n",
       "      <td>0.007786</td>\n",
       "    </tr>\n",
       "  </tbody>\n",
       "</table>\n",
       "<p>5 rows × 60 columns</p>\n",
       "</div>"
      ],
      "text/plain": [
       "        cp1       cp2       cp3       cp4       cp5       cp6       cp7  \\\n",
       "0 -5.594370 -0.098181 -1.612320  0.769324  0.241614 -0.144871 -0.563621   \n",
       "1 -1.815324 -2.381530 -0.747115  1.053912  0.163226 -0.384296  1.859621   \n",
       "2 -6.274700  3.390886  1.888122 -0.835046 -1.034804 -0.531854  0.686732   \n",
       "3 -5.455503  1.190142 -2.298590 -0.195526 -0.282059 -0.705488 -0.233156   \n",
       "4 -4.652670  0.001184  2.383387 -0.947422 -0.568732  0.388287  0.666167   \n",
       "\n",
       "        cp8       cp9      cp10  ...      cp51      cp52      cp53      cp54  \\\n",
       "0  0.371844 -0.179646 -0.891235  ... -0.330760 -0.187349 -0.245808  0.358611   \n",
       "1  1.297292 -0.516375 -0.325283  ...  0.210715 -0.416132  0.307055 -0.527017   \n",
       "2 -1.038660 -0.300398  0.645300  ...  0.208734 -0.109927 -0.157900 -0.023367   \n",
       "3  0.354867  0.702703 -0.180644  ... -0.260216  0.016817 -0.015645  0.036078   \n",
       "4 -0.229971  0.858537 -0.300395  ... -0.119282 -0.312387 -0.394942  0.048878   \n",
       "\n",
       "       cp55      cp56      cp57      cp58      cp59      cp60  \n",
       "0 -0.189287 -0.013106  0.002116 -0.065826  0.156352 -0.064085  \n",
       "1  0.014011  0.085276 -0.276104  0.254803  0.343195 -0.213330  \n",
       "2  0.204882  0.040915 -0.524140 -0.243783 -0.063283 -0.037632  \n",
       "3 -0.191906 -0.058017 -0.124868 -0.132639 -0.105372  0.168681  \n",
       "4 -0.055684 -0.006348  0.432311  0.055308  0.229856  0.007786  \n",
       "\n",
       "[5 rows x 60 columns]"
      ]
     },
     "execution_count": 28,
     "metadata": {},
     "output_type": "execute_result"
    }
   ],
   "source": [
    "n=60\n",
    "\n",
    "colunas = ['cp'+str(x+1) for x in list(range(n))]\n",
    "\n",
    "pc_train = pd.DataFrame(pc_treino[:,:n], columns = colunas)\n",
    "pc_valid = pd.DataFrame(pc_valida[:,:n], columns = colunas)\n",
    "pc_test  = pd.DataFrame( pc_teste[:,:n], columns = colunas)\n",
    "\n",
    "pc_train.head()"
   ]
  },
  {
   "cell_type": "markdown",
   "metadata": {},
   "source": [
    "### Treinando o modelo\n",
    "\n",
    "Vamos treinar o modelo e fazer o *tunning* dele da mesma forma."
   ]
  },
  {
   "cell_type": "code",
   "execution_count": 29,
   "metadata": {},
   "outputs": [
    {
     "name": "stdout",
     "output_type": "stream",
     "text": [
      "CPU times: total: 41.3 s\n",
      "Wall time: 1min 20s\n"
     ]
    }
   ],
   "source": [
    "%%time\n",
    "clf = DecisionTreeClassifier(random_state=1234).fit(pc_train, y_train)\n",
    "\n",
    "caminho = DecisionTreeClassifier(random_state=2360873, min_samples_leaf=20).cost_complexity_pruning_path(pc_train, y_train)\n",
    "ccp_alphas, impurities = caminho.ccp_alphas, caminho.impurities\n",
    "\n",
    "ccp_alphas = np.unique(ccp_alphas[ccp_alphas>=0])\n",
    "\n",
    "clfs = []\n",
    "for ccp_alpha in ccp_alphas:\n",
    "    clf = DecisionTreeClassifier(random_state=2360873, ccp_alpha=ccp_alpha).fit(pc_train, y_train)\n",
    "    clfs.append(clf)"
   ]
  },
  {
   "cell_type": "markdown",
   "metadata": {},
   "source": [
    "### Avaliando a acurácia do modelo\n",
    "\n",
    "Vamos agora avaliar a acurácia do modelo com o protocolo de costume."
   ]
  },
  {
   "cell_type": "code",
   "execution_count": 30,
   "metadata": {},
   "outputs": [
    {
     "data": {
      "image/png": "[encoded data removed]",
      "text/plain": [
       "<Figure size 640x480 with 1 Axes>"
      ]
     },
     "metadata": {},
     "output_type": "display_data"
    }
   ],
   "source": [
    "train_scores = [clf.score(pc_train, y_train) for clf in clfs]\n",
    "valid_scores = [clf.score(pc_valid, y_valid) for clf in clfs]\n",
    "\n",
    "fig, ax = plt.subplots()\n",
    "ax.set_xlabel(\"alpha\")\n",
    "ax.set_ylabel(\"Acurácia\")\n",
    "ax.set_title(\"Acurácia x alpha do conjunto de dados de treino e teste\")\n",
    "nx=-10\n",
    "ax.plot(ccp_alphas[:nx], train_scores[:nx], marker='o', label=\"treino\",    drawstyle=\"steps-post\")\n",
    "ax.plot(ccp_alphas[:nx], valid_scores[:nx], marker='o', label=\"validação\", drawstyle=\"steps-post\")\n",
    "\n",
    "ax.legend()\n",
    "plt.show()"
   ]
  },
  {
   "cell_type": "code",
   "execution_count": 31,
   "metadata": {},
   "outputs": [
    {
     "name": "stdout",
     "output_type": "stream",
     "text": [
      "Acurácia da melhor árvore na base de treino:    94.5\n",
      "Acurácia da melhor árvore na base de validação: 87.5\n",
      "Acurácia da melhor árvore na base de teste:     81.0\n"
     ]
    },
    {
     "data": {
      "text/html": [
       "<style>#sk-container-id-5 {color: black;}#sk-container-id-5 pre{padding: 0;}#sk-container-id-5 div.sk-toggleable {background-color: white;}#sk-container-id-5 label.sk-toggleable__label {cursor: pointer;display: block;width: 100%;margin-bottom: 0;padding: 0.3em;box-sizing: border-box;text-align: center;}#sk-container-id-5 label.sk-toggleable__label-arrow:before {content: \"▸\";float: left;margin-right: 0.25em;color: #696969;}#sk-container-id-5 label.sk-toggleable__label-arrow:hover:before {color: black;}#sk-container-id-5 div.sk-estimator:hover label.sk-toggleable__label-arrow:before {color: black;}#sk-container-id-5 div.sk-toggleable__content {max-height: 0;max-width: 0;overflow: hidden;text-align: left;background-color: #f0f8ff;}#sk-container-id-5 div.sk-toggleable__content pre {margin: 0.2em;color: black;border-radius: 0.25em;background-color: #f0f8ff;}#sk-container-id-5 input.sk-toggleable__control:checked~div.sk-toggleable__content {max-height: 200px;max-width: 100%;overflow: auto;}#sk-container-id-5 input.sk-toggleable__control:checked~label.sk-toggleable__label-arrow:before {content: \"▾\";}#sk-container-id-5 div.sk-estimator input.sk-toggleable__control:checked~label.sk-toggleable__label {background-color: #d4ebff;}#sk-container-id-5 div.sk-label input.sk-toggleable__control:checked~label.sk-toggleable__label {background-color: #d4ebff;}#sk-container-id-5 input.sk-hidden--visually {border: 0;clip: rect(1px 1px 1px 1px);clip: rect(1px, 1px, 1px, 1px);height: 1px;margin: -1px;overflow: hidden;padding: 0;position: absolute;width: 1px;}#sk-container-id-5 div.sk-estimator {font-family: monospace;background-color: #f0f8ff;border: 1px dotted black;border-radius: 0.25em;box-sizing: border-box;margin-bottom: 0.5em;}#sk-container-id-5 div.sk-estimator:hover {background-color: #d4ebff;}#sk-container-id-5 div.sk-parallel-item::after {content: \"\";width: 100%;border-bottom: 1px solid gray;flex-grow: 1;}#sk-container-id-5 div.sk-label:hover label.sk-toggleable__label {background-color: #d4ebff;}#sk-container-id-5 div.sk-serial::before {content: \"\";position: absolute;border-left: 1px solid gray;box-sizing: border-box;top: 0;bottom: 0;left: 50%;z-index: 0;}#sk-container-id-5 div.sk-serial {display: flex;flex-direction: column;align-items: center;background-color: white;padding-right: 0.2em;padding-left: 0.2em;position: relative;}#sk-container-id-5 div.sk-item {position: relative;z-index: 1;}#sk-container-id-5 div.sk-parallel {display: flex;align-items: stretch;justify-content: center;background-color: white;position: relative;}#sk-container-id-5 div.sk-item::before, #sk-container-id-5 div.sk-parallel-item::before {content: \"\";position: absolute;border-left: 1px solid gray;box-sizing: border-box;top: 0;bottom: 0;left: 50%;z-index: -1;}#sk-container-id-5 div.sk-parallel-item {display: flex;flex-direction: column;z-index: 1;position: relative;background-color: white;}#sk-container-id-5 div.sk-parallel-item:first-child::after {align-self: flex-end;width: 50%;}#sk-container-id-5 div.sk-parallel-item:last-child::after {align-self: flex-start;width: 50%;}#sk-container-id-5 div.sk-parallel-item:only-child::after {width: 0;}#sk-container-id-5 div.sk-dashed-wrapped {border: 1px dashed gray;margin: 0 0.4em 0.5em 0.4em;box-sizing: border-box;padding-bottom: 0.4em;background-color: white;}#sk-container-id-5 div.sk-label label {font-family: monospace;font-weight: bold;display: inline-block;line-height: 1.2em;}#sk-container-id-5 div.sk-label-container {text-align: center;}#sk-container-id-5 div.sk-container {/* jupyter's `normalize.less` sets `[hidden] { display: none; }` but bootstrap.min.css set `[hidden] { display: none !important; }` so we also need the `!important` here to be able to override the default hidden behavior on the sphinx rendered scikit-learn.org. See: https://github.com/scikit-learn/scikit-learn/issues/21755 */display: inline-block !important;position: relative;}#sk-container-id-5 div.sk-text-repr-fallback {display: none;}</style><div id=\"sk-container-id-5\" class=\"sk-top-container\"><div class=\"sk-text-repr-fallback\"><pre>DecisionTreeClassifier(ccp_alpha=0.0008800889827507387, random_state=2360873)</pre><b>In a Jupyter environment, please rerun this cell to show the HTML representation or trust the notebook. <br />On GitHub, the HTML representation is unable to render, please try loading this page with nbviewer.org.</b></div><div class=\"sk-container\" hidden><div class=\"sk-item\"><div class=\"sk-estimator sk-toggleable\"><input class=\"sk-toggleable__control sk-hidden--visually\" id=\"sk-estimator-id-5\" type=\"checkbox\" checked><label for=\"sk-estimator-id-5\" class=\"sk-toggleable__label sk-toggleable__label-arrow\">DecisionTreeClassifier</label><div class=\"sk-toggleable__content\"><pre>DecisionTreeClassifier(ccp_alpha=0.0008800889827507387, random_state=2360873)</pre></div></div></div></div></div>"
      ],
      "text/plain": [
       "DecisionTreeClassifier(ccp_alpha=0.0008800889827507387, random_state=2360873)"
      ]
     },
     "execution_count": 31,
     "metadata": {},
     "output_type": "execute_result"
    }
   ],
   "source": [
    "ind_melhor_arvore = len(valid_scores) - valid_scores[::-1].index(max(valid_scores)) - 1\n",
    "melhor_arvore = clfs[ind_melhor_arvore]\n",
    "\n",
    "print(f'Acurácia da melhor árvore na base de treino:    {train_scores[ind_melhor_arvore]*100:.1f}')\n",
    "print(f'Acurácia da melhor árvore na base de validação: {valid_scores[ind_melhor_arvore]*100:.1f}')\n",
    "print(f'Acurácia da melhor árvore na base de teste:     {melhor_arvore.score(pc_test, y_test)*100:.1f}')\n",
    "\n",
    "melhor_arvore"
   ]
  },
  {
   "cell_type": "markdown",
   "metadata": {},
   "source": [
    "## Matéria-prima\n",
    "\n",
    "Podemos discutir muito o que é **informação**. Há teorias sobre isso, pontos de vista, polêmicas etc. Para nós, vamos entender que:\n",
    "\n",
    "- Os dados trazem informação e\n",
    "- Informação é variabilidade\n",
    "\n",
    "Portanto, uma variável que não tenha variabilidade, não tem informação e a informação que os dados trazem está na sua variabilidade.\n",
    "\n",
    "Dito isto, é importante que tenhamos alguns conceitos básicos muito bem entendidos:\n",
    "\n",
    "### Variância\n",
    "\n",
    "Variância é uma medida de como os dados estão dispersos em torno da média. Pode ser calculada como:\n",
    "\n",
    "$$ \\hat{\\sigma}_x^2 = \\frac{1}{n-1} \\sum_{n=1}^{N} (x_i - \\bar{x})^2 $$\n",
    "\n",
    "A variância de X tem unidade, que é a unidade de X ao quadrado.\n",
    "\n",
    "### Desvio padrão\n",
    "\n",
    "O desvio padrão é a raiz quadrada da variância. Ao se extrair a raiz quadrada, essa medida fica na mesma unidade que a variável original.\n",
    "\n",
    "$$ \\hat{\\sigma}_x = \\sqrt{\\hat{\\sigma}_x^2} $$\n",
    "\n",
    "**Medidas de associação**\n",
    "\n",
    "As medidas de dispersão indicam como os dados variam em torno de um valor. No entanto, entre duas variáveis X e Y, quando uma delas varia, isso pode dar *informação* sobre o valor da outra variável. Para estudar isto são definidas medidas de associação.\n",
    "\n",
    "### Covariância\n",
    "\n",
    "A covariância procura medir a associação linear entre duas variáveis.\n",
    "\n",
    "$$ Cov(X, Y) = \\sigma_{x,y} = \\frac{1}{N} \\sum_{i=1}^{N} (X-\\bar{X})(Y-\\bar{Y}) $$\n",
    "\n",
    "### Correlação\n",
    "\n",
    "A correlação é uma medida de associação adimensional. Ela varia entre -1 e 1, quanto maior em valor absoluto, mais as variáveis \"compartilham informação\".\n",
    "\n",
    "$$ Cor(X, Y) = \\rho_{x, y} = \\frac{Cov(X, Y)}{Var(X)Var(Y)} $$\n",
    "\n",
    "Uma transformação bem comum é deixar a variável com média = 0 e desvio padrão = 1 com a seguinte transformação:\n",
    "\n",
    "$$ x_{pad} = \\frac{x - \\hat{x}}{DesvPad(x)} $$\n",
    "\n",
    "Um resultado notável - que vale uma ponderação e uma experimentação no notebook - é que a covariância calculada sobre variáveis padronizadas é igual à correlação das variáveis originais (não transformadas). Isso tem algumas consequencias interessantes - pondere um pouco a respeito.\n",
    "\n",
    "**Notações matriciais**\n",
    "\n",
    "### Matriz de covariância\n",
    "\n",
    "Uma matriz de covariância de um conjunto de variáveis é uma matriz cujas linhas/colunas correspondem às variáveis de interesse, possui na sua diagonal principal a variância da respectiva variável, e fora dela a covariância do respectivo par linha-coluna.\n",
    "\n",
    "Por simplicidade, podemos denotar $\\sigma^2_{1}$ a variância da variável 1, e $\\sigma^2_{ij}$ a covariância entre as variáveis i e j (com i $\\neq$ j).\n",
    "\n",
    "$$ \\Sigma = \\begin{bmatrix}\n",
    "\\sigma^2_{1} & \\sigma_{12} & \\sigma_{13} \\\\\n",
    "\\sigma_{21} & \\sigma^2_{2} & \\sigma_{23} \\\\\n",
    "\\sigma_{31} & \\sigma_{32} & \\sigma^2_{3} \n",
    "\\end{bmatrix}  $$\n",
    "\n",
    "Observe que como $\\sigma_{ij} = \\sigma_{ji}$ a matriz será simétrica.\n",
    "\n",
    "### Matriz de correlação\n",
    "\n",
    "Muito similar à matriz de covariâncias, mas possui as correlações. Note que $Cov(x,x) = Var(x)$ mas $Cor(x,x) = 1$ pois a variável sempre está 100% positivamente correlacionada consigo mesma.\n",
    "\n",
    "$$ R = \\begin{bmatrix}\n",
    "1 & \\rho_{12} & \\rho_{13} \\\\\n",
    "\\rho_{21} & 1 & \\rho_{23} \\\\\n",
    "\\rho_{31} & \\rho_{32} & 1 \n",
    "\\end{bmatrix}  $$\n"
   ]
  },
  {
   "cell_type": "markdown",
   "metadata": {},
   "source": [
    "## Ilustração geométrica\n",
    "\n",
    "Interpretação geométrica\n",
    "\n",
    "- Os dados expressos nas componentes principais são uma rotação dos dados expressos na base original (por isso trazem a mesma informação).\n",
    "- As componentes principais são a projeção das variáveis originais ao longo dos autovalores.\n",
    "- A rotação consiste em \"deitar\" a núvem de pontos ao longo do eixo horizontal, de modo que a correlação linear fica zero."
   ]
  },
  {
   "cell_type": "markdown",
   "metadata": {},
   "source": [
    "### Carregando os dados\n",
    "\n",
    "Para esta ilustração, vamos utilizar os dados (fictícios) de notas de 100 alunos de ensino médio que avaliam 5 matérias através de 4 provas cada uma (p1, p2, p3 e p4) - totalizando 20 provas.\n",
    "\n",
    "Vamos carregar os dados que estão no formato *feather* - um formato criado primariamente para intercambiar dados entre R e Python, e que é bem mais conveniente de ser utilizado para persistir dados do que o CSV na maioria das aplicações."
   ]
  },
  {
   "cell_type": "code",
   "execution_count": null,
   "metadata": {},
   "outputs": [],
   "source": [
    "df = pd.read_feather('notas.ftr')"
   ]
  },
  {
   "cell_type": "code",
   "execution_count": null,
   "metadata": {},
   "outputs": [],
   "source": [
    "df.head()"
   ]
  },
  {
   "cell_type": "markdown",
   "metadata": {},
   "source": [
    "### Ilustração em 2D\n",
    "\n",
    "Vamos começar a ilustração da ideia por trás das componentes principais avaliando primeiramente apenas duas matérias, de modo que podemos fazer a visualização geométrica em 2D.\n",
    "\n",
    "Lembre-se que para nós variabilidade é informação, portanto, variabilidade compartilhada (correlação) é redundância de informação entre duas variáveis. Vamos então selecionar duas variáveis correlacionadas e começar a pensar um pouco sobre esses conceitos de informação e redundância."
   ]
  },
  {
   "cell_type": "code",
   "execution_count": null,
   "metadata": {},
   "outputs": [],
   "source": [
    "variaveis = ['por_p1', 'por_p2']"
   ]
  },
  {
   "cell_type": "code",
   "execution_count": null,
   "metadata": {},
   "outputs": [],
   "source": [
    "fig = plt.figure(figsize=(10, 10))\n",
    "ax = fig.add_subplot(1,1,1)\n",
    "\n",
    "ax.set_aspect('equal', 'box')\n",
    "ax.set(xlim=(-1, 11), ylim=(-1, 11));\n",
    "\n",
    "plt.scatter(x = df[variaveis[0]], y = df[variaveis[1]]);"
   ]
  },
  {
   "cell_type": "code",
   "execution_count": null,
   "metadata": {},
   "outputs": [],
   "source": [
    "df[variaveis].cov()"
   ]
  },
  {
   "cell_type": "markdown",
   "metadata": {},
   "source": [
    "### Transoformações lineares\n",
    "\n",
    "Pode ser útil fazer alguma transformação linear nesses dados?\n",
    "Por exemplo, média e diferença entre as notas? Que características essa transformação possui?"
   ]
  },
  {
   "cell_type": "code",
   "execution_count": null,
   "metadata": {
    "scrolled": false
   },
   "outputs": [],
   "source": [
    "fig = plt.figure(figsize=(10, 10))\n",
    "ax = fig.add_subplot(1,1,1)\n",
    "\n",
    "ax.set_aspect('equal', 'box')\n",
    "ax.set(xlim=(-4, 11), ylim=(-4, 11));\n",
    "\n",
    "plt.scatter(x = df[variaveis[0]], y = df[variaveis[1]]);\n",
    "\n",
    "\n",
    "m = np.array([[ .5, .5],\n",
    "              [ -1,  1]])\n",
    "\n",
    "df_rot = np.matmul(m, df[variaveis].to_numpy().transpose())\n",
    "plt.scatter(df_rot[0,:],df_rot[1,:])"
   ]
  },
  {
   "cell_type": "code",
   "execution_count": null,
   "metadata": {},
   "outputs": [],
   "source": [
    "pd.DataFrame(df_rot.transpose()).corr()"
   ]
  },
  {
   "cell_type": "code",
   "execution_count": null,
   "metadata": {},
   "outputs": [],
   "source": [
    "fig = plt.figure(figsize=(10, 10))\n",
    "ax = fig.add_subplot(1,1,1)\n",
    "\n",
    "ax.set_aspect('equal', 'box')\n",
    "ax.set(xlim=(-4, 15), ylim=(-4, 15));\n",
    "\n",
    "m = np.array([[ 0.69245036, -0.72146552],\n",
    "              [ 0.72146552,  0.69245036]])\n",
    "\n",
    "df_rot = np.matmul(m, df[variaveis].to_numpy().transpose())\n",
    "\n",
    "plt.scatter(x = df[variaveis[0]], y = df[variaveis[1]]);\n",
    "plt.scatter(df_rot[0,:],df_rot[1,:])\n"
   ]
  },
  {
   "cell_type": "code",
   "execution_count": null,
   "metadata": {},
   "outputs": [],
   "source": [
    "pd.DataFrame(df_rot.transpose()).corr()"
   ]
  },
  {
   "cell_type": "markdown",
   "metadata": {},
   "source": [
    "### Scatterplot 2D com autovetores"
   ]
  },
  {
   "cell_type": "code",
   "execution_count": null,
   "metadata": {},
   "outputs": [],
   "source": [
    "fig = plt.figure(figsize=(10, 10))\n",
    "ax = fig.add_subplot(1,1,1)\n",
    "\n",
    "X = df[variaveis].apply(lambda var: (var-var.mean())/ var.std(), axis=0)\n",
    "\n",
    "ax.scatter(x = X.iloc[:,0], y = X.iloc[:,1])\n",
    "\n",
    "xmin = -3\n",
    "xmax = 3\n",
    "ymin = -3\n",
    "ymax = 3\n",
    "\n",
    "# ax.axis('equal')\n",
    "ax.set_aspect('equal', 'box')\n",
    "ax.set(xlim=(xmin, xmax), ylim=(ymin, ymax));\n",
    "\n",
    "autovet=np.array([[ 0.69245036, -0.72146552],\n",
    "                  [ 0.72146552,  0.69245036]])\n",
    "\n",
    "ax.arrow(0, 0, autovet[0,0], autovet[1,0]\n",
    "         , head_width=0.25\n",
    "         , head_length=0.1\n",
    "         , fc='g', ec='g', \n",
    "         length_includes_head=True)\n",
    "ax.arrow(0, 0, autovet[0,1], autovet[1,1]\n",
    "         , head_width=0.25\n",
    "         , head_length=0.1\n",
    "         , fc='g', ec='g', \n",
    "         length_includes_head=True)"
   ]
  },
  {
   "cell_type": "markdown",
   "metadata": {},
   "source": [
    "### Explorando a PCA com o Scikitlearn\n",
    "\n",
    "Agora vamos explorar um pouco melhor a análise de componentes principais pelo scikitlearn. Vamos ver onde ficam guardados os autovetores e autovalores e explorar outros atributos interessantes."
   ]
  },
  {
   "cell_type": "code",
   "execution_count": null,
   "metadata": {
    "scrolled": true
   },
   "outputs": [],
   "source": [
    "df[variaveis].head()"
   ]
  },
  {
   "cell_type": "code",
   "execution_count": null,
   "metadata": {},
   "outputs": [],
   "source": [
    "pca = PCA()\n",
    "\n",
    "variaveis = ['por_p1', 'por_p2']\n",
    "princomp = pca.fit(df[variaveis])\n",
    "\n",
    "componentes =princomp.transform(df[variaveis])\n",
    "\n",
    "principalDf = pd.DataFrame(data = componentes\n",
    "             , columns = ['CP1', 'CP2'])"
   ]
  },
  {
   "cell_type": "markdown",
   "metadata": {},
   "source": [
    "Vamos explorar os seguintes elementos:\n",
    "\n",
    "- Autovetores\n",
    "- Autovalores\n",
    "- Variância e covariância das CPs\n",
    "- Variância das variáveis originais\n",
    "- Variância explicada"
   ]
  },
  {
   "cell_type": "code",
   "execution_count": null,
   "metadata": {},
   "outputs": [],
   "source": [
    "princomp.explained_variance_ / princomp.explained_variance_.sum()"
   ]
  },
  {
   "cell_type": "code",
   "execution_count": null,
   "metadata": {},
   "outputs": [],
   "source": [
    "princomp.explained_variance_"
   ]
  },
  {
   "cell_type": "code",
   "execution_count": null,
   "metadata": {},
   "outputs": [],
   "source": [
    "princomp.explained_variance_.sum()"
   ]
  },
  {
   "cell_type": "code",
   "execution_count": null,
   "metadata": {},
   "outputs": [],
   "source": [
    "df[variaveis].cov()"
   ]
  },
  {
   "cell_type": "code",
   "execution_count": null,
   "metadata": {},
   "outputs": [],
   "source": [
    "7.230202 + 6.660342"
   ]
  },
  {
   "cell_type": "code",
   "execution_count": null,
   "metadata": {},
   "outputs": [],
   "source": [
    "principalDf.cov()"
   ]
  },
  {
   "cell_type": "code",
   "execution_count": null,
   "metadata": {
    "scrolled": false
   },
   "outputs": [],
   "source": [
    "%matplotlib inline\n",
    "X = df[variaveis]\n",
    "\n",
    "fig = plt.figure(figsize=(10, 10))\n",
    "ax = fig.add_subplot(1,1,1)\n",
    "\n",
    "x_med = X.iloc[:,0].mean()\n",
    "y_med = X.iloc[:,1].mean()\n",
    "\n",
    "ax.scatter(x = X.iloc[:,0], y = X.iloc[:,1])\n",
    "\n",
    "ampli_x = X.iloc[:,0].max() - X.iloc[:,0].min()\n",
    "ampli_y = X.iloc[:,1].max() - X.iloc[:,1].min()\n",
    "\n",
    "xmin = X.iloc[:,0].min() - ampli_x*.1\n",
    "xmax = X.iloc[:,0].max() + ampli_x*.1\n",
    "ymin = X.iloc[:,1].min() - ampli_y*.1\n",
    "ymax = X.iloc[:,1].max() + ampli_y*.1\n",
    "\n",
    "# ax.axis('equal')\n",
    "ax.set_aspect('equal', 'box')\n",
    "ax.set(xlim=(xmin, xmax), ylim=(ymin, ymax));\n",
    "\n",
    "autovet=princomp.components_\n",
    "\n",
    "ax.arrow(x_med, y_med, autovet[0,0], autovet[1,0]\n",
    "         , head_width=0.25\n",
    "         , head_length=0.1\n",
    "         , fc='g', ec='g', \n",
    "         length_includes_head=True)\n",
    "ax.arrow(x_med, y_med, autovet[0,1], autovet[1,1]\n",
    "         , head_width=0.25\n",
    "         , head_length=0.1\n",
    "         , fc='g', ec='g', \n",
    "         length_includes_head=True)"
   ]
  },
  {
   "cell_type": "code",
   "execution_count": null,
   "metadata": {
    "scrolled": false
   },
   "outputs": [],
   "source": [
    "%matplotlib notebook\n",
    "\n",
    "fig = plt.figure(figsize=(8, 8))\n",
    "ax = fig.add_subplot(projection='3d')\n",
    "\n",
    "variaveis = ['mat_p1', 'mat_p2', 'mat_p3']\n",
    "\n",
    "pca = PCA()\n",
    "princomp = pca.fit_transform(df[variaveis])\n",
    "autovet=pca.components_\n",
    "autoval = pca.explained_variance_\n",
    "\n",
    "ax.scatter( df[variaveis[0]], df[variaveis[1]], df[variaveis[2]] )\n",
    "\n",
    "for i, v in enumerate(autovet):\n",
    "    ax.plot([df[variaveis[0]].mean(), df[variaveis[0]].mean()+v[0]*autoval[i]**.5], \n",
    "            [df[variaveis[1]].mean(), df[variaveis[1]].mean()+v[1]*autoval[i]**.5], \n",
    "            [df[variaveis[2]].mean(), df[variaveis[2]].mean()+v[2]*autoval[i]**.5], \n",
    "            color='red', \n",
    "            alpha=0.8, \n",
    "            lw=3)\n"
   ]
  },
  {
   "cell_type": "code",
   "execution_count": null,
   "metadata": {
    "scrolled": false
   },
   "outputs": [],
   "source": [
    "%matplotlib inline\n",
    "fig, ax = plt.subplots(figsize=(15, 15))\n",
    "\n",
    "# calcula a matriz de correlação\n",
    "corr = df.corr()\n",
    "\n",
    "# Generate a mask for the upper triangle\n",
    "mask = np.zeros_like(corr, dtype=np.bool)\n",
    "mask[np.triu_indices_from(mask)] = True\n",
    "\n",
    "\n",
    "# Draw the heatmap with the mask and correct aspect ratio\n",
    "vmax = np.abs(corr.values[~mask]).max()\n",
    "sns.heatmap(corr, mask=mask, cmap=plt.cm.PuOr, vmin=-vmax, vmax=vmax,\n",
    "            square=True, linecolor=\"lightgray\", linewidths=1, ax=ax)\n",
    "for i in range(len(corr)):\n",
    "    # Coloca o texto na diagonal principal\n",
    "    ax.text(i+0.5,(i+0.5), corr.columns[i], \n",
    "            ha=\"center\", va=\"center\", rotation=45)\n",
    "    for j in range(i+1, len(corr)):\n",
    "        s = \"{:.3f}\".format(corr.values[i,j]).replace(\".\",\",\")\n",
    "        ax.text(j+0.5,(i+0.5),s, \n",
    "            ha=\"center\", va=\"center\")\n",
    "        \n",
    "ax.axis(\"off\")\n",
    "plt.show()"
   ]
  },
  {
   "cell_type": "code",
   "execution_count": null,
   "metadata": {},
   "outputs": [],
   "source": [
    "pca = PCA()\n",
    "\n",
    "n_componentes = df.shape[1]\n",
    "\n",
    "princomp = pca.fit(df)\n",
    "\n",
    "componentes = princomp.transform(df)\n",
    "\n",
    "nomes_pca = ['CP'+str(x+1) for x in list(range(n_componentes))]\n",
    "\n",
    "principalDf = pd.DataFrame(data = componentes\n",
    "             , columns = nomes_pca)"
   ]
  },
  {
   "cell_type": "code",
   "execution_count": null,
   "metadata": {},
   "outputs": [],
   "source": [
    "principalDf.head()"
   ]
  },
  {
   "cell_type": "code",
   "execution_count": null,
   "metadata": {
    "scrolled": true
   },
   "outputs": [],
   "source": [
    "princomp.explained_variance_ratio_.cumsum()"
   ]
  },
  {
   "cell_type": "markdown",
   "metadata": {},
   "source": [
    "## Autovetores e autovalores\n",
    "\n",
    "É uma técnica de Algebra Linear que fornece pares de vetores e escalares chamados de autovetores e autovalores, que possuem propriedades muito interessantes, e podem ser obtidos através de uma equação matricial.\n",
    "\n",
    "Em Componentes Principais, a matriz utilizada no algoritmo é tipicamente uma dentre duas opções:\n",
    "\n",
    "- Matriz de variância: utilizada quando é importante manter a escala original das variáveis\n",
    "- Matriz de correlação: utilizada quando as variáveis possuem escalas diferentes, e podem receber pesos (no sentido de importância) diferentes de forma arbitrária por conta dessas escalas.\n",
    "\n",
    "**Autovetores**\n",
    "Os autovetores fornecem as direções de maior variabilidade dos dados - o que pode ser visto em 2 (ou até 3) dimensões, mas funciona igualmente com uma quantidade de dimensões (isto é, com um número arbitrário de variáveis).\n",
    "\n",
    "**Autovalores**\n",
    "Os autovalores indicam a variabilidade na direção dos respectivos autovetores. Na prática, eles fornecem a variância das componentes principais.\n",
    "\n",
    "**Componentes principais**\n",
    "São as projeções dos dados originais nos autovetores. São novas variáveis, obtidas como combinações lineares das variáveis originais, e possuem propriedades muito interessantes:\n",
    "\n",
    "- Se considerarmos todas as componentes, agregam a mesma informação que os dados originais\n",
    "- Possuem correlação linear zero entre sí. Isso significa que não compartilham informação (ao menos do ponto de vista linear).\n",
    "- Podem ser ordenadas conforme a explicação da variabilidade das variáveis originais.\n",
    "- Dessa forma, se temos *p* variáveis, podemos considerar *q<p* componentes principais que vão explicar mais variabilidade (i.e. informação) que quaisquer outras *q* variáveis originais."
   ]
  },
  {
   "cell_type": "markdown",
   "metadata": {},
   "source": [
    "## Quantas componentes principais utilizar?\n",
    "\n",
    "O número de componentes que o algoritmo dá, conceitualmente, é igual ao númeor de variáveis originais. No entanto, pelas propriedades da técnica, podemos utilizar apenas um número arbitrário das componentes iniciais (aquelas que mais explicam variância) e ignorar as demais.\n",
    "\n",
    "Mas quantas componentes vamos utilizar?\n",
    "\n",
    "Claro que há uma carga de subjetividade grande nesta pergunta, e não há uma única resposta correta, mas há potencialmente uma quantidade grande de respostas úteis para cada problema. E para guiar esse tipo de decisão, vamos falar de 4 critérios bastante utilizados na literatura.\n",
    "\n",
    "\n",
    "1. Autovalor maior que 1: Este critério funciona com as variáveis padronizadas para que tenham todas variância > 1 - o autovalor é a variância da componente principal, escolhendo componentes com autovalor>1 você estará selecionando somente autovalores que explicam mais informação que uma variável original.\n",
    "2. Variância explicada > x: Somando a variância explicada você pode estabelecer um valor mínimo exigido, por exemplo 90%, e selecionar o número de componentes que explica 90% da variância total.\n",
    "3. Gráfico do cotovelo (screeplot): Ao observar o gráfico da variância explicada por cada componente, buscamos um 'cotovelo' e ignoramos as variáveis que explicam muito pouco da variância total.\n",
    "4. Utilizar um número pragmático: este critério pode ser utilizado por exemplo se temos alguma limitação - por exemplo, se você sabe que o seu hardware vai tolerar 100 variáveis, você usa pragmaticamente esse valor."
   ]
  },
  {
   "cell_type": "markdown",
   "metadata": {},
   "source": [
    "### Gráficos básicos\n",
    "\n",
    "Vamos ver abaixo os gráficos básicos que nos auxiliam na seleção do número de componentes principais. Todos eles giram no entorno da variância explicada. Vamos avaliar a variância explicada total e o percentual da variância explicada - o desenho do gráfico tem sempre a mesma cara, mudando apenas a escala. Vamos cruzar esta visão também com a visão nominal e acumulada."
   ]
  },
  {
   "cell_type": "code",
   "execution_count": null,
   "metadata": {},
   "outputs": [],
   "source": [
    "fig, ax = plt.subplots(2, 2, sharex=True, figsize=(14, 8))\n",
    "plt.subplots_adjust(hspace=0, wspace=.15)\n",
    "\n",
    "ampli_y1 = princomp.explained_variance_[0]\n",
    "\n",
    "num_componentes = np.arange(princomp.n_components_) + 1\n",
    "ax[0,0].plot(num_componentes, princomp.explained_variance_, 'o-', linewidth=2, color='blue', markersize=2, alpha=.2)\n",
    "ax[0,0].set_title('Scree Plot - Variância total')\n",
    "ax[0,0].set_xlabel('Número de componentes')\n",
    "ax[0,0].set_ylabel('Variancia explicada (Autovalores)')\n",
    "\n",
    "ax[1,0].plot(num_componentes, princomp.explained_variance_.cumsum(), 'o-', linewidth=2, color='blue', markersize=2, alpha=.2)\n",
    "ax[1,0].set_xlabel('Número de componentes')\n",
    "ax[1,0].set_ylabel('Variancia explicada (Acumulada)')\n",
    "\n",
    "\n",
    "ampli_y2 = princomp.explained_variance_ratio_[0]\n",
    "# ax[1].set_ylim(-ampli_y2*.05, ampli_y2*1.1)\n",
    "\n",
    "ax[0,1].plot(num_componentes, princomp.explained_variance_ratio_, 'o-', linewidth=2, color='blue', markersize=2, alpha=.2)\n",
    "ax[0,1].set_title('Scree Plot - Variância percentual')\n",
    "ax[0,1].set_xlabel('Número de componentes')\n",
    "ax[0,1].set_ylabel('Variancia explicada (percentual)')\n",
    "\n",
    "ax[1,1].plot(num_componentes, princomp.explained_variance_ratio_.cumsum(), 'o-', linewidth=2, color='blue', markersize=2, alpha=.2)\n",
    "ax[1,1].set_xlabel('Número de componentes')\n",
    "ax[1,1].set_ylabel('Variancia explicada (% Acumulado)')\n",
    "\n",
    "plt.show()"
   ]
  },
  {
   "cell_type": "markdown",
   "metadata": {},
   "source": [
    "### Critério 1 - autovalor > 1\n",
    "\n",
    "Este critério funciona melhor com as variáveis padronizadas para que tenham todas variância=1. O autovalor é a variância da componente principal, escolhendo componentes com autovalor>1 você estará selecionando somente autovalores que explicam mais informação que uma variável original. Quando as variáveis não são padronizadas, podemos utilizar a variância explicada percentual maior que 1/<número de variáveis> - mas isso não garante que as componentes expliquem mais variabilidade que qualquer outra variável."
   ]
  },
  {
   "cell_type": "code",
   "execution_count": null,
   "metadata": {},
   "outputs": [],
   "source": [
    "# Critério 1: autovalor padronizado > 1\n",
    "ncomp_criterio1 = (princomp.explained_variance_ratio_>1/princomp.n_components_).sum()\n",
    "\n",
    "fig, ax = plt.subplots(2, 2, sharex=True, figsize=(14, 8))\n",
    "plt.subplots_adjust(hspace=0, wspace=.15)\n",
    "\n",
    "#Gráfico da variância nominal por qtd-componentes\n",
    "num_componentes = np.arange(princomp.n_components_) + 1\n",
    "ax[0,0].plot(num_componentes, princomp.explained_variance_, 'o-', linewidth=1, color='blue', markersize=2, alpha=.2)\n",
    "ax[0,0].set_title('Scree Plot - Variância total')\n",
    "ax[0,0].set_xlabel('Número de componentes')\n",
    "ax[0,0].set_ylabel('Variancia explicada (Autovalores)')\n",
    "\n",
    "#Gráfico da variância nominal acumulada por qtd_componentes\n",
    "ax[1,0].plot(num_componentes, princomp.explained_variance_.cumsum(), 'o-', linewidth=1, color='blue', markersize=2, alpha=.2)\n",
    "ax[1,0].set_xlabel('Número de componentes')\n",
    "ax[1,0].set_ylabel('Variancia explicada (Acumulada)')\n",
    "\n",
    "# Gráfico da variância percentual por qtd_componentes\n",
    "ax[0,1].plot(num_componentes, princomp.explained_variance_ratio_, 'o-', linewidth=1, color='blue', markersize=2, alpha=.2)\n",
    "ax[0,1].set_title('Scree Plot - Variância percentual')\n",
    "ax[0,1].set_xlabel('Número de componentes')\n",
    "ax[0,1].set_ylabel('Variancia explicada (percentual)')\n",
    "\n",
    "# Gráfico da variância percentual acumulada por qtd_componentes\n",
    "ax[1,1].plot(num_componentes, princomp.explained_variance_ratio_.cumsum(), 'o-', linewidth=1, color='blue', markersize=2, alpha=.2)\n",
    "ax[1,1].set_xlabel('Número de componentes')\n",
    "ax[1,1].set_ylabel('Variancia explicada (% Acumulado)')\n",
    "\n",
    "# Linhas verticais de referência\n",
    "ax[0,0].axvline(x = ncomp_criterio1, color = 'r', linestyle = '-', linewidth=.5)\n",
    "ax[1,1].axvline(x = ncomp_criterio1, color = 'r', linestyle = '-', linewidth=.5)\n",
    "ax[1,0].axvline(x = ncomp_criterio1, color = 'r', linestyle = '-', linewidth=.5)\n",
    "ax[0,1].axvline(x = ncomp_criterio1, color = 'r', linestyle = '-', linewidth=.5)\n",
    "\n",
    "\n",
    "# linhas horizontais\n",
    "ax[0,0].axhline(y = princomp.explained_variance_[ncomp_criterio1-1], color = 'r', linestyle = '-', linewidth=.5)\n",
    "ax[1,0].axhline(y = princomp.explained_variance_.cumsum()[ncomp_criterio1-1], color = 'r', linestyle = '-', linewidth=.5)\n",
    "ax[0,1].axhline(y = princomp.explained_variance_ratio_[ncomp_criterio1-1], color = 'r', linestyle = '-', linewidth=.5)\n",
    "ax[1,1].axhline(y = princomp.explained_variance_ratio_.cumsum()[ncomp_criterio1-1], color = 'r', linestyle = '-', linewidth=.5)\n",
    "\n",
    "plt.show()"
   ]
  },
  {
   "cell_type": "markdown",
   "metadata": {},
   "source": [
    "### Critério 2 - *screeplot* ou critério do cotovelo\n",
    "\n",
    "Gráfico do cotovelo (screeplot): Ao observar o gráfico da variância explicada por cada componente, buscamos um 'cotovelo' e ignoramos as variáveis que explicam muito pouco da variância total"
   ]
  },
  {
   "cell_type": "code",
   "execution_count": null,
   "metadata": {},
   "outputs": [],
   "source": [
    "# Critério 2: Método do \"cotovelo\"\n",
    "ncomp_criterio2 = 4\n",
    "\n",
    "fig, ax = plt.subplots(2, 2, sharex=True, figsize=(14, 8))\n",
    "plt.subplots_adjust(hspace=0, wspace=.15)\n",
    "\n",
    "\n",
    "#Gráfico da variância nominal por qtd-componentes\n",
    "num_componentes = np.arange(princomp.n_components_) + 1\n",
    "ax[0,0].plot(num_componentes, princomp.explained_variance_, 'o-', linewidth=1, color='blue', markersize=2, alpha=.2)\n",
    "ax[0,0].set_title('Scree Plot - Variância total')\n",
    "ax[0,0].set_xlabel('Número de componentes')\n",
    "ax[0,0].set_ylabel('Variancia explicada (Autovalores)')\n",
    "\n",
    "#Gráfico da variância nominal acumulada por qtd-componentes\n",
    "ax[1,0].plot(num_componentes, princomp.explained_variance_.cumsum(), 'o-', linewidth=1, color='blue', markersize=2, alpha=.2)\n",
    "ax[1,0].set_xlabel('Número de componentes')\n",
    "ax[1,0].set_ylabel('Variancia explicada (Acumulada)')\n",
    "\n",
    "#Gráfico da variância percentual por qtd-componentes\n",
    "ax[0,1].plot(num_componentes, princomp.explained_variance_ratio_, 'o-', linewidth=1, color='blue', markersize=2, alpha=.2)\n",
    "ax[0,1].set_title('Scree Plot - Variância percentual')\n",
    "ax[0,1].set_xlabel('Número de componentes')\n",
    "ax[0,1].set_ylabel('Variancia explicada (percentual)')\n",
    "\n",
    "#Gráfico da variância percentual acumulada por qtd-componentes\n",
    "ax[1,1].plot(num_componentes, princomp.explained_variance_ratio_.cumsum(), 'o-', linewidth=1, color='blue', markersize=2, alpha=.2)\n",
    "ax[1,1].set_xlabel('Número de componentes')\n",
    "ax[1,1].set_ylabel('Variancia explicada (% Acumulado)')\n",
    "\n",
    "# Número de componentes pelo critério 2\n",
    "ax[0,0].axvline(x = ncomp_criterio2, color = 'r', linestyle = '-', linewidth=.5)\n",
    "ax[1,1].axvline(x = ncomp_criterio2, color = 'r', linestyle = '-', linewidth=.5)\n",
    "ax[1,0].axvline(x = ncomp_criterio2, color = 'r', linestyle = '-', linewidth=.5)\n",
    "ax[0,1].axvline(x = ncomp_criterio2, color = 'r', linestyle = '-', linewidth=.5)\n",
    "\n",
    "# linhas horizontais\n",
    "ax[0,0].axhline(y = princomp.explained_variance_[ncomp_criterio2-1], color = 'r', linestyle = '-', linewidth=.5)\n",
    "ax[1,0].axhline(y = princomp.explained_variance_.cumsum()[ncomp_criterio2-1], color = 'r', linestyle = '-', linewidth=.5)\n",
    "ax[0,1].axhline(y = princomp.explained_variance_ratio_[ncomp_criterio2-1], color = 'r', linestyle = '-', linewidth=.5)\n",
    "ax[1,1].axhline(y = princomp.explained_variance_ratio_.cumsum()[ncomp_criterio2-1], color = 'r', linestyle = '-', linewidth=.5)\n",
    "\n",
    "plt.show()"
   ]
  },
  {
   "cell_type": "code",
   "execution_count": null,
   "metadata": {},
   "outputs": [],
   "source": [
    "princomp.explained_variance_ratio_.cumsum()"
   ]
  },
  {
   "cell_type": "markdown",
   "metadata": {},
   "source": [
    "### Critéiro 3: Variância explicada > x\n",
    "\n",
    "Variância explicada > x: Somando a variância explicada você pode estabelecer um valor mínimo exigido, por exemplo 90%, e selecionar o número de componentes que explica 90% da variância total."
   ]
  },
  {
   "cell_type": "code",
   "execution_count": null,
   "metadata": {
    "scrolled": false
   },
   "outputs": [],
   "source": [
    "# Critério 3: % variância explicada\n",
    "\n",
    "fig, ax = plt.subplots(2, 2, sharex=True, figsize=(14, 8))\n",
    "plt.subplots_adjust(hspace=0, wspace=.15)\n",
    "\n",
    "# Número de componentes pelo critério 3\n",
    "varexplicada = .95\n",
    "ncomp_criterio3 = (princomp.explained_variance_ratio_.cumsum()<varexplicada).sum()+1\n",
    "\n",
    "\n",
    "#Gráfico da variância nominal por qtd-componentes\n",
    "num_componentes = np.arange(princomp.n_components_) + 1\n",
    "ax[0,0].plot(num_componentes, princomp.explained_variance_, 'o-', linewidth=1, color='blue', markersize=2, alpha=.2)\n",
    "ax[0,0].set_title('Scree Plot - Variância total')\n",
    "ax[0,0].set_xlabel('Número de componentes')\n",
    "ax[0,0].set_ylabel('Variancia explicada (Autovalores)')\n",
    "\n",
    "#Gráfico da variância nominal acumulada por qtd-componentes\n",
    "ax[1,0].plot(num_componentes, princomp.explained_variance_.cumsum(), 'o-', linewidth=1, color='blue', markersize=2, alpha=.2)\n",
    "ax[1,0].set_xlabel('Número de componentes')\n",
    "ax[1,0].set_ylabel('Variancia explicada (Acumulada)')\n",
    "\n",
    "#Gráfico da variância percentual por qtd-componentes\n",
    "ax[0,1].plot(num_componentes, princomp.explained_variance_ratio_, 'o-', linewidth=1, color='blue', markersize=2, alpha=.2)\n",
    "ax[0,1].set_title('Scree Plot - Variância percentual')\n",
    "ax[0,1].set_xlabel('Número de componentes')\n",
    "ax[0,1].set_ylabel('Variancia explicada (percentual)')\n",
    "\n",
    "#Gráfico da variância percentual acumulada por qtd-componentes\n",
    "ax[1,1].plot(num_componentes, princomp.explained_variance_ratio_.cumsum(), 'o-', linewidth=1, color='blue', markersize=2, alpha=.2)\n",
    "ax[1,1].set_xlabel('Número de componentes')\n",
    "ax[1,1].set_ylabel('Variancia explicada (% Acumulado)')\n",
    "\n",
    "# linhas verticais de referência\n",
    "ax[0,0].axvline(x = ncomp_criterio3, color = 'r', linestyle = '-', linewidth=.5)\n",
    "ax[1,1].axvline(x = ncomp_criterio3, color = 'r', linestyle = '-', linewidth=.5)\n",
    "ax[1,0].axvline(x = ncomp_criterio3, color = 'r', linestyle = '-', linewidth=.5)\n",
    "ax[0,1].axvline(x = ncomp_criterio3, color = 'r', linestyle = '-', linewidth=.5)\n",
    "\n",
    "# linhas horizontais\n",
    "ncomp_criterio2 = 50\n",
    "ax[0,0].axhline(y = princomp.explained_variance_[ncomp_criterio3-1], color = 'r', linestyle = '-', linewidth=.5)\n",
    "ax[1,0].axhline(y = princomp.explained_variance_.cumsum()[ncomp_criterio3-1], color = 'r', linestyle = '-', linewidth=.5)\n",
    "ax[0,1].axhline(y = princomp.explained_variance_ratio_[ncomp_criterio3-1], color = 'r', linestyle = '-', linewidth=.5)\n",
    "ax[1,1].axhline(y = princomp.explained_variance_ratio_.cumsum()[ncomp_criterio3-1], color = 'r', linestyle = '-', linewidth=.5)\n",
    "\n",
    "plt.show()"
   ]
  },
  {
   "cell_type": "code",
   "execution_count": null,
   "metadata": {},
   "outputs": [],
   "source": []
  },
  {
   "cell_type": "markdown",
   "metadata": {},
   "source": [
    "## Reconhecimento de escrita manual"
   ]
  },
  {
   "cell_type": "markdown",
   "metadata": {},
   "source": [
    "### Carregando od dados\n",
    "\n",
    "Há duas opções para carregar os dados: \n",
    "\n",
    "1. Carregar do pacote Keras\n",
    "2. Carregar do website\n",
    "\n",
    "Das duas formas, os dados são baixados do site do [Yann LeCun](http://yann.lecun.com/exdb/mnist/).\n",
    "\n",
    "Se você já tem o Keras, pode utilizar a primeira, caso contrário a segunda vai ser mais fácil e mais leve."
   ]
  },
  {
   "cell_type": "code",
   "execution_count": null,
   "metadata": {},
   "outputs": [],
   "source": [
    "from keras.datasets.mnist import load_data\n",
    "\n",
    "(X_train, y_train), (X_test, y_test) = load_data()"
   ]
  },
  {
   "cell_type": "code",
   "execution_count": null,
   "metadata": {},
   "outputs": [],
   "source": [
    "%%time\n",
    "import mnist\n",
    "\n",
    "X_train = mnist.train_images()\n",
    "y_train = mnist.train_labels()\n",
    "\n",
    "X_test = mnist.test_images()\n",
    "y_test = mnist.test_labels()"
   ]
  },
  {
   "cell_type": "markdown",
   "metadata": {},
   "source": [
    "Recomendo salvar a base para evitar tráfego de rede nas próximas."
   ]
  },
  {
   "cell_type": "code",
   "execution_count": null,
   "metadata": {},
   "outputs": [],
   "source": [
    "###################\n",
    "# Persistir os dados no formato numpy\n",
    "# np.save('X_train.npy', X_train)\n",
    "# np.save('y_train.npy', y_train)\n",
    "\n",
    "# np.save('X_test.npy', X_test)\n",
    "# np.save('y_test.npy', y_test)\n",
    "\n",
    "###################\n",
    "# Ler os dados no formato numpy\n",
    "# X_train = np.load('X_train.npy')\n",
    "# y_train = np.load('y_train.npy')\n",
    "\n",
    "# X_test = np.load('X_test.npy')\n",
    "# y_test = np.load('y_test.npy')"
   ]
  },
  {
   "cell_type": "markdown",
   "metadata": {},
   "source": [
    "### Análise Exploratória\n",
    "\n",
    "Vamos fazer uma análise exploratória básica. Vamos entender como estão os dados, e avaliar se um determinado pixel tende a estar ou não preenchido para cada número."
   ]
  },
  {
   "cell_type": "code",
   "execution_count": null,
   "metadata": {},
   "outputs": [],
   "source": [
    "pd.set_option(\"display.max_columns\", None)"
   ]
  },
  {
   "cell_type": "code",
   "execution_count": null,
   "metadata": {},
   "outputs": [],
   "source": [
    "pd.DataFrame(X_train[0])"
   ]
  },
  {
   "cell_type": "code",
   "execution_count": null,
   "metadata": {},
   "outputs": [],
   "source": [
    "i=101\n",
    "plt.imshow(X_train[i], cmap=plt.get_cmap('gray'))\n",
    "print(f'o número é o {y_train[i]}')"
   ]
  },
  {
   "cell_type": "code",
   "execution_count": null,
   "metadata": {
    "scrolled": true
   },
   "outputs": [],
   "source": [
    "sns.boxplot(x=y_train, y=X_train[:,14,14])"
   ]
  },
  {
   "cell_type": "markdown",
   "metadata": {},
   "source": [
    "### Tratamento dos dados\n",
    "\n",
    "O tratamento que vamos utilizar aqui consiste em mudar o formato do array para ter apenas uma linha e 784 colunas. Vamos fazer isto através do método ```.reshape``` do numpy:\n",
    "\n",
    "- O objeto original é um *ndarray* de dimensões (60.000, 28, 28). Podemos entender como 60.000 matrizes de tamanho 28 x 28.\n",
    "- Vamos transformar em um *ndarray* de 2 dimensões com 60.000 linhas e 784 (= 28 x 28) colunas."
   ]
  },
  {
   "cell_type": "code",
   "execution_count": null,
   "metadata": {},
   "outputs": [],
   "source": [
    "%%time\n",
    "\n",
    "X_tra = X_train.reshape(X_train.shape[0],784)\n",
    "X_tst = X_test.reshape(X_test.shape[0],784)"
   ]
  },
  {
   "cell_type": "code",
   "execution_count": null,
   "metadata": {},
   "outputs": [],
   "source": [
    "X_tra.shape"
   ]
  },
  {
   "cell_type": "code",
   "execution_count": null,
   "metadata": {},
   "outputs": [],
   "source": [
    "28*28"
   ]
  },
  {
   "cell_type": "markdown",
   "metadata": {},
   "source": [
    "### Construindo o modelo\n",
    "\n",
    "Já vimos que há pixels informativos e não informativos. Agora vamos treinar um modelo com todos os pixels - vamos avaliar não só a acurácia, mas quanto tempo tomamos para rodar o nosso algoritmo."
   ]
  },
  {
   "cell_type": "code",
   "execution_count": null,
   "metadata": {},
   "outputs": [],
   "source": [
    "%%time\n",
    "\n",
    "# Definir a Random Forest\n",
    "clf=RandomForestClassifier(n_estimators=100)\n",
    "\n",
    "# Treinar o modelo na base de testes\n",
    "clf.fit(X_tra,y_train)"
   ]
  },
  {
   "cell_type": "markdown",
   "metadata": {},
   "source": [
    "### Acurácia do modelo\n",
    "\n",
    "Vamos fazer a avaliação básica da acurácia."
   ]
  },
  {
   "cell_type": "code",
   "execution_count": null,
   "metadata": {},
   "outputs": [],
   "source": [
    "y_pred=clf.predict(X_tst)\n",
    "print(f'A acurácia na base de testes é: {accuracy_score(y_pred, y_test)}')\n",
    "plot_confusion_matrix(clf, X_tst, y_test);"
   ]
  },
  {
   "cell_type": "markdown",
   "metadata": {},
   "source": [
    "### Mesma estrutura, com PCA\n",
    "\n",
    "Vamos repetir os mesmos passos, mas agora utilizando componentes principais. Vamos utilizar inicialmente 10 componentes."
   ]
  },
  {
   "cell_type": "code",
   "execution_count": null,
   "metadata": {},
   "outputs": [],
   "source": [
    "prcomp = PCA().fit(X_tra)"
   ]
  },
  {
   "cell_type": "code",
   "execution_count": null,
   "metadata": {},
   "outputs": [],
   "source": [
    "def screeplot(princomp, ncomp = 0, varexplicada=0, criterio=1):\n",
    "    \n",
    "    if ncomp>0:\n",
    "        ncomp_crit=ncomp\n",
    "    elif varexplicada > 0:\n",
    "        ncomp_crit = (princomp.explained_variance_ratio_.cumsum()<varexplicada).sum()+1 \n",
    "        # Critério 1: autovalor padronizado > 1\n",
    "    elif criterio == 1:\n",
    "        ncomp_crit = (princomp.explained_variance_ratio_>1/princomp.n_components_).sum()\n",
    "    else: ncomp_crit = None\n",
    "    \n",
    "    fig, ax = plt.subplots(2, 2, sharex=True, figsize=(14, 8))\n",
    "    plt.subplots_adjust(hspace=0, wspace=.15)\n",
    "\n",
    "\n",
    "    num_componentes = np.arange(princomp.n_components_) + 1\n",
    "    ax[0,0].plot(num_componentes, princomp.explained_variance_, 'o-', linewidth=2, color='blue', markersize=2, alpha=.2)\n",
    "    ax[0,0].set_title('Scree Plot - Variância total')\n",
    "    ax[0,0].set_xlabel('Número de componentes')\n",
    "    ax[0,0].set_ylabel('Variancia explicada (Autovalores)')\n",
    "\n",
    "    ax[1,0].plot(num_componentes, princomp.explained_variance_.cumsum(), 'o-', linewidth=2, color='blue', markersize=2, alpha=.2)\n",
    "    ax[1,0].set_xlabel('Número de componentes')\n",
    "    ax[1,0].set_ylabel('Variancia explicada (Acumulada)')\n",
    "\n",
    "\n",
    "    ax[0,1].plot(num_componentes, princomp.explained_variance_ratio_, 'o-', linewidth=2, color='blue', markersize=2, alpha=.2)\n",
    "    ax[0,1].set_title('Scree Plot - Variância percentual')\n",
    "    ax[0,1].set_xlabel('Número de componentes')\n",
    "    ax[0,1].set_ylabel('Variancia explicada (percentual)')\n",
    "\n",
    "    ax[1,1].plot(num_componentes, princomp.explained_variance_ratio_.cumsum(), 'o-', linewidth=2, color='blue', markersize=2, alpha=.2)\n",
    "    ax[1,1].set_xlabel('Número de componentes')\n",
    "    ax[1,1].set_ylabel('Variancia explicada (% Acumulado)')\n",
    "    \n",
    "    if ncomp_crit != None:\n",
    "        # Linhas verticais de referência\n",
    "        ax[0,0].axvline(x = ncomp_crit, color = 'r', linestyle = '-', linewidth=.5)\n",
    "        ax[1,1].axvline(x = ncomp_crit, color = 'r', linestyle = '-', linewidth=.5)\n",
    "        ax[1,0].axvline(x = ncomp_crit, color = 'r', linestyle = '-', linewidth=.5)\n",
    "        ax[0,1].axvline(x = ncomp_crit, color = 'r', linestyle = '-', linewidth=.5)\n",
    "\n",
    "\n",
    "        # linhas horizontais\n",
    "        variancia               = princomp.explained_variance_[ncomp_crit-1]\n",
    "        variancia_acumulada     = princomp.explained_variance_.cumsum()[ncomp_crit-1]\n",
    "        pct_variancia           = princomp.explained_variance_ratio_[ncomp_crit-1]\n",
    "        pct_variancia_acumulada = princomp.explained_variance_ratio_.cumsum()[ncomp_crit-1]\n",
    "        \n",
    "        ax[0,0].axhline(y = variancia              , color = 'r', linestyle = '-', linewidth=.5)\n",
    "        ax[1,0].axhline(y = variancia_acumulada    , color = 'r', linestyle = '-', linewidth=.5)\n",
    "        ax[0,1].axhline(y = pct_variancia          , color = 'r', linestyle = '-', linewidth=.5)\n",
    "        ax[1,1].axhline(y = pct_variancia_acumulada, color = 'r', linestyle = '-', linewidth=.5)\n",
    "\n",
    "\n",
    "    print(f'Número de componentes:............... {ncomp_crit}')\n",
    "    print(f'Variância da ultima CP:.............. {variancia:.2f}' )\n",
    "    print(f'Variância total explicada:........... {variancia_acumulada:.2f}' )\n",
    "    print(f'Variância percentual da última CP:... {100*pct_variancia:.2f}%' )\n",
    "    print(f'Variância percentual total explicada: {100*pct_variancia_acumulada:.2f}%' )\n",
    "    plt.show()\n",
    "    return ncomp_crit"
   ]
  },
  {
   "cell_type": "code",
   "execution_count": null,
   "metadata": {},
   "outputs": [],
   "source": [
    "# prcomp = PCA().fit(X_tra)\n",
    "ncomp = screeplot(prcomp, varexplicada=.80)"
   ]
  },
  {
   "cell_type": "code",
   "execution_count": null,
   "metadata": {},
   "outputs": [],
   "source": [
    "%%time\n",
    "prcomp = PCA(n_components = ncomp).fit(X_tra)\n",
    "\n",
    "cp_tr = prcomp.transform(X_tra)\n",
    "cp_ts = prcomp.transform(X_tst)"
   ]
  },
  {
   "cell_type": "markdown",
   "metadata": {},
   "source": [
    "### Análise descritiva das componentes\n",
    "\n",
    "Será que conseguimos uma boa discriminação utilizando as componentes principais? Vamos dar uma olhada na distribuição da primeira componente para cada dígito."
   ]
  },
  {
   "cell_type": "code",
   "execution_count": null,
   "metadata": {},
   "outputs": [],
   "source": [
    "sns.boxplot(x=y_train, y=cp_tr[:,0])"
   ]
  },
  {
   "cell_type": "markdown",
   "metadata": {},
   "source": [
    "### Construindo o modelo (com PCA)\n",
    "\n",
    "Vamos fazer uma árvore com estas componentes principais."
   ]
  },
  {
   "cell_type": "code",
   "execution_count": null,
   "metadata": {},
   "outputs": [],
   "source": [
    "cp_tr.shape"
   ]
  },
  {
   "cell_type": "code",
   "execution_count": null,
   "metadata": {},
   "outputs": [],
   "source": [
    "%%time\n",
    "\n",
    "# Definir a Random Forest\n",
    "clf=RandomForestClassifier(n_estimators=100)\n",
    "\n",
    "# Treinar o modelo na base de testes\n",
    "clf.fit(cp_tr,y_train)"
   ]
  },
  {
   "cell_type": "markdown",
   "metadata": {},
   "source": [
    "### Avaliando a acurácia do modelo com PCA\n",
    "\n",
    "Vamos avaliar a acurácia com o protocolo de sempre.\n",
    "\n",
    "Dado o ganho de velocidade, talvez fosse aceitável alguma perda de acurácia. Vamos ver..."
   ]
  },
  {
   "cell_type": "code",
   "execution_count": null,
   "metadata": {},
   "outputs": [],
   "source": [
    "y_pred=clf.predict(cp_ts)\n",
    "print(f'A acurácia na base de testes é: {accuracy_score(y_pred, y_test)}')\n",
    "plot_confusion_matrix(clf, cp_ts, y_test);"
   ]
  },
  {
   "cell_type": "markdown",
   "metadata": {},
   "source": [
    "### Avaliar a correlação das componentes com os pixels"
   ]
  },
  {
   "cell_type": "code",
   "execution_count": null,
   "metadata": {},
   "outputs": [],
   "source": [
    "plt.imshow(X_tra[0].reshape([28,28]), cmap=plt.get_cmap('gray'))"
   ]
  },
  {
   "cell_type": "code",
   "execution_count": null,
   "metadata": {},
   "outputs": [],
   "source": [
    "X_trcp = pd.concat([pd.DataFrame(cp_tr), pd.DataFrame(X_tra)], axis=1)"
   ]
  },
  {
   "cell_type": "code",
   "execution_count": null,
   "metadata": {},
   "outputs": [],
   "source": [
    "cor_cp = X_trcp.corr().iloc[10:, :10].to_numpy()\n",
    "cor_cp.shape\n"
   ]
  },
  {
   "cell_type": "code",
   "execution_count": null,
   "metadata": {
    "scrolled": true
   },
   "outputs": [],
   "source": [
    "plt.imshow(cor_cp[34:,3].reshape(28,28))"
   ]
  },
  {
   "cell_type": "code",
   "execution_count": null,
   "metadata": {},
   "outputs": [],
   "source": [
    "cor_cp[34:,4].shape"
   ]
  },
  {
   "cell_type": "code",
   "execution_count": null,
   "metadata": {},
   "outputs": [],
   "source": [
    "28*28"
   ]
  },
  {
   "cell_type": "code",
   "execution_count": null,
   "metadata": {},
   "outputs": [],
   "source": [
    "X_trcp.shape"
   ]
  },
  {
   "cell_type": "code",
   "execution_count": null,
   "metadata": {},
   "outputs": [],
   "source": []
  }
 ],
 "metadata": {
  "kernelspec": {
   "display_name": "Python 3 (ipykernel)",
   "language": "python",
   "name": "python3"
  },
  "language_info": {
   "codemirror_mode": {
    "name": "ipython",
    "version": 3
   },
   "file_extension": ".py",
   "mimetype": "text/x-python",
   "name": "python",
   "nbconvert_exporter": "python",
   "pygments_lexer": "ipython3",
   "version": "3.11.5"
  },
  "toc": {
   "base_numbering": 1,
   "nav_menu": {},
   "number_sections": true,
   "sideBar": true,
   "skip_h1_title": true,
   "title_cell": "Índice",
   "title_sidebar": "Conteúdo",
   "toc_cell": true,
   "toc_position": {
    "height": "calc(100% - 180px)",
    "left": "10px",
    "top": "150px",
    "width": "320px"
   },
   "toc_section_display": true,
   "toc_window_display": false
  },
  "varInspector": {
   "cols": {
    "lenName": 16,
    "lenType": 16,
    "lenVar": 40
   },
   "kernels_config": {
    "python": {
     "delete_cmd_postfix": "",
     "delete_cmd_prefix": "del ",
     "library": "var_list.py",
     "varRefreshCmd": "print(var_dic_list())"
    },
    "r": {
     "delete_cmd_postfix": ") ",
     "delete_cmd_prefix": "rm(",
     "library": "var_list.r",
     "varRefreshCmd": "cat(var_dic_list()) "
    }
   },
   "types_to_exclude": [
    "module",
    "function",
    "builtin_function_or_method",
    "instance",
    "_Feature"
   ],
   "window_display": false
  }
 },
 "nbformat": 4,
 "nbformat_minor": 4
}
