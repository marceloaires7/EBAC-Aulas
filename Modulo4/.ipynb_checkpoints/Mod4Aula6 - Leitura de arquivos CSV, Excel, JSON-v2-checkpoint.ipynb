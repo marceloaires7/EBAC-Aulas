{
 "cells": [
  {
   "cell_type": "markdown",
   "metadata": {},
   "source": [
    "# Leitura de arquivos CSV, Excel, JSON"
   ]
  },
  {
   "cell_type": "markdown",
   "metadata": {},
   "source": [
    "# Lendo CSV"
   ]
  },
  {
   "cell_type": "markdown",
   "metadata": {},
   "source": [
    "## BNDESPar\n",
    "- https://pt.wikipedia.org/wiki/Banco_Nacional_de_Desenvolvimento_Econ%C3%B4mico_e_Social\n",
    "- https://pt.wikipedia.org/wiki/BNDESPAR\n",
    "- https://dados.gov.br/dataset/renda-variavel\n",
    "    - https://dadosabertos.bndes.gov.br/dataset/68a85772-df73-4c8b-8b8c-398f494fcca8/resource/10ff2d60-02d1-4619-8e42-24fc2a5927dd/download/renda-variavel-participacoes-acionarias-historico-da-carteira.csv\n",
    "- https://www.bndes.gov.br/wps/portal/site/home/transparencia/consulta-operacoes-bndes/carteira-acionaria"
   ]
  },
  {
   "cell_type": "code",
   "execution_count": 1,
   "metadata": {
    "ExecuteTime": {
     "end_time": "2021-05-23T22:16:00.740101Z",
     "start_time": "2021-05-23T22:16:00.268356Z"
    }
   },
   "outputs": [],
   "source": [
    "import pandas as pd"
   ]
  },
  {
   "cell_type": "code",
   "execution_count": 2,
   "metadata": {
    "ExecuteTime": {
     "end_time": "2021-05-23T22:16:50.491625Z",
     "start_time": "2021-05-23T22:16:49.098810Z"
    },
    "scrolled": true
   },
   "outputs": [
    {
     "data": {
      "text/html": [
       "<div>\n",
       "<style scoped>\n",
       "    .dataframe tbody tr th:only-of-type {\n",
       "        vertical-align: middle;\n",
       "    }\n",
       "\n",
       "    .dataframe tbody tr th {\n",
       "        vertical-align: top;\n",
       "    }\n",
       "\n",
       "    .dataframe thead th {\n",
       "        text-align: right;\n",
       "    }\n",
       "</style>\n",
       "<table border=\"1\" class=\"dataframe\">\n",
       "  <thead>\n",
       "    <tr style=\"text-align: right;\">\n",
       "      <th></th>\n",
       "      <th>sigla</th>\n",
       "      <th>razao_social</th>\n",
       "      <th>cnpj</th>\n",
       "      <th>tipo_de_ativo</th>\n",
       "      <th>ano</th>\n",
       "      <th>setor_de_atividade</th>\n",
       "      <th>total_pp</th>\n",
       "      <th>on_pp</th>\n",
       "      <th>pn_pp</th>\n",
       "      <th>aberta_fechada</th>\n",
       "      <th>acordo_de_acionistas_em_vigor</th>\n",
       "      <th>indicado_para_conselho_de_administracao</th>\n",
       "      <th>indicado_para_conselho_fiscal</th>\n",
       "    </tr>\n",
       "  </thead>\n",
       "  <tbody>\n",
       "    <tr>\n",
       "      <th>0</th>\n",
       "      <td>ABICO</td>\n",
       "      <td>ABICO - CIA. DE INVESTIMENTOS ÁRABE E BRASILEIRO</td>\n",
       "      <td>42.470.443/0001-96</td>\n",
       "      <td>PARTICIPAÇÃO ACIONÁRIA</td>\n",
       "      <td>2023</td>\n",
       "      <td>OUTROS SETORES</td>\n",
       "      <td>35.0</td>\n",
       "      <td>35.0</td>\n",
       "      <td>0.0</td>\n",
       "      <td>FECHADA</td>\n",
       "      <td>NÃO</td>\n",
       "      <td>NÃO</td>\n",
       "      <td>NÃO</td>\n",
       "    </tr>\n",
       "    <tr>\n",
       "      <th>1</th>\n",
       "      <td>ABICO</td>\n",
       "      <td>ABICO - CIA. DE INVESTIMENTOS ÁRABE E BRASILEIRO</td>\n",
       "      <td>42.470.443/0001-96</td>\n",
       "      <td>PARTICIPAÇÃO ACIONÁRIA</td>\n",
       "      <td>2022</td>\n",
       "      <td>OUTROS SETORES</td>\n",
       "      <td>35.0</td>\n",
       "      <td>35.0</td>\n",
       "      <td>0.0</td>\n",
       "      <td>FECHADA</td>\n",
       "      <td>NÃO</td>\n",
       "      <td>NÃO</td>\n",
       "      <td>NÃO</td>\n",
       "    </tr>\n",
       "    <tr>\n",
       "      <th>2</th>\n",
       "      <td>ABICO</td>\n",
       "      <td>ABICO - CIA. DE INVESTIMENTOS ÁRABE E BRASILEIRO</td>\n",
       "      <td>42.470.443/0001-96</td>\n",
       "      <td>PARTICIPAÇÃO ACIONÁRIA</td>\n",
       "      <td>2021</td>\n",
       "      <td>OUTROS SETORES</td>\n",
       "      <td>35.0</td>\n",
       "      <td>35.0</td>\n",
       "      <td>0.0</td>\n",
       "      <td>FECHADA</td>\n",
       "      <td>NÃO</td>\n",
       "      <td>NÃO</td>\n",
       "      <td>NÃO</td>\n",
       "    </tr>\n",
       "    <tr>\n",
       "      <th>3</th>\n",
       "      <td>ABICO</td>\n",
       "      <td>ABICO - CIA. DE INVESTIMENTOS ÁRABE E BRASILEIRO</td>\n",
       "      <td>42.470.443/0001-96</td>\n",
       "      <td>PARTICIPAÇÃO ACIONÁRIA</td>\n",
       "      <td>2020</td>\n",
       "      <td>OUTROS SETORES</td>\n",
       "      <td>35.0</td>\n",
       "      <td>35.0</td>\n",
       "      <td>0.0</td>\n",
       "      <td>FECHADA</td>\n",
       "      <td>NÃO</td>\n",
       "      <td>NÃO</td>\n",
       "      <td>NÃO</td>\n",
       "    </tr>\n",
       "    <tr>\n",
       "      <th>4</th>\n",
       "      <td>ABICO</td>\n",
       "      <td>ABICO - CIA. DE INVESTIMENTOS ÁRABE E BRASILEIRO</td>\n",
       "      <td>42.470.443/0001-96</td>\n",
       "      <td>PARTICIPAÇÃO ACIONÁRIA</td>\n",
       "      <td>2019</td>\n",
       "      <td>OUTROS SETORES</td>\n",
       "      <td>35.0</td>\n",
       "      <td>35.0</td>\n",
       "      <td>0.0</td>\n",
       "      <td>FECHADA</td>\n",
       "      <td>NÃO</td>\n",
       "      <td>NÃO</td>\n",
       "      <td>NÃO</td>\n",
       "    </tr>\n",
       "  </tbody>\n",
       "</table>\n",
       "</div>"
      ],
      "text/plain": [
       "   sigla                                      razao_social  \\\n",
       "0  ABICO  ABICO - CIA. DE INVESTIMENTOS ÁRABE E BRASILEIRO   \n",
       "1  ABICO  ABICO - CIA. DE INVESTIMENTOS ÁRABE E BRASILEIRO   \n",
       "2  ABICO  ABICO - CIA. DE INVESTIMENTOS ÁRABE E BRASILEIRO   \n",
       "3  ABICO  ABICO - CIA. DE INVESTIMENTOS ÁRABE E BRASILEIRO   \n",
       "4  ABICO  ABICO - CIA. DE INVESTIMENTOS ÁRABE E BRASILEIRO   \n",
       "\n",
       "                 cnpj           tipo_de_ativo   ano setor_de_atividade  \\\n",
       "0  42.470.443/0001-96  PARTICIPAÇÃO ACIONÁRIA  2023     OUTROS SETORES   \n",
       "1  42.470.443/0001-96  PARTICIPAÇÃO ACIONÁRIA  2022     OUTROS SETORES   \n",
       "2  42.470.443/0001-96  PARTICIPAÇÃO ACIONÁRIA  2021     OUTROS SETORES   \n",
       "3  42.470.443/0001-96  PARTICIPAÇÃO ACIONÁRIA  2020     OUTROS SETORES   \n",
       "4  42.470.443/0001-96  PARTICIPAÇÃO ACIONÁRIA  2019     OUTROS SETORES   \n",
       "\n",
       "   total_pp  on_pp  pn_pp aberta_fechada acordo_de_acionistas_em_vigor  \\\n",
       "0      35.0   35.0    0.0        FECHADA                           NÃO   \n",
       "1      35.0   35.0    0.0        FECHADA                           NÃO   \n",
       "2      35.0   35.0    0.0        FECHADA                           NÃO   \n",
       "3      35.0   35.0    0.0        FECHADA                           NÃO   \n",
       "4      35.0   35.0    0.0        FECHADA                           NÃO   \n",
       "\n",
       "  indicado_para_conselho_de_administracao indicado_para_conselho_fiscal  \n",
       "0                                     NÃO                           NÃO  \n",
       "1                                     NÃO                           NÃO  \n",
       "2                                     NÃO                           NÃO  \n",
       "3                                     NÃO                           NÃO  \n",
       "4                                     NÃO                           NÃO  "
      ]
     },
     "execution_count": 2,
     "metadata": {},
     "output_type": "execute_result"
    }
   ],
   "source": [
    "participacoes_acionarias = pd.read_csv(\n",
    "    'https://dadosabertos.bndes.gov.br/dataset/68a85772-df73-4c8b-8b8c-398f494fcca8/resource/10ff2d60-02d1-4619-8e42-24fc2a5927dd/download/renda-variavel-participacoes-acionarias-historico-da-carteira.csv',\n",
    "    sep=';',\n",
    "    decimal=',')\n",
    "participacoes_acionarias.head()"
   ]
  },
  {
   "cell_type": "code",
   "execution_count": 3,
   "metadata": {
    "ExecuteTime": {
     "end_time": "2021-05-23T22:17:48.379418Z",
     "start_time": "2021-05-23T22:17:48.363437Z"
    }
   },
   "outputs": [
    {
     "name": "stdout",
     "output_type": "stream",
     "text": [
      "<class 'pandas.core.frame.DataFrame'>\n",
      "RangeIndex: 2212 entries, 0 to 2211\n",
      "Data columns (total 13 columns):\n",
      " #   Column                                   Non-Null Count  Dtype  \n",
      "---  ------                                   --------------  -----  \n",
      " 0   sigla                                    2212 non-null   object \n",
      " 1   razao_social                             2212 non-null   object \n",
      " 2   cnpj                                     2211 non-null   object \n",
      " 3   tipo_de_ativo                            2212 non-null   object \n",
      " 4   ano                                      2212 non-null   int64  \n",
      " 5   setor_de_atividade                       2208 non-null   object \n",
      " 6   total_pp                                 2189 non-null   float64\n",
      " 7   on_pp                                    2189 non-null   float64\n",
      " 8   pn_pp                                    2189 non-null   float64\n",
      " 9   aberta_fechada                           2211 non-null   object \n",
      " 10  acordo_de_acionistas_em_vigor            2212 non-null   object \n",
      " 11  indicado_para_conselho_de_administracao  2212 non-null   object \n",
      " 12  indicado_para_conselho_fiscal            2212 non-null   object \n",
      "dtypes: float64(3), int64(1), object(9)\n",
      "memory usage: 224.8+ KB\n"
     ]
    }
   ],
   "source": [
    "participacoes_acionarias.info()"
   ]
  },
  {
   "cell_type": "code",
   "execution_count": null,
   "metadata": {},
   "outputs": [],
   "source": []
  },
  {
   "cell_type": "markdown",
   "metadata": {},
   "source": [
    "### Qual a quantidade de participações em cada ano?"
   ]
  },
  {
   "cell_type": "code",
   "execution_count": 4,
   "metadata": {
    "ExecuteTime": {
     "end_time": "2021-05-23T22:18:33.679055Z",
     "start_time": "2021-05-23T22:18:33.664065Z"
    }
   },
   "outputs": [
    {
     "data": {
      "text/plain": [
       "2011    172\n",
       "2009    158\n",
       "2012    157\n",
       "2013    155\n",
       "2010    154\n",
       "2008    145\n",
       "2007    143\n",
       "2014    133\n",
       "2006    130\n",
       "2015    125\n",
       "2016    124\n",
       "2017    108\n",
       "2018    101\n",
       "2019     87\n",
       "2020     87\n",
       "2021     83\n",
       "2022     75\n",
       "2023     75\n",
       "Name: ano, dtype: int64"
      ]
     },
     "execution_count": 4,
     "metadata": {},
     "output_type": "execute_result"
    }
   ],
   "source": [
    "participacoes_acionarias['ano'].value_counts()"
   ]
  },
  {
   "cell_type": "markdown",
   "metadata": {},
   "source": [
    "### Em quais empresas o BNDESP já teve participação?"
   ]
  },
  {
   "cell_type": "code",
   "execution_count": 5,
   "metadata": {
    "ExecuteTime": {
     "end_time": "2021-05-23T22:19:33.576234Z",
     "start_time": "2021-05-23T22:19:33.559246Z"
    }
   },
   "outputs": [
    {
     "data": {
      "text/plain": [
       "array(['ABICO', 'AÇOS VILLARES', 'AES BRASIL ENER', 'AES COMM RJ',\n",
       "       'AES ELPA', 'AES TE', 'AES TH', 'AES TIETÊ', 'AES TIETÊ ENERG',\n",
       "       'AES URUGUAIANA', 'ÁGUIA', 'ALCOOLQUÍMICA', 'ALFATEST', 'ALTUS',\n",
       "       'ALUPAR', 'AMATA', 'AMATA URBEM', 'AMBEV', 'AMERICANAS',\n",
       "       'AMERICEL', 'ARACRUZ', 'ARCELORMITTAL', 'AUTEL', 'BANCO DO BRASIL',\n",
       "       'BCPAR', 'BEMATECH', 'BERTIN', 'BIO FILL', 'BIOMM', 'BIONNOVATION',\n",
       "       'BLOCKBIT', 'BM&F BOVESPA', 'BNB', 'BOM GOSTO', 'BOMBRIL',\n",
       "       'BR MALLS', 'BRADESCO', 'BRADESPAR', 'BRASAGRO', 'BRASIL FOODS',\n",
       "       'BRASIL TEL PART', 'BRASILIANA PART', 'BRASILINTERPART', 'BRASKEM',\n",
       "       'BRASPÉROLA', 'BRICLOG', 'BRQ', 'CADAM', 'CARBOMIL', 'CASA ANGLO',\n",
       "       'CASAL', 'CBD', 'CBO HOLDING', 'CBPAK', 'CCR', 'CCX', 'CEAL',\n",
       "       'CEG', 'CEMIG', 'CEMIG DISTRIB.', 'CEMIG GT', 'CESP', 'CETIP S.A.',\n",
       "       'CHAPECÓ', 'CI&T', 'CIELO', 'CIMETAL', 'CIPHER', 'CLAMPER',\n",
       "       'CLARO', 'COMTEX', 'COMTRAFO', 'COPASA', 'COPEL', 'COSAN',\n",
       "       'COSAN LOG', 'COTEMINAS', 'CPFL ENERGIA', 'CRP CADERI', 'CRSEC',\n",
       "       'CSN', 'CTC', 'CTC/RJ', 'CTTU/RECIFE', 'CTX', 'CYRELA REALTY',\n",
       "       'DETEN', 'DIGITEL', 'EBP', 'ECORODOVIAS INF', 'ELEBRA',\n",
       "       'ELETROACRE', 'ELETROBRÁS', 'ELETROPAULO', 'ELETROPAULO TEL',\n",
       "       'EMAE', 'EMBRAER', 'EMBRATEL OPER.', 'EMBRATEL PART.', 'ENB',\n",
       "       'ENERGISA', 'ENERGISA MT', 'ENEVA', 'ENGIE BRASIL', 'EQUATORIAL',\n",
       "       'ERB', 'FD ETF ICO2', 'FIAGRIL PART.', 'FIBRIA', 'FOTON', 'GAFISA',\n",
       "       'GENOA', 'GERDAU', 'GERDAU MET.', 'GOL', 'GRANBIO', 'GRANO',\n",
       "       'GRAÚNA', 'GRUPO A', 'HIDROVIAS', 'HIGH BRIDGE', 'HOSPITAL FÊMINA',\n",
       "       'HYPERA', 'IBEMA', 'IGUA SANEAMENTO', 'INDEPENDÊNCIA', 'INEPAR',\n",
       "       'INEPAR ENERGIA', 'IOCHPE', 'ITAITUBA', 'ITAÚ UNIBANCO',\n",
       "       'ITAUCORP', 'ITAÚSA', 'ITAUTINGA', 'IVESA', 'JBS', 'KEPLER WEBER',\n",
       "       'KLABIN', 'KLICK NET', 'KOBLITZ', 'KOSMOS', 'LATINA', 'LBR',\n",
       "       'LDC-BIOENERGIA', 'LDC-SEV', 'LIFEMED', 'LIGHT', 'LINX',\n",
       "       'LIQ. PART', 'LLX', 'LOG', 'LORENZ', 'LUPATECH', 'MADEF',\n",
       "       'MAGNESITA REFR.', 'MAGNESITA S.A.', 'MANGELS', 'MARCOPOLO',\n",
       "       'MARFRIG', 'MARLIM', 'MARLIMPAR', 'MECTRON', 'METALFRIO',\n",
       "       'METANOR', 'METRÔ/SP', 'MMX MINERAÇÃO', 'MOBIGROUP', 'MRV',\n",
       "       'MUNDIAL S.A.', 'MWI (ZUM NET)', 'NANOCORE', 'NATURA', 'NESBER',\n",
       "       'NET', 'NETUNO', 'NILZA', 'NORTEC', 'NOVA AMERICA', 'NOVADATA',\n",
       "       'NOVAMARLIMPAR', 'NUTRELLA', 'NUTRIPLANT', 'OCEANA',\n",
       "       'ODEBRECHT AGRO', 'OGP', 'OI', 'OPENCOMMERCE', 'ORBISAT', 'OTP',\n",
       "       'OURO FINO PAR', 'OURO FINO SAUDE', 'PADTEC', 'PADTEC HOLDING',\n",
       "       'PARANAPANEMA', 'PDG REALTY', 'PETROBRAS', 'POLY EASY', 'PORTX',\n",
       "       'PRATICA', 'PRÁTICA PAR', 'PROCABLE', 'PROGEN', 'PRONOR',\n",
       "       'QUALITY SOFT', 'RECEPTA', 'REDE ENERGIA', 'REDECARD', 'REIVAX',\n",
       "       'RELASTOMER', 'RENNER', 'RENOVA', 'RFFSA', 'RIOPOL', 'ROCHA',\n",
       "       'ROMI', 'ROOSTER', 'ROSSI', 'RUMO', 'RUMO LOGÍSTICA', 'SAM',\n",
       "       'SANTANDER', 'SÃO MARTINHO', 'SAPORE', 'SBCE', 'SETAL', 'SINQIA',\n",
       "       'SISA', 'SOROSISTEM', 'SOUZA CRUZ', 'SPRINGER', 'SPRINGS GLOBAL',\n",
       "       'STARA', 'SUNEW', 'SUZANO', 'TAESA', 'TAUM CHEMIE', 'TBM',\n",
       "       'TECNORED', 'TECPAR', 'TECSIS', 'TEIKON', 'TELEBRÁS',\n",
       "       'TELEFÔNICA BR', 'TELEMAR N LESTE', 'TELEMAR PART',\n",
       "       'TELEMIG CEL PAR', 'TELEMIG CELULAR', 'TIM PARTICIP.',\n",
       "       'TNLP (TELEMAR)', 'TOPSPORTS', 'TOTVS', 'TRANS. PAULISTA',\n",
       "       'TRANSNORDESTINA', 'TRANSURB', 'TREVISA', 'TRIUNFO', 'TUPY',\n",
       "       'UNITEC', 'USIMINAS', 'VALE', 'VALEPAR', 'VALLÉE', 'VBC ENERGIA',\n",
       "       'VICUNHA TÊXTIL', 'VIGOR', 'VIVO', 'VLI', 'VSE', 'VULCABRÁS',\n",
       "       'ZENVIA'], dtype=object)"
      ]
     },
     "execution_count": 5,
     "metadata": {},
     "output_type": "execute_result"
    }
   ],
   "source": [
    "participacoes_acionarias.sigla.unique()"
   ]
  },
  {
   "cell_type": "markdown",
   "metadata": {},
   "source": [
    "### Em quais empresas o BNDESP tem participação em 2021?"
   ]
  },
  {
   "cell_type": "code",
   "execution_count": 6,
   "metadata": {
    "ExecuteTime": {
     "end_time": "2021-05-23T22:20:24.833988Z",
     "start_time": "2021-05-23T22:20:24.800027Z"
    }
   },
   "outputs": [
    {
     "data": {
      "text/plain": [
       "array(['ABICO', 'AES BRASIL ENER', 'AES ELPA', 'ALCOOLQUÍMICA', 'AMATA',\n",
       "       'AMATA URBEM', 'BIOMM', 'BLOCKBIT', 'BOMBRIL', 'BRASAGRO',\n",
       "       'BRASILIANA PART', 'BRASILINTERPART', 'BRASPÉROLA', 'BRQ', 'CADAM',\n",
       "       'CARBOMIL', 'CASA ANGLO', 'CASAL', 'CEG', 'CEMIG', 'CHAPECÓ',\n",
       "       'COPASA', 'COPEL', 'COTEMINAS', 'CSN', 'CTC', 'CTC/RJ',\n",
       "       'CTTU/RECIFE', 'DETEN', 'EBP', 'ELEBRA', 'ELETROBRÁS', 'EMBRAER',\n",
       "       'ENERGISA', 'ENGIE BRASIL', 'ERB', 'GRANBIO', 'HIDROVIAS',\n",
       "       'IGUA SANEAMENTO', 'INDEPENDÊNCIA', 'IOCHPE', 'ITAITUBA',\n",
       "       'ITAUTINGA', 'JBS', 'KOSMOS', 'LBR', 'LIFEMED', 'LORENZ', 'MADEF',\n",
       "       'METANOR', 'METRÔ/SP', 'NESBER', 'NETUNO', 'NILZA', 'NOVA AMERICA',\n",
       "       'NOVADATA', 'OCEANA', 'OI', 'OTP', 'OURO FINO SAUDE',\n",
       "       'PADTEC HOLDING', 'PARANAPANEMA', 'PETROBRAS', 'PRATICA', 'PROGEN',\n",
       "       'QUALITY SOFT', 'RECEPTA', 'RENOVA', 'ROCHA', 'SAM', 'SPRINGER',\n",
       "       'SPRINGS GLOBAL', 'STARA', 'SUNEW', 'TAUM CHEMIE', 'TBM',\n",
       "       'TRANSNORDESTINA', 'TREVISA', 'TRIUNFO', 'TUPY', 'UNITEC', 'VLI',\n",
       "       'VULCABRÁS'], dtype=object)"
      ]
     },
     "execution_count": 6,
     "metadata": {},
     "output_type": "execute_result"
    }
   ],
   "source": [
    "participacoes_acionarias[participacoes_acionarias['ano'] == 2021].sigla.unique()"
   ]
  },
  {
   "cell_type": "code",
   "execution_count": null,
   "metadata": {},
   "outputs": [],
   "source": []
  },
  {
   "cell_type": "code",
   "execution_count": null,
   "metadata": {},
   "outputs": [],
   "source": []
  },
  {
   "cell_type": "markdown",
   "metadata": {},
   "source": [
    "# Lendo Excel"
   ]
  },
  {
   "cell_type": "markdown",
   "metadata": {},
   "source": [
    "\n",
    "## Brasileirão\n",
    "- https://github.com/adaoduque/Brasileirao_Dataset\n",
    "- https://github.com/adaoduque/Brasileirao_Dataset/raw/master/campeonato-brasileiro-full.xlsx\n",
    "- https://raw.githubusercontent.com/adaoduque/Brasileirao_Dataset/master/campeonato-brasileiro-estatisticas-full.csv"
   ]
  },
  {
   "cell_type": "code",
   "execution_count": 7,
   "metadata": {
    "ExecuteTime": {
     "end_time": "2021-05-23T22:23:33.099350Z",
     "start_time": "2021-05-23T22:23:30.149256Z"
    }
   },
   "outputs": [],
   "source": [
    "# o responsável pelo repositório arquivou o excel. Portanto basta usar a célula abaixo.\n",
    "# brasileirao = pd.read_excel('https://github.com/adaoduque/Brasileirao_Dataset/raw/master/campeonato-brasileiro-full.xlsx')"
   ]
  },
  {
   "cell_type": "code",
   "execution_count": 8,
   "metadata": {},
   "outputs": [],
   "source": [
    "brasileirao = pd.read_excel('https://github.com/LucasSerra/EBAC-parte-1/raw/main/mod-4/input/campeonato-brasileiro-full.xlsx')"
   ]
  },
  {
   "cell_type": "code",
   "execution_count": 9,
   "metadata": {
    "ExecuteTime": {
     "end_time": "2021-05-23T22:23:35.627557Z",
     "start_time": "2021-05-23T22:23:35.596574Z"
    },
    "scrolled": true
   },
   "outputs": [
    {
     "data": {
      "text/html": [
       "<div>\n",
       "<style scoped>\n",
       "    .dataframe tbody tr th:only-of-type {\n",
       "        vertical-align: middle;\n",
       "    }\n",
       "\n",
       "    .dataframe tbody tr th {\n",
       "        vertical-align: top;\n",
       "    }\n",
       "\n",
       "    .dataframe thead th {\n",
       "        text-align: right;\n",
       "    }\n",
       "</style>\n",
       "<table border=\"1\" class=\"dataframe\">\n",
       "  <thead>\n",
       "    <tr style=\"text-align: right;\">\n",
       "      <th></th>\n",
       "      <th>Rodada</th>\n",
       "      <th>Data</th>\n",
       "      <th>Horário</th>\n",
       "      <th>Dia</th>\n",
       "      <th>Mandante</th>\n",
       "      <th>Visitante</th>\n",
       "      <th>Vencedor</th>\n",
       "      <th>Arena</th>\n",
       "      <th>Mandante Placar</th>\n",
       "      <th>Visitante Placar</th>\n",
       "      <th>Estado Mandante</th>\n",
       "      <th>Estado Visitante</th>\n",
       "      <th>Estado Vencedor</th>\n",
       "    </tr>\n",
       "  </thead>\n",
       "  <tbody>\n",
       "    <tr>\n",
       "      <th>0</th>\n",
       "      <td>1</td>\n",
       "      <td>2000-07-29</td>\n",
       "      <td>16h00</td>\n",
       "      <td>Sábado</td>\n",
       "      <td>Fluminense</td>\n",
       "      <td>Bahia</td>\n",
       "      <td>Fluminense</td>\n",
       "      <td>Maracanã</td>\n",
       "      <td>2</td>\n",
       "      <td>0</td>\n",
       "      <td>RJ</td>\n",
       "      <td>BA</td>\n",
       "      <td>RJ</td>\n",
       "    </tr>\n",
       "    <tr>\n",
       "      <th>1</th>\n",
       "      <td>1</td>\n",
       "      <td>2000-07-29</td>\n",
       "      <td>16h00</td>\n",
       "      <td>Sábado</td>\n",
       "      <td>Vasco</td>\n",
       "      <td>Sport</td>\n",
       "      <td>Sport</td>\n",
       "      <td>São Januário</td>\n",
       "      <td>0</td>\n",
       "      <td>2</td>\n",
       "      <td>RJ</td>\n",
       "      <td>PE</td>\n",
       "      <td>PE</td>\n",
       "    </tr>\n",
       "    <tr>\n",
       "      <th>2</th>\n",
       "      <td>1</td>\n",
       "      <td>2000-07-29</td>\n",
       "      <td>16h00</td>\n",
       "      <td>Sábado</td>\n",
       "      <td>Vitória</td>\n",
       "      <td>Palmeiras</td>\n",
       "      <td>Vitória</td>\n",
       "      <td>Barradão</td>\n",
       "      <td>4</td>\n",
       "      <td>1</td>\n",
       "      <td>ES</td>\n",
       "      <td>SP</td>\n",
       "      <td>ES</td>\n",
       "    </tr>\n",
       "    <tr>\n",
       "      <th>3</th>\n",
       "      <td>1</td>\n",
       "      <td>2000-07-30</td>\n",
       "      <td>17h00</td>\n",
       "      <td>Domingo</td>\n",
       "      <td>Botafogo-RJ</td>\n",
       "      <td>Atlético-MG</td>\n",
       "      <td>-</td>\n",
       "      <td>Caio Martins</td>\n",
       "      <td>0</td>\n",
       "      <td>0</td>\n",
       "      <td>RJ</td>\n",
       "      <td>MG</td>\n",
       "      <td>-</td>\n",
       "    </tr>\n",
       "    <tr>\n",
       "      <th>4</th>\n",
       "      <td>1</td>\n",
       "      <td>2000-07-30</td>\n",
       "      <td>18h30</td>\n",
       "      <td>Domingo</td>\n",
       "      <td>Juventude</td>\n",
       "      <td>Flamengo</td>\n",
       "      <td>-</td>\n",
       "      <td>Alfredo Jaconi</td>\n",
       "      <td>1</td>\n",
       "      <td>1</td>\n",
       "      <td>RS</td>\n",
       "      <td>RJ</td>\n",
       "      <td>-</td>\n",
       "    </tr>\n",
       "  </tbody>\n",
       "</table>\n",
       "</div>"
      ],
      "text/plain": [
       "  Rodada       Data Horário      Dia     Mandante    Visitante    Vencedor  \\\n",
       "0      1 2000-07-29   16h00   Sábado   Fluminense        Bahia  Fluminense   \n",
       "1      1 2000-07-29   16h00   Sábado        Vasco        Sport       Sport   \n",
       "2      1 2000-07-29   16h00   Sábado      Vitória    Palmeiras     Vitória   \n",
       "3      1 2000-07-30   17h00  Domingo  Botafogo-RJ  Atlético-MG           -   \n",
       "4      1 2000-07-30   18h30  Domingo    Juventude     Flamengo           -   \n",
       "\n",
       "            Arena  Mandante Placar  Visitante Placar Estado Mandante  \\\n",
       "0        Maracanã                2                 0              RJ   \n",
       "1    São Januário                0                 2              RJ   \n",
       "2        Barradão                4                 1              ES   \n",
       "3    Caio Martins                0                 0              RJ   \n",
       "4  Alfredo Jaconi                1                 1              RS   \n",
       "\n",
       "  Estado Visitante Estado Vencedor  \n",
       "0               BA              RJ  \n",
       "1               PE              PE  \n",
       "2               SP              ES  \n",
       "3               MG               -  \n",
       "4               RJ               -  "
      ]
     },
     "execution_count": 9,
     "metadata": {},
     "output_type": "execute_result"
    }
   ],
   "source": [
    "brasileirao.head()"
   ]
  },
  {
   "cell_type": "code",
   "execution_count": 10,
   "metadata": {
    "ExecuteTime": {
     "end_time": "2021-05-23T22:24:10.187850Z",
     "start_time": "2021-05-23T22:24:10.174880Z"
    }
   },
   "outputs": [
    {
     "data": {
      "text/plain": [
       "Rodada                      object\n",
       "Data                datetime64[ns]\n",
       "Horário                     object\n",
       "Dia                         object\n",
       "Mandante                    object\n",
       "Visitante                   object\n",
       "Vencedor                    object\n",
       "Arena                       object\n",
       "Mandante Placar              int64\n",
       "Visitante Placar             int64\n",
       "Estado Mandante             object\n",
       "Estado Visitante            object\n",
       "Estado Vencedor             object\n",
       "dtype: object"
      ]
     },
     "execution_count": 10,
     "metadata": {},
     "output_type": "execute_result"
    }
   ],
   "source": [
    "brasileirao.dtypes"
   ]
  },
  {
   "cell_type": "markdown",
   "metadata": {},
   "source": [
    "### Qual o maior vencedor de jogos?"
   ]
  },
  {
   "cell_type": "code",
   "execution_count": 11,
   "metadata": {
    "ExecuteTime": {
     "end_time": "2021-05-23T22:24:52.522191Z",
     "start_time": "2021-05-23T22:24:52.505195Z"
    },
    "scrolled": true
   },
   "outputs": [
    {
     "data": {
      "text/plain": [
       "-                  2148\n",
       "São Paulo           366\n",
       "Santos              333\n",
       "Grêmio              322\n",
       "Internacional       322\n",
       "Cruzeiro            322\n",
       "Flamengo            319\n",
       "Corinthians         306\n",
       "Athlético-PR        306\n",
       "Fluminense          306\n",
       "Atlético-MG         302\n",
       "Palmeiras           294\n",
       "Vasco               226\n",
       "Goiás               223\n",
       "Botafogo-RJ         210\n",
       "Coritiba            194\n",
       "Vitória             152\n",
       "Figueirense         151\n",
       "Ponte Preta         149\n",
       "Sport               139\n",
       "Bahia               135\n",
       "Paraná              104\n",
       "São Caetano         103\n",
       "Juventude            96\n",
       "Chapecoense          69\n",
       "Guarani              63\n",
       "Fortaleza            61\n",
       "Portuguesa           57\n",
       "Avaí                 57\n",
       "Ceará                54\n",
       "Náutico              54\n",
       "Atlético-GO          51\n",
       "Criciúma             50\n",
       "Paysandu             50\n",
       "América-MG           38\n",
       "Botafogo-rj          26\n",
       "Santa Cruz           25\n",
       "Gama                 21\n",
       "Bragantino           13\n",
       "Barueri              12\n",
       "Santo André          11\n",
       "Brasiliense          10\n",
       "Ipatinga              9\n",
       "CSA                   8\n",
       "Grêmio Prudente       7\n",
       "Joinville             7\n",
       "SANTOS                6\n",
       "Botafogo-SP           6\n",
       "CRUZEIRO              4\n",
       "VASCO                 4\n",
       "FLUMINENSE            4\n",
       "América-RN            4\n",
       "CORINTHIANS           3\n",
       "SPORT                 2\n",
       "FLAMENGO              1\n",
       "PONTE PRETA           1\n",
       "INTERNACIONAL         1\n",
       "PALMEIRAS             1\n",
       "portuguesa            1\n",
       "Name: Vencedor, dtype: int64"
      ]
     },
     "execution_count": 11,
     "metadata": {},
     "output_type": "execute_result"
    }
   ],
   "source": [
    "brasileirao.Vencedor.value_counts()"
   ]
  },
  {
   "cell_type": "markdown",
   "metadata": {},
   "source": [
    "### Qual a tabela de jogos vencidos por clube na temporada de 2020? \n",
    "(periodo temp = '2020-01-01' a '2021-02-26')"
   ]
  },
  {
   "cell_type": "code",
   "execution_count": 12,
   "metadata": {
    "ExecuteTime": {
     "end_time": "2021-05-23T22:26:32.586700Z",
     "start_time": "2021-05-23T22:26:32.574724Z"
    }
   },
   "outputs": [
    {
     "data": {
      "text/plain": [
       "0       False\n",
       "1       False\n",
       "2       False\n",
       "3       False\n",
       "4       False\n",
       "        ...  \n",
       "8314     True\n",
       "8315     True\n",
       "8316     True\n",
       "8317     True\n",
       "8318     True\n",
       "Name: Data, Length: 8319, dtype: bool"
      ]
     },
     "execution_count": 12,
     "metadata": {},
     "output_type": "execute_result"
    }
   ],
   "source": [
    "cond = (brasileirao['Data'] >= '2020-01-01')& (brasileirao['Data'] <= '2021-02-26')\n",
    "cond"
   ]
  },
  {
   "cell_type": "code",
   "execution_count": 13,
   "metadata": {
    "ExecuteTime": {
     "end_time": "2021-05-23T22:27:06.731593Z",
     "start_time": "2021-05-23T22:27:06.713602Z"
    }
   },
   "outputs": [
    {
     "data": {
      "text/plain": [
       "-                108\n",
       "Flamengo          21\n",
       "Atlético-MG       20\n",
       "Internacional     20\n",
       "São Paulo         18\n",
       "Fluminense        18\n",
       "Palmeiras         15\n",
       "Athlético-PR      15\n",
       "Grêmio            14\n",
       "Santos            14\n",
       "Ceará             14\n",
       "Bragantino        13\n",
       "Corinthians       13\n",
       "Atlético-GO       12\n",
       "Bahia             12\n",
       "Sport             12\n",
       "Vasco             10\n",
       "Fortaleza         10\n",
       "Goiás              9\n",
       "Coritiba           7\n",
       "Botafogo-RJ        5\n",
       "Name: Vencedor, dtype: int64"
      ]
     },
     "execution_count": 13,
     "metadata": {},
     "output_type": "execute_result"
    }
   ],
   "source": [
    "brasileirao[cond]['Vencedor'].value_counts()"
   ]
  },
  {
   "cell_type": "markdown",
   "metadata": {},
   "source": [
    "### Qual a quantidade de partidas realizadas em cada estádio?"
   ]
  },
  {
   "cell_type": "code",
   "execution_count": 14,
   "metadata": {
    "ExecuteTime": {
     "end_time": "2021-05-23T22:27:59.423751Z",
     "start_time": "2021-05-23T22:27:59.414768Z"
    }
   },
   "outputs": [
    {
     "data": {
      "text/plain": [
       "Maracanã             626\n",
       "Mineirão             466\n",
       "Morumbi              407\n",
       "Beira Rio            352\n",
       "Vila Belmiro         340\n",
       "                    ... \n",
       "Romildo Ferreira       1\n",
       "Vivaldo Lima           1\n",
       "Pedro Pedrossian       1\n",
       "Antônio Guimarães      1\n",
       "Plácido Castelo        1\n",
       "Name: Arena, Length: 114, dtype: int64"
      ]
     },
     "execution_count": 14,
     "metadata": {},
     "output_type": "execute_result"
    }
   ],
   "source": [
    "brasileirao.Arena.value_counts()"
   ]
  },
  {
   "cell_type": "code",
   "execution_count": null,
   "metadata": {},
   "outputs": [],
   "source": []
  },
  {
   "cell_type": "markdown",
   "metadata": {},
   "source": [
    "# Lendo JSON"
   ]
  },
  {
   "cell_type": "markdown",
   "metadata": {},
   "source": [
    "## MeiliSearch\n",
    "- https://github.com/meilisearch/MeiliSearch\n",
    "- https://raw.githubusercontent.com/meilisearch/MeiliSearch/main/datasets/movies/movies.json"
   ]
  },
  {
   "cell_type": "code",
   "execution_count": 15,
   "metadata": {
    "ExecuteTime": {
     "end_time": "2021-05-23T22:29:12.955283Z",
     "start_time": "2021-05-23T22:29:11.015199Z"
    }
   },
   "outputs": [
    {
     "ename": "HTTPError",
     "evalue": "HTTP Error 404: Not Found",
     "output_type": "error",
     "traceback": [
      "\u001b[1;31m---------------------------------------------------------------------------\u001b[0m",
      "\u001b[1;31mHTTPError\u001b[0m                                 Traceback (most recent call last)",
      "Cell \u001b[1;32mIn[15], line 1\u001b[0m\n\u001b[1;32m----> 1\u001b[0m movies \u001b[38;5;241m=\u001b[39m \u001b[43mpd\u001b[49m\u001b[38;5;241;43m.\u001b[39;49m\u001b[43mread_json\u001b[49m\u001b[43m(\u001b[49m\u001b[38;5;124;43m'\u001b[39;49m\u001b[38;5;124;43mhttps://raw.githubusercontent.com/meilisearch/MeiliSearch/main/datasets/movies/movies.json\u001b[39;49m\u001b[38;5;124;43m'\u001b[39;49m\u001b[43m)\u001b[49m\n",
      "File \u001b[1;32m~\\anaconda3\\lib\\site-packages\\pandas\\util\\_decorators.py:211\u001b[0m, in \u001b[0;36mdeprecate_kwarg.<locals>._deprecate_kwarg.<locals>.wrapper\u001b[1;34m(*args, **kwargs)\u001b[0m\n\u001b[0;32m    209\u001b[0m     \u001b[38;5;28;01melse\u001b[39;00m:\n\u001b[0;32m    210\u001b[0m         kwargs[new_arg_name] \u001b[38;5;241m=\u001b[39m new_arg_value\n\u001b[1;32m--> 211\u001b[0m \u001b[38;5;28;01mreturn\u001b[39;00m func(\u001b[38;5;241m*\u001b[39margs, \u001b[38;5;241m*\u001b[39m\u001b[38;5;241m*\u001b[39mkwargs)\n",
      "File \u001b[1;32m~\\anaconda3\\lib\\site-packages\\pandas\\util\\_decorators.py:331\u001b[0m, in \u001b[0;36mdeprecate_nonkeyword_arguments.<locals>.decorate.<locals>.wrapper\u001b[1;34m(*args, **kwargs)\u001b[0m\n\u001b[0;32m    325\u001b[0m \u001b[38;5;28;01mif\u001b[39;00m \u001b[38;5;28mlen\u001b[39m(args) \u001b[38;5;241m>\u001b[39m num_allow_args:\n\u001b[0;32m    326\u001b[0m     warnings\u001b[38;5;241m.\u001b[39mwarn(\n\u001b[0;32m    327\u001b[0m         msg\u001b[38;5;241m.\u001b[39mformat(arguments\u001b[38;5;241m=\u001b[39m_format_argument_list(allow_args)),\n\u001b[0;32m    328\u001b[0m         \u001b[38;5;167;01mFutureWarning\u001b[39;00m,\n\u001b[0;32m    329\u001b[0m         stacklevel\u001b[38;5;241m=\u001b[39mfind_stack_level(),\n\u001b[0;32m    330\u001b[0m     )\n\u001b[1;32m--> 331\u001b[0m \u001b[38;5;28;01mreturn\u001b[39;00m func(\u001b[38;5;241m*\u001b[39margs, \u001b[38;5;241m*\u001b[39m\u001b[38;5;241m*\u001b[39mkwargs)\n",
      "File \u001b[1;32m~\\anaconda3\\lib\\site-packages\\pandas\\io\\json\\_json.py:733\u001b[0m, in \u001b[0;36mread_json\u001b[1;34m(path_or_buf, orient, typ, dtype, convert_axes, convert_dates, keep_default_dates, numpy, precise_float, date_unit, encoding, encoding_errors, lines, chunksize, compression, nrows, storage_options)\u001b[0m\n\u001b[0;32m    730\u001b[0m \u001b[38;5;28;01mif\u001b[39;00m convert_axes \u001b[38;5;129;01mis\u001b[39;00m \u001b[38;5;28;01mNone\u001b[39;00m \u001b[38;5;129;01mand\u001b[39;00m orient \u001b[38;5;241m!=\u001b[39m \u001b[38;5;124m\"\u001b[39m\u001b[38;5;124mtable\u001b[39m\u001b[38;5;124m\"\u001b[39m:\n\u001b[0;32m    731\u001b[0m     convert_axes \u001b[38;5;241m=\u001b[39m \u001b[38;5;28;01mTrue\u001b[39;00m\n\u001b[1;32m--> 733\u001b[0m json_reader \u001b[38;5;241m=\u001b[39m \u001b[43mJsonReader\u001b[49m\u001b[43m(\u001b[49m\n\u001b[0;32m    734\u001b[0m \u001b[43m    \u001b[49m\u001b[43mpath_or_buf\u001b[49m\u001b[43m,\u001b[49m\n\u001b[0;32m    735\u001b[0m \u001b[43m    \u001b[49m\u001b[43morient\u001b[49m\u001b[38;5;241;43m=\u001b[39;49m\u001b[43morient\u001b[49m\u001b[43m,\u001b[49m\n\u001b[0;32m    736\u001b[0m \u001b[43m    \u001b[49m\u001b[43mtyp\u001b[49m\u001b[38;5;241;43m=\u001b[39;49m\u001b[43mtyp\u001b[49m\u001b[43m,\u001b[49m\n\u001b[0;32m    737\u001b[0m \u001b[43m    \u001b[49m\u001b[43mdtype\u001b[49m\u001b[38;5;241;43m=\u001b[39;49m\u001b[43mdtype\u001b[49m\u001b[43m,\u001b[49m\n\u001b[0;32m    738\u001b[0m \u001b[43m    \u001b[49m\u001b[43mconvert_axes\u001b[49m\u001b[38;5;241;43m=\u001b[39;49m\u001b[43mconvert_axes\u001b[49m\u001b[43m,\u001b[49m\n\u001b[0;32m    739\u001b[0m \u001b[43m    \u001b[49m\u001b[43mconvert_dates\u001b[49m\u001b[38;5;241;43m=\u001b[39;49m\u001b[43mconvert_dates\u001b[49m\u001b[43m,\u001b[49m\n\u001b[0;32m    740\u001b[0m \u001b[43m    \u001b[49m\u001b[43mkeep_default_dates\u001b[49m\u001b[38;5;241;43m=\u001b[39;49m\u001b[43mkeep_default_dates\u001b[49m\u001b[43m,\u001b[49m\n\u001b[0;32m    741\u001b[0m \u001b[43m    \u001b[49m\u001b[43mnumpy\u001b[49m\u001b[38;5;241;43m=\u001b[39;49m\u001b[43mnumpy\u001b[49m\u001b[43m,\u001b[49m\n\u001b[0;32m    742\u001b[0m \u001b[43m    \u001b[49m\u001b[43mprecise_float\u001b[49m\u001b[38;5;241;43m=\u001b[39;49m\u001b[43mprecise_float\u001b[49m\u001b[43m,\u001b[49m\n\u001b[0;32m    743\u001b[0m \u001b[43m    \u001b[49m\u001b[43mdate_unit\u001b[49m\u001b[38;5;241;43m=\u001b[39;49m\u001b[43mdate_unit\u001b[49m\u001b[43m,\u001b[49m\n\u001b[0;32m    744\u001b[0m \u001b[43m    \u001b[49m\u001b[43mencoding\u001b[49m\u001b[38;5;241;43m=\u001b[39;49m\u001b[43mencoding\u001b[49m\u001b[43m,\u001b[49m\n\u001b[0;32m    745\u001b[0m \u001b[43m    \u001b[49m\u001b[43mlines\u001b[49m\u001b[38;5;241;43m=\u001b[39;49m\u001b[43mlines\u001b[49m\u001b[43m,\u001b[49m\n\u001b[0;32m    746\u001b[0m \u001b[43m    \u001b[49m\u001b[43mchunksize\u001b[49m\u001b[38;5;241;43m=\u001b[39;49m\u001b[43mchunksize\u001b[49m\u001b[43m,\u001b[49m\n\u001b[0;32m    747\u001b[0m \u001b[43m    \u001b[49m\u001b[43mcompression\u001b[49m\u001b[38;5;241;43m=\u001b[39;49m\u001b[43mcompression\u001b[49m\u001b[43m,\u001b[49m\n\u001b[0;32m    748\u001b[0m \u001b[43m    \u001b[49m\u001b[43mnrows\u001b[49m\u001b[38;5;241;43m=\u001b[39;49m\u001b[43mnrows\u001b[49m\u001b[43m,\u001b[49m\n\u001b[0;32m    749\u001b[0m \u001b[43m    \u001b[49m\u001b[43mstorage_options\u001b[49m\u001b[38;5;241;43m=\u001b[39;49m\u001b[43mstorage_options\u001b[49m\u001b[43m,\u001b[49m\n\u001b[0;32m    750\u001b[0m \u001b[43m    \u001b[49m\u001b[43mencoding_errors\u001b[49m\u001b[38;5;241;43m=\u001b[39;49m\u001b[43mencoding_errors\u001b[49m\u001b[43m,\u001b[49m\n\u001b[0;32m    751\u001b[0m \u001b[43m\u001b[49m\u001b[43m)\u001b[49m\n\u001b[0;32m    753\u001b[0m \u001b[38;5;28;01mif\u001b[39;00m chunksize:\n\u001b[0;32m    754\u001b[0m     \u001b[38;5;28;01mreturn\u001b[39;00m json_reader\n",
      "File \u001b[1;32m~\\anaconda3\\lib\\site-packages\\pandas\\io\\json\\_json.py:818\u001b[0m, in \u001b[0;36mJsonReader.__init__\u001b[1;34m(self, filepath_or_buffer, orient, typ, dtype, convert_axes, convert_dates, keep_default_dates, numpy, precise_float, date_unit, encoding, lines, chunksize, compression, nrows, storage_options, encoding_errors)\u001b[0m\n\u001b[0;32m    815\u001b[0m     \u001b[38;5;28;01mif\u001b[39;00m \u001b[38;5;129;01mnot\u001b[39;00m \u001b[38;5;28mself\u001b[39m\u001b[38;5;241m.\u001b[39mlines:\n\u001b[0;32m    816\u001b[0m         \u001b[38;5;28;01mraise\u001b[39;00m \u001b[38;5;167;01mValueError\u001b[39;00m(\u001b[38;5;124m\"\u001b[39m\u001b[38;5;124mnrows can only be passed if lines=True\u001b[39m\u001b[38;5;124m\"\u001b[39m)\n\u001b[1;32m--> 818\u001b[0m data \u001b[38;5;241m=\u001b[39m \u001b[38;5;28;43mself\u001b[39;49m\u001b[38;5;241;43m.\u001b[39;49m\u001b[43m_get_data_from_filepath\u001b[49m\u001b[43m(\u001b[49m\u001b[43mfilepath_or_buffer\u001b[49m\u001b[43m)\u001b[49m\n\u001b[0;32m    819\u001b[0m \u001b[38;5;28mself\u001b[39m\u001b[38;5;241m.\u001b[39mdata \u001b[38;5;241m=\u001b[39m \u001b[38;5;28mself\u001b[39m\u001b[38;5;241m.\u001b[39m_preprocess_data(data)\n",
      "File \u001b[1;32m~\\anaconda3\\lib\\site-packages\\pandas\\io\\json\\_json.py:858\u001b[0m, in \u001b[0;36mJsonReader._get_data_from_filepath\u001b[1;34m(self, filepath_or_buffer)\u001b[0m\n\u001b[0;32m    851\u001b[0m filepath_or_buffer \u001b[38;5;241m=\u001b[39m stringify_path(filepath_or_buffer)\n\u001b[0;32m    852\u001b[0m \u001b[38;5;28;01mif\u001b[39;00m (\n\u001b[0;32m    853\u001b[0m     \u001b[38;5;129;01mnot\u001b[39;00m \u001b[38;5;28misinstance\u001b[39m(filepath_or_buffer, \u001b[38;5;28mstr\u001b[39m)\n\u001b[0;32m    854\u001b[0m     \u001b[38;5;129;01mor\u001b[39;00m is_url(filepath_or_buffer)\n\u001b[0;32m    855\u001b[0m     \u001b[38;5;129;01mor\u001b[39;00m is_fsspec_url(filepath_or_buffer)\n\u001b[0;32m    856\u001b[0m     \u001b[38;5;129;01mor\u001b[39;00m file_exists(filepath_or_buffer)\n\u001b[0;32m    857\u001b[0m ):\n\u001b[1;32m--> 858\u001b[0m     \u001b[38;5;28mself\u001b[39m\u001b[38;5;241m.\u001b[39mhandles \u001b[38;5;241m=\u001b[39m \u001b[43mget_handle\u001b[49m\u001b[43m(\u001b[49m\n\u001b[0;32m    859\u001b[0m \u001b[43m        \u001b[49m\u001b[43mfilepath_or_buffer\u001b[49m\u001b[43m,\u001b[49m\n\u001b[0;32m    860\u001b[0m \u001b[43m        \u001b[49m\u001b[38;5;124;43m\"\u001b[39;49m\u001b[38;5;124;43mr\u001b[39;49m\u001b[38;5;124;43m\"\u001b[39;49m\u001b[43m,\u001b[49m\n\u001b[0;32m    861\u001b[0m \u001b[43m        \u001b[49m\u001b[43mencoding\u001b[49m\u001b[38;5;241;43m=\u001b[39;49m\u001b[38;5;28;43mself\u001b[39;49m\u001b[38;5;241;43m.\u001b[39;49m\u001b[43mencoding\u001b[49m\u001b[43m,\u001b[49m\n\u001b[0;32m    862\u001b[0m \u001b[43m        \u001b[49m\u001b[43mcompression\u001b[49m\u001b[38;5;241;43m=\u001b[39;49m\u001b[38;5;28;43mself\u001b[39;49m\u001b[38;5;241;43m.\u001b[39;49m\u001b[43mcompression\u001b[49m\u001b[43m,\u001b[49m\n\u001b[0;32m    863\u001b[0m \u001b[43m        \u001b[49m\u001b[43mstorage_options\u001b[49m\u001b[38;5;241;43m=\u001b[39;49m\u001b[38;5;28;43mself\u001b[39;49m\u001b[38;5;241;43m.\u001b[39;49m\u001b[43mstorage_options\u001b[49m\u001b[43m,\u001b[49m\n\u001b[0;32m    864\u001b[0m \u001b[43m        \u001b[49m\u001b[43merrors\u001b[49m\u001b[38;5;241;43m=\u001b[39;49m\u001b[38;5;28;43mself\u001b[39;49m\u001b[38;5;241;43m.\u001b[39;49m\u001b[43mencoding_errors\u001b[49m\u001b[43m,\u001b[49m\n\u001b[0;32m    865\u001b[0m \u001b[43m    \u001b[49m\u001b[43m)\u001b[49m\n\u001b[0;32m    866\u001b[0m     filepath_or_buffer \u001b[38;5;241m=\u001b[39m \u001b[38;5;28mself\u001b[39m\u001b[38;5;241m.\u001b[39mhandles\u001b[38;5;241m.\u001b[39mhandle\n\u001b[0;32m    867\u001b[0m \u001b[38;5;28;01melif\u001b[39;00m (\n\u001b[0;32m    868\u001b[0m     \u001b[38;5;28misinstance\u001b[39m(filepath_or_buffer, \u001b[38;5;28mstr\u001b[39m)\n\u001b[0;32m    869\u001b[0m     \u001b[38;5;129;01mand\u001b[39;00m filepath_or_buffer\u001b[38;5;241m.\u001b[39mlower()\u001b[38;5;241m.\u001b[39mendswith(\n\u001b[1;32m   (...)\u001b[0m\n\u001b[0;32m    872\u001b[0m     \u001b[38;5;129;01mand\u001b[39;00m \u001b[38;5;129;01mnot\u001b[39;00m file_exists(filepath_or_buffer)\n\u001b[0;32m    873\u001b[0m ):\n",
      "File \u001b[1;32m~\\anaconda3\\lib\\site-packages\\pandas\\io\\common.py:713\u001b[0m, in \u001b[0;36mget_handle\u001b[1;34m(path_or_buf, mode, encoding, compression, memory_map, is_text, errors, storage_options)\u001b[0m\n\u001b[0;32m    710\u001b[0m     codecs\u001b[38;5;241m.\u001b[39mlookup_error(errors)\n\u001b[0;32m    712\u001b[0m \u001b[38;5;66;03m# open URLs\u001b[39;00m\n\u001b[1;32m--> 713\u001b[0m ioargs \u001b[38;5;241m=\u001b[39m \u001b[43m_get_filepath_or_buffer\u001b[49m\u001b[43m(\u001b[49m\n\u001b[0;32m    714\u001b[0m \u001b[43m    \u001b[49m\u001b[43mpath_or_buf\u001b[49m\u001b[43m,\u001b[49m\n\u001b[0;32m    715\u001b[0m \u001b[43m    \u001b[49m\u001b[43mencoding\u001b[49m\u001b[38;5;241;43m=\u001b[39;49m\u001b[43mencoding\u001b[49m\u001b[43m,\u001b[49m\n\u001b[0;32m    716\u001b[0m \u001b[43m    \u001b[49m\u001b[43mcompression\u001b[49m\u001b[38;5;241;43m=\u001b[39;49m\u001b[43mcompression\u001b[49m\u001b[43m,\u001b[49m\n\u001b[0;32m    717\u001b[0m \u001b[43m    \u001b[49m\u001b[43mmode\u001b[49m\u001b[38;5;241;43m=\u001b[39;49m\u001b[43mmode\u001b[49m\u001b[43m,\u001b[49m\n\u001b[0;32m    718\u001b[0m \u001b[43m    \u001b[49m\u001b[43mstorage_options\u001b[49m\u001b[38;5;241;43m=\u001b[39;49m\u001b[43mstorage_options\u001b[49m\u001b[43m,\u001b[49m\n\u001b[0;32m    719\u001b[0m \u001b[43m\u001b[49m\u001b[43m)\u001b[49m\n\u001b[0;32m    721\u001b[0m handle \u001b[38;5;241m=\u001b[39m ioargs\u001b[38;5;241m.\u001b[39mfilepath_or_buffer\n\u001b[0;32m    722\u001b[0m handles: \u001b[38;5;28mlist\u001b[39m[BaseBuffer]\n",
      "File \u001b[1;32m~\\anaconda3\\lib\\site-packages\\pandas\\io\\common.py:363\u001b[0m, in \u001b[0;36m_get_filepath_or_buffer\u001b[1;34m(filepath_or_buffer, encoding, compression, mode, storage_options)\u001b[0m\n\u001b[0;32m    361\u001b[0m \u001b[38;5;66;03m# assuming storage_options is to be interpreted as headers\u001b[39;00m\n\u001b[0;32m    362\u001b[0m req_info \u001b[38;5;241m=\u001b[39m urllib\u001b[38;5;241m.\u001b[39mrequest\u001b[38;5;241m.\u001b[39mRequest(filepath_or_buffer, headers\u001b[38;5;241m=\u001b[39mstorage_options)\n\u001b[1;32m--> 363\u001b[0m \u001b[38;5;28;01mwith\u001b[39;00m \u001b[43murlopen\u001b[49m\u001b[43m(\u001b[49m\u001b[43mreq_info\u001b[49m\u001b[43m)\u001b[49m \u001b[38;5;28;01mas\u001b[39;00m req:\n\u001b[0;32m    364\u001b[0m     content_encoding \u001b[38;5;241m=\u001b[39m req\u001b[38;5;241m.\u001b[39mheaders\u001b[38;5;241m.\u001b[39mget(\u001b[38;5;124m\"\u001b[39m\u001b[38;5;124mContent-Encoding\u001b[39m\u001b[38;5;124m\"\u001b[39m, \u001b[38;5;28;01mNone\u001b[39;00m)\n\u001b[0;32m    365\u001b[0m     \u001b[38;5;28;01mif\u001b[39;00m content_encoding \u001b[38;5;241m==\u001b[39m \u001b[38;5;124m\"\u001b[39m\u001b[38;5;124mgzip\u001b[39m\u001b[38;5;124m\"\u001b[39m:\n\u001b[0;32m    366\u001b[0m         \u001b[38;5;66;03m# Override compression based on Content-Encoding header\u001b[39;00m\n",
      "File \u001b[1;32m~\\anaconda3\\lib\\site-packages\\pandas\\io\\common.py:265\u001b[0m, in \u001b[0;36murlopen\u001b[1;34m(*args, **kwargs)\u001b[0m\n\u001b[0;32m    259\u001b[0m \u001b[38;5;250m\u001b[39m\u001b[38;5;124;03m\"\"\"\u001b[39;00m\n\u001b[0;32m    260\u001b[0m \u001b[38;5;124;03mLazy-import wrapper for stdlib urlopen, as that imports a big chunk of\u001b[39;00m\n\u001b[0;32m    261\u001b[0m \u001b[38;5;124;03mthe stdlib.\u001b[39;00m\n\u001b[0;32m    262\u001b[0m \u001b[38;5;124;03m\"\"\"\u001b[39;00m\n\u001b[0;32m    263\u001b[0m \u001b[38;5;28;01mimport\u001b[39;00m \u001b[38;5;21;01murllib\u001b[39;00m\u001b[38;5;21;01m.\u001b[39;00m\u001b[38;5;21;01mrequest\u001b[39;00m\n\u001b[1;32m--> 265\u001b[0m \u001b[38;5;28;01mreturn\u001b[39;00m urllib\u001b[38;5;241m.\u001b[39mrequest\u001b[38;5;241m.\u001b[39murlopen(\u001b[38;5;241m*\u001b[39margs, \u001b[38;5;241m*\u001b[39m\u001b[38;5;241m*\u001b[39mkwargs)\n",
      "File \u001b[1;32m~\\anaconda3\\lib\\urllib\\request.py:216\u001b[0m, in \u001b[0;36murlopen\u001b[1;34m(url, data, timeout, cafile, capath, cadefault, context)\u001b[0m\n\u001b[0;32m    214\u001b[0m \u001b[38;5;28;01melse\u001b[39;00m:\n\u001b[0;32m    215\u001b[0m     opener \u001b[38;5;241m=\u001b[39m _opener\n\u001b[1;32m--> 216\u001b[0m \u001b[38;5;28;01mreturn\u001b[39;00m \u001b[43mopener\u001b[49m\u001b[38;5;241;43m.\u001b[39;49m\u001b[43mopen\u001b[49m\u001b[43m(\u001b[49m\u001b[43murl\u001b[49m\u001b[43m,\u001b[49m\u001b[43m \u001b[49m\u001b[43mdata\u001b[49m\u001b[43m,\u001b[49m\u001b[43m \u001b[49m\u001b[43mtimeout\u001b[49m\u001b[43m)\u001b[49m\n",
      "File \u001b[1;32m~\\anaconda3\\lib\\urllib\\request.py:525\u001b[0m, in \u001b[0;36mOpenerDirector.open\u001b[1;34m(self, fullurl, data, timeout)\u001b[0m\n\u001b[0;32m    523\u001b[0m \u001b[38;5;28;01mfor\u001b[39;00m processor \u001b[38;5;129;01min\u001b[39;00m \u001b[38;5;28mself\u001b[39m\u001b[38;5;241m.\u001b[39mprocess_response\u001b[38;5;241m.\u001b[39mget(protocol, []):\n\u001b[0;32m    524\u001b[0m     meth \u001b[38;5;241m=\u001b[39m \u001b[38;5;28mgetattr\u001b[39m(processor, meth_name)\n\u001b[1;32m--> 525\u001b[0m     response \u001b[38;5;241m=\u001b[39m \u001b[43mmeth\u001b[49m\u001b[43m(\u001b[49m\u001b[43mreq\u001b[49m\u001b[43m,\u001b[49m\u001b[43m \u001b[49m\u001b[43mresponse\u001b[49m\u001b[43m)\u001b[49m\n\u001b[0;32m    527\u001b[0m \u001b[38;5;28;01mreturn\u001b[39;00m response\n",
      "File \u001b[1;32m~\\anaconda3\\lib\\urllib\\request.py:634\u001b[0m, in \u001b[0;36mHTTPErrorProcessor.http_response\u001b[1;34m(self, request, response)\u001b[0m\n\u001b[0;32m    631\u001b[0m \u001b[38;5;66;03m# According to RFC 2616, \"2xx\" code indicates that the client's\u001b[39;00m\n\u001b[0;32m    632\u001b[0m \u001b[38;5;66;03m# request was successfully received, understood, and accepted.\u001b[39;00m\n\u001b[0;32m    633\u001b[0m \u001b[38;5;28;01mif\u001b[39;00m \u001b[38;5;129;01mnot\u001b[39;00m (\u001b[38;5;241m200\u001b[39m \u001b[38;5;241m<\u001b[39m\u001b[38;5;241m=\u001b[39m code \u001b[38;5;241m<\u001b[39m \u001b[38;5;241m300\u001b[39m):\n\u001b[1;32m--> 634\u001b[0m     response \u001b[38;5;241m=\u001b[39m \u001b[38;5;28;43mself\u001b[39;49m\u001b[38;5;241;43m.\u001b[39;49m\u001b[43mparent\u001b[49m\u001b[38;5;241;43m.\u001b[39;49m\u001b[43merror\u001b[49m\u001b[43m(\u001b[49m\n\u001b[0;32m    635\u001b[0m \u001b[43m        \u001b[49m\u001b[38;5;124;43m'\u001b[39;49m\u001b[38;5;124;43mhttp\u001b[39;49m\u001b[38;5;124;43m'\u001b[39;49m\u001b[43m,\u001b[49m\u001b[43m \u001b[49m\u001b[43mrequest\u001b[49m\u001b[43m,\u001b[49m\u001b[43m \u001b[49m\u001b[43mresponse\u001b[49m\u001b[43m,\u001b[49m\u001b[43m \u001b[49m\u001b[43mcode\u001b[49m\u001b[43m,\u001b[49m\u001b[43m \u001b[49m\u001b[43mmsg\u001b[49m\u001b[43m,\u001b[49m\u001b[43m \u001b[49m\u001b[43mhdrs\u001b[49m\u001b[43m)\u001b[49m\n\u001b[0;32m    637\u001b[0m \u001b[38;5;28;01mreturn\u001b[39;00m response\n",
      "File \u001b[1;32m~\\anaconda3\\lib\\urllib\\request.py:563\u001b[0m, in \u001b[0;36mOpenerDirector.error\u001b[1;34m(self, proto, *args)\u001b[0m\n\u001b[0;32m    561\u001b[0m \u001b[38;5;28;01mif\u001b[39;00m http_err:\n\u001b[0;32m    562\u001b[0m     args \u001b[38;5;241m=\u001b[39m (\u001b[38;5;28mdict\u001b[39m, \u001b[38;5;124m'\u001b[39m\u001b[38;5;124mdefault\u001b[39m\u001b[38;5;124m'\u001b[39m, \u001b[38;5;124m'\u001b[39m\u001b[38;5;124mhttp_error_default\u001b[39m\u001b[38;5;124m'\u001b[39m) \u001b[38;5;241m+\u001b[39m orig_args\n\u001b[1;32m--> 563\u001b[0m     \u001b[38;5;28;01mreturn\u001b[39;00m \u001b[38;5;28;43mself\u001b[39;49m\u001b[38;5;241;43m.\u001b[39;49m\u001b[43m_call_chain\u001b[49m\u001b[43m(\u001b[49m\u001b[38;5;241;43m*\u001b[39;49m\u001b[43margs\u001b[49m\u001b[43m)\u001b[49m\n",
      "File \u001b[1;32m~\\anaconda3\\lib\\urllib\\request.py:496\u001b[0m, in \u001b[0;36mOpenerDirector._call_chain\u001b[1;34m(self, chain, kind, meth_name, *args)\u001b[0m\n\u001b[0;32m    494\u001b[0m \u001b[38;5;28;01mfor\u001b[39;00m handler \u001b[38;5;129;01min\u001b[39;00m handlers:\n\u001b[0;32m    495\u001b[0m     func \u001b[38;5;241m=\u001b[39m \u001b[38;5;28mgetattr\u001b[39m(handler, meth_name)\n\u001b[1;32m--> 496\u001b[0m     result \u001b[38;5;241m=\u001b[39m \u001b[43mfunc\u001b[49m\u001b[43m(\u001b[49m\u001b[38;5;241;43m*\u001b[39;49m\u001b[43margs\u001b[49m\u001b[43m)\u001b[49m\n\u001b[0;32m    497\u001b[0m     \u001b[38;5;28;01mif\u001b[39;00m result \u001b[38;5;129;01mis\u001b[39;00m \u001b[38;5;129;01mnot\u001b[39;00m \u001b[38;5;28;01mNone\u001b[39;00m:\n\u001b[0;32m    498\u001b[0m         \u001b[38;5;28;01mreturn\u001b[39;00m result\n",
      "File \u001b[1;32m~\\anaconda3\\lib\\urllib\\request.py:643\u001b[0m, in \u001b[0;36mHTTPDefaultErrorHandler.http_error_default\u001b[1;34m(self, req, fp, code, msg, hdrs)\u001b[0m\n\u001b[0;32m    642\u001b[0m \u001b[38;5;28;01mdef\u001b[39;00m \u001b[38;5;21mhttp_error_default\u001b[39m(\u001b[38;5;28mself\u001b[39m, req, fp, code, msg, hdrs):\n\u001b[1;32m--> 643\u001b[0m     \u001b[38;5;28;01mraise\u001b[39;00m HTTPError(req\u001b[38;5;241m.\u001b[39mfull_url, code, msg, hdrs, fp)\n",
      "\u001b[1;31mHTTPError\u001b[0m: HTTP Error 404: Not Found"
     ]
    }
   ],
   "source": [
    "movies = pd.read_json('https://raw.githubusercontent.com/meilisearch/MeiliSearch/main/datasets/movies/movies.json')"
   ]
  },
  {
   "cell_type": "code",
   "execution_count": null,
   "metadata": {
    "ExecuteTime": {
     "end_time": "2021-05-23T22:29:16.832002Z",
     "start_time": "2021-05-23T22:29:16.807019Z"
    }
   },
   "outputs": [],
   "source": [
    "movies.head()"
   ]
  },
  {
   "cell_type": "markdown",
   "metadata": {},
   "source": [
    "### Quais são os tipos de dados das colunas?"
   ]
  },
  {
   "cell_type": "code",
   "execution_count": null,
   "metadata": {
    "ExecuteTime": {
     "end_time": "2021-05-23T22:29:52.348281Z",
     "start_time": "2021-05-23T22:29:52.328293Z"
    }
   },
   "outputs": [],
   "source": [
    "movies.dtypes"
   ]
  },
  {
   "cell_type": "markdown",
   "metadata": {},
   "source": [
    "### Qual genêro predominante no conjunto de dados?"
   ]
  },
  {
   "cell_type": "code",
   "execution_count": null,
   "metadata": {
    "ExecuteTime": {
     "end_time": "2021-05-23T22:30:44.017622Z",
     "start_time": "2021-05-23T22:30:43.932671Z"
    }
   },
   "outputs": [],
   "source": [
    "movies.genres.explode().value_counts()"
   ]
  },
  {
   "cell_type": "markdown",
   "metadata": {},
   "source": [
    "### Qual o ano de lançamento predominante da base??"
   ]
  },
  {
   "cell_type": "code",
   "execution_count": null,
   "metadata": {
    "ExecuteTime": {
     "end_time": "2021-05-22T18:21:19.529418Z",
     "start_time": "2021-05-22T18:21:19.497375Z"
    }
   },
   "outputs": [],
   "source": [
    "filmes.release_date.to_list()"
   ]
  },
  {
   "cell_type": "code",
   "execution_count": null,
   "metadata": {
    "ExecuteTime": {
     "end_time": "2021-05-22T18:23:49.192323Z",
     "start_time": "2021-05-22T18:23:49.176330Z"
    }
   },
   "outputs": [],
   "source": [
    "lst[0].year"
   ]
  },
  {
   "cell_type": "code",
   "execution_count": null,
   "metadata": {
    "ExecuteTime": {
     "end_time": "2021-05-22T18:23:53.632555Z",
     "start_time": "2021-05-22T18:23:53.592578Z"
    }
   },
   "outputs": [],
   "source": [
    "lst = []\n",
    "for filme in filmes.release_date.to_list():\n",
    "#     print(filme)\n",
    "    try:\n",
    "        lst.append(datetime.fromtimestamp(filme).year)\n",
    "    except:\n",
    "        lst.append(np.nan)\n",
    "lst"
   ]
  },
  {
   "cell_type": "code",
   "execution_count": null,
   "metadata": {
    "ExecuteTime": {
     "end_time": "2021-05-22T18:24:24.050880Z",
     "start_time": "2021-05-22T18:24:24.031879Z"
    }
   },
   "outputs": [],
   "source": [
    "filmes['ano'] = lst"
   ]
  },
  {
   "cell_type": "code",
   "execution_count": null,
   "metadata": {
    "ExecuteTime": {
     "end_time": "2021-05-22T19:57:27.854788Z",
     "start_time": "2021-05-22T19:57:27.825804Z"
    }
   },
   "outputs": [],
   "source": [
    "filmes['ano'].value_counts()"
   ]
  }
 ],
 "metadata": {
  "kernelspec": {
   "display_name": "Python 3 (ipykernel)",
   "language": "python",
   "name": "python3"
  },
  "language_info": {
   "codemirror_mode": {
    "name": "ipython",
    "version": 3
   },
   "file_extension": ".py",
   "mimetype": "text/x-python",
   "name": "python",
   "nbconvert_exporter": "python",
   "pygments_lexer": "ipython3",
   "version": "3.10.11"
  },
  "varInspector": {
   "cols": {
    "lenName": 16,
    "lenType": 16,
    "lenVar": 40
   },
   "kernels_config": {
    "python": {
     "delete_cmd_postfix": "",
     "delete_cmd_prefix": "del ",
     "library": "var_list.py",
     "varRefreshCmd": "print(var_dic_list())"
    },
    "r": {
     "delete_cmd_postfix": ") ",
     "delete_cmd_prefix": "rm(",
     "library": "var_list.r",
     "varRefreshCmd": "cat(var_dic_list()) "
    }
   },
   "types_to_exclude": [
    "module",
    "function",
    "builtin_function_or_method",
    "instance",
    "_Feature"
   ],
   "window_display": false
  }
 },
 "nbformat": 4,
 "nbformat_minor": 4
}
