{
 "cells": [
  {
   "cell_type": "markdown",
   "metadata": {},
   "source": [
    "# Leitura de arquivos CSV, Excel, JSON"
   ]
  },
  {
   "cell_type": "markdown",
   "metadata": {},
   "source": [
    "# Lendo CSV"
   ]
  },
  {
   "cell_type": "markdown",
   "metadata": {},
   "source": [
    "## BNDESPar\n",
    "- https://pt.wikipedia.org/wiki/Banco_Nacional_de_Desenvolvimento_Econ%C3%B4mico_e_Social\n",
    "- https://pt.wikipedia.org/wiki/BNDESPAR\n",
    "- https://dados.gov.br/dataset/renda-variavel\n",
    "    - https://dadosabertos.bndes.gov.br/dataset/68a85772-df73-4c8b-8b8c-398f494fcca8/resource/10ff2d60-02d1-4619-8e42-24fc2a5927dd/download/renda-variavel-participacoes-acionarias-historico-da-carteira.csv\n",
    "- https://www.bndes.gov.br/wps/portal/site/home/transparencia/consulta-operacoes-bndes/carteira-acionaria"
   ]
  },
  {
   "cell_type": "code",
   "execution_count": null,
   "metadata": {
    "ExecuteTime": {
     "end_time": "2021-05-23T22:16:00.740101Z",
     "start_time": "2021-05-23T22:16:00.268356Z"
    }
   },
   "outputs": [],
   "source": [
    "import pandas as pd"
   ]
  },
  {
   "cell_type": "code",
   "execution_count": null,
   "metadata": {
    "ExecuteTime": {
     "end_time": "2021-05-23T22:16:50.491625Z",
     "start_time": "2021-05-23T22:16:49.098810Z"
    },
    "scrolled": true
   },
   "outputs": [],
   "source": [
    "participacoes_acionarias = pd.read_csv(\n",
    "    'https://dadosabertos.bndes.gov.br/dataset/68a85772-df73-4c8b-8b8c-398f494fcca8/resource/10ff2d60-02d1-4619-8e42-24fc2a5927dd/download/renda-variavel-participacoes-acionarias-historico-da-carteira.csv',\n",
    "    sep=';',\n",
    "    decimal=',')\n",
    "participacoes_acionarias.head()"
   ]
  },
  {
   "cell_type": "code",
   "execution_count": null,
   "metadata": {
    "ExecuteTime": {
     "end_time": "2021-05-23T22:17:48.379418Z",
     "start_time": "2021-05-23T22:17:48.363437Z"
    }
   },
   "outputs": [],
   "source": [
    "participacoes_acionarias.info()"
   ]
  },
  {
   "cell_type": "code",
   "execution_count": null,
   "metadata": {},
   "outputs": [],
   "source": []
  },
  {
   "cell_type": "markdown",
   "metadata": {},
   "source": [
    "### Qual a quantidade de participações em cada ano?"
   ]
  },
  {
   "cell_type": "code",
   "execution_count": null,
   "metadata": {
    "ExecuteTime": {
     "end_time": "2021-05-23T22:18:33.679055Z",
     "start_time": "2021-05-23T22:18:33.664065Z"
    }
   },
   "outputs": [],
   "source": [
    "participacoes_acionarias['ano'].value_counts()"
   ]
  },
  {
   "cell_type": "markdown",
   "metadata": {},
   "source": [
    "### Em quais empresas o BNDESP já teve participação?"
   ]
  },
  {
   "cell_type": "code",
   "execution_count": null,
   "metadata": {
    "ExecuteTime": {
     "end_time": "2021-05-23T22:19:33.576234Z",
     "start_time": "2021-05-23T22:19:33.559246Z"
    }
   },
   "outputs": [],
   "source": [
    "participacoes_acionarias.sigla.unique()"
   ]
  },
  {
   "cell_type": "markdown",
   "metadata": {},
   "source": [
    "### Em quais empresas o BNDESP tem participação em 2021?"
   ]
  },
  {
   "cell_type": "code",
   "execution_count": null,
   "metadata": {
    "ExecuteTime": {
     "end_time": "2021-05-23T22:20:24.833988Z",
     "start_time": "2021-05-23T22:20:24.800027Z"
    }
   },
   "outputs": [],
   "source": [
    "participacoes_acionarias[participacoes_acionarias['ano'] == 2021].sigla.unique()"
   ]
  },
  {
   "cell_type": "code",
   "execution_count": null,
   "metadata": {},
   "outputs": [],
   "source": []
  },
  {
   "cell_type": "code",
   "execution_count": null,
   "metadata": {},
   "outputs": [],
   "source": []
  },
  {
   "cell_type": "markdown",
   "metadata": {},
   "source": [
    "# Lendo Excel"
   ]
  },
  {
   "cell_type": "markdown",
   "metadata": {},
   "source": [
    "\n",
    "## Brasileirão\n",
    "- https://github.com/adaoduque/Brasileirao_Dataset\n",
    "- https://github.com/adaoduque/Brasileirao_Dataset/raw/master/campeonato-brasileiro-full.xlsx\n",
    "- https://raw.githubusercontent.com/adaoduque/Brasileirao_Dataset/master/campeonato-brasileiro-estatisticas-full.csv"
   ]
  },
  {
   "cell_type": "code",
   "execution_count": null,
   "metadata": {
    "ExecuteTime": {
     "end_time": "2021-05-23T22:23:33.099350Z",
     "start_time": "2021-05-23T22:23:30.149256Z"
    }
   },
   "outputs": [],
   "source": [
    "# o responsável pelo repositório arquivou o excel. Portanto basta usar a célula abaixo.\n",
    "# brasileirao = pd.read_excel('https://github.com/adaoduque/Brasileirao_Dataset/raw/master/campeonato-brasileiro-full.xlsx')"
   ]
  },
  {
   "cell_type": "code",
   "execution_count": null,
   "metadata": {},
   "outputs": [],
   "source": [
    "brasileirao = pd.read_excel('https://github.com/LucasSerra/EBAC-parte-1/raw/main/mod-4/input/campeonato-brasileiro-full.xlsx')"
   ]
  },
  {
   "cell_type": "code",
   "execution_count": null,
   "metadata": {
    "ExecuteTime": {
     "end_time": "2021-05-23T22:23:35.627557Z",
     "start_time": "2021-05-23T22:23:35.596574Z"
    },
    "scrolled": true
   },
   "outputs": [],
   "source": [
    "brasileirao.head()"
   ]
  },
  {
   "cell_type": "code",
   "execution_count": null,
   "metadata": {
    "ExecuteTime": {
     "end_time": "2021-05-23T22:24:10.187850Z",
     "start_time": "2021-05-23T22:24:10.174880Z"
    }
   },
   "outputs": [],
   "source": [
    "brasileirao.dtypes"
   ]
  },
  {
   "cell_type": "markdown",
   "metadata": {},
   "source": [
    "### Qual o maior vencedor de jogos?"
   ]
  },
  {
   "cell_type": "code",
   "execution_count": null,
   "metadata": {
    "ExecuteTime": {
     "end_time": "2021-05-23T22:24:52.522191Z",
     "start_time": "2021-05-23T22:24:52.505195Z"
    },
    "scrolled": true
   },
   "outputs": [],
   "source": [
    "brasileirao.Vencedor.value_counts()"
   ]
  },
  {
   "cell_type": "markdown",
   "metadata": {},
   "source": [
    "### Qual a tabela de jogos vencidos por clube na temporada de 2020? \n",
    "(periodo temp = '2020-01-01' a '2021-02-26')"
   ]
  },
  {
   "cell_type": "code",
   "execution_count": null,
   "metadata": {
    "ExecuteTime": {
     "end_time": "2021-05-23T22:26:32.586700Z",
     "start_time": "2021-05-23T22:26:32.574724Z"
    }
   },
   "outputs": [],
   "source": [
    "cond = (brasileirao['Data'] >= '2020-01-01')& (brasileirao['Data'] <= '2021-02-26')\n",
    "cond"
   ]
  },
  {
   "cell_type": "code",
   "execution_count": null,
   "metadata": {
    "ExecuteTime": {
     "end_time": "2021-05-23T22:27:06.731593Z",
     "start_time": "2021-05-23T22:27:06.713602Z"
    }
   },
   "outputs": [],
   "source": [
    "brasileirao[cond]['Vencedor'].value_counts()"
   ]
  },
  {
   "cell_type": "markdown",
   "metadata": {},
   "source": [
    "### Qual a quantidade de partidas realizadas em cada estádio?"
   ]
  },
  {
   "cell_type": "code",
   "execution_count": null,
   "metadata": {
    "ExecuteTime": {
     "end_time": "2021-05-23T22:27:59.423751Z",
     "start_time": "2021-05-23T22:27:59.414768Z"
    }
   },
   "outputs": [],
   "source": [
    "brasileirao.Arena.value_counts()"
   ]
  },
  {
   "cell_type": "code",
   "execution_count": null,
   "metadata": {},
   "outputs": [],
   "source": []
  },
  {
   "cell_type": "markdown",
   "metadata": {},
   "source": [
    "# Lendo JSON"
   ]
  },
  {
   "cell_type": "markdown",
   "metadata": {},
   "source": [
    "## MeiliSearch\n",
    "- https://github.com/meilisearch/MeiliSearch\n",
    "- https://raw.githubusercontent.com/meilisearch/MeiliSearch/main/datasets/movies/movies.json"
   ]
  },
  {
   "cell_type": "code",
   "execution_count": null,
   "metadata": {
    "ExecuteTime": {
     "end_time": "2021-05-23T22:29:12.955283Z",
     "start_time": "2021-05-23T22:29:11.015199Z"
    }
   },
   "outputs": [],
   "source": [
    "movies = pd.read_json('https://raw.githubusercontent.com/meilisearch/MeiliSearch/main/datasets/movies/movies.json')"
   ]
  },
  {
   "cell_type": "code",
   "execution_count": null,
   "metadata": {
    "ExecuteTime": {
     "end_time": "2021-05-23T22:29:16.832002Z",
     "start_time": "2021-05-23T22:29:16.807019Z"
    }
   },
   "outputs": [],
   "source": [
    "movies.head()"
   ]
  },
  {
   "cell_type": "markdown",
   "metadata": {},
   "source": [
    "### Quais são os tipos de dados das colunas?"
   ]
  },
  {
   "cell_type": "code",
   "execution_count": null,
   "metadata": {
    "ExecuteTime": {
     "end_time": "2021-05-23T22:29:52.348281Z",
     "start_time": "2021-05-23T22:29:52.328293Z"
    }
   },
   "outputs": [],
   "source": [
    "movies.dtypes"
   ]
  },
  {
   "cell_type": "markdown",
   "metadata": {},
   "source": [
    "### Qual genêro predominante no conjunto de dados?"
   ]
  },
  {
   "cell_type": "code",
   "execution_count": null,
   "metadata": {
    "ExecuteTime": {
     "end_time": "2021-05-23T22:30:44.017622Z",
     "start_time": "2021-05-23T22:30:43.932671Z"
    }
   },
   "outputs": [],
   "source": [
    "movies.genres.explode().value_counts()"
   ]
  },
  {
   "cell_type": "markdown",
   "metadata": {},
   "source": [
    "### Qual o ano de lançamento predominante da base??"
   ]
  },
  {
   "cell_type": "code",
   "execution_count": 1,
   "metadata": {
    "ExecuteTime": {
     "end_time": "2021-05-22T18:21:19.529418Z",
     "start_time": "2021-05-22T18:21:19.497375Z"
    }
   },
   "outputs": [
    {
     "ename": "NameError",
     "evalue": "name 'filmes' is not defined",
     "output_type": "error",
     "traceback": [
      "\u001b[1;31m---------------------------------------------------------------------------\u001b[0m",
      "\u001b[1;31mNameError\u001b[0m                                 Traceback (most recent call last)",
      "Cell \u001b[1;32mIn[1], line 1\u001b[0m\n\u001b[1;32m----> 1\u001b[0m \u001b[43mfilmes\u001b[49m\u001b[38;5;241m.\u001b[39mrelease_date\u001b[38;5;241m.\u001b[39mto_list()\n",
      "\u001b[1;31mNameError\u001b[0m: name 'filmes' is not defined"
     ]
    }
   ],
   "source": [
    "filmes.release_date.to_list()"
   ]
  },
  {
   "cell_type": "code",
   "execution_count": null,
   "metadata": {
    "ExecuteTime": {
     "end_time": "2021-05-22T18:23:49.192323Z",
     "start_time": "2021-05-22T18:23:49.176330Z"
    }
   },
   "outputs": [],
   "source": [
    "lst[0].year"
   ]
  },
  {
   "cell_type": "code",
   "execution_count": null,
   "metadata": {
    "ExecuteTime": {
     "end_time": "2021-05-22T18:23:53.632555Z",
     "start_time": "2021-05-22T18:23:53.592578Z"
    }
   },
   "outputs": [],
   "source": [
    "lst = []\n",
    "for filme in filmes.release_date.to_list():\n",
    "#     print(filme)\n",
    "    try:\n",
    "        lst.append(datetime.fromtimestamp(filme).year)\n",
    "    except:\n",
    "        lst.append(np.nan)\n",
    "lst"
   ]
  },
  {
   "cell_type": "code",
   "execution_count": null,
   "metadata": {
    "ExecuteTime": {
     "end_time": "2021-05-22T18:24:24.050880Z",
     "start_time": "2021-05-22T18:24:24.031879Z"
    }
   },
   "outputs": [],
   "source": [
    "filmes['ano'] = lst"
   ]
  },
  {
   "cell_type": "code",
   "execution_count": null,
   "metadata": {
    "ExecuteTime": {
     "end_time": "2021-05-22T19:57:27.854788Z",
     "start_time": "2021-05-22T19:57:27.825804Z"
    }
   },
   "outputs": [],
   "source": [
    "filmes['ano'].value_counts()"
   ]
  }
 ],
 "metadata": {
  "kernelspec": {
   "display_name": "Python 3 (ipykernel)",
   "language": "python",
   "name": "python3"
  },
  "language_info": {
   "codemirror_mode": {
    "name": "ipython",
    "version": 3
   },
   "file_extension": ".py",
   "mimetype": "text/x-python",
   "name": "python",
   "nbconvert_exporter": "python",
   "pygments_lexer": "ipython3",
   "version": "3.10.11"
  },
  "varInspector": {
   "cols": {
    "lenName": 16,
    "lenType": 16,
    "lenVar": 40
   },
   "kernels_config": {
    "python": {
     "delete_cmd_postfix": "",
     "delete_cmd_prefix": "del ",
     "library": "var_list.py",
     "varRefreshCmd": "print(var_dic_list())"
    },
    "r": {
     "delete_cmd_postfix": ") ",
     "delete_cmd_prefix": "rm(",
     "library": "var_list.r",
     "varRefreshCmd": "cat(var_dic_list()) "
    }
   },
   "types_to_exclude": [
    "module",
    "function",
    "builtin_function_or_method",
    "instance",
    "_Feature"
   ],
   "window_display": false
  }
 },
 "nbformat": 4,
 "nbformat_minor": 4
}
