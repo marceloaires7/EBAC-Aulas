{
 "cells": [
  {
   "cell_type": "code",
   "execution_count": 1,
   "metadata": {
    "ExecuteTime": {
     "end_time": "2021-05-23T19:20:59.550722Z",
     "start_time": "2021-05-23T19:20:59.101651Z"
    }
   },
   "outputs": [],
   "source": [
    "import pandas as pd"
   ]
  },
  {
   "cell_type": "markdown",
   "metadata": {},
   "source": [
    "# Indexação, seleção e filtragem"
   ]
  },
  {
   "cell_type": "markdown",
   "metadata": {},
   "source": [
    "|Operação                                    | Sintaxe             | Resultado    | \n",
    "|:---------:                                 |:-------------------:|:------------:|\n",
    "|Seleciona uma coluna                        | ``df[col]``         | ``Series``   |\n",
    "|Seleciona duas colunas                      | ``df[[col1, col2]]``| ``DataFrame``|\n",
    "|Seleciona uma linha usando rótulo           | ``df.loc[rotulo]``  | ``Series``   |\n",
    "|Seleciona uma linha usando inteiro          | ``df.iloc[i]``      | ``Series``   |\n",
    "|Recorta o dataframe da linha 2 a 5          | ``df[2:5]``        |``DataFrame`` |\n",
    "|Seleciona linhas usando um vetor booleano   | ``df[vetor_bool]``    | ``DataFrame``|"
   ]
  },
  {
   "cell_type": "code",
   "execution_count": 2,
   "metadata": {
    "ExecuteTime": {
     "end_time": "2021-05-23T19:25:04.378876Z",
     "start_time": "2021-05-23T19:25:04.349896Z"
    }
   },
   "outputs": [
    {
     "data": {
      "text/html": [
       "<div>\n",
       "<style scoped>\n",
       "    .dataframe tbody tr th:only-of-type {\n",
       "        vertical-align: middle;\n",
       "    }\n",
       "\n",
       "    .dataframe tbody tr th {\n",
       "        vertical-align: top;\n",
       "    }\n",
       "\n",
       "    .dataframe thead th {\n",
       "        text-align: right;\n",
       "    }\n",
       "</style>\n",
       "<table border=\"1\" class=\"dataframe\">\n",
       "  <thead>\n",
       "    <tr style=\"text-align: right;\">\n",
       "      <th></th>\n",
       "      <th>População</th>\n",
       "      <th>Área</th>\n",
       "      <th>Densidade</th>\n",
       "    </tr>\n",
       "  </thead>\n",
       "  <tbody>\n",
       "    <tr>\n",
       "      <th>Amazonas</th>\n",
       "      <td>3938336</td>\n",
       "      <td>1559167</td>\n",
       "      <td>2.525923</td>\n",
       "    </tr>\n",
       "    <tr>\n",
       "      <th>São Paulo</th>\n",
       "      <td>44396484</td>\n",
       "      <td>248219</td>\n",
       "      <td>178.860136</td>\n",
       "    </tr>\n",
       "    <tr>\n",
       "      <th>Bahia</th>\n",
       "      <td>15203934</td>\n",
       "      <td>564760</td>\n",
       "      <td>26.921053</td>\n",
       "    </tr>\n",
       "    <tr>\n",
       "      <th>Minas Gerais</th>\n",
       "      <td>20869101</td>\n",
       "      <td>586521</td>\n",
       "      <td>35.581166</td>\n",
       "    </tr>\n",
       "    <tr>\n",
       "      <th>Roraima</th>\n",
       "      <td>505665</td>\n",
       "      <td>223644</td>\n",
       "      <td>2.261026</td>\n",
       "    </tr>\n",
       "    <tr>\n",
       "      <th>Distrito Federal</th>\n",
       "      <td>2914830</td>\n",
       "      <td>5760</td>\n",
       "      <td>506.046875</td>\n",
       "    </tr>\n",
       "  </tbody>\n",
       "</table>\n",
       "</div>"
      ],
      "text/plain": [
       "                  População     Área   Densidade\n",
       "Amazonas            3938336  1559167    2.525923\n",
       "São Paulo          44396484   248219  178.860136\n",
       "Bahia              15203934   564760   26.921053\n",
       "Minas Gerais       20869101   586521   35.581166\n",
       "Roraima              505665   223644    2.261026\n",
       "Distrito Federal    2914830     5760  506.046875"
      ]
     },
     "execution_count": 2,
     "metadata": {},
     "output_type": "execute_result"
    }
   ],
   "source": [
    "popBrasilDic = {\n",
    "    'Amazonas': 3938336,\n",
    "    'São Paulo': 44396484,\n",
    "    'Bahia': 15203934,\n",
    "    'Minas Gerais': 20869101,\n",
    "    'Roraima': 505665,\n",
    "    'Distrito Federal': 2914830\n",
    "}\n",
    "\n",
    "areaBrasilDic = {\n",
    "    'Amazonas': 1559167,\n",
    "    'São Paulo': 248219,\n",
    "    'Bahia': 564760,\n",
    "    'Minas Gerais': 586521,\n",
    "    'Roraima': 223644,\n",
    "    'Distrito Federal': 5760\n",
    "}\n",
    "\n",
    "estadosBrasil = pd.DataFrame({'População': popBrasilDic,\n",
    "                       'Área': areaBrasilDic})\n",
    "\n",
    "estadosBrasil['Densidade'] = estadosBrasil['População'] / estadosBrasil['Área']\n",
    "\n",
    "estadosBrasil"
   ]
  },
  {
   "cell_type": "markdown",
   "metadata": {},
   "source": [
    "## Selecionando uma coluna"
   ]
  },
  {
   "cell_type": "code",
   "execution_count": 3,
   "metadata": {
    "ExecuteTime": {
     "end_time": "2021-05-23T19:25:25.141558Z",
     "start_time": "2021-05-23T19:25:25.132562Z"
    }
   },
   "outputs": [
    {
     "data": {
      "text/plain": [
       "Amazonas            1559167\n",
       "São Paulo            248219\n",
       "Bahia                564760\n",
       "Minas Gerais         586521\n",
       "Roraima              223644\n",
       "Distrito Federal       5760\n",
       "Name: Área, dtype: int64"
      ]
     },
     "execution_count": 3,
     "metadata": {},
     "output_type": "execute_result"
    }
   ],
   "source": [
    "estadosBrasil['Área']"
   ]
  },
  {
   "cell_type": "code",
   "execution_count": 4,
   "metadata": {
    "ExecuteTime": {
     "end_time": "2021-05-23T19:25:35.379946Z",
     "start_time": "2021-05-23T19:25:35.370952Z"
    }
   },
   "outputs": [
    {
     "data": {
      "text/plain": [
       "Amazonas            1559167\n",
       "São Paulo            248219\n",
       "Bahia                564760\n",
       "Minas Gerais         586521\n",
       "Roraima              223644\n",
       "Distrito Federal       5760\n",
       "Name: Área, dtype: int64"
      ]
     },
     "execution_count": 4,
     "metadata": {},
     "output_type": "execute_result"
    }
   ],
   "source": [
    "estadosBrasil.Área"
   ]
  },
  {
   "cell_type": "markdown",
   "metadata": {},
   "source": [
    "## Selecionando duas colunas"
   ]
  },
  {
   "cell_type": "code",
   "execution_count": 5,
   "metadata": {
    "ExecuteTime": {
     "end_time": "2021-05-23T19:26:33.251231Z",
     "start_time": "2021-05-23T19:26:33.232241Z"
    }
   },
   "outputs": [
    {
     "data": {
      "text/html": [
       "<div>\n",
       "<style scoped>\n",
       "    .dataframe tbody tr th:only-of-type {\n",
       "        vertical-align: middle;\n",
       "    }\n",
       "\n",
       "    .dataframe tbody tr th {\n",
       "        vertical-align: top;\n",
       "    }\n",
       "\n",
       "    .dataframe thead th {\n",
       "        text-align: right;\n",
       "    }\n",
       "</style>\n",
       "<table border=\"1\" class=\"dataframe\">\n",
       "  <thead>\n",
       "    <tr style=\"text-align: right;\">\n",
       "      <th></th>\n",
       "      <th>População</th>\n",
       "      <th>Área</th>\n",
       "    </tr>\n",
       "  </thead>\n",
       "  <tbody>\n",
       "    <tr>\n",
       "      <th>Amazonas</th>\n",
       "      <td>3938336</td>\n",
       "      <td>1559167</td>\n",
       "    </tr>\n",
       "    <tr>\n",
       "      <th>São Paulo</th>\n",
       "      <td>44396484</td>\n",
       "      <td>248219</td>\n",
       "    </tr>\n",
       "    <tr>\n",
       "      <th>Bahia</th>\n",
       "      <td>15203934</td>\n",
       "      <td>564760</td>\n",
       "    </tr>\n",
       "    <tr>\n",
       "      <th>Minas Gerais</th>\n",
       "      <td>20869101</td>\n",
       "      <td>586521</td>\n",
       "    </tr>\n",
       "    <tr>\n",
       "      <th>Roraima</th>\n",
       "      <td>505665</td>\n",
       "      <td>223644</td>\n",
       "    </tr>\n",
       "    <tr>\n",
       "      <th>Distrito Federal</th>\n",
       "      <td>2914830</td>\n",
       "      <td>5760</td>\n",
       "    </tr>\n",
       "  </tbody>\n",
       "</table>\n",
       "</div>"
      ],
      "text/plain": [
       "                  População     Área\n",
       "Amazonas            3938336  1559167\n",
       "São Paulo          44396484   248219\n",
       "Bahia              15203934   564760\n",
       "Minas Gerais       20869101   586521\n",
       "Roraima              505665   223644\n",
       "Distrito Federal    2914830     5760"
      ]
     },
     "execution_count": 5,
     "metadata": {},
     "output_type": "execute_result"
    }
   ],
   "source": [
    "estadosBrasil[['População','Área']]"
   ]
  },
  {
   "cell_type": "markdown",
   "metadata": {},
   "source": [
    "## Selecionando duas colunas invertendo a ordem"
   ]
  },
  {
   "cell_type": "code",
   "execution_count": 6,
   "metadata": {
    "ExecuteTime": {
     "end_time": "2021-05-23T19:26:59.537371Z",
     "start_time": "2021-05-23T19:26:59.521380Z"
    }
   },
   "outputs": [
    {
     "data": {
      "text/html": [
       "<div>\n",
       "<style scoped>\n",
       "    .dataframe tbody tr th:only-of-type {\n",
       "        vertical-align: middle;\n",
       "    }\n",
       "\n",
       "    .dataframe tbody tr th {\n",
       "        vertical-align: top;\n",
       "    }\n",
       "\n",
       "    .dataframe thead th {\n",
       "        text-align: right;\n",
       "    }\n",
       "</style>\n",
       "<table border=\"1\" class=\"dataframe\">\n",
       "  <thead>\n",
       "    <tr style=\"text-align: right;\">\n",
       "      <th></th>\n",
       "      <th>Área</th>\n",
       "      <th>População</th>\n",
       "    </tr>\n",
       "  </thead>\n",
       "  <tbody>\n",
       "    <tr>\n",
       "      <th>Amazonas</th>\n",
       "      <td>1559167</td>\n",
       "      <td>3938336</td>\n",
       "    </tr>\n",
       "    <tr>\n",
       "      <th>São Paulo</th>\n",
       "      <td>248219</td>\n",
       "      <td>44396484</td>\n",
       "    </tr>\n",
       "    <tr>\n",
       "      <th>Bahia</th>\n",
       "      <td>564760</td>\n",
       "      <td>15203934</td>\n",
       "    </tr>\n",
       "    <tr>\n",
       "      <th>Minas Gerais</th>\n",
       "      <td>586521</td>\n",
       "      <td>20869101</td>\n",
       "    </tr>\n",
       "    <tr>\n",
       "      <th>Roraima</th>\n",
       "      <td>223644</td>\n",
       "      <td>505665</td>\n",
       "    </tr>\n",
       "    <tr>\n",
       "      <th>Distrito Federal</th>\n",
       "      <td>5760</td>\n",
       "      <td>2914830</td>\n",
       "    </tr>\n",
       "  </tbody>\n",
       "</table>\n",
       "</div>"
      ],
      "text/plain": [
       "                     Área  População\n",
       "Amazonas          1559167    3938336\n",
       "São Paulo          248219   44396484\n",
       "Bahia              564760   15203934\n",
       "Minas Gerais       586521   20869101\n",
       "Roraima            223644     505665\n",
       "Distrito Federal     5760    2914830"
      ]
     },
     "execution_count": 6,
     "metadata": {},
     "output_type": "execute_result"
    }
   ],
   "source": [
    "estadosBrasil[['Área','População']]"
   ]
  },
  {
   "cell_type": "markdown",
   "metadata": {},
   "source": [
    "## Selecionando uma linha usando o \"nome\""
   ]
  },
  {
   "cell_type": "code",
   "execution_count": 7,
   "metadata": {
    "ExecuteTime": {
     "end_time": "2021-05-23T19:27:39.350768Z",
     "start_time": "2021-05-23T19:27:39.337778Z"
    }
   },
   "outputs": [
    {
     "data": {
      "text/plain": [
       "População    2.086910e+07\n",
       "Área         5.865210e+05\n",
       "Densidade    3.558117e+01\n",
       "Name: Minas Gerais, dtype: float64"
      ]
     },
     "execution_count": 7,
     "metadata": {},
     "output_type": "execute_result"
    }
   ],
   "source": [
    "estadosBrasil.loc['Minas Gerais']"
   ]
  },
  {
   "cell_type": "markdown",
   "metadata": {},
   "source": [
    "## Selecionando uma linha usando o índice"
   ]
  },
  {
   "cell_type": "code",
   "execution_count": 8,
   "metadata": {
    "ExecuteTime": {
     "end_time": "2021-05-23T19:28:27.963249Z",
     "start_time": "2021-05-23T19:28:27.949244Z"
    }
   },
   "outputs": [
    {
     "data": {
      "text/plain": [
       "População    2.086910e+07\n",
       "Área         5.865210e+05\n",
       "Densidade    3.558117e+01\n",
       "Name: Minas Gerais, dtype: float64"
      ]
     },
     "execution_count": 8,
     "metadata": {},
     "output_type": "execute_result"
    }
   ],
   "source": [
    "estadosBrasil.iloc[3]"
   ]
  },
  {
   "cell_type": "markdown",
   "metadata": {},
   "source": [
    "## \"Recortando\" o dataframe a partir de alguns nomes"
   ]
  },
  {
   "cell_type": "code",
   "execution_count": 9,
   "metadata": {
    "ExecuteTime": {
     "end_time": "2021-05-23T19:29:16.656306Z",
     "start_time": "2021-05-23T19:29:16.634305Z"
    }
   },
   "outputs": [
    {
     "data": {
      "text/html": [
       "<div>\n",
       "<style scoped>\n",
       "    .dataframe tbody tr th:only-of-type {\n",
       "        vertical-align: middle;\n",
       "    }\n",
       "\n",
       "    .dataframe tbody tr th {\n",
       "        vertical-align: top;\n",
       "    }\n",
       "\n",
       "    .dataframe thead th {\n",
       "        text-align: right;\n",
       "    }\n",
       "</style>\n",
       "<table border=\"1\" class=\"dataframe\">\n",
       "  <thead>\n",
       "    <tr style=\"text-align: right;\">\n",
       "      <th></th>\n",
       "      <th>População</th>\n",
       "      <th>Área</th>\n",
       "      <th>Densidade</th>\n",
       "    </tr>\n",
       "  </thead>\n",
       "  <tbody>\n",
       "    <tr>\n",
       "      <th>Bahia</th>\n",
       "      <td>15203934</td>\n",
       "      <td>564760</td>\n",
       "      <td>26.921053</td>\n",
       "    </tr>\n",
       "    <tr>\n",
       "      <th>Minas Gerais</th>\n",
       "      <td>20869101</td>\n",
       "      <td>586521</td>\n",
       "      <td>35.581166</td>\n",
       "    </tr>\n",
       "    <tr>\n",
       "      <th>Roraima</th>\n",
       "      <td>505665</td>\n",
       "      <td>223644</td>\n",
       "      <td>2.261026</td>\n",
       "    </tr>\n",
       "  </tbody>\n",
       "</table>\n",
       "</div>"
      ],
      "text/plain": [
       "              População    Área  Densidade\n",
       "Bahia          15203934  564760  26.921053\n",
       "Minas Gerais   20869101  586521  35.581166\n",
       "Roraima          505665  223644   2.261026"
      ]
     },
     "execution_count": 9,
     "metadata": {},
     "output_type": "execute_result"
    }
   ],
   "source": [
    "estadosBrasil['Bahia':'Roraima']"
   ]
  },
  {
   "cell_type": "markdown",
   "metadata": {},
   "source": [
    "## Filtrando o dataframe com vetor booleano"
   ]
  },
  {
   "cell_type": "code",
   "execution_count": 10,
   "metadata": {
    "ExecuteTime": {
     "end_time": "2021-05-23T19:30:28.853724Z",
     "start_time": "2021-05-23T19:30:28.834735Z"
    }
   },
   "outputs": [
    {
     "data": {
      "text/plain": [
       "Amazonas             True\n",
       "São Paulo           False\n",
       "Bahia                True\n",
       "Minas Gerais         True\n",
       "Roraima             False\n",
       "Distrito Federal    False\n",
       "Name: Área, dtype: bool"
      ]
     },
     "execution_count": 10,
     "metadata": {},
     "output_type": "execute_result"
    }
   ],
   "source": [
    "vetor_bool = estadosBrasil['Área'] > 500000\n",
    "vetor_bool"
   ]
  },
  {
   "cell_type": "code",
   "execution_count": 11,
   "metadata": {
    "ExecuteTime": {
     "end_time": "2021-05-23T19:31:14.606198Z",
     "start_time": "2021-05-23T19:31:14.597208Z"
    }
   },
   "outputs": [
    {
     "data": {
      "text/html": [
       "<div>\n",
       "<style scoped>\n",
       "    .dataframe tbody tr th:only-of-type {\n",
       "        vertical-align: middle;\n",
       "    }\n",
       "\n",
       "    .dataframe tbody tr th {\n",
       "        vertical-align: top;\n",
       "    }\n",
       "\n",
       "    .dataframe thead th {\n",
       "        text-align: right;\n",
       "    }\n",
       "</style>\n",
       "<table border=\"1\" class=\"dataframe\">\n",
       "  <thead>\n",
       "    <tr style=\"text-align: right;\">\n",
       "      <th></th>\n",
       "      <th>População</th>\n",
       "      <th>Área</th>\n",
       "      <th>Densidade</th>\n",
       "    </tr>\n",
       "  </thead>\n",
       "  <tbody>\n",
       "    <tr>\n",
       "      <th>Amazonas</th>\n",
       "      <td>3938336</td>\n",
       "      <td>1559167</td>\n",
       "      <td>2.525923</td>\n",
       "    </tr>\n",
       "    <tr>\n",
       "      <th>Bahia</th>\n",
       "      <td>15203934</td>\n",
       "      <td>564760</td>\n",
       "      <td>26.921053</td>\n",
       "    </tr>\n",
       "    <tr>\n",
       "      <th>Minas Gerais</th>\n",
       "      <td>20869101</td>\n",
       "      <td>586521</td>\n",
       "      <td>35.581166</td>\n",
       "    </tr>\n",
       "  </tbody>\n",
       "</table>\n",
       "</div>"
      ],
      "text/plain": [
       "              População     Área  Densidade\n",
       "Amazonas        3938336  1559167   2.525923\n",
       "Bahia          15203934   564760  26.921053\n",
       "Minas Gerais   20869101   586521  35.581166"
      ]
     },
     "execution_count": 11,
     "metadata": {},
     "output_type": "execute_result"
    }
   ],
   "source": [
    "estadosBrasil[vetor_bool]"
   ]
  },
  {
   "cell_type": "markdown",
   "metadata": {},
   "source": [
    "## Transpondo o dataframe"
   ]
  },
  {
   "cell_type": "code",
   "execution_count": 12,
   "metadata": {
    "ExecuteTime": {
     "end_time": "2021-05-23T19:31:47.523309Z",
     "start_time": "2021-05-23T19:31:47.510304Z"
    }
   },
   "outputs": [
    {
     "data": {
      "text/html": [
       "<div>\n",
       "<style scoped>\n",
       "    .dataframe tbody tr th:only-of-type {\n",
       "        vertical-align: middle;\n",
       "    }\n",
       "\n",
       "    .dataframe tbody tr th {\n",
       "        vertical-align: top;\n",
       "    }\n",
       "\n",
       "    .dataframe thead th {\n",
       "        text-align: right;\n",
       "    }\n",
       "</style>\n",
       "<table border=\"1\" class=\"dataframe\">\n",
       "  <thead>\n",
       "    <tr style=\"text-align: right;\">\n",
       "      <th></th>\n",
       "      <th>População</th>\n",
       "      <th>Área</th>\n",
       "      <th>Densidade</th>\n",
       "    </tr>\n",
       "  </thead>\n",
       "  <tbody>\n",
       "    <tr>\n",
       "      <th>Amazonas</th>\n",
       "      <td>3938336</td>\n",
       "      <td>1559167</td>\n",
       "      <td>2.525923</td>\n",
       "    </tr>\n",
       "    <tr>\n",
       "      <th>São Paulo</th>\n",
       "      <td>44396484</td>\n",
       "      <td>248219</td>\n",
       "      <td>178.860136</td>\n",
       "    </tr>\n",
       "    <tr>\n",
       "      <th>Bahia</th>\n",
       "      <td>15203934</td>\n",
       "      <td>564760</td>\n",
       "      <td>26.921053</td>\n",
       "    </tr>\n",
       "    <tr>\n",
       "      <th>Minas Gerais</th>\n",
       "      <td>20869101</td>\n",
       "      <td>586521</td>\n",
       "      <td>35.581166</td>\n",
       "    </tr>\n",
       "    <tr>\n",
       "      <th>Roraima</th>\n",
       "      <td>505665</td>\n",
       "      <td>223644</td>\n",
       "      <td>2.261026</td>\n",
       "    </tr>\n",
       "    <tr>\n",
       "      <th>Distrito Federal</th>\n",
       "      <td>2914830</td>\n",
       "      <td>5760</td>\n",
       "      <td>506.046875</td>\n",
       "    </tr>\n",
       "  </tbody>\n",
       "</table>\n",
       "</div>"
      ],
      "text/plain": [
       "                  População     Área   Densidade\n",
       "Amazonas            3938336  1559167    2.525923\n",
       "São Paulo          44396484   248219  178.860136\n",
       "Bahia              15203934   564760   26.921053\n",
       "Minas Gerais       20869101   586521   35.581166\n",
       "Roraima              505665   223644    2.261026\n",
       "Distrito Federal    2914830     5760  506.046875"
      ]
     },
     "execution_count": 12,
     "metadata": {},
     "output_type": "execute_result"
    }
   ],
   "source": [
    "estadosBrasil"
   ]
  },
  {
   "cell_type": "code",
   "execution_count": 13,
   "metadata": {
    "ExecuteTime": {
     "end_time": "2021-05-23T19:31:40.176219Z",
     "start_time": "2021-05-23T19:31:40.148232Z"
    }
   },
   "outputs": [
    {
     "data": {
      "text/html": [
       "<div>\n",
       "<style scoped>\n",
       "    .dataframe tbody tr th:only-of-type {\n",
       "        vertical-align: middle;\n",
       "    }\n",
       "\n",
       "    .dataframe tbody tr th {\n",
       "        vertical-align: top;\n",
       "    }\n",
       "\n",
       "    .dataframe thead th {\n",
       "        text-align: right;\n",
       "    }\n",
       "</style>\n",
       "<table border=\"1\" class=\"dataframe\">\n",
       "  <thead>\n",
       "    <tr style=\"text-align: right;\">\n",
       "      <th></th>\n",
       "      <th>Amazonas</th>\n",
       "      <th>São Paulo</th>\n",
       "      <th>Bahia</th>\n",
       "      <th>Minas Gerais</th>\n",
       "      <th>Roraima</th>\n",
       "      <th>Distrito Federal</th>\n",
       "    </tr>\n",
       "  </thead>\n",
       "  <tbody>\n",
       "    <tr>\n",
       "      <th>População</th>\n",
       "      <td>3.938336e+06</td>\n",
       "      <td>4.439648e+07</td>\n",
       "      <td>1.520393e+07</td>\n",
       "      <td>2.086910e+07</td>\n",
       "      <td>505665.000000</td>\n",
       "      <td>2.914830e+06</td>\n",
       "    </tr>\n",
       "    <tr>\n",
       "      <th>Área</th>\n",
       "      <td>1.559167e+06</td>\n",
       "      <td>2.482190e+05</td>\n",
       "      <td>5.647600e+05</td>\n",
       "      <td>5.865210e+05</td>\n",
       "      <td>223644.000000</td>\n",
       "      <td>5.760000e+03</td>\n",
       "    </tr>\n",
       "    <tr>\n",
       "      <th>Densidade</th>\n",
       "      <td>2.525923e+00</td>\n",
       "      <td>1.788601e+02</td>\n",
       "      <td>2.692105e+01</td>\n",
       "      <td>3.558117e+01</td>\n",
       "      <td>2.261026</td>\n",
       "      <td>5.060469e+02</td>\n",
       "    </tr>\n",
       "  </tbody>\n",
       "</table>\n",
       "</div>"
      ],
      "text/plain": [
       "               Amazonas     São Paulo         Bahia  Minas Gerais  \\\n",
       "População  3.938336e+06  4.439648e+07  1.520393e+07  2.086910e+07   \n",
       "Área       1.559167e+06  2.482190e+05  5.647600e+05  5.865210e+05   \n",
       "Densidade  2.525923e+00  1.788601e+02  2.692105e+01  3.558117e+01   \n",
       "\n",
       "                 Roraima  Distrito Federal  \n",
       "População  505665.000000      2.914830e+06  \n",
       "Área       223644.000000      5.760000e+03  \n",
       "Densidade       2.261026      5.060469e+02  "
      ]
     },
     "execution_count": 13,
     "metadata": {},
     "output_type": "execute_result"
    }
   ],
   "source": [
    "estadosBrasil.T"
   ]
  },
  {
   "cell_type": "code",
   "execution_count": 14,
   "metadata": {
    "ExecuteTime": {
     "end_time": "2021-05-23T19:32:11.622609Z",
     "start_time": "2021-05-23T19:32:11.608612Z"
    }
   },
   "outputs": [],
   "source": [
    "pd.options.display.float_format = '{:.2f}'.format"
   ]
  },
  {
   "cell_type": "code",
   "execution_count": 15,
   "metadata": {
    "ExecuteTime": {
     "end_time": "2021-05-23T19:32:32.623322Z",
     "start_time": "2021-05-23T19:32:32.605329Z"
    }
   },
   "outputs": [
    {
     "data": {
      "text/html": [
       "<div>\n",
       "<style scoped>\n",
       "    .dataframe tbody tr th:only-of-type {\n",
       "        vertical-align: middle;\n",
       "    }\n",
       "\n",
       "    .dataframe tbody tr th {\n",
       "        vertical-align: top;\n",
       "    }\n",
       "\n",
       "    .dataframe thead th {\n",
       "        text-align: right;\n",
       "    }\n",
       "</style>\n",
       "<table border=\"1\" class=\"dataframe\">\n",
       "  <thead>\n",
       "    <tr style=\"text-align: right;\">\n",
       "      <th></th>\n",
       "      <th>Amazonas</th>\n",
       "      <th>São Paulo</th>\n",
       "      <th>Bahia</th>\n",
       "      <th>Minas Gerais</th>\n",
       "      <th>Roraima</th>\n",
       "      <th>Distrito Federal</th>\n",
       "    </tr>\n",
       "  </thead>\n",
       "  <tbody>\n",
       "    <tr>\n",
       "      <th>População</th>\n",
       "      <td>3938336.00</td>\n",
       "      <td>44396484.00</td>\n",
       "      <td>15203934.00</td>\n",
       "      <td>20869101.00</td>\n",
       "      <td>505665.00</td>\n",
       "      <td>2914830.00</td>\n",
       "    </tr>\n",
       "    <tr>\n",
       "      <th>Área</th>\n",
       "      <td>1559167.00</td>\n",
       "      <td>248219.00</td>\n",
       "      <td>564760.00</td>\n",
       "      <td>586521.00</td>\n",
       "      <td>223644.00</td>\n",
       "      <td>5760.00</td>\n",
       "    </tr>\n",
       "    <tr>\n",
       "      <th>Densidade</th>\n",
       "      <td>2.53</td>\n",
       "      <td>178.86</td>\n",
       "      <td>26.92</td>\n",
       "      <td>35.58</td>\n",
       "      <td>2.26</td>\n",
       "      <td>506.05</td>\n",
       "    </tr>\n",
       "  </tbody>\n",
       "</table>\n",
       "</div>"
      ],
      "text/plain": [
       "            Amazonas   São Paulo       Bahia  Minas Gerais   Roraima  \\\n",
       "População 3938336.00 44396484.00 15203934.00   20869101.00 505665.00   \n",
       "Área      1559167.00   248219.00   564760.00     586521.00 223644.00   \n",
       "Densidade       2.53      178.86       26.92         35.58      2.26   \n",
       "\n",
       "           Distrito Federal  \n",
       "População        2914830.00  \n",
       "Área                5760.00  \n",
       "Densidade            506.05  "
      ]
     },
     "execution_count": 15,
     "metadata": {},
     "output_type": "execute_result"
    }
   ],
   "source": [
    "estadosBrasil.T"
   ]
  },
  {
   "cell_type": "markdown",
   "metadata": {
    "ExecuteTime": {
     "end_time": "2021-05-23T16:37:35.047827Z",
     "start_time": "2021-05-23T16:37:35.030825Z"
    }
   },
   "source": [
    "## Acessando os valores do dataframe usando ``values``"
   ]
  },
  {
   "cell_type": "code",
   "execution_count": 16,
   "metadata": {
    "ExecuteTime": {
     "end_time": "2021-05-23T19:33:11.801164Z",
     "start_time": "2021-05-23T19:33:11.780162Z"
    }
   },
   "outputs": [
    {
     "data": {
      "text/html": [
       "<div>\n",
       "<style scoped>\n",
       "    .dataframe tbody tr th:only-of-type {\n",
       "        vertical-align: middle;\n",
       "    }\n",
       "\n",
       "    .dataframe tbody tr th {\n",
       "        vertical-align: top;\n",
       "    }\n",
       "\n",
       "    .dataframe thead th {\n",
       "        text-align: right;\n",
       "    }\n",
       "</style>\n",
       "<table border=\"1\" class=\"dataframe\">\n",
       "  <thead>\n",
       "    <tr style=\"text-align: right;\">\n",
       "      <th></th>\n",
       "      <th>População</th>\n",
       "      <th>Área</th>\n",
       "      <th>Densidade</th>\n",
       "    </tr>\n",
       "  </thead>\n",
       "  <tbody>\n",
       "    <tr>\n",
       "      <th>Amazonas</th>\n",
       "      <td>3938336</td>\n",
       "      <td>1559167</td>\n",
       "      <td>2.53</td>\n",
       "    </tr>\n",
       "    <tr>\n",
       "      <th>São Paulo</th>\n",
       "      <td>44396484</td>\n",
       "      <td>248219</td>\n",
       "      <td>178.86</td>\n",
       "    </tr>\n",
       "    <tr>\n",
       "      <th>Bahia</th>\n",
       "      <td>15203934</td>\n",
       "      <td>564760</td>\n",
       "      <td>26.92</td>\n",
       "    </tr>\n",
       "    <tr>\n",
       "      <th>Minas Gerais</th>\n",
       "      <td>20869101</td>\n",
       "      <td>586521</td>\n",
       "      <td>35.58</td>\n",
       "    </tr>\n",
       "    <tr>\n",
       "      <th>Roraima</th>\n",
       "      <td>505665</td>\n",
       "      <td>223644</td>\n",
       "      <td>2.26</td>\n",
       "    </tr>\n",
       "    <tr>\n",
       "      <th>Distrito Federal</th>\n",
       "      <td>2914830</td>\n",
       "      <td>5760</td>\n",
       "      <td>506.05</td>\n",
       "    </tr>\n",
       "  </tbody>\n",
       "</table>\n",
       "</div>"
      ],
      "text/plain": [
       "                  População     Área  Densidade\n",
       "Amazonas            3938336  1559167       2.53\n",
       "São Paulo          44396484   248219     178.86\n",
       "Bahia              15203934   564760      26.92\n",
       "Minas Gerais       20869101   586521      35.58\n",
       "Roraima              505665   223644       2.26\n",
       "Distrito Federal    2914830     5760     506.05"
      ]
     },
     "execution_count": 16,
     "metadata": {},
     "output_type": "execute_result"
    }
   ],
   "source": [
    "estadosBrasil"
   ]
  },
  {
   "cell_type": "code",
   "execution_count": 17,
   "metadata": {
    "ExecuteTime": {
     "end_time": "2021-05-23T19:33:23.624577Z",
     "start_time": "2021-05-23T19:33:23.602589Z"
    }
   },
   "outputs": [
    {
     "data": {
      "text/plain": [
       "array([[3.93833600e+06, 1.55916700e+06, 2.52592314e+00],\n",
       "       [4.43964840e+07, 2.48219000e+05, 1.78860136e+02],\n",
       "       [1.52039340e+07, 5.64760000e+05, 2.69210532e+01],\n",
       "       [2.08691010e+07, 5.86521000e+05, 3.55811659e+01],\n",
       "       [5.05665000e+05, 2.23644000e+05, 2.26102645e+00],\n",
       "       [2.91483000e+06, 5.76000000e+03, 5.06046875e+02]])"
      ]
     },
     "execution_count": 17,
     "metadata": {},
     "output_type": "execute_result"
    }
   ],
   "source": [
    "estadosBrasil.values"
   ]
  },
  {
   "cell_type": "code",
   "execution_count": 18,
   "metadata": {
    "ExecuteTime": {
     "end_time": "2021-05-23T19:34:01.811936Z",
     "start_time": "2021-05-23T19:34:01.796943Z"
    }
   },
   "outputs": [
    {
     "data": {
      "text/plain": [
       "array([3.93833600e+06, 1.55916700e+06, 2.52592314e+00])"
      ]
     },
     "execution_count": 18,
     "metadata": {},
     "output_type": "execute_result"
    }
   ],
   "source": [
    "estadosBrasil.values[0]"
   ]
  },
  {
   "cell_type": "code",
   "execution_count": 19,
   "metadata": {
    "ExecuteTime": {
     "end_time": "2021-05-23T19:34:16.364850Z",
     "start_time": "2021-05-23T19:34:16.350857Z"
    }
   },
   "outputs": [
    {
     "data": {
      "text/plain": [
       "array([4.43964840e+07, 2.48219000e+05, 1.78860136e+02])"
      ]
     },
     "execution_count": 19,
     "metadata": {},
     "output_type": "execute_result"
    }
   ],
   "source": [
    "estadosBrasil.values[1]"
   ]
  },
  {
   "cell_type": "markdown",
   "metadata": {
    "ExecuteTime": {
     "end_time": "2021-05-23T16:37:35.047827Z",
     "start_time": "2021-05-23T16:37:35.030825Z"
    }
   },
   "source": [
    "## Acessando os valores do dataframe usando ``loc``"
   ]
  },
  {
   "cell_type": "code",
   "execution_count": 20,
   "metadata": {
    "ExecuteTime": {
     "end_time": "2021-05-23T19:34:24.069497Z",
     "start_time": "2021-05-23T19:34:24.047510Z"
    }
   },
   "outputs": [
    {
     "data": {
      "text/html": [
       "<div>\n",
       "<style scoped>\n",
       "    .dataframe tbody tr th:only-of-type {\n",
       "        vertical-align: middle;\n",
       "    }\n",
       "\n",
       "    .dataframe tbody tr th {\n",
       "        vertical-align: top;\n",
       "    }\n",
       "\n",
       "    .dataframe thead th {\n",
       "        text-align: right;\n",
       "    }\n",
       "</style>\n",
       "<table border=\"1\" class=\"dataframe\">\n",
       "  <thead>\n",
       "    <tr style=\"text-align: right;\">\n",
       "      <th></th>\n",
       "      <th>População</th>\n",
       "      <th>Área</th>\n",
       "      <th>Densidade</th>\n",
       "    </tr>\n",
       "  </thead>\n",
       "  <tbody>\n",
       "    <tr>\n",
       "      <th>Amazonas</th>\n",
       "      <td>3938336</td>\n",
       "      <td>1559167</td>\n",
       "      <td>2.53</td>\n",
       "    </tr>\n",
       "    <tr>\n",
       "      <th>São Paulo</th>\n",
       "      <td>44396484</td>\n",
       "      <td>248219</td>\n",
       "      <td>178.86</td>\n",
       "    </tr>\n",
       "    <tr>\n",
       "      <th>Bahia</th>\n",
       "      <td>15203934</td>\n",
       "      <td>564760</td>\n",
       "      <td>26.92</td>\n",
       "    </tr>\n",
       "    <tr>\n",
       "      <th>Minas Gerais</th>\n",
       "      <td>20869101</td>\n",
       "      <td>586521</td>\n",
       "      <td>35.58</td>\n",
       "    </tr>\n",
       "    <tr>\n",
       "      <th>Roraima</th>\n",
       "      <td>505665</td>\n",
       "      <td>223644</td>\n",
       "      <td>2.26</td>\n",
       "    </tr>\n",
       "    <tr>\n",
       "      <th>Distrito Federal</th>\n",
       "      <td>2914830</td>\n",
       "      <td>5760</td>\n",
       "      <td>506.05</td>\n",
       "    </tr>\n",
       "  </tbody>\n",
       "</table>\n",
       "</div>"
      ],
      "text/plain": [
       "                  População     Área  Densidade\n",
       "Amazonas            3938336  1559167       2.53\n",
       "São Paulo          44396484   248219     178.86\n",
       "Bahia              15203934   564760      26.92\n",
       "Minas Gerais       20869101   586521      35.58\n",
       "Roraima              505665   223644       2.26\n",
       "Distrito Federal    2914830     5760     506.05"
      ]
     },
     "execution_count": 20,
     "metadata": {},
     "output_type": "execute_result"
    }
   ],
   "source": [
    "estadosBrasil"
   ]
  },
  {
   "cell_type": "code",
   "execution_count": 21,
   "metadata": {
    "ExecuteTime": {
     "end_time": "2021-05-23T19:35:31.190725Z",
     "start_time": "2021-05-23T19:35:31.181728Z"
    }
   },
   "outputs": [
    {
     "data": {
      "text/plain": [
       "Amazonas   2.53\n",
       "Roraima    2.26\n",
       "Name: Densidade, dtype: float64"
      ]
     },
     "execution_count": 21,
     "metadata": {},
     "output_type": "execute_result"
    }
   ],
   "source": [
    "estadosBrasil.loc[estadosBrasil['Densidade'] < 10, 'Densidade']"
   ]
  },
  {
   "cell_type": "code",
   "execution_count": 22,
   "metadata": {
    "ExecuteTime": {
     "end_time": "2021-05-23T19:36:06.701604Z",
     "start_time": "2021-05-23T19:36:06.693620Z"
    }
   },
   "outputs": [],
   "source": [
    "estadosBrasil.loc[estadosBrasil['Densidade'] < 10, 'Densidade'] = 9000"
   ]
  },
  {
   "cell_type": "code",
   "execution_count": null,
   "metadata": {},
   "outputs": [],
   "source": []
  },
  {
   "cell_type": "code",
   "execution_count": 23,
   "metadata": {
    "ExecuteTime": {
     "end_time": "2021-05-23T19:36:11.892278Z",
     "start_time": "2021-05-23T19:36:11.876273Z"
    },
    "scrolled": false
   },
   "outputs": [
    {
     "data": {
      "text/html": [
       "<div>\n",
       "<style scoped>\n",
       "    .dataframe tbody tr th:only-of-type {\n",
       "        vertical-align: middle;\n",
       "    }\n",
       "\n",
       "    .dataframe tbody tr th {\n",
       "        vertical-align: top;\n",
       "    }\n",
       "\n",
       "    .dataframe thead th {\n",
       "        text-align: right;\n",
       "    }\n",
       "</style>\n",
       "<table border=\"1\" class=\"dataframe\">\n",
       "  <thead>\n",
       "    <tr style=\"text-align: right;\">\n",
       "      <th></th>\n",
       "      <th>População</th>\n",
       "      <th>Área</th>\n",
       "      <th>Densidade</th>\n",
       "    </tr>\n",
       "  </thead>\n",
       "  <tbody>\n",
       "    <tr>\n",
       "      <th>Amazonas</th>\n",
       "      <td>3938336</td>\n",
       "      <td>1559167</td>\n",
       "      <td>9000.00</td>\n",
       "    </tr>\n",
       "    <tr>\n",
       "      <th>São Paulo</th>\n",
       "      <td>44396484</td>\n",
       "      <td>248219</td>\n",
       "      <td>178.86</td>\n",
       "    </tr>\n",
       "    <tr>\n",
       "      <th>Bahia</th>\n",
       "      <td>15203934</td>\n",
       "      <td>564760</td>\n",
       "      <td>26.92</td>\n",
       "    </tr>\n",
       "    <tr>\n",
       "      <th>Minas Gerais</th>\n",
       "      <td>20869101</td>\n",
       "      <td>586521</td>\n",
       "      <td>35.58</td>\n",
       "    </tr>\n",
       "    <tr>\n",
       "      <th>Roraima</th>\n",
       "      <td>505665</td>\n",
       "      <td>223644</td>\n",
       "      <td>9000.00</td>\n",
       "    </tr>\n",
       "    <tr>\n",
       "      <th>Distrito Federal</th>\n",
       "      <td>2914830</td>\n",
       "      <td>5760</td>\n",
       "      <td>506.05</td>\n",
       "    </tr>\n",
       "  </tbody>\n",
       "</table>\n",
       "</div>"
      ],
      "text/plain": [
       "                  População     Área  Densidade\n",
       "Amazonas            3938336  1559167    9000.00\n",
       "São Paulo          44396484   248219     178.86\n",
       "Bahia              15203934   564760      26.92\n",
       "Minas Gerais       20869101   586521      35.58\n",
       "Roraima              505665   223644    9000.00\n",
       "Distrito Federal    2914830     5760     506.05"
      ]
     },
     "execution_count": 23,
     "metadata": {},
     "output_type": "execute_result"
    }
   ],
   "source": [
    "estadosBrasil"
   ]
  },
  {
   "cell_type": "markdown",
   "metadata": {
    "ExecuteTime": {
     "end_time": "2021-05-23T16:37:35.047827Z",
     "start_time": "2021-05-23T16:37:35.030825Z"
    }
   },
   "source": [
    "## Acessando os valores do dataframe usando ``iloc``"
   ]
  },
  {
   "cell_type": "code",
   "execution_count": 24,
   "metadata": {
    "ExecuteTime": {
     "end_time": "2021-05-23T19:36:40.528273Z",
     "start_time": "2021-05-23T19:36:40.502273Z"
    },
    "scrolled": false
   },
   "outputs": [
    {
     "data": {
      "text/html": [
       "<div>\n",
       "<style scoped>\n",
       "    .dataframe tbody tr th:only-of-type {\n",
       "        vertical-align: middle;\n",
       "    }\n",
       "\n",
       "    .dataframe tbody tr th {\n",
       "        vertical-align: top;\n",
       "    }\n",
       "\n",
       "    .dataframe thead th {\n",
       "        text-align: right;\n",
       "    }\n",
       "</style>\n",
       "<table border=\"1\" class=\"dataframe\">\n",
       "  <thead>\n",
       "    <tr style=\"text-align: right;\">\n",
       "      <th></th>\n",
       "      <th>População</th>\n",
       "      <th>Área</th>\n",
       "      <th>Densidade</th>\n",
       "    </tr>\n",
       "  </thead>\n",
       "  <tbody>\n",
       "    <tr>\n",
       "      <th>Amazonas</th>\n",
       "      <td>3938336</td>\n",
       "      <td>1559167</td>\n",
       "      <td>9000.00</td>\n",
       "    </tr>\n",
       "    <tr>\n",
       "      <th>São Paulo</th>\n",
       "      <td>44396484</td>\n",
       "      <td>248219</td>\n",
       "      <td>178.86</td>\n",
       "    </tr>\n",
       "    <tr>\n",
       "      <th>Bahia</th>\n",
       "      <td>15203934</td>\n",
       "      <td>564760</td>\n",
       "      <td>26.92</td>\n",
       "    </tr>\n",
       "    <tr>\n",
       "      <th>Minas Gerais</th>\n",
       "      <td>20869101</td>\n",
       "      <td>586521</td>\n",
       "      <td>35.58</td>\n",
       "    </tr>\n",
       "    <tr>\n",
       "      <th>Roraima</th>\n",
       "      <td>505665</td>\n",
       "      <td>223644</td>\n",
       "      <td>9000.00</td>\n",
       "    </tr>\n",
       "    <tr>\n",
       "      <th>Distrito Federal</th>\n",
       "      <td>2914830</td>\n",
       "      <td>5760</td>\n",
       "      <td>506.05</td>\n",
       "    </tr>\n",
       "  </tbody>\n",
       "</table>\n",
       "</div>"
      ],
      "text/plain": [
       "                  População     Área  Densidade\n",
       "Amazonas            3938336  1559167    9000.00\n",
       "São Paulo          44396484   248219     178.86\n",
       "Bahia              15203934   564760      26.92\n",
       "Minas Gerais       20869101   586521      35.58\n",
       "Roraima              505665   223644    9000.00\n",
       "Distrito Federal    2914830     5760     506.05"
      ]
     },
     "execution_count": 24,
     "metadata": {},
     "output_type": "execute_result"
    }
   ],
   "source": [
    "estadosBrasil"
   ]
  },
  {
   "cell_type": "code",
   "execution_count": 25,
   "metadata": {
    "ExecuteTime": {
     "end_time": "2021-05-23T19:36:49.688341Z",
     "start_time": "2021-05-23T19:36:49.670354Z"
    }
   },
   "outputs": [
    {
     "data": {
      "text/plain": [
       "População   15203934.00\n",
       "Área          564760.00\n",
       "Densidade         26.92\n",
       "Name: Bahia, dtype: float64"
      ]
     },
     "execution_count": 25,
     "metadata": {},
     "output_type": "execute_result"
    }
   ],
   "source": [
    "estadosBrasil.iloc[2]"
   ]
  },
  {
   "cell_type": "code",
   "execution_count": 26,
   "metadata": {
    "ExecuteTime": {
     "end_time": "2021-05-23T19:37:24.669596Z",
     "start_time": "2021-05-23T19:37:24.664596Z"
    }
   },
   "outputs": [
    {
     "data": {
      "text/plain": [
       "26.921053190735886"
      ]
     },
     "execution_count": 26,
     "metadata": {},
     "output_type": "execute_result"
    }
   ],
   "source": [
    "estadosBrasil.iloc[2,2]"
   ]
  },
  {
   "cell_type": "code",
   "execution_count": 27,
   "metadata": {
    "ExecuteTime": {
     "end_time": "2021-05-23T19:37:45.423355Z",
     "start_time": "2021-05-23T19:37:45.420353Z"
    }
   },
   "outputs": [],
   "source": [
    "estadosBrasil.iloc[2,2] = 10000"
   ]
  },
  {
   "cell_type": "code",
   "execution_count": 28,
   "metadata": {
    "ExecuteTime": {
     "end_time": "2021-05-23T19:38:01.165387Z",
     "start_time": "2021-05-23T19:38:01.151408Z"
    }
   },
   "outputs": [
    {
     "data": {
      "text/html": [
       "<div>\n",
       "<style scoped>\n",
       "    .dataframe tbody tr th:only-of-type {\n",
       "        vertical-align: middle;\n",
       "    }\n",
       "\n",
       "    .dataframe tbody tr th {\n",
       "        vertical-align: top;\n",
       "    }\n",
       "\n",
       "    .dataframe thead th {\n",
       "        text-align: right;\n",
       "    }\n",
       "</style>\n",
       "<table border=\"1\" class=\"dataframe\">\n",
       "  <thead>\n",
       "    <tr style=\"text-align: right;\">\n",
       "      <th></th>\n",
       "      <th>População</th>\n",
       "      <th>Área</th>\n",
       "      <th>Densidade</th>\n",
       "    </tr>\n",
       "  </thead>\n",
       "  <tbody>\n",
       "    <tr>\n",
       "      <th>Amazonas</th>\n",
       "      <td>3938336</td>\n",
       "      <td>1559167</td>\n",
       "      <td>9000.00</td>\n",
       "    </tr>\n",
       "    <tr>\n",
       "      <th>São Paulo</th>\n",
       "      <td>44396484</td>\n",
       "      <td>248219</td>\n",
       "      <td>178.86</td>\n",
       "    </tr>\n",
       "    <tr>\n",
       "      <th>Bahia</th>\n",
       "      <td>15203934</td>\n",
       "      <td>564760</td>\n",
       "      <td>10000.00</td>\n",
       "    </tr>\n",
       "    <tr>\n",
       "      <th>Minas Gerais</th>\n",
       "      <td>20869101</td>\n",
       "      <td>586521</td>\n",
       "      <td>35.58</td>\n",
       "    </tr>\n",
       "    <tr>\n",
       "      <th>Roraima</th>\n",
       "      <td>505665</td>\n",
       "      <td>223644</td>\n",
       "      <td>9000.00</td>\n",
       "    </tr>\n",
       "    <tr>\n",
       "      <th>Distrito Federal</th>\n",
       "      <td>2914830</td>\n",
       "      <td>5760</td>\n",
       "      <td>506.05</td>\n",
       "    </tr>\n",
       "  </tbody>\n",
       "</table>\n",
       "</div>"
      ],
      "text/plain": [
       "                  População     Área  Densidade\n",
       "Amazonas            3938336  1559167    9000.00\n",
       "São Paulo          44396484   248219     178.86\n",
       "Bahia              15203934   564760   10000.00\n",
       "Minas Gerais       20869101   586521      35.58\n",
       "Roraima              505665   223644    9000.00\n",
       "Distrito Federal    2914830     5760     506.05"
      ]
     },
     "execution_count": 28,
     "metadata": {},
     "output_type": "execute_result"
    }
   ],
   "source": [
    "estadosBrasil"
   ]
  }
 ],
 "metadata": {
  "kernelspec": {
   "display_name": "Python 3 (ipykernel)",
   "language": "python",
   "name": "python3"
  },
  "language_info": {
   "codemirror_mode": {
    "name": "ipython",
    "version": 3
   },
   "file_extension": ".py",
   "mimetype": "text/x-python",
   "name": "python",
   "nbconvert_exporter": "python",
   "pygments_lexer": "ipython3",
   "version": "3.10.11"
  },
  "varInspector": {
   "cols": {
    "lenName": 16,
    "lenType": 16,
    "lenVar": 40
   },
   "kernels_config": {
    "python": {
     "delete_cmd_postfix": "",
     "delete_cmd_prefix": "del ",
     "library": "var_list.py",
     "varRefreshCmd": "print(var_dic_list())"
    },
    "r": {
     "delete_cmd_postfix": ") ",
     "delete_cmd_prefix": "rm(",
     "library": "var_list.r",
     "varRefreshCmd": "cat(var_dic_list()) "
    }
   },
   "types_to_exclude": [
    "module",
    "function",
    "builtin_function_or_method",
    "instance",
    "_Feature"
   ],
   "window_display": false
  }
 },
 "nbformat": 4,
 "nbformat_minor": 4
}
