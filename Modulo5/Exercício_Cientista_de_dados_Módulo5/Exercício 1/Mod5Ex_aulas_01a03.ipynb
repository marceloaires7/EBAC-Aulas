{
 "cells": [
  {
   "cell_type": "markdown",
   "metadata": {},
   "source": [
    "# Módulo 5 Tarefa 1\n",
    "## Base de nascidos vivos do DataSUS\n",
    "O DataSUS disponibiliza diversos arquivos de dados com relação a seus segurados, conforme a [lei da transparência de informações públicas](https://www.sisgov.com/transparencia-acesso-informacao/#:~:text=A%20Lei%20da%20Transpar%C3%AAncia%20(LC,em%20um%20site%20na%20internet.). \n",
    "\n",
    "Essas informações podem ser obtidas pela internet [aqui](http://www2.datasus.gov.br/DATASUS/index.php?area=0901&item=1). Como o processo de obtenção desses arquivos foge um pouco do nosso escopo, deixamos o arquivo ```SINASC_RO_2019.csv``` já como vai ser encontrado no DataSUS. O dicionário de dados está no arquivo ```estrutura_sinasc_para_CD.pdf``` (o nome do arquivo tal qual no portal do DataSUS).\n",
    "\n",
    "### Nosso objetivo\n",
    "Queremos deixar uma base organizada para podermos estudar a relação entre partos com risco para o bebê e algumas condições como tempo de parto, consultas de pré-natal etc.\n",
    "\n",
    "#### Preparação da base\n",
    "1. Carregue a base 'SINASC_RO_2019.csv'. Conte o número de registros e o número de registros não duplicados da base. Dica: você aprendeu um método que remove duplicados, encadeie este método com um outro método que conta o número de linhas. **Há linhas duplicadas?**  \n",
    "\n",
    "2. Conte o número de valores *missing* por variável.  \n",
    "\n",
    "3. Ok, no item anterior você deve ter achado pouco prático ler a informação de tantas variáveis, muitas delas nem devem ser interesantes. Então crie uma seleção dessa base somente com as colunas que interessam. São elas:\n",
    "``` \n",
    "['LOCNASC', 'IDADEMAE', 'ESTCIVMAE', 'ESCMAE', 'QTDFILVIVO', \n",
    "    'GESTACAO', 'GRAVIDEZ', 'CONSULTAS', 'APGAR5'] \n",
    "```\n",
    "Refaça a contagem de valores *missings*.  \n",
    "\n",
    "4. Apgar é uma *nota* que o pediatra dá ao bebê quando nasce de acordo com algumas características associadas principalmente à respiração. Apgar 1 e Apgar 5 são as notas 1 e 5 minutos do nascimento. Apgar5 será a nossa variável de interesse principal. Então remova todos os registros com Apgar5 não preenchido. Para esta seleção, conte novamente o número de linhas e o número de *missings*.  \n",
    "\n",
    "5. observe que as variáveis ```['ESTCIVMAE', 'CONSULTAS']``` possuem o código ```9```, que significa *ignorado*. Vamos assumir que o não preenchido é o mesmo que o código ```9```.<br>\n",
    "6. Substitua os valores faltantes da quantitativa (```QTDFILVIVO```) por zero.  \n",
    "7. Das restantes, decida que valore te parece mais adequado (um 'não preenchido' ou um valor 'mais provável' como no item anterior) e preencha. Justifique. Lembre-se de que tratamento de dados é trabalho do cientista, e que estamos tomando decisões a todo o momento - não há necessariamente certo e errado aqui.  \n",
    "8. O Apgar possui uma classificação indicando se o bebê passou por asfixia:\n",
    "- Entre 8 e 10 está em uma faixa 'normal'. \n",
    "- Entre 6 e 7, significa que o recém-nascido passou por 'asfixia leve'. \n",
    "- Entre 4 e 5 significa 'asfixia moderada'.\n",
    "- Entre 0 e 3 significa 'asfixia severa'.  \n",
    "\n",
    "Crie uma categorização dessa variável com essa codificação e calcule as frequências dessa categorização.  \n",
    "<br>\n",
    "9. Renomeie as variáveis para que fiquem no *snake case*, ou seja, em letras minúsculas, com um *underscore* entre as palávras. Dica: repare que se você não quiser criar um *dataframe* novo, você vai precisar usar a opção ```inplace = True```."
   ]
  },
  {
   "cell_type": "code",
   "execution_count": 1,
   "metadata": {},
   "outputs": [
    {
     "name": "stdout",
     "output_type": "stream",
     "text": [
      "(27028, 69)\n"
     ]
    },
    {
     "data": {
      "text/plain": [
       "(27028, 69)"
      ]
     },
     "execution_count": 1,
     "metadata": {},
     "output_type": "execute_result"
    }
   ],
   "source": [
    "import pandas as pd\n",
    "import requests\n",
    "\n",
    "# 1) Conte o número de registros e o número de registros não duplicados da base.\n",
    "sinasc = pd.read_csv('SINASC_RO_2019.csv')\n",
    "print(sinasc.shape)\n",
    "sinasc.drop_duplicates().shape\n",
    "# Não há duplicados"
   ]
  },
  {
   "cell_type": "code",
   "execution_count": 2,
   "metadata": {},
   "outputs": [
    {
     "name": "stdout",
     "output_type": "stream",
     "text": [
      "69 Colunas\n",
      "\n",
      "ORIGEM: 0\n",
      "CODESTAB: 115\n",
      "CODMUNNASC: 0\n",
      "LOCNASC: 0\n",
      "IDADEMAE: 0\n",
      "ESTCIVMAE: 317\n",
      "ESCMAE: 312\n",
      "CODOCUPMAE: 2907\n",
      "QTDFILVIVO: 1573\n",
      "QTDFILMORT: 2098\n",
      "CODMUNRES: 0\n",
      "GESTACAO: 1232\n",
      "GRAVIDEZ: 79\n",
      "PARTO: 49\n",
      "CONSULTAS: 0\n",
      "DTNASC: 0\n",
      "HORANASC: 21\n",
      "SEXO: 4\n",
      "APGAR1: 96\n",
      "APGAR5: 103\n",
      "RACACOR: 647\n",
      "PESO: 0\n",
      "IDANOMAL: 591\n",
      "DTCADASTRO: 0\n",
      "CODANOMAL: 26814\n",
      "NUMEROLOTE: 0\n",
      "VERSAOSIST: 0\n",
      "DTRECEBIM: 0\n",
      "DIFDATA: 0\n",
      "DTRECORIGA: 27028\n",
      "NATURALMAE: 298\n",
      "CODMUNNATU: 298\n",
      "CODUFNATU: 298\n",
      "ESCMAE2010: 249\n",
      "SERIESCMAE: 12710\n",
      "DTNASCMAE: 40\n",
      "RACACORMAE: 661\n",
      "QTDGESTANT: 1212\n",
      "QTDPARTNOR: 1879\n",
      "QTDPARTCES: 1791\n",
      "IDADEPAI: 19421\n",
      "DTULTMENST: 10072\n",
      "SEMAGESTAC: 1238\n",
      "TPMETESTIM: 1238\n",
      "CONSPRENAT: 930\n",
      "MESPRENAT: 2867\n",
      "TPAPRESENT: 265\n",
      "STTRABPART: 947\n",
      "STCESPARTO: 747\n",
      "TPNASCASSI: 61\n",
      "TPFUNCRESP: 67\n",
      "TPDOCRESP: 14\n",
      "DTDECLARAC: 52\n",
      "ESCMAEAGR1: 249\n",
      "STDNEPIDEM: 0\n",
      "STDNNOVA: 0\n",
      "CODPAISRES: 0\n",
      "TPROBSON: 0\n",
      "PARIDADE: 0\n",
      "KOTELCHUCK: 0\n",
      "CONTADOR: 0\n",
      "munResStatus: 0\n",
      "munResTipo: 0\n",
      "munResNome: 0\n",
      "munResUf: 0\n",
      "munResLat: 1\n",
      "munResLon: 1\n",
      "munResAlt: 1\n",
      "munResArea: 1\n"
     ]
    }
   ],
   "source": [
    "# 2) Conte o número de valores missing por variável.\n",
    "print(f\"{sinasc.shape[1]} Colunas\\n\")\n",
    "for i in sinasc.columns:\n",
    "    print(f\"{i}: {sinasc[i].isna().sum()}\")"
   ]
  },
  {
   "cell_type": "code",
   "execution_count": 3,
   "metadata": {},
   "outputs": [
    {
     "name": "stdout",
     "output_type": "stream",
     "text": [
      "LOCNASC: 0\n",
      "IDADEMAE: 0\n",
      "ESTCIVMAE: 317\n",
      "ESCMAE: 312\n",
      "QTDFILVIVO: 1573\n",
      "GESTACAO: 1232\n",
      "GRAVIDEZ: 79\n",
      "CONSULTAS: 0\n",
      "APGAR5: 103\n"
     ]
    }
   ],
   "source": [
    "# 3) Então crie uma seleção dessa base somente com as colunas que interessam.\n",
    "Colunas_int = ['LOCNASC', 'IDADEMAE', 'ESTCIVMAE', 'ESCMAE', 'QTDFILVIVO', 'GESTACAO', 'GRAVIDEZ', 'CONSULTAS', 'APGAR5']\n",
    "for i in Colunas_int:\n",
    "    print(f\"{i}: {sinasc[i].isna().sum()}\")"
   ]
  },
  {
   "cell_type": "code",
   "execution_count": 4,
   "metadata": {},
   "outputs": [],
   "source": [
    "# 4) Então remova todos os registros com Apgar5 não preenchido.\n",
    "sinasc_APGAR5_dropped = sinasc[sinasc['APGAR5'].isna()]"
   ]
  },
  {
   "cell_type": "code",
   "execution_count": 5,
   "metadata": {},
   "outputs": [
    {
     "name": "stdout",
     "output_type": "stream",
     "text": [
      "Após a remoção, o número de linhas é: 26925\n",
      "\n",
      "Foram removidas: 103 linhas\n"
     ]
    }
   ],
   "source": [
    "# 4) Então remova todos os registros com Apgar5 não preenchido.\n",
    "sinasc.dropna(subset=['APGAR5'], inplace=True)\n",
    "print(f\"Após a remoção, o número de linhas é: {sinasc.shape[0]}\\n\")\n",
    "print(f\"Foram removidas: {sinasc_APGAR5_dropped[Colunas_int].shape[0]} linhas\")"
   ]
  },
  {
   "cell_type": "code",
   "execution_count": 6,
   "metadata": {
    "scrolled": true
   },
   "outputs": [
    {
     "data": {
      "text/plain": [
       "ESTCIVMAE    315\n",
       "CONSULTAS      0\n",
       "dtype: int64"
      ]
     },
     "execution_count": 6,
     "metadata": {},
     "output_type": "execute_result"
    }
   ],
   "source": [
    "# 5) observe que as variáveis ['ESTCIVMAE', 'CONSULTAS']. Vamos assumir que o não preenchido é o mesmo que o código 9.\n",
    "sinasc[['ESTCIVMAE', 'CONSULTAS']].isna().sum()"
   ]
  },
  {
   "cell_type": "code",
   "execution_count": 7,
   "metadata": {},
   "outputs": [
    {
     "data": {
      "text/plain": [
       "ESTCIVMAE    0\n",
       "CONSULTAS    0\n",
       "dtype: int64"
      ]
     },
     "execution_count": 7,
     "metadata": {},
     "output_type": "execute_result"
    }
   ],
   "source": [
    "# 5) observe que as variáveis ['ESTCIVMAE', 'CONSULTAS']. Vamos assumir que o não preenchido é o mesmo que o código 9.\n",
    "sinasc['ESTCIVMAE'].fillna(value=9, inplace=True)\n",
    "sinasc[['ESTCIVMAE', 'CONSULTAS']].isna().sum()"
   ]
  },
  {
   "cell_type": "code",
   "execution_count": 8,
   "metadata": {},
   "outputs": [
    {
     "data": {
      "text/plain": [
       "1566"
      ]
     },
     "execution_count": 8,
     "metadata": {},
     "output_type": "execute_result"
    }
   ],
   "source": [
    "# 6) Substitua os valores faltantes da quantitativa (QTDFILVIVO) por zero.\n",
    "sinasc['QTDFILVIVO'].isna().sum()"
   ]
  },
  {
   "cell_type": "code",
   "execution_count": 9,
   "metadata": {},
   "outputs": [
    {
     "data": {
      "text/plain": [
       "0"
      ]
     },
     "execution_count": 9,
     "metadata": {},
     "output_type": "execute_result"
    }
   ],
   "source": [
    "# 6) Substitua os valores faltantes da quantitativa (QTDFILVIVO) por zero.\n",
    "sinasc['QTDFILVIVO'].fillna(value=0, inplace=True)\n",
    "sinasc['QTDFILVIVO'].isna().sum()"
   ]
  },
  {
   "cell_type": "code",
   "execution_count": 10,
   "metadata": {},
   "outputs": [
    {
     "name": "stdout",
     "output_type": "stream",
     "text": [
      "LOCNASC: 0\n",
      "IDADEMAE: 0\n",
      "ESTCIVMAE: 0\n",
      "ESCMAE: 0\n",
      "QTDFILVIVO: 0\n",
      "GESTACAO: 0\n",
      "GRAVIDEZ: 0\n",
      "CONSULTAS: 0\n",
      "APGAR5: 0\n"
     ]
    }
   ],
   "source": [
    "# 7) decida que valor te parece mais adequado (um 'não preenchido' ou um valor 'mais provável' como no item anterior)\n",
    "# Os campos vazios de ['ESCMAE', 'GESTACAO', 'GRAVIDEZ'] foram preenchidos com o número 9 (ignorado)\n",
    "sinasc['ESCMAE'].fillna(value=9, inplace=True)\n",
    "sinasc['GESTACAO'].fillna(value=9, inplace=True)\n",
    "sinasc['GRAVIDEZ'].fillna(value=9, inplace=True)\n",
    "\n",
    "for i in Colunas_int:\n",
    "    print(f\"{i}: {sinasc[i].isna().sum()}\")"
   ]
  },
  {
   "cell_type": "code",
   "execution_count": 11,
   "metadata": {
    "scrolled": true
   },
   "outputs": [
    {
     "name": "stdout",
     "output_type": "stream",
     "text": [
      "1º minuto:\n",
      "normal              23793\n",
      "asfixia leve         2522\n",
      "asfixia moderada      376\n",
      "asfixia severa        230\n",
      "Name: APGAR1_cat, dtype: int64\n",
      "\n",
      "5º minuto:\n",
      "normal              26463\n",
      "asfixia leve          320\n",
      "asfixia severa         74\n",
      "asfixia moderada       68\n",
      "Name: APGAR5_cat, dtype: int64\n"
     ]
    }
   ],
   "source": [
    "# 8) Entre 8 e 10 está em uma faixa 'normal'.\n",
    "#    Entre 6 e 7, significa que o recém-nascido passou por 'asfixia leve'.\n",
    "#    Entre 4 e 5 significa 'asfixia moderada'.\n",
    "#    Entre 0 e 3 significa 'asfixia severa'.\n",
    "\n",
    "sinasc.loc[sinasc['APGAR1'] >= 8, ['APGAR1_cat']] = 'normal'\n",
    "sinasc.loc[(sinasc['APGAR1'] < 8) & (sinasc['APGAR1'] >= 6), ['APGAR1_cat']] = 'asfixia leve'\n",
    "sinasc.loc[(sinasc['APGAR1'] < 6) & (sinasc['APGAR1'] >= 4), ['APGAR1_cat']] = 'asfixia moderada'\n",
    "sinasc.loc[sinasc['APGAR1'] <= 3, ['APGAR1_cat']] = 'asfixia severa'\n",
    "\n",
    "sinasc.loc[sinasc['APGAR5'] >= 8, ['APGAR5_cat']] = 'normal'\n",
    "sinasc.loc[(sinasc['APGAR5'] < 8) & (sinasc['APGAR5'] >= 6), ['APGAR5_cat']] = 'asfixia leve'\n",
    "sinasc.loc[(sinasc['APGAR5'] < 6) & (sinasc['APGAR5'] >= 4), ['APGAR5_cat']] = 'asfixia moderada'\n",
    "sinasc.loc[sinasc['APGAR5'] <= 3, ['APGAR5_cat']] = 'asfixia severa'\n",
    "\n",
    "print(f\"1º minuto:\\n{sinasc['APGAR1_cat'].value_counts()}\\n\")\n",
    "print(f\"5º minuto:\\n{sinasc['APGAR5_cat'].value_counts()}\")"
   ]
  },
  {
   "cell_type": "code",
   "execution_count": 12,
   "metadata": {},
   "outputs": [
    {
     "data": {
      "text/plain": [
       "Index(['origem', 'codestab', 'codmunnasc', 'locnasc', 'idademae', 'estcivmae',\n",
       "       'escmae', 'codocupmae', 'qtdfilvivo', 'qtdfilmort', 'codmunres',\n",
       "       'gestacao', 'gravidez', 'parto', 'consultas', 'dtnasc', 'horanasc',\n",
       "       'sexo', 'apgar1', 'apgar5', 'racacor', 'peso', 'idanomal', 'dtcadastro',\n",
       "       'codanomal', 'numerolote', 'versaosist', 'dtrecebim', 'difdata',\n",
       "       'dtrecoriga', 'naturalmae', 'codmunnatu', 'codufnatu', 'escmae2010',\n",
       "       'seriescmae', 'dtnascmae', 'racacormae', 'qtdgestant', 'qtdpartnor',\n",
       "       'qtdpartces', 'idadepai', 'dtultmenst', 'semagestac', 'tpmetestim',\n",
       "       'consprenat', 'mesprenat', 'tpapresent', 'sttrabpart', 'stcesparto',\n",
       "       'tpnascassi', 'tpfuncresp', 'tpdocresp', 'dtdeclarac', 'escmaeagr1',\n",
       "       'stdnepidem', 'stdnnova', 'codpaisres', 'tprobson', 'paridade',\n",
       "       'kotelchuck', 'contador', 'munresstatus', 'munrestipo', 'munresnome',\n",
       "       'munresuf', 'munreslat', 'munreslon', 'munresalt', 'munresarea',\n",
       "       'apgar1_cat', 'apgar5_cat'],\n",
       "      dtype='object')"
      ]
     },
     "execution_count": 12,
     "metadata": {},
     "output_type": "execute_result"
    }
   ],
   "source": [
    "# 9) Renomeie as variáveis para que fiquem no snake case, ou seja, em letras minúsculas\n",
    "sinasc.columns = sinasc.columns.str.lower()\n",
    "sinasc.columns"
   ]
  }
 ],
 "metadata": {
  "kernelspec": {
   "display_name": "Python 3 (ipykernel)",
   "language": "python",
   "name": "python3"
  },
  "language_info": {
   "codemirror_mode": {
    "name": "ipython",
    "version": 3
   },
   "file_extension": ".py",
   "mimetype": "text/x-python",
   "name": "python",
   "nbconvert_exporter": "python",
   "pygments_lexer": "ipython3",
   "version": "3.10.11"
  }
 },
 "nbformat": 4,
 "nbformat_minor": 4
}
