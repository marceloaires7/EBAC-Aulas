{
 "cells": [
  {
   "cell_type": "markdown",
   "metadata": {},
   "source": [
    "# Índice <a name=\"Contents\"></a>\n",
    "1. [Importando bibliotecas](#import)\n",
    "2. [Construindo um dataframe ](#read)\n",
    "3. [Amostragem (sample)](#amostragem)\n",
    "3. [Intro sobre métodos de string](#strings)\n",
    "\n"
   ]
  },
  {
   "cell_type": "markdown",
   "metadata": {},
   "source": [
    "# 1. Importando bibliotecas <a name=\"import\"></a>\n",
    "\n",
    "<div style=\"text-align: right\"\n",
    "     \n",
    "[Voltar ao índice](#Contents)"
   ]
  },
  {
   "cell_type": "code",
   "execution_count": 1,
   "metadata": {
    "ExecuteTime": {
     "end_time": "2021-05-31T09:48:00.524786Z",
     "start_time": "2021-05-31T09:47:57.714385Z"
    }
   },
   "outputs": [],
   "source": [
    "import numpy  as np\n",
    "import pandas as pd"
   ]
  },
  {
   "cell_type": "markdown",
   "metadata": {},
   "source": [
    "# 2. Construindo um dataframe  <a name=\"read\"></a>\n",
    "<div style=\"text-align: right\"\n",
    "     \n",
    "[Voltar ao índice](#Contents)"
   ]
  },
  {
   "cell_type": "code",
   "execution_count": 2,
   "metadata": {
    "ExecuteTime": {
     "end_time": "2021-05-31T09:50:48.945129Z",
     "start_time": "2021-05-31T09:50:48.840662Z"
    }
   },
   "outputs": [],
   "source": [
    "df = pd.DataFrame(np.random.randint(100000, size=(1000000, 10)),\n",
    "             columns=['A', 'B', 'C', 'D', 'E', 'F', 'G', 'H', 'I', 'J'])"
   ]
  },
  {
   "cell_type": "markdown",
   "metadata": {},
   "source": [
    "# 3. Amostragem <a name=\"amostragem\"></a>\n",
    "<div style=\"text-align: right\"\n",
    "     \n",
    "[Voltar ao índice](#Contents)"
   ]
  },
  {
   "cell_type": "code",
   "execution_count": 3,
   "metadata": {
    "ExecuteTime": {
     "end_time": "2021-05-31T09:53:30.287377Z",
     "start_time": "2021-05-31T09:53:30.273391Z"
    }
   },
   "outputs": [
    {
     "data": {
      "text/plain": [
       "(1000000, 10)"
      ]
     },
     "execution_count": 3,
     "metadata": {},
     "output_type": "execute_result"
    }
   ],
   "source": [
    "df.shape"
   ]
  },
  {
   "cell_type": "code",
   "execution_count": 4,
   "metadata": {
    "ExecuteTime": {
     "end_time": "2021-05-31T09:52:47.422509Z",
     "start_time": "2021-05-31T09:52:47.363477Z"
    }
   },
   "outputs": [
    {
     "data": {
      "text/html": [
       "<div>\n",
       "<style scoped>\n",
       "    .dataframe tbody tr th:only-of-type {\n",
       "        vertical-align: middle;\n",
       "    }\n",
       "\n",
       "    .dataframe tbody tr th {\n",
       "        vertical-align: top;\n",
       "    }\n",
       "\n",
       "    .dataframe thead th {\n",
       "        text-align: right;\n",
       "    }\n",
       "</style>\n",
       "<table border=\"1\" class=\"dataframe\">\n",
       "  <thead>\n",
       "    <tr style=\"text-align: right;\">\n",
       "      <th></th>\n",
       "      <th>A</th>\n",
       "      <th>B</th>\n",
       "      <th>C</th>\n",
       "      <th>D</th>\n",
       "      <th>E</th>\n",
       "      <th>F</th>\n",
       "      <th>G</th>\n",
       "      <th>H</th>\n",
       "      <th>I</th>\n",
       "      <th>J</th>\n",
       "    </tr>\n",
       "  </thead>\n",
       "  <tbody>\n",
       "    <tr>\n",
       "      <th>264271</th>\n",
       "      <td>97865</td>\n",
       "      <td>80204</td>\n",
       "      <td>81163</td>\n",
       "      <td>13279</td>\n",
       "      <td>1887</td>\n",
       "      <td>14055</td>\n",
       "      <td>18066</td>\n",
       "      <td>86634</td>\n",
       "      <td>64036</td>\n",
       "      <td>31606</td>\n",
       "    </tr>\n",
       "    <tr>\n",
       "      <th>117236</th>\n",
       "      <td>51632</td>\n",
       "      <td>40004</td>\n",
       "      <td>10226</td>\n",
       "      <td>5989</td>\n",
       "      <td>66291</td>\n",
       "      <td>69070</td>\n",
       "      <td>36138</td>\n",
       "      <td>98812</td>\n",
       "      <td>33305</td>\n",
       "      <td>85883</td>\n",
       "    </tr>\n",
       "    <tr>\n",
       "      <th>345389</th>\n",
       "      <td>79863</td>\n",
       "      <td>16079</td>\n",
       "      <td>29670</td>\n",
       "      <td>62346</td>\n",
       "      <td>25191</td>\n",
       "      <td>49677</td>\n",
       "      <td>46767</td>\n",
       "      <td>69954</td>\n",
       "      <td>64876</td>\n",
       "      <td>81904</td>\n",
       "    </tr>\n",
       "    <tr>\n",
       "      <th>586049</th>\n",
       "      <td>68001</td>\n",
       "      <td>79803</td>\n",
       "      <td>67474</td>\n",
       "      <td>29120</td>\n",
       "      <td>49079</td>\n",
       "      <td>82838</td>\n",
       "      <td>7488</td>\n",
       "      <td>17709</td>\n",
       "      <td>76625</td>\n",
       "      <td>55960</td>\n",
       "    </tr>\n",
       "    <tr>\n",
       "      <th>827712</th>\n",
       "      <td>22399</td>\n",
       "      <td>6084</td>\n",
       "      <td>30465</td>\n",
       "      <td>3802</td>\n",
       "      <td>57305</td>\n",
       "      <td>7849</td>\n",
       "      <td>26852</td>\n",
       "      <td>72391</td>\n",
       "      <td>56400</td>\n",
       "      <td>97853</td>\n",
       "    </tr>\n",
       "    <tr>\n",
       "      <th>364263</th>\n",
       "      <td>42973</td>\n",
       "      <td>76392</td>\n",
       "      <td>88123</td>\n",
       "      <td>23863</td>\n",
       "      <td>45827</td>\n",
       "      <td>69092</td>\n",
       "      <td>23905</td>\n",
       "      <td>75820</td>\n",
       "      <td>67884</td>\n",
       "      <td>14872</td>\n",
       "    </tr>\n",
       "    <tr>\n",
       "      <th>580758</th>\n",
       "      <td>17400</td>\n",
       "      <td>10775</td>\n",
       "      <td>33074</td>\n",
       "      <td>18222</td>\n",
       "      <td>58995</td>\n",
       "      <td>60938</td>\n",
       "      <td>61938</td>\n",
       "      <td>27759</td>\n",
       "      <td>86579</td>\n",
       "      <td>75775</td>\n",
       "    </tr>\n",
       "    <tr>\n",
       "      <th>125309</th>\n",
       "      <td>20715</td>\n",
       "      <td>56469</td>\n",
       "      <td>7288</td>\n",
       "      <td>68706</td>\n",
       "      <td>99469</td>\n",
       "      <td>58236</td>\n",
       "      <td>16545</td>\n",
       "      <td>42026</td>\n",
       "      <td>58152</td>\n",
       "      <td>33442</td>\n",
       "    </tr>\n",
       "    <tr>\n",
       "      <th>66332</th>\n",
       "      <td>65640</td>\n",
       "      <td>40567</td>\n",
       "      <td>44884</td>\n",
       "      <td>19673</td>\n",
       "      <td>93762</td>\n",
       "      <td>38343</td>\n",
       "      <td>75820</td>\n",
       "      <td>65601</td>\n",
       "      <td>96379</td>\n",
       "      <td>8303</td>\n",
       "    </tr>\n",
       "    <tr>\n",
       "      <th>744942</th>\n",
       "      <td>82698</td>\n",
       "      <td>12749</td>\n",
       "      <td>41342</td>\n",
       "      <td>33167</td>\n",
       "      <td>60597</td>\n",
       "      <td>4505</td>\n",
       "      <td>51733</td>\n",
       "      <td>58169</td>\n",
       "      <td>74332</td>\n",
       "      <td>34728</td>\n",
       "    </tr>\n",
       "  </tbody>\n",
       "</table>\n",
       "</div>"
      ],
      "text/plain": [
       "            A      B      C      D      E      F      G      H      I      J\n",
       "264271  97865  80204  81163  13279   1887  14055  18066  86634  64036  31606\n",
       "117236  51632  40004  10226   5989  66291  69070  36138  98812  33305  85883\n",
       "345389  79863  16079  29670  62346  25191  49677  46767  69954  64876  81904\n",
       "586049  68001  79803  67474  29120  49079  82838   7488  17709  76625  55960\n",
       "827712  22399   6084  30465   3802  57305   7849  26852  72391  56400  97853\n",
       "364263  42973  76392  88123  23863  45827  69092  23905  75820  67884  14872\n",
       "580758  17400  10775  33074  18222  58995  60938  61938  27759  86579  75775\n",
       "125309  20715  56469   7288  68706  99469  58236  16545  42026  58152  33442\n",
       "66332   65640  40567  44884  19673  93762  38343  75820  65601  96379   8303\n",
       "744942  82698  12749  41342  33167  60597   4505  51733  58169  74332  34728"
      ]
     },
     "execution_count": 4,
     "metadata": {},
     "output_type": "execute_result"
    }
   ],
   "source": [
    "df.sample(10)"
   ]
  },
  {
   "cell_type": "code",
   "execution_count": 5,
   "metadata": {
    "ExecuteTime": {
     "end_time": "2021-05-31T09:52:50.016696Z",
     "start_time": "2021-05-31T09:52:49.955731Z"
    },
    "scrolled": true
   },
   "outputs": [
    {
     "data": {
      "text/html": [
       "<div>\n",
       "<style scoped>\n",
       "    .dataframe tbody tr th:only-of-type {\n",
       "        vertical-align: middle;\n",
       "    }\n",
       "\n",
       "    .dataframe tbody tr th {\n",
       "        vertical-align: top;\n",
       "    }\n",
       "\n",
       "    .dataframe thead th {\n",
       "        text-align: right;\n",
       "    }\n",
       "</style>\n",
       "<table border=\"1\" class=\"dataframe\">\n",
       "  <thead>\n",
       "    <tr style=\"text-align: right;\">\n",
       "      <th></th>\n",
       "      <th>A</th>\n",
       "      <th>B</th>\n",
       "      <th>C</th>\n",
       "      <th>D</th>\n",
       "      <th>E</th>\n",
       "      <th>F</th>\n",
       "      <th>G</th>\n",
       "      <th>H</th>\n",
       "      <th>I</th>\n",
       "      <th>J</th>\n",
       "    </tr>\n",
       "  </thead>\n",
       "  <tbody>\n",
       "    <tr>\n",
       "      <th>617759</th>\n",
       "      <td>36879</td>\n",
       "      <td>84324</td>\n",
       "      <td>73603</td>\n",
       "      <td>32948</td>\n",
       "      <td>60593</td>\n",
       "      <td>738</td>\n",
       "      <td>93216</td>\n",
       "      <td>15206</td>\n",
       "      <td>13316</td>\n",
       "      <td>38180</td>\n",
       "    </tr>\n",
       "    <tr>\n",
       "      <th>693227</th>\n",
       "      <td>62189</td>\n",
       "      <td>41856</td>\n",
       "      <td>75178</td>\n",
       "      <td>8663</td>\n",
       "      <td>91741</td>\n",
       "      <td>49917</td>\n",
       "      <td>22169</td>\n",
       "      <td>94028</td>\n",
       "      <td>29544</td>\n",
       "      <td>21992</td>\n",
       "    </tr>\n",
       "    <tr>\n",
       "      <th>906065</th>\n",
       "      <td>3389</td>\n",
       "      <td>33225</td>\n",
       "      <td>7469</td>\n",
       "      <td>41043</td>\n",
       "      <td>44902</td>\n",
       "      <td>98733</td>\n",
       "      <td>93387</td>\n",
       "      <td>81783</td>\n",
       "      <td>98299</td>\n",
       "      <td>27143</td>\n",
       "    </tr>\n",
       "    <tr>\n",
       "      <th>828507</th>\n",
       "      <td>23604</td>\n",
       "      <td>40495</td>\n",
       "      <td>59706</td>\n",
       "      <td>13981</td>\n",
       "      <td>45413</td>\n",
       "      <td>62227</td>\n",
       "      <td>94580</td>\n",
       "      <td>98916</td>\n",
       "      <td>9444</td>\n",
       "      <td>74849</td>\n",
       "    </tr>\n",
       "    <tr>\n",
       "      <th>869730</th>\n",
       "      <td>86687</td>\n",
       "      <td>9669</td>\n",
       "      <td>69459</td>\n",
       "      <td>76324</td>\n",
       "      <td>36541</td>\n",
       "      <td>5922</td>\n",
       "      <td>57708</td>\n",
       "      <td>21454</td>\n",
       "      <td>71504</td>\n",
       "      <td>94130</td>\n",
       "    </tr>\n",
       "    <tr>\n",
       "      <th>147081</th>\n",
       "      <td>36320</td>\n",
       "      <td>76052</td>\n",
       "      <td>91282</td>\n",
       "      <td>3169</td>\n",
       "      <td>84654</td>\n",
       "      <td>24749</td>\n",
       "      <td>32625</td>\n",
       "      <td>9915</td>\n",
       "      <td>44772</td>\n",
       "      <td>84825</td>\n",
       "    </tr>\n",
       "    <tr>\n",
       "      <th>779428</th>\n",
       "      <td>67158</td>\n",
       "      <td>38017</td>\n",
       "      <td>36247</td>\n",
       "      <td>59961</td>\n",
       "      <td>13904</td>\n",
       "      <td>44287</td>\n",
       "      <td>70283</td>\n",
       "      <td>64026</td>\n",
       "      <td>14322</td>\n",
       "      <td>50929</td>\n",
       "    </tr>\n",
       "    <tr>\n",
       "      <th>485973</th>\n",
       "      <td>58804</td>\n",
       "      <td>80194</td>\n",
       "      <td>48095</td>\n",
       "      <td>38294</td>\n",
       "      <td>14109</td>\n",
       "      <td>85756</td>\n",
       "      <td>66558</td>\n",
       "      <td>54510</td>\n",
       "      <td>65649</td>\n",
       "      <td>80712</td>\n",
       "    </tr>\n",
       "    <tr>\n",
       "      <th>30697</th>\n",
       "      <td>58586</td>\n",
       "      <td>72317</td>\n",
       "      <td>58125</td>\n",
       "      <td>19795</td>\n",
       "      <td>54552</td>\n",
       "      <td>80</td>\n",
       "      <td>39896</td>\n",
       "      <td>37144</td>\n",
       "      <td>54126</td>\n",
       "      <td>23185</td>\n",
       "    </tr>\n",
       "    <tr>\n",
       "      <th>306669</th>\n",
       "      <td>2675</td>\n",
       "      <td>61704</td>\n",
       "      <td>20302</td>\n",
       "      <td>54699</td>\n",
       "      <td>48352</td>\n",
       "      <td>26278</td>\n",
       "      <td>48408</td>\n",
       "      <td>63412</td>\n",
       "      <td>12301</td>\n",
       "      <td>92786</td>\n",
       "    </tr>\n",
       "  </tbody>\n",
       "</table>\n",
       "</div>"
      ],
      "text/plain": [
       "            A      B      C      D      E      F      G      H      I      J\n",
       "617759  36879  84324  73603  32948  60593    738  93216  15206  13316  38180\n",
       "693227  62189  41856  75178   8663  91741  49917  22169  94028  29544  21992\n",
       "906065   3389  33225   7469  41043  44902  98733  93387  81783  98299  27143\n",
       "828507  23604  40495  59706  13981  45413  62227  94580  98916   9444  74849\n",
       "869730  86687   9669  69459  76324  36541   5922  57708  21454  71504  94130\n",
       "147081  36320  76052  91282   3169  84654  24749  32625   9915  44772  84825\n",
       "779428  67158  38017  36247  59961  13904  44287  70283  64026  14322  50929\n",
       "485973  58804  80194  48095  38294  14109  85756  66558  54510  65649  80712\n",
       "30697   58586  72317  58125  19795  54552     80  39896  37144  54126  23185\n",
       "306669   2675  61704  20302  54699  48352  26278  48408  63412  12301  92786"
      ]
     },
     "execution_count": 5,
     "metadata": {},
     "output_type": "execute_result"
    }
   ],
   "source": [
    "df.sample(10, random_state=100)"
   ]
  },
  {
   "cell_type": "code",
   "execution_count": 44,
   "metadata": {
    "ExecuteTime": {
     "end_time": "2021-05-31T09:53:12.039004Z",
     "start_time": "2021-05-31T09:53:11.970040Z"
    },
    "scrolled": false
   },
   "outputs": [
    {
     "data": {
      "text/html": [
       "<div>\n",
       "<style scoped>\n",
       "    .dataframe tbody tr th:only-of-type {\n",
       "        vertical-align: middle;\n",
       "    }\n",
       "\n",
       "    .dataframe tbody tr th {\n",
       "        vertical-align: top;\n",
       "    }\n",
       "\n",
       "    .dataframe thead th {\n",
       "        text-align: right;\n",
       "    }\n",
       "</style>\n",
       "<table border=\"1\" class=\"dataframe\">\n",
       "  <thead>\n",
       "    <tr style=\"text-align: right;\">\n",
       "      <th></th>\n",
       "      <th>A</th>\n",
       "      <th>B</th>\n",
       "      <th>C</th>\n",
       "      <th>D</th>\n",
       "      <th>E</th>\n",
       "      <th>F</th>\n",
       "      <th>G</th>\n",
       "      <th>H</th>\n",
       "      <th>I</th>\n",
       "      <th>J</th>\n",
       "    </tr>\n",
       "  </thead>\n",
       "  <tbody>\n",
       "    <tr>\n",
       "      <th>617759</th>\n",
       "      <td>36879</td>\n",
       "      <td>84324</td>\n",
       "      <td>73603</td>\n",
       "      <td>32948</td>\n",
       "      <td>60593</td>\n",
       "      <td>738</td>\n",
       "      <td>93216</td>\n",
       "      <td>15206</td>\n",
       "      <td>13316</td>\n",
       "      <td>38180</td>\n",
       "    </tr>\n",
       "    <tr>\n",
       "      <th>693227</th>\n",
       "      <td>62189</td>\n",
       "      <td>41856</td>\n",
       "      <td>75178</td>\n",
       "      <td>8663</td>\n",
       "      <td>91741</td>\n",
       "      <td>49917</td>\n",
       "      <td>22169</td>\n",
       "      <td>94028</td>\n",
       "      <td>29544</td>\n",
       "      <td>21992</td>\n",
       "    </tr>\n",
       "    <tr>\n",
       "      <th>906065</th>\n",
       "      <td>3389</td>\n",
       "      <td>33225</td>\n",
       "      <td>7469</td>\n",
       "      <td>41043</td>\n",
       "      <td>44902</td>\n",
       "      <td>98733</td>\n",
       "      <td>93387</td>\n",
       "      <td>81783</td>\n",
       "      <td>98299</td>\n",
       "      <td>27143</td>\n",
       "    </tr>\n",
       "    <tr>\n",
       "      <th>828507</th>\n",
       "      <td>23604</td>\n",
       "      <td>40495</td>\n",
       "      <td>59706</td>\n",
       "      <td>13981</td>\n",
       "      <td>45413</td>\n",
       "      <td>62227</td>\n",
       "      <td>94580</td>\n",
       "      <td>98916</td>\n",
       "      <td>9444</td>\n",
       "      <td>74849</td>\n",
       "    </tr>\n",
       "    <tr>\n",
       "      <th>869730</th>\n",
       "      <td>86687</td>\n",
       "      <td>9669</td>\n",
       "      <td>69459</td>\n",
       "      <td>76324</td>\n",
       "      <td>36541</td>\n",
       "      <td>5922</td>\n",
       "      <td>57708</td>\n",
       "      <td>21454</td>\n",
       "      <td>71504</td>\n",
       "      <td>94130</td>\n",
       "    </tr>\n",
       "    <tr>\n",
       "      <th>...</th>\n",
       "      <td>...</td>\n",
       "      <td>...</td>\n",
       "      <td>...</td>\n",
       "      <td>...</td>\n",
       "      <td>...</td>\n",
       "      <td>...</td>\n",
       "      <td>...</td>\n",
       "      <td>...</td>\n",
       "      <td>...</td>\n",
       "      <td>...</td>\n",
       "    </tr>\n",
       "    <tr>\n",
       "      <th>599633</th>\n",
       "      <td>11555</td>\n",
       "      <td>31553</td>\n",
       "      <td>84247</td>\n",
       "      <td>78328</td>\n",
       "      <td>60907</td>\n",
       "      <td>5493</td>\n",
       "      <td>29704</td>\n",
       "      <td>20797</td>\n",
       "      <td>98164</td>\n",
       "      <td>50449</td>\n",
       "    </tr>\n",
       "    <tr>\n",
       "      <th>103907</th>\n",
       "      <td>2082</td>\n",
       "      <td>22102</td>\n",
       "      <td>63884</td>\n",
       "      <td>71963</td>\n",
       "      <td>87238</td>\n",
       "      <td>23098</td>\n",
       "      <td>75871</td>\n",
       "      <td>67958</td>\n",
       "      <td>18184</td>\n",
       "      <td>77840</td>\n",
       "    </tr>\n",
       "    <tr>\n",
       "      <th>536846</th>\n",
       "      <td>21456</td>\n",
       "      <td>49450</td>\n",
       "      <td>36551</td>\n",
       "      <td>76367</td>\n",
       "      <td>84629</td>\n",
       "      <td>16291</td>\n",
       "      <td>26157</td>\n",
       "      <td>95699</td>\n",
       "      <td>42012</td>\n",
       "      <td>77123</td>\n",
       "    </tr>\n",
       "    <tr>\n",
       "      <th>68354</th>\n",
       "      <td>62942</td>\n",
       "      <td>46203</td>\n",
       "      <td>93783</td>\n",
       "      <td>31832</td>\n",
       "      <td>70630</td>\n",
       "      <td>11070</td>\n",
       "      <td>12223</td>\n",
       "      <td>70680</td>\n",
       "      <td>44719</td>\n",
       "      <td>97662</td>\n",
       "    </tr>\n",
       "    <tr>\n",
       "      <th>762302</th>\n",
       "      <td>93480</td>\n",
       "      <td>56636</td>\n",
       "      <td>21731</td>\n",
       "      <td>97577</td>\n",
       "      <td>39695</td>\n",
       "      <td>76943</td>\n",
       "      <td>69849</td>\n",
       "      <td>18469</td>\n",
       "      <td>72890</td>\n",
       "      <td>6036</td>\n",
       "    </tr>\n",
       "  </tbody>\n",
       "</table>\n",
       "<p>100000 rows × 10 columns</p>\n",
       "</div>"
      ],
      "text/plain": [
       "            A      B      C      D      E      F      G      H      I      J\n",
       "617759  36879  84324  73603  32948  60593    738  93216  15206  13316  38180\n",
       "693227  62189  41856  75178   8663  91741  49917  22169  94028  29544  21992\n",
       "906065   3389  33225   7469  41043  44902  98733  93387  81783  98299  27143\n",
       "828507  23604  40495  59706  13981  45413  62227  94580  98916   9444  74849\n",
       "869730  86687   9669  69459  76324  36541   5922  57708  21454  71504  94130\n",
       "...       ...    ...    ...    ...    ...    ...    ...    ...    ...    ...\n",
       "599633  11555  31553  84247  78328  60907   5493  29704  20797  98164  50449\n",
       "103907   2082  22102  63884  71963  87238  23098  75871  67958  18184  77840\n",
       "536846  21456  49450  36551  76367  84629  16291  26157  95699  42012  77123\n",
       "68354   62942  46203  93783  31832  70630  11070  12223  70680  44719  97662\n",
       "762302  93480  56636  21731  97577  39695  76943  69849  18469  72890   6036\n",
       "\n",
       "[100000 rows x 10 columns]"
      ]
     },
     "execution_count": 44,
     "metadata": {},
     "output_type": "execute_result"
    }
   ],
   "source": [
    "df.sample(frac=0.1, random_state=100)"
   ]
  },
  {
   "cell_type": "markdown",
   "metadata": {},
   "source": [
    "# 4. Manipulação de strings - métodos <a name=\"strings\"></a>\n",
    "<div style=\"text-align: right\"\n",
    "     \n",
    "[Voltar ao índice](#Contents)"
   ]
  },
  {
   "cell_type": "code",
   "execution_count": 7,
   "metadata": {
    "ExecuteTime": {
     "end_time": "2021-05-31T10:15:36.733921Z",
     "start_time": "2021-05-31T10:15:36.725926Z"
    }
   },
   "outputs": [],
   "source": [
    "texto = 'texto'"
   ]
  },
  {
   "cell_type": "code",
   "execution_count": 8,
   "metadata": {
    "ExecuteTime": {
     "end_time": "2021-05-31T10:15:41.550985Z",
     "start_time": "2021-05-31T10:15:41.536019Z"
    }
   },
   "outputs": [
    {
     "data": {
      "text/plain": [
       "'otxet'"
      ]
     },
     "execution_count": 8,
     "metadata": {},
     "output_type": "execute_result"
    }
   ],
   "source": [
    "texto[::-1]"
   ]
  },
  {
   "cell_type": "code",
   "execution_count": 9,
   "metadata": {
    "ExecuteTime": {
     "end_time": "2021-05-31T10:19:25.536743Z",
     "start_time": "2021-05-31T10:19:25.522752Z"
    }
   },
   "outputs": [],
   "source": [
    "palindromo = 'apos a sopa'"
   ]
  },
  {
   "cell_type": "code",
   "execution_count": 10,
   "metadata": {
    "ExecuteTime": {
     "end_time": "2021-05-31T10:19:26.240953Z",
     "start_time": "2021-05-31T10:19:26.225962Z"
    }
   },
   "outputs": [
    {
     "data": {
      "text/plain": [
       "'apos a sopa'"
      ]
     },
     "execution_count": 10,
     "metadata": {},
     "output_type": "execute_result"
    }
   ],
   "source": [
    "palindromo[::-1]"
   ]
  },
  {
   "cell_type": "code",
   "execution_count": 33,
   "metadata": {
    "ExecuteTime": {
     "end_time": "2021-06-01T09:56:36.677981Z",
     "start_time": "2021-06-01T09:56:36.662980Z"
    }
   },
   "outputs": [
    {
     "data": {
      "text/plain": [
       "'Texto'"
      ]
     },
     "execution_count": 33,
     "metadata": {},
     "output_type": "execute_result"
    }
   ],
   "source": [
    "texto = 'teXTO'\n",
    "texto.capitalize()"
   ]
  },
  {
   "cell_type": "code",
   "execution_count": 12,
   "metadata": {
    "ExecuteTime": {
     "end_time": "2021-06-01T09:56:49.873292Z",
     "start_time": "2021-06-01T09:56:49.864296Z"
    }
   },
   "outputs": [
    {
     "data": {
      "text/plain": [
       "'texto'"
      ]
     },
     "execution_count": 12,
     "metadata": {},
     "output_type": "execute_result"
    }
   ],
   "source": [
    "texto.lower()"
   ]
  },
  {
   "cell_type": "code",
   "execution_count": 13,
   "metadata": {
    "ExecuteTime": {
     "end_time": "2021-06-01T09:59:28.909681Z",
     "start_time": "2021-06-01T09:59:28.895687Z"
    }
   },
   "outputs": [
    {
     "data": {
      "text/plain": [
       "'TEXTO'"
      ]
     },
     "execution_count": 13,
     "metadata": {},
     "output_type": "execute_result"
    }
   ],
   "source": [
    "texto.upper()"
   ]
  },
  {
   "cell_type": "code",
   "execution_count": 21,
   "metadata": {
    "ExecuteTime": {
     "end_time": "2021-06-01T10:02:02.244478Z",
     "start_time": "2021-06-01T10:02:02.231486Z"
    }
   },
   "outputs": [
    {
     "data": {
      "text/plain": [
       "2"
      ]
     },
     "execution_count": 21,
     "metadata": {},
     "output_type": "execute_result"
    }
   ],
   "source": [
    "# S.find(sub[, start[, end]]) -> int\n",
    "texto.find('X')"
   ]
  },
  {
   "cell_type": "code",
   "execution_count": 23,
   "metadata": {
    "ExecuteTime": {
     "end_time": "2021-06-01T10:16:22.092756Z",
     "start_time": "2021-06-01T10:16:22.076776Z"
    }
   },
   "outputs": [
    {
     "data": {
      "text/plain": [
       "'X'"
      ]
     },
     "execution_count": 23,
     "metadata": {},
     "output_type": "execute_result"
    }
   ],
   "source": [
    "texto[2]"
   ]
  },
  {
   "cell_type": "code",
   "execution_count": 16,
   "metadata": {
    "ExecuteTime": {
     "end_time": "2021-06-01T10:02:03.055975Z",
     "start_time": "2021-06-01T10:02:03.038984Z"
    }
   },
   "outputs": [
    {
     "data": {
      "text/plain": [
       "-1"
      ]
     },
     "execution_count": 16,
     "metadata": {},
     "output_type": "execute_result"
    }
   ],
   "source": [
    "#S.find(sub[, start[, end]]) -> int\n",
    "texto.find('x')"
   ]
  },
  {
   "cell_type": "code",
   "execution_count": 34,
   "metadata": {
    "ExecuteTime": {
     "end_time": "2021-06-01T10:07:22.993769Z",
     "start_time": "2021-06-01T10:07:22.976796Z"
    }
   },
   "outputs": [
    {
     "data": {
      "text/plain": [
       "'testa'"
      ]
     },
     "execution_count": 34,
     "metadata": {},
     "output_type": "execute_result"
    }
   ],
   "source": [
    "#texto.replace(antigo, novo)\n",
    "texto.replace('XTO','sta')"
   ]
  },
  {
   "cell_type": "code",
   "execution_count": null,
   "metadata": {},
   "outputs": [],
   "source": []
  },
  {
   "cell_type": "code",
   "execution_count": null,
   "metadata": {},
   "outputs": [],
   "source": []
  }
 ],
 "metadata": {
  "kernelspec": {
   "display_name": "Python 3 (ipykernel)",
   "language": "python",
   "name": "python3"
  },
  "language_info": {
   "codemirror_mode": {
    "name": "ipython",
    "version": 3
   },
   "file_extension": ".py",
   "mimetype": "text/x-python",
   "name": "python",
   "nbconvert_exporter": "python",
   "pygments_lexer": "ipython3",
   "version": "3.10.11"
  },
  "varInspector": {
   "cols": {
    "lenName": 16,
    "lenType": 16,
    "lenVar": 40
   },
   "kernels_config": {
    "python": {
     "delete_cmd_postfix": "",
     "delete_cmd_prefix": "del ",
     "library": "var_list.py",
     "varRefreshCmd": "print(var_dic_list())"
    },
    "r": {
     "delete_cmd_postfix": ") ",
     "delete_cmd_prefix": "rm(",
     "library": "var_list.r",
     "varRefreshCmd": "cat(var_dic_list()) "
    }
   },
   "types_to_exclude": [
    "module",
    "function",
    "builtin_function_or_method",
    "instance",
    "_Feature"
   ],
   "window_display": false
  }
 },
 "nbformat": 4,
 "nbformat_minor": 4
}
